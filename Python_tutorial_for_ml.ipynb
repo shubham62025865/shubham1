{
  "nbformat": 4,
  "nbformat_minor": 0,
  "metadata": {
    "colab": {
      "provenance": [],
      "include_colab_link": true
    },
    "kernelspec": {
      "name": "python3",
      "display_name": "Python 3"
    },
    "language_info": {
      "name": "python"
    }
  },
  "cells": [
    {
      "cell_type": "markdown",
      "metadata": {
        "id": "view-in-github",
        "colab_type": "text"
      },
      "source": [
        "<a href=\"https://colab.research.google.com/github/shubham62025865/shubham1/blob/main/Python_tutorial_for_ml.ipynb\" target=\"_parent\"><img src=\"https://colab.research.google.com/assets/colab-badge.svg\" alt=\"Open In Colab\"/></a>"
      ]
    },
    {
      "cell_type": "code",
      "execution_count": null,
      "metadata": {
        "id": "FiBUwRXoO14N",
        "colab": {
          "base_uri": "https://localhost:8080/"
        },
        "outputId": "efb68e82-3a76-4ac6-ed93-34e46508e19b"
      },
      "outputs": [
        {
          "output_type": "stream",
          "name": "stdout",
          "text": [
            "Python 3.8.10\n"
          ]
        }
      ],
      "source": [
        "# Check the version of python\n",
        "!python -V"
      ]
    },
    {
      "cell_type": "markdown",
      "source": [
        "## print statement\n",
        "\n",
        "Python print() function prints the message to the screen or any other standard output"
      ],
      "metadata": {
        "id": "uoSmOWRbQxqd"
      }
    },
    {
      "cell_type": "code",
      "source": [
        "print(\"this is a print statement\")\n",
        "print('this is a print statement')\n",
        "print('''this is a print statement''')"
      ],
      "metadata": {
        "colab": {
          "base_uri": "https://localhost:8080/"
        },
        "id": "-xB7uWZmrLT6",
        "outputId": "63554ded-a9dd-4d8b-ca23-9823a17e6a4b"
      },
      "execution_count": null,
      "outputs": [
        {
          "output_type": "stream",
          "name": "stdout",
          "text": [
            "this is a print statement\n",
            "this is a print statement\n",
            "this is a print statement\n"
          ]
        }
      ]
    },
    {
      "cell_type": "code",
      "source": [
        "a = \"this is a print statement.\"\n",
        "b = 'this is a print statement.'\n",
        "c = '''this is a print statement,\n",
        "i am writing in new line\n",
        "'''\n",
        "\n",
        "print(a,b,c)"
      ],
      "metadata": {
        "colab": {
          "base_uri": "https://localhost:8080/"
        },
        "id": "LGtpGRsirc72",
        "outputId": "e203b802-c643-45fb-a165-8ceac72f5b76"
      },
      "execution_count": null,
      "outputs": [
        {
          "output_type": "stream",
          "name": "stdout",
          "text": [
            "this is a print statement. this is a print statement. this is a print statement,\n",
            "i am writing in new line\n",
            "\n"
          ]
        }
      ]
    },
    {
      "cell_type": "code",
      "source": [
        "print(\"i am learning python\")"
      ],
      "metadata": {
        "colab": {
          "base_uri": "https://localhost:8080/"
        },
        "id": "7bDOZyfpT4ee",
        "outputId": "dfc8a4f0-ae23-48f2-8a6b-089b66885d50"
      },
      "execution_count": null,
      "outputs": [
        {
          "output_type": "stream",
          "name": "stdout",
          "text": [
            "i am learning python\n"
          ]
        }
      ]
    },
    {
      "cell_type": "code",
      "source": [
        "print('hello world')"
      ],
      "metadata": {
        "colab": {
          "base_uri": "https://localhost:8080/"
        },
        "id": "TyjKKhtPMgQ_",
        "outputId": "d1a18f2b-546e-4bbd-afcc-1a4a1cbed774"
      },
      "execution_count": null,
      "outputs": [
        {
          "output_type": "stream",
          "name": "stdout",
          "text": [
            "hello world\n"
          ]
        }
      ]
    },
    {
      "cell_type": "code",
      "source": [
        "hello = \"hello world\"\n",
        "print(hello)"
      ],
      "metadata": {
        "colab": {
          "base_uri": "https://localhost:8080/"
        },
        "id": "t1uxNEbSM-cd",
        "outputId": "45c5576d-ed40-4705-e9e5-758af307896a"
      },
      "execution_count": null,
      "outputs": [
        {
          "output_type": "stream",
          "name": "stdout",
          "text": [
            "hello world\n"
          ]
        }
      ]
    },
    {
      "cell_type": "code",
      "source": [
        "print(\"hello world\")"
      ],
      "metadata": {
        "colab": {
          "base_uri": "https://localhost:8080/"
        },
        "id": "7krQmCBZNXoH",
        "outputId": "a736f9a8-a5df-46e9-941d-e18a8142e718"
      },
      "execution_count": null,
      "outputs": [
        {
          "output_type": "stream",
          "name": "stdout",
          "text": [
            "hello world\n"
          ]
        }
      ]
    },
    {
      "cell_type": "code",
      "source": [
        "print('''hello world''')"
      ],
      "metadata": {
        "colab": {
          "base_uri": "https://localhost:8080/"
        },
        "id": "L1sD4X64NjGI",
        "outputId": "023bc299-a8c1-475b-a113-73c2ffbe7597"
      },
      "execution_count": null,
      "outputs": [
        {
          "output_type": "stream",
          "name": "stdout",
          "text": [
            "hello world\n"
          ]
        }
      ]
    },
    {
      "cell_type": "code",
      "source": [
        "print(\"hello world\")"
      ],
      "metadata": {
        "colab": {
          "base_uri": "https://localhost:8080/"
        },
        "id": "OEt_AGaKRF0P",
        "outputId": "44cde44d-97d5-4a10-c248-2571a8ef5c5a"
      },
      "execution_count": null,
      "outputs": [
        {
          "output_type": "stream",
          "name": "stdout",
          "text": [
            "hello world\n"
          ]
        }
      ]
    },
    {
      "cell_type": "code",
      "source": [
        "print(\"A module is a file's containing's code which can be imported and used in our programs.\")"
      ],
      "metadata": {
        "colab": {
          "base_uri": "https://localhost:8080/"
        },
        "id": "LUPpNLjcN4Vc",
        "outputId": "611f5baa-2a64-43f6-f167-d384a646d1e3"
      },
      "execution_count": null,
      "outputs": [
        {
          "output_type": "stream",
          "name": "stdout",
          "text": [
            "A module is a file's containing code which can be imported and used in our programs.\n"
          ]
        }
      ]
    },
    {
      "cell_type": "code",
      "source": [
        "print(\"apple\")"
      ],
      "metadata": {
        "colab": {
          "base_uri": "https://localhost:8080/"
        },
        "id": "qTbgSJJKPDGD",
        "outputId": "a3ef1e84-9c3c-46b3-b0ac-9f6a46cbb80a"
      },
      "execution_count": null,
      "outputs": [
        {
          "output_type": "stream",
          "name": "stdout",
          "text": [
            "apple\n"
          ]
        }
      ]
    },
    {
      "cell_type": "markdown",
      "source": [
        "## Modules\n",
        "\n",
        "A module is a file containing code which can be imported and used in our programs.\n",
        "\n",
        "pip -: pip is the package manager for python you can use pip to install a module on your system\n",
        "\n",
        "\n",
        "```\n",
        "pip install scikit-learn\n",
        "\n",
        "```\n",
        "to install sklearn library in python\n"
      ],
      "metadata": {
        "id": "ULlkBN9sRy9Y"
      }
    },
    {
      "cell_type": "code",
      "source": [
        "print(\"apple\")"
      ],
      "metadata": {
        "colab": {
          "base_uri": "https://localhost:8080/"
        },
        "id": "K8UdUhsHU08L",
        "outputId": "3c1c8190-735a-4732-cc89-6b0138117d0c"
      },
      "execution_count": null,
      "outputs": [
        {
          "output_type": "stream",
          "name": "stdout",
          "text": [
            "apple\n"
          ]
        }
      ]
    },
    {
      "cell_type": "code",
      "source": [
        "!pip install scikit-learn"
      ],
      "metadata": {
        "colab": {
          "base_uri": "https://localhost:8080/"
        },
        "id": "-aU97t0ERNt0",
        "outputId": "6916bad0-c456-4648-a3d6-5b46d4de9e7f"
      },
      "execution_count": null,
      "outputs": [
        {
          "output_type": "stream",
          "name": "stdout",
          "text": [
            "Looking in indexes: https://pypi.org/simple, https://us-python.pkg.dev/colab-wheels/public/simple/\n",
            "Requirement already satisfied: scikit-learn in /usr/local/lib/python3.8/dist-packages (1.0.2)\n",
            "Requirement already satisfied: threadpoolctl>=2.0.0 in /usr/local/lib/python3.8/dist-packages (from scikit-learn) (3.1.0)\n",
            "Requirement already satisfied: joblib>=0.11 in /usr/local/lib/python3.8/dist-packages (from scikit-learn) (1.2.0)\n",
            "Requirement already satisfied: scipy>=1.1.0 in /usr/local/lib/python3.8/dist-packages (from scikit-learn) (1.7.3)\n",
            "Requirement already satisfied: numpy>=1.14.6 in /usr/local/lib/python3.8/dist-packages (from scikit-learn) (1.21.6)\n"
          ]
        }
      ]
    },
    {
      "cell_type": "code",
      "source": [
        "!pip install pandas"
      ],
      "metadata": {
        "colab": {
          "base_uri": "https://localhost:8080/"
        },
        "id": "vnjtAtYjSduW",
        "outputId": "93001251-39fe-4e6c-bf18-38e8fd5b41ea"
      },
      "execution_count": null,
      "outputs": [
        {
          "output_type": "stream",
          "name": "stdout",
          "text": [
            "Looking in indexes: https://pypi.org/simple, https://us-python.pkg.dev/colab-wheels/public/simple/\n",
            "Requirement already satisfied: pandas in /usr/local/lib/python3.8/dist-packages (1.3.5)\n",
            "Requirement already satisfied: python-dateutil>=2.7.3 in /usr/local/lib/python3.8/dist-packages (from pandas) (2.8.2)\n",
            "Requirement already satisfied: numpy>=1.17.3 in /usr/local/lib/python3.8/dist-packages (from pandas) (1.21.6)\n",
            "Requirement already satisfied: pytz>=2017.3 in /usr/local/lib/python3.8/dist-packages (from pandas) (2022.7)\n",
            "Requirement already satisfied: six>=1.5 in /usr/local/lib/python3.8/dist-packages (from python-dateutil>=2.7.3->pandas) (1.15.0)\n"
          ]
        }
      ]
    },
    {
      "cell_type": "code",
      "source": [
        "!pip install tensorflow"
      ],
      "metadata": {
        "colab": {
          "base_uri": "https://localhost:8080/"
        },
        "id": "POVoE59Gs6gk",
        "outputId": "cd74ebd1-3767-49a1-8ded-60151da86a40"
      },
      "execution_count": null,
      "outputs": [
        {
          "output_type": "stream",
          "name": "stdout",
          "text": [
            "Looking in indexes: https://pypi.org/simple, https://us-python.pkg.dev/colab-wheels/public/simple/\n",
            "Requirement already satisfied: tensorflow in /usr/local/lib/python3.8/dist-packages (2.9.2)\n",
            "Requirement already satisfied: typing-extensions>=3.6.6 in /usr/local/lib/python3.8/dist-packages (from tensorflow) (4.4.0)\n",
            "Requirement already satisfied: h5py>=2.9.0 in /usr/local/lib/python3.8/dist-packages (from tensorflow) (3.1.0)\n",
            "Requirement already satisfied: termcolor>=1.1.0 in /usr/local/lib/python3.8/dist-packages (from tensorflow) (2.2.0)\n",
            "Requirement already satisfied: packaging in /usr/local/lib/python3.8/dist-packages (from tensorflow) (21.3)\n",
            "Requirement already satisfied: flatbuffers<2,>=1.12 in /usr/local/lib/python3.8/dist-packages (from tensorflow) (1.12)\n",
            "Requirement already satisfied: astunparse>=1.6.0 in /usr/local/lib/python3.8/dist-packages (from tensorflow) (1.6.3)\n",
            "Requirement already satisfied: absl-py>=1.0.0 in /usr/local/lib/python3.8/dist-packages (from tensorflow) (1.3.0)\n",
            "Requirement already satisfied: protobuf<3.20,>=3.9.2 in /usr/local/lib/python3.8/dist-packages (from tensorflow) (3.19.6)\n",
            "Requirement already satisfied: keras-preprocessing>=1.1.1 in /usr/local/lib/python3.8/dist-packages (from tensorflow) (1.1.2)\n",
            "Requirement already satisfied: tensorflow-io-gcs-filesystem>=0.23.1 in /usr/local/lib/python3.8/dist-packages (from tensorflow) (0.29.0)\n",
            "Requirement already satisfied: keras<2.10.0,>=2.9.0rc0 in /usr/local/lib/python3.8/dist-packages (from tensorflow) (2.9.0)\n",
            "Requirement already satisfied: six>=1.12.0 in /usr/local/lib/python3.8/dist-packages (from tensorflow) (1.15.0)\n",
            "Requirement already satisfied: libclang>=13.0.0 in /usr/local/lib/python3.8/dist-packages (from tensorflow) (15.0.6.1)\n",
            "Requirement already satisfied: opt-einsum>=2.3.2 in /usr/local/lib/python3.8/dist-packages (from tensorflow) (3.3.0)\n",
            "Requirement already satisfied: numpy>=1.20 in /usr/local/lib/python3.8/dist-packages (from tensorflow) (1.21.6)\n",
            "Requirement already satisfied: tensorflow-estimator<2.10.0,>=2.9.0rc0 in /usr/local/lib/python3.8/dist-packages (from tensorflow) (2.9.0)\n",
            "Requirement already satisfied: google-pasta>=0.1.1 in /usr/local/lib/python3.8/dist-packages (from tensorflow) (0.2.0)\n",
            "Requirement already satisfied: gast<=0.4.0,>=0.2.1 in /usr/local/lib/python3.8/dist-packages (from tensorflow) (0.4.0)\n",
            "Requirement already satisfied: grpcio<2.0,>=1.24.3 in /usr/local/lib/python3.8/dist-packages (from tensorflow) (1.51.1)\n",
            "Requirement already satisfied: tensorboard<2.10,>=2.9 in /usr/local/lib/python3.8/dist-packages (from tensorflow) (2.9.1)\n",
            "Requirement already satisfied: setuptools in /usr/local/lib/python3.8/dist-packages (from tensorflow) (57.4.0)\n",
            "Requirement already satisfied: wrapt>=1.11.0 in /usr/local/lib/python3.8/dist-packages (from tensorflow) (1.14.1)\n",
            "Requirement already satisfied: wheel<1.0,>=0.23.0 in /usr/local/lib/python3.8/dist-packages (from astunparse>=1.6.0->tensorflow) (0.38.4)\n",
            "Requirement already satisfied: requests<3,>=2.21.0 in /usr/local/lib/python3.8/dist-packages (from tensorboard<2.10,>=2.9->tensorflow) (2.25.1)\n",
            "Requirement already satisfied: markdown>=2.6.8 in /usr/local/lib/python3.8/dist-packages (from tensorboard<2.10,>=2.9->tensorflow) (3.4.1)\n",
            "Requirement already satisfied: google-auth-oauthlib<0.5,>=0.4.1 in /usr/local/lib/python3.8/dist-packages (from tensorboard<2.10,>=2.9->tensorflow) (0.4.6)\n",
            "Requirement already satisfied: werkzeug>=1.0.1 in /usr/local/lib/python3.8/dist-packages (from tensorboard<2.10,>=2.9->tensorflow) (1.0.1)\n",
            "Requirement already satisfied: tensorboard-plugin-wit>=1.6.0 in /usr/local/lib/python3.8/dist-packages (from tensorboard<2.10,>=2.9->tensorflow) (1.8.1)\n",
            "Requirement already satisfied: tensorboard-data-server<0.7.0,>=0.6.0 in /usr/local/lib/python3.8/dist-packages (from tensorboard<2.10,>=2.9->tensorflow) (0.6.1)\n",
            "Requirement already satisfied: google-auth<3,>=1.6.3 in /usr/local/lib/python3.8/dist-packages (from tensorboard<2.10,>=2.9->tensorflow) (2.16.0)\n",
            "Requirement already satisfied: pyparsing!=3.0.5,>=2.0.2 in /usr/local/lib/python3.8/dist-packages (from packaging->tensorflow) (3.0.9)\n",
            "Requirement already satisfied: cachetools<6.0,>=2.0.0 in /usr/local/lib/python3.8/dist-packages (from google-auth<3,>=1.6.3->tensorboard<2.10,>=2.9->tensorflow) (5.2.1)\n",
            "Requirement already satisfied: rsa<5,>=3.1.4 in /usr/local/lib/python3.8/dist-packages (from google-auth<3,>=1.6.3->tensorboard<2.10,>=2.9->tensorflow) (4.9)\n",
            "Requirement already satisfied: pyasn1-modules>=0.2.1 in /usr/local/lib/python3.8/dist-packages (from google-auth<3,>=1.6.3->tensorboard<2.10,>=2.9->tensorflow) (0.2.8)\n",
            "Requirement already satisfied: requests-oauthlib>=0.7.0 in /usr/local/lib/python3.8/dist-packages (from google-auth-oauthlib<0.5,>=0.4.1->tensorboard<2.10,>=2.9->tensorflow) (1.3.1)\n",
            "Requirement already satisfied: importlib-metadata>=4.4 in /usr/local/lib/python3.8/dist-packages (from markdown>=2.6.8->tensorboard<2.10,>=2.9->tensorflow) (6.0.0)\n",
            "Requirement already satisfied: chardet<5,>=3.0.2 in /usr/local/lib/python3.8/dist-packages (from requests<3,>=2.21.0->tensorboard<2.10,>=2.9->tensorflow) (4.0.0)\n",
            "Requirement already satisfied: idna<3,>=2.5 in /usr/local/lib/python3.8/dist-packages (from requests<3,>=2.21.0->tensorboard<2.10,>=2.9->tensorflow) (2.10)\n",
            "Requirement already satisfied: urllib3<1.27,>=1.21.1 in /usr/local/lib/python3.8/dist-packages (from requests<3,>=2.21.0->tensorboard<2.10,>=2.9->tensorflow) (1.24.3)\n",
            "Requirement already satisfied: certifi>=2017.4.17 in /usr/local/lib/python3.8/dist-packages (from requests<3,>=2.21.0->tensorboard<2.10,>=2.9->tensorflow) (2022.12.7)\n",
            "Requirement already satisfied: zipp>=0.5 in /usr/local/lib/python3.8/dist-packages (from importlib-metadata>=4.4->markdown>=2.6.8->tensorboard<2.10,>=2.9->tensorflow) (3.11.0)\n",
            "Requirement already satisfied: pyasn1<0.5.0,>=0.4.6 in /usr/local/lib/python3.8/dist-packages (from pyasn1-modules>=0.2.1->google-auth<3,>=1.6.3->tensorboard<2.10,>=2.9->tensorflow) (0.4.8)\n",
            "Requirement already satisfied: oauthlib>=3.0.0 in /usr/local/lib/python3.8/dist-packages (from requests-oauthlib>=0.7.0->google-auth-oauthlib<0.5,>=0.4.1->tensorboard<2.10,>=2.9->tensorflow) (3.2.2)\n"
          ]
        }
      ]
    },
    {
      "cell_type": "code",
      "source": [
        "!pip install tensorflow==2.8.4"
      ],
      "metadata": {
        "colab": {
          "base_uri": "https://localhost:8080/"
        },
        "id": "EFqNhZYcRntY",
        "outputId": "8e6642f1-f033-410e-b636-4b92716b0908"
      },
      "execution_count": null,
      "outputs": [
        {
          "output_type": "stream",
          "name": "stdout",
          "text": [
            "Looking in indexes: https://pypi.org/simple, https://us-python.pkg.dev/colab-wheels/public/simple/\n",
            "Collecting tensorflow==2.8.4\n",
            "  Downloading tensorflow-2.8.4-cp38-cp38-manylinux2010_x86_64.whl (498.0 MB)\n",
            "\u001b[2K     \u001b[90m━━━━━━━━━━━━━━━━━━━━━━━━━━━━━━━━━━━━━━━\u001b[0m \u001b[32m498.0/498.0 MB\u001b[0m \u001b[31m2.2 MB/s\u001b[0m eta \u001b[36m0:00:00\u001b[0m\n",
            "\u001b[?25hRequirement already satisfied: termcolor>=1.1.0 in /usr/local/lib/python3.8/dist-packages (from tensorflow==2.8.4) (2.2.0)\n",
            "Requirement already satisfied: absl-py>=0.4.0 in /usr/local/lib/python3.8/dist-packages (from tensorflow==2.8.4) (1.3.0)\n",
            "Collecting tensorflow-estimator<2.9,>=2.8\n",
            "  Downloading tensorflow_estimator-2.8.0-py2.py3-none-any.whl (462 kB)\n",
            "\u001b[2K     \u001b[90m━━━━━━━━━━━━━━━━━━━━━━━━━━━━━━━━━━━━━━\u001b[0m \u001b[32m462.3/462.3 KB\u001b[0m \u001b[31m37.5 MB/s\u001b[0m eta \u001b[36m0:00:00\u001b[0m\n",
            "\u001b[?25hRequirement already satisfied: astunparse>=1.6.0 in /usr/local/lib/python3.8/dist-packages (from tensorflow==2.8.4) (1.6.3)\n",
            "Requirement already satisfied: six>=1.12.0 in /usr/local/lib/python3.8/dist-packages (from tensorflow==2.8.4) (1.15.0)\n",
            "Requirement already satisfied: protobuf<3.20,>=3.9.2 in /usr/local/lib/python3.8/dist-packages (from tensorflow==2.8.4) (3.19.6)\n",
            "Requirement already satisfied: flatbuffers>=1.12 in /usr/local/lib/python3.8/dist-packages (from tensorflow==2.8.4) (1.12)\n",
            "Requirement already satisfied: typing-extensions>=3.6.6 in /usr/local/lib/python3.8/dist-packages (from tensorflow==2.8.4) (4.4.0)\n",
            "Requirement already satisfied: grpcio<2.0,>=1.24.3 in /usr/local/lib/python3.8/dist-packages (from tensorflow==2.8.4) (1.51.1)\n",
            "Requirement already satisfied: numpy>=1.20 in /usr/local/lib/python3.8/dist-packages (from tensorflow==2.8.4) (1.21.6)\n",
            "Requirement already satisfied: google-pasta>=0.1.1 in /usr/local/lib/python3.8/dist-packages (from tensorflow==2.8.4) (0.2.0)\n",
            "Requirement already satisfied: opt-einsum>=2.3.2 in /usr/local/lib/python3.8/dist-packages (from tensorflow==2.8.4) (3.3.0)\n",
            "Requirement already satisfied: keras-preprocessing>=1.1.1 in /usr/local/lib/python3.8/dist-packages (from tensorflow==2.8.4) (1.1.2)\n",
            "Requirement already satisfied: wrapt>=1.11.0 in /usr/local/lib/python3.8/dist-packages (from tensorflow==2.8.4) (1.14.1)\n",
            "Requirement already satisfied: setuptools in /usr/local/lib/python3.8/dist-packages (from tensorflow==2.8.4) (57.4.0)\n",
            "Requirement already satisfied: libclang>=9.0.1 in /usr/local/lib/python3.8/dist-packages (from tensorflow==2.8.4) (15.0.6.1)\n",
            "Requirement already satisfied: h5py>=2.9.0 in /usr/local/lib/python3.8/dist-packages (from tensorflow==2.8.4) (3.1.0)\n",
            "Requirement already satisfied: tensorflow-io-gcs-filesystem>=0.23.1 in /usr/local/lib/python3.8/dist-packages (from tensorflow==2.8.4) (0.29.0)\n",
            "Collecting keras<2.9,>=2.8.0rc0\n",
            "  Downloading keras-2.8.0-py2.py3-none-any.whl (1.4 MB)\n",
            "\u001b[2K     \u001b[90m━━━━━━━━━━━━━━━━━━━━━━━━━━━━━━━━━━━━━━━━\u001b[0m \u001b[32m1.4/1.4 MB\u001b[0m \u001b[31m64.0 MB/s\u001b[0m eta \u001b[36m0:00:00\u001b[0m\n",
            "\u001b[?25hCollecting tensorboard<2.9,>=2.8\n",
            "  Downloading tensorboard-2.8.0-py3-none-any.whl (5.8 MB)\n",
            "\u001b[2K     \u001b[90m━━━━━━━━━━━━━━━━━━━━━━━━━━━━━━━━━━━━━━━━\u001b[0m \u001b[32m5.8/5.8 MB\u001b[0m \u001b[31m85.1 MB/s\u001b[0m eta \u001b[36m0:00:00\u001b[0m\n",
            "\u001b[?25hRequirement already satisfied: gast>=0.2.1 in /usr/local/lib/python3.8/dist-packages (from tensorflow==2.8.4) (0.4.0)\n",
            "Requirement already satisfied: wheel<1.0,>=0.23.0 in /usr/local/lib/python3.8/dist-packages (from astunparse>=1.6.0->tensorflow==2.8.4) (0.38.4)\n",
            "Requirement already satisfied: google-auth<3,>=1.6.3 in /usr/local/lib/python3.8/dist-packages (from tensorboard<2.9,>=2.8->tensorflow==2.8.4) (2.16.0)\n",
            "Requirement already satisfied: markdown>=2.6.8 in /usr/local/lib/python3.8/dist-packages (from tensorboard<2.9,>=2.8->tensorflow==2.8.4) (3.4.1)\n",
            "Requirement already satisfied: google-auth-oauthlib<0.5,>=0.4.1 in /usr/local/lib/python3.8/dist-packages (from tensorboard<2.9,>=2.8->tensorflow==2.8.4) (0.4.6)\n",
            "Requirement already satisfied: tensorboard-data-server<0.7.0,>=0.6.0 in /usr/local/lib/python3.8/dist-packages (from tensorboard<2.9,>=2.8->tensorflow==2.8.4) (0.6.1)\n",
            "Requirement already satisfied: requests<3,>=2.21.0 in /usr/local/lib/python3.8/dist-packages (from tensorboard<2.9,>=2.8->tensorflow==2.8.4) (2.25.1)\n",
            "Requirement already satisfied: werkzeug>=0.11.15 in /usr/local/lib/python3.8/dist-packages (from tensorboard<2.9,>=2.8->tensorflow==2.8.4) (1.0.1)\n",
            "Requirement already satisfied: tensorboard-plugin-wit>=1.6.0 in /usr/local/lib/python3.8/dist-packages (from tensorboard<2.9,>=2.8->tensorflow==2.8.4) (1.8.1)\n",
            "Requirement already satisfied: pyasn1-modules>=0.2.1 in /usr/local/lib/python3.8/dist-packages (from google-auth<3,>=1.6.3->tensorboard<2.9,>=2.8->tensorflow==2.8.4) (0.2.8)\n",
            "Requirement already satisfied: cachetools<6.0,>=2.0.0 in /usr/local/lib/python3.8/dist-packages (from google-auth<3,>=1.6.3->tensorboard<2.9,>=2.8->tensorflow==2.8.4) (5.2.1)\n",
            "Requirement already satisfied: rsa<5,>=3.1.4 in /usr/local/lib/python3.8/dist-packages (from google-auth<3,>=1.6.3->tensorboard<2.9,>=2.8->tensorflow==2.8.4) (4.9)\n",
            "Requirement already satisfied: requests-oauthlib>=0.7.0 in /usr/local/lib/python3.8/dist-packages (from google-auth-oauthlib<0.5,>=0.4.1->tensorboard<2.9,>=2.8->tensorflow==2.8.4) (1.3.1)\n",
            "Requirement already satisfied: importlib-metadata>=4.4 in /usr/local/lib/python3.8/dist-packages (from markdown>=2.6.8->tensorboard<2.9,>=2.8->tensorflow==2.8.4) (6.0.0)\n",
            "Requirement already satisfied: idna<3,>=2.5 in /usr/local/lib/python3.8/dist-packages (from requests<3,>=2.21.0->tensorboard<2.9,>=2.8->tensorflow==2.8.4) (2.10)\n",
            "Requirement already satisfied: chardet<5,>=3.0.2 in /usr/local/lib/python3.8/dist-packages (from requests<3,>=2.21.0->tensorboard<2.9,>=2.8->tensorflow==2.8.4) (4.0.0)\n",
            "Requirement already satisfied: certifi>=2017.4.17 in /usr/local/lib/python3.8/dist-packages (from requests<3,>=2.21.0->tensorboard<2.9,>=2.8->tensorflow==2.8.4) (2022.12.7)\n",
            "Requirement already satisfied: urllib3<1.27,>=1.21.1 in /usr/local/lib/python3.8/dist-packages (from requests<3,>=2.21.0->tensorboard<2.9,>=2.8->tensorflow==2.8.4) (1.24.3)\n",
            "Requirement already satisfied: zipp>=0.5 in /usr/local/lib/python3.8/dist-packages (from importlib-metadata>=4.4->markdown>=2.6.8->tensorboard<2.9,>=2.8->tensorflow==2.8.4) (3.11.0)\n",
            "Requirement already satisfied: pyasn1<0.5.0,>=0.4.6 in /usr/local/lib/python3.8/dist-packages (from pyasn1-modules>=0.2.1->google-auth<3,>=1.6.3->tensorboard<2.9,>=2.8->tensorflow==2.8.4) (0.4.8)\n",
            "Requirement already satisfied: oauthlib>=3.0.0 in /usr/local/lib/python3.8/dist-packages (from requests-oauthlib>=0.7.0->google-auth-oauthlib<0.5,>=0.4.1->tensorboard<2.9,>=2.8->tensorflow==2.8.4) (3.2.2)\n",
            "Installing collected packages: tensorflow-estimator, keras, tensorboard, tensorflow\n",
            "  Attempting uninstall: tensorflow-estimator\n",
            "    Found existing installation: tensorflow-estimator 2.9.0\n",
            "    Uninstalling tensorflow-estimator-2.9.0:\n",
            "      Successfully uninstalled tensorflow-estimator-2.9.0\n",
            "  Attempting uninstall: keras\n",
            "    Found existing installation: keras 2.9.0\n",
            "    Uninstalling keras-2.9.0:\n",
            "      Successfully uninstalled keras-2.9.0\n",
            "  Attempting uninstall: tensorboard\n",
            "    Found existing installation: tensorboard 2.9.1\n",
            "    Uninstalling tensorboard-2.9.1:\n",
            "      Successfully uninstalled tensorboard-2.9.1\n",
            "  Attempting uninstall: tensorflow\n",
            "    Found existing installation: tensorflow 2.9.2\n",
            "    Uninstalling tensorflow-2.9.2:\n",
            "      Successfully uninstalled tensorflow-2.9.2\n",
            "Successfully installed keras-2.8.0 tensorboard-2.8.0 tensorflow-2.8.4 tensorflow-estimator-2.8.0\n"
          ]
        }
      ]
    },
    {
      "cell_type": "code",
      "source": [
        "!pip install selenium"
      ],
      "metadata": {
        "colab": {
          "base_uri": "https://localhost:8080/"
        },
        "id": "rGdMx7mdVM15",
        "outputId": "ac8a4869-2e54-4b23-c5a2-43b11a1348d7"
      },
      "execution_count": null,
      "outputs": [
        {
          "output_type": "stream",
          "name": "stdout",
          "text": [
            "Looking in indexes: https://pypi.org/simple, https://us-python.pkg.dev/colab-wheels/public/simple/\n",
            "Collecting selenium\n",
            "  Downloading selenium-4.7.2-py3-none-any.whl (6.3 MB)\n",
            "\u001b[2K     \u001b[90m━━━━━━━━━━━━━━━━━━━━━━━━━━━━━━━━━━━━━━━━\u001b[0m \u001b[32m6.3/6.3 MB\u001b[0m \u001b[31m34.9 MB/s\u001b[0m eta \u001b[36m0:00:00\u001b[0m\n",
            "\u001b[?25hRequirement already satisfied: certifi>=2021.10.8 in /usr/local/lib/python3.8/dist-packages (from selenium) (2022.12.7)\n",
            "Collecting urllib3[socks]~=1.26\n",
            "  Downloading urllib3-1.26.14-py2.py3-none-any.whl (140 kB)\n",
            "\u001b[2K     \u001b[90m━━━━━━━━━━━━━━━━━━━━━━━━━━━━━━━━━━━━━━\u001b[0m \u001b[32m140.6/140.6 KB\u001b[0m \u001b[31m16.9 MB/s\u001b[0m eta \u001b[36m0:00:00\u001b[0m\n",
            "\u001b[?25hCollecting trio~=0.17\n",
            "  Downloading trio-0.22.0-py3-none-any.whl (384 kB)\n",
            "\u001b[2K     \u001b[90m━━━━━━━━━━━━━━━━━━━━━━━━━━━━━━━━━━━━━━\u001b[0m \u001b[32m384.9/384.9 KB\u001b[0m \u001b[31m34.5 MB/s\u001b[0m eta \u001b[36m0:00:00\u001b[0m\n",
            "\u001b[?25hCollecting trio-websocket~=0.9\n",
            "  Downloading trio_websocket-0.9.2-py3-none-any.whl (16 kB)\n",
            "Requirement already satisfied: attrs>=19.2.0 in /usr/local/lib/python3.8/dist-packages (from trio~=0.17->selenium) (22.2.0)\n",
            "Collecting outcome\n",
            "  Downloading outcome-1.2.0-py2.py3-none-any.whl (9.7 kB)\n",
            "Collecting exceptiongroup>=1.0.0rc9\n",
            "  Downloading exceptiongroup-1.1.0-py3-none-any.whl (14 kB)\n",
            "Collecting sniffio\n",
            "  Downloading sniffio-1.3.0-py3-none-any.whl (10 kB)\n",
            "Requirement already satisfied: sortedcontainers in /usr/local/lib/python3.8/dist-packages (from trio~=0.17->selenium) (2.4.0)\n",
            "Requirement already satisfied: idna in /usr/local/lib/python3.8/dist-packages (from trio~=0.17->selenium) (2.10)\n",
            "Collecting async-generator>=1.9\n",
            "  Downloading async_generator-1.10-py3-none-any.whl (18 kB)\n",
            "Collecting wsproto>=0.14\n",
            "  Downloading wsproto-1.2.0-py3-none-any.whl (24 kB)\n",
            "Requirement already satisfied: PySocks!=1.5.7,<2.0,>=1.5.6 in /usr/local/lib/python3.8/dist-packages (from urllib3[socks]~=1.26->selenium) (1.7.1)\n",
            "Collecting h11<1,>=0.9.0\n",
            "  Downloading h11-0.14.0-py3-none-any.whl (58 kB)\n",
            "\u001b[2K     \u001b[90m━━━━━━━━━━━━━━━━━━━━━━━━━━━━━━━━━━━━━━━━\u001b[0m \u001b[32m58.3/58.3 KB\u001b[0m \u001b[31m6.0 MB/s\u001b[0m eta \u001b[36m0:00:00\u001b[0m\n",
            "\u001b[?25hInstalling collected packages: urllib3, sniffio, outcome, h11, exceptiongroup, async-generator, wsproto, trio, trio-websocket, selenium\n",
            "  Attempting uninstall: urllib3\n",
            "    Found existing installation: urllib3 1.24.3\n",
            "    Uninstalling urllib3-1.24.3:\n",
            "      Successfully uninstalled urllib3-1.24.3\n",
            "Successfully installed async-generator-1.10 exceptiongroup-1.1.0 h11-0.14.0 outcome-1.2.0 selenium-4.7.2 sniffio-1.3.0 trio-0.22.0 trio-websocket-0.9.2 urllib3-1.26.14 wsproto-1.2.0\n"
          ]
        }
      ]
    },
    {
      "cell_type": "markdown",
      "source": [
        "### Types of modules\n",
        "\n",
        "\n",
        "\n",
        "1.   **Built in modules** - pre installed in python eg. os,abs\n",
        "\n",
        "2.   **External modules** - need to install using pip eg. tensorflow, flask etc.\n",
        "\n"
      ],
      "metadata": {
        "id": "0a5YzTn9S-M_"
      }
    },
    {
      "cell_type": "markdown",
      "source": [
        "## Python as a calculator"
      ],
      "metadata": {
        "id": "5ZBKR9DfULBt"
      }
    },
    {
      "cell_type": "code",
      "source": [
        "# add numbers\n",
        "20+10"
      ],
      "metadata": {
        "colab": {
          "base_uri": "https://localhost:8080/"
        },
        "id": "rV11KBrhSz6S",
        "outputId": "d4460efd-0f11-4805-928c-a379a706f013"
      },
      "execution_count": null,
      "outputs": [
        {
          "output_type": "execute_result",
          "data": {
            "text/plain": [
              "30"
            ]
          },
          "metadata": {},
          "execution_count": 10
        }
      ]
    },
    {
      "cell_type": "code",
      "source": [
        "10+5+20"
      ],
      "metadata": {
        "colab": {
          "base_uri": "https://localhost:8080/"
        },
        "id": "ZRl3vsVfXED4",
        "outputId": "53a42a91-7cf6-4803-e791-36acc55e713b"
      },
      "execution_count": null,
      "outputs": [
        {
          "output_type": "execute_result",
          "data": {
            "text/plain": [
              "35"
            ]
          },
          "metadata": {},
          "execution_count": 4
        }
      ]
    },
    {
      "cell_type": "code",
      "source": [
        "# substract operation\n",
        "5-3"
      ],
      "metadata": {
        "colab": {
          "base_uri": "https://localhost:8080/"
        },
        "id": "qkNxmJ3qTQfe",
        "outputId": "5e308b13-db79-4648-cb81-cfaf5ece4830"
      },
      "execution_count": null,
      "outputs": [
        {
          "output_type": "execute_result",
          "data": {
            "text/plain": [
              "2"
            ]
          },
          "metadata": {},
          "execution_count": 11
        }
      ]
    },
    {
      "cell_type": "code",
      "source": [
        "3-5"
      ],
      "metadata": {
        "colab": {
          "base_uri": "https://localhost:8080/"
        },
        "id": "KxeadrDaXJgv",
        "outputId": "dd506ecc-4e69-4a65-acf7-ea03f1290909"
      },
      "execution_count": null,
      "outputs": [
        {
          "output_type": "execute_result",
          "data": {
            "text/plain": [
              "-2"
            ]
          },
          "metadata": {},
          "execution_count": 12
        }
      ]
    },
    {
      "cell_type": "code",
      "source": [
        "# mutiplication operation\n",
        "4 * 2"
      ],
      "metadata": {
        "colab": {
          "base_uri": "https://localhost:8080/"
        },
        "id": "LGWyPTcbUmuX",
        "outputId": "8b34e36f-19d8-4bb0-a225-c9af17765c3f"
      },
      "execution_count": null,
      "outputs": [
        {
          "output_type": "execute_result",
          "data": {
            "text/plain": [
              "8"
            ]
          },
          "metadata": {},
          "execution_count": 13
        }
      ]
    },
    {
      "cell_type": "code",
      "source": [
        "(5*2 +3)/4"
      ],
      "metadata": {
        "colab": {
          "base_uri": "https://localhost:8080/"
        },
        "id": "N9DApiTDXWiH",
        "outputId": "7df0ddb8-bff1-4393-b3d5-643c0c2fa424"
      },
      "execution_count": null,
      "outputs": [
        {
          "output_type": "execute_result",
          "data": {
            "text/plain": [
              "3.25"
            ]
          },
          "metadata": {},
          "execution_count": 7
        }
      ]
    },
    {
      "cell_type": "code",
      "source": [],
      "metadata": {
        "id": "HEiTIVbWVirg"
      },
      "execution_count": null,
      "outputs": []
    },
    {
      "cell_type": "code",
      "source": [
        "13/4"
      ],
      "metadata": {
        "colab": {
          "base_uri": "https://localhost:8080/"
        },
        "id": "aoWuQk6PXzKZ",
        "outputId": "faa00657-0edc-4b5b-d00e-ffb2927048d1"
      },
      "execution_count": null,
      "outputs": [
        {
          "output_type": "execute_result",
          "data": {
            "text/plain": [
              "3.25"
            ]
          },
          "metadata": {},
          "execution_count": 14
        }
      ]
    },
    {
      "cell_type": "code",
      "source": [
        "# division operation\n",
        "5 / 3"
      ],
      "metadata": {
        "colab": {
          "base_uri": "https://localhost:8080/"
        },
        "id": "t_ckmqdiUvN0",
        "outputId": "04ca5962-6c85-4936-bbc9-96035ce6e692"
      },
      "execution_count": null,
      "outputs": [
        {
          "output_type": "execute_result",
          "data": {
            "text/plain": [
              "1.6666666666666667"
            ]
          },
          "metadata": {},
          "execution_count": 31
        }
      ]
    },
    {
      "cell_type": "code",
      "source": [
        "5/3"
      ],
      "metadata": {
        "colab": {
          "base_uri": "https://localhost:8080/"
        },
        "id": "iq_GD9v6uHEB",
        "outputId": "7013d6f3-fdb4-4e67-c3dd-477f0e65a93b"
      },
      "execution_count": null,
      "outputs": [
        {
          "output_type": "execute_result",
          "data": {
            "text/plain": [
              "1.6666666666666667"
            ]
          },
          "metadata": {},
          "execution_count": 17
        }
      ]
    },
    {
      "cell_type": "code",
      "source": [
        "# modulus operation (to get remainder of a division)\n",
        "5 % 3"
      ],
      "metadata": {
        "colab": {
          "base_uri": "https://localhost:8080/"
        },
        "id": "0rLC9tbdU0qV",
        "outputId": "d3a4a65c-e775-441d-decf-0fc8d115ab74"
      },
      "execution_count": null,
      "outputs": [
        {
          "output_type": "execute_result",
          "data": {
            "text/plain": [
              "2"
            ]
          },
          "metadata": {},
          "execution_count": 15
        }
      ]
    },
    {
      "cell_type": "code",
      "source": [
        "5 // 3"
      ],
      "metadata": {
        "colab": {
          "base_uri": "https://localhost:8080/"
        },
        "id": "m7PgvokCuNmB",
        "outputId": "6c5239c3-c5f1-4485-b4d0-b1de47a671f5"
      },
      "execution_count": null,
      "outputs": [
        {
          "output_type": "execute_result",
          "data": {
            "text/plain": [
              "1"
            ]
          },
          "metadata": {},
          "execution_count": 18
        }
      ]
    },
    {
      "cell_type": "code",
      "source": [
        "2**3"
      ],
      "metadata": {
        "colab": {
          "base_uri": "https://localhost:8080/"
        },
        "id": "MRSG5Ah9uaH7",
        "outputId": "2e7a5206-2b65-4ab0-aa42-0fa8ed161394"
      },
      "execution_count": null,
      "outputs": [
        {
          "output_type": "execute_result",
          "data": {
            "text/plain": [
              "8"
            ]
          },
          "metadata": {},
          "execution_count": 19
        }
      ]
    },
    {
      "cell_type": "code",
      "source": [
        "x = 2\n",
        "3**x"
      ],
      "metadata": {
        "colab": {
          "base_uri": "https://localhost:8080/"
        },
        "id": "x7iLTzBOY4f_",
        "outputId": "61848ff5-7af0-4691-b81a-f2bb714fa6f7"
      },
      "execution_count": null,
      "outputs": [
        {
          "output_type": "execute_result",
          "data": {
            "text/plain": [
              "9"
            ]
          },
          "metadata": {},
          "execution_count": 20
        }
      ]
    },
    {
      "cell_type": "code",
      "source": [
        "import math\n",
        "math.multiplication(9)"
      ],
      "metadata": {
        "colab": {
          "base_uri": "https://localhost:8080/"
        },
        "id": "gkY448g6usUF",
        "outputId": "2ce36612-34b2-415f-e598-23ac0aeb9a02"
      },
      "execution_count": null,
      "outputs": [
        {
          "output_type": "execute_result",
          "data": {
            "text/plain": [
              "3.0"
            ]
          },
          "metadata": {},
          "execution_count": 21
        }
      ]
    },
    {
      "cell_type": "code",
      "source": [
        "import math\n",
        "math.sqrt(25)"
      ],
      "metadata": {
        "colab": {
          "base_uri": "https://localhost:8080/"
        },
        "id": "i9YvWwN9VxvW",
        "outputId": "ec0546dd-1993-4db6-ba44-3393be03373c"
      },
      "execution_count": null,
      "outputs": [
        {
          "output_type": "execute_result",
          "data": {
            "text/plain": [
              "5.0"
            ]
          },
          "metadata": {},
          "execution_count": 6
        }
      ]
    },
    {
      "cell_type": "code",
      "source": [
        "a = [2,3,4]\n",
        "math.prod(a)"
      ],
      "metadata": {
        "colab": {
          "base_uri": "https://localhost:8080/"
        },
        "id": "EZOJjyE2vjVq",
        "outputId": "99ef8cc7-6ed3-4220-a268-d5220fa25c09"
      },
      "execution_count": null,
      "outputs": [
        {
          "output_type": "execute_result",
          "data": {
            "text/plain": [
              "24"
            ]
          },
          "metadata": {},
          "execution_count": 22
        }
      ]
    },
    {
      "cell_type": "code",
      "source": [
        "1.2 / .2"
      ],
      "metadata": {
        "colab": {
          "base_uri": "https://localhost:8080/"
        },
        "id": "-NWnt71BZBsT",
        "outputId": "868a9a92-9660-47a8-a9c1-99e1a76f0b4d"
      },
      "execution_count": null,
      "outputs": [
        {
          "output_type": "execute_result",
          "data": {
            "text/plain": [
              "5.999999999999999"
            ]
          },
          "metadata": {},
          "execution_count": 43
        }
      ]
    },
    {
      "cell_type": "code",
      "source": [
        "125/2"
      ],
      "metadata": {
        "colab": {
          "base_uri": "https://localhost:8080/"
        },
        "id": "pbKGakc7XyLe",
        "outputId": "2409cb06-2838-4b4c-a8d1-3f9e526c82e7"
      },
      "execution_count": null,
      "outputs": [
        {
          "output_type": "execute_result",
          "data": {
            "text/plain": [
              "62.5"
            ]
          },
          "metadata": {},
          "execution_count": 11
        }
      ]
    },
    {
      "cell_type": "code",
      "source": [
        "125//2"
      ],
      "metadata": {
        "colab": {
          "base_uri": "https://localhost:8080/"
        },
        "id": "IZF9662mX0zF",
        "outputId": "bbb40e89-65ce-4b06-c34e-973fa68df680"
      },
      "execution_count": null,
      "outputs": [
        {
          "output_type": "execute_result",
          "data": {
            "text/plain": [
              "62"
            ]
          },
          "metadata": {},
          "execution_count": 12
        }
      ]
    },
    {
      "cell_type": "code",
      "source": [
        "1.2//.2"
      ],
      "metadata": {
        "colab": {
          "base_uri": "https://localhost:8080/"
        },
        "id": "sn4fpp2Iacx9",
        "outputId": "69a1a8f4-b134-4721-d12d-23d3c364d91f"
      },
      "execution_count": null,
      "outputs": [
        {
          "output_type": "execute_result",
          "data": {
            "text/plain": [
              "5.0"
            ]
          },
          "metadata": {},
          "execution_count": 44
        }
      ]
    },
    {
      "cell_type": "markdown",
      "source": [
        "![image.png](data:image/png;base64,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)"
      ],
      "metadata": {
        "id": "KlNWBaOBVpAn"
      }
    },
    {
      "cell_type": "markdown",
      "source": [
        "## Comments\n",
        "\n",
        "comments are used to write something (usually information about python code) which programer doesn't want to execte. can be used to mark author name , date etc.\n",
        "\n",
        "\n",
        "\n",
        "> There are two types of comments in python\n",
        "\n",
        "\n",
        "> 1.   ***Single line comment***- written using #, \" \", ' '\n",
        "> 2.   ***Multi line comment***- written using ''' '''\n",
        "\n",
        "\n",
        "\n",
        "\n"
      ],
      "metadata": {
        "id": "eME1_8OcWQIK"
      }
    },
    {
      "cell_type": "code",
      "source": [
        "# this is a comment\n",
        "\n",
        "\"this is a comment\"\n",
        "'this is a comment'"
      ],
      "metadata": {
        "id": "efu9jpBNwKq9"
      },
      "execution_count": null,
      "outputs": []
    },
    {
      "cell_type": "code",
      "source": [
        "'''this is a multiline comment\n",
        "  this takes input from user\n",
        "  and gives output in integer form\n",
        "'''\n",
        "a = 5\n",
        "\n",
        "print(a*5)"
      ],
      "metadata": {
        "colab": {
          "base_uri": "https://localhost:8080/"
        },
        "id": "kRWAlbSzwZ69",
        "outputId": "41241f1c-8b45-4483-9a62-78cee5b690bb"
      },
      "execution_count": null,
      "outputs": [
        {
          "output_type": "stream",
          "name": "stdout",
          "text": [
            "25\n"
          ]
        }
      ]
    },
    {
      "cell_type": "code",
      "source": [
        "# program for multiplication of two numbers 5*3\n",
        "5*3"
      ],
      "metadata": {
        "colab": {
          "base_uri": "https://localhost:8080/"
        },
        "id": "_PigB5hwcYgN",
        "outputId": "685f6025-9b93-49fa-9d18-135207639569"
      },
      "execution_count": null,
      "outputs": [
        {
          "output_type": "execute_result",
          "data": {
            "text/plain": [
              "15"
            ]
          },
          "metadata": {},
          "execution_count": 45
        }
      ]
    },
    {
      "cell_type": "code",
      "source": [
        "'program for substraction'\n",
        "5-3"
      ],
      "metadata": {
        "colab": {
          "base_uri": "https://localhost:8080/"
        },
        "id": "t2367T7Icygv",
        "outputId": "0ef540f2-772c-4c78-a5dc-35a8de3d9f3b"
      },
      "execution_count": null,
      "outputs": [
        {
          "output_type": "execute_result",
          "data": {
            "text/plain": [
              "2"
            ]
          },
          "metadata": {},
          "execution_count": 50
        }
      ]
    },
    {
      "cell_type": "code",
      "source": [
        "'''i like apples '''\n",
        "5 % 3"
      ],
      "metadata": {
        "colab": {
          "base_uri": "https://localhost:8080/"
        },
        "id": "9VVvErpdc8Rz",
        "outputId": "04f767ec-7895-4693-92aa-3a95837fdf44"
      },
      "execution_count": null,
      "outputs": [
        {
          "output_type": "execute_result",
          "data": {
            "text/plain": [
              "2"
            ]
          },
          "metadata": {},
          "execution_count": 52
        }
      ]
    },
    {
      "cell_type": "code",
      "source": [
        "# this is a comment\n",
        "3 + 2"
      ],
      "metadata": {
        "colab": {
          "base_uri": "https://localhost:8080/"
        },
        "id": "58Nef74jU72P",
        "outputId": "6adb0b43-6265-40ff-9339-6a86abcc326b"
      },
      "execution_count": null,
      "outputs": [
        {
          "output_type": "execute_result",
          "data": {
            "text/plain": [
              "5"
            ]
          },
          "metadata": {},
          "execution_count": 18
        }
      ]
    },
    {
      "cell_type": "code",
      "source": [
        "'''\n",
        "this is a comment,\n",
        "addition of two numbers using + oprator\n",
        "'''\n",
        "3 + 2"
      ],
      "metadata": {
        "colab": {
          "base_uri": "https://localhost:8080/"
        },
        "id": "NgI09jlNVSgC",
        "outputId": "6fddde06-c432-4e06-f5ef-b78068b284e9"
      },
      "execution_count": null,
      "outputs": [
        {
          "output_type": "execute_result",
          "data": {
            "text/plain": [
              "5"
            ]
          },
          "metadata": {},
          "execution_count": 51
        }
      ]
    },
    {
      "cell_type": "markdown",
      "source": [
        "\" \", ' ' and ''' ''' also used with print statemnt"
      ],
      "metadata": {
        "id": "ZXEtRlNHZgHC"
      }
    },
    {
      "cell_type": "markdown",
      "source": [
        "iron man is awesome\n",
        "\n",
        "bat man is dark\n",
        "\n",
        "__ man is __"
      ],
      "metadata": {
        "id": "OAx-Il5ixM-v"
      }
    },
    {
      "cell_type": "code",
      "source": [
        "a = \"bat\"\n",
        "b = \"dark\"\n",
        "\n",
        "print(a, \"man is\", b)"
      ],
      "metadata": {
        "colab": {
          "base_uri": "https://localhost:8080/"
        },
        "id": "GJwnaRyNxJuU",
        "outputId": "21a22e44-3a0c-45f5-ebf2-d909813a25e4"
      },
      "execution_count": null,
      "outputs": [
        {
          "output_type": "stream",
          "name": "stdout",
          "text": [
            "bat man is dark\n"
          ]
        }
      ]
    },
    {
      "cell_type": "code",
      "source": [
        "a = \"bat\"\n",
        "b = \"dark\"\n",
        "\n",
        "print(f\"{a}man is {b}\")"
      ],
      "metadata": {
        "colab": {
          "base_uri": "https://localhost:8080/"
        },
        "id": "pvrQJjYs45mX",
        "outputId": "988c42bd-f8a2-43d1-f247-c67b8f68139f"
      },
      "execution_count": null,
      "outputs": [
        {
          "output_type": "stream",
          "name": "stdout",
          "text": [
            "batman is dark\n"
          ]
        }
      ]
    },
    {
      "cell_type": "code",
      "source": [
        "a = 5\n",
        "print(a)"
      ],
      "metadata": {
        "colab": {
          "base_uri": "https://localhost:8080/"
        },
        "id": "EuMhzdO6gHgn",
        "outputId": "0330057e-f5ec-4bb5-b6ba-63dd1112da4a"
      },
      "execution_count": null,
      "outputs": [
        {
          "output_type": "stream",
          "name": "stdout",
          "text": [
            "5\n"
          ]
        }
      ]
    },
    {
      "cell_type": "code",
      "source": [
        "a = \"bat\"\n",
        "print(\"the value of a is\",a, \"man\")"
      ],
      "metadata": {
        "colab": {
          "base_uri": "https://localhost:8080/"
        },
        "id": "SNiU-VfXfKk2",
        "outputId": "6a82b69a-55cb-41f6-b925-669044d62eaf"
      },
      "execution_count": null,
      "outputs": [
        {
          "output_type": "stream",
          "name": "stdout",
          "text": [
            "the value of a is bat man\n"
          ]
        }
      ]
    },
    {
      "cell_type": "code",
      "source": [
        "a = 10"
      ],
      "metadata": {
        "id": "9SDi2JUAg6W3"
      },
      "execution_count": null,
      "outputs": []
    },
    {
      "cell_type": "code",
      "source": [
        "a = \"iron\"\n",
        "b = \"man\"\n",
        "print(a,b, \"is awesome\")\n",
        "# print(b)"
      ],
      "metadata": {
        "colab": {
          "base_uri": "https://localhost:8080/"
        },
        "id": "7C5-EMckhuFs",
        "outputId": "ff40f966-e467-4452-8141-9aa86c68b9f2"
      },
      "execution_count": null,
      "outputs": [
        {
          "output_type": "stream",
          "name": "stdout",
          "text": [
            "iron man is awesome\n"
          ]
        }
      ]
    },
    {
      "cell_type": "code",
      "source": [],
      "metadata": {
        "colab": {
          "base_uri": "https://localhost:8080/"
        },
        "id": "p7l0AkSvZG11",
        "outputId": "5a6cffac-2615-4565-e415-996ac518913d"
      },
      "execution_count": null,
      "outputs": [
        {
          "output_type": "stream",
          "name": "stdout",
          "text": [
            "The area of the circle with Radius 15  =  706.5\n",
            "706.5\n"
          ]
        }
      ]
    },
    {
      "cell_type": "code",
      "source": [
        "# write a program to convert farenhieght into celcius"
      ],
      "metadata": {
        "id": "2RMuO0QXaqAh"
      },
      "execution_count": null,
      "outputs": []
    },
    {
      "cell_type": "code",
      "source": [
        "print(\"the value of variable a: \", a)"
      ],
      "metadata": {
        "colab": {
          "base_uri": "https://localhost:8080/"
        },
        "id": "1s753usXg-mV",
        "outputId": "025e73bf-0edf-4a65-b28c-b6e7d05fcea2"
      },
      "execution_count": null,
      "outputs": [
        {
          "output_type": "stream",
          "name": "stdout",
          "text": [
            "the value of variable a:  10\n"
          ]
        }
      ]
    },
    {
      "cell_type": "code",
      "source": [
        "a = 5\n",
        "print(\"the value of variable a: \", a)"
      ],
      "metadata": {
        "colab": {
          "base_uri": "https://localhost:8080/"
        },
        "id": "gecyPKc0ZH54",
        "outputId": "70a0f95c-0a1c-4994-e265-bdc874ea5826"
      },
      "execution_count": null,
      "outputs": [
        {
          "output_type": "stream",
          "name": "stdout",
          "text": [
            "the value of variable a:  5\n"
          ]
        }
      ]
    },
    {
      "cell_type": "code",
      "source": [
        "a = 5\n",
        "print('the value of variable a: ', a)"
      ],
      "metadata": {
        "colab": {
          "base_uri": "https://localhost:8080/"
        },
        "id": "DzmLxq1XaBdt",
        "outputId": "af0a76c0-4cf3-4b23-8ff8-b95c75a90be8"
      },
      "execution_count": null,
      "outputs": [
        {
          "output_type": "stream",
          "name": "stdout",
          "text": [
            "the value of variable a:  5\n"
          ]
        }
      ]
    },
    {
      "cell_type": "code",
      "source": [
        "radius = 15\n",
        "\n",
        "area = (22/7) * radius**2\n",
        "\n",
        "print(\"the value of area for circle : \", area)"
      ],
      "metadata": {
        "colab": {
          "base_uri": "https://localhost:8080/"
        },
        "id": "nB65_16wyp0E",
        "outputId": "4c42dd4c-f05c-4d23-f8aa-4d3ab46d0ce5"
      },
      "execution_count": null,
      "outputs": [
        {
          "output_type": "stream",
          "name": "stdout",
          "text": [
            "the value of area for circle :  707.1428571428571\n"
          ]
        }
      ]
    },
    {
      "cell_type": "code",
      "source": [
        "# write a program to get the area of a circle by providing different values of radius\n",
        "\n",
        "radius = 21\n",
        "# area = 3.14 * radius**2\n",
        "print(\"The area of the circle with Radius\", radius,\" = \", 3.14 * radius**2)\n",
        "# print(area)"
      ],
      "metadata": {
        "id": "GcJbM6yrbICI",
        "colab": {
          "base_uri": "https://localhost:8080/"
        },
        "outputId": "491dfcbf-960c-4e8e-c48f-3deee7650be4"
      },
      "execution_count": null,
      "outputs": [
        {
          "output_type": "stream",
          "name": "stdout",
          "text": [
            "The area of the circle with Radius 21  =  1384.74\n"
          ]
        }
      ]
    },
    {
      "cell_type": "code",
      "source": [
        "print(f\"The area of the circle with radius {radius} = {area}\")"
      ],
      "metadata": {
        "colab": {
          "base_uri": "https://localhost:8080/"
        },
        "id": "YSiQr9Ntb076",
        "outputId": "44591b33-1e79-4cc0-f22d-db559ddb1221"
      },
      "execution_count": null,
      "outputs": [
        {
          "output_type": "stream",
          "name": "stdout",
          "text": [
            "The area of the circle with radius 15 = 706.5\n"
          ]
        }
      ]
    },
    {
      "cell_type": "code",
      "source": [
        "a = 26\n",
        "b = \"26\"\n",
        "# print(a)\n",
        "print(a)\n",
        "b"
      ],
      "metadata": {
        "colab": {
          "base_uri": "https://localhost:8080/",
          "height": 53
        },
        "id": "lEnOpYWVdZwt",
        "outputId": "0b687cca-766a-4c23-bc3d-38c90a180ba7"
      },
      "execution_count": null,
      "outputs": [
        {
          "output_type": "stream",
          "name": "stdout",
          "text": [
            "26\n"
          ]
        },
        {
          "output_type": "execute_result",
          "data": {
            "text/plain": [
              "'26'"
            ],
            "application/vnd.google.colaboratory.intrinsic+json": {
              "type": "string"
            }
          },
          "metadata": {},
          "execution_count": 29
        }
      ]
    },
    {
      "cell_type": "code",
      "source": [
        "type(a), type(b)"
      ],
      "metadata": {
        "colab": {
          "base_uri": "https://localhost:8080/"
        },
        "id": "zMzmusCQ0NXF",
        "outputId": "28aafb23-ccf9-489f-82c3-6fb8e825db41"
      },
      "execution_count": null,
      "outputs": [
        {
          "output_type": "execute_result",
          "data": {
            "text/plain": [
              "(int, str)"
            ]
          },
          "metadata": {},
          "execution_count": 31
        }
      ]
    },
    {
      "cell_type": "code",
      "source": [
        "str(a)"
      ],
      "metadata": {
        "colab": {
          "base_uri": "https://localhost:8080/",
          "height": 35
        },
        "id": "Li16nze50z_Q",
        "outputId": "11008620-3c2c-452b-966b-30fee8274412"
      },
      "execution_count": null,
      "outputs": [
        {
          "output_type": "execute_result",
          "data": {
            "text/plain": [
              "'26'"
            ],
            "application/vnd.google.colaboratory.intrinsic+json": {
              "type": "string"
            }
          },
          "metadata": {},
          "execution_count": 35
        }
      ]
    },
    {
      "cell_type": "code",
      "source": [
        "b = \"33.6\"\n",
        "b"
      ],
      "metadata": {
        "colab": {
          "base_uri": "https://localhost:8080/",
          "height": 35
        },
        "id": "zq2H0uck0sJ7",
        "outputId": "abadfc1d-bd61-4b81-dd10-4e9982636557"
      },
      "execution_count": null,
      "outputs": [
        {
          "output_type": "execute_result",
          "data": {
            "text/plain": [
              "'33.6'"
            ],
            "application/vnd.google.colaboratory.intrinsic+json": {
              "type": "string"
            }
          },
          "metadata": {},
          "execution_count": 39
        }
      ]
    },
    {
      "cell_type": "code",
      "source": [
        "float(b)"
      ],
      "metadata": {
        "colab": {
          "base_uri": "https://localhost:8080/"
        },
        "id": "lvqpz2J70gZI",
        "outputId": "b7cdfcc0-e844-41fc-bb64-824a2cb334ee"
      },
      "execution_count": null,
      "outputs": [
        {
          "output_type": "execute_result",
          "data": {
            "text/plain": [
              "33.6"
            ]
          },
          "metadata": {},
          "execution_count": 41
        }
      ]
    },
    {
      "cell_type": "code",
      "source": [
        "type(int(b))"
      ],
      "metadata": {
        "colab": {
          "base_uri": "https://localhost:8080/"
        },
        "id": "QEG6eD-bdnPd",
        "outputId": "b91f9ef2-8c6c-4485-9b01-080d2c741598"
      },
      "execution_count": null,
      "outputs": [
        {
          "output_type": "execute_result",
          "data": {
            "text/plain": [
              "int"
            ]
          },
          "metadata": {},
          "execution_count": 34
        }
      ]
    },
    {
      "cell_type": "code",
      "source": [
        "type(a), type(b)"
      ],
      "metadata": {
        "colab": {
          "base_uri": "https://localhost:8080/"
        },
        "id": "a78T-Os4diZJ",
        "outputId": "9cd98513-7a25-4a9c-aa45-4fd7ddd9af0b"
      },
      "execution_count": null,
      "outputs": [
        {
          "output_type": "execute_result",
          "data": {
            "text/plain": [
              "(int, str)"
            ]
          },
          "metadata": {},
          "execution_count": 33
        }
      ]
    },
    {
      "cell_type": "code",
      "source": [
        "b = input(\"enter the number \")\n",
        "int(b)\n",
        "print(type(b), b)"
      ],
      "metadata": {
        "colab": {
          "base_uri": "https://localhost:8080/"
        },
        "id": "vUy_IOoodQ_s",
        "outputId": "073331d6-2989-4361-beed-154276b11598"
      },
      "execution_count": null,
      "outputs": [
        {
          "output_type": "stream",
          "name": "stdout",
          "text": [
            "enter the number26\n",
            "<class 'str'> 26\n"
          ]
        }
      ]
    },
    {
      "cell_type": "code",
      "source": [
        "yen = int(input(\"Enter the amount in yen : \"))\n",
        "\n",
        "rupee = (0.62) * yen\n",
        "\n",
        "print(f\"the value of {yen} yens is {rupee} rupees\")"
      ],
      "metadata": {
        "colab": {
          "base_uri": "https://localhost:8080/"
        },
        "id": "9r8QIXAq1aVf",
        "outputId": "ea3bf11c-7bd5-43f0-954b-864d63299604"
      },
      "execution_count": null,
      "outputs": [
        {
          "output_type": "stream",
          "name": "stdout",
          "text": [
            "Enter the amount in yen : 1000\n",
            "the value of 1000 yens is 620.0 rupees\n"
          ]
        }
      ]
    },
    {
      "cell_type": "markdown",
      "source": [
        "1 yen = 0.62 rupee"
      ],
      "metadata": {
        "id": "cik9E0ot249H"
      }
    },
    {
      "cell_type": "code",
      "source": [
        "name = input(\"please enter your name : \")\n",
        "\n",
        "print(\"welcome \", name, \"to the party\")"
      ],
      "metadata": {
        "colab": {
          "base_uri": "https://localhost:8080/"
        },
        "id": "9F8qfNV-2ZW1",
        "outputId": "6aa61593-2905-488e-c5f8-4e879f2a764f"
      },
      "execution_count": null,
      "outputs": [
        {
          "output_type": "stream",
          "name": "stdout",
          "text": [
            "please enter your name : xyz\n",
            "welcome  xyz to the party\n"
          ]
        }
      ]
    },
    {
      "cell_type": "code",
      "source": [
        "#user input amount in dollar, program shoud output the value in rupees\n",
        "\n",
        "dollar = float(input(\"Enter the amount in dollars : \"))\n",
        "\n",
        "# rupee = 81.29*dollar\n",
        "\n",
        "print(f\"Today's coverted value of {dollar} dollar is {round(81.29*dollar, 3)}\")"
      ],
      "metadata": {
        "colab": {
          "base_uri": "https://localhost:8080/"
        },
        "id": "d4EGluAabMX_",
        "outputId": "64412bd6-e2a1-4fd4-b413-562643289d8c"
      },
      "execution_count": null,
      "outputs": [
        {
          "output_type": "stream",
          "name": "stdout",
          "text": [
            "Enter the amount in dollars : 100\n",
            "Today's coverted value of 100.0 dollar is 8129.0\n"
          ]
        }
      ]
    },
    {
      "cell_type": "code",
      "source": [
        "name = input(\"enter your name \")\n",
        "\n",
        "print(f\"welcome {name}\")"
      ],
      "metadata": {
        "colab": {
          "base_uri": "https://localhost:8080/",
          "height": 345
        },
        "id": "l0D7MuYrg7ol",
        "outputId": "599df211-2349-451e-b118-add4039470d5"
      },
      "execution_count": null,
      "outputs": [
        {
          "output_type": "error",
          "ename": "KeyboardInterrupt",
          "evalue": "ignored",
          "traceback": [
            "\u001b[0;31m---------------------------------------------------------------------------\u001b[0m",
            "\u001b[0;31mKeyboardInterrupt\u001b[0m                         Traceback (most recent call last)",
            "\u001b[0;32m<ipython-input-2-b33807f1213d>\u001b[0m in \u001b[0;36m<module>\u001b[0;34m\u001b[0m\n\u001b[0;32m----> 1\u001b[0;31m \u001b[0mname\u001b[0m \u001b[0;34m=\u001b[0m \u001b[0minput\u001b[0m\u001b[0;34m(\u001b[0m\u001b[0;34m\"enter your name \"\u001b[0m\u001b[0;34m)\u001b[0m\u001b[0;34m\u001b[0m\u001b[0;34m\u001b[0m\u001b[0m\n\u001b[0m\u001b[1;32m      2\u001b[0m \u001b[0;34m\u001b[0m\u001b[0m\n\u001b[1;32m      3\u001b[0m \u001b[0mprint\u001b[0m\u001b[0;34m(\u001b[0m\u001b[0;34mf\"welcome {name}\"\u001b[0m\u001b[0;34m)\u001b[0m\u001b[0;34m\u001b[0m\u001b[0;34m\u001b[0m\u001b[0m\n",
            "\u001b[0;32m/usr/local/lib/python3.9/dist-packages/ipykernel/kernelbase.py\u001b[0m in \u001b[0;36mraw_input\u001b[0;34m(self, prompt)\u001b[0m\n\u001b[1;32m    858\u001b[0m                 \u001b[0;34m\"raw_input was called, but this frontend does not support input requests.\"\u001b[0m\u001b[0;34m\u001b[0m\u001b[0;34m\u001b[0m\u001b[0m\n\u001b[1;32m    859\u001b[0m             )\n\u001b[0;32m--> 860\u001b[0;31m         return self._input_request(str(prompt),\n\u001b[0m\u001b[1;32m    861\u001b[0m             \u001b[0mself\u001b[0m\u001b[0;34m.\u001b[0m\u001b[0m_parent_ident\u001b[0m\u001b[0;34m,\u001b[0m\u001b[0;34m\u001b[0m\u001b[0;34m\u001b[0m\u001b[0m\n\u001b[1;32m    862\u001b[0m             \u001b[0mself\u001b[0m\u001b[0;34m.\u001b[0m\u001b[0m_parent_header\u001b[0m\u001b[0;34m,\u001b[0m\u001b[0;34m\u001b[0m\u001b[0;34m\u001b[0m\u001b[0m\n",
            "\u001b[0;32m/usr/local/lib/python3.9/dist-packages/ipykernel/kernelbase.py\u001b[0m in \u001b[0;36m_input_request\u001b[0;34m(self, prompt, ident, parent, password)\u001b[0m\n\u001b[1;32m    902\u001b[0m             \u001b[0;32mexcept\u001b[0m \u001b[0mKeyboardInterrupt\u001b[0m\u001b[0;34m:\u001b[0m\u001b[0;34m\u001b[0m\u001b[0;34m\u001b[0m\u001b[0m\n\u001b[1;32m    903\u001b[0m                 \u001b[0;31m# re-raise KeyboardInterrupt, to truncate traceback\u001b[0m\u001b[0;34m\u001b[0m\u001b[0;34m\u001b[0m\u001b[0m\n\u001b[0;32m--> 904\u001b[0;31m                 \u001b[0;32mraise\u001b[0m \u001b[0mKeyboardInterrupt\u001b[0m\u001b[0;34m(\u001b[0m\u001b[0;34m\"Interrupted by user\"\u001b[0m\u001b[0;34m)\u001b[0m \u001b[0;32mfrom\u001b[0m \u001b[0;32mNone\u001b[0m\u001b[0;34m\u001b[0m\u001b[0;34m\u001b[0m\u001b[0m\n\u001b[0m\u001b[1;32m    905\u001b[0m             \u001b[0;32mexcept\u001b[0m \u001b[0mException\u001b[0m \u001b[0;32mas\u001b[0m \u001b[0me\u001b[0m\u001b[0;34m:\u001b[0m\u001b[0;34m\u001b[0m\u001b[0;34m\u001b[0m\u001b[0m\n\u001b[1;32m    906\u001b[0m                 \u001b[0mself\u001b[0m\u001b[0;34m.\u001b[0m\u001b[0mlog\u001b[0m\u001b[0;34m.\u001b[0m\u001b[0mwarning\u001b[0m\u001b[0;34m(\u001b[0m\u001b[0;34m\"Invalid Message:\"\u001b[0m\u001b[0;34m,\u001b[0m \u001b[0mexc_info\u001b[0m\u001b[0;34m=\u001b[0m\u001b[0;32mTrue\u001b[0m\u001b[0;34m)\u001b[0m\u001b[0;34m\u001b[0m\u001b[0;34m\u001b[0m\u001b[0m\n",
            "\u001b[0;31mKeyboardInterrupt\u001b[0m: Interrupted by user"
          ]
        }
      ]
    },
    {
      "cell_type": "code",
      "source": [
        "a = str(26)\n",
        "type(a)"
      ],
      "metadata": {
        "colab": {
          "base_uri": "https://localhost:8080/"
        },
        "id": "F_BC-GRxhM_1",
        "outputId": "cbd1cddf-2ab2-410e-89a6-e253f7b3d6f8"
      },
      "execution_count": null,
      "outputs": [
        {
          "output_type": "execute_result",
          "data": {
            "text/plain": [
              "str"
            ]
          },
          "metadata": {},
          "execution_count": 46
        }
      ]
    },
    {
      "cell_type": "code",
      "source": [
        "a = str(a)\n",
        "type(a)"
      ],
      "metadata": {
        "colab": {
          "base_uri": "https://localhost:8080/"
        },
        "id": "K5CwPRqjhTgQ",
        "outputId": "e4c0629e-7b71-4067-f4cf-26264598cd59"
      },
      "execution_count": null,
      "outputs": [
        {
          "output_type": "execute_result",
          "data": {
            "text/plain": [
              "str"
            ]
          },
          "metadata": {},
          "execution_count": 44
        }
      ]
    },
    {
      "cell_type": "code",
      "source": [
        "a = 32\n",
        "print(\"this is a print statement {a}\")\n",
        "print(\"this is a print statement\", a)\n",
        "print(f\"this is a print statement {a}\")"
      ],
      "metadata": {
        "colab": {
          "base_uri": "https://localhost:8080/"
        },
        "id": "FkbZq5FF3isq",
        "outputId": "743b5d10-5f65-44db-f5b2-db46524e3d59"
      },
      "execution_count": null,
      "outputs": [
        {
          "output_type": "stream",
          "name": "stdout",
          "text": [
            "this is a print statement {a}\n",
            "this is a print statement 32\n",
            "this is a print statement 32\n"
          ]
        }
      ]
    },
    {
      "cell_type": "code",
      "source": [
        "a = 5\n",
        "b = 3\n",
        "print(f'''the value of variable a: {a+b}\n",
        "the value of variable b: {b}''')"
      ],
      "metadata": {
        "colab": {
          "base_uri": "https://localhost:8080/"
        },
        "id": "Mmqk6rSYaHlC",
        "outputId": "b75b8e39-dede-4f91-ed03-746f091f7f8e"
      },
      "execution_count": null,
      "outputs": [
        {
          "output_type": "stream",
          "name": "stdout",
          "text": [
            "the value of variable a: 8\n",
            "the value of variable b: 3\n"
          ]
        }
      ]
    },
    {
      "cell_type": "markdown",
      "source": [
        "## Variables and Datatypes\n",
        "\n",
        "\n",
        "A variable is the name given to a memory location in a program to store a value\n",
        "```\n",
        "a = 30\n",
        "b = \"geeklurn\"\n",
        "c = 71.22\n",
        "```\n",
        "\n",
        "**Datatypes**\n",
        "Primarily there are following datatypes in python\n",
        "\n",
        "\n",
        "1. integer\n",
        "2. float\n",
        "3. string\n",
        "4. boolean\n",
        "5. list\n",
        "6. dict\n",
        "7. set\n",
        "8. tuple\n",
        "\n",
        "\n"
      ],
      "metadata": {
        "id": "TvbrpnKGcfkm"
      }
    },
    {
      "cell_type": "code",
      "source": [
        "type(4)"
      ],
      "metadata": {
        "colab": {
          "base_uri": "https://localhost:8080/"
        },
        "id": "fSuMQC6LhPJM",
        "outputId": "f03dc9ac-4dbf-4678-a2db-6674345dda01"
      },
      "execution_count": null,
      "outputs": [
        {
          "output_type": "execute_result",
          "data": {
            "text/plain": [
              "int"
            ]
          },
          "metadata": {},
          "execution_count": 8
        }
      ]
    },
    {
      "cell_type": "code",
      "source": [],
      "metadata": {
        "colab": {
          "base_uri": "https://localhost:8080/"
        },
        "id": "BkqghaSfiqZf",
        "outputId": "bff685ec-963d-4f02-829c-951e70c54564"
      },
      "execution_count": null,
      "outputs": [
        {
          "output_type": "stream",
          "name": "stdout",
          "text": [
            "this is a print statement {a}\n",
            "this is a print statement 32\n",
            "this is a print statement 32\n"
          ]
        }
      ]
    },
    {
      "cell_type": "code",
      "source": [
        "a = 30\n",
        "type(a)"
      ],
      "metadata": {
        "colab": {
          "base_uri": "https://localhost:8080/"
        },
        "id": "hAAS88nzaljM",
        "outputId": "b9cea3ea-5361-4286-e91c-29799cca8275"
      },
      "execution_count": null,
      "outputs": [
        {
          "output_type": "execute_result",
          "data": {
            "text/plain": [
              "int"
            ]
          },
          "metadata": {},
          "execution_count": 56
        }
      ]
    },
    {
      "cell_type": "code",
      "source": [
        "b = 30.2\n",
        "type(b)"
      ],
      "metadata": {
        "colab": {
          "base_uri": "https://localhost:8080/"
        },
        "id": "KwrNvoH6fX1c",
        "outputId": "d59769b2-7e59-4524-a5c5-adbd81024105"
      },
      "execution_count": null,
      "outputs": [
        {
          "output_type": "execute_result",
          "data": {
            "text/plain": [
              "float"
            ]
          },
          "metadata": {},
          "execution_count": 57
        }
      ]
    },
    {
      "cell_type": "code",
      "source": [
        "c = \"python\"\n",
        "d = \"#%#%\"\n",
        "type(c), type(d)"
      ],
      "metadata": {
        "colab": {
          "base_uri": "https://localhost:8080/"
        },
        "id": "qlPq5oBmfduk",
        "outputId": "5c405999-4d5e-4d3f-ac3c-b1fa587b9039"
      },
      "execution_count": null,
      "outputs": [
        {
          "output_type": "execute_result",
          "data": {
            "text/plain": [
              "(str, str)"
            ]
          },
          "metadata": {},
          "execution_count": 10
        }
      ]
    },
    {
      "cell_type": "code",
      "source": [
        "type(False)"
      ],
      "metadata": {
        "colab": {
          "base_uri": "https://localhost:8080/"
        },
        "id": "qHdfBOq7iFSd",
        "outputId": "c9981e18-13de-4d18-d439-7c8f3715f8a1"
      },
      "execution_count": null,
      "outputs": [
        {
          "output_type": "execute_result",
          "data": {
            "text/plain": [
              "bool"
            ]
          },
          "metadata": {},
          "execution_count": 12
        }
      ]
    },
    {
      "cell_type": "code",
      "source": [
        "4 >= 3"
      ],
      "metadata": {
        "colab": {
          "base_uri": "https://localhost:8080/"
        },
        "id": "UDn33Pr-jw2z",
        "outputId": "7ed5b3a3-dd07-4fa9-fbc9-a8677bbe7916"
      },
      "execution_count": null,
      "outputs": [
        {
          "output_type": "execute_result",
          "data": {
            "text/plain": [
              "True"
            ]
          },
          "metadata": {},
          "execution_count": 55
        }
      ]
    },
    {
      "cell_type": "code",
      "source": [
        "d = (3 == 3)\n",
        "print(d)\n",
        "type(d)"
      ],
      "metadata": {
        "colab": {
          "base_uri": "https://localhost:8080/"
        },
        "id": "dtSnIVLKfjzj",
        "outputId": "c4f7feb7-7009-41d1-e506-5fbc5a2e0c3e"
      },
      "execution_count": null,
      "outputs": [
        {
          "output_type": "stream",
          "name": "stdout",
          "text": [
            "True\n"
          ]
        },
        {
          "output_type": "execute_result",
          "data": {
            "text/plain": [
              "bool"
            ]
          },
          "metadata": {},
          "execution_count": 2
        }
      ]
    },
    {
      "cell_type": "markdown",
      "source": [
        "### ways of defining variable name"
      ],
      "metadata": {
        "id": "noBnD9wll9Uv"
      }
    },
    {
      "cell_type": "code",
      "source": [
        "'''\n",
        "basic rules\n",
        "\n",
        "1. it shoud starts with character or underscore\n",
        "2. you can use number after the first character\n",
        "3. spaces are not allowed\n",
        "4. - is not allowed\n",
        "'''\n",
        "\n",
        "myvar = \"apple\"\n",
        "my_var = \"apple\"\n",
        "myvar1 = \"apple\"\n",
        "my_var1 = \"apple\"\n",
        "Myvar = \"apple\"\n",
        "my_1 = \"apple\"\n",
        "_myvar = \"apple\"\n",
        "_1myvar = \"apple\""
      ],
      "metadata": {
        "id": "mgyazSkrl8tc"
      },
      "execution_count": null,
      "outputs": []
    },
    {
      "cell_type": "code",
      "source": [
        "a = [98,85,76,83]"
      ],
      "metadata": {
        "id": "Fc4eCqQtoH9O"
      },
      "execution_count": null,
      "outputs": []
    },
    {
      "cell_type": "code",
      "source": [
        "a = [23,34,45,56, \"str\", True, 45.67]\n",
        "a"
      ],
      "metadata": {
        "colab": {
          "base_uri": "https://localhost:8080/"
        },
        "id": "iedi5Vc1obx5",
        "outputId": "5b9b0828-dcd0-40ca-917e-7e863dd883e7"
      },
      "execution_count": null,
      "outputs": [
        {
          "output_type": "execute_result",
          "data": {
            "text/plain": [
              "[23, 34, 45, 56, 'str', True, 45.67]"
            ]
          },
          "metadata": {},
          "execution_count": 57
        }
      ]
    },
    {
      "cell_type": "code",
      "source": [
        "type(a)"
      ],
      "metadata": {
        "colab": {
          "base_uri": "https://localhost:8080/"
        },
        "id": "xBoLDNHK7aAa",
        "outputId": "29fccc2f-ea60-48a2-d84a-cb676121f272"
      },
      "execution_count": null,
      "outputs": [
        {
          "output_type": "execute_result",
          "data": {
            "text/plain": [
              "list"
            ]
          },
          "metadata": {},
          "execution_count": 58
        }
      ]
    },
    {
      "cell_type": "code",
      "source": [
        "b = [\"aakash\",\"kapil\",\"subhash\",\"xyz\"]\n",
        "b"
      ],
      "metadata": {
        "colab": {
          "base_uri": "https://localhost:8080/"
        },
        "id": "SKK03qBzoe8e",
        "outputId": "06313107-7492-4917-aa3e-a0a1097521a1"
      },
      "execution_count": null,
      "outputs": [
        {
          "output_type": "execute_result",
          "data": {
            "text/plain": [
              "['aakash', 'kapil', 'subhash', 'xyz']"
            ]
          },
          "metadata": {},
          "execution_count": 73
        }
      ]
    },
    {
      "cell_type": "code",
      "source": [
        "print(b)\n",
        "b"
      ],
      "metadata": {
        "colab": {
          "base_uri": "https://localhost:8080/"
        },
        "id": "Bu9f8rFFos_3",
        "outputId": "1ea5c995-228e-4f30-d66a-5b8039b1028a"
      },
      "execution_count": null,
      "outputs": [
        {
          "output_type": "stream",
          "name": "stdout",
          "text": [
            "['aakash', 'kapil', 'subhash', 'xyz']\n"
          ]
        },
        {
          "output_type": "execute_result",
          "data": {
            "text/plain": [
              "['aakash', 'kapil', 'subhash', 'xyz']"
            ]
          },
          "metadata": {},
          "execution_count": 76
        }
      ]
    },
    {
      "cell_type": "code",
      "source": [
        "c = [23, \"apple\", True, 56.6]\n",
        "c"
      ],
      "metadata": {
        "colab": {
          "base_uri": "https://localhost:8080/"
        },
        "id": "XyoTmk2nop-v",
        "outputId": "0884a849-110f-4911-dc66-4f8116450072"
      },
      "execution_count": null,
      "outputs": [
        {
          "output_type": "execute_result",
          "data": {
            "text/plain": [
              "[23, 'apple', True, 56.6]"
            ]
          },
          "metadata": {},
          "execution_count": 78
        }
      ]
    },
    {
      "cell_type": "code",
      "source": [
        "type(c)"
      ],
      "metadata": {
        "colab": {
          "base_uri": "https://localhost:8080/"
        },
        "id": "ne72l7sDpJi1",
        "outputId": "7872aabf-f307-4405-eca9-4eff27ad5f63"
      },
      "execution_count": null,
      "outputs": [
        {
          "output_type": "execute_result",
          "data": {
            "text/plain": [
              "list"
            ]
          },
          "metadata": {},
          "execution_count": 79
        }
      ]
    },
    {
      "cell_type": "code",
      "source": [
        "x = [\"apple\", \"banana\", \"cherry\"]\n",
        "type(x)"
      ],
      "metadata": {
        "colab": {
          "base_uri": "https://localhost:8080/"
        },
        "id": "3Ahg2dPMfvW6",
        "outputId": "d358c399-d3f3-4e31-a5f2-dfbc3aa84d72"
      },
      "execution_count": null,
      "outputs": [
        {
          "output_type": "execute_result",
          "data": {
            "text/plain": [
              "list"
            ]
          },
          "metadata": {},
          "execution_count": 80
        }
      ]
    },
    {
      "cell_type": "code",
      "source": [
        "print(x)"
      ],
      "metadata": {
        "colab": {
          "base_uri": "https://localhost:8080/"
        },
        "id": "Wdno0LcapiMe",
        "outputId": "482f8888-bcdf-413e-ef73-92984e25f0f1"
      },
      "execution_count": null,
      "outputs": [
        {
          "output_type": "stream",
          "name": "stdout",
          "text": [
            "['apple', 'banana', 'cherry']\n"
          ]
        }
      ]
    },
    {
      "cell_type": "code",
      "source": [
        "classX = []"
      ],
      "metadata": {
        "id": "R7TSi4WlqbPD"
      },
      "execution_count": null,
      "outputs": []
    },
    {
      "cell_type": "code",
      "source": [
        "classX = {\n",
        "    \"studen1\": 86,\n",
        "    \"studen2\": 81,\n",
        "    \"third\" : 56\n",
        "}"
      ],
      "metadata": {
        "id": "QHPzCgfVqO0S"
      },
      "execution_count": null,
      "outputs": []
    },
    {
      "cell_type": "code",
      "source": [
        "type(classX)"
      ],
      "metadata": {
        "colab": {
          "base_uri": "https://localhost:8080/"
        },
        "id": "R-KVnHhQqyIJ",
        "outputId": "a4997529-f1e2-46e1-a7e4-de11b1d8a2a6"
      },
      "execution_count": null,
      "outputs": [
        {
          "output_type": "execute_result",
          "data": {
            "text/plain": [
              "dict"
            ]
          },
          "metadata": {},
          "execution_count": 87
        }
      ]
    },
    {
      "cell_type": "code",
      "source": [
        "classX"
      ],
      "metadata": {
        "colab": {
          "base_uri": "https://localhost:8080/"
        },
        "id": "qrm0t_4Vq5dl",
        "outputId": "9ca7eb9c-5b80-49e1-91af-28161cdadcf2"
      },
      "execution_count": null,
      "outputs": [
        {
          "output_type": "execute_result",
          "data": {
            "text/plain": [
              "{'studen1': 86, 'studen2': 81, 'third': 56}"
            ]
          },
          "metadata": {},
          "execution_count": 88
        }
      ]
    },
    {
      "cell_type": "code",
      "source": [
        "y = {\"fruit\" : \"apple\",\n",
        "     \"color\": \"red\",\n",
        "     \"nutrient\" :\"vitamin C\"}\n",
        "print(y)\n",
        "type(y)"
      ],
      "metadata": {
        "colab": {
          "base_uri": "https://localhost:8080/"
        },
        "id": "MWNYM-rogAfx",
        "outputId": "67e58f94-0f6e-45ee-a5f7-f049b3a78112"
      },
      "execution_count": null,
      "outputs": [
        {
          "output_type": "stream",
          "name": "stdout",
          "text": [
            "{'fruit': 'apple', 'color': 'red', 'nutrient': 'vitamin C'}\n"
          ]
        },
        {
          "output_type": "execute_result",
          "data": {
            "text/plain": [
              "dict"
            ]
          },
          "metadata": {},
          "execution_count": 89
        }
      ]
    },
    {
      "cell_type": "code",
      "source": [
        "x = [12,13,14,12]\n",
        "x"
      ],
      "metadata": {
        "colab": {
          "base_uri": "https://localhost:8080/"
        },
        "id": "k-oaCHwrrbyh",
        "outputId": "feb48608-6451-451b-a4f5-c9a41d3fad64"
      },
      "execution_count": null,
      "outputs": [
        {
          "output_type": "execute_result",
          "data": {
            "text/plain": [
              "[12, 13, 14, 12]"
            ]
          },
          "metadata": {},
          "execution_count": 90
        }
      ]
    },
    {
      "cell_type": "code",
      "source": [
        "y = {12,13,14,12}\n",
        "print(y)\n",
        "type(y)"
      ],
      "metadata": {
        "colab": {
          "base_uri": "https://localhost:8080/"
        },
        "id": "fBRGo9aGrkRJ",
        "outputId": "013b2a29-d3da-4f17-cc00-dc398f2d12e2"
      },
      "execution_count": null,
      "outputs": [
        {
          "output_type": "stream",
          "name": "stdout",
          "text": [
            "{12, 13, 14}\n"
          ]
        },
        {
          "output_type": "execute_result",
          "data": {
            "text/plain": [
              "set"
            ]
          },
          "metadata": {},
          "execution_count": 91
        }
      ]
    },
    {
      "cell_type": "code",
      "source": [
        "a = [\"apple\", \"banana\", \"cherry\",\"apple\", 23,34,23]\n",
        "a"
      ],
      "metadata": {
        "colab": {
          "base_uri": "https://localhost:8080/"
        },
        "id": "A8TLFPSKslld",
        "outputId": "92f1dcb2-5339-4ffb-ad71-f4781ca41b20"
      },
      "execution_count": null,
      "outputs": [
        {
          "output_type": "execute_result",
          "data": {
            "text/plain": [
              "['apple', 'banana', 'cherry', 'apple', 23, 34, 23]"
            ]
          },
          "metadata": {},
          "execution_count": 59
        }
      ]
    },
    {
      "cell_type": "code",
      "source": [
        "z = set(a)\n",
        "print(z)\n",
        "type(z)\n",
        "#comment"
      ],
      "metadata": {
        "colab": {
          "base_uri": "https://localhost:8080/"
        },
        "id": "R0JvBk5-glep",
        "outputId": "ab6cb1f7-2caa-469b-ed8f-6c43f6a90ea8"
      },
      "execution_count": null,
      "outputs": [
        {
          "output_type": "stream",
          "name": "stdout",
          "text": [
            "{34, 'cherry', 'apple', 23, 'banana'}\n"
          ]
        },
        {
          "output_type": "execute_result",
          "data": {
            "text/plain": [
              "set"
            ]
          },
          "metadata": {},
          "execution_count": 63
        }
      ]
    },
    {
      "cell_type": "code",
      "source": [
        "a = [] # list\n",
        "b = {\n",
        "    \"key\" : \"value\",\n",
        "     \"key2\": \"value2\"\n",
        "} # dict\n",
        "\n",
        "c = {} #sets\n",
        "d = () #tuples"
      ],
      "metadata": {
        "id": "PNtTtK1As9sI"
      },
      "execution_count": null,
      "outputs": []
    },
    {
      "cell_type": "code",
      "source": [
        "a = [34, \"test\", True, 56.78]\n",
        "a"
      ],
      "metadata": {
        "colab": {
          "base_uri": "https://localhost:8080/"
        },
        "id": "PeDI1H3pioW_",
        "outputId": "e9f32776-62ad-4785-aa2e-ef55ccd2a2e4"
      },
      "execution_count": null,
      "outputs": [
        {
          "output_type": "execute_result",
          "data": {
            "text/plain": [
              "[34, 'test', True, 56.78]"
            ]
          },
          "metadata": {},
          "execution_count": 13
        }
      ]
    },
    {
      "cell_type": "code",
      "source": [
        "b = {\n",
        "    \"key\" : \"value\",\n",
        "     \"key2\" : \"value2\"\n",
        "}\n",
        "\n",
        "b"
      ],
      "metadata": {
        "colab": {
          "base_uri": "https://localhost:8080/"
        },
        "id": "V4ZhFGpmi0vI",
        "outputId": "c257e498-9a64-401b-d6dd-1c86d7601083"
      },
      "execution_count": null,
      "outputs": [
        {
          "output_type": "execute_result",
          "data": {
            "text/plain": [
              "{'key': 'value', 'key2': 'value2'}"
            ]
          },
          "metadata": {},
          "execution_count": 14
        }
      ]
    },
    {
      "cell_type": "code",
      "source": [
        "c = {23, \"test\", True, 23}\n",
        "c"
      ],
      "metadata": {
        "colab": {
          "base_uri": "https://localhost:8080/"
        },
        "id": "TC0OOX69jM8h",
        "outputId": "4883b5e0-50ba-4a46-9638-0462f96b4d41"
      },
      "execution_count": null,
      "outputs": [
        {
          "output_type": "execute_result",
          "data": {
            "text/plain": [
              "{23, True, 'test'}"
            ]
          },
          "metadata": {},
          "execution_count": 15
        }
      ]
    },
    {
      "cell_type": "code",
      "source": [
        "d = (23,\"test\", False, 34.56, 23)\n",
        "d"
      ],
      "metadata": {
        "colab": {
          "base_uri": "https://localhost:8080/"
        },
        "id": "Bb0z2886jjAy",
        "outputId": "7d299a66-0f60-48d7-c94b-59becc6dc95a"
      },
      "execution_count": null,
      "outputs": [
        {
          "output_type": "execute_result",
          "data": {
            "text/plain": [
              "(23, 'test', False, 34.56, 23)"
            ]
          },
          "metadata": {},
          "execution_count": 16
        }
      ]
    },
    {
      "cell_type": "code",
      "source": [
        "a = (\"apple\", \"banana\", \"cherry\")\n",
        "print(a)\n",
        "type(a)"
      ],
      "metadata": {
        "colab": {
          "base_uri": "https://localhost:8080/"
        },
        "id": "hH3gRQffg7sw",
        "outputId": "84dbf4b8-0b51-49e0-b984-36048a3cc666"
      },
      "execution_count": null,
      "outputs": [
        {
          "output_type": "stream",
          "name": "stdout",
          "text": [
            "('apple', 'banana', 'cherry')\n"
          ]
        },
        {
          "output_type": "execute_result",
          "data": {
            "text/plain": [
              "tuple"
            ]
          },
          "metadata": {},
          "execution_count": 98
        }
      ]
    },
    {
      "cell_type": "code",
      "source": [
        "# farenheit to celcius\n",
        "# fahrenheit = int(input(\"Please enter the value of fahrenheit : \"))\n",
        "fahrenheit = 108\n",
        "\n",
        "celcius = (fahrenheit - 32) * 5/9\n",
        "\n",
        "print(\"the converted value in celcius : \", celcius)\n"
      ],
      "metadata": {
        "colab": {
          "base_uri": "https://localhost:8080/"
        },
        "id": "BBstlgSEeJcc",
        "outputId": "dd15913e-f4a8-4879-e010-7cc5e87efdb6"
      },
      "execution_count": null,
      "outputs": [
        {
          "output_type": "stream",
          "name": "stdout",
          "text": [
            "the converted value in celcius :  42.22222222222222\n"
          ]
        }
      ]
    },
    {
      "cell_type": "markdown",
      "source": [
        "(32°F − 32) × 5/9 = 0°C"
      ],
      "metadata": {
        "id": "VbKF8Lt2eine"
      }
    },
    {
      "cell_type": "markdown",
      "source": [
        "### Rules for defining a variable name\n",
        "\n",
        "\n",
        "\n",
        "- A variable can contain alphabets, digits and underscores.\n",
        "- A variable name can only start with an alphabet and underscore\n",
        "- A variable name can't start with a digit\n",
        "- No white space is allowed to be used inside a variable name\n",
        "\n",
        "```\n",
        "a_22 - valid variable name\n",
        "a 22 - invalid variable name\n",
        "```"
      ],
      "metadata": {
        "id": "svx_RbmXhiGR"
      }
    },
    {
      "cell_type": "markdown",
      "source": [
        "## Operators in python\n",
        "\n",
        "1. Airthmatic operator -: + , - , * , / etc\n",
        "2. Assignment operator -: = , += , -= etc\n",
        "3. Comparision operator -: == , > , < , >= , <= , != etc\n",
        "4. Logical operators -: and , or , not"
      ],
      "metadata": {
        "id": "jSyJPvcHjLfs"
      }
    },
    {
      "cell_type": "code",
      "source": [
        "a = 4\n",
        "a = a+1\n",
        "a"
      ],
      "metadata": {
        "colab": {
          "base_uri": "https://localhost:8080/"
        },
        "id": "VqXe2bmAkEzm",
        "outputId": "77db02b9-8ffc-464a-c101-88bbec47fd8e"
      },
      "execution_count": null,
      "outputs": [
        {
          "output_type": "execute_result",
          "data": {
            "text/plain": [
              "5"
            ]
          },
          "metadata": {},
          "execution_count": 17
        }
      ]
    },
    {
      "cell_type": "code",
      "source": [
        "a =4\n",
        "a -= 1 # equivalent to a = a -1\n",
        "a"
      ],
      "metadata": {
        "colab": {
          "base_uri": "https://localhost:8080/"
        },
        "id": "1LCBcHoakPxW",
        "outputId": "7033522b-bff6-4196-c142-fc7fd739f5bb"
      },
      "execution_count": null,
      "outputs": [
        {
          "output_type": "execute_result",
          "data": {
            "text/plain": [
              "5"
            ]
          },
          "metadata": {},
          "execution_count": 65
        }
      ]
    },
    {
      "cell_type": "code",
      "source": [
        "3 > 2, 3<2, 3>=2, 3 <= 2, 3 != 2, 3 == 3"
      ],
      "metadata": {
        "colab": {
          "base_uri": "https://localhost:8080/"
        },
        "id": "YfI-ehbQkpqk",
        "outputId": "48d23d7b-6fe8-4933-9d75-e42ee5467ade"
      },
      "execution_count": null,
      "outputs": [
        {
          "output_type": "execute_result",
          "data": {
            "text/plain": [
              "(True, False, True, False, True, True)"
            ]
          },
          "metadata": {},
          "execution_count": 66
        }
      ]
    },
    {
      "cell_type": "code",
      "source": [
        "a = 34\n",
        "b = 7\n",
        "\n",
        "a == b"
      ],
      "metadata": {
        "colab": {
          "base_uri": "https://localhost:8080/"
        },
        "id": "9TZztn_kl5-s",
        "outputId": "7bf7e9fb-b172-46d9-a9c3-53b45ad9b721"
      },
      "execution_count": null,
      "outputs": [
        {
          "output_type": "execute_result",
          "data": {
            "text/plain": [
              "False"
            ]
          },
          "metadata": {},
          "execution_count": 26
        }
      ]
    },
    {
      "cell_type": "code",
      "source": [
        "a = 3\n",
        "b = 9\n"
      ],
      "metadata": {
        "id": "GLIGIV-goEDg"
      },
      "execution_count": null,
      "outputs": []
    },
    {
      "cell_type": "code",
      "source": [
        "not(True)"
      ],
      "metadata": {
        "id": "M2HpGY8U-9H3",
        "outputId": "a6599b7b-f0c7-4775-ebd5-e6c25f5db194",
        "colab": {
          "base_uri": "https://localhost:8080/"
        }
      },
      "execution_count": null,
      "outputs": [
        {
          "output_type": "execute_result",
          "data": {
            "text/plain": [
              "False"
            ]
          },
          "metadata": {},
          "execution_count": 67
        }
      ]
    },
    {
      "cell_type": "code",
      "source": [
        "not(a>2)"
      ],
      "metadata": {
        "colab": {
          "base_uri": "https://localhost:8080/"
        },
        "id": "lNjbBfvWoJtW",
        "outputId": "972e7ce5-ce29-43f2-df60-71e1afb001e1"
      },
      "execution_count": null,
      "outputs": [
        {
          "output_type": "execute_result",
          "data": {
            "text/plain": [
              "False"
            ]
          },
          "metadata": {},
          "execution_count": 44
        }
      ]
    },
    {
      "cell_type": "code",
      "source": [
        "a = [23,34,45,56]\n",
        "\n",
        "for i in a:\n",
        "  if not(i > 34):\n",
        "    print(i)"
      ],
      "metadata": {
        "colab": {
          "base_uri": "https://localhost:8080/"
        },
        "id": "0e0I_cBGqwt1",
        "outputId": "6b051d40-8aae-45d4-c8b2-c790a4620d43"
      },
      "execution_count": null,
      "outputs": [
        {
          "output_type": "stream",
          "name": "stdout",
          "text": [
            "23\n",
            "34\n"
          ]
        }
      ]
    },
    {
      "cell_type": "code",
      "source": [
        "True and False"
      ],
      "metadata": {
        "colab": {
          "base_uri": "https://localhost:8080/"
        },
        "id": "Cjm4wm3OoqN2",
        "outputId": "0b484eb5-1622-47de-d4f9-647ad044ca86"
      },
      "execution_count": null,
      "outputs": [
        {
          "output_type": "execute_result",
          "data": {
            "text/plain": [
              "False"
            ]
          },
          "metadata": {},
          "execution_count": 32
        }
      ]
    },
    {
      "cell_type": "code",
      "source": [
        "(a>2) or (b >10) or (b< 4)"
      ],
      "metadata": {
        "colab": {
          "base_uri": "https://localhost:8080/"
        },
        "id": "D62Pqq7Uofp2",
        "outputId": "7c8b57a6-deba-4947-bcd3-63d3458df689"
      },
      "execution_count": null,
      "outputs": [
        {
          "output_type": "execute_result",
          "data": {
            "text/plain": [
              "True"
            ]
          },
          "metadata": {},
          "execution_count": 34
        }
      ]
    },
    {
      "cell_type": "code",
      "source": [
        "not(False)"
      ],
      "metadata": {
        "colab": {
          "base_uri": "https://localhost:8080/"
        },
        "id": "L7ikwnFDqG_j",
        "outputId": "8eb088d5-519c-42cd-d80b-940d0914ce4d"
      },
      "execution_count": null,
      "outputs": [
        {
          "output_type": "execute_result",
          "data": {
            "text/plain": [
              "True"
            ]
          },
          "metadata": {},
          "execution_count": 39
        }
      ]
    },
    {
      "cell_type": "code",
      "source": [],
      "metadata": {
        "id": "5vjh12DIqnJO"
      },
      "execution_count": null,
      "outputs": []
    },
    {
      "cell_type": "code",
      "source": [
        "txt = [23,34,45]\n",
        "a = 34\n",
        "if a in txt:\n",
        "  print(a)"
      ],
      "metadata": {
        "colab": {
          "base_uri": "https://localhost:8080/"
        },
        "id": "-8noeK6kpaln",
        "outputId": "7c5e9db7-1898-481d-d5ea-30a10cf8cee2"
      },
      "execution_count": null,
      "outputs": [
        {
          "output_type": "stream",
          "name": "stdout",
          "text": [
            "34\n"
          ]
        }
      ]
    },
    {
      "cell_type": "code",
      "source": [
        "a = 3\n",
        "b = 9\n",
        "(a>2) and (b<10)"
      ],
      "metadata": {
        "colab": {
          "base_uri": "https://localhost:8080/"
        },
        "id": "_sKFcpbxhHi_",
        "outputId": "68773ddb-7d65-4f89-fb15-d2c6a647b1bb"
      },
      "execution_count": null,
      "outputs": [
        {
          "output_type": "execute_result",
          "data": {
            "text/plain": [
              "True"
            ]
          },
          "metadata": {},
          "execution_count": 35
        }
      ]
    },
    {
      "cell_type": "code",
      "source": [
        "x = 2\n",
        "x +=3 # equivqlent of x = x+3\n",
        "x"
      ],
      "metadata": {
        "id": "LLXBmlUslOah",
        "colab": {
          "base_uri": "https://localhost:8080/"
        },
        "outputId": "a96f4414-6e92-4bc5-9042-159c72a2a7c4"
      },
      "execution_count": null,
      "outputs": [
        {
          "output_type": "execute_result",
          "data": {
            "text/plain": [
              "5"
            ]
          },
          "metadata": {},
          "execution_count": 5
        }
      ]
    },
    {
      "cell_type": "code",
      "source": [
        "a = 'text'\n",
        "b = \"text\"\n",
        "c = '''\n",
        "    text\n",
        "    '''\n",
        "d = str(45)\n"
      ],
      "metadata": {
        "id": "4y2JJFndrYcG"
      },
      "execution_count": null,
      "outputs": []
    },
    {
      "cell_type": "markdown",
      "source": [
        "## Strings\n",
        "\n",
        "String is a datatype in python. String is a sequence of characters enclosed in quotes.\n",
        "\n",
        "We can primarily write a string in these three ways\n",
        "\n",
        "\n",
        "```\n",
        "# Single quoted strings\n",
        "a = 'python'\n",
        "```\n",
        "```\n",
        "# Double quoted strings\n",
        "a = \"python\"\n",
        "```\n",
        "\n",
        "```\n",
        "# Triple quoted strings\n",
        "a = '''python'''\n",
        "```\n"
      ],
      "metadata": {
        "id": "fJnmjciTNOqS"
      }
    },
    {
      "cell_type": "code",
      "source": [
        "a = \"python\"\n",
        "print(a)\n",
        "print(type(a))"
      ],
      "metadata": {
        "colab": {
          "base_uri": "https://localhost:8080/"
        },
        "id": "2RS6403OMm2y",
        "outputId": "a12d750a-4206-4236-bd8a-afabd781134b"
      },
      "execution_count": null,
      "outputs": [
        {
          "output_type": "stream",
          "name": "stdout",
          "text": [
            "python\n",
            "<class 'str'>\n"
          ]
        }
      ]
    },
    {
      "cell_type": "markdown",
      "source": [
        "### string slicing\n",
        "\n",
        "A string in python can be sliced for getting a part of the string.\n",
        "\n",
        "Consider the following string\n",
        "\n",
        "<img src = https://www.alphacodingskills.com/python/img/python-string.png >\n",
        "\n",
        "\n",
        "The index in a string starts from 0 to (length -1) in python. In order to slice a string, we use the following syntax:\n",
        "\n",
        "```\n",
        "b = a[start_index : end_index : step_size]\n",
        "```\n",
        "**start_index** - index from which you start index slicing\n",
        "\n",
        "**end_index** - index before you stop slicing \n",
        "\n",
        "**step_size** - step size for slicing. Not mandatory, default is 1\n",
        "\n",
        "***Note*** - start_index is included in output of slicing but last index is not included.\n",
        "\n",
        "For example if you slice a string with code\n",
        "```\n",
        "a[0:3]\n",
        "```\n",
        "Then you get values of the following indexes [0,1,2] as output\n",
        "\n",
        "Let's look at a code example for better understanding."
      ],
      "metadata": {
        "id": "Wwo4z8vAPMTj"
      }
    },
    {
      "cell_type": "code",
      "source": [
        "a = \"i am learning to code\""
      ],
      "metadata": {
        "id": "KZIVtklUMnww"
      },
      "execution_count": null,
      "outputs": []
    },
    {
      "cell_type": "code",
      "source": [
        "a[-7: ]"
      ],
      "metadata": {
        "colab": {
          "base_uri": "https://localhost:8080/",
          "height": 35
        },
        "id": "waLxYjxCEg45",
        "outputId": "95596be8-d664-4d33-ae8e-c2cb6faeb002"
      },
      "execution_count": null,
      "outputs": [
        {
          "output_type": "execute_result",
          "data": {
            "text/plain": [
              "'to code'"
            ],
            "application/vnd.google.colaboratory.intrinsic+json": {
              "type": "string"
            }
          },
          "metadata": {},
          "execution_count": 8
        }
      ]
    },
    {
      "cell_type": "code",
      "source": [
        "a[12]"
      ],
      "metadata": {
        "colab": {
          "base_uri": "https://localhost:8080/",
          "height": 35
        },
        "id": "XLct7laQu25j",
        "outputId": "80ece007-dd7e-4a32-8b77-26a9507150cf"
      },
      "execution_count": null,
      "outputs": [
        {
          "output_type": "execute_result",
          "data": {
            "text/plain": [
              "'g'"
            ],
            "application/vnd.google.colaboratory.intrinsic+json": {
              "type": "string"
            }
          },
          "metadata": {},
          "execution_count": 70
        }
      ]
    },
    {
      "cell_type": "code",
      "source": [
        "a = \"1234567891\""
      ],
      "metadata": {
        "id": "Hh_LDh61w71z"
      },
      "execution_count": null,
      "outputs": []
    },
    {
      "cell_type": "code",
      "source": [
        "a[ : :2]"
      ],
      "metadata": {
        "colab": {
          "base_uri": "https://localhost:8080/",
          "height": 35
        },
        "id": "5XgeUZSJsY6C",
        "outputId": "355af447-e4bd-4307-d406-b78afdcc2a2d"
      },
      "execution_count": null,
      "outputs": [
        {
          "output_type": "execute_result",
          "data": {
            "text/plain": [
              "'13579'"
            ],
            "application/vnd.google.colaboratory.intrinsic+json": {
              "type": "string"
            }
          },
          "metadata": {},
          "execution_count": 94
        }
      ]
    },
    {
      "cell_type": "code",
      "source": [
        "a[ : 14:2]"
      ],
      "metadata": {
        "colab": {
          "base_uri": "https://localhost:8080/",
          "height": 35
        },
        "id": "PvXbTKpkwynT",
        "outputId": "ef05339c-129c-4c53-b0b5-6ad6b6e54809"
      },
      "execution_count": null,
      "outputs": [
        {
          "output_type": "execute_result",
          "data": {
            "text/plain": [
              "'ia erig'"
            ],
            "application/vnd.google.colaboratory.intrinsic+json": {
              "type": "string"
            }
          },
          "metadata": {},
          "execution_count": 85
        }
      ]
    },
    {
      "cell_type": "code",
      "source": [
        "# to access a particular value in a string\n",
        "a[0] # accessing 0th index "
      ],
      "metadata": {
        "colab": {
          "base_uri": "https://localhost:8080/",
          "height": 35
        },
        "id": "wUa9oCdiQbCB",
        "outputId": "bfa6ee21-88fc-4df9-e828-d2dc5d3197c2"
      },
      "execution_count": null,
      "outputs": [
        {
          "output_type": "execute_result",
          "data": {
            "text/plain": [
              "'P'"
            ],
            "application/vnd.google.colaboratory.intrinsic+json": {
              "type": "string"
            }
          },
          "metadata": {},
          "execution_count": 9
        }
      ]
    },
    {
      "cell_type": "code",
      "source": [
        "# accessing last index\n",
        "print(\"accessing last index value through forward index: \",a[5])\n",
        "print(\"accessing last index value through negative index: \",a[-1])"
      ],
      "metadata": {
        "colab": {
          "base_uri": "https://localhost:8080/"
        },
        "id": "tAqXC_I3SZrH",
        "outputId": "0b6dea31-feaa-446e-b861-c11bd9c30332"
      },
      "execution_count": null,
      "outputs": [
        {
          "output_type": "stream",
          "name": "stdout",
          "text": [
            "accessing last index value through forward index:  n\n",
            "accessing last index value through negative index:  n\n"
          ]
        }
      ]
    },
    {
      "cell_type": "markdown",
      "source": [
        "<img src = https://www.alphacodingskills.com/python/img/python-string.png >"
      ],
      "metadata": {
        "id": "dtPfALDS17ez"
      }
    },
    {
      "cell_type": "code",
      "source": [
        "a[5], a[-1]"
      ],
      "metadata": {
        "id": "jdXNH3K1ydvs"
      },
      "execution_count": null,
      "outputs": []
    },
    {
      "cell_type": "code",
      "source": [
        "# get index value from 0 to 2\n",
        "a[0:3]"
      ],
      "metadata": {
        "colab": {
          "base_uri": "https://localhost:8080/",
          "height": 35
        },
        "id": "If98h9BRSe-N",
        "outputId": "dec65e06-5501-41b1-9c21-c7fd14f45673"
      },
      "execution_count": null,
      "outputs": [
        {
          "output_type": "execute_result",
          "data": {
            "text/plain": [
              "'Pyt'"
            ],
            "application/vnd.google.colaboratory.intrinsic+json": {
              "type": "string"
            }
          },
          "metadata": {},
          "execution_count": 15
        }
      ]
    },
    {
      "cell_type": "code",
      "source": [
        "a[-6:-3]"
      ],
      "metadata": {
        "colab": {
          "base_uri": "https://localhost:8080/",
          "height": 35
        },
        "id": "hhb-9wURTW6X",
        "outputId": "fd030717-225b-435e-db83-dfc54eac4942"
      },
      "execution_count": null,
      "outputs": [
        {
          "output_type": "execute_result",
          "data": {
            "text/plain": [
              "'Pyt'"
            ],
            "application/vnd.google.colaboratory.intrinsic+json": {
              "type": "string"
            }
          },
          "metadata": {},
          "execution_count": 26
        }
      ]
    },
    {
      "cell_type": "code",
      "source": [
        "# get index value from index 2 to last element\n",
        "a[2:]"
      ],
      "metadata": {
        "colab": {
          "base_uri": "https://localhost:8080/",
          "height": 35
        },
        "id": "lQNLaiV5TEdC",
        "outputId": "8a939546-8ef6-448a-b8d1-05914a9b53c0"
      },
      "execution_count": null,
      "outputs": [
        {
          "output_type": "execute_result",
          "data": {
            "text/plain": [
              "'thon'"
            ],
            "application/vnd.google.colaboratory.intrinsic+json": {
              "type": "string"
            }
          },
          "metadata": {},
          "execution_count": 16
        }
      ]
    },
    {
      "cell_type": "code",
      "source": [
        "# reverse a string\n",
        "a[::-1]"
      ],
      "metadata": {
        "colab": {
          "base_uri": "https://localhost:8080/",
          "height": 35
        },
        "id": "r3dOJ1ECTQhE",
        "outputId": "3d25e812-b9dd-4da7-81b1-b211038ba8aa"
      },
      "execution_count": null,
      "outputs": [
        {
          "output_type": "execute_result",
          "data": {
            "text/plain": [
              "'nohtyP'"
            ],
            "application/vnd.google.colaboratory.intrinsic+json": {
              "type": "string"
            }
          },
          "metadata": {},
          "execution_count": 27
        }
      ]
    },
    {
      "cell_type": "markdown",
      "source": [
        "### String functions\n",
        "\n",
        "some of the most used functions to perform operations on or manipulate strings are -:\n",
        "\n",
        "- **len()** function --> This function returns the length of the string."
      ],
      "metadata": {
        "id": "hD1CKy6vXhG2"
      }
    },
    {
      "cell_type": "code",
      "source": [
        "a = \"java\"\n",
        "len(a)"
      ],
      "metadata": {
        "colab": {
          "base_uri": "https://localhost:8080/"
        },
        "id": "qLLH8cASz3ze",
        "outputId": "8ba4f466-f323-493b-ecf1-06a06f44880c"
      },
      "execution_count": null,
      "outputs": [
        {
          "output_type": "execute_result",
          "data": {
            "text/plain": [
              "4"
            ]
          },
          "metadata": {},
          "execution_count": 9
        }
      ]
    },
    {
      "cell_type": "code",
      "source": [
        "len(\"java\")"
      ],
      "metadata": {
        "colab": {
          "base_uri": "https://localhost:8080/"
        },
        "id": "Zlw037WK0NpX",
        "outputId": "bcad634f-cd5c-41a4-c2a6-846de0271b04"
      },
      "execution_count": null,
      "outputs": [
        {
          "output_type": "execute_result",
          "data": {
            "text/plain": [
              "4"
            ]
          },
          "metadata": {},
          "execution_count": 10
        }
      ]
    },
    {
      "cell_type": "code",
      "source": [
        "b = '0 #$%#$% sdfdsHJFHJF'\n",
        "len(b)"
      ],
      "metadata": {
        "colab": {
          "base_uri": "https://localhost:8080/"
        },
        "id": "WsmDc-YKGcdM",
        "outputId": "db605168-2dcc-4b3d-e085-3851a1bfea3b"
      },
      "execution_count": null,
      "outputs": [
        {
          "output_type": "execute_result",
          "data": {
            "text/plain": [
              "20"
            ]
          },
          "metadata": {},
          "execution_count": 16
        }
      ]
    },
    {
      "cell_type": "code",
      "source": [
        "txt = \"This function returns the length of the string.\"\n",
        "\n",
        "len(txt)"
      ],
      "metadata": {
        "colab": {
          "base_uri": "https://localhost:8080/"
        },
        "id": "SszHFwJR0gmV",
        "outputId": "ce5e069c-89a3-47f1-8e24-15fdcbab2218"
      },
      "execution_count": null,
      "outputs": [
        {
          "output_type": "execute_result",
          "data": {
            "text/plain": [
              "52"
            ]
          },
          "metadata": {},
          "execution_count": 102
        }
      ]
    },
    {
      "cell_type": "code",
      "source": [
        "a = \"\""
      ],
      "metadata": {
        "colab": {
          "base_uri": "https://localhost:8080/"
        },
        "id": "BMpi7fAm0RJv",
        "outputId": "eccd02c0-c46e-433b-c636-a51ab3a3df10"
      },
      "execution_count": null,
      "outputs": [
        {
          "output_type": "execute_result",
          "data": {
            "text/plain": [
              "0"
            ]
          },
          "metadata": {},
          "execution_count": 97
        }
      ]
    },
    {
      "cell_type": "code",
      "source": [
        "len(\"Python\")"
      ],
      "metadata": {
        "colab": {
          "base_uri": "https://localhost:8080/"
        },
        "id": "bktW6_-TXIi7",
        "outputId": "311e85be-3c76-43d7-f77a-177ff8f1bfbc"
      },
      "execution_count": null,
      "outputs": [
        {
          "output_type": "execute_result",
          "data": {
            "text/plain": [
              "6"
            ]
          },
          "metadata": {},
          "execution_count": 29
        }
      ]
    },
    {
      "cell_type": "markdown",
      "source": [
        "- **string.count(\"c\")** --> count the total number of occurence of any character."
      ],
      "metadata": {
        "id": "rIwLNyIOYsTV"
      }
    },
    {
      "cell_type": "code",
      "source": [
        "b =\"success\"\n",
        "b.count(\"s\")"
      ],
      "metadata": {
        "colab": {
          "base_uri": "https://localhost:8080/"
        },
        "id": "kzOON46kYh9L",
        "outputId": "4bfd4289-ca35-4a6c-bd22-43312ce3e4f8"
      },
      "execution_count": null,
      "outputs": [
        {
          "output_type": "execute_result",
          "data": {
            "text/plain": [
              "3"
            ]
          },
          "metadata": {},
          "execution_count": 17
        }
      ]
    },
    {
      "cell_type": "code",
      "source": [
        "txt = \" count the total number of occurence of any character. the\"\n",
        "txt.count(\"the\")"
      ],
      "metadata": {
        "id": "wcx15ICF7vof",
        "colab": {
          "base_uri": "https://localhost:8080/"
        },
        "outputId": "626d9321-ce34-4af4-c519-4c1dc7f5e05b"
      },
      "execution_count": null,
      "outputs": [
        {
          "output_type": "execute_result",
          "data": {
            "text/plain": [
              "2"
            ]
          },
          "metadata": {},
          "execution_count": 18
        }
      ]
    },
    {
      "cell_type": "code",
      "source": [
        "about = '''Microsoft is an American multinational technology.corporation producing computer software.consumer electronics, personal computers,\n",
        " and related services.\n",
        "'''"
      ],
      "metadata": {
        "id": "NqNVMkMEaFgI"
      },
      "execution_count": null,
      "outputs": []
    },
    {
      "cell_type": "code",
      "source": [
        "for txt in about.split(\".\"):\n",
        "  print(txt.capitalize())\n"
      ],
      "metadata": {
        "colab": {
          "base_uri": "https://localhost:8080/"
        },
        "id": "CnmvYC7d2pJb",
        "outputId": "1d8f027f-aba8-4d2b-a40f-a6003d60f9aa"
      },
      "execution_count": null,
      "outputs": [
        {
          "output_type": "stream",
          "name": "stdout",
          "text": [
            "Microsoft is an american multinational technology\n",
            "Corporation producing computer software\n",
            "Consumer electronics, personal computers,\n",
            " and related services\n",
            "\n",
            "\n"
          ]
        }
      ]
    },
    {
      "cell_type": "code",
      "source": [
        "about.upper() # convert string to uppercase"
      ],
      "metadata": {
        "colab": {
          "base_uri": "https://localhost:8080/",
          "height": 53
        },
        "id": "W3sLgJRAZQjp",
        "outputId": "46e1a699-3cba-4d11-db45-b238859b071c"
      },
      "execution_count": null,
      "outputs": [
        {
          "output_type": "execute_result",
          "data": {
            "text/plain": [
              "'MICROSOFT IS AN AMERICAN MULTINATIONAL TECHNOLOGY \\nCORPORATION PRODUCING COMPUTER SOFTWARE, CONSUMER ELECTRONICS, PERSONAL COMPUTERS,\\n AND RELATED SERVICES.\\n'"
            ],
            "application/vnd.google.colaboratory.intrinsic+json": {
              "type": "string"
            }
          },
          "metadata": {},
          "execution_count": 109
        }
      ]
    },
    {
      "cell_type": "code",
      "source": [
        "about.capitalize() # capitalize the first character"
      ],
      "metadata": {
        "colab": {
          "base_uri": "https://localhost:8080/",
          "height": 53
        },
        "id": "Pl0fzgnPZntg",
        "outputId": "2a6bd9a7-d867-47a3-81ad-f16f79825ae3"
      },
      "execution_count": null,
      "outputs": [
        {
          "output_type": "execute_result",
          "data": {
            "text/plain": [
              "'Microsoft is an american multinational technology \\ncorporation producing computer software, consumer electronics, personal computers,\\n and related services.\\n'"
            ],
            "application/vnd.google.colaboratory.intrinsic+json": {
              "type": "string"
            }
          },
          "metadata": {},
          "execution_count": 110
        }
      ]
    },
    {
      "cell_type": "code",
      "source": [
        "about.lower() # convert string to lower case"
      ],
      "metadata": {
        "colab": {
          "base_uri": "https://localhost:8080/",
          "height": 53
        },
        "id": "zyse3u3NZvOA",
        "outputId": "7dfc152f-abec-4bb8-b6ba-88d32be9f1d0"
      },
      "execution_count": null,
      "outputs": [
        {
          "output_type": "execute_result",
          "data": {
            "text/plain": [
              "'microsoft is an american multinational technology \\ncorporation producing computer software, consumer electronics, personal computers,\\n and related services.\\n'"
            ],
            "application/vnd.google.colaboratory.intrinsic+json": {
              "type": "string"
            }
          },
          "metadata": {},
          "execution_count": 111
        }
      ]
    },
    {
      "cell_type": "code",
      "source": [],
      "metadata": {
        "id": "OwuIBNtS2aa5"
      },
      "execution_count": null,
      "outputs": []
    },
    {
      "cell_type": "markdown",
      "source": [
        "- **string.find(word)** -->This functions finds a word and return the index of the first occurence of that word in the string."
      ],
      "metadata": {
        "id": "5wU8BwQObfpv"
      }
    },
    {
      "cell_type": "code",
      "source": [
        "about"
      ],
      "metadata": {
        "colab": {
          "base_uri": "https://localhost:8080/",
          "height": 53
        },
        "id": "KdNinISaHwvy",
        "outputId": "a59841c3-74ab-4a30-8e0a-62712fa48441"
      },
      "execution_count": null,
      "outputs": [
        {
          "output_type": "execute_result",
          "data": {
            "text/plain": [
              "'Microsoft is an American multinational technology.corporation producing computer software.consumer electronics, personal computers,\\n and related services.\\n'"
            ],
            "application/vnd.google.colaboratory.intrinsic+json": {
              "type": "string"
            }
          },
          "metadata": {},
          "execution_count": 20
        }
      ]
    },
    {
      "cell_type": "code",
      "source": [
        "about.find(\"is\")"
      ],
      "metadata": {
        "colab": {
          "base_uri": "https://localhost:8080/"
        },
        "id": "xrXCZzsIasv2",
        "outputId": "41e10f9b-882f-4398-9def-06757fad91ab"
      },
      "execution_count": null,
      "outputs": [
        {
          "output_type": "execute_result",
          "data": {
            "text/plain": [
              "10"
            ]
          },
          "metadata": {},
          "execution_count": 21
        }
      ]
    },
    {
      "cell_type": "code",
      "source": [
        "about.find('i')"
      ],
      "metadata": {
        "colab": {
          "base_uri": "https://localhost:8080/"
        },
        "id": "-lmqZtbdILXs",
        "outputId": "5f64b656-a606-4fdc-f8c6-c722271209d3"
      },
      "execution_count": null,
      "outputs": [
        {
          "output_type": "execute_result",
          "data": {
            "text/plain": [
              "1"
            ]
          },
          "metadata": {},
          "execution_count": 22
        }
      ]
    },
    {
      "cell_type": "code",
      "source": [
        "about"
      ],
      "metadata": {
        "colab": {
          "base_uri": "https://localhost:8080/",
          "height": 53
        },
        "id": "wlTYP3ucI5Ip",
        "outputId": "5d981992-0221-4f96-f023-c4835fa9e43c"
      },
      "execution_count": null,
      "outputs": [
        {
          "output_type": "execute_result",
          "data": {
            "text/plain": [
              "'Microsoft is an American multinational technology.corporation producing computer software.consumer electronics, personal computers,\\n and related services.\\n'"
            ],
            "application/vnd.google.colaboratory.intrinsic+json": {
              "type": "string"
            }
          },
          "metadata": {},
          "execution_count": 28
        }
      ]
    },
    {
      "cell_type": "code",
      "source": [
        "about.lower().find(\"american\")"
      ],
      "metadata": {
        "colab": {
          "base_uri": "https://localhost:8080/"
        },
        "id": "4eSq20fAI69R",
        "outputId": "5a548584-2b0a-4d82-d7d3-b548161c955d"
      },
      "execution_count": null,
      "outputs": [
        {
          "output_type": "execute_result",
          "data": {
            "text/plain": [
              "16"
            ]
          },
          "metadata": {},
          "execution_count": 29
        }
      ]
    },
    {
      "cell_type": "code",
      "source": [
        "about.find(\"American\")"
      ],
      "metadata": {
        "colab": {
          "base_uri": "https://localhost:8080/"
        },
        "id": "FCsCaaReb8sM",
        "outputId": "52df66aa-c040-4282-fbfc-4dcdfe958f9e"
      },
      "execution_count": null,
      "outputs": [
        {
          "output_type": "execute_result",
          "data": {
            "text/plain": [
              "16"
            ]
          },
          "metadata": {},
          "execution_count": 30
        }
      ]
    },
    {
      "cell_type": "code",
      "source": [
        "about[:15]"
      ],
      "metadata": {
        "colab": {
          "base_uri": "https://localhost:8080/",
          "height": 36
        },
        "id": "j602GzbTcDYM",
        "outputId": "0f716fc4-2383-4771-f429-684a6bb464ff"
      },
      "execution_count": null,
      "outputs": [
        {
          "output_type": "execute_result",
          "data": {
            "text/plain": [
              "'Microsoft is an'"
            ],
            "application/vnd.google.colaboratory.intrinsic+json": {
              "type": "string"
            }
          },
          "metadata": {},
          "execution_count": 22
        }
      ]
    },
    {
      "cell_type": "markdown",
      "source": [
        "- **string.replace(old_word, new_word)** --> This function replaces old word with new word in the entire string."
      ],
      "metadata": {
        "id": "dVuMPnKPdN60"
      }
    },
    {
      "cell_type": "code",
      "source": [
        "about"
      ],
      "metadata": {
        "colab": {
          "base_uri": "https://localhost:8080/",
          "height": 53
        },
        "id": "VvIYOAALJSVa",
        "outputId": "4b90ed60-68ff-47f3-e0f2-029d05b0efdd"
      },
      "execution_count": null,
      "outputs": [
        {
          "output_type": "execute_result",
          "data": {
            "text/plain": [
              "'Microsoft is an American multinational technology.corporation producing computer software.consumer electronics, personal computers,\\n and related services.\\n'"
            ],
            "application/vnd.google.colaboratory.intrinsic+json": {
              "type": "string"
            }
          },
          "metadata": {},
          "execution_count": 31
        }
      ]
    },
    {
      "cell_type": "code",
      "source": [
        "# replace GEEKLURN with GEEKLURN pvt ltd\n",
        "about.replace(\"Microsoft\", \"Microsoft PVT LTD\")"
      ],
      "metadata": {
        "colab": {
          "base_uri": "https://localhost:8080/",
          "height": 53
        },
        "id": "TM05yFVYcUqL",
        "outputId": "6095d2e0-a86b-4bde-a945-e207f6655c6f"
      },
      "execution_count": null,
      "outputs": [
        {
          "output_type": "execute_result",
          "data": {
            "text/plain": [
              "'Microsoft PVT LTD is an American multinational technology.corporation producing computer software.consumer electronics, personal computers,\\n and related services.\\n'"
            ],
            "application/vnd.google.colaboratory.intrinsic+json": {
              "type": "string"
            }
          },
          "metadata": {},
          "execution_count": 32
        }
      ]
    },
    {
      "cell_type": "code",
      "source": [
        "poem = '''twinkle twinkle little star.twinkle'''"
      ],
      "metadata": {
        "id": "qBVQt5GuJ22q"
      },
      "execution_count": null,
      "outputs": []
    },
    {
      "cell_type": "code",
      "source": [
        "poem"
      ],
      "metadata": {
        "colab": {
          "base_uri": "https://localhost:8080/",
          "height": 35
        },
        "id": "0IvbG1ZKKC2i",
        "outputId": "10a8c841-6ff9-42f2-baa4-e32cfe7e53db"
      },
      "execution_count": null,
      "outputs": [
        {
          "output_type": "execute_result",
          "data": {
            "text/plain": [
              "'twinkle twinkle little star.twinkle'"
            ],
            "application/vnd.google.colaboratory.intrinsic+json": {
              "type": "string"
            }
          },
          "metadata": {},
          "execution_count": 38
        }
      ]
    },
    {
      "cell_type": "code",
      "source": [
        "# string.replace(old_word, new_word)\n",
        "poem.replace(\"twinkle\", \"sparkle\")\n"
      ],
      "metadata": {
        "colab": {
          "base_uri": "https://localhost:8080/",
          "height": 35
        },
        "id": "hmXGmwMsKL_u",
        "outputId": "74c57537-d055-4c54-c4a6-e501fc17bd81"
      },
      "execution_count": null,
      "outputs": [
        {
          "output_type": "execute_result",
          "data": {
            "text/plain": [
              "'sparkle sparkle little star.sparkle'"
            ],
            "application/vnd.google.colaboratory.intrinsic+json": {
              "type": "string"
            }
          },
          "metadata": {},
          "execution_count": 39
        }
      ]
    },
    {
      "cell_type": "markdown",
      "source": [
        "## List\n",
        "\n",
        "Python lists are containers to store a set of values of various datatypes."
      ],
      "metadata": {
        "id": "E6Ua_xh7ecS7"
      }
    },
    {
      "cell_type": "code",
      "source": [
        "dummy_list = [\"apple is a fruit\", 34, 57.43   , True]\n",
        "dummy_list"
      ],
      "metadata": {
        "colab": {
          "base_uri": "https://localhost:8080/"
        },
        "id": "nE4v7vGseFjh",
        "outputId": "95c971bb-0f63-4af6-e383-298d22996d20"
      },
      "execution_count": null,
      "outputs": [
        {
          "output_type": "execute_result",
          "data": {
            "text/plain": [
              "['apple is a fruit', 34, 57.43, True]"
            ]
          },
          "metadata": {},
          "execution_count": 43
        }
      ]
    },
    {
      "cell_type": "markdown",
      "source": [
        "A list can be index and sliced just like strings"
      ],
      "metadata": {
        "id": "fvQWOn3cfGtA"
      }
    },
    {
      "cell_type": "code",
      "source": [
        "dummy_list[-1], dummy_list[3]"
      ],
      "metadata": {
        "colab": {
          "base_uri": "https://localhost:8080/"
        },
        "id": "swg9CYP4Lcfu",
        "outputId": "d7d2292c-4f1f-420e-c6d4-028aadbbe83b"
      },
      "execution_count": null,
      "outputs": [
        {
          "output_type": "execute_result",
          "data": {
            "text/plain": [
              "(True, True)"
            ]
          },
          "metadata": {},
          "execution_count": 45
        }
      ]
    },
    {
      "cell_type": "code",
      "source": [
        "dummy_list[1]"
      ],
      "metadata": {
        "colab": {
          "base_uri": "https://localhost:8080/"
        },
        "id": "CrnvQgWAe_Xv",
        "outputId": "7bf6c037-7127-406a-ad4c-d4720945fd7f"
      },
      "execution_count": null,
      "outputs": [
        {
          "output_type": "execute_result",
          "data": {
            "text/plain": [
              "34"
            ]
          },
          "metadata": {},
          "execution_count": 46
        }
      ]
    },
    {
      "cell_type": "code",
      "source": [
        "dummy_list[2]"
      ],
      "metadata": {
        "colab": {
          "base_uri": "https://localhost:8080/"
        },
        "id": "SDQtFHe9fdNu",
        "outputId": "1d54d6f9-afb2-4d11-e449-c3e2afdf1a16"
      },
      "execution_count": null,
      "outputs": [
        {
          "output_type": "execute_result",
          "data": {
            "text/plain": [
              "57.43"
            ]
          },
          "metadata": {},
          "execution_count": 68
        }
      ]
    },
    {
      "cell_type": "code",
      "source": [
        "dummy_list[4]"
      ],
      "metadata": {
        "colab": {
          "base_uri": "https://localhost:8080/",
          "height": 166
        },
        "id": "o9J40a3pff6F",
        "outputId": "c56b01e1-946e-4de2-ea84-e13c954debfa"
      },
      "execution_count": null,
      "outputs": [
        {
          "output_type": "error",
          "ename": "IndexError",
          "evalue": "ignored",
          "traceback": [
            "\u001b[0;31m---------------------------------------------------------------------------\u001b[0m",
            "\u001b[0;31mIndexError\u001b[0m                                Traceback (most recent call last)",
            "\u001b[0;32m<ipython-input-53-0cb288761454>\u001b[0m in \u001b[0;36m<module>\u001b[0;34m\u001b[0m\n\u001b[0;32m----> 1\u001b[0;31m \u001b[0mdummy_list\u001b[0m\u001b[0;34m[\u001b[0m\u001b[0;36m4\u001b[0m\u001b[0;34m]\u001b[0m\u001b[0;34m\u001b[0m\u001b[0;34m\u001b[0m\u001b[0m\n\u001b[0m",
            "\u001b[0;31mIndexError\u001b[0m: list index out of range"
          ]
        }
      ]
    },
    {
      "cell_type": "code",
      "source": [
        "dummy_list = ['apple is a fruit', 34, 57.43, True]"
      ],
      "metadata": {
        "id": "cZiKPHdDNKG1"
      },
      "execution_count": null,
      "outputs": []
    },
    {
      "cell_type": "code",
      "source": [
        "dummy_list[0:2]"
      ],
      "metadata": {
        "colab": {
          "base_uri": "https://localhost:8080/"
        },
        "id": "Mtd7gy2NfiAO",
        "outputId": "f377187e-e9bd-4320-8c8d-dae9ef6b45fd"
      },
      "execution_count": null,
      "outputs": [
        {
          "output_type": "execute_result",
          "data": {
            "text/plain": [
              "['apple is a fruit', 34]"
            ]
          },
          "metadata": {},
          "execution_count": 18
        }
      ]
    },
    {
      "cell_type": "code",
      "source": [
        "dummy_list[0:]"
      ],
      "metadata": {
        "colab": {
          "base_uri": "https://localhost:8080/"
        },
        "id": "EsOcZWevNnHk",
        "outputId": "576d084d-249d-4105-efe7-baff0969ce5d"
      },
      "execution_count": null,
      "outputs": [
        {
          "output_type": "execute_result",
          "data": {
            "text/plain": [
              "['apple is a fruit', 34, 57.43, True]"
            ]
          },
          "metadata": {},
          "execution_count": 58
        }
      ]
    },
    {
      "cell_type": "code",
      "source": [
        "dummy_list[:]"
      ],
      "metadata": {
        "colab": {
          "base_uri": "https://localhost:8080/"
        },
        "id": "_QgG5UuTNppc",
        "outputId": "6272fd53-4dee-4689-c6fa-aafc6849d71c"
      },
      "execution_count": null,
      "outputs": [
        {
          "output_type": "execute_result",
          "data": {
            "text/plain": [
              "['apple is a fruit', 34, 57.43, True]"
            ]
          },
          "metadata": {},
          "execution_count": 59
        }
      ]
    },
    {
      "cell_type": "code",
      "source": [
        "print(dummy_list)"
      ],
      "metadata": {
        "colab": {
          "base_uri": "https://localhost:8080/"
        },
        "id": "fmaeMn22Nw9P",
        "outputId": "f7e6b8e4-0589-4a4e-a1a4-8e98ecbddb11"
      },
      "execution_count": null,
      "outputs": [
        {
          "output_type": "stream",
          "name": "stdout",
          "text": [
            "['apple is a fruit', 34, 57.43, True]\n"
          ]
        }
      ]
    },
    {
      "cell_type": "markdown",
      "source": [
        "### List methods\n",
        "\n",
        "following are the most used list methods"
      ],
      "metadata": {
        "id": "9gvbauwVfqxY"
      }
    },
    {
      "cell_type": "code",
      "source": [
        "num_list = [26,42,15,36,85,45]"
      ],
      "metadata": {
        "id": "8tZJKvYUflBF"
      },
      "execution_count": null,
      "outputs": []
    },
    {
      "cell_type": "code",
      "source": [
        "num_list"
      ],
      "metadata": {
        "colab": {
          "base_uri": "https://localhost:8080/"
        },
        "id": "7qM7i6JDOFnJ",
        "outputId": "431a2fd5-4e6d-4659-ef0b-80f072e48025"
      },
      "execution_count": null,
      "outputs": [
        {
          "output_type": "execute_result",
          "data": {
            "text/plain": [
              "[26, 42, 15, 36, 85, 45]"
            ]
          },
          "metadata": {},
          "execution_count": 20
        }
      ]
    },
    {
      "cell_type": "code",
      "source": [],
      "metadata": {
        "id": "rGPfuvK_QY67"
      },
      "execution_count": null,
      "outputs": []
    },
    {
      "cell_type": "code",
      "source": [
        "num_list.sort(reverse = True)\n",
        "num_list"
      ],
      "metadata": {
        "colab": {
          "base_uri": "https://localhost:8080/"
        },
        "id": "m_czTAh9OcDD",
        "outputId": "0df567c5-466d-4a72-deb4-03ff2882a6f8"
      },
      "execution_count": null,
      "outputs": [
        {
          "output_type": "execute_result",
          "data": {
            "text/plain": [
              "[85, 45, 42, 36, 26, 15]"
            ]
          },
          "metadata": {},
          "execution_count": 22
        }
      ]
    },
    {
      "cell_type": "code",
      "source": [
        "num_list"
      ],
      "metadata": {
        "colab": {
          "base_uri": "https://localhost:8080/"
        },
        "id": "0nPDPsY6OgdO",
        "outputId": "804b9a82-ef44-4951-cd3d-610e5e38ac8d"
      },
      "execution_count": null,
      "outputs": [
        {
          "output_type": "execute_result",
          "data": {
            "text/plain": [
              "[15, 26, 36, 42, 45, 85]"
            ]
          },
          "metadata": {},
          "execution_count": 65
        }
      ]
    },
    {
      "cell_type": "code",
      "source": [
        "num_list.sort() # sort the list in ascending order\n",
        "num_list"
      ],
      "metadata": {
        "colab": {
          "base_uri": "https://localhost:8080/"
        },
        "id": "KcviOtEZf6Cd",
        "outputId": "3a9ee723-2438-4065-c4f0-879c0bb2ec7a"
      },
      "execution_count": null,
      "outputs": [
        {
          "output_type": "execute_result",
          "data": {
            "text/plain": [
              "[15, 26, 36, 42, 45, 85]"
            ]
          },
          "metadata": {},
          "execution_count": 76
        }
      ]
    },
    {
      "cell_type": "code",
      "source": [
        "cars = ['Ford', 'BMW', 'Volvo', 'Mercedez']\n",
        "\n",
        "cars.sort(reverse=True)\n",
        "cars"
      ],
      "metadata": {
        "id": "sF1uM98kgAyV",
        "colab": {
          "base_uri": "https://localhost:8080/"
        },
        "outputId": "6b824f15-63a4-4ab4-ab69-a4cc63cebdd5"
      },
      "execution_count": null,
      "outputs": [
        {
          "output_type": "execute_result",
          "data": {
            "text/plain": [
              "['Volvo', 'Mercedez', 'Ford', 'BMW']"
            ]
          },
          "metadata": {},
          "execution_count": 24
        }
      ]
    },
    {
      "cell_type": "code",
      "source": [
        "car_l = []\n",
        "def car_len(car):\n",
        "  length = len(car)\n",
        "  # car_l.append(length)\n",
        "  return length"
      ],
      "metadata": {
        "id": "xATZcj9oP2x-"
      },
      "execution_count": null,
      "outputs": []
    },
    {
      "cell_type": "code",
      "source": [
        "for car in cars:\n",
        "  car_len(car)\n"
      ],
      "metadata": {
        "id": "PBRdpckqQJDv"
      },
      "execution_count": null,
      "outputs": []
    },
    {
      "cell_type": "code",
      "source": [
        "cars"
      ],
      "metadata": {
        "colab": {
          "base_uri": "https://localhost:8080/"
        },
        "id": "Pw4MhjYzQrQu",
        "outputId": "847ec8c6-884b-420f-dd73-029e41985c99"
      },
      "execution_count": null,
      "outputs": [
        {
          "output_type": "execute_result",
          "data": {
            "text/plain": [
              "['Ford', 'BMW', 'Volvo', 'Mercedez']"
            ]
          },
          "metadata": {},
          "execution_count": 78
        }
      ]
    },
    {
      "cell_type": "code",
      "source": [
        "car_l"
      ],
      "metadata": {
        "colab": {
          "base_uri": "https://localhost:8080/"
        },
        "id": "WDSTq0aeQjvO",
        "outputId": "d67d87d3-cad1-4141-fc21-c6ffe71fa3c7"
      },
      "execution_count": null,
      "outputs": [
        {
          "output_type": "execute_result",
          "data": {
            "text/plain": [
              "[4, 3, 5, 8]"
            ]
          },
          "metadata": {},
          "execution_count": 77
        }
      ]
    },
    {
      "cell_type": "code",
      "source": [
        "cars.sort(key = lambda x : car_len(x))\n",
        "cars"
      ],
      "metadata": {
        "colab": {
          "base_uri": "https://localhost:8080/"
        },
        "id": "ip5__4NZQDIo",
        "outputId": "4a0683d0-6aa7-43b1-b7e3-ef94033306f9"
      },
      "execution_count": null,
      "outputs": [
        {
          "output_type": "execute_result",
          "data": {
            "text/plain": [
              "['BMW', 'Ford', 'Volvo', 'Mercedez']"
            ]
          },
          "metadata": {},
          "execution_count": 26
        }
      ]
    },
    {
      "cell_type": "code",
      "source": [
        "cars.sort()"
      ],
      "metadata": {
        "id": "mdWGse3RPH28"
      },
      "execution_count": null,
      "outputs": []
    },
    {
      "cell_type": "code",
      "source": [
        "cars"
      ],
      "metadata": {
        "colab": {
          "base_uri": "https://localhost:8080/"
        },
        "id": "znpXXOarPOpo",
        "outputId": "619329b6-7b15-4437-bf9e-5a3a39f2b0c5"
      },
      "execution_count": null,
      "outputs": [
        {
          "output_type": "execute_result",
          "data": {
            "text/plain": [
              "['BMW', 'Ford', 'Volvo']"
            ]
          },
          "metadata": {},
          "execution_count": 69
        }
      ]
    },
    {
      "cell_type": "code",
      "source": [
        "num_list = [26,42,15,36,85,45]\n",
        "num_list.reverse()\n",
        "num_list"
      ],
      "metadata": {
        "colab": {
          "base_uri": "https://localhost:8080/"
        },
        "id": "bdErUflLgYek",
        "outputId": "ec8e9f4a-0c26-4928-969d-cf1fad6f7a09"
      },
      "execution_count": null,
      "outputs": [
        {
          "output_type": "execute_result",
          "data": {
            "text/plain": [
              "[45, 85, 36, 15, 42, 26]"
            ]
          },
          "metadata": {},
          "execution_count": 84
        }
      ]
    },
    {
      "cell_type": "code",
      "source": [
        "cars = ['Ford', 'BMW', 'Volvo', 'Mercedez']\n",
        "\n",
        "cars.reverse()\n",
        "cars"
      ],
      "metadata": {
        "colab": {
          "base_uri": "https://localhost:8080/"
        },
        "id": "UewNROCqRygh",
        "outputId": "951dd63c-8006-4214-f85c-2e59d183be78"
      },
      "execution_count": null,
      "outputs": [
        {
          "output_type": "execute_result",
          "data": {
            "text/plain": [
              "['Mercedez', 'Volvo', 'BMW', 'Ford']"
            ]
          },
          "metadata": {},
          "execution_count": 85
        }
      ]
    },
    {
      "cell_type": "code",
      "source": [
        "num_list = [26,42,15,36,85,45]\n",
        "num_list.append(101) # add 101 at the end of the list\n",
        "num_list"
      ],
      "metadata": {
        "colab": {
          "base_uri": "https://localhost:8080/"
        },
        "id": "dScBqwpygk2U",
        "outputId": "1a567b0d-6158-4fd5-a943-0e9b211b576d"
      },
      "execution_count": null,
      "outputs": [
        {
          "output_type": "execute_result",
          "data": {
            "text/plain": [
              "[26, 42, 15, 36, 85, 45, 101]"
            ]
          },
          "metadata": {},
          "execution_count": 102
        }
      ]
    },
    {
      "cell_type": "code",
      "source": [
        "num_list.append(\"Ford\")"
      ],
      "metadata": {
        "id": "kirYgc1bSYv9"
      },
      "execution_count": null,
      "outputs": []
    },
    {
      "cell_type": "code",
      "source": [
        "num_list = [26,42,15,36,85,45]\n",
        "test_list= [1,2,3,4]"
      ],
      "metadata": {
        "id": "ZG9_ZrqOfv3J"
      },
      "execution_count": null,
      "outputs": []
    },
    {
      "cell_type": "code",
      "source": [
        "num_list.append(test_list)"
      ],
      "metadata": {
        "id": "sh9KhrbNf3kK"
      },
      "execution_count": null,
      "outputs": []
    },
    {
      "cell_type": "code",
      "source": [
        "num_list"
      ],
      "metadata": {
        "colab": {
          "base_uri": "https://localhost:8080/"
        },
        "id": "qdYI4laRf8P0",
        "outputId": "c770a293-541f-43ac-9be0-e68bc153a3f0"
      },
      "execution_count": null,
      "outputs": [
        {
          "output_type": "execute_result",
          "data": {
            "text/plain": [
              "[26, 42, 15, 36, 85, 45, [1, 2, 3, 4]]"
            ]
          },
          "metadata": {},
          "execution_count": 48
        }
      ]
    },
    {
      "cell_type": "code",
      "source": [
        "num_list.extend(test_list)\n",
        "num_list"
      ],
      "metadata": {
        "colab": {
          "base_uri": "https://localhost:8080/"
        },
        "id": "r6FewErvf__j",
        "outputId": "f97f6bb1-ae1d-485f-ecbf-4038a8e9ffac"
      },
      "execution_count": null,
      "outputs": [
        {
          "output_type": "execute_result",
          "data": {
            "text/plain": [
              "[26, 42, 15, 36, 85, 45, 1, 2, 3, 4]"
            ]
          },
          "metadata": {},
          "execution_count": 50
        }
      ]
    },
    {
      "cell_type": "code",
      "source": [
        "num_list"
      ],
      "metadata": {
        "colab": {
          "base_uri": "https://localhost:8080/"
        },
        "id": "QOsfuY4cSfbq",
        "outputId": "d0231292-2e46-4a3b-948e-0863c20c089d"
      },
      "execution_count": null,
      "outputs": [
        {
          "output_type": "execute_result",
          "data": {
            "text/plain": [
              "[26, 42, 15, 36, 85, 45, 101]"
            ]
          },
          "metadata": {},
          "execution_count": 103
        }
      ]
    },
    {
      "cell_type": "code",
      "source": [
        "num_list.insert(0,70)\n",
        "num_list"
      ],
      "metadata": {
        "colab": {
          "base_uri": "https://localhost:8080/"
        },
        "id": "swe07haZU_in",
        "outputId": "2433b55b-b9a5-4f31-dde7-ae64e16ecc19"
      },
      "execution_count": null,
      "outputs": [
        {
          "output_type": "execute_result",
          "data": {
            "text/plain": [
              "[70, 26, 42, 15, 36, 85, 45, 101]"
            ]
          },
          "metadata": {},
          "execution_count": 104
        }
      ]
    },
    {
      "cell_type": "code",
      "source": [
        "num_list.insert(8, \"tata\")"
      ],
      "metadata": {
        "id": "yqpmTyj7VNCn"
      },
      "execution_count": null,
      "outputs": []
    },
    {
      "cell_type": "code",
      "source": [
        "num_list"
      ],
      "metadata": {
        "colab": {
          "base_uri": "https://localhost:8080/"
        },
        "id": "23T8BgMiVjUr",
        "outputId": "bb0097c7-ef66-48ff-c8a7-874a15ffb3f3"
      },
      "execution_count": null,
      "outputs": [
        {
          "output_type": "execute_result",
          "data": {
            "text/plain": [
              "[70, 26, 42, 15, 36, 85, 45, 101, 'tata']"
            ]
          },
          "metadata": {},
          "execution_count": 106
        }
      ]
    },
    {
      "cell_type": "code",
      "source": [
        "num_list.insert(5, 100)\n",
        "num_list"
      ],
      "metadata": {
        "colab": {
          "base_uri": "https://localhost:8080/"
        },
        "id": "7nikEyZuTY2j",
        "outputId": "ff197847-38a6-47d3-aad1-58044c3380c2"
      },
      "execution_count": null,
      "outputs": [
        {
          "output_type": "execute_result",
          "data": {
            "text/plain": [
              "[26, 42, 15, 36, 85, 100, 45, 101, 99, 'Ford']"
            ]
          },
          "metadata": {},
          "execution_count": 91
        }
      ]
    },
    {
      "cell_type": "code",
      "source": [
        "[:]"
      ],
      "metadata": {
        "id": "tj_oXjhtUI6v"
      },
      "execution_count": null,
      "outputs": []
    },
    {
      "cell_type": "code",
      "source": [
        "num_list.insert(10,\"tata\")"
      ],
      "metadata": {
        "id": "CS2kDFabT2y8"
      },
      "execution_count": null,
      "outputs": []
    },
    {
      "cell_type": "code",
      "source": [
        "num_list.insert(-1, \"hyundai\")"
      ],
      "metadata": {
        "id": "jVbq8sq4USsp"
      },
      "execution_count": null,
      "outputs": []
    },
    {
      "cell_type": "code",
      "source": [
        "num_list"
      ],
      "metadata": {
        "colab": {
          "base_uri": "https://localhost:8080/"
        },
        "id": "G3c2O4g4UL5r",
        "outputId": "2409ab01-153e-490c-c970-cd733338523c"
      },
      "execution_count": null,
      "outputs": [
        {
          "output_type": "execute_result",
          "data": {
            "text/plain": [
              "[26, 42, 15, 36, 85, 100, 45, 101, 99, 'Ford', 'hyundai', 'tata']"
            ]
          },
          "metadata": {},
          "execution_count": 96
        }
      ]
    },
    {
      "cell_type": "code",
      "source": [
        "num_list.insert(3,8) # this will add 8 at 3rd index\n",
        "num_list"
      ],
      "metadata": {
        "colab": {
          "base_uri": "https://localhost:8080/"
        },
        "id": "WrJZp1UYgu28",
        "outputId": "c800ed01-15d4-460a-fe3d-4c058287869d"
      },
      "execution_count": null,
      "outputs": [
        {
          "output_type": "execute_result",
          "data": {
            "text/plain": [
              "[26, 42, 15, 8, 36, 85, 45, 101]"
            ]
          },
          "metadata": {},
          "execution_count": 80
        }
      ]
    },
    {
      "cell_type": "code",
      "source": [
        "a = [1,2,3]\n",
        "a.index(3)"
      ],
      "metadata": {
        "colab": {
          "base_uri": "https://localhost:8080/"
        },
        "id": "nyMp72N7bmhT",
        "outputId": "2f501f08-bb4a-4cd5-e3b4-67c24f1e0f57"
      },
      "execution_count": null,
      "outputs": [
        {
          "output_type": "execute_result",
          "data": {
            "text/plain": [
              "2"
            ]
          },
          "metadata": {},
          "execution_count": 149
        }
      ]
    },
    {
      "cell_type": "code",
      "source": [
        "a[2]"
      ],
      "metadata": {
        "colab": {
          "base_uri": "https://localhost:8080/"
        },
        "id": "Z3IsSEAkbtEJ",
        "outputId": "858ad955-7853-4ae9-9a50-5c0ddf210f28"
      },
      "execution_count": null,
      "outputs": [
        {
          "output_type": "execute_result",
          "data": {
            "text/plain": [
              "3"
            ]
          },
          "metadata": {},
          "execution_count": 150
        }
      ]
    },
    {
      "cell_type": "code",
      "source": [
        "num_list"
      ],
      "metadata": {
        "colab": {
          "base_uri": "https://localhost:8080/"
        },
        "id": "O3a9FkqUWAkE",
        "outputId": "f7b7d1f9-fd8b-41b5-e589-83b8b0ae025e"
      },
      "execution_count": null,
      "outputs": [
        {
          "output_type": "execute_result",
          "data": {
            "text/plain": [
              "[70, 26, 42, 15, 36, 85, 45, 101, 'tata']"
            ]
          },
          "metadata": {},
          "execution_count": 107
        }
      ]
    },
    {
      "cell_type": "code",
      "source": [
        "# num_list.append(\"hero honda\")\n",
        "num_list"
      ],
      "metadata": {
        "colab": {
          "base_uri": "https://localhost:8080/"
        },
        "id": "GZm4eqaFWEbr",
        "outputId": "4fbe45d2-50f2-4f2d-dfab-c5f36417326c"
      },
      "execution_count": null,
      "outputs": [
        {
          "output_type": "execute_result",
          "data": {
            "text/plain": [
              "[70, 26, 42, 15, 36, 85, 45, 101]"
            ]
          },
          "metadata": {},
          "execution_count": 120
        }
      ]
    },
    {
      "cell_type": "code",
      "source": [
        "num_list.pop()"
      ],
      "metadata": {
        "colab": {
          "base_uri": "https://localhost:8080/"
        },
        "id": "yz3GoIxYWXZe",
        "outputId": "97e879af-17d7-40a8-b20f-506dcc05b652"
      },
      "execution_count": null,
      "outputs": [
        {
          "output_type": "execute_result",
          "data": {
            "text/plain": [
              "101"
            ]
          },
          "metadata": {},
          "execution_count": 117
        }
      ]
    },
    {
      "cell_type": "code",
      "source": [
        "num_list.append(101)"
      ],
      "metadata": {
        "id": "CblVHbjwWeG8"
      },
      "execution_count": null,
      "outputs": []
    },
    {
      "cell_type": "code",
      "source": [
        "num_list.pop()\n",
        "num_list"
      ],
      "metadata": {
        "colab": {
          "base_uri": "https://localhost:8080/"
        },
        "id": "X-k1mxa_hEJj",
        "outputId": "a73336ee-1e55-4aa3-fb70-0131c1f54a84"
      },
      "execution_count": null,
      "outputs": [
        {
          "output_type": "execute_result",
          "data": {
            "text/plain": [
              "[26, 42, 15, 8, 36, 85, 45]"
            ]
          },
          "metadata": {},
          "execution_count": 81
        }
      ]
    },
    {
      "cell_type": "code",
      "source": [
        "num_list"
      ],
      "metadata": {
        "colab": {
          "base_uri": "https://localhost:8080/"
        },
        "id": "6f1Z5nAPXqF5",
        "outputId": "cd4f8e49-5a18-4838-9720-b6ccd638aa21"
      },
      "execution_count": null,
      "outputs": [
        {
          "output_type": "execute_result",
          "data": {
            "text/plain": [
              "[70, 26, 42, 15, 36, 85, 45, 101]"
            ]
          },
          "metadata": {},
          "execution_count": 121
        }
      ]
    },
    {
      "cell_type": "code",
      "source": [
        "num_list.pop(3)"
      ],
      "metadata": {
        "colab": {
          "base_uri": "https://localhost:8080/"
        },
        "id": "Sq8npL51XxkV",
        "outputId": "3b078109-c6ce-47a0-f343-c05da992a6f7"
      },
      "execution_count": null,
      "outputs": [
        {
          "output_type": "execute_result",
          "data": {
            "text/plain": [
              "15"
            ]
          },
          "metadata": {},
          "execution_count": 122
        }
      ]
    },
    {
      "cell_type": "code",
      "source": [
        "num_list.pop(0)"
      ],
      "metadata": {
        "colab": {
          "base_uri": "https://localhost:8080/"
        },
        "id": "rVhxpqkyYSQx",
        "outputId": "0be0487f-0aef-41b3-f600-cdbd8c2e943e"
      },
      "execution_count": null,
      "outputs": [
        {
          "output_type": "execute_result",
          "data": {
            "text/plain": [
              "70"
            ]
          },
          "metadata": {},
          "execution_count": 128
        }
      ]
    },
    {
      "cell_type": "code",
      "source": [
        "num_list"
      ],
      "metadata": {
        "colab": {
          "base_uri": "https://localhost:8080/"
        },
        "id": "ORJiT518X26a",
        "outputId": "0c416c76-471c-4ec8-c951-abaccbd38153"
      },
      "execution_count": null,
      "outputs": [
        {
          "output_type": "execute_result",
          "data": {
            "text/plain": [
              "[26, 42, 36, 45]"
            ]
          },
          "metadata": {},
          "execution_count": 129
        }
      ]
    },
    {
      "cell_type": "code",
      "source": [
        "num_list.pop(3) # will delete element at index 2 and return its value"
      ],
      "metadata": {
        "colab": {
          "base_uri": "https://localhost:8080/"
        },
        "id": "K72tZW7dhPJb",
        "outputId": "8095a85c-3bb1-4cd2-c3c1-78ebabd93348"
      },
      "execution_count": null,
      "outputs": [
        {
          "output_type": "execute_result",
          "data": {
            "text/plain": [
              "15"
            ]
          },
          "metadata": {},
          "execution_count": 82
        }
      ]
    },
    {
      "cell_type": "code",
      "source": [
        "num_list = [26, 42, 8, 36, 85,8, 45]\n",
        "num_list"
      ],
      "metadata": {
        "colab": {
          "base_uri": "https://localhost:8080/"
        },
        "id": "l8hxgJA5hc9S",
        "outputId": "4c056aba-8ac1-46a1-aaf3-535d86355fa8"
      },
      "execution_count": null,
      "outputs": [
        {
          "output_type": "execute_result",
          "data": {
            "text/plain": [
              "[26, 42, 8, 36, 85, 8, 45]"
            ]
          },
          "metadata": {},
          "execution_count": 27
        }
      ]
    },
    {
      "cell_type": "code",
      "source": [
        "num_list.remove(8)"
      ],
      "metadata": {
        "id": "MdFKnOefYyFp"
      },
      "execution_count": null,
      "outputs": []
    },
    {
      "cell_type": "code",
      "source": [
        "num_list"
      ],
      "metadata": {
        "colab": {
          "base_uri": "https://localhost:8080/"
        },
        "id": "_8LEOjnxY3t7",
        "outputId": "118448a1-6a95-4224-bf5a-09f584817f35"
      },
      "execution_count": null,
      "outputs": [
        {
          "output_type": "execute_result",
          "data": {
            "text/plain": [
              "[26, 42, 36, 85, 8, 45]"
            ]
          },
          "metadata": {},
          "execution_count": 29
        }
      ]
    },
    {
      "cell_type": "code",
      "source": [
        "num_list.remove(8) # will remove 8 from the list"
      ],
      "metadata": {
        "id": "vjOjPvo5hfSy"
      },
      "execution_count": null,
      "outputs": []
    },
    {
      "cell_type": "code",
      "source": [
        "num_list = [26, 42, 36,42 , 85, 45]\n",
        "num_list"
      ],
      "metadata": {
        "colab": {
          "base_uri": "https://localhost:8080/"
        },
        "id": "oAJXnzjPhqpB",
        "outputId": "e1376c78-b353-4441-9074-0b3a8006e4b4"
      },
      "execution_count": null,
      "outputs": [
        {
          "output_type": "execute_result",
          "data": {
            "text/plain": [
              "[26, 42, 36, 42, 85, 45]"
            ]
          },
          "metadata": {},
          "execution_count": 141
        }
      ]
    },
    {
      "cell_type": "code",
      "source": [
        "num_list.remove(42)\n",
        "num_list"
      ],
      "metadata": {
        "colab": {
          "base_uri": "https://localhost:8080/"
        },
        "id": "D_9Jg5bEZ5PT",
        "outputId": "4faa13f6-bee4-4e4a-d67d-2aca4b8ee527"
      },
      "execution_count": null,
      "outputs": [
        {
          "output_type": "execute_result",
          "data": {
            "text/plain": [
              "[26, 36, 42, 85, 45]"
            ]
          },
          "metadata": {},
          "execution_count": 143
        }
      ]
    },
    {
      "cell_type": "code",
      "source": [
        "names = [\"a\", \"b\", \"c\"]"
      ],
      "metadata": {
        "id": "RwllnwVyaFOj"
      },
      "execution_count": null,
      "outputs": []
    },
    {
      "cell_type": "code",
      "source": [
        "names.index(\"c\")"
      ],
      "metadata": {
        "colab": {
          "base_uri": "https://localhost:8080/"
        },
        "id": "mBAXE2U8aMDw",
        "outputId": "a11a7919-7496-4c59-d692-dfb1775f01e5"
      },
      "execution_count": null,
      "outputs": [
        {
          "output_type": "execute_result",
          "data": {
            "text/plain": [
              "2"
            ]
          },
          "metadata": {},
          "execution_count": 148
        }
      ]
    },
    {
      "cell_type": "code",
      "source": [
        "num_list.index(42)"
      ],
      "metadata": {
        "colab": {
          "base_uri": "https://localhost:8080/"
        },
        "id": "f8q6-4dmZfB9",
        "outputId": "372da308-192c-407f-a91b-a53cada1a92b"
      },
      "execution_count": null,
      "outputs": [
        {
          "output_type": "execute_result",
          "data": {
            "text/plain": [
              "2"
            ]
          },
          "metadata": {},
          "execution_count": 144
        }
      ]
    },
    {
      "cell_type": "code",
      "source": [
        "num_list.index(85) # return the first index of element in the list"
      ],
      "metadata": {
        "colab": {
          "base_uri": "https://localhost:8080/"
        },
        "id": "_fdQ1ptthshq",
        "outputId": "2a62bcb4-0dea-49aa-9002-d148fcc54984"
      },
      "execution_count": null,
      "outputs": [
        {
          "output_type": "execute_result",
          "data": {
            "text/plain": [
              "3"
            ]
          },
          "metadata": {},
          "execution_count": 89
        }
      ]
    },
    {
      "cell_type": "markdown",
      "source": [
        "## Dictionary\n",
        "\n",
        "Dictionary is a collection of key-value pairs\n",
        "\n",
        "<img src = https://miro.medium.com/max/960/1*XSmDUgPHZtzl0PPRmP6n4g.png width =400>\n",
        "\n"
      ],
      "metadata": {
        "id": "AzN8IEPgjlqZ"
      }
    },
    {
      "cell_type": "code",
      "source": [
        "hindi_to_eng = {\n",
        "    \"vidhyalaya\" : \"school\",\n",
        "    \"hawa\" : \"air\"\n",
        "}"
      ],
      "metadata": {
        "id": "s1T1JUScnNV0"
      },
      "execution_count": null,
      "outputs": []
    },
    {
      "cell_type": "code",
      "source": [
        "hindi_to_eng[\"vidhyalaya\"]"
      ],
      "metadata": {
        "colab": {
          "base_uri": "https://localhost:8080/",
          "height": 35
        },
        "id": "FAlMKb1MnbnL",
        "outputId": "c015d2d2-1a79-4374-836d-46d71906eac7"
      },
      "execution_count": null,
      "outputs": [
        {
          "output_type": "execute_result",
          "data": {
            "text/plain": [
              "'school'"
            ],
            "application/vnd.google.colaboratory.intrinsic+json": {
              "type": "string"
            }
          },
          "metadata": {},
          "execution_count": 41
        }
      ]
    },
    {
      "cell_type": "code",
      "source": [
        "temp_dict  = {\n",
        "    \"one\" : 1,\n",
        "    \"two\" : 2\n",
        "}"
      ],
      "metadata": {
        "id": "fWKHUAQmSXla"
      },
      "execution_count": null,
      "outputs": []
    },
    {
      "cell_type": "code",
      "source": [
        "temp_dict"
      ],
      "metadata": {
        "colab": {
          "base_uri": "https://localhost:8080/"
        },
        "id": "r9JPhHepS4VP",
        "outputId": "0e5c5511-64d8-44c6-bc44-4f75f957339a"
      },
      "execution_count": null,
      "outputs": [
        {
          "output_type": "execute_result",
          "data": {
            "text/plain": [
              "{'one': 1, 'two': 2}"
            ]
          },
          "metadata": {},
          "execution_count": 31
        }
      ]
    },
    {
      "cell_type": "code",
      "source": [
        "rec_dict = {\n",
        "    \"key\" : \"value\",\n",
        "    \"name\" : \"xyz\",\n",
        "    \"from\" : \"india\",\n",
        "    \"marks\" :[92,85,90]\n",
        "}"
      ],
      "metadata": {
        "id": "C0uWP7bgitnA"
      },
      "execution_count": null,
      "outputs": []
    },
    {
      "cell_type": "code",
      "source": [
        "rec_dict[\"to\"] = \"abc\""
      ],
      "metadata": {
        "id": "_sXCBYUHTdtg"
      },
      "execution_count": null,
      "outputs": []
    },
    {
      "cell_type": "code",
      "source": [
        "rec_dict"
      ],
      "metadata": {
        "colab": {
          "base_uri": "https://localhost:8080/"
        },
        "id": "P05ytcB7daJm",
        "outputId": "cc7d5686-2a12-48b7-ccff-357781bde915"
      },
      "execution_count": null,
      "outputs": [
        {
          "output_type": "execute_result",
          "data": {
            "text/plain": [
              "{'key': 'value',\n",
              " 'name': 'abc',\n",
              " 'from': 'india',\n",
              " 'marks': [92, 85, 90],\n",
              " 'to': 'abc'}"
            ]
          },
          "metadata": {},
          "execution_count": 78
        }
      ]
    },
    {
      "cell_type": "code",
      "source": [
        "l = [1,3,6,9]\n",
        "l[1]"
      ],
      "metadata": {
        "colab": {
          "base_uri": "https://localhost:8080/"
        },
        "id": "Kv0D73BFTwXU",
        "outputId": "7650c56e-228c-4e22-8110-d5e097344f8f"
      },
      "execution_count": null,
      "outputs": [
        {
          "output_type": "execute_result",
          "data": {
            "text/plain": [
              "3"
            ]
          },
          "metadata": {},
          "execution_count": 34
        }
      ]
    },
    {
      "cell_type": "code",
      "source": [
        "rec_dict[\"key\"]"
      ],
      "metadata": {
        "colab": {
          "base_uri": "https://localhost:8080/",
          "height": 35
        },
        "id": "d2Zq_C2mT7HE",
        "outputId": "30cc76a3-b64b-4486-ae56-6385589b0ac9"
      },
      "execution_count": null,
      "outputs": [
        {
          "output_type": "execute_result",
          "data": {
            "text/plain": [
              "'value'"
            ],
            "application/vnd.google.colaboratory.intrinsic+json": {
              "type": "string"
            }
          },
          "metadata": {},
          "execution_count": 35
        }
      ]
    },
    {
      "cell_type": "code",
      "source": [
        "rec_dict"
      ],
      "metadata": {
        "colab": {
          "base_uri": "https://localhost:8080/"
        },
        "id": "kcZIh_ksVNC_",
        "outputId": "6c4cdcfd-f0b9-4834-b26e-ad520abaef64"
      },
      "execution_count": null,
      "outputs": [
        {
          "output_type": "execute_result",
          "data": {
            "text/plain": [
              "{'key': 'value', 'name': 'xyz', 'from': 'india', 'marks': [92, 85, 90]}"
            ]
          },
          "metadata": {},
          "execution_count": 38
        }
      ]
    },
    {
      "cell_type": "code",
      "source": [
        "rec_dict[\"marks\"]"
      ],
      "metadata": {
        "colab": {
          "base_uri": "https://localhost:8080/"
        },
        "id": "fWma5K1yUEBH",
        "outputId": "a04baaf8-e066-439b-b3ac-4ee6864c0e88"
      },
      "execution_count": null,
      "outputs": [
        {
          "output_type": "execute_result",
          "data": {
            "text/plain": [
              "[92, 85, 90]"
            ]
          },
          "metadata": {},
          "execution_count": 41
        }
      ]
    },
    {
      "cell_type": "code",
      "source": [
        "rec_dict[\"name\"]"
      ],
      "metadata": {
        "colab": {
          "base_uri": "https://localhost:8080/",
          "height": 35
        },
        "id": "GXBjU35VUD30",
        "outputId": "fe3ecd5c-a4f7-477f-9986-99a2da36fd0d"
      },
      "execution_count": null,
      "outputs": [
        {
          "output_type": "execute_result",
          "data": {
            "text/plain": [
              "'xyz'"
            ],
            "application/vnd.google.colaboratory.intrinsic+json": {
              "type": "string"
            }
          },
          "metadata": {},
          "execution_count": 43
        }
      ]
    },
    {
      "cell_type": "code",
      "source": [],
      "metadata": {
        "id": "KxyFjjxTUDyM"
      },
      "execution_count": null,
      "outputs": []
    },
    {
      "cell_type": "code",
      "source": [
        "rec_dict[\"key\"] # prints value"
      ],
      "metadata": {
        "colab": {
          "base_uri": "https://localhost:8080/",
          "height": 35
        },
        "id": "81a9qKfYkX5-",
        "outputId": "c047cfe9-c03c-468f-ea1d-b38cc5c88b95"
      },
      "execution_count": null,
      "outputs": [
        {
          "output_type": "execute_result",
          "data": {
            "text/plain": [
              "'value'"
            ],
            "application/vnd.google.colaboratory.intrinsic+json": {
              "type": "string"
            }
          },
          "metadata": {},
          "execution_count": 2
        }
      ]
    },
    {
      "cell_type": "code",
      "source": [
        "rec_dict[\"marks\"]"
      ],
      "metadata": {
        "colab": {
          "base_uri": "https://localhost:8080/"
        },
        "id": "u9DueiKJkgZb",
        "outputId": "b25573af-0ded-434e-b3cf-9250a99ffb39"
      },
      "execution_count": null,
      "outputs": [
        {
          "output_type": "execute_result",
          "data": {
            "text/plain": [
              "[92, 85, 90]"
            ]
          },
          "metadata": {},
          "execution_count": 3
        }
      ]
    },
    {
      "cell_type": "markdown",
      "source": [
        "Properties of python dictionaries\n",
        "\n",
        "\n",
        "\n",
        "1.   It is unordered -: Unordered means that the items does not have a defined order, you cannot refer to an item by using an index.\n",
        "2.   It is mutable -: Dictionaries are changeable, meaning that we can change, add or remove items after the dictionary has been created.\n",
        "\n",
        "3. Dictionaries cannot have two items with the same key\n",
        "\n"
      ],
      "metadata": {
        "id": "eONOioe6k8MH"
      }
    },
    {
      "cell_type": "markdown",
      "source": [
        "- **dict.items()** --> returns a list of (key,value) tuples"
      ],
      "metadata": {
        "id": "RofIXIZYmjoE"
      }
    },
    {
      "cell_type": "code",
      "source": [
        "a = {\"a\":1, \"b\":2, \"c\":3}\n",
        "a.items()"
      ],
      "metadata": {
        "colab": {
          "base_uri": "https://localhost:8080/"
        },
        "id": "jAjlp-RiXmeW",
        "outputId": "36cce10f-d360-4c82-ec45-72c614b7783a"
      },
      "execution_count": null,
      "outputs": [
        {
          "output_type": "execute_result",
          "data": {
            "text/plain": [
              "dict_items([('a', 1), ('b', 2), ('c', 3)])"
            ]
          },
          "metadata": {},
          "execution_count": 49
        }
      ]
    },
    {
      "cell_type": "code",
      "source": [
        "rec_dict.items()"
      ],
      "metadata": {
        "colab": {
          "base_uri": "https://localhost:8080/"
        },
        "id": "FUKOWYRlkjjc",
        "outputId": "d344c9c6-d0ca-443b-bc49-cc9090e6d394"
      },
      "execution_count": null,
      "outputs": [
        {
          "output_type": "execute_result",
          "data": {
            "text/plain": [
              "dict_items([('key', 'value'), ('name', 'xyz'), ('from', 'india'), ('marks', [92, 85, 90])])"
            ]
          },
          "metadata": {},
          "execution_count": 44
        }
      ]
    },
    {
      "cell_type": "markdown",
      "source": [
        "- **dict.keys()** --> returns a list containing dictionary's \n",
        "keys"
      ],
      "metadata": {
        "id": "e0-HCfdxnZAy"
      }
    },
    {
      "cell_type": "code",
      "source": [
        "rec_dict.keys()"
      ],
      "metadata": {
        "colab": {
          "base_uri": "https://localhost:8080/"
        },
        "id": "386fBbFpZw-I",
        "outputId": "66a8e613-bd2f-4602-9424-f44346af1350"
      },
      "execution_count": null,
      "outputs": [
        {
          "output_type": "execute_result",
          "data": {
            "text/plain": [
              "dict_keys(['key', 'name', 'from', 'marks'])"
            ]
          },
          "metadata": {},
          "execution_count": 55
        }
      ]
    },
    {
      "cell_type": "code",
      "source": [
        "for i in rec_dict.keys():\n",
        "  print(i)"
      ],
      "metadata": {
        "colab": {
          "base_uri": "https://localhost:8080/"
        },
        "id": "ruzdKkXSm7gw",
        "outputId": "b9bc6472-8fbb-4897-da17-b3908b16a079"
      },
      "execution_count": null,
      "outputs": [
        {
          "output_type": "stream",
          "name": "stdout",
          "text": [
            "key\n",
            "name\n",
            "from\n",
            "marks\n"
          ]
        }
      ]
    },
    {
      "cell_type": "markdown",
      "source": [
        "- **dict.values()** --> returns a list containing dictionary's values"
      ],
      "metadata": {
        "id": "7ZzC7alL6JZW"
      }
    },
    {
      "cell_type": "code",
      "source": [
        "rec_dict.values()"
      ],
      "metadata": {
        "colab": {
          "base_uri": "https://localhost:8080/"
        },
        "id": "8RQG8iMS51as",
        "outputId": "ea0d1839-8eeb-425c-a43e-15d435119ba6"
      },
      "execution_count": null,
      "outputs": [
        {
          "output_type": "execute_result",
          "data": {
            "text/plain": [
              "dict_values(['value', 'xyz', 'india', [92, 85, 90]])"
            ]
          },
          "metadata": {},
          "execution_count": 56
        }
      ]
    },
    {
      "cell_type": "markdown",
      "source": [
        "- **dict.update({key : updated_value})** --> Updates the dictionary with supplied key:value pair"
      ],
      "metadata": {
        "id": "32kAd_37nuRz"
      }
    },
    {
      "cell_type": "code",
      "source": [
        "rec_dict"
      ],
      "metadata": {
        "colab": {
          "base_uri": "https://localhost:8080/"
        },
        "id": "3cZMJO6yaRQZ",
        "outputId": "7fcf0960-7bc7-4400-f817-eaf83939c4e2"
      },
      "execution_count": null,
      "outputs": [
        {
          "output_type": "execute_result",
          "data": {
            "text/plain": [
              "{'key': 'value', 'name': 'xyz', 'from': 'india', 'marks': [92, 85, 90]}"
            ]
          },
          "metadata": {},
          "execution_count": 57
        }
      ]
    },
    {
      "cell_type": "code",
      "source": [
        "rec_dict.update({\"from\": \"USA\"})"
      ],
      "metadata": {
        "id": "C_LvVuHxnYDv"
      },
      "execution_count": null,
      "outputs": []
    },
    {
      "cell_type": "code",
      "source": [
        "rec_dict.update({\"to\": \"india\"})"
      ],
      "metadata": {
        "id": "hV6_6X5raiAw"
      },
      "execution_count": null,
      "outputs": []
    },
    {
      "cell_type": "code",
      "source": [
        "rec_dict[\"name\"] = \"abc\""
      ],
      "metadata": {
        "id": "PSGiUC4Mdiyb"
      },
      "execution_count": null,
      "outputs": []
    },
    {
      "cell_type": "code",
      "source": [
        "rec_dict"
      ],
      "metadata": {
        "colab": {
          "base_uri": "https://localhost:8080/"
        },
        "id": "cAmTtOlMoTaG",
        "outputId": "87e70b7b-fa22-4229-c46f-181997190954"
      },
      "execution_count": null,
      "outputs": [
        {
          "output_type": "execute_result",
          "data": {
            "text/plain": [
              "{'key': 'value',\n",
              " 'name': 'xyz',\n",
              " 'from': 'USA',\n",
              " 'marks': [92, 85, 90],\n",
              " 'to': 'india'}"
            ]
          },
          "metadata": {},
          "execution_count": 61
        }
      ]
    },
    {
      "cell_type": "markdown",
      "source": [
        "- **dict.get(\"key\")** --> returns the value of the specified key"
      ],
      "metadata": {
        "id": "Yyilyq9Toq1Q"
      }
    },
    {
      "cell_type": "code",
      "source": [
        "rec_dict.get(\"to\")"
      ],
      "metadata": {
        "colab": {
          "base_uri": "https://localhost:8080/",
          "height": 35
        },
        "id": "WItAfVV3bEnZ",
        "outputId": "da06c4ba-e896-4346-e4c6-367ab7e5dc3a"
      },
      "execution_count": null,
      "outputs": [
        {
          "output_type": "execute_result",
          "data": {
            "text/plain": [
              "'india'"
            ],
            "application/vnd.google.colaboratory.intrinsic+json": {
              "type": "string"
            }
          },
          "metadata": {},
          "execution_count": 62
        }
      ]
    },
    {
      "cell_type": "code",
      "source": [
        "rec_dict[\"to\"]"
      ],
      "metadata": {
        "colab": {
          "base_uri": "https://localhost:8080/",
          "height": 35
        },
        "id": "QTKQkqHMbMOH",
        "outputId": "30bca162-e9b2-40fe-de85-78ff2d5a90e5"
      },
      "execution_count": null,
      "outputs": [
        {
          "output_type": "execute_result",
          "data": {
            "text/plain": [
              "'india'"
            ],
            "application/vnd.google.colaboratory.intrinsic+json": {
              "type": "string"
            }
          },
          "metadata": {},
          "execution_count": 63
        }
      ]
    },
    {
      "cell_type": "code",
      "source": [
        "rec_dict.get(\"name\")"
      ],
      "metadata": {
        "colab": {
          "base_uri": "https://localhost:8080/",
          "height": 35
        },
        "id": "gS0r07LUoU2W",
        "outputId": "d07645ba-35d1-49ab-eb96-e5d85b6e0eb2"
      },
      "execution_count": null,
      "outputs": [
        {
          "output_type": "execute_result",
          "data": {
            "text/plain": [
              "'xyz'"
            ],
            "application/vnd.google.colaboratory.intrinsic+json": {
              "type": "string"
            }
          },
          "metadata": {},
          "execution_count": 9
        }
      ]
    },
    {
      "cell_type": "code",
      "source": [
        "rec_dict.get(\"marks\")"
      ],
      "metadata": {
        "colab": {
          "base_uri": "https://localhost:8080/"
        },
        "id": "o5DKwWvro7NO",
        "outputId": "c9f396d6-1409-496e-f316-6678976f5506"
      },
      "execution_count": null,
      "outputs": [
        {
          "output_type": "execute_result",
          "data": {
            "text/plain": [
              "[92, 85, 90]"
            ]
          },
          "metadata": {},
          "execution_count": 10
        }
      ]
    },
    {
      "cell_type": "code",
      "source": [
        "rec_dict"
      ],
      "metadata": {
        "colab": {
          "base_uri": "https://localhost:8080/"
        },
        "id": "ECiMuPMYbjHA",
        "outputId": "85b9ac26-7ccd-42e3-c767-e29c5242064c"
      },
      "execution_count": null,
      "outputs": [
        {
          "output_type": "execute_result",
          "data": {
            "text/plain": [
              "{'key': 'value',\n",
              " 'name': 'xyz',\n",
              " 'from': 'USA',\n",
              " 'marks': [92, 85, 90],\n",
              " 'to': 'india'}"
            ]
          },
          "metadata": {},
          "execution_count": 64
        }
      ]
    },
    {
      "cell_type": "code",
      "source": [
        "rec_dict.popitem()"
      ],
      "metadata": {
        "colab": {
          "base_uri": "https://localhost:8080/"
        },
        "id": "qdml-fxsB36_",
        "outputId": "d3946baa-8d72-428d-d04e-967389162023"
      },
      "execution_count": null,
      "outputs": [
        {
          "output_type": "execute_result",
          "data": {
            "text/plain": [
              "('to', 'india')"
            ]
          },
          "metadata": {},
          "execution_count": 65
        }
      ]
    },
    {
      "cell_type": "code",
      "source": [
        "rec_dict"
      ],
      "metadata": {
        "colab": {
          "base_uri": "https://localhost:8080/"
        },
        "id": "0KXd-nLRCB8_",
        "outputId": "bb73e0e2-d2da-43c1-e41e-8ef0dae00996"
      },
      "execution_count": null,
      "outputs": [
        {
          "output_type": "execute_result",
          "data": {
            "text/plain": [
              "{'key': 'value', 'name': 'xyz', 'from': 'USA', 'marks': [92, 85, 90]}"
            ]
          },
          "metadata": {},
          "execution_count": 66
        }
      ]
    },
    {
      "cell_type": "code",
      "source": [
        "rec_dict.pop(\"key\")"
      ],
      "metadata": {
        "colab": {
          "base_uri": "https://localhost:8080/",
          "height": 35
        },
        "id": "dy13nyUBCEi1",
        "outputId": "e252c2cc-0eba-4af2-db48-7137698ce390"
      },
      "execution_count": null,
      "outputs": [
        {
          "output_type": "execute_result",
          "data": {
            "text/plain": [
              "'value'"
            ],
            "application/vnd.google.colaboratory.intrinsic+json": {
              "type": "string"
            }
          },
          "metadata": {},
          "execution_count": 70
        }
      ]
    },
    {
      "cell_type": "code",
      "source": [
        "rec_dict"
      ],
      "metadata": {
        "colab": {
          "base_uri": "https://localhost:8080/"
        },
        "id": "2TVhnB_hCN31",
        "outputId": "afe7a403-e7eb-4a02-ee3c-ff7c10b9b7ef"
      },
      "execution_count": null,
      "outputs": [
        {
          "output_type": "execute_result",
          "data": {
            "text/plain": [
              "{'from': 'USA', 'marks': [92, 85, 90]}"
            ]
          },
          "metadata": {},
          "execution_count": 71
        }
      ]
    },
    {
      "cell_type": "code",
      "source": [
        "rec_dict.pop()"
      ],
      "metadata": {
        "colab": {
          "base_uri": "https://localhost:8080/",
          "height": 166
        },
        "id": "CkHl9kaocECB",
        "outputId": "d60e8c3e-7b79-4651-d187-3d7713ddd8fd"
      },
      "execution_count": null,
      "outputs": [
        {
          "output_type": "error",
          "ename": "TypeError",
          "evalue": "ignored",
          "traceback": [
            "\u001b[0;31m---------------------------------------------------------------------------\u001b[0m",
            "\u001b[0;31mTypeError\u001b[0m                                 Traceback (most recent call last)",
            "\u001b[0;32m<ipython-input-69-795e03bd5658>\u001b[0m in \u001b[0;36m<module>\u001b[0;34m\u001b[0m\n\u001b[0;32m----> 1\u001b[0;31m \u001b[0mrec_dict\u001b[0m\u001b[0;34m.\u001b[0m\u001b[0mpop\u001b[0m\u001b[0;34m(\u001b[0m\u001b[0;34m)\u001b[0m\u001b[0;34m\u001b[0m\u001b[0;34m\u001b[0m\u001b[0m\n\u001b[0m",
            "\u001b[0;31mTypeError\u001b[0m: pop expected at least 1 argument, got 0"
          ]
        }
      ]
    },
    {
      "cell_type": "code",
      "source": [
        "rec_dict.clear()\n",
        "rec_dict"
      ],
      "metadata": {
        "colab": {
          "base_uri": "https://localhost:8080/"
        },
        "id": "0vCvsmrsCRRY",
        "outputId": "35ab23b6-b4e1-4f7c-b116-56c65fae1574"
      },
      "execution_count": null,
      "outputs": [
        {
          "output_type": "execute_result",
          "data": {
            "text/plain": [
              "{}"
            ]
          },
          "metadata": {},
          "execution_count": 72
        }
      ]
    },
    {
      "cell_type": "markdown",
      "source": [
        "## Tuples"
      ],
      "metadata": {
        "id": "Eyrn23qifX8k"
      }
    },
    {
      "cell_type": "code",
      "source": [
        "c = (\"txt\",)\n",
        "type(c)"
      ],
      "metadata": {
        "colab": {
          "base_uri": "https://localhost:8080/"
        },
        "id": "LhkJF3ndhWk9",
        "outputId": "e2d6b26b-84da-4bc2-839f-0a20e97c1230"
      },
      "execution_count": null,
      "outputs": [
        {
          "output_type": "execute_result",
          "data": {
            "text/plain": [
              "tuple"
            ]
          },
          "metadata": {},
          "execution_count": 96
        }
      ]
    },
    {
      "cell_type": "code",
      "source": [
        "# define tuple\n",
        "\n",
        "a = [1,3.5, \"txt\", 1]\n",
        "b = (2,\"string\", a)\n",
        "b"
      ],
      "metadata": {
        "id": "9qGNxXCJCzwk",
        "colab": {
          "base_uri": "https://localhost:8080/"
        },
        "outputId": "23b076fa-d1fe-4955-858c-caea7116ab8f"
      },
      "execution_count": null,
      "outputs": [
        {
          "output_type": "execute_result",
          "data": {
            "text/plain": [
              "(2, 'string', [1, 3.5, 'txt', 1])"
            ]
          },
          "metadata": {},
          "execution_count": 20
        }
      ]
    },
    {
      "cell_type": "code",
      "source": [
        "a = (1, \"tcxt\", 34.5, True)"
      ],
      "metadata": {
        "id": "4qYBdzW5X_Gc"
      },
      "execution_count": null,
      "outputs": []
    },
    {
      "cell_type": "code",
      "source": [
        "a = list(a)\n",
        "a.pop()\n",
        "a"
      ],
      "metadata": {
        "colab": {
          "base_uri": "https://localhost:8080/"
        },
        "id": "IZakCn9bh1_t",
        "outputId": "3046b3e3-c0ce-4e5f-f5d0-ecff161e5960"
      },
      "execution_count": null,
      "outputs": [
        {
          "output_type": "execute_result",
          "data": {
            "text/plain": [
              "[1, 3.5, 'txt']"
            ]
          },
          "metadata": {},
          "execution_count": 100
        }
      ]
    },
    {
      "cell_type": "code",
      "source": [
        "dict(a = 1, b = 2)"
      ],
      "metadata": {
        "colab": {
          "base_uri": "https://localhost:8080/"
        },
        "id": "UW3a6gDTipmk",
        "outputId": "61be0cd5-b9d2-4f20-a32f-1702c9608beb"
      },
      "execution_count": null,
      "outputs": [
        {
          "output_type": "execute_result",
          "data": {
            "text/plain": [
              "{'a': 1, 'b': 2}"
            ]
          },
          "metadata": {},
          "execution_count": 105
        }
      ]
    },
    {
      "cell_type": "code",
      "source": [
        "a = tuple(a)"
      ],
      "metadata": {
        "id": "o_PZ_CvriEnY"
      },
      "execution_count": null,
      "outputs": []
    },
    {
      "cell_type": "code",
      "source": [
        "a = [1,2,3,4,1,2]\n",
        "a"
      ],
      "metadata": {
        "colab": {
          "base_uri": "https://localhost:8080/"
        },
        "id": "BcyCMdvbjOZy",
        "outputId": "bbb090b8-7c10-49ab-b95a-86facfc096de"
      },
      "execution_count": null,
      "outputs": [
        {
          "output_type": "execute_result",
          "data": {
            "text/plain": [
              "[1, 2, 3, 4, 1, 2]"
            ]
          },
          "metadata": {},
          "execution_count": 106
        }
      ]
    },
    {
      "cell_type": "code",
      "source": [
        "set(a)"
      ],
      "metadata": {
        "colab": {
          "base_uri": "https://localhost:8080/"
        },
        "id": "ZE-C-v8PjSLR",
        "outputId": "61372660-b281-4ff3-d4b9-5d0db2b52000"
      },
      "execution_count": null,
      "outputs": [
        {
          "output_type": "execute_result",
          "data": {
            "text/plain": [
              "{1, 2, 3, 4}"
            ]
          },
          "metadata": {},
          "execution_count": 107
        }
      ]
    },
    {
      "cell_type": "code",
      "source": [
        "a"
      ],
      "metadata": {
        "colab": {
          "base_uri": "https://localhost:8080/"
        },
        "id": "MUPaKk4kiJvt",
        "outputId": "585a17b5-08b9-4ceb-a52c-16e52cb8e64e"
      },
      "execution_count": null,
      "outputs": [
        {
          "output_type": "execute_result",
          "data": {
            "text/plain": [
              "(1, 3.5, 'txt')"
            ]
          },
          "metadata": {},
          "execution_count": 102
        }
      ]
    },
    {
      "cell_type": "code",
      "source": [
        "type(a)"
      ],
      "metadata": {
        "colab": {
          "base_uri": "https://localhost:8080/"
        },
        "id": "YGIFhERIhpHR",
        "outputId": "aac5b493-86c6-48bf-8c32-46822c0776d1"
      },
      "execution_count": null,
      "outputs": [
        {
          "output_type": "execute_result",
          "data": {
            "text/plain": [
              "tuple"
            ]
          },
          "metadata": {},
          "execution_count": 97
        }
      ]
    },
    {
      "cell_type": "code",
      "source": [
        "# tuple.count()\n",
        "\n",
        "thistuple = (1, 5, 7, 8, 7, 5, 4, 6, 8, 5)\n",
        "\n",
        "thistuple.count(5)"
      ],
      "metadata": {
        "colab": {
          "base_uri": "https://localhost:8080/"
        },
        "id": "8Gx71WG4jhhu",
        "outputId": "b373f5fb-cf43-45d6-8b0a-d2268652d49f"
      },
      "execution_count": null,
      "outputs": [
        {
          "output_type": "execute_result",
          "data": {
            "text/plain": [
              "3"
            ]
          },
          "metadata": {},
          "execution_count": 109
        }
      ]
    },
    {
      "cell_type": "code",
      "source": [
        "a.append(43)"
      ],
      "metadata": {
        "colab": {
          "base_uri": "https://localhost:8080/",
          "height": 166
        },
        "id": "vexmrzaFfjxa",
        "outputId": "487c7a71-87a5-4fe2-a8cd-7d4a6968cf32"
      },
      "execution_count": null,
      "outputs": [
        {
          "output_type": "error",
          "ename": "AttributeError",
          "evalue": "ignored",
          "traceback": [
            "\u001b[0;31m---------------------------------------------------------------------------\u001b[0m",
            "\u001b[0;31mAttributeError\u001b[0m                            Traceback (most recent call last)",
            "\u001b[0;32m<ipython-input-80-4c7138a234d9>\u001b[0m in \u001b[0;36m<module>\u001b[0;34m\u001b[0m\n\u001b[0;32m----> 1\u001b[0;31m \u001b[0ma\u001b[0m\u001b[0;34m.\u001b[0m\u001b[0mappend\u001b[0m\u001b[0;34m(\u001b[0m\u001b[0;36m43\u001b[0m\u001b[0;34m)\u001b[0m\u001b[0;34m\u001b[0m\u001b[0;34m\u001b[0m\u001b[0m\n\u001b[0m",
            "\u001b[0;31mAttributeError\u001b[0m: 'tuple' object has no attribute 'append'"
          ]
        }
      ]
    },
    {
      "cell_type": "code",
      "source": [
        "a"
      ],
      "metadata": {
        "colab": {
          "base_uri": "https://localhost:8080/"
        },
        "id": "ZX_vxRN-f5C8",
        "outputId": "8f9b4b52-e1df-4eb2-c769-7726e0da251a"
      },
      "execution_count": null,
      "outputs": [
        {
          "output_type": "execute_result",
          "data": {
            "text/plain": [
              "(1, 3.5, 'txt')"
            ]
          },
          "metadata": {},
          "execution_count": 81
        }
      ]
    },
    {
      "cell_type": "code",
      "source": [
        "a[1]"
      ],
      "metadata": {
        "colab": {
          "base_uri": "https://localhost:8080/"
        },
        "id": "40Iw55_zfjr4",
        "outputId": "59ffcbfc-4758-4f2a-da45-41e1f45ff1ce"
      },
      "execution_count": null,
      "outputs": [
        {
          "output_type": "execute_result",
          "data": {
            "text/plain": [
              "3.5"
            ]
          },
          "metadata": {},
          "execution_count": 82
        }
      ]
    },
    {
      "cell_type": "code",
      "source": [
        "a"
      ],
      "metadata": {
        "colab": {
          "base_uri": "https://localhost:8080/"
        },
        "id": "upFvMMDrgIHn",
        "outputId": "1d2ec1fe-2736-447e-92d9-f17897e8b82e"
      },
      "execution_count": null,
      "outputs": [
        {
          "output_type": "execute_result",
          "data": {
            "text/plain": [
              "(1, 3.5, 'txt')"
            ]
          },
          "metadata": {},
          "execution_count": 84
        }
      ]
    },
    {
      "cell_type": "code",
      "source": [
        "a[0:2]"
      ],
      "metadata": {
        "colab": {
          "base_uri": "https://localhost:8080/"
        },
        "id": "xFfVOmfXfjmH",
        "outputId": "df76ece3-99c0-49d3-e105-b73a17424b0c"
      },
      "execution_count": null,
      "outputs": [
        {
          "output_type": "execute_result",
          "data": {
            "text/plain": [
              "(1, 3.5)"
            ]
          },
          "metadata": {},
          "execution_count": 83
        }
      ]
    },
    {
      "cell_type": "code",
      "source": [
        "a.index(\"txt\")"
      ],
      "metadata": {
        "colab": {
          "base_uri": "https://localhost:8080/"
        },
        "id": "aY-jZsLAgNsg",
        "outputId": "7b184ef2-11ac-4c33-c07d-b7f6e50573b7"
      },
      "execution_count": null,
      "outputs": [
        {
          "output_type": "execute_result",
          "data": {
            "text/plain": [
              "2"
            ]
          },
          "metadata": {},
          "execution_count": 85
        }
      ]
    },
    {
      "cell_type": "code",
      "source": [
        "len(a)"
      ],
      "metadata": {
        "colab": {
          "base_uri": "https://localhost:8080/"
        },
        "id": "4vD4eFpHgS42",
        "outputId": "fc2ef1fd-dbe1-4e7b-9039-09b4c8c4e5ea"
      },
      "execution_count": null,
      "outputs": [
        {
          "output_type": "execute_result",
          "data": {
            "text/plain": [
              "3"
            ]
          },
          "metadata": {},
          "execution_count": 86
        }
      ]
    },
    {
      "cell_type": "code",
      "source": [
        "a"
      ],
      "metadata": {
        "colab": {
          "base_uri": "https://localhost:8080/"
        },
        "id": "-fW3fk8IhAiO",
        "outputId": "f51228c3-5a98-4997-8659-dc051f6c56eb"
      },
      "execution_count": null,
      "outputs": [
        {
          "output_type": "execute_result",
          "data": {
            "text/plain": [
              "(1, 3.5, 'txt')"
            ]
          },
          "metadata": {},
          "execution_count": 92
        }
      ]
    },
    {
      "cell_type": "code",
      "source": [
        "a.sort()"
      ],
      "metadata": {
        "colab": {
          "base_uri": "https://localhost:8080/",
          "height": 166
        },
        "id": "mILSUnHWhFBX",
        "outputId": "82411770-fa6f-46e5-d059-c4264b130a99"
      },
      "execution_count": null,
      "outputs": [
        {
          "output_type": "error",
          "ename": "AttributeError",
          "evalue": "ignored",
          "traceback": [
            "\u001b[0;31m---------------------------------------------------------------------------\u001b[0m",
            "\u001b[0;31mAttributeError\u001b[0m                            Traceback (most recent call last)",
            "\u001b[0;32m<ipython-input-93-2ed0d7de6146>\u001b[0m in \u001b[0;36m<module>\u001b[0;34m\u001b[0m\n\u001b[0;32m----> 1\u001b[0;31m \u001b[0ma\u001b[0m\u001b[0;34m.\u001b[0m\u001b[0msort\u001b[0m\u001b[0;34m(\u001b[0m\u001b[0;34m)\u001b[0m\u001b[0;34m\u001b[0m\u001b[0;34m\u001b[0m\u001b[0m\n\u001b[0m",
            "\u001b[0;31mAttributeError\u001b[0m: 'tuple' object has no attribute 'sort'"
          ]
        }
      ]
    },
    {
      "cell_type": "code",
      "source": [
        "b = [3,6,2,8,4]\n",
        "b.sort()"
      ],
      "metadata": {
        "id": "2a0A-Uojg1eX"
      },
      "execution_count": null,
      "outputs": []
    },
    {
      "cell_type": "code",
      "source": [
        "b"
      ],
      "metadata": {
        "colab": {
          "base_uri": "https://localhost:8080/"
        },
        "id": "-mPmS5UZg66h",
        "outputId": "6dccbbf7-7095-44f8-a980-b243bcf00abb"
      },
      "execution_count": null,
      "outputs": [
        {
          "output_type": "execute_result",
          "data": {
            "text/plain": [
              "[2, 3, 4, 6, 8]"
            ]
          },
          "metadata": {},
          "execution_count": 91
        }
      ]
    },
    {
      "cell_type": "code",
      "source": [
        "a[0] = 2"
      ],
      "metadata": {
        "colab": {
          "base_uri": "https://localhost:8080/",
          "height": 166
        },
        "id": "nQiO8eaggW5x",
        "outputId": "5d3ccf4c-66bb-49c0-dad1-a5422561210b"
      },
      "execution_count": null,
      "outputs": [
        {
          "output_type": "error",
          "ename": "TypeError",
          "evalue": "ignored",
          "traceback": [
            "\u001b[0;31m---------------------------------------------------------------------------\u001b[0m",
            "\u001b[0;31mTypeError\u001b[0m                                 Traceback (most recent call last)",
            "\u001b[0;32m<ipython-input-88-fa1ba3f7cc8f>\u001b[0m in \u001b[0;36m<module>\u001b[0;34m\u001b[0m\n\u001b[0;32m----> 1\u001b[0;31m \u001b[0ma\u001b[0m\u001b[0;34m[\u001b[0m\u001b[0;36m0\u001b[0m\u001b[0;34m]\u001b[0m \u001b[0;34m=\u001b[0m \u001b[0;36m2\u001b[0m\u001b[0;34m\u001b[0m\u001b[0;34m\u001b[0m\u001b[0m\n\u001b[0m",
            "\u001b[0;31mTypeError\u001b[0m: 'tuple' object does not support item assignment"
          ]
        }
      ]
    },
    {
      "cell_type": "code",
      "source": [
        "a.pop()"
      ],
      "metadata": {
        "colab": {
          "base_uri": "https://localhost:8080/",
          "height": 166
        },
        "id": "inoUvpgHgWqV",
        "outputId": "bd25a0a1-9aae-46a4-a402-6ea67b10edb1"
      },
      "execution_count": null,
      "outputs": [
        {
          "output_type": "error",
          "ename": "AttributeError",
          "evalue": "ignored",
          "traceback": [
            "\u001b[0;31m---------------------------------------------------------------------------\u001b[0m",
            "\u001b[0;31mAttributeError\u001b[0m                            Traceback (most recent call last)",
            "\u001b[0;32m<ipython-input-89-9c070c907602>\u001b[0m in \u001b[0;36m<module>\u001b[0;34m\u001b[0m\n\u001b[0;32m----> 1\u001b[0;31m \u001b[0ma\u001b[0m\u001b[0;34m.\u001b[0m\u001b[0mpop\u001b[0m\u001b[0;34m(\u001b[0m\u001b[0;34m)\u001b[0m\u001b[0;34m\u001b[0m\u001b[0;34m\u001b[0m\u001b[0m\n\u001b[0m",
            "\u001b[0;31mAttributeError\u001b[0m: 'tuple' object has no attribute 'pop'"
          ]
        }
      ]
    },
    {
      "cell_type": "markdown",
      "source": [
        "## Sets\n",
        "\n",
        "the major property of sets are that they are unchangable like tuples and they remove duplicates."
      ],
      "metadata": {
        "id": "IWHvSa8QRU2I"
      }
    },
    {
      "cell_type": "code",
      "source": [
        "a = {1,2,2, \"string\",\"txt\",\"txt\", 34.5, 22.3, 34.5, True, True}\n",
        "a"
      ],
      "metadata": {
        "colab": {
          "base_uri": "https://localhost:8080/"
        },
        "id": "2htpFnkNY62B",
        "outputId": "a7142133-7432-4223-af44-be95cf5c9b7d"
      },
      "execution_count": null,
      "outputs": [
        {
          "output_type": "execute_result",
          "data": {
            "text/plain": [
              "{1, 2, 22.3, 34.5, 'string', 'txt'}"
            ]
          },
          "metadata": {},
          "execution_count": 1
        }
      ]
    },
    {
      "cell_type": "code",
      "source": [
        "a = [12,13,14,12,11]\n",
        "a"
      ],
      "metadata": {
        "colab": {
          "base_uri": "https://localhost:8080/"
        },
        "id": "nJAJpMYBKx2F",
        "outputId": "66636bc4-a261-408b-e44c-d16e7f763556"
      },
      "execution_count": null,
      "outputs": [
        {
          "output_type": "execute_result",
          "data": {
            "text/plain": [
              "[12, 13, 14, 12, 11]"
            ]
          },
          "metadata": {},
          "execution_count": 3
        }
      ]
    },
    {
      "cell_type": "code",
      "source": [
        "set(a)"
      ],
      "metadata": {
        "colab": {
          "base_uri": "https://localhost:8080/"
        },
        "id": "TG9hFuCKK87M",
        "outputId": "55c1756a-8cc3-484a-9d11-553bfc39f5c0"
      },
      "execution_count": null,
      "outputs": [
        {
          "output_type": "execute_result",
          "data": {
            "text/plain": [
              "{11, 12, 13, 14}"
            ]
          },
          "metadata": {},
          "execution_count": 4
        }
      ]
    },
    {
      "cell_type": "code",
      "source": [
        "b = [\"mango\", \"orange\",\"apple\", \"apple\", \"apple\", 12, 45, 45]\n",
        "b"
      ],
      "metadata": {
        "colab": {
          "base_uri": "https://localhost:8080/"
        },
        "id": "V9UbTAJRLOM_",
        "outputId": "3fbe0264-d0df-4e68-e469-26bd384a6d83"
      },
      "execution_count": null,
      "outputs": [
        {
          "output_type": "execute_result",
          "data": {
            "text/plain": [
              "['mango', 'orange', 'apple', 'apple', 'apple', 12, 45, 45]"
            ]
          },
          "metadata": {},
          "execution_count": 10
        }
      ]
    },
    {
      "cell_type": "code",
      "source": [
        "set(b)"
      ],
      "metadata": {
        "colab": {
          "base_uri": "https://localhost:8080/"
        },
        "id": "cx62AogxLZ4g",
        "outputId": "23d0ad28-6895-41fd-f9d9-1e76e88654f4"
      },
      "execution_count": null,
      "outputs": [
        {
          "output_type": "execute_result",
          "data": {
            "text/plain": [
              "{12, 45, 'apple', 'mango', 'orange'}"
            ]
          },
          "metadata": {},
          "execution_count": 11
        }
      ]
    },
    {
      "cell_type": "code",
      "source": [
        "hash(64.55)"
      ],
      "metadata": {
        "colab": {
          "base_uri": "https://localhost:8080/"
        },
        "id": "q_8qSXn4L02P",
        "outputId": "fa12702d-da3e-4644-e04b-9ae9e70b0158"
      },
      "execution_count": null,
      "outputs": [
        {
          "output_type": "execute_result",
          "data": {
            "text/plain": [
              "1268213655067525184"
            ]
          },
          "metadata": {},
          "execution_count": 16
        }
      ]
    },
    {
      "cell_type": "code",
      "source": [
        "hash(\"mango\")"
      ],
      "metadata": {
        "colab": {
          "base_uri": "https://localhost:8080/"
        },
        "id": "XQ7NINbeMNBL",
        "outputId": "34a4f10b-f93a-48cd-dc6c-c3088235835b"
      },
      "execution_count": null,
      "outputs": [
        {
          "output_type": "execute_result",
          "data": {
            "text/plain": [
              "607592230434231855"
            ]
          },
          "metadata": {},
          "execution_count": 15
        }
      ]
    },
    {
      "cell_type": "code",
      "source": [
        "hash(\"txt\"), hash(\"string\")"
      ],
      "metadata": {
        "colab": {
          "base_uri": "https://localhost:8080/"
        },
        "id": "8npbB1EEZ2Zd",
        "outputId": "a7602920-63e2-4b13-ab6e-d4d9124b7977"
      },
      "execution_count": null,
      "outputs": [
        {
          "output_type": "execute_result",
          "data": {
            "text/plain": [
              "(2340926200778177655, -6067095465659135182)"
            ]
          },
          "metadata": {},
          "execution_count": 31
        }
      ]
    },
    {
      "cell_type": "code",
      "source": [
        "{True, True, False}"
      ],
      "metadata": {
        "colab": {
          "base_uri": "https://localhost:8080/"
        },
        "id": "RQRBGOqXZYDI",
        "outputId": "d0133155-8068-43b4-e5d3-5477444cadf0"
      },
      "execution_count": null,
      "outputs": [
        {
          "output_type": "execute_result",
          "data": {
            "text/plain": [
              "{False, True}"
            ]
          },
          "metadata": {},
          "execution_count": 26
        }
      ]
    },
    {
      "cell_type": "code",
      "source": [
        "a = {1,3,2,4,5,3}\n",
        "a"
      ],
      "metadata": {
        "colab": {
          "base_uri": "https://localhost:8080/"
        },
        "id": "OkZTQfTwRUYz",
        "outputId": "2251bb0d-c142-4d25-9e63-a9ad4dbc3976"
      },
      "execution_count": null,
      "outputs": [
        {
          "output_type": "execute_result",
          "data": {
            "text/plain": [
              "{1, 2, 3, 4, 5}"
            ]
          },
          "metadata": {},
          "execution_count": 42
        }
      ]
    },
    {
      "cell_type": "code",
      "source": [
        "a[0]"
      ],
      "metadata": {
        "colab": {
          "base_uri": "https://localhost:8080/",
          "height": 166
        },
        "id": "EWCndt1xSHDm",
        "outputId": "7bb115f4-46ea-4fec-b414-a3ba1b544185"
      },
      "execution_count": null,
      "outputs": [
        {
          "output_type": "error",
          "ename": "TypeError",
          "evalue": "ignored",
          "traceback": [
            "\u001b[0;31m---------------------------------------------------------------------------\u001b[0m",
            "\u001b[0;31mTypeError\u001b[0m                                 Traceback (most recent call last)",
            "\u001b[0;32m<ipython-input-33-6a1284577a36>\u001b[0m in \u001b[0;36m<module>\u001b[0;34m\u001b[0m\n\u001b[0;32m----> 1\u001b[0;31m \u001b[0ma\u001b[0m\u001b[0;34m[\u001b[0m\u001b[0;36m0\u001b[0m\u001b[0;34m]\u001b[0m\u001b[0;34m\u001b[0m\u001b[0;34m\u001b[0m\u001b[0m\n\u001b[0m",
            "\u001b[0;31mTypeError\u001b[0m: 'set' object is not subscriptable"
          ]
        }
      ]
    },
    {
      "cell_type": "code",
      "source": [
        "for j in a:\n",
        "  print(j)"
      ],
      "metadata": {
        "colab": {
          "base_uri": "https://localhost:8080/"
        },
        "id": "2yVksNUic-7k",
        "outputId": "0011f49f-bb67-4a81-e4e9-3aa69a41bfcf"
      },
      "execution_count": null,
      "outputs": [
        {
          "output_type": "stream",
          "name": "stdout",
          "text": [
            "1\n",
            "2\n",
            "3\n",
            "4\n",
            "5\n"
          ]
        }
      ]
    },
    {
      "cell_type": "code",
      "source": [
        "for i in a:\n",
        "  print(i)"
      ],
      "metadata": {
        "colab": {
          "base_uri": "https://localhost:8080/"
        },
        "id": "SGP5Gf-KSRsF",
        "outputId": "675e3ab8-7ec2-4e7b-90ef-1a5f6fbbf15c"
      },
      "execution_count": null,
      "outputs": [
        {
          "output_type": "stream",
          "name": "stdout",
          "text": [
            "1\n",
            "2\n",
            "3\n",
            "4\n",
            "5\n"
          ]
        }
      ]
    },
    {
      "cell_type": "code",
      "source": [
        "a"
      ],
      "metadata": {
        "colab": {
          "base_uri": "https://localhost:8080/"
        },
        "id": "eBNzVkcndbu_",
        "outputId": "741f30b5-e0af-437e-ecd2-2433f3b9a99c"
      },
      "execution_count": null,
      "outputs": [
        {
          "output_type": "execute_result",
          "data": {
            "text/plain": [
              "{1, 2, 3, 4, 5}"
            ]
          },
          "metadata": {},
          "execution_count": 35
        }
      ]
    },
    {
      "cell_type": "code",
      "source": [
        "# add element to set\n",
        "a.add(6)\n",
        "a"
      ],
      "metadata": {
        "colab": {
          "base_uri": "https://localhost:8080/"
        },
        "id": "-YLwaEUESmtA",
        "outputId": "15a2456e-f020-4c96-99d9-fb57a7a61357"
      },
      "execution_count": null,
      "outputs": [
        {
          "output_type": "execute_result",
          "data": {
            "text/plain": [
              "{1, 2, 3, 4, 5, 6, 8}"
            ]
          },
          "metadata": {},
          "execution_count": 37
        }
      ]
    },
    {
      "cell_type": "code",
      "source": [
        "a ={1, 2, 3, 4, 5}"
      ],
      "metadata": {
        "id": "SCFr1AVVeUCb"
      },
      "execution_count": null,
      "outputs": []
    },
    {
      "cell_type": "code",
      "source": [
        "b = [5,6,7,8,9]\n",
        "c = [45,56,67]\n",
        "a.update(c,b)\n",
        "a\n",
        "# a.add(b)"
      ],
      "metadata": {
        "colab": {
          "base_uri": "https://localhost:8080/"
        },
        "id": "RlW5D68adx1Y",
        "outputId": "507ff859-bd28-48a1-f9c3-c2a483543ea4"
      },
      "execution_count": null,
      "outputs": [
        {
          "output_type": "execute_result",
          "data": {
            "text/plain": [
              "{1, 2, 3, 4, 5, 6, 7, 8, 9, 45, 56, 67}"
            ]
          },
          "metadata": {},
          "execution_count": 56
        }
      ]
    },
    {
      "cell_type": "code",
      "source": [
        "a"
      ],
      "metadata": {
        "colab": {
          "base_uri": "https://localhost:8080/"
        },
        "id": "ViMKIfHWeKG9",
        "outputId": "60595f11-6fb8-40f3-c1d1-910f5352bbbc"
      },
      "execution_count": null,
      "outputs": [
        {
          "output_type": "execute_result",
          "data": {
            "text/plain": [
              "{1, 2, 3, 4, 5, 6, 7, 8, 9}"
            ]
          },
          "metadata": {},
          "execution_count": 40
        }
      ]
    },
    {
      "cell_type": "code",
      "source": [
        "a.update(10)\n",
        "a"
      ],
      "metadata": {
        "colab": {
          "base_uri": "https://localhost:8080/",
          "height": 183
        },
        "id": "BXRQCOJfd_Op",
        "outputId": "3cda7b8f-843a-4c06-8de5-5f1dfa158007"
      },
      "execution_count": null,
      "outputs": [
        {
          "output_type": "error",
          "ename": "TypeError",
          "evalue": "ignored",
          "traceback": [
            "\u001b[0;31m---------------------------------------------------------------------------\u001b[0m",
            "\u001b[0;31mTypeError\u001b[0m                                 Traceback (most recent call last)",
            "\u001b[0;32m<ipython-input-41-3e97299b631c>\u001b[0m in \u001b[0;36m<module>\u001b[0;34m\u001b[0m\n\u001b[0;32m----> 1\u001b[0;31m \u001b[0ma\u001b[0m\u001b[0;34m.\u001b[0m\u001b[0mupdate\u001b[0m\u001b[0;34m(\u001b[0m\u001b[0;36m10\u001b[0m\u001b[0;34m)\u001b[0m\u001b[0;34m\u001b[0m\u001b[0;34m\u001b[0m\u001b[0m\n\u001b[0m\u001b[1;32m      2\u001b[0m \u001b[0ma\u001b[0m\u001b[0;34m\u001b[0m\u001b[0;34m\u001b[0m\u001b[0m\n",
            "\u001b[0;31mTypeError\u001b[0m: 'int' object is not iterable"
          ]
        }
      ]
    },
    {
      "cell_type": "code",
      "source": [
        "# add sets\n",
        "b = {7,6,3,4,5}\n",
        "a.update(b)\n",
        "a"
      ],
      "metadata": {
        "colab": {
          "base_uri": "https://localhost:8080/"
        },
        "id": "60-zf9ZKSmpm",
        "outputId": "1cd14618-ca45-49ab-8fd3-00d9ae0f3a66"
      },
      "execution_count": null,
      "outputs": [
        {
          "output_type": "execute_result",
          "data": {
            "text/plain": [
              "{1, 2, 3, 4, 5, 6, 7, 8}"
            ]
          },
          "metadata": {},
          "execution_count": 7
        }
      ]
    },
    {
      "cell_type": "code",
      "source": [
        "a"
      ],
      "metadata": {
        "colab": {
          "base_uri": "https://localhost:8080/"
        },
        "id": "p43Tkj6QhsfV",
        "outputId": "d0e672be-3d43-4100-e6f8-3dfe6ab5c4f4"
      },
      "execution_count": null,
      "outputs": [
        {
          "output_type": "execute_result",
          "data": {
            "text/plain": [
              "{1, 2, 3, 4, 5, 6, 7, 8, 9, 45, 56, 67}"
            ]
          },
          "metadata": {},
          "execution_count": 57
        }
      ]
    },
    {
      "cell_type": "code",
      "source": [
        "# remove item\n",
        "a.remove(7)\n",
        "a"
      ],
      "metadata": {
        "colab": {
          "base_uri": "https://localhost:8080/"
        },
        "id": "NkV3Xa1CSmmM",
        "outputId": "ade44af6-f164-4a2c-f1ce-e8f043e76765"
      },
      "execution_count": null,
      "outputs": [
        {
          "output_type": "execute_result",
          "data": {
            "text/plain": [
              "{1, 2, 3, 4, 5, 6, 8, 9, 45, 56, 67}"
            ]
          },
          "metadata": {},
          "execution_count": 58
        }
      ]
    },
    {
      "cell_type": "code",
      "source": [
        "# Remove starting element using the pop() method\n",
        "a.pop()"
      ],
      "metadata": {
        "colab": {
          "base_uri": "https://localhost:8080/"
        },
        "id": "p3t5sfMqTVx4",
        "outputId": "0a9d5757-f2e6-4f6d-fc91-e14a11d7c98e"
      },
      "execution_count": null,
      "outputs": [
        {
          "output_type": "execute_result",
          "data": {
            "text/plain": [
              "4"
            ]
          },
          "metadata": {},
          "execution_count": 65
        }
      ]
    },
    {
      "cell_type": "code",
      "source": [
        "a"
      ],
      "metadata": {
        "colab": {
          "base_uri": "https://localhost:8080/"
        },
        "id": "-_wgPBraTVuc",
        "outputId": "8ba11514-b55c-43c4-cf81-13c31ca2071e"
      },
      "execution_count": null,
      "outputs": [
        {
          "output_type": "execute_result",
          "data": {
            "text/plain": [
              "{4, 5, 6, 8, 9, 45, 56, 67}"
            ]
          },
          "metadata": {},
          "execution_count": 64
        }
      ]
    },
    {
      "cell_type": "code",
      "source": [
        "a.clear()\n",
        "a"
      ],
      "metadata": {
        "colab": {
          "base_uri": "https://localhost:8080/"
        },
        "id": "N6UvUE6sTVrK",
        "outputId": "d6005428-6366-4f18-8868-52926a9fa097"
      },
      "execution_count": null,
      "outputs": [
        {
          "output_type": "execute_result",
          "data": {
            "text/plain": [
              "set()"
            ]
          },
          "metadata": {},
          "execution_count": 66
        }
      ]
    },
    {
      "cell_type": "code",
      "source": [
        "a.update([1,23,4])\n",
        "a"
      ],
      "metadata": {
        "colab": {
          "base_uri": "https://localhost:8080/"
        },
        "id": "_ci1DQ3tim5a",
        "outputId": "2298fe68-291b-4d0e-89f4-f181bcf37053"
      },
      "execution_count": null,
      "outputs": [
        {
          "output_type": "execute_result",
          "data": {
            "text/plain": [
              "{1, 4, 23}"
            ]
          },
          "metadata": {},
          "execution_count": 68
        }
      ]
    },
    {
      "cell_type": "code",
      "source": [
        "a = {1, 4, 23}"
      ],
      "metadata": {
        "id": "LaEKnnc8jTVh"
      },
      "execution_count": null,
      "outputs": []
    },
    {
      "cell_type": "code",
      "source": [
        "a.clear()"
      ],
      "metadata": {
        "id": "kFHtvIovje_G"
      },
      "execution_count": null,
      "outputs": []
    },
    {
      "cell_type": "code",
      "source": [
        "a"
      ],
      "metadata": {
        "colab": {
          "base_uri": "https://localhost:8080/"
        },
        "id": "Igb1pN8-jhzO",
        "outputId": "72f9d882-6bcb-4212-ea06-6ffdbf737d7d"
      },
      "execution_count": null,
      "outputs": [
        {
          "output_type": "execute_result",
          "data": {
            "text/plain": [
              "set()"
            ]
          },
          "metadata": {},
          "execution_count": 74
        }
      ]
    },
    {
      "cell_type": "code",
      "source": [
        "del a"
      ],
      "metadata": {
        "id": "BlRkR4abTVmP"
      },
      "execution_count": null,
      "outputs": []
    },
    {
      "cell_type": "code",
      "source": [
        "a"
      ],
      "metadata": {
        "colab": {
          "base_uri": "https://localhost:8080/",
          "height": 166
        },
        "id": "nVhceNyri6rc",
        "outputId": "3f823b96-8eb0-4aff-bce4-74916daf42d7"
      },
      "execution_count": null,
      "outputs": [
        {
          "output_type": "error",
          "ename": "NameError",
          "evalue": "ignored",
          "traceback": [
            "\u001b[0;31m---------------------------------------------------------------------------\u001b[0m",
            "\u001b[0;31mNameError\u001b[0m                                 Traceback (most recent call last)",
            "\u001b[0;32m<ipython-input-76-3f786850e387>\u001b[0m in \u001b[0;36m<module>\u001b[0;34m\u001b[0m\n\u001b[0;32m----> 1\u001b[0;31m \u001b[0ma\u001b[0m\u001b[0;34m\u001b[0m\u001b[0;34m\u001b[0m\u001b[0m\n\u001b[0m",
            "\u001b[0;31mNameError\u001b[0m: name 'a' is not defined"
          ]
        }
      ]
    },
    {
      "cell_type": "code",
      "source": [
        "set1 = {1,2,3,4}\n",
        "set2 = {\"a\",\"b\",\"c\"}\n",
        "\n",
        "set2.union(set1)"
      ],
      "metadata": {
        "colab": {
          "base_uri": "https://localhost:8080/"
        },
        "id": "UUJX2V9FkEpe",
        "outputId": "37a2c495-f6fb-4270-d790-f01ec7877a17"
      },
      "execution_count": null,
      "outputs": [
        {
          "output_type": "execute_result",
          "data": {
            "text/plain": [
              "{1, 2, 3, 4, 'a', 'b', 'c'}"
            ]
          },
          "metadata": {},
          "execution_count": 82
        }
      ]
    },
    {
      "cell_type": "code",
      "source": [
        "set1.update(set2)"
      ],
      "metadata": {
        "id": "PaajOZK4kkFg"
      },
      "execution_count": null,
      "outputs": []
    },
    {
      "cell_type": "code",
      "source": [
        "set1"
      ],
      "metadata": {
        "colab": {
          "base_uri": "https://localhost:8080/"
        },
        "id": "EFsRyKSlkpwi",
        "outputId": "0304960e-68a5-45e9-bce2-3edafeb1dc20"
      },
      "execution_count": null,
      "outputs": [
        {
          "output_type": "execute_result",
          "data": {
            "text/plain": [
              "{1, 2, 3, 4, 'a', 'b', 'c'}"
            ]
          },
          "metadata": {},
          "execution_count": 81
        }
      ]
    },
    {
      "cell_type": "code",
      "source": [
        "set1"
      ],
      "metadata": {
        "colab": {
          "base_uri": "https://localhost:8080/"
        },
        "id": "t51KmyBgkdO8",
        "outputId": "b8a6a4ba-0f44-48c6-e1bb-2e1ca7a07fff"
      },
      "execution_count": null,
      "outputs": [
        {
          "output_type": "execute_result",
          "data": {
            "text/plain": [
              "{1, 2, 3, 4}"
            ]
          },
          "metadata": {},
          "execution_count": 78
        }
      ]
    },
    {
      "cell_type": "code",
      "source": [
        "set2"
      ],
      "metadata": {
        "colab": {
          "base_uri": "https://localhost:8080/"
        },
        "id": "9UO_LEqPke_l",
        "outputId": "9aa021e8-739c-4254-ead1-e9d8c68bbcca"
      },
      "execution_count": null,
      "outputs": [
        {
          "output_type": "execute_result",
          "data": {
            "text/plain": [
              "{'a', 'b', 'c'}"
            ]
          },
          "metadata": {},
          "execution_count": 79
        }
      ]
    },
    {
      "cell_type": "code",
      "source": [
        "# union\n",
        "set1 = {\"a\", \"b\" , \"c\"}\n",
        "set2 = {1, 2, 3}\n",
        "\n",
        "set3 = set1.union(set2)\n",
        "print(set3)"
      ],
      "metadata": {
        "colab": {
          "base_uri": "https://localhost:8080/"
        },
        "id": "jlQq0xPZTyI7",
        "outputId": "0c8e298c-dac4-4748-dc00-02fdd595dfa0"
      },
      "execution_count": null,
      "outputs": [
        {
          "output_type": "stream",
          "name": "stdout",
          "text": [
            "{'c', 1, 'b', 2, 3, 'a'}\n"
          ]
        }
      ]
    },
    {
      "cell_type": "code",
      "source": [
        "# update\n",
        "set1 = {\"a\", \"b\" , \"c\"}\n",
        "set2 = {1, 2, 3}\n",
        "\n",
        "set1.update(set2)\n",
        "print(set1)"
      ],
      "metadata": {
        "colab": {
          "base_uri": "https://localhost:8080/"
        },
        "id": "-b4U9uKhTyFZ",
        "outputId": "e6e979ed-437f-4c12-e186-91471fdcf0f1"
      },
      "execution_count": null,
      "outputs": [
        {
          "output_type": "stream",
          "name": "stdout",
          "text": [
            "{'c', 1, 'b', 2, 3, 'a'}\n"
          ]
        }
      ]
    },
    {
      "cell_type": "code",
      "source": [
        "x = {\"apple\", \"banana\", \"cherry\"}\n",
        "y = {\"orange\", \"apple\", \"banana\"}\n",
        "\n",
        "x.intersection_update(y)"
      ],
      "metadata": {
        "id": "gA_KI5WMlwLj"
      },
      "execution_count": null,
      "outputs": []
    },
    {
      "cell_type": "code",
      "source": [
        "x"
      ],
      "metadata": {
        "colab": {
          "base_uri": "https://localhost:8080/"
        },
        "id": "O-W6WBkxmCUR",
        "outputId": "2ab4bee3-820b-4029-fbc1-00ea1f14454a"
      },
      "execution_count": null,
      "outputs": [
        {
          "output_type": "execute_result",
          "data": {
            "text/plain": [
              "{'apple', 'banana'}"
            ]
          },
          "metadata": {},
          "execution_count": 84
        }
      ]
    },
    {
      "cell_type": "code",
      "source": [
        "y"
      ],
      "metadata": {
        "colab": {
          "base_uri": "https://localhost:8080/"
        },
        "id": "yVGEOtPAmF7S",
        "outputId": "84327612-6e1b-49e9-aae8-c54b726473f7"
      },
      "execution_count": null,
      "outputs": [
        {
          "output_type": "execute_result",
          "data": {
            "text/plain": [
              "{'apple', 'banana', 'orange'}"
            ]
          },
          "metadata": {},
          "execution_count": 85
        }
      ]
    },
    {
      "cell_type": "code",
      "source": [
        "# Keep ONLY the Duplicates\n",
        "x = {\"apple\", \"banana\", \"cherry\"}\n",
        "y = {\"google\", \"microsoft\", \"apple\"}\n",
        "\n",
        "x.intersection_update(y)\n",
        "\n",
        "print(x)"
      ],
      "metadata": {
        "colab": {
          "base_uri": "https://localhost:8080/"
        },
        "id": "8SZzWTUyTyCB",
        "outputId": "7eab3ae2-f0d5-42d7-a53e-7f2bfcb95567"
      },
      "execution_count": null,
      "outputs": [
        {
          "output_type": "stream",
          "name": "stdout",
          "text": [
            "{'apple'}\n"
          ]
        }
      ]
    },
    {
      "cell_type": "code",
      "source": [
        "x = {\"apple\", \"banana\", \"cherry\"}\n",
        "y = {\"google\", \"microsoft\", \"apple\"}\n",
        "\n",
        "z = x.intersection(y)\n",
        "\n",
        "print(z)"
      ],
      "metadata": {
        "colab": {
          "base_uri": "https://localhost:8080/"
        },
        "id": "7I3IMm0dTxyw",
        "outputId": "fd6c44c8-31d8-419d-ff52-ceadd71d00e8"
      },
      "execution_count": null,
      "outputs": [
        {
          "output_type": "stream",
          "name": "stdout",
          "text": [
            "{'apple'}\n"
          ]
        }
      ]
    },
    {
      "cell_type": "code",
      "source": [
        "x,y"
      ],
      "metadata": {
        "colab": {
          "base_uri": "https://localhost:8080/"
        },
        "id": "vCdZ1e-UmXkT",
        "outputId": "5b2b34f3-c38a-4a7e-d8f7-6e64cfb4b8f0"
      },
      "execution_count": null,
      "outputs": [
        {
          "output_type": "execute_result",
          "data": {
            "text/plain": [
              "({'apple', 'banana', 'cherry'}, {'apple', 'google', 'microsoft'})"
            ]
          },
          "metadata": {},
          "execution_count": 87
        }
      ]
    },
    {
      "cell_type": "code",
      "source": [
        "x = {\"apple\", \"banana\", \"cherry\"}\n",
        "y = {\"google\", \"microsoft\", \"apple\"}\n",
        "\n",
        "x.union(y)"
      ],
      "metadata": {
        "colab": {
          "base_uri": "https://localhost:8080/"
        },
        "id": "picQVJy1nY5T",
        "outputId": "bd0372ad-e372-4d0b-b97d-b639c6965c66"
      },
      "execution_count": null,
      "outputs": [
        {
          "output_type": "execute_result",
          "data": {
            "text/plain": [
              "{'apple', 'banana', 'cherry', 'google', 'microsoft'}"
            ]
          },
          "metadata": {},
          "execution_count": 88
        }
      ]
    },
    {
      "cell_type": "code",
      "source": [
        "# Keep All, But NOT the Duplicates\n",
        "\n",
        "x = {\"apple\", \"banana\", \"cherry\"}\n",
        "y = {\"google\", \"microsoft\", \"apple\"}\n",
        "\n",
        "x.symmetric_difference_update(y)\n",
        "\n",
        "print(x)"
      ],
      "metadata": {
        "colab": {
          "base_uri": "https://localhost:8080/"
        },
        "id": "wxKuSiRZUjZh",
        "outputId": "18d6423b-747d-44b0-c680-e85d82e6ac93"
      },
      "execution_count": null,
      "outputs": [
        {
          "output_type": "stream",
          "name": "stdout",
          "text": [
            "{'microsoft', 'banana', 'google', 'cherry'}\n"
          ]
        }
      ]
    },
    {
      "cell_type": "code",
      "source": [
        "x = {\"apple\", \"banana\", \"cherry\"}\n",
        "y = {\"google\", \"microsoft\", \"apple\"}\n",
        "\n",
        "z = x.symmetric_difference(y)\n",
        "\n",
        "print(z)"
      ],
      "metadata": {
        "colab": {
          "base_uri": "https://localhost:8080/"
        },
        "id": "2-2ufDDJUjT8",
        "outputId": "0d392417-b42b-450b-e30b-2b811a383eb1"
      },
      "execution_count": null,
      "outputs": [
        {
          "output_type": "stream",
          "name": "stdout",
          "text": [
            "{'microsoft', 'banana', 'google', 'cherry'}\n"
          ]
        }
      ]
    },
    {
      "cell_type": "code",
      "source": [],
      "metadata": {
        "id": "ZJ0OB6ctUjLI"
      },
      "execution_count": null,
      "outputs": []
    },
    {
      "cell_type": "markdown",
      "source": [
        "## Conditional Expressions\n",
        "\n",
        "Sometimes we want to go for hiking if the day is sunday\n",
        "\n",
        "Sometime we order ice cream if day is sunny\n",
        "\n",
        "All these are decisions which depends on a condition being met.\n",
        "\n",
        "### if else and elif in python\n",
        "\n",
        "- if else and elif statements are a multiway decision taken by our program due to certain conditions in our code.\n",
        "\n",
        "\n",
        "\n",
        "```\n",
        "# syntax\n",
        "\n",
        "if(condition 1): -->if condition 1 is true\n",
        "  print(\"yes\")\n",
        "elif(condition 2): -->if condition 2 is true\n",
        "  print(\"No\")\n",
        "else: -->otherwise\n",
        "  print(\"may be\")\n",
        "```\n",
        "\n"
      ],
      "metadata": {
        "id": "7zSmKLutpIHp"
      }
    },
    {
      "cell_type": "code",
      "source": [
        "a = int(input(\"enter a number\"))\n",
        "\n",
        "if (a > 50):\n",
        "  print(\"greater\")\n",
        "elif (a == 50):\n",
        "  print(\"equal\")\n",
        "else:\n",
        "  print(\"smaller\")"
      ],
      "metadata": {
        "colab": {
          "base_uri": "https://localhost:8080/"
        },
        "id": "jVr-UDn_pEON",
        "outputId": "dc612c82-e197-4294-e870-2c77eebb110c"
      },
      "execution_count": null,
      "outputs": [
        {
          "output_type": "stream",
          "name": "stdout",
          "text": [
            "enter a number50\n",
            "equal\n"
          ]
        }
      ]
    },
    {
      "cell_type": "markdown",
      "source": [
        "### Relational operators\n",
        "\n",
        "Relational operators are used to evaluate conditions inside the if statements. some example of relational operators are:\n",
        "\n",
        "\n",
        "\n",
        "```\n",
        "== -->equals\n",
        ">= -->greater than or equal to\n",
        "<= -->less than or equal to\n",
        "```\n",
        "\n"
      ],
      "metadata": {
        "id": "NAUnjGyMswJj"
      }
    },
    {
      "cell_type": "markdown",
      "source": [
        "### Logical operators\n",
        "\n",
        "\n",
        "\n",
        "```\n",
        "A and B -->true if both operands are true else false\n",
        "A or B -->true if at least one operand is true else false\n",
        "not(A or B) -->inverts the result of (A or B), inverts true to false and false to true\n",
        "```\n",
        "\n"
      ],
      "metadata": {
        "id": "wXq5jMJxtPj4"
      }
    },
    {
      "cell_type": "code",
      "source": [
        "10 < 20"
      ],
      "metadata": {
        "colab": {
          "base_uri": "https://localhost:8080/"
        },
        "id": "xvGjHTMKwyB3",
        "outputId": "f719c1b4-d128-481b-99ff-0168dcefa4d1"
      },
      "execution_count": null,
      "outputs": [
        {
          "output_type": "execute_result",
          "data": {
            "text/plain": [
              "True"
            ]
          },
          "metadata": {},
          "execution_count": 6
        }
      ]
    },
    {
      "cell_type": "code",
      "source": [
        "a = 12\n",
        "a>=12"
      ],
      "metadata": {
        "colab": {
          "base_uri": "https://localhost:8080/"
        },
        "id": "sjHIHN7nxWjp",
        "outputId": "bd0582fa-272d-43dc-e14d-63b63e983b34"
      },
      "execution_count": null,
      "outputs": [
        {
          "output_type": "execute_result",
          "data": {
            "text/plain": [
              "True"
            ]
          },
          "metadata": {},
          "execution_count": 9
        }
      ]
    },
    {
      "cell_type": "code",
      "source": [
        "a = 25\n",
        "b = 50\n",
        "\n",
        "(a>10) or (b<10)"
      ],
      "metadata": {
        "colab": {
          "base_uri": "https://localhost:8080/"
        },
        "id": "BsiXoqG_uR7D",
        "outputId": "f06527bf-3f07-4d9a-ab56-4c32c6c698f0"
      },
      "execution_count": null,
      "outputs": [
        {
          "output_type": "execute_result",
          "data": {
            "text/plain": [
              "True"
            ]
          },
          "metadata": {},
          "execution_count": 4
        }
      ]
    },
    {
      "cell_type": "markdown",
      "source": [
        "### elif clause\n",
        "\n",
        "elif in python means [else if]. An if statement can be chained together with a lot of these elif statements followed by an else statement.\n",
        "\n",
        "```\n",
        "# syntax\n",
        "\n",
        "if(condition 1): \n",
        "  #code\n",
        "elif(condition 2): -->this code will stop once a condition\n",
        "  #code               in an if or elif is met\n",
        "elif(condition 3):\n",
        "  #code\n",
        "else: -->otherwise\n",
        "  #code\n",
        "```\n",
        "\n",
        "\n",
        "Important note\n",
        "- There can be any number of elif statements\n",
        "- last else is executed only if all the conditions inside elif fails"
      ],
      "metadata": {
        "id": "-4lt2UFFus7k"
      }
    },
    {
      "cell_type": "markdown",
      "source": [
        "Let's test our knowledge with a practice problem.\n",
        "\n",
        "Problem - Write a program to calculate grade of a student from his marks. following is the grading scheme.\n",
        "\n",
        "\n",
        "```\n",
        "          91-100 --> A+\n",
        "          81-90 --> A\n",
        "          71-80 --> B\n",
        "          61-70 --> C\n",
        "          51-60 --> D\n",
        "          BELOW or equal to 50 --> E\n",
        "\n",
        "```\n",
        "\n"
      ],
      "metadata": {
        "id": "ebRDaJeQ7tYZ"
      }
    },
    {
      "cell_type": "code",
      "source": [
        "marks = float(input(\"please enter your marks :\"))\n",
        "\n",
        "if (marks >=91) and (marks <=100):\n",
        "  grade = \"A+\"\n",
        "\n",
        "elif (marks >=81) and (marks <= 91):\n",
        "  grade = \"A\"\n",
        "\n",
        "elif (marks >=71) and (marks <= 80):\n",
        "  grade = \"B\"\n",
        "\n",
        "elif (marks >=61) and (marks <= 70):\n",
        "  grade = \"C\"\n",
        "\n",
        "elif (marks >= 51) and (marks <=60):\n",
        "  grade = \"D\"\n",
        "\n",
        "else :\n",
        "  grade = \"E\"\n",
        "\n",
        "print(\"Your grade is :\", grade)"
      ],
      "metadata": {
        "colab": {
          "base_uri": "https://localhost:8080/",
          "height": 131
        },
        "id": "pE3-lX3eyl_h",
        "outputId": "dd67328e-486a-4413-c513-0c321f8f8406"
      },
      "execution_count": null,
      "outputs": [
        {
          "output_type": "error",
          "ename": "SyntaxError",
          "evalue": "ignored",
          "traceback": [
            "\u001b[0;36m  File \u001b[0;32m\"<ipython-input-2-7327ee9047da>\"\u001b[0;36m, line \u001b[0;32m6\u001b[0m\n\u001b[0;31m    elif (marks >=81) and (marks  91):\u001b[0m\n\u001b[0m                                  ^\u001b[0m\n\u001b[0;31mSyntaxError\u001b[0m\u001b[0;31m:\u001b[0m invalid syntax\n"
          ]
        }
      ]
    },
    {
      "cell_type": "code",
      "source": [
        "a = 60\n",
        "if a > 20:\n",
        "  # if a < 80:\n",
        "  print(a) "
      ],
      "metadata": {
        "colab": {
          "base_uri": "https://localhost:8080/"
        },
        "id": "6fYcxedO7JQj",
        "outputId": "6a5d35f4-6cd8-40a0-a665-f1a6b9c921ae"
      },
      "execution_count": null,
      "outputs": [
        {
          "output_type": "stream",
          "name": "stdout",
          "text": [
            "60\n"
          ]
        }
      ]
    },
    {
      "cell_type": "code",
      "source": [
        "a = 2\n",
        "b = 330\n",
        "print(\"A\") if a > b else print(\"B\")"
      ],
      "metadata": {
        "colab": {
          "base_uri": "https://localhost:8080/"
        },
        "id": "9LXH4a0v9LHV",
        "outputId": "3aea6097-5e69-46b7-be0b-f998892b8584"
      },
      "execution_count": null,
      "outputs": [
        {
          "output_type": "stream",
          "name": "stdout",
          "text": [
            "B\n"
          ]
        }
      ]
    },
    {
      "cell_type": "code",
      "source": [
        ".jpg, .png, .jpeg"
      ],
      "metadata": {
        "id": "A09UFbHQ-OQ1"
      },
      "execution_count": null,
      "outputs": []
    },
    {
      "cell_type": "code",
      "source": [
        "print(a) if (a < b) else print(b)"
      ],
      "metadata": {
        "colab": {
          "base_uri": "https://localhost:8080/"
        },
        "id": "Xq_86RpQ9bPG",
        "outputId": "52600069-ed23-435b-b4e3-e677938045bf"
      },
      "execution_count": null,
      "outputs": [
        {
          "output_type": "stream",
          "name": "stdout",
          "text": [
            "330\n"
          ]
        }
      ]
    },
    {
      "cell_type": "code",
      "source": [
        "if (a < b):\n",
        "  print(a)\n",
        "else:\n",
        "  print(b)"
      ],
      "metadata": {
        "id": "_FfnQ38Z91Xf"
      },
      "execution_count": null,
      "outputs": []
    },
    {
      "cell_type": "code",
      "source": [
        "male, female"
      ],
      "metadata": {
        "id": "Mm_Ndy_-_t27"
      },
      "execution_count": null,
      "outputs": []
    },
    {
      "cell_type": "code",
      "source": [
        "x = \"male\"\n",
        "if x==\"male\": print(1)"
      ],
      "metadata": {
        "colab": {
          "base_uri": "https://localhost:8080/"
        },
        "id": "WW9y5IZyADww",
        "outputId": "0292cae0-bd7a-409f-b504-44356ea3dd6e"
      },
      "execution_count": null,
      "outputs": [
        {
          "output_type": "stream",
          "name": "stdout",
          "text": [
            "1\n"
          ]
        }
      ]
    },
    {
      "cell_type": "code",
      "source": [
        "x = \"female\"\n",
        "1 if x == \"male\" else 0"
      ],
      "metadata": {
        "colab": {
          "base_uri": "https://localhost:8080/",
          "height": 131
        },
        "id": "2ugvybDp_pi6",
        "outputId": "811ebb3d-c08f-4181-f4be-ab5cf8131350"
      },
      "execution_count": null,
      "outputs": [
        {
          "output_type": "error",
          "ename": "SyntaxError",
          "evalue": "ignored",
          "traceback": [
            "\u001b[0;36m  File \u001b[0;32m\"<ipython-input-39-6a2aec0612de>\"\u001b[0;36m, line \u001b[0;32m2\u001b[0m\n\u001b[0;31m    1 if x == \"male\" else break\u001b[0m\n\u001b[0m                          ^\u001b[0m\n\u001b[0;31mSyntaxError\u001b[0m\u001b[0;31m:\u001b[0m invalid syntax\n"
          ]
        }
      ]
    },
    {
      "cell_type": "code",
      "source": [
        "print(\"Five is greater than two!\") if (5 > 2) else print(\"test\")"
      ],
      "metadata": {
        "colab": {
          "base_uri": "https://localhost:8080/"
        },
        "id": "vA4J0RJy_aSj",
        "outputId": "7d05271b-e804-4e1a-e8e9-b5993a6cbd7e"
      },
      "execution_count": null,
      "outputs": [
        {
          "output_type": "stream",
          "name": "stdout",
          "text": [
            "Five is greater than two!\n"
          ]
        }
      ]
    },
    {
      "cell_type": "code",
      "source": [
        "marks = float(input(\"Enter Your Marks\\n\"))\n",
        "\n",
        "if marks>=90:\n",
        "    grade = \"A+\"\n",
        "elif marks>=80:\n",
        "    grade = \"A\"\n",
        "elif marks>=70:\n",
        "    grade = \"B\"\n",
        "elif marks>=60:\n",
        "    grade = \"C\"\n",
        "elif marks>=50:\n",
        "    grade = \"D\" \n",
        "else:\n",
        "    grade = \"E\"\n",
        "\n",
        "print(\"Your grade is \" + grade)"
      ],
      "metadata": {
        "colab": {
          "base_uri": "https://localhost:8080/"
        },
        "id": "1vxKQhyn9Chp",
        "outputId": "756f775f-ae87-4421-dd4a-f72683f381c7"
      },
      "execution_count": null,
      "outputs": [
        {
          "output_type": "stream",
          "name": "stdout",
          "text": [
            "Enter Your Marks\n",
            "86.34\n",
            "Your grade is A\n"
          ]
        }
      ]
    },
    {
      "cell_type": "code",
      "source": [
        "print(1)"
      ],
      "metadata": {
        "colab": {
          "base_uri": "https://localhost:8080/"
        },
        "id": "VIzZFPOnHRw9",
        "outputId": "33496327-af61-49ba-eb44-442b18e35c9b"
      },
      "execution_count": null,
      "outputs": [
        {
          "output_type": "stream",
          "name": "stdout",
          "text": [
            "1\n"
          ]
        }
      ]
    },
    {
      "cell_type": "code",
      "source": [
        "a = 1\n",
        "while a <=10:\n",
        "  \n",
        "  print(a)\n",
        "  a = a+1\n"
      ],
      "metadata": {
        "colab": {
          "base_uri": "https://localhost:8080/"
        },
        "id": "gkCpGoHtHh50",
        "outputId": "f4dcc1fa-a9ea-4ebe-e6f4-512e7afa3c77"
      },
      "execution_count": null,
      "outputs": [
        {
          "output_type": "stream",
          "name": "stdout",
          "text": [
            "1\n",
            "2\n",
            "3\n",
            "4\n",
            "5\n",
            "6\n",
            "7\n",
            "8\n",
            "9\n",
            "10\n"
          ]
        }
      ]
    },
    {
      "cell_type": "markdown",
      "source": [
        "## Loops in python\n",
        "\n",
        "Sometime we want to repeat a set of statements in our program. for instance: print 1 to 1000\n",
        "\n",
        "Loops make it easy for a programmer to tell the computer, which set of instructions to repeat and how.\n",
        "\n",
        "### Types of loop in python\n",
        "\n",
        "Primarily there are two types of loops in python.\n",
        "1. while loop\n",
        "2. for loop"
      ],
      "metadata": {
        "id": "-gdYO1AwUcfQ"
      }
    },
    {
      "cell_type": "markdown",
      "source": [
        "### while loop\n",
        "\n",
        "the syntax of a while loop looks like this -:\n",
        "\n",
        "\n",
        "```\n",
        "while condition :     -->this block keeps executing untill the condition is true\n",
        "  #body of the loop\n",
        "```\n",
        "\n",
        "in while loop, the condition is checked first. If it evaluates to true , the body of the loop is executed, otherwise it is not executed."
      ],
      "metadata": {
        "id": "Bx7kmGPAWW85"
      }
    },
    {
      "cell_type": "code",
      "source": [
        "i=10\n",
        "while i > 5:\n",
        "\n",
        "  print(\"python\")\n",
        "  i = i-1 # or i += 1"
      ],
      "metadata": {
        "colab": {
          "base_uri": "https://localhost:8080/"
        },
        "id": "I0VUt5f2Ux8h",
        "outputId": "ee81b6f1-17ce-4f75-9d23-ac3c504c855a"
      },
      "execution_count": null,
      "outputs": [
        {
          "output_type": "stream",
          "name": "stdout",
          "text": [
            "python\n",
            "python\n",
            "python\n",
            "python\n",
            "python\n"
          ]
        }
      ]
    },
    {
      "cell_type": "markdown",
      "source": [
        "Note - if the condition never becomes false the loop keeps getting executed."
      ],
      "metadata": {
        "id": "zycWRLpMYN92"
      }
    },
    {
      "cell_type": "markdown",
      "source": [],
      "metadata": {
        "id": "yxuW6tS4-H6L"
      }
    },
    {
      "cell_type": "code",
      "source": [
        "num = int(input(\"please enter the number : \"))\n",
        "\n",
        "n = 0\n",
        "sum_num = 0\n",
        "\n",
        "while n <= num:\n",
        "  sum_num = sum_num + n\n",
        "  print(f\"the value of n is {n} and the sum_num is {sum_num}\")\n",
        "  n = n+1\n",
        "\n",
        "print(sum_num)"
      ],
      "metadata": {
        "colab": {
          "base_uri": "https://localhost:8080/"
        },
        "id": "AcOQIpSaN2Mx",
        "outputId": "fdaf5f8a-84b0-4047-975e-5a5297dcd22d"
      },
      "execution_count": null,
      "outputs": [
        {
          "output_type": "stream",
          "name": "stdout",
          "text": [
            "please enter the number : 3\n",
            "the value of n is 0 and the sum_num is 0\n",
            "the value of n is 1 and the sum_num is 1\n",
            "the value of n is 2 and the sum_num is 3\n",
            "the value of n is 3 and the sum_num is 6\n",
            "6\n"
          ]
        }
      ]
    },
    {
      "cell_type": "code",
      "source": [
        "n = int(input(\"Enter the value of n\\n\"))\n",
        "sum_n = 0\n",
        "i = 0\n",
        "while i <=n:\n",
        "\n",
        "  sum_n = sum_n + i\n",
        "  print(f\"the value of sum_n : {sum_n} for i : {i}\")\n",
        "  i+=1\n",
        "\n",
        "sum_n\n",
        "\n"
      ],
      "metadata": {
        "colab": {
          "base_uri": "https://localhost:8080/"
        },
        "id": "8de7UNvh-kFe",
        "outputId": "d750819a-f7e3-4a3b-abfe-341cf6f83e9b"
      },
      "execution_count": null,
      "outputs": [
        {
          "output_type": "stream",
          "name": "stdout",
          "text": [
            "Enter the value of n\n",
            "3\n",
            "the value of sum_n : 0 for i : 0\n",
            "the value of sum_n : 1 for i : 1\n",
            "the value of sum_n : 3 for i : 2\n",
            "the value of sum_n : 6 for i : 3\n"
          ]
        },
        {
          "output_type": "execute_result",
          "data": {
            "text/plain": [
              "6"
            ]
          },
          "metadata": {},
          "execution_count": 28
        }
      ]
    },
    {
      "cell_type": "code",
      "source": [
        "a = [1,2,3]\n",
        "\n",
        "if 2 in a:\n",
        "  print(\"yes\")"
      ],
      "metadata": {
        "colab": {
          "base_uri": "https://localhost:8080/"
        },
        "id": "OJQ50i_OSr8d",
        "outputId": "c1de9470-22f6-46c4-dfa8-580f6c012e40"
      },
      "execution_count": null,
      "outputs": [
        {
          "output_type": "stream",
          "name": "stdout",
          "text": [
            "yes\n"
          ]
        }
      ]
    },
    {
      "cell_type": "markdown",
      "source": [
        "### for loop\n",
        "\n",
        "A for loop is used to iterate through a sequence like list, tuple or string\n",
        "\n",
        "the syntax of a for loop looks like this -:\n",
        "\n",
        "```\n",
        "temp_list = [1,7,8]\n",
        "for items in temp_list:\n",
        "  print(item)            -->print 1,7 and 8\n",
        "```"
      ],
      "metadata": {
        "id": "w0qR4B9vYhJz"
      }
    },
    {
      "cell_type": "code",
      "source": [
        "temp_list = [\"apple\",\"banana\", \"cherry\"]\n",
        "\n",
        "for fruit in temp_list:\n",
        "  print(fruit)"
      ],
      "metadata": {
        "colab": {
          "base_uri": "https://localhost:8080/"
        },
        "id": "a9RPyf2OS5Wk",
        "outputId": "035459a5-0b3f-4b16-d77b-65b33f483938"
      },
      "execution_count": null,
      "outputs": [
        {
          "output_type": "stream",
          "name": "stdout",
          "text": [
            "apple\n",
            "banana\n",
            "cherry\n"
          ]
        }
      ]
    },
    {
      "cell_type": "markdown",
      "source": [
        "#### range function in python\n",
        "\n",
        "The range function in python is used to generate a sequence of numbers.\n",
        "\n",
        "we can also specify the start, stop and step size. \n"
      ],
      "metadata": {
        "id": "FPdoA3ADaDsL"
      }
    },
    {
      "cell_type": "code",
      "source": [],
      "metadata": {
        "id": "oIRG2zf6VKMr"
      },
      "execution_count": null,
      "outputs": []
    },
    {
      "cell_type": "code",
      "source": [
        "for i in range(0,5,2):  #--> range(5)can also be used\n",
        "  print(\"python\", i)            #--> prints 0 to 4"
      ],
      "metadata": {
        "id": "XSMZTCEZsiVc",
        "colab": {
          "base_uri": "https://localhost:8080/"
        },
        "outputId": "889f1686-b132-4476-ab22-82f0fa210c6d"
      },
      "execution_count": null,
      "outputs": [
        {
          "output_type": "stream",
          "name": "stdout",
          "text": [
            "python 0\n",
            "python 2\n",
            "python 4\n"
          ]
        }
      ]
    },
    {
      "cell_type": "markdown",
      "source": [
        "Let's take a look at an example\n",
        "\n",
        "Problem statement - find the greatest number in a list using a for loop"
      ],
      "metadata": {
        "id": "gsxENIzrbj-_"
      }
    },
    {
      "cell_type": "code",
      "source": [
        "numbers = [12, 10, 2, 56, 95, 125, 244, 155]\n",
        "\n",
        "max_value = 0\n",
        "\n",
        "for i in numbers:\n",
        "  print(i)"
      ],
      "metadata": {
        "colab": {
          "base_uri": "https://localhost:8080/"
        },
        "id": "avmpUGU_YR_X",
        "outputId": "ecc00c6a-4624-4b86-d9d0-f688b8909742"
      },
      "execution_count": null,
      "outputs": [
        {
          "output_type": "stream",
          "name": "stdout",
          "text": [
            "12\n",
            "10\n",
            "2\n",
            "56\n",
            "95\n",
            "125\n",
            "244\n",
            "155\n"
          ]
        }
      ]
    },
    {
      "cell_type": "code",
      "source": [
        "# Find the greatest of numbers\n",
        "\n",
        "numbers = [12, 10, 2, 56, 95, 125, 244, 155]\n",
        "\n",
        "max_value = 0\n",
        "min_value = 99999\n",
        "for num in numbers:\n",
        "  if num > max_value:\n",
        "    max_value = num\n",
        "\n",
        "  if num < min_value:\n",
        "    min_value = num\n",
        "\n",
        "\n",
        "print(max_value, min_value)\n"
      ],
      "metadata": {
        "colab": {
          "base_uri": "https://localhost:8080/"
        },
        "id": "zWl6HDtHWeXQ",
        "outputId": "de6cb260-d41f-4625-b2e5-c39dfea8778f"
      },
      "execution_count": null,
      "outputs": [
        {
          "output_type": "stream",
          "name": "stdout",
          "text": [
            "244 2\n"
          ]
        }
      ]
    },
    {
      "cell_type": "code",
      "source": [
        "max(numbers), min(numbers)"
      ],
      "metadata": {
        "colab": {
          "base_uri": "https://localhost:8080/"
        },
        "id": "Rr5lm6v-WeJP",
        "outputId": "91fcfa90-cc67-4198-9ca9-4c75a5fb183e"
      },
      "execution_count": null,
      "outputs": [
        {
          "output_type": "execute_result",
          "data": {
            "text/plain": [
              "(244, 2)"
            ]
          },
          "metadata": {},
          "execution_count": 30
        }
      ]
    },
    {
      "cell_type": "code",
      "source": [],
      "metadata": {
        "id": "ND6VirCNWdp2"
      },
      "execution_count": null,
      "outputs": []
    },
    {
      "cell_type": "code",
      "source": [
        "# Find the greatest of numbers\n",
        "\n",
        "numbers = [12, 10, 2, 56, 95, 125, 244, 155]\n",
        "\n",
        "print(len(numbers))\n",
        "for i in range(len(numbers)- 1):\n",
        "    if i==0:\n",
        "      if numbers[0] > numbers[1]:\n",
        "        maxNum = numbers[0]\n",
        "      else:\n",
        "        maxNum = numbers[1]\n",
        "\n",
        "        \n",
        "    else:\n",
        "      if maxNum > numbers[i+1]:\n",
        "        pass\n",
        "      else:\n",
        "        maxNum = numbers[i+1]\n",
        "        \n",
        "\n",
        "print(maxNum)\n",
        "print(max(numbers))"
      ],
      "metadata": {
        "colab": {
          "base_uri": "https://localhost:8080/"
        },
        "id": "HuWOiPPNaylr",
        "outputId": "2cb3502f-a531-4207-cbc8-b3f7f7f77ebf"
      },
      "execution_count": null,
      "outputs": [
        {
          "output_type": "stream",
          "name": "stdout",
          "text": [
            "8\n",
            "244\n",
            "244\n"
          ]
        }
      ]
    },
    {
      "cell_type": "code",
      "source": [
        "a = [[1,2,3], [4,5,6], [7,8,9]]"
      ],
      "metadata": {
        "id": "X6Z2OB6HcduK"
      },
      "execution_count": null,
      "outputs": []
    },
    {
      "cell_type": "code",
      "source": [
        "a[0][0]"
      ],
      "metadata": {
        "colab": {
          "base_uri": "https://localhost:8080/"
        },
        "id": "fmr4pecBcldn",
        "outputId": "4c62e383-3a4b-49fb-9f3a-86527b35cf0c"
      },
      "execution_count": null,
      "outputs": [
        {
          "output_type": "execute_result",
          "data": {
            "text/plain": [
              "1"
            ]
          },
          "metadata": {},
          "execution_count": 33
        }
      ]
    },
    {
      "cell_type": "code",
      "source": [
        "b = [1,2,3,4]\n",
        "b.pop(0)\n",
        "b"
      ],
      "metadata": {
        "colab": {
          "base_uri": "https://localhost:8080/"
        },
        "id": "DaQUSyM2d3yS",
        "outputId": "90ab271e-20da-4846-f5c8-593a54f9e54a"
      },
      "execution_count": null,
      "outputs": [
        {
          "output_type": "execute_result",
          "data": {
            "text/plain": [
              "[2, 3, 4]"
            ]
          },
          "metadata": {},
          "execution_count": 37
        }
      ]
    },
    {
      "cell_type": "code",
      "source": [
        "while len(a)!=0:\n",
        "  i = a[0]\n",
        "  for j in i:\n",
        "    print(j, end = \" \")\n",
        "  a.pop(0)"
      ],
      "metadata": {
        "id": "aBIZUZzRBQIF",
        "colab": {
          "base_uri": "https://localhost:8080/"
        },
        "outputId": "17f09292-464a-4d66-9d62-c956453934d2"
      },
      "execution_count": null,
      "outputs": [
        {
          "output_type": "stream",
          "name": "stdout",
          "text": [
            "1 2 3 4 5 6 7 8 9 "
          ]
        }
      ]
    },
    {
      "cell_type": "markdown",
      "source": [
        "## break statement\n",
        "\n",
        "<img src = https://www.simplilearn.com/ice9/free_resources_article_thumb/loop-enters.JPG width = 500>\n",
        "\n",
        "‘Break’ in Python is a loop control statement. It is used to control the sequence of the loop. Suppose you want to terminate a loop and skip to the next code after the loop; break will help you do that. A typical scenario of using the Break in Python is when an external condition triggers the loop’s termination. \n",
        "\n",
        "You can use break in Python in all the loops: while, for, and nested. If you are using it in nested loops, it will terminate the innermost loop where you have used it, and the control of the program will flow to the outer loop. In other words, it breaks the sequence of the loop, and the control goes to the first statement outside the loop."
      ],
      "metadata": {
        "id": "_L7bUE2FLa32"
      }
    },
    {
      "cell_type": "code",
      "source": [
        "for i in range(1,10):\n",
        "  # print(i)\n",
        "  if i == 2:\n",
        "    break\n",
        "  print(i)"
      ],
      "metadata": {
        "id": "lbm2ElJccx4Y",
        "colab": {
          "base_uri": "https://localhost:8080/"
        },
        "outputId": "a77908c9-5803-4c83-9a2c-60566794df59"
      },
      "execution_count": null,
      "outputs": [
        {
          "output_type": "stream",
          "name": "stdout",
          "text": [
            "1\n"
          ]
        }
      ]
    },
    {
      "cell_type": "code",
      "source": [
        "for i in range(10):"
      ],
      "metadata": {
        "id": "kiKqFRklqDSR"
      },
      "execution_count": null,
      "outputs": []
    },
    {
      "cell_type": "code",
      "source": [
        "for i in range(2,7):\n",
        "  print(i)"
      ],
      "metadata": {
        "colab": {
          "base_uri": "https://localhost:8080/"
        },
        "id": "cj1oUOsQpEvd",
        "outputId": "32ce4e1c-5dc5-459f-f457-c2d2a7f0cd41"
      },
      "execution_count": null,
      "outputs": [
        {
          "output_type": "stream",
          "name": "stdout",
          "text": [
            "2\n",
            "5\n"
          ]
        }
      ]
    },
    {
      "cell_type": "markdown",
      "source": [
        "## program for detecting prime number"
      ],
      "metadata": {
        "id": "cm8Mi6k5W0lM"
      }
    },
    {
      "cell_type": "code",
      "source": [
        "num = int(input(\"Please enter a number to check prime number : \"))\n",
        "\n",
        "for i in range(2, num):\n",
        "  print(i)\n",
        "  if (num % i) == 0:\n",
        "    print(f\"{num} is not a prime number\")\n",
        "    break\n",
        "else:\n",
        "  print(f\"{num} is a prime number\")\n"
      ],
      "metadata": {
        "colab": {
          "base_uri": "https://localhost:8080/"
        },
        "id": "v8Urz2RaWtVT",
        "outputId": "7d62431e-2cde-41ab-ab40-a15b378008ce"
      },
      "execution_count": null,
      "outputs": [
        {
          "output_type": "stream",
          "name": "stdout",
          "text": [
            "Please enter a number to check prime number : 15\n",
            "2\n",
            "3\n",
            "15 is not a prime number\n"
          ]
        }
      ]
    },
    {
      "cell_type": "code",
      "source": [],
      "metadata": {
        "id": "0RVehbSsWvhk"
      },
      "execution_count": null,
      "outputs": []
    },
    {
      "cell_type": "markdown",
      "source": [
        "## Continue Statement\n",
        "\n",
        "<img src= https://i.stechies.com/userfiles/images/continue-statement-flow-diagram.webp width = 400>\n",
        "\n",
        "\n",
        "The continue statement in Python returns the control to the beginning of the while loop. The continue statement rejects all the remaining statements in the current iteration of the loop and moves the control back to the top of the loop.\n",
        "\n",
        "The continue statement can be used in both while and for loops."
      ],
      "metadata": {
        "id": "4RlZCSmCMN42"
      }
    },
    {
      "cell_type": "code",
      "source": [
        "for var in \"python\":\n",
        "  \n",
        "  if var != \"t\":\n",
        "      continue\n",
        "      # break\n",
        "  print(var)"
      ],
      "metadata": {
        "colab": {
          "base_uri": "https://localhost:8080/"
        },
        "id": "5X1b9eNfM9LG",
        "outputId": "cfc69f4b-71f5-4d15-fc4b-2ae5e58ace2a"
      },
      "execution_count": null,
      "outputs": [
        {
          "output_type": "stream",
          "name": "stdout",
          "text": [
            "p\n",
            "y\n",
            "t\n",
            "h\n",
            "o\n",
            "n\n"
          ]
        }
      ]
    },
    {
      "cell_type": "code",
      "source": [
        "fruits = [\"apple\", \"banana\", \"cherry\", \"kiwi\", \"mango\"]"
      ],
      "metadata": {
        "id": "kcEHLeOKe0E6"
      },
      "execution_count": null,
      "outputs": []
    },
    {
      "cell_type": "code",
      "source": [
        "newlist = []"
      ],
      "metadata": {
        "id": "XIyveeb1fAAm"
      },
      "execution_count": null,
      "outputs": []
    },
    {
      "cell_type": "code",
      "source": [
        "fruits = [\"apple\", \"banana\", \"cherry\", \"kiwi\", \"mango\"]\n",
        "newlist = []\n",
        "\n",
        "for i in fruits:\n",
        "  if \"a\" in i:\n",
        "    newlist.append()\n",
        "\n",
        "print(newlist)"
      ],
      "metadata": {
        "id": "E1NouoDQNLwY"
      },
      "execution_count": null,
      "outputs": []
    },
    {
      "cell_type": "code",
      "source": [
        "[\"i like \" + i for i in fruits if \"apple\" not in i]"
      ],
      "metadata": {
        "colab": {
          "base_uri": "https://localhost:8080/"
        },
        "id": "N1PKZUjMh2Mo",
        "outputId": "a698f7d1-1e8e-4975-d6aa-193de75bd021"
      },
      "execution_count": null,
      "outputs": [
        {
          "output_type": "execute_result",
          "data": {
            "text/plain": [
              "['i like banana', 'i like cherry', 'i like kiwi', 'i like mango']"
            ]
          },
          "metadata": {},
          "execution_count": 30
        }
      ]
    },
    {
      "cell_type": "code",
      "source": [
        "[x for x in fruits]"
      ],
      "metadata": {
        "colab": {
          "base_uri": "https://localhost:8080/"
        },
        "id": "RHzobFLdiC-F",
        "outputId": "bda1b2b7-0e02-4abe-d848-51c2edb90c58"
      },
      "execution_count": null,
      "outputs": [
        {
          "output_type": "execute_result",
          "data": {
            "text/plain": [
              "['apple', 'banana', 'cherry', 'kiwi', 'mango']"
            ]
          },
          "metadata": {},
          "execution_count": 31
        }
      ]
    },
    {
      "cell_type": "code",
      "source": [
        "[x for x in range(10) if x%2 != 0]"
      ],
      "metadata": {
        "colab": {
          "base_uri": "https://localhost:8080/"
        },
        "id": "7mMEESeoiZQ6",
        "outputId": "55e9e7f4-5b20-461c-f91d-7efc22dc3896"
      },
      "execution_count": null,
      "outputs": [
        {
          "output_type": "execute_result",
          "data": {
            "text/plain": [
              "[1, 3, 5, 7, 9]"
            ]
          },
          "metadata": {},
          "execution_count": 34
        }
      ]
    },
    {
      "cell_type": "code",
      "source": [
        "fruits"
      ],
      "metadata": {
        "colab": {
          "base_uri": "https://localhost:8080/"
        },
        "id": "cCPRsExwkZeF",
        "outputId": "d566fd6c-c441-4037-ecc3-27eba6c80d29"
      },
      "execution_count": null,
      "outputs": [
        {
          "output_type": "execute_result",
          "data": {
            "text/plain": [
              "['apple', 'banana', 'cherry', 'kiwi', 'mango']"
            ]
          },
          "metadata": {},
          "execution_count": 36
        }
      ]
    },
    {
      "cell_type": "code",
      "source": [
        "[x if x != \"banana\" else \"orange\" for x in fruits]"
      ],
      "metadata": {
        "colab": {
          "base_uri": "https://localhost:8080/"
        },
        "id": "6P8mYHjijEM7",
        "outputId": "e3e09a48-17c0-4547-93d6-d4fa7f965bcb"
      },
      "execution_count": null,
      "outputs": [
        {
          "output_type": "execute_result",
          "data": {
            "text/plain": [
              "['apple', 'orange', 'cherry', 'kiwi', 'mango']"
            ]
          },
          "metadata": {},
          "execution_count": 35
        }
      ]
    },
    {
      "cell_type": "code",
      "source": [],
      "metadata": {
        "id": "4FekYA0lkXpB"
      },
      "execution_count": null,
      "outputs": []
    }
  ]
}