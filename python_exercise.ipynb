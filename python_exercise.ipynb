{
  "nbformat": 4,
  "nbformat_minor": 0,
  "metadata": {
    "colab": {
      "provenance": [],
      "include_colab_link": true
    },
    "kernelspec": {
      "name": "python3",
      "display_name": "Python 3"
    },
    "language_info": {
      "name": "python"
    }
  },
  "cells": [
    {
      "cell_type": "markdown",
      "metadata": {
        "id": "view-in-github",
        "colab_type": "text"
      },
      "source": [
        "<a href=\"https://colab.research.google.com/github/shubham62025865/shubham1/blob/main/python_exercise.ipynb\" target=\"_parent\"><img src=\"https://colab.research.google.com/assets/colab-badge.svg\" alt=\"Open In Colab\"/></a>"
      ]
    },
    {
      "cell_type": "markdown",
      "source": [
        "Question - write a program to check if username is present in a list or not."
      ],
      "metadata": {
        "id": "z8JAF-a6021s"
      }
    },
    {
      "cell_type": "code",
      "execution_count": null,
      "metadata": {
        "id": "zeugw-Ua0zN7"
      },
      "outputs": [],
      "source": [
        "users = [\"abhishek\", \"aditya\", \"anjali\", \"atharv\"]"
      ]
    },
    {
      "cell_type": "markdown",
      "source": [
        "Test cases\n",
        "\n",
        "- user name present in a list\n",
        "- user name is not present in a list"
      ],
      "metadata": {
        "id": "ZDu_sGvi1X1I"
      }
    },
    {
      "cell_type": "code",
      "source": [
        "user_name = input(\"Please enter your user name :\")\n",
        "\n",
        "if user_name in users:\n",
        "  print(\"user name is present\")\n",
        "else:\n",
        "  print(\"user name is not present\")"
      ],
      "metadata": {
        "id": "3RZtFuMM1P7G",
        "colab": {
          "base_uri": "https://localhost:8080/"
        },
        "outputId": "d02b4c5e-1f3d-42da-a51b-d236bb88a009"
      },
      "execution_count": null,
      "outputs": [
        {
          "output_type": "stream",
          "name": "stdout",
          "text": [
            "Please enter your user name :kapil\n",
            "user name is not present\n"
          ]
        }
      ]
    },
    {
      "cell_type": "code",
      "source": [
        "def find(user_name):\n",
        "  for name in users:\n",
        "    if user_name == name:\n",
        "      return print(\"user name is present\")\n",
        "\n",
        "  return print(\"user does'nt exist\")"
      ],
      "metadata": {
        "id": "_1C-qB1-3f8_"
      },
      "execution_count": null,
      "outputs": []
    },
    {
      "cell_type": "code",
      "source": [
        "user_name = input(\"Please enter your user name :\")\n",
        "find(user_name)"
      ],
      "metadata": {
        "colab": {
          "base_uri": "https://localhost:8080/"
        },
        "id": "nFsAISBX48oh",
        "outputId": "42908ed3-5fb7-4ad2-d204-73354bd26825"
      },
      "execution_count": null,
      "outputs": [
        {
          "output_type": "stream",
          "name": "stdout",
          "text": [
            "Please enter your user name :kailash\n",
            "user does'nt exist\n"
          ]
        }
      ]
    },
    {
      "cell_type": "code",
      "source": [
        "a = [1,2,3,4,5]\n",
        "\n",
        "8 in a"
      ],
      "metadata": {
        "colab": {
          "base_uri": "https://localhost:8080/"
        },
        "id": "8xlIH0-T2s82",
        "outputId": "1a5776d5-bdf5-44b4-e80d-0e63736cc895"
      },
      "execution_count": null,
      "outputs": [
        {
          "output_type": "execute_result",
          "data": {
            "text/plain": [
              "False"
            ]
          },
          "metadata": {},
          "execution_count": 8
        }
      ]
    },
    {
      "cell_type": "code",
      "source": [
        "message = '''Harry Potter is a series of seven fantasy novels written by British author J. K. Rowling. The novels chronicle the lives of a young wizard,\n",
        "'''\n",
        "\n",
        "message"
      ],
      "metadata": {
        "colab": {
          "base_uri": "https://localhost:8080/",
          "height": 52
        },
        "id": "_3l1BFbb3CvA",
        "outputId": "b60f03b6-2f03-4a9b-b82e-6cc807878b7f"
      },
      "execution_count": null,
      "outputs": [
        {
          "output_type": "execute_result",
          "data": {
            "text/plain": [
              "'Harry Potter is a series of seven fantasy novels written by British author J. K. Rowling. The novels chronicle the lives of a young wizard,\\n'"
            ],
            "application/vnd.google.colaboratory.intrinsic+json": {
              "type": "string"
            }
          },
          "metadata": {},
          "execution_count": 20
        }
      ]
    },
    {
      "cell_type": "code",
      "source": [
        "file_name = \"image.jpg.ppt\""
      ],
      "metadata": {
        "id": "M3s14jjQCCi7"
      },
      "execution_count": null,
      "outputs": []
    },
    {
      "cell_type": "code",
      "source": [
        "file_name.split(\".\")[0:-1]"
      ],
      "metadata": {
        "colab": {
          "base_uri": "https://localhost:8080/"
        },
        "id": "uWNAawNWCJNS",
        "outputId": "27f432f2-b2cb-4af1-f2b2-56a54489817f"
      },
      "execution_count": null,
      "outputs": [
        {
          "output_type": "execute_result",
          "data": {
            "text/plain": [
              "['image', 'jpg']"
            ]
          },
          "metadata": {},
          "execution_count": 76
        }
      ]
    },
    {
      "cell_type": "code",
      "source": [
        "message.split(\".\")"
      ],
      "metadata": {
        "colab": {
          "base_uri": "https://localhost:8080/"
        },
        "id": "142nWpMwBCqE",
        "outputId": "6beae34d-750d-402c-9cbe-145bf4821ed0"
      },
      "execution_count": null,
      "outputs": [
        {
          "output_type": "execute_result",
          "data": {
            "text/plain": [
              "['Harry Potter is a series of seven fantasy novels written by British author J',\n",
              " ' K',\n",
              " ' Rowling',\n",
              " ' The novels chronicle the lives of a young wizard,\\n']"
            ]
          },
          "metadata": {},
          "execution_count": 46
        }
      ]
    },
    {
      "cell_type": "code",
      "source": [
        "\"ron\" in message"
      ],
      "metadata": {
        "colab": {
          "base_uri": "https://localhost:8080/"
        },
        "id": "ghSidk4BBe27",
        "outputId": "d0b22b29-8b36-4d94-bd01-e1a1b617cfa2"
      },
      "execution_count": null,
      "outputs": [
        {
          "output_type": "execute_result",
          "data": {
            "text/plain": [
              "True"
            ]
          },
          "metadata": {},
          "execution_count": 45
        }
      ]
    },
    {
      "cell_type": "code",
      "source": [
        "a =\"Test\"\n",
        "a.lower()\n",
        "Harry, harry"
      ],
      "metadata": {
        "colab": {
          "base_uri": "https://localhost:8080/",
          "height": 35
        },
        "id": "MKQNzbpR-hxx",
        "outputId": "355db91c-9fc7-4953-915d-35dc99f3803b"
      },
      "execution_count": null,
      "outputs": [
        {
          "output_type": "execute_result",
          "data": {
            "text/plain": [
              "'test'"
            ],
            "application/vnd.google.colaboratory.intrinsic+json": {
              "type": "string"
            }
          },
          "metadata": {},
          "execution_count": 35
        }
      ]
    },
    {
      "cell_type": "code",
      "source": [
        "search_word = input(\"please enter search word :\")\n",
        "if search_word.lower() in message.lower():\n",
        "  print(f\"{search_word} is present\")\n",
        "else:\n",
        "  print(f\"{search_word} is not present\")"
      ],
      "metadata": {
        "colab": {
          "base_uri": "https://localhost:8080/"
        },
        "id": "r2R6EdiC7Ivt",
        "outputId": "9717d57e-2021-46fb-f328-b01b3629cb4f"
      },
      "execution_count": null,
      "outputs": [
        {
          "output_type": "stream",
          "name": "stdout",
          "text": [
            "please enter search word :hermionie\n",
            "hermionie is not present\n"
          ]
        }
      ]
    },
    {
      "cell_type": "code",
      "source": [
        "search_word = input(\"please enter search word : \")\n",
        "print(f\"{search_word} is present\") if search_word.lower() in message.lower() else print(f\"{search_word} is not present\")"
      ],
      "metadata": {
        "colab": {
          "base_uri": "https://localhost:8080/"
        },
        "id": "bBLriffr_VJU",
        "outputId": "b21df50a-ec81-45e5-ffe5-d6d7b41a0e22"
      },
      "execution_count": null,
      "outputs": [
        {
          "output_type": "stream",
          "name": "stdout",
          "text": [
            "please enter search word : wand\n",
            "wand is not present\n"
          ]
        }
      ]
    },
    {
      "cell_type": "code",
      "source": [
        "search_word = input(\"please enter search word :\")\n",
        "if message.lower().find(search_word) != -1:\n",
        "  print(f\"{search_word} is present\")\n",
        "else:\n",
        "  print(f\"{search_word} is not present\")"
      ],
      "metadata": {
        "colab": {
          "base_uri": "https://localhost:8080/"
        },
        "id": "khMJnEgu8Qu8",
        "outputId": "3104b2e3-d50d-405a-8ef8-1bf1f57aadf8"
      },
      "execution_count": null,
      "outputs": [
        {
          "output_type": "stream",
          "name": "stdout",
          "text": [
            "please enter search word :harry\n",
            "harry is present\n"
          ]
        }
      ]
    },
    {
      "cell_type": "code",
      "source": [
        "message.lower().find(\"wand\")"
      ],
      "metadata": {
        "colab": {
          "base_uri": "https://localhost:8080/"
        },
        "id": "tGtEs0cJ67kF",
        "outputId": "751d1914-84ed-4076-92c1-b0ba9c1192af"
      },
      "execution_count": null,
      "outputs": [
        {
          "output_type": "execute_result",
          "data": {
            "text/plain": [
              "-1"
            ]
          },
          "metadata": {},
          "execution_count": 32
        }
      ]
    },
    {
      "cell_type": "code",
      "source": [
        "message.find(\"chronicle\")"
      ],
      "metadata": {
        "colab": {
          "base_uri": "https://localhost:8080/"
        },
        "id": "-OXRqvFG6NiA",
        "outputId": "ae6c1a59-a13f-4d9e-ea61-67eaf0474421"
      },
      "execution_count": null,
      "outputs": [
        {
          "output_type": "execute_result",
          "data": {
            "text/plain": [
              "101"
            ]
          },
          "metadata": {},
          "execution_count": 40
        }
      ]
    },
    {
      "cell_type": "code",
      "source": [
        "search_word = input(\"please enter search word : \")\n",
        "if len(search_word) > 7:\n",
        "  print(\"max length exceeds\")\n",
        "else:\n",
        "  if message.lower().find(search_word) != -1:\n",
        "    print(f\"{search_word} is present\")\n",
        "  else:\n",
        "    print(f\"{search_word} is not present\")\n"
      ],
      "metadata": {
        "colab": {
          "base_uri": "https://localhost:8080/"
        },
        "id": "pdqV35TT6sB-",
        "outputId": "81add8e2-4ac4-4cc8-e41a-5f68e4a44b24"
      },
      "execution_count": null,
      "outputs": [
        {
          "output_type": "stream",
          "name": "stdout",
          "text": [
            "please enter search word : harry\n",
            "harry is present\n"
          ]
        }
      ]
    },
    {
      "cell_type": "code",
      "source": [
        "users = []"
      ],
      "metadata": {
        "id": "a7YbGCfBHWKI"
      },
      "execution_count": null,
      "outputs": []
    },
    {
      "cell_type": "code",
      "source": [
        "user_input = input(\"enter the value to store in a list : \")\n",
        "if len(user_input) == 7:\n",
        "  print(\"max length exceeds\")\n",
        "else:\n",
        "  users.append(user_input)"
      ],
      "metadata": {
        "colab": {
          "base_uri": "https://localhost:8080/"
        },
        "id": "teA_jQ_1Gf-5",
        "outputId": "93ddc145-e5c3-4ce8-b451-47ed4b8f75d3"
      },
      "execution_count": null,
      "outputs": [
        {
          "output_type": "stream",
          "name": "stdout",
          "text": [
            "enter the value to store in a list : dumbeldore\n",
            "max length exceeds\n"
          ]
        }
      ]
    },
    {
      "cell_type": "code",
      "source": [
        "users"
      ],
      "metadata": {
        "colab": {
          "base_uri": "https://localhost:8080/"
        },
        "id": "JaenZWb5HKX-",
        "outputId": "7975cd66-c124-4254-fe4b-b62de9881557"
      },
      "execution_count": null,
      "outputs": [
        {
          "output_type": "execute_result",
          "data": {
            "text/plain": [
              "['harry']"
            ]
          },
          "metadata": {},
          "execution_count": 84
        }
      ]
    },
    {
      "cell_type": "code",
      "source": [],
      "metadata": {
        "id": "yf_S5r17HTLz"
      },
      "execution_count": null,
      "outputs": []
    }
  ]
}