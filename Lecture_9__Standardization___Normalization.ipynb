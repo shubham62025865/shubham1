{
  "nbformat": 4,
  "nbformat_minor": 0,
  "metadata": {
    "colab": {
      "provenance": [],
      "include_colab_link": true
    },
    "kernelspec": {
      "name": "python3",
      "display_name": "Python 3"
    },
    "language_info": {
      "name": "python"
    }
  },
  "cells": [
    {
      "cell_type": "markdown",
      "metadata": {
        "id": "view-in-github",
        "colab_type": "text"
      },
      "source": [
        "<a href=\"https://colab.research.google.com/github/shubham62025865/shubham1/blob/main/Lecture_9__Standardization___Normalization.ipynb\" target=\"_parent\"><img src=\"https://colab.research.google.com/assets/colab-badge.svg\" alt=\"Open In Colab\"/></a>"
      ]
    },
    {
      "cell_type": "markdown",
      "source": [
        "# Standardization & Normalization\n",
        "\n",
        "<img width =600 src= https://www.computerhope.com/jargon/s/scale.jpg />"
      ],
      "metadata": {
        "id": "9BCGpzEmFx05"
      }
    },
    {
      "cell_type": "markdown",
      "source": [
        "In practice, we often encounter different types of variables in the same dataset. A significant issue is that the range of the variables may differ a lot. Using the original scale may put more weights on the variables with a large range. In order to deal with this problem, we need to apply the technique of features rescaling to independent variables or features of data in the step of data pre-processing."
      ],
      "metadata": {
        "id": "a7af54ysqB9_"
      }
    },
    {
      "cell_type": "markdown",
      "source": [
        "The goal of applying Feature Scaling is to make sure features are on almost the same scale so that each feature is equally important and make it easier to process by most ML algorithms"
      ],
      "metadata": {
        "id": "467skTULqGxu"
      }
    },
    {
      "cell_type": "markdown",
      "source": [
        "Example\n",
        "\n",
        "<img width = 600 src = https://miro.medium.com/max/1400/1*5bWztvivp2xM-zQ7E6yJsA.png />\n",
        "\n",
        "<img width = 600 src = https://miro.medium.com/max/1400/1*ufBTotZtwoec8Xx-5KYgag.png />"
      ],
      "metadata": {
        "id": "aYh7bxMRqWWk"
      }
    },
    {
      "cell_type": "markdown",
      "source": [
        "# Standardization\n",
        "\n",
        "The result of standardization (or Z-score normalization) is that the features will be rescaled to ensure the mean and the standard deviation to be 0 and 1, respectively. The equation is shown below:\n",
        "\n",
        "<img width =600 src = https://miro.medium.com/max/1400/1*xIilonr1kVdoQRRvcpc1ng.png />"
      ],
      "metadata": {
        "id": "DPWpOBHgq7qs"
      }
    },
    {
      "cell_type": "markdown",
      "source": [
        "<img width = 800 src= https://miro.medium.com/max/744/1*HW7-kYjj6RKwrO-5WTLkDA.png />"
      ],
      "metadata": {
        "id": "uKTYBj1Zr0S4"
      }
    },
    {
      "cell_type": "code",
      "source": [
        "from PIL import Image\n",
        "image = Image.open('img.png')\n",
        "img = np.asarray(image)"
      ],
      "metadata": {
        "id": "KyVUmXunPgzm"
      },
      "execution_count": null,
      "outputs": []
    },
    {
      "cell_type": "code",
      "source": [
        "img"
      ],
      "metadata": {
        "colab": {
          "base_uri": "https://localhost:8080/"
        },
        "id": "Hg5nxa5IQqXA",
        "outputId": "b4b3c659-be94-45fe-ffb7-ce7fcff5b208"
      },
      "execution_count": null,
      "outputs": [
        {
          "output_type": "execute_result",
          "data": {
            "text/plain": [
              "array([[  0,   0,   0, ...,   3,   0,   0],\n",
              "       [  0,   0,   0, ...,  33,  13,   0],\n",
              "       [  4,   1,   0, ...,  96,  65,   6],\n",
              "       ...,\n",
              "       [124, 133, 139, ...,  33,  13,   8],\n",
              "       [128, 138, 145, ...,  35,  28,  28],\n",
              "       [135, 137, 136, ...,  35,  28,  34]], dtype=uint8)"
            ]
          },
          "metadata": {},
          "execution_count": 40
        }
      ]
    },
    {
      "cell_type": "code",
      "source": [
        "img.min(), img.max()"
      ],
      "metadata": {
        "colab": {
          "base_uri": "https://localhost:8080/"
        },
        "id": "3v4HMY9lQieQ",
        "outputId": "70237a98-d886-492f-803a-924f304bf8fb"
      },
      "execution_count": null,
      "outputs": [
        {
          "output_type": "execute_result",
          "data": {
            "text/plain": [
              "(0, 255)"
            ]
          },
          "metadata": {},
          "execution_count": 39
        }
      ]
    },
    {
      "cell_type": "code",
      "source": [
        "norm_img = img / 255.0\n",
        "norm_img.min(), norm_img.max()"
      ],
      "metadata": {
        "colab": {
          "base_uri": "https://localhost:8080/"
        },
        "id": "CkaXP5y4RLiL",
        "outputId": "1508a3bb-1c64-49ae-8409-d1ff751d0bb9"
      },
      "execution_count": null,
      "outputs": [
        {
          "output_type": "execute_result",
          "data": {
            "text/plain": [
              "(0.0, 1.0)"
            ]
          },
          "metadata": {},
          "execution_count": 42
        }
      ]
    },
    {
      "cell_type": "code",
      "execution_count": null,
      "metadata": {
        "id": "Ojcv5SqAzfPw"
      },
      "outputs": [],
      "source": [
        "import pandas as pd\n",
        "import numpy as np\n",
        "import seaborn as sns\n",
        "import matplotlib.pyplot as plt"
      ]
    },
    {
      "cell_type": "code",
      "source": [
        "from sklearn.preprocessing import StandardScaler\n",
        "scale_age = StandardScaler()\n",
        "a = scale_age.fit_transform(df[[\"age\"]])"
      ],
      "metadata": {
        "id": "Q9vzaqWGHnvr"
      },
      "execution_count": null,
      "outputs": []
    },
    {
      "cell_type": "code",
      "source": [
        "a[:5]"
      ],
      "metadata": {
        "colab": {
          "base_uri": "https://localhost:8080/"
        },
        "id": "Lmo84gnPIdyW",
        "outputId": "c4cdb5f3-0d3d-489e-a2a0-cbf3376b6d82"
      },
      "execution_count": null,
      "outputs": [
        {
          "output_type": "execute_result",
          "data": {
            "text/plain": [
              "array([[ 0.9521966 ],\n",
              "       [-1.91531289],\n",
              "       [-1.47415758],\n",
              "       [ 0.18017482],\n",
              "       [ 0.29046364]])"
            ]
          },
          "metadata": {},
          "execution_count": 26
        }
      ]
    },
    {
      "cell_type": "code",
      "source": [
        "pd.DataFrame(a).std()"
      ],
      "metadata": {
        "colab": {
          "base_uri": "https://localhost:8080/"
        },
        "id": "KeSH-9RoKJJQ",
        "outputId": "c1ba5af2-e204-4090-cec9-c26b077bcf3e"
      },
      "execution_count": null,
      "outputs": [
        {
          "output_type": "execute_result",
          "data": {
            "text/plain": [
              "0    1.001654\n",
              "dtype: float64"
            ]
          },
          "metadata": {},
          "execution_count": 32
        }
      ]
    },
    {
      "cell_type": "code",
      "source": [
        "pd.DataFrame(a).mean()"
      ],
      "metadata": {
        "colab": {
          "base_uri": "https://localhost:8080/"
        },
        "id": "eTuoY9lSK2Dc",
        "outputId": "be1a9612-b4ee-417b-b803-99328cba70ad"
      },
      "execution_count": null,
      "outputs": [
        {
          "output_type": "execute_result",
          "data": {
            "text/plain": [
              "0    4.690051e-17\n",
              "dtype: float64"
            ]
          },
          "metadata": {},
          "execution_count": 33
        }
      ]
    },
    {
      "cell_type": "code",
      "source": [
        "df[\"age\"].mean()"
      ],
      "metadata": {
        "colab": {
          "base_uri": "https://localhost:8080/"
        },
        "id": "ix4kEmj0Jq-N",
        "outputId": "e736e005-baba-4b9f-be07-5f7eb87ba330"
      },
      "execution_count": null,
      "outputs": [
        {
          "output_type": "execute_result",
          "data": {
            "text/plain": [
              "54.366336633663366"
            ]
          },
          "metadata": {},
          "execution_count": 27
        }
      ]
    },
    {
      "cell_type": "code",
      "source": [
        "df[\"age\"].std()"
      ],
      "metadata": {
        "colab": {
          "base_uri": "https://localhost:8080/"
        },
        "id": "kqvwxqaFJ2-l",
        "outputId": "98681987-81b2-4587-ff09-79d7474cd692"
      },
      "execution_count": null,
      "outputs": [
        {
          "output_type": "execute_result",
          "data": {
            "text/plain": [
              "9.082100989837857"
            ]
          },
          "metadata": {},
          "execution_count": 28
        }
      ]
    },
    {
      "cell_type": "code",
      "source": [
        "(63 - df[\"age\"].mean())/ df[\"age\"].std()"
      ],
      "metadata": {
        "colab": {
          "base_uri": "https://localhost:8080/"
        },
        "id": "8pGsPZPDJ840",
        "outputId": "c7213e11-18cf-4efa-9615-b2377c232d14"
      },
      "execution_count": null,
      "outputs": [
        {
          "output_type": "execute_result",
          "data": {
            "text/plain": [
              "0.9506240214678313"
            ]
          },
          "metadata": {},
          "execution_count": 29
        }
      ]
    },
    {
      "cell_type": "code",
      "source": [],
      "metadata": {
        "id": "5dlSkmTrKIHY"
      },
      "execution_count": null,
      "outputs": []
    },
    {
      "cell_type": "code",
      "source": [
        "pd.Series(data = a).describe()"
      ],
      "metadata": {
        "colab": {
          "base_uri": "https://localhost:8080/",
          "height": 329
        },
        "id": "ZkXTW6NpIBpy",
        "outputId": "65ec120f-07b2-464e-c9ec-8c70ff23e2c3"
      },
      "execution_count": null,
      "outputs": [
        {
          "output_type": "error",
          "ename": "ValueError",
          "evalue": "ignored",
          "traceback": [
            "\u001b[0;31m---------------------------------------------------------------------------\u001b[0m",
            "\u001b[0;31mValueError\u001b[0m                                Traceback (most recent call last)",
            "\u001b[0;32m<ipython-input-11-84f2b8e733d3>\u001b[0m in \u001b[0;36m<cell line: 1>\u001b[0;34m()\u001b[0m\n\u001b[0;32m----> 1\u001b[0;31m \u001b[0mpd\u001b[0m\u001b[0;34m.\u001b[0m\u001b[0mSeries\u001b[0m\u001b[0;34m(\u001b[0m\u001b[0mdata\u001b[0m \u001b[0;34m=\u001b[0m \u001b[0ma\u001b[0m\u001b[0;34m)\u001b[0m\u001b[0;34m.\u001b[0m\u001b[0mdescribe\u001b[0m\u001b[0;34m(\u001b[0m\u001b[0;34m)\u001b[0m\u001b[0;34m\u001b[0m\u001b[0;34m\u001b[0m\u001b[0m\n\u001b[0m",
            "\u001b[0;32m/usr/local/lib/python3.9/dist-packages/pandas/core/series.py\u001b[0m in \u001b[0;36m__init__\u001b[0;34m(self, data, index, dtype, name, copy, fastpath)\u001b[0m\n\u001b[1;32m    449\u001b[0m                     \u001b[0mdata\u001b[0m \u001b[0;34m=\u001b[0m \u001b[0mdata\u001b[0m\u001b[0;34m.\u001b[0m\u001b[0mcopy\u001b[0m\u001b[0;34m(\u001b[0m\u001b[0;34m)\u001b[0m\u001b[0;34m\u001b[0m\u001b[0;34m\u001b[0m\u001b[0m\n\u001b[1;32m    450\u001b[0m             \u001b[0;32melse\u001b[0m\u001b[0;34m:\u001b[0m\u001b[0;34m\u001b[0m\u001b[0;34m\u001b[0m\u001b[0m\n\u001b[0;32m--> 451\u001b[0;31m                 \u001b[0mdata\u001b[0m \u001b[0;34m=\u001b[0m \u001b[0msanitize_array\u001b[0m\u001b[0;34m(\u001b[0m\u001b[0mdata\u001b[0m\u001b[0;34m,\u001b[0m \u001b[0mindex\u001b[0m\u001b[0;34m,\u001b[0m \u001b[0mdtype\u001b[0m\u001b[0;34m,\u001b[0m \u001b[0mcopy\u001b[0m\u001b[0;34m)\u001b[0m\u001b[0;34m\u001b[0m\u001b[0;34m\u001b[0m\u001b[0m\n\u001b[0m\u001b[1;32m    452\u001b[0m \u001b[0;34m\u001b[0m\u001b[0m\n\u001b[1;32m    453\u001b[0m                 \u001b[0mmanager\u001b[0m \u001b[0;34m=\u001b[0m \u001b[0mget_option\u001b[0m\u001b[0;34m(\u001b[0m\u001b[0;34m\"mode.data_manager\"\u001b[0m\u001b[0;34m)\u001b[0m\u001b[0;34m\u001b[0m\u001b[0;34m\u001b[0m\u001b[0m\n",
            "\u001b[0;32m/usr/local/lib/python3.9/dist-packages/pandas/core/construction.py\u001b[0m in \u001b[0;36msanitize_array\u001b[0;34m(data, index, dtype, copy, raise_cast_failure, allow_2d)\u001b[0m\n\u001b[1;32m    599\u001b[0m                 \u001b[0msubarr\u001b[0m \u001b[0;34m=\u001b[0m \u001b[0mmaybe_infer_to_datetimelike\u001b[0m\u001b[0;34m(\u001b[0m\u001b[0msubarr\u001b[0m\u001b[0;34m)\u001b[0m\u001b[0;34m\u001b[0m\u001b[0;34m\u001b[0m\u001b[0m\n\u001b[1;32m    600\u001b[0m \u001b[0;34m\u001b[0m\u001b[0m\n\u001b[0;32m--> 601\u001b[0;31m     \u001b[0msubarr\u001b[0m \u001b[0;34m=\u001b[0m \u001b[0m_sanitize_ndim\u001b[0m\u001b[0;34m(\u001b[0m\u001b[0msubarr\u001b[0m\u001b[0;34m,\u001b[0m \u001b[0mdata\u001b[0m\u001b[0;34m,\u001b[0m \u001b[0mdtype\u001b[0m\u001b[0;34m,\u001b[0m \u001b[0mindex\u001b[0m\u001b[0;34m,\u001b[0m \u001b[0mallow_2d\u001b[0m\u001b[0;34m=\u001b[0m\u001b[0mallow_2d\u001b[0m\u001b[0;34m)\u001b[0m\u001b[0;34m\u001b[0m\u001b[0;34m\u001b[0m\u001b[0m\n\u001b[0m\u001b[1;32m    602\u001b[0m \u001b[0;34m\u001b[0m\u001b[0m\n\u001b[1;32m    603\u001b[0m     \u001b[0;32mif\u001b[0m \u001b[0misinstance\u001b[0m\u001b[0;34m(\u001b[0m\u001b[0msubarr\u001b[0m\u001b[0;34m,\u001b[0m \u001b[0mnp\u001b[0m\u001b[0;34m.\u001b[0m\u001b[0mndarray\u001b[0m\u001b[0;34m)\u001b[0m\u001b[0;34m:\u001b[0m\u001b[0;34m\u001b[0m\u001b[0;34m\u001b[0m\u001b[0m\n",
            "\u001b[0;32m/usr/local/lib/python3.9/dist-packages/pandas/core/construction.py\u001b[0m in \u001b[0;36m_sanitize_ndim\u001b[0;34m(result, data, dtype, index, allow_2d)\u001b[0m\n\u001b[1;32m    650\u001b[0m             \u001b[0;32mif\u001b[0m \u001b[0mallow_2d\u001b[0m\u001b[0;34m:\u001b[0m\u001b[0;34m\u001b[0m\u001b[0;34m\u001b[0m\u001b[0m\n\u001b[1;32m    651\u001b[0m                 \u001b[0;32mreturn\u001b[0m \u001b[0mresult\u001b[0m\u001b[0;34m\u001b[0m\u001b[0;34m\u001b[0m\u001b[0m\n\u001b[0;32m--> 652\u001b[0;31m             \u001b[0;32mraise\u001b[0m \u001b[0mValueError\u001b[0m\u001b[0;34m(\u001b[0m\u001b[0;34m\"Data must be 1-dimensional\"\u001b[0m\u001b[0;34m)\u001b[0m\u001b[0;34m\u001b[0m\u001b[0;34m\u001b[0m\u001b[0m\n\u001b[0m\u001b[1;32m    653\u001b[0m         \u001b[0;32mif\u001b[0m \u001b[0mis_object_dtype\u001b[0m\u001b[0;34m(\u001b[0m\u001b[0mdtype\u001b[0m\u001b[0;34m)\u001b[0m \u001b[0;32mand\u001b[0m \u001b[0misinstance\u001b[0m\u001b[0;34m(\u001b[0m\u001b[0mdtype\u001b[0m\u001b[0;34m,\u001b[0m \u001b[0mExtensionDtype\u001b[0m\u001b[0;34m)\u001b[0m\u001b[0;34m:\u001b[0m\u001b[0;34m\u001b[0m\u001b[0;34m\u001b[0m\u001b[0m\n\u001b[1;32m    654\u001b[0m             \u001b[0;31m# i.e. PandasDtype(\"O\")\u001b[0m\u001b[0;34m\u001b[0m\u001b[0;34m\u001b[0m\u001b[0m\n",
            "\u001b[0;31mValueError\u001b[0m: Data must be 1-dimensional"
          ]
        }
      ]
    },
    {
      "cell_type": "markdown",
      "source": [
        "Dataset_link - https://www.kaggle.com/datasets/sumaiyatasmeem/heart-disease-classification-dataset?select=heart+disease+classification+dataset.csv"
      ],
      "metadata": {
        "id": "tOiagoJm5F61"
      }
    },
    {
      "cell_type": "code",
      "source": [
        "df = pd.read_csv(\"/content/heart disease classification dataset.csv\")\n",
        "df.head()"
      ],
      "metadata": {
        "colab": {
          "base_uri": "https://localhost:8080/",
          "height": 287
        },
        "id": "f4jODGXg4bgd",
        "outputId": "5cd9b9c9-4b8e-4473-eb52-dadac86e9e6d"
      },
      "execution_count": null,
      "outputs": [
        {
          "output_type": "execute_result",
          "data": {
            "text/plain": [
              "   Unnamed: 0  age     sex  cp  trestbps   chol  fbs  restecg  thalach  exang  \\\n",
              "0           0   63    male   3     145.0  233.0    1        0    150.0      0   \n",
              "1           1   37    male   2     130.0  250.0    0        1    187.0      0   \n",
              "2           2   41  female   1     130.0  204.0    0        0    172.0      0   \n",
              "3           3   56    male   1     120.0  236.0    0        1    178.0      0   \n",
              "4           4   57  female   0       NaN  354.0    0        1    163.0      1   \n",
              "\n",
              "   oldpeak  slope  ca  thal target  \n",
              "0      2.3      0   0     1    yes  \n",
              "1      3.5      0   0     2    yes  \n",
              "2      1.4      2   0     2    yes  \n",
              "3      0.8      2   0     2    yes  \n",
              "4      0.6      2   0     2    yes  "
            ],
            "text/html": [
              "\n",
              "  <div id=\"df-2ed7f1a7-994f-4d36-b390-02aaa9cd05f6\">\n",
              "    <div class=\"colab-df-container\">\n",
              "      <div>\n",
              "<style scoped>\n",
              "    .dataframe tbody tr th:only-of-type {\n",
              "        vertical-align: middle;\n",
              "    }\n",
              "\n",
              "    .dataframe tbody tr th {\n",
              "        vertical-align: top;\n",
              "    }\n",
              "\n",
              "    .dataframe thead th {\n",
              "        text-align: right;\n",
              "    }\n",
              "</style>\n",
              "<table border=\"1\" class=\"dataframe\">\n",
              "  <thead>\n",
              "    <tr style=\"text-align: right;\">\n",
              "      <th></th>\n",
              "      <th>Unnamed: 0</th>\n",
              "      <th>age</th>\n",
              "      <th>sex</th>\n",
              "      <th>cp</th>\n",
              "      <th>trestbps</th>\n",
              "      <th>chol</th>\n",
              "      <th>fbs</th>\n",
              "      <th>restecg</th>\n",
              "      <th>thalach</th>\n",
              "      <th>exang</th>\n",
              "      <th>oldpeak</th>\n",
              "      <th>slope</th>\n",
              "      <th>ca</th>\n",
              "      <th>thal</th>\n",
              "      <th>target</th>\n",
              "    </tr>\n",
              "  </thead>\n",
              "  <tbody>\n",
              "    <tr>\n",
              "      <th>0</th>\n",
              "      <td>0</td>\n",
              "      <td>63</td>\n",
              "      <td>male</td>\n",
              "      <td>3</td>\n",
              "      <td>145.0</td>\n",
              "      <td>233.0</td>\n",
              "      <td>1</td>\n",
              "      <td>0</td>\n",
              "      <td>150.0</td>\n",
              "      <td>0</td>\n",
              "      <td>2.3</td>\n",
              "      <td>0</td>\n",
              "      <td>0</td>\n",
              "      <td>1</td>\n",
              "      <td>yes</td>\n",
              "    </tr>\n",
              "    <tr>\n",
              "      <th>1</th>\n",
              "      <td>1</td>\n",
              "      <td>37</td>\n",
              "      <td>male</td>\n",
              "      <td>2</td>\n",
              "      <td>130.0</td>\n",
              "      <td>250.0</td>\n",
              "      <td>0</td>\n",
              "      <td>1</td>\n",
              "      <td>187.0</td>\n",
              "      <td>0</td>\n",
              "      <td>3.5</td>\n",
              "      <td>0</td>\n",
              "      <td>0</td>\n",
              "      <td>2</td>\n",
              "      <td>yes</td>\n",
              "    </tr>\n",
              "    <tr>\n",
              "      <th>2</th>\n",
              "      <td>2</td>\n",
              "      <td>41</td>\n",
              "      <td>female</td>\n",
              "      <td>1</td>\n",
              "      <td>130.0</td>\n",
              "      <td>204.0</td>\n",
              "      <td>0</td>\n",
              "      <td>0</td>\n",
              "      <td>172.0</td>\n",
              "      <td>0</td>\n",
              "      <td>1.4</td>\n",
              "      <td>2</td>\n",
              "      <td>0</td>\n",
              "      <td>2</td>\n",
              "      <td>yes</td>\n",
              "    </tr>\n",
              "    <tr>\n",
              "      <th>3</th>\n",
              "      <td>3</td>\n",
              "      <td>56</td>\n",
              "      <td>male</td>\n",
              "      <td>1</td>\n",
              "      <td>120.0</td>\n",
              "      <td>236.0</td>\n",
              "      <td>0</td>\n",
              "      <td>1</td>\n",
              "      <td>178.0</td>\n",
              "      <td>0</td>\n",
              "      <td>0.8</td>\n",
              "      <td>2</td>\n",
              "      <td>0</td>\n",
              "      <td>2</td>\n",
              "      <td>yes</td>\n",
              "    </tr>\n",
              "    <tr>\n",
              "      <th>4</th>\n",
              "      <td>4</td>\n",
              "      <td>57</td>\n",
              "      <td>female</td>\n",
              "      <td>0</td>\n",
              "      <td>NaN</td>\n",
              "      <td>354.0</td>\n",
              "      <td>0</td>\n",
              "      <td>1</td>\n",
              "      <td>163.0</td>\n",
              "      <td>1</td>\n",
              "      <td>0.6</td>\n",
              "      <td>2</td>\n",
              "      <td>0</td>\n",
              "      <td>2</td>\n",
              "      <td>yes</td>\n",
              "    </tr>\n",
              "  </tbody>\n",
              "</table>\n",
              "</div>\n",
              "      <button class=\"colab-df-convert\" onclick=\"convertToInteractive('df-2ed7f1a7-994f-4d36-b390-02aaa9cd05f6')\"\n",
              "              title=\"Convert this dataframe to an interactive table.\"\n",
              "              style=\"display:none;\">\n",
              "        \n",
              "  <svg xmlns=\"http://www.w3.org/2000/svg\" height=\"24px\"viewBox=\"0 0 24 24\"\n",
              "       width=\"24px\">\n",
              "    <path d=\"M0 0h24v24H0V0z\" fill=\"none\"/>\n",
              "    <path d=\"M18.56 5.44l.94 2.06.94-2.06 2.06-.94-2.06-.94-.94-2.06-.94 2.06-2.06.94zm-11 1L8.5 8.5l.94-2.06 2.06-.94-2.06-.94L8.5 2.5l-.94 2.06-2.06.94zm10 10l.94 2.06.94-2.06 2.06-.94-2.06-.94-.94-2.06-.94 2.06-2.06.94z\"/><path d=\"M17.41 7.96l-1.37-1.37c-.4-.4-.92-.59-1.43-.59-.52 0-1.04.2-1.43.59L10.3 9.45l-7.72 7.72c-.78.78-.78 2.05 0 2.83L4 21.41c.39.39.9.59 1.41.59.51 0 1.02-.2 1.41-.59l7.78-7.78 2.81-2.81c.8-.78.8-2.07 0-2.86zM5.41 20L4 18.59l7.72-7.72 1.47 1.35L5.41 20z\"/>\n",
              "  </svg>\n",
              "      </button>\n",
              "      \n",
              "  <style>\n",
              "    .colab-df-container {\n",
              "      display:flex;\n",
              "      flex-wrap:wrap;\n",
              "      gap: 12px;\n",
              "    }\n",
              "\n",
              "    .colab-df-convert {\n",
              "      background-color: #E8F0FE;\n",
              "      border: none;\n",
              "      border-radius: 50%;\n",
              "      cursor: pointer;\n",
              "      display: none;\n",
              "      fill: #1967D2;\n",
              "      height: 32px;\n",
              "      padding: 0 0 0 0;\n",
              "      width: 32px;\n",
              "    }\n",
              "\n",
              "    .colab-df-convert:hover {\n",
              "      background-color: #E2EBFA;\n",
              "      box-shadow: 0px 1px 2px rgba(60, 64, 67, 0.3), 0px 1px 3px 1px rgba(60, 64, 67, 0.15);\n",
              "      fill: #174EA6;\n",
              "    }\n",
              "\n",
              "    [theme=dark] .colab-df-convert {\n",
              "      background-color: #3B4455;\n",
              "      fill: #D2E3FC;\n",
              "    }\n",
              "\n",
              "    [theme=dark] .colab-df-convert:hover {\n",
              "      background-color: #434B5C;\n",
              "      box-shadow: 0px 1px 3px 1px rgba(0, 0, 0, 0.15);\n",
              "      filter: drop-shadow(0px 1px 2px rgba(0, 0, 0, 0.3));\n",
              "      fill: #FFFFFF;\n",
              "    }\n",
              "  </style>\n",
              "\n",
              "      <script>\n",
              "        const buttonEl =\n",
              "          document.querySelector('#df-2ed7f1a7-994f-4d36-b390-02aaa9cd05f6 button.colab-df-convert');\n",
              "        buttonEl.style.display =\n",
              "          google.colab.kernel.accessAllowed ? 'block' : 'none';\n",
              "\n",
              "        async function convertToInteractive(key) {\n",
              "          const element = document.querySelector('#df-2ed7f1a7-994f-4d36-b390-02aaa9cd05f6');\n",
              "          const dataTable =\n",
              "            await google.colab.kernel.invokeFunction('convertToInteractive',\n",
              "                                                     [key], {});\n",
              "          if (!dataTable) return;\n",
              "\n",
              "          const docLinkHtml = 'Like what you see? Visit the ' +\n",
              "            '<a target=\"_blank\" href=https://colab.research.google.com/notebooks/data_table.ipynb>data table notebook</a>'\n",
              "            + ' to learn more about interactive tables.';\n",
              "          element.innerHTML = '';\n",
              "          dataTable['output_type'] = 'display_data';\n",
              "          await google.colab.output.renderOutput(dataTable, element);\n",
              "          const docLink = document.createElement('div');\n",
              "          docLink.innerHTML = docLinkHtml;\n",
              "          element.appendChild(docLink);\n",
              "        }\n",
              "      </script>\n",
              "    </div>\n",
              "  </div>\n",
              "  "
            ]
          },
          "metadata": {},
          "execution_count": 15
        }
      ]
    },
    {
      "cell_type": "code",
      "source": [
        "# Drop \"Unnamed: 0\" column from df\n",
        "df.drop(columns = [\"Unnamed: 0\"], inplace = True)\n",
        "df.head()"
      ],
      "metadata": {
        "colab": {
          "base_uri": "https://localhost:8080/",
          "height": 250
        },
        "id": "bgvnDCKE2PKa",
        "outputId": "1b54c642-4476-4865-d98e-5eac56413f3d"
      },
      "execution_count": null,
      "outputs": [
        {
          "output_type": "execute_result",
          "data": {
            "text/plain": [
              "   age     sex  cp  trestbps   chol  fbs  restecg  thalach  exang  oldpeak  \\\n",
              "0   63    male   3     145.0  233.0    1        0    150.0      0      2.3   \n",
              "1   37    male   2     130.0  250.0    0        1    187.0      0      3.5   \n",
              "2   41  female   1     130.0  204.0    0        0    172.0      0      1.4   \n",
              "3   56    male   1     120.0  236.0    0        1    178.0      0      0.8   \n",
              "4   57  female   0       NaN  354.0    0        1    163.0      1      0.6   \n",
              "\n",
              "   slope  ca  thal target  \n",
              "0      0   0     1    yes  \n",
              "1      0   0     2    yes  \n",
              "2      2   0     2    yes  \n",
              "3      2   0     2    yes  \n",
              "4      2   0     2    yes  "
            ],
            "text/html": [
              "\n",
              "  <div id=\"df-81f44c0c-364c-4cfe-a567-c08088e3915d\">\n",
              "    <div class=\"colab-df-container\">\n",
              "      <div>\n",
              "<style scoped>\n",
              "    .dataframe tbody tr th:only-of-type {\n",
              "        vertical-align: middle;\n",
              "    }\n",
              "\n",
              "    .dataframe tbody tr th {\n",
              "        vertical-align: top;\n",
              "    }\n",
              "\n",
              "    .dataframe thead th {\n",
              "        text-align: right;\n",
              "    }\n",
              "</style>\n",
              "<table border=\"1\" class=\"dataframe\">\n",
              "  <thead>\n",
              "    <tr style=\"text-align: right;\">\n",
              "      <th></th>\n",
              "      <th>age</th>\n",
              "      <th>sex</th>\n",
              "      <th>cp</th>\n",
              "      <th>trestbps</th>\n",
              "      <th>chol</th>\n",
              "      <th>fbs</th>\n",
              "      <th>restecg</th>\n",
              "      <th>thalach</th>\n",
              "      <th>exang</th>\n",
              "      <th>oldpeak</th>\n",
              "      <th>slope</th>\n",
              "      <th>ca</th>\n",
              "      <th>thal</th>\n",
              "      <th>target</th>\n",
              "    </tr>\n",
              "  </thead>\n",
              "  <tbody>\n",
              "    <tr>\n",
              "      <th>0</th>\n",
              "      <td>63</td>\n",
              "      <td>male</td>\n",
              "      <td>3</td>\n",
              "      <td>145.0</td>\n",
              "      <td>233.0</td>\n",
              "      <td>1</td>\n",
              "      <td>0</td>\n",
              "      <td>150.0</td>\n",
              "      <td>0</td>\n",
              "      <td>2.3</td>\n",
              "      <td>0</td>\n",
              "      <td>0</td>\n",
              "      <td>1</td>\n",
              "      <td>yes</td>\n",
              "    </tr>\n",
              "    <tr>\n",
              "      <th>1</th>\n",
              "      <td>37</td>\n",
              "      <td>male</td>\n",
              "      <td>2</td>\n",
              "      <td>130.0</td>\n",
              "      <td>250.0</td>\n",
              "      <td>0</td>\n",
              "      <td>1</td>\n",
              "      <td>187.0</td>\n",
              "      <td>0</td>\n",
              "      <td>3.5</td>\n",
              "      <td>0</td>\n",
              "      <td>0</td>\n",
              "      <td>2</td>\n",
              "      <td>yes</td>\n",
              "    </tr>\n",
              "    <tr>\n",
              "      <th>2</th>\n",
              "      <td>41</td>\n",
              "      <td>female</td>\n",
              "      <td>1</td>\n",
              "      <td>130.0</td>\n",
              "      <td>204.0</td>\n",
              "      <td>0</td>\n",
              "      <td>0</td>\n",
              "      <td>172.0</td>\n",
              "      <td>0</td>\n",
              "      <td>1.4</td>\n",
              "      <td>2</td>\n",
              "      <td>0</td>\n",
              "      <td>2</td>\n",
              "      <td>yes</td>\n",
              "    </tr>\n",
              "    <tr>\n",
              "      <th>3</th>\n",
              "      <td>56</td>\n",
              "      <td>male</td>\n",
              "      <td>1</td>\n",
              "      <td>120.0</td>\n",
              "      <td>236.0</td>\n",
              "      <td>0</td>\n",
              "      <td>1</td>\n",
              "      <td>178.0</td>\n",
              "      <td>0</td>\n",
              "      <td>0.8</td>\n",
              "      <td>2</td>\n",
              "      <td>0</td>\n",
              "      <td>2</td>\n",
              "      <td>yes</td>\n",
              "    </tr>\n",
              "    <tr>\n",
              "      <th>4</th>\n",
              "      <td>57</td>\n",
              "      <td>female</td>\n",
              "      <td>0</td>\n",
              "      <td>NaN</td>\n",
              "      <td>354.0</td>\n",
              "      <td>0</td>\n",
              "      <td>1</td>\n",
              "      <td>163.0</td>\n",
              "      <td>1</td>\n",
              "      <td>0.6</td>\n",
              "      <td>2</td>\n",
              "      <td>0</td>\n",
              "      <td>2</td>\n",
              "      <td>yes</td>\n",
              "    </tr>\n",
              "  </tbody>\n",
              "</table>\n",
              "</div>\n",
              "      <button class=\"colab-df-convert\" onclick=\"convertToInteractive('df-81f44c0c-364c-4cfe-a567-c08088e3915d')\"\n",
              "              title=\"Convert this dataframe to an interactive table.\"\n",
              "              style=\"display:none;\">\n",
              "        \n",
              "  <svg xmlns=\"http://www.w3.org/2000/svg\" height=\"24px\"viewBox=\"0 0 24 24\"\n",
              "       width=\"24px\">\n",
              "    <path d=\"M0 0h24v24H0V0z\" fill=\"none\"/>\n",
              "    <path d=\"M18.56 5.44l.94 2.06.94-2.06 2.06-.94-2.06-.94-.94-2.06-.94 2.06-2.06.94zm-11 1L8.5 8.5l.94-2.06 2.06-.94-2.06-.94L8.5 2.5l-.94 2.06-2.06.94zm10 10l.94 2.06.94-2.06 2.06-.94-2.06-.94-.94-2.06-.94 2.06-2.06.94z\"/><path d=\"M17.41 7.96l-1.37-1.37c-.4-.4-.92-.59-1.43-.59-.52 0-1.04.2-1.43.59L10.3 9.45l-7.72 7.72c-.78.78-.78 2.05 0 2.83L4 21.41c.39.39.9.59 1.41.59.51 0 1.02-.2 1.41-.59l7.78-7.78 2.81-2.81c.8-.78.8-2.07 0-2.86zM5.41 20L4 18.59l7.72-7.72 1.47 1.35L5.41 20z\"/>\n",
              "  </svg>\n",
              "      </button>\n",
              "      \n",
              "  <style>\n",
              "    .colab-df-container {\n",
              "      display:flex;\n",
              "      flex-wrap:wrap;\n",
              "      gap: 12px;\n",
              "    }\n",
              "\n",
              "    .colab-df-convert {\n",
              "      background-color: #E8F0FE;\n",
              "      border: none;\n",
              "      border-radius: 50%;\n",
              "      cursor: pointer;\n",
              "      display: none;\n",
              "      fill: #1967D2;\n",
              "      height: 32px;\n",
              "      padding: 0 0 0 0;\n",
              "      width: 32px;\n",
              "    }\n",
              "\n",
              "    .colab-df-convert:hover {\n",
              "      background-color: #E2EBFA;\n",
              "      box-shadow: 0px 1px 2px rgba(60, 64, 67, 0.3), 0px 1px 3px 1px rgba(60, 64, 67, 0.15);\n",
              "      fill: #174EA6;\n",
              "    }\n",
              "\n",
              "    [theme=dark] .colab-df-convert {\n",
              "      background-color: #3B4455;\n",
              "      fill: #D2E3FC;\n",
              "    }\n",
              "\n",
              "    [theme=dark] .colab-df-convert:hover {\n",
              "      background-color: #434B5C;\n",
              "      box-shadow: 0px 1px 3px 1px rgba(0, 0, 0, 0.15);\n",
              "      filter: drop-shadow(0px 1px 2px rgba(0, 0, 0, 0.3));\n",
              "      fill: #FFFFFF;\n",
              "    }\n",
              "  </style>\n",
              "\n",
              "      <script>\n",
              "        const buttonEl =\n",
              "          document.querySelector('#df-81f44c0c-364c-4cfe-a567-c08088e3915d button.colab-df-convert');\n",
              "        buttonEl.style.display =\n",
              "          google.colab.kernel.accessAllowed ? 'block' : 'none';\n",
              "\n",
              "        async function convertToInteractive(key) {\n",
              "          const element = document.querySelector('#df-81f44c0c-364c-4cfe-a567-c08088e3915d');\n",
              "          const dataTable =\n",
              "            await google.colab.kernel.invokeFunction('convertToInteractive',\n",
              "                                                     [key], {});\n",
              "          if (!dataTable) return;\n",
              "\n",
              "          const docLinkHtml = 'Like what you see? Visit the ' +\n",
              "            '<a target=\"_blank\" href=https://colab.research.google.com/notebooks/data_table.ipynb>data table notebook</a>'\n",
              "            + ' to learn more about interactive tables.';\n",
              "          element.innerHTML = '';\n",
              "          dataTable['output_type'] = 'display_data';\n",
              "          await google.colab.output.renderOutput(dataTable, element);\n",
              "          const docLink = document.createElement('div');\n",
              "          docLink.innerHTML = docLinkHtml;\n",
              "          element.appendChild(docLink);\n",
              "        }\n",
              "      </script>\n",
              "    </div>\n",
              "  </div>\n",
              "  "
            ]
          },
          "metadata": {},
          "execution_count": 16
        }
      ]
    },
    {
      "cell_type": "code",
      "source": [
        "df.shape"
      ],
      "metadata": {
        "colab": {
          "base_uri": "https://localhost:8080/"
        },
        "id": "v-AZS_EZ8J3z",
        "outputId": "0ac86070-d305-4b3f-9d2c-024bb15b2eba"
      },
      "execution_count": null,
      "outputs": [
        {
          "output_type": "execute_result",
          "data": {
            "text/plain": [
              "(303, 14)"
            ]
          },
          "metadata": {},
          "execution_count": 4
        }
      ]
    },
    {
      "cell_type": "code",
      "source": [
        "df.isnull().sum()"
      ],
      "metadata": {
        "colab": {
          "base_uri": "https://localhost:8080/"
        },
        "id": "U3kHw2LC7-az",
        "outputId": "c83e8c49-f93a-4c84-cbcf-0590cacfb0a8"
      },
      "execution_count": null,
      "outputs": [
        {
          "output_type": "execute_result",
          "data": {
            "text/plain": [
              "age         0\n",
              "sex         0\n",
              "cp          0\n",
              "trestbps    4\n",
              "chol        1\n",
              "fbs         0\n",
              "restecg     0\n",
              "thalach     5\n",
              "exang       0\n",
              "oldpeak     0\n",
              "slope       0\n",
              "ca          0\n",
              "thal        0\n",
              "target      0\n",
              "dtype: int64"
            ]
          },
          "metadata": {},
          "execution_count": 5
        }
      ]
    },
    {
      "cell_type": "code",
      "source": [
        "# drop missing rows\n",
        "df.dropna(inplace = True)"
      ],
      "metadata": {
        "id": "0fjkLc8y8DNY"
      },
      "execution_count": null,
      "outputs": []
    },
    {
      "cell_type": "code",
      "source": [
        "df.isnull().sum()"
      ],
      "metadata": {
        "colab": {
          "base_uri": "https://localhost:8080/"
        },
        "id": "cIn6mcyg8UJB",
        "outputId": "a92bbb81-3b02-4cb1-f58b-6841ac651788"
      },
      "execution_count": null,
      "outputs": [
        {
          "output_type": "execute_result",
          "data": {
            "text/plain": [
              "age         0\n",
              "sex         0\n",
              "cp          0\n",
              "trestbps    0\n",
              "chol        0\n",
              "fbs         0\n",
              "restecg     0\n",
              "thalach     0\n",
              "exang       0\n",
              "oldpeak     0\n",
              "slope       0\n",
              "ca          0\n",
              "thal        0\n",
              "target      0\n",
              "dtype: int64"
            ]
          },
          "metadata": {},
          "execution_count": 7
        }
      ]
    },
    {
      "cell_type": "code",
      "source": [
        "df.head()"
      ],
      "metadata": {
        "colab": {
          "base_uri": "https://localhost:8080/",
          "height": 250
        },
        "id": "QnTmlnORVs47",
        "outputId": "d91ff627-e344-49e9-e598-158fcbf429ff"
      },
      "execution_count": null,
      "outputs": [
        {
          "output_type": "execute_result",
          "data": {
            "text/plain": [
              "   age     sex  cp  trestbps   chol  fbs  restecg  thalach  exang  oldpeak  \\\n",
              "0   63    male   3     145.0  233.0    1        0    150.0      0      2.3   \n",
              "1   37    male   2     130.0  250.0    0        1    187.0      0      3.5   \n",
              "2   41  female   1     130.0  204.0    0        0    172.0      0      1.4   \n",
              "3   56    male   1     120.0  236.0    0        1    178.0      0      0.8   \n",
              "5   57    male   0     140.0  192.0    0        1    148.0      0      0.4   \n",
              "\n",
              "   slope  ca  thal target  \n",
              "0      0   0     1    yes  \n",
              "1      0   0     2    yes  \n",
              "2      2   0     2    yes  \n",
              "3      2   0     2    yes  \n",
              "5      1   0     1    yes  "
            ],
            "text/html": [
              "\n",
              "  <div id=\"df-2953fa0b-998a-40f1-bc72-addf081ced3c\">\n",
              "    <div class=\"colab-df-container\">\n",
              "      <div>\n",
              "<style scoped>\n",
              "    .dataframe tbody tr th:only-of-type {\n",
              "        vertical-align: middle;\n",
              "    }\n",
              "\n",
              "    .dataframe tbody tr th {\n",
              "        vertical-align: top;\n",
              "    }\n",
              "\n",
              "    .dataframe thead th {\n",
              "        text-align: right;\n",
              "    }\n",
              "</style>\n",
              "<table border=\"1\" class=\"dataframe\">\n",
              "  <thead>\n",
              "    <tr style=\"text-align: right;\">\n",
              "      <th></th>\n",
              "      <th>age</th>\n",
              "      <th>sex</th>\n",
              "      <th>cp</th>\n",
              "      <th>trestbps</th>\n",
              "      <th>chol</th>\n",
              "      <th>fbs</th>\n",
              "      <th>restecg</th>\n",
              "      <th>thalach</th>\n",
              "      <th>exang</th>\n",
              "      <th>oldpeak</th>\n",
              "      <th>slope</th>\n",
              "      <th>ca</th>\n",
              "      <th>thal</th>\n",
              "      <th>target</th>\n",
              "    </tr>\n",
              "  </thead>\n",
              "  <tbody>\n",
              "    <tr>\n",
              "      <th>0</th>\n",
              "      <td>63</td>\n",
              "      <td>male</td>\n",
              "      <td>3</td>\n",
              "      <td>145.0</td>\n",
              "      <td>233.0</td>\n",
              "      <td>1</td>\n",
              "      <td>0</td>\n",
              "      <td>150.0</td>\n",
              "      <td>0</td>\n",
              "      <td>2.3</td>\n",
              "      <td>0</td>\n",
              "      <td>0</td>\n",
              "      <td>1</td>\n",
              "      <td>yes</td>\n",
              "    </tr>\n",
              "    <tr>\n",
              "      <th>1</th>\n",
              "      <td>37</td>\n",
              "      <td>male</td>\n",
              "      <td>2</td>\n",
              "      <td>130.0</td>\n",
              "      <td>250.0</td>\n",
              "      <td>0</td>\n",
              "      <td>1</td>\n",
              "      <td>187.0</td>\n",
              "      <td>0</td>\n",
              "      <td>3.5</td>\n",
              "      <td>0</td>\n",
              "      <td>0</td>\n",
              "      <td>2</td>\n",
              "      <td>yes</td>\n",
              "    </tr>\n",
              "    <tr>\n",
              "      <th>2</th>\n",
              "      <td>41</td>\n",
              "      <td>female</td>\n",
              "      <td>1</td>\n",
              "      <td>130.0</td>\n",
              "      <td>204.0</td>\n",
              "      <td>0</td>\n",
              "      <td>0</td>\n",
              "      <td>172.0</td>\n",
              "      <td>0</td>\n",
              "      <td>1.4</td>\n",
              "      <td>2</td>\n",
              "      <td>0</td>\n",
              "      <td>2</td>\n",
              "      <td>yes</td>\n",
              "    </tr>\n",
              "    <tr>\n",
              "      <th>3</th>\n",
              "      <td>56</td>\n",
              "      <td>male</td>\n",
              "      <td>1</td>\n",
              "      <td>120.0</td>\n",
              "      <td>236.0</td>\n",
              "      <td>0</td>\n",
              "      <td>1</td>\n",
              "      <td>178.0</td>\n",
              "      <td>0</td>\n",
              "      <td>0.8</td>\n",
              "      <td>2</td>\n",
              "      <td>0</td>\n",
              "      <td>2</td>\n",
              "      <td>yes</td>\n",
              "    </tr>\n",
              "    <tr>\n",
              "      <th>5</th>\n",
              "      <td>57</td>\n",
              "      <td>male</td>\n",
              "      <td>0</td>\n",
              "      <td>140.0</td>\n",
              "      <td>192.0</td>\n",
              "      <td>0</td>\n",
              "      <td>1</td>\n",
              "      <td>148.0</td>\n",
              "      <td>0</td>\n",
              "      <td>0.4</td>\n",
              "      <td>1</td>\n",
              "      <td>0</td>\n",
              "      <td>1</td>\n",
              "      <td>yes</td>\n",
              "    </tr>\n",
              "  </tbody>\n",
              "</table>\n",
              "</div>\n",
              "      <button class=\"colab-df-convert\" onclick=\"convertToInteractive('df-2953fa0b-998a-40f1-bc72-addf081ced3c')\"\n",
              "              title=\"Convert this dataframe to an interactive table.\"\n",
              "              style=\"display:none;\">\n",
              "        \n",
              "  <svg xmlns=\"http://www.w3.org/2000/svg\" height=\"24px\"viewBox=\"0 0 24 24\"\n",
              "       width=\"24px\">\n",
              "    <path d=\"M0 0h24v24H0V0z\" fill=\"none\"/>\n",
              "    <path d=\"M18.56 5.44l.94 2.06.94-2.06 2.06-.94-2.06-.94-.94-2.06-.94 2.06-2.06.94zm-11 1L8.5 8.5l.94-2.06 2.06-.94-2.06-.94L8.5 2.5l-.94 2.06-2.06.94zm10 10l.94 2.06.94-2.06 2.06-.94-2.06-.94-.94-2.06-.94 2.06-2.06.94z\"/><path d=\"M17.41 7.96l-1.37-1.37c-.4-.4-.92-.59-1.43-.59-.52 0-1.04.2-1.43.59L10.3 9.45l-7.72 7.72c-.78.78-.78 2.05 0 2.83L4 21.41c.39.39.9.59 1.41.59.51 0 1.02-.2 1.41-.59l7.78-7.78 2.81-2.81c.8-.78.8-2.07 0-2.86zM5.41 20L4 18.59l7.72-7.72 1.47 1.35L5.41 20z\"/>\n",
              "  </svg>\n",
              "      </button>\n",
              "      \n",
              "  <style>\n",
              "    .colab-df-container {\n",
              "      display:flex;\n",
              "      flex-wrap:wrap;\n",
              "      gap: 12px;\n",
              "    }\n",
              "\n",
              "    .colab-df-convert {\n",
              "      background-color: #E8F0FE;\n",
              "      border: none;\n",
              "      border-radius: 50%;\n",
              "      cursor: pointer;\n",
              "      display: none;\n",
              "      fill: #1967D2;\n",
              "      height: 32px;\n",
              "      padding: 0 0 0 0;\n",
              "      width: 32px;\n",
              "    }\n",
              "\n",
              "    .colab-df-convert:hover {\n",
              "      background-color: #E2EBFA;\n",
              "      box-shadow: 0px 1px 2px rgba(60, 64, 67, 0.3), 0px 1px 3px 1px rgba(60, 64, 67, 0.15);\n",
              "      fill: #174EA6;\n",
              "    }\n",
              "\n",
              "    [theme=dark] .colab-df-convert {\n",
              "      background-color: #3B4455;\n",
              "      fill: #D2E3FC;\n",
              "    }\n",
              "\n",
              "    [theme=dark] .colab-df-convert:hover {\n",
              "      background-color: #434B5C;\n",
              "      box-shadow: 0px 1px 3px 1px rgba(0, 0, 0, 0.15);\n",
              "      filter: drop-shadow(0px 1px 2px rgba(0, 0, 0, 0.3));\n",
              "      fill: #FFFFFF;\n",
              "    }\n",
              "  </style>\n",
              "\n",
              "      <script>\n",
              "        const buttonEl =\n",
              "          document.querySelector('#df-2953fa0b-998a-40f1-bc72-addf081ced3c button.colab-df-convert');\n",
              "        buttonEl.style.display =\n",
              "          google.colab.kernel.accessAllowed ? 'block' : 'none';\n",
              "\n",
              "        async function convertToInteractive(key) {\n",
              "          const element = document.querySelector('#df-2953fa0b-998a-40f1-bc72-addf081ced3c');\n",
              "          const dataTable =\n",
              "            await google.colab.kernel.invokeFunction('convertToInteractive',\n",
              "                                                     [key], {});\n",
              "          if (!dataTable) return;\n",
              "\n",
              "          const docLinkHtml = 'Like what you see? Visit the ' +\n",
              "            '<a target=\"_blank\" href=https://colab.research.google.com/notebooks/data_table.ipynb>data table notebook</a>'\n",
              "            + ' to learn more about interactive tables.';\n",
              "          element.innerHTML = '';\n",
              "          dataTable['output_type'] = 'display_data';\n",
              "          await google.colab.output.renderOutput(dataTable, element);\n",
              "          const docLink = document.createElement('div');\n",
              "          docLink.innerHTML = docLinkHtml;\n",
              "          element.appendChild(docLink);\n",
              "        }\n",
              "      </script>\n",
              "    </div>\n",
              "  </div>\n",
              "  "
            ]
          },
          "metadata": {},
          "execution_count": 8
        }
      ]
    },
    {
      "cell_type": "code",
      "source": [
        "X = df.drop(columns= [\"target\"])"
      ],
      "metadata": {
        "id": "W-q6j4MzVnoT"
      },
      "execution_count": null,
      "outputs": []
    },
    {
      "cell_type": "code",
      "source": [
        "y = df[\"target\"]"
      ],
      "metadata": {
        "id": "WqgsqaTdVzCM"
      },
      "execution_count": null,
      "outputs": []
    },
    {
      "cell_type": "code",
      "source": [
        "from sklearn.model_selection import train_test_split\n",
        "\n",
        "X_train, X_test, y_train, y_test = train_test_split(df.drop(columns = ['target']),\n",
        "                                                    df['target'],\n",
        "                                                    test_size=0.3,\n",
        "                                                    random_state=0)\n",
        "\n",
        "X_train.shape, X_test.shape"
      ],
      "metadata": {
        "colab": {
          "base_uri": "https://localhost:8080/"
        },
        "id": "PyJ5IkbS3Jh1",
        "outputId": "3cdbf0c2-1c70-4b9b-a5dc-2a948bca13b8"
      },
      "execution_count": null,
      "outputs": [
        {
          "output_type": "execute_result",
          "data": {
            "text/plain": [
              "((212, 13), (91, 13))"
            ]
          },
          "metadata": {},
          "execution_count": 45
        }
      ]
    },
    {
      "cell_type": "code",
      "source": [
        "y_train.value_counts(), y_test.value_counts()"
      ],
      "metadata": {
        "colab": {
          "base_uri": "https://localhost:8080/"
        },
        "id": "XvtWkV033yzU",
        "outputId": "3adf4ea0-a8e2-4bb3-94e1-f4e318b03c1f"
      },
      "execution_count": null,
      "outputs": [
        {
          "output_type": "execute_result",
          "data": {
            "text/plain": [
              "(yes    118\n",
              " no      94\n",
              " Name: target, dtype: int64,\n",
              " yes    47\n",
              " no     44\n",
              " Name: target, dtype: int64)"
            ]
          },
          "metadata": {},
          "execution_count": 46
        }
      ]
    },
    {
      "cell_type": "code",
      "source": [
        "df.head()"
      ],
      "metadata": {
        "colab": {
          "base_uri": "https://localhost:8080/",
          "height": 250
        },
        "id": "dYFPSQqOXFN5",
        "outputId": "d28b7c55-68ae-4722-e4ab-1d4e36c66152"
      },
      "execution_count": null,
      "outputs": [
        {
          "output_type": "execute_result",
          "data": {
            "text/plain": [
              "   age     sex  cp  trestbps   chol  fbs  restecg  thalach  exang  oldpeak  \\\n",
              "0   63    male   3     145.0  233.0    1        0    150.0      0      2.3   \n",
              "1   37    male   2     130.0  250.0    0        1    187.0      0      3.5   \n",
              "2   41  female   1     130.0  204.0    0        0    172.0      0      1.4   \n",
              "3   56    male   1     120.0  236.0    0        1    178.0      0      0.8   \n",
              "4   57  female   0       NaN  354.0    0        1    163.0      1      0.6   \n",
              "\n",
              "   slope  ca  thal target  \n",
              "0      0   0     1    yes  \n",
              "1      0   0     2    yes  \n",
              "2      2   0     2    yes  \n",
              "3      2   0     2    yes  \n",
              "4      2   0     2    yes  "
            ],
            "text/html": [
              "\n",
              "  <div id=\"df-f8c9fdd2-0bd4-45ba-847a-98cb8c49064e\">\n",
              "    <div class=\"colab-df-container\">\n",
              "      <div>\n",
              "<style scoped>\n",
              "    .dataframe tbody tr th:only-of-type {\n",
              "        vertical-align: middle;\n",
              "    }\n",
              "\n",
              "    .dataframe tbody tr th {\n",
              "        vertical-align: top;\n",
              "    }\n",
              "\n",
              "    .dataframe thead th {\n",
              "        text-align: right;\n",
              "    }\n",
              "</style>\n",
              "<table border=\"1\" class=\"dataframe\">\n",
              "  <thead>\n",
              "    <tr style=\"text-align: right;\">\n",
              "      <th></th>\n",
              "      <th>age</th>\n",
              "      <th>sex</th>\n",
              "      <th>cp</th>\n",
              "      <th>trestbps</th>\n",
              "      <th>chol</th>\n",
              "      <th>fbs</th>\n",
              "      <th>restecg</th>\n",
              "      <th>thalach</th>\n",
              "      <th>exang</th>\n",
              "      <th>oldpeak</th>\n",
              "      <th>slope</th>\n",
              "      <th>ca</th>\n",
              "      <th>thal</th>\n",
              "      <th>target</th>\n",
              "    </tr>\n",
              "  </thead>\n",
              "  <tbody>\n",
              "    <tr>\n",
              "      <th>0</th>\n",
              "      <td>63</td>\n",
              "      <td>male</td>\n",
              "      <td>3</td>\n",
              "      <td>145.0</td>\n",
              "      <td>233.0</td>\n",
              "      <td>1</td>\n",
              "      <td>0</td>\n",
              "      <td>150.0</td>\n",
              "      <td>0</td>\n",
              "      <td>2.3</td>\n",
              "      <td>0</td>\n",
              "      <td>0</td>\n",
              "      <td>1</td>\n",
              "      <td>yes</td>\n",
              "    </tr>\n",
              "    <tr>\n",
              "      <th>1</th>\n",
              "      <td>37</td>\n",
              "      <td>male</td>\n",
              "      <td>2</td>\n",
              "      <td>130.0</td>\n",
              "      <td>250.0</td>\n",
              "      <td>0</td>\n",
              "      <td>1</td>\n",
              "      <td>187.0</td>\n",
              "      <td>0</td>\n",
              "      <td>3.5</td>\n",
              "      <td>0</td>\n",
              "      <td>0</td>\n",
              "      <td>2</td>\n",
              "      <td>yes</td>\n",
              "    </tr>\n",
              "    <tr>\n",
              "      <th>2</th>\n",
              "      <td>41</td>\n",
              "      <td>female</td>\n",
              "      <td>1</td>\n",
              "      <td>130.0</td>\n",
              "      <td>204.0</td>\n",
              "      <td>0</td>\n",
              "      <td>0</td>\n",
              "      <td>172.0</td>\n",
              "      <td>0</td>\n",
              "      <td>1.4</td>\n",
              "      <td>2</td>\n",
              "      <td>0</td>\n",
              "      <td>2</td>\n",
              "      <td>yes</td>\n",
              "    </tr>\n",
              "    <tr>\n",
              "      <th>3</th>\n",
              "      <td>56</td>\n",
              "      <td>male</td>\n",
              "      <td>1</td>\n",
              "      <td>120.0</td>\n",
              "      <td>236.0</td>\n",
              "      <td>0</td>\n",
              "      <td>1</td>\n",
              "      <td>178.0</td>\n",
              "      <td>0</td>\n",
              "      <td>0.8</td>\n",
              "      <td>2</td>\n",
              "      <td>0</td>\n",
              "      <td>2</td>\n",
              "      <td>yes</td>\n",
              "    </tr>\n",
              "    <tr>\n",
              "      <th>4</th>\n",
              "      <td>57</td>\n",
              "      <td>female</td>\n",
              "      <td>0</td>\n",
              "      <td>NaN</td>\n",
              "      <td>354.0</td>\n",
              "      <td>0</td>\n",
              "      <td>1</td>\n",
              "      <td>163.0</td>\n",
              "      <td>1</td>\n",
              "      <td>0.6</td>\n",
              "      <td>2</td>\n",
              "      <td>0</td>\n",
              "      <td>2</td>\n",
              "      <td>yes</td>\n",
              "    </tr>\n",
              "  </tbody>\n",
              "</table>\n",
              "</div>\n",
              "      <button class=\"colab-df-convert\" onclick=\"convertToInteractive('df-f8c9fdd2-0bd4-45ba-847a-98cb8c49064e')\"\n",
              "              title=\"Convert this dataframe to an interactive table.\"\n",
              "              style=\"display:none;\">\n",
              "        \n",
              "  <svg xmlns=\"http://www.w3.org/2000/svg\" height=\"24px\"viewBox=\"0 0 24 24\"\n",
              "       width=\"24px\">\n",
              "    <path d=\"M0 0h24v24H0V0z\" fill=\"none\"/>\n",
              "    <path d=\"M18.56 5.44l.94 2.06.94-2.06 2.06-.94-2.06-.94-.94-2.06-.94 2.06-2.06.94zm-11 1L8.5 8.5l.94-2.06 2.06-.94-2.06-.94L8.5 2.5l-.94 2.06-2.06.94zm10 10l.94 2.06.94-2.06 2.06-.94-2.06-.94-.94-2.06-.94 2.06-2.06.94z\"/><path d=\"M17.41 7.96l-1.37-1.37c-.4-.4-.92-.59-1.43-.59-.52 0-1.04.2-1.43.59L10.3 9.45l-7.72 7.72c-.78.78-.78 2.05 0 2.83L4 21.41c.39.39.9.59 1.41.59.51 0 1.02-.2 1.41-.59l7.78-7.78 2.81-2.81c.8-.78.8-2.07 0-2.86zM5.41 20L4 18.59l7.72-7.72 1.47 1.35L5.41 20z\"/>\n",
              "  </svg>\n",
              "      </button>\n",
              "      \n",
              "  <style>\n",
              "    .colab-df-container {\n",
              "      display:flex;\n",
              "      flex-wrap:wrap;\n",
              "      gap: 12px;\n",
              "    }\n",
              "\n",
              "    .colab-df-convert {\n",
              "      background-color: #E8F0FE;\n",
              "      border: none;\n",
              "      border-radius: 50%;\n",
              "      cursor: pointer;\n",
              "      display: none;\n",
              "      fill: #1967D2;\n",
              "      height: 32px;\n",
              "      padding: 0 0 0 0;\n",
              "      width: 32px;\n",
              "    }\n",
              "\n",
              "    .colab-df-convert:hover {\n",
              "      background-color: #E2EBFA;\n",
              "      box-shadow: 0px 1px 2px rgba(60, 64, 67, 0.3), 0px 1px 3px 1px rgba(60, 64, 67, 0.15);\n",
              "      fill: #174EA6;\n",
              "    }\n",
              "\n",
              "    [theme=dark] .colab-df-convert {\n",
              "      background-color: #3B4455;\n",
              "      fill: #D2E3FC;\n",
              "    }\n",
              "\n",
              "    [theme=dark] .colab-df-convert:hover {\n",
              "      background-color: #434B5C;\n",
              "      box-shadow: 0px 1px 3px 1px rgba(0, 0, 0, 0.15);\n",
              "      filter: drop-shadow(0px 1px 2px rgba(0, 0, 0, 0.3));\n",
              "      fill: #FFFFFF;\n",
              "    }\n",
              "  </style>\n",
              "\n",
              "      <script>\n",
              "        const buttonEl =\n",
              "          document.querySelector('#df-f8c9fdd2-0bd4-45ba-847a-98cb8c49064e button.colab-df-convert');\n",
              "        buttonEl.style.display =\n",
              "          google.colab.kernel.accessAllowed ? 'block' : 'none';\n",
              "\n",
              "        async function convertToInteractive(key) {\n",
              "          const element = document.querySelector('#df-f8c9fdd2-0bd4-45ba-847a-98cb8c49064e');\n",
              "          const dataTable =\n",
              "            await google.colab.kernel.invokeFunction('convertToInteractive',\n",
              "                                                     [key], {});\n",
              "          if (!dataTable) return;\n",
              "\n",
              "          const docLinkHtml = 'Like what you see? Visit the ' +\n",
              "            '<a target=\"_blank\" href=https://colab.research.google.com/notebooks/data_table.ipynb>data table notebook</a>'\n",
              "            + ' to learn more about interactive tables.';\n",
              "          element.innerHTML = '';\n",
              "          dataTable['output_type'] = 'display_data';\n",
              "          await google.colab.output.renderOutput(dataTable, element);\n",
              "          const docLink = document.createElement('div');\n",
              "          docLink.innerHTML = docLinkHtml;\n",
              "          element.appendChild(docLink);\n",
              "        }\n",
              "      </script>\n",
              "    </div>\n",
              "  </div>\n",
              "  "
            ]
          },
          "metadata": {},
          "execution_count": 48
        }
      ]
    },
    {
      "cell_type": "code",
      "source": [
        "y_train"
      ],
      "metadata": {
        "colab": {
          "base_uri": "https://localhost:8080/"
        },
        "id": "p03zGXzhSZI5",
        "outputId": "7d46ff54-25c2-4f95-bb79-bfd3ab0290f6"
      },
      "execution_count": null,
      "outputs": [
        {
          "output_type": "execute_result",
          "data": {
            "text/plain": [
              "137    yes\n",
              "106    yes\n",
              "284     no\n",
              "44     yes\n",
              "139    yes\n",
              "      ... \n",
              "251     no\n",
              "192     no\n",
              "117    yes\n",
              "47     yes\n",
              "172     no\n",
              "Name: target, Length: 212, dtype: object"
            ]
          },
          "metadata": {},
          "execution_count": 49
        }
      ]
    },
    {
      "cell_type": "markdown",
      "source": [
        "### label encode y_train & y_test"
      ],
      "metadata": {
        "id": "ttKVr3BjvKfq"
      }
    },
    {
      "cell_type": "code",
      "source": [
        "from sklearn.preprocessing import LabelEncoder\n",
        "label_encoder = LabelEncoder()"
      ],
      "metadata": {
        "id": "xEKBbay6XSho"
      },
      "execution_count": null,
      "outputs": []
    },
    {
      "cell_type": "code",
      "source": [
        "y_train = pd.Series(label_encoder.fit_transform(y_train))\n",
        "y_train"
      ],
      "metadata": {
        "id": "CIMZz_93Xa7R",
        "colab": {
          "base_uri": "https://localhost:8080/"
        },
        "outputId": "8e2bc83f-2100-4fd9-d067-deaea370302e"
      },
      "execution_count": null,
      "outputs": [
        {
          "output_type": "execute_result",
          "data": {
            "text/plain": [
              "0      1\n",
              "1      1\n",
              "2      0\n",
              "3      1\n",
              "4      1\n",
              "      ..\n",
              "207    0\n",
              "208    0\n",
              "209    1\n",
              "210    1\n",
              "211    0\n",
              "Length: 212, dtype: int64"
            ]
          },
          "metadata": {},
          "execution_count": 51
        }
      ]
    },
    {
      "cell_type": "code",
      "source": [
        "y_test = pd.Series(label_encoder.transform(y_test))\n",
        "y_test"
      ],
      "metadata": {
        "colab": {
          "base_uri": "https://localhost:8080/"
        },
        "id": "0SlMEN25X0Wn",
        "outputId": "9065ee2e-663c-49b7-d912-f6df3db71ebe"
      },
      "execution_count": null,
      "outputs": [
        {
          "output_type": "execute_result",
          "data": {
            "text/plain": [
              "0     0\n",
              "1     1\n",
              "2     0\n",
              "3     0\n",
              "4     1\n",
              "     ..\n",
              "86    0\n",
              "87    0\n",
              "88    1\n",
              "89    0\n",
              "90    0\n",
              "Length: 91, dtype: int64"
            ]
          },
          "metadata": {},
          "execution_count": 52
        }
      ]
    },
    {
      "cell_type": "code",
      "source": [
        "y_train[:5], y_test[:5]"
      ],
      "metadata": {
        "colab": {
          "base_uri": "https://localhost:8080/"
        },
        "id": "REVuuCRjwIXk",
        "outputId": "e55b9444-e4d4-4ab4-f2d3-e2b38710eed3"
      },
      "execution_count": null,
      "outputs": [
        {
          "output_type": "execute_result",
          "data": {
            "text/plain": [
              "(0    1\n",
              " 1    1\n",
              " 2    0\n",
              " 3    1\n",
              " 4    1\n",
              " dtype: int64, 0    0\n",
              " 1    0\n",
              " 2    0\n",
              " 3    0\n",
              " 4    1\n",
              " dtype: int64)"
            ]
          },
          "metadata": {},
          "execution_count": 11
        }
      ]
    },
    {
      "cell_type": "code",
      "source": [
        "X_train[\"sex\"][9:12], X_test[\"sex\"][9:12]"
      ],
      "metadata": {
        "colab": {
          "base_uri": "https://localhost:8080/"
        },
        "id": "xyQwHb6F7MSC",
        "outputId": "e045843b-25a6-446c-cd97-64e35aef8e8c"
      },
      "execution_count": null,
      "outputs": [
        {
          "output_type": "execute_result",
          "data": {
            "text/plain": [
              "(289    female\n",
              " 271      male\n",
              " 35     female\n",
              " Name: sex, dtype: object, 47       male\n",
              " 140    female\n",
              " 17     female\n",
              " Name: sex, dtype: object)"
            ]
          },
          "metadata": {},
          "execution_count": 17
        }
      ]
    },
    {
      "cell_type": "code",
      "source": [
        "label_encoder_gender = LabelEncoder()\n",
        "\n",
        "X_train[\"sex\"] = label_encoder_gender.fit_transform(X_train[\"sex\"])\n",
        "X_test[\"sex\"] = label_encoder_gender.transform(X_test[\"sex\"])\n",
        "X_train[\"sex\"][9:12], X_test[\"sex\"][9:12]"
      ],
      "metadata": {
        "colab": {
          "base_uri": "https://localhost:8080/"
        },
        "id": "e4YqfGF25vw-",
        "outputId": "787ba270-90cc-45bc-818d-29b1c551721b"
      },
      "execution_count": null,
      "outputs": [
        {
          "output_type": "execute_result",
          "data": {
            "text/plain": [
              "(252    0\n",
              " 54     0\n",
              " 234    1\n",
              " Name: sex, dtype: int64,\n",
              " 217    1\n",
              " 111    1\n",
              " 135    0\n",
              " Name: sex, dtype: int64)"
            ]
          },
          "metadata": {},
          "execution_count": 53
        }
      ]
    },
    {
      "cell_type": "code",
      "source": [
        "X_train.head()"
      ],
      "metadata": {
        "colab": {
          "base_uri": "https://localhost:8080/",
          "height": 206
        },
        "id": "892t_sVR7qBi",
        "outputId": "8681bde0-a12b-4108-8d98-13cd714799aa"
      },
      "execution_count": null,
      "outputs": [
        {
          "output_type": "execute_result",
          "data": {
            "text/plain": [
              "     age  sex  cp  trestbps   chol  fbs  restecg  thalach  exang  oldpeak  \\\n",
              "137   62    1   1     128.0  208.0    1        0    140.0      0      0.0   \n",
              "106   69    1   3     160.0  234.0    1        0    131.0      0      0.1   \n",
              "284   61    1   0     140.0  207.0    0        0    138.0      1      1.9   \n",
              "44    39    1   2     140.0  321.0    0        0    182.0      0      0.0   \n",
              "139   64    1   0     128.0  263.0    0        1    105.0      1      0.2   \n",
              "\n",
              "     slope  ca  thal  \n",
              "137      2   0     2  \n",
              "106      1   1     2  \n",
              "284      2   1     3  \n",
              "44       2   0     2  \n",
              "139      1   1     3  "
            ],
            "text/html": [
              "\n",
              "  <div id=\"df-b9245a9d-28ca-4db1-86f9-bd271cc16d5f\">\n",
              "    <div class=\"colab-df-container\">\n",
              "      <div>\n",
              "<style scoped>\n",
              "    .dataframe tbody tr th:only-of-type {\n",
              "        vertical-align: middle;\n",
              "    }\n",
              "\n",
              "    .dataframe tbody tr th {\n",
              "        vertical-align: top;\n",
              "    }\n",
              "\n",
              "    .dataframe thead th {\n",
              "        text-align: right;\n",
              "    }\n",
              "</style>\n",
              "<table border=\"1\" class=\"dataframe\">\n",
              "  <thead>\n",
              "    <tr style=\"text-align: right;\">\n",
              "      <th></th>\n",
              "      <th>age</th>\n",
              "      <th>sex</th>\n",
              "      <th>cp</th>\n",
              "      <th>trestbps</th>\n",
              "      <th>chol</th>\n",
              "      <th>fbs</th>\n",
              "      <th>restecg</th>\n",
              "      <th>thalach</th>\n",
              "      <th>exang</th>\n",
              "      <th>oldpeak</th>\n",
              "      <th>slope</th>\n",
              "      <th>ca</th>\n",
              "      <th>thal</th>\n",
              "    </tr>\n",
              "  </thead>\n",
              "  <tbody>\n",
              "    <tr>\n",
              "      <th>137</th>\n",
              "      <td>62</td>\n",
              "      <td>1</td>\n",
              "      <td>1</td>\n",
              "      <td>128.0</td>\n",
              "      <td>208.0</td>\n",
              "      <td>1</td>\n",
              "      <td>0</td>\n",
              "      <td>140.0</td>\n",
              "      <td>0</td>\n",
              "      <td>0.0</td>\n",
              "      <td>2</td>\n",
              "      <td>0</td>\n",
              "      <td>2</td>\n",
              "    </tr>\n",
              "    <tr>\n",
              "      <th>106</th>\n",
              "      <td>69</td>\n",
              "      <td>1</td>\n",
              "      <td>3</td>\n",
              "      <td>160.0</td>\n",
              "      <td>234.0</td>\n",
              "      <td>1</td>\n",
              "      <td>0</td>\n",
              "      <td>131.0</td>\n",
              "      <td>0</td>\n",
              "      <td>0.1</td>\n",
              "      <td>1</td>\n",
              "      <td>1</td>\n",
              "      <td>2</td>\n",
              "    </tr>\n",
              "    <tr>\n",
              "      <th>284</th>\n",
              "      <td>61</td>\n",
              "      <td>1</td>\n",
              "      <td>0</td>\n",
              "      <td>140.0</td>\n",
              "      <td>207.0</td>\n",
              "      <td>0</td>\n",
              "      <td>0</td>\n",
              "      <td>138.0</td>\n",
              "      <td>1</td>\n",
              "      <td>1.9</td>\n",
              "      <td>2</td>\n",
              "      <td>1</td>\n",
              "      <td>3</td>\n",
              "    </tr>\n",
              "    <tr>\n",
              "      <th>44</th>\n",
              "      <td>39</td>\n",
              "      <td>1</td>\n",
              "      <td>2</td>\n",
              "      <td>140.0</td>\n",
              "      <td>321.0</td>\n",
              "      <td>0</td>\n",
              "      <td>0</td>\n",
              "      <td>182.0</td>\n",
              "      <td>0</td>\n",
              "      <td>0.0</td>\n",
              "      <td>2</td>\n",
              "      <td>0</td>\n",
              "      <td>2</td>\n",
              "    </tr>\n",
              "    <tr>\n",
              "      <th>139</th>\n",
              "      <td>64</td>\n",
              "      <td>1</td>\n",
              "      <td>0</td>\n",
              "      <td>128.0</td>\n",
              "      <td>263.0</td>\n",
              "      <td>0</td>\n",
              "      <td>1</td>\n",
              "      <td>105.0</td>\n",
              "      <td>1</td>\n",
              "      <td>0.2</td>\n",
              "      <td>1</td>\n",
              "      <td>1</td>\n",
              "      <td>3</td>\n",
              "    </tr>\n",
              "  </tbody>\n",
              "</table>\n",
              "</div>\n",
              "      <button class=\"colab-df-convert\" onclick=\"convertToInteractive('df-b9245a9d-28ca-4db1-86f9-bd271cc16d5f')\"\n",
              "              title=\"Convert this dataframe to an interactive table.\"\n",
              "              style=\"display:none;\">\n",
              "        \n",
              "  <svg xmlns=\"http://www.w3.org/2000/svg\" height=\"24px\"viewBox=\"0 0 24 24\"\n",
              "       width=\"24px\">\n",
              "    <path d=\"M0 0h24v24H0V0z\" fill=\"none\"/>\n",
              "    <path d=\"M18.56 5.44l.94 2.06.94-2.06 2.06-.94-2.06-.94-.94-2.06-.94 2.06-2.06.94zm-11 1L8.5 8.5l.94-2.06 2.06-.94-2.06-.94L8.5 2.5l-.94 2.06-2.06.94zm10 10l.94 2.06.94-2.06 2.06-.94-2.06-.94-.94-2.06-.94 2.06-2.06.94z\"/><path d=\"M17.41 7.96l-1.37-1.37c-.4-.4-.92-.59-1.43-.59-.52 0-1.04.2-1.43.59L10.3 9.45l-7.72 7.72c-.78.78-.78 2.05 0 2.83L4 21.41c.39.39.9.59 1.41.59.51 0 1.02-.2 1.41-.59l7.78-7.78 2.81-2.81c.8-.78.8-2.07 0-2.86zM5.41 20L4 18.59l7.72-7.72 1.47 1.35L5.41 20z\"/>\n",
              "  </svg>\n",
              "      </button>\n",
              "      \n",
              "  <style>\n",
              "    .colab-df-container {\n",
              "      display:flex;\n",
              "      flex-wrap:wrap;\n",
              "      gap: 12px;\n",
              "    }\n",
              "\n",
              "    .colab-df-convert {\n",
              "      background-color: #E8F0FE;\n",
              "      border: none;\n",
              "      border-radius: 50%;\n",
              "      cursor: pointer;\n",
              "      display: none;\n",
              "      fill: #1967D2;\n",
              "      height: 32px;\n",
              "      padding: 0 0 0 0;\n",
              "      width: 32px;\n",
              "    }\n",
              "\n",
              "    .colab-df-convert:hover {\n",
              "      background-color: #E2EBFA;\n",
              "      box-shadow: 0px 1px 2px rgba(60, 64, 67, 0.3), 0px 1px 3px 1px rgba(60, 64, 67, 0.15);\n",
              "      fill: #174EA6;\n",
              "    }\n",
              "\n",
              "    [theme=dark] .colab-df-convert {\n",
              "      background-color: #3B4455;\n",
              "      fill: #D2E3FC;\n",
              "    }\n",
              "\n",
              "    [theme=dark] .colab-df-convert:hover {\n",
              "      background-color: #434B5C;\n",
              "      box-shadow: 0px 1px 3px 1px rgba(0, 0, 0, 0.15);\n",
              "      filter: drop-shadow(0px 1px 2px rgba(0, 0, 0, 0.3));\n",
              "      fill: #FFFFFF;\n",
              "    }\n",
              "  </style>\n",
              "\n",
              "      <script>\n",
              "        const buttonEl =\n",
              "          document.querySelector('#df-b9245a9d-28ca-4db1-86f9-bd271cc16d5f button.colab-df-convert');\n",
              "        buttonEl.style.display =\n",
              "          google.colab.kernel.accessAllowed ? 'block' : 'none';\n",
              "\n",
              "        async function convertToInteractive(key) {\n",
              "          const element = document.querySelector('#df-b9245a9d-28ca-4db1-86f9-bd271cc16d5f');\n",
              "          const dataTable =\n",
              "            await google.colab.kernel.invokeFunction('convertToInteractive',\n",
              "                                                     [key], {});\n",
              "          if (!dataTable) return;\n",
              "\n",
              "          const docLinkHtml = 'Like what you see? Visit the ' +\n",
              "            '<a target=\"_blank\" href=https://colab.research.google.com/notebooks/data_table.ipynb>data table notebook</a>'\n",
              "            + ' to learn more about interactive tables.';\n",
              "          element.innerHTML = '';\n",
              "          dataTable['output_type'] = 'display_data';\n",
              "          await google.colab.output.renderOutput(dataTable, element);\n",
              "          const docLink = document.createElement('div');\n",
              "          docLink.innerHTML = docLinkHtml;\n",
              "          element.appendChild(docLink);\n",
              "        }\n",
              "      </script>\n",
              "    </div>\n",
              "  </div>\n",
              "  "
            ]
          },
          "metadata": {},
          "execution_count": 54
        }
      ]
    },
    {
      "cell_type": "markdown",
      "source": [
        "# StandardScaler\n"
      ],
      "metadata": {
        "id": "WEbcKan04s4e"
      }
    },
    {
      "cell_type": "code",
      "source": [
        "from sklearn.preprocessing import StandardScaler\n",
        "st_scaler = StandardScaler()"
      ],
      "metadata": {
        "id": "MYIKqP8IZf28"
      },
      "execution_count": null,
      "outputs": []
    },
    {
      "cell_type": "code",
      "source": [
        "# st_scaler.fit_transform(X_train)\n",
        "st_scaler.fit(X_train)\n",
        "X_train_scaled = st_scaler.transform(X_train)\n",
        "X_test_scaled = st_scaler.transform(X_test)"
      ],
      "metadata": {
        "id": "pO4U8rqbZo7B"
      },
      "execution_count": null,
      "outputs": []
    },
    {
      "cell_type": "code",
      "source": [
        "X_train_scaled = pd.DataFrame(X_train_scaled, columns = X_train.columns)\n",
        "X_test_scaled = pd.DataFrame(X_test_scaled, columns = X_test.columns)\n",
        "X_train_scaled.head(), X_test_scaled.head()"
      ],
      "metadata": {
        "colab": {
          "base_uri": "https://localhost:8080/"
        },
        "id": "D4wDQC1EaVLC",
        "outputId": "467851d1-eeaf-4a74-9be4-d79b3b600eb0"
      },
      "execution_count": null,
      "outputs": [
        {
          "output_type": "execute_result",
          "data": {
            "text/plain": [
              "(        age       sex        cp  trestbps      chol       fbs   restecg  \\\n",
              " 0  0.835114  0.739895  0.031511 -0.209519 -0.718763  2.288077 -1.024026   \n",
              " 1  1.616520  0.739895  1.940202  1.712656 -0.250130  2.288077 -1.024026   \n",
              " 2  0.723485  0.739895 -0.922834  0.511296 -0.736788 -0.437048 -1.024026   \n",
              " 3 -1.732361  0.739895  0.985857  0.511296  1.317988 -0.437048 -1.024026   \n",
              " 4  1.058373  0.739895 -0.922834 -0.209519  0.272576 -0.437048  0.847469   \n",
              " \n",
              "     thalach     exang   oldpeak     slope        ca      thal  \n",
              " 0 -0.446144 -0.724693 -0.907178  0.955317 -0.692649 -0.429218  \n",
              " 1 -0.848825 -0.724693 -0.823777 -0.677967  0.292865 -0.429218  \n",
              " 2 -0.535629  1.379895  0.677433  0.955317  0.292865  1.139647  \n",
              " 3  1.433031 -0.724693 -0.907178  0.955317 -0.692649 -0.429218  \n",
              " 4 -2.012124  1.379895 -0.740377 -0.677967  0.292865  1.139647  ,\n",
              "         age       sex        cp  trestbps      chol       fbs   restecg  \\\n",
              " 0  1.728149  0.739895 -0.922834  0.811636 -1.331591 -0.437048  0.847469   \n",
              " 1  1.058373  0.739895  1.940202  2.313336 -0.376301 -0.437048 -1.024026   \n",
              " 2  0.500226  0.739895  1.940202  2.313336  0.723184 -0.437048 -1.024026   \n",
              " 3  0.611855  0.739895 -0.922834 -0.389723  0.182454 -0.437048 -1.024026   \n",
              " 4  0.835114  0.739895  0.985857 -0.089383 -0.304203 -0.437048  0.847469   \n",
              " \n",
              "     thalach     exang   oldpeak     slope        ca      thal  \n",
              " 0 -1.117279  1.379895  1.261237 -2.311251 -0.692649  1.139647  \n",
              " 1  0.224990 -0.724693 -0.406774 -0.677967 -0.692649  1.139647  \n",
              " 2  0.403959 -0.724693 -0.740377 -0.677967 -0.692649  1.139647  \n",
              " 3 -0.401402  1.379895  1.428038 -0.677967  0.292865  1.139647  \n",
              " 4 -0.177691 -0.724693  0.594032 -0.677967  2.263892  1.139647  )"
            ]
          },
          "metadata": {},
          "execution_count": 57
        }
      ]
    },
    {
      "cell_type": "code",
      "source": [
        "# fit the scaler to the train set\n",
        "st_scaler.fit(X_train)\n",
        "\n",
        "# transform train and test sets\n",
        "X_train_scaled = st_scaler.transform(X_train)\n",
        "X_test_scaled = st_scaler.transform(X_test)\n",
        "\n",
        "X_train_scaled = pd.DataFrame(X_train_scaled, columns = X_train.columns)\n",
        "X_test_scaled = pd.DataFrame(X_test_scaled, columns = X_test.columns)\n",
        "X_train_scaled.head()"
      ],
      "metadata": {
        "colab": {
          "base_uri": "https://localhost:8080/",
          "height": 270
        },
        "id": "MX89GYCN4pZ6",
        "outputId": "e9ac01ca-d13f-4196-ab31-c5ee0c1a6049"
      },
      "execution_count": null,
      "outputs": [
        {
          "output_type": "execute_result",
          "data": {
            "text/plain": [
              "        age       sex        cp  trestbps      chol       fbs   restecg  \\\n",
              "0  0.527119  0.681385 -0.955368  0.247227 -0.201940 -0.430083  0.877358   \n",
              "1 -1.737599  0.681385  0.993393  0.427374 -1.379029 -0.430083  0.877358   \n",
              "2  1.282025  0.681385  0.019012  1.748457  0.037468 -0.430083  0.877358   \n",
              "3  1.066338  0.681385 -0.955368 -0.173117  0.376630 -0.430083  0.877358   \n",
              "4 -1.845443 -1.467599  0.993393 -0.653511 -0.581002 -0.430083  0.877358   \n",
              "\n",
              "    thalach     exang   oldpeak     slope        ca      thal  \n",
              "0  0.463201 -0.666080 -0.397415 -0.743387 -0.711394  1.121175  \n",
              "1  1.009973 -0.666080 -0.845052  0.913074  3.151806 -0.568832  \n",
              "2 -1.404938  1.501322 -0.845052 -0.743387  2.186006 -2.258839  \n",
              "3 -2.088403  1.501322 -0.665997 -0.743387  0.254406  1.121175  \n",
              "4  0.873280 -0.666080 -0.845052  0.913074 -0.711394 -0.568832  "
            ],
            "text/html": [
              "\n",
              "  <div id=\"df-6350f4ad-ba19-4824-a150-0f11a6d473fe\">\n",
              "    <div class=\"colab-df-container\">\n",
              "      <div>\n",
              "<style scoped>\n",
              "    .dataframe tbody tr th:only-of-type {\n",
              "        vertical-align: middle;\n",
              "    }\n",
              "\n",
              "    .dataframe tbody tr th {\n",
              "        vertical-align: top;\n",
              "    }\n",
              "\n",
              "    .dataframe thead th {\n",
              "        text-align: right;\n",
              "    }\n",
              "</style>\n",
              "<table border=\"1\" class=\"dataframe\">\n",
              "  <thead>\n",
              "    <tr style=\"text-align: right;\">\n",
              "      <th></th>\n",
              "      <th>age</th>\n",
              "      <th>sex</th>\n",
              "      <th>cp</th>\n",
              "      <th>trestbps</th>\n",
              "      <th>chol</th>\n",
              "      <th>fbs</th>\n",
              "      <th>restecg</th>\n",
              "      <th>thalach</th>\n",
              "      <th>exang</th>\n",
              "      <th>oldpeak</th>\n",
              "      <th>slope</th>\n",
              "      <th>ca</th>\n",
              "      <th>thal</th>\n",
              "    </tr>\n",
              "  </thead>\n",
              "  <tbody>\n",
              "    <tr>\n",
              "      <th>0</th>\n",
              "      <td>0.527119</td>\n",
              "      <td>0.681385</td>\n",
              "      <td>-0.955368</td>\n",
              "      <td>0.247227</td>\n",
              "      <td>-0.201940</td>\n",
              "      <td>-0.430083</td>\n",
              "      <td>0.877358</td>\n",
              "      <td>0.463201</td>\n",
              "      <td>-0.666080</td>\n",
              "      <td>-0.397415</td>\n",
              "      <td>-0.743387</td>\n",
              "      <td>-0.711394</td>\n",
              "      <td>1.121175</td>\n",
              "    </tr>\n",
              "    <tr>\n",
              "      <th>1</th>\n",
              "      <td>-1.737599</td>\n",
              "      <td>0.681385</td>\n",
              "      <td>0.993393</td>\n",
              "      <td>0.427374</td>\n",
              "      <td>-1.379029</td>\n",
              "      <td>-0.430083</td>\n",
              "      <td>0.877358</td>\n",
              "      <td>1.009973</td>\n",
              "      <td>-0.666080</td>\n",
              "      <td>-0.845052</td>\n",
              "      <td>0.913074</td>\n",
              "      <td>3.151806</td>\n",
              "      <td>-0.568832</td>\n",
              "    </tr>\n",
              "    <tr>\n",
              "      <th>2</th>\n",
              "      <td>1.282025</td>\n",
              "      <td>0.681385</td>\n",
              "      <td>0.019012</td>\n",
              "      <td>1.748457</td>\n",
              "      <td>0.037468</td>\n",
              "      <td>-0.430083</td>\n",
              "      <td>0.877358</td>\n",
              "      <td>-1.404938</td>\n",
              "      <td>1.501322</td>\n",
              "      <td>-0.845052</td>\n",
              "      <td>-0.743387</td>\n",
              "      <td>2.186006</td>\n",
              "      <td>-2.258839</td>\n",
              "    </tr>\n",
              "    <tr>\n",
              "      <th>3</th>\n",
              "      <td>1.066338</td>\n",
              "      <td>0.681385</td>\n",
              "      <td>-0.955368</td>\n",
              "      <td>-0.173117</td>\n",
              "      <td>0.376630</td>\n",
              "      <td>-0.430083</td>\n",
              "      <td>0.877358</td>\n",
              "      <td>-2.088403</td>\n",
              "      <td>1.501322</td>\n",
              "      <td>-0.665997</td>\n",
              "      <td>-0.743387</td>\n",
              "      <td>0.254406</td>\n",
              "      <td>1.121175</td>\n",
              "    </tr>\n",
              "    <tr>\n",
              "      <th>4</th>\n",
              "      <td>-1.845443</td>\n",
              "      <td>-1.467599</td>\n",
              "      <td>0.993393</td>\n",
              "      <td>-0.653511</td>\n",
              "      <td>-0.581002</td>\n",
              "      <td>-0.430083</td>\n",
              "      <td>0.877358</td>\n",
              "      <td>0.873280</td>\n",
              "      <td>-0.666080</td>\n",
              "      <td>-0.845052</td>\n",
              "      <td>0.913074</td>\n",
              "      <td>-0.711394</td>\n",
              "      <td>-0.568832</td>\n",
              "    </tr>\n",
              "  </tbody>\n",
              "</table>\n",
              "</div>\n",
              "      <button class=\"colab-df-convert\" onclick=\"convertToInteractive('df-6350f4ad-ba19-4824-a150-0f11a6d473fe')\"\n",
              "              title=\"Convert this dataframe to an interactive table.\"\n",
              "              style=\"display:none;\">\n",
              "        \n",
              "  <svg xmlns=\"http://www.w3.org/2000/svg\" height=\"24px\"viewBox=\"0 0 24 24\"\n",
              "       width=\"24px\">\n",
              "    <path d=\"M0 0h24v24H0V0z\" fill=\"none\"/>\n",
              "    <path d=\"M18.56 5.44l.94 2.06.94-2.06 2.06-.94-2.06-.94-.94-2.06-.94 2.06-2.06.94zm-11 1L8.5 8.5l.94-2.06 2.06-.94-2.06-.94L8.5 2.5l-.94 2.06-2.06.94zm10 10l.94 2.06.94-2.06 2.06-.94-2.06-.94-.94-2.06-.94 2.06-2.06.94z\"/><path d=\"M17.41 7.96l-1.37-1.37c-.4-.4-.92-.59-1.43-.59-.52 0-1.04.2-1.43.59L10.3 9.45l-7.72 7.72c-.78.78-.78 2.05 0 2.83L4 21.41c.39.39.9.59 1.41.59.51 0 1.02-.2 1.41-.59l7.78-7.78 2.81-2.81c.8-.78.8-2.07 0-2.86zM5.41 20L4 18.59l7.72-7.72 1.47 1.35L5.41 20z\"/>\n",
              "  </svg>\n",
              "      </button>\n",
              "      \n",
              "  <style>\n",
              "    .colab-df-container {\n",
              "      display:flex;\n",
              "      flex-wrap:wrap;\n",
              "      gap: 12px;\n",
              "    }\n",
              "\n",
              "    .colab-df-convert {\n",
              "      background-color: #E8F0FE;\n",
              "      border: none;\n",
              "      border-radius: 50%;\n",
              "      cursor: pointer;\n",
              "      display: none;\n",
              "      fill: #1967D2;\n",
              "      height: 32px;\n",
              "      padding: 0 0 0 0;\n",
              "      width: 32px;\n",
              "    }\n",
              "\n",
              "    .colab-df-convert:hover {\n",
              "      background-color: #E2EBFA;\n",
              "      box-shadow: 0px 1px 2px rgba(60, 64, 67, 0.3), 0px 1px 3px 1px rgba(60, 64, 67, 0.15);\n",
              "      fill: #174EA6;\n",
              "    }\n",
              "\n",
              "    [theme=dark] .colab-df-convert {\n",
              "      background-color: #3B4455;\n",
              "      fill: #D2E3FC;\n",
              "    }\n",
              "\n",
              "    [theme=dark] .colab-df-convert:hover {\n",
              "      background-color: #434B5C;\n",
              "      box-shadow: 0px 1px 3px 1px rgba(0, 0, 0, 0.15);\n",
              "      filter: drop-shadow(0px 1px 2px rgba(0, 0, 0, 0.3));\n",
              "      fill: #FFFFFF;\n",
              "    }\n",
              "  </style>\n",
              "\n",
              "      <script>\n",
              "        const buttonEl =\n",
              "          document.querySelector('#df-6350f4ad-ba19-4824-a150-0f11a6d473fe button.colab-df-convert');\n",
              "        buttonEl.style.display =\n",
              "          google.colab.kernel.accessAllowed ? 'block' : 'none';\n",
              "\n",
              "        async function convertToInteractive(key) {\n",
              "          const element = document.querySelector('#df-6350f4ad-ba19-4824-a150-0f11a6d473fe');\n",
              "          const dataTable =\n",
              "            await google.colab.kernel.invokeFunction('convertToInteractive',\n",
              "                                                     [key], {});\n",
              "          if (!dataTable) return;\n",
              "\n",
              "          const docLinkHtml = 'Like what you see? Visit the ' +\n",
              "            '<a target=\"_blank\" href=https://colab.research.google.com/notebooks/data_table.ipynb>data table notebook</a>'\n",
              "            + ' to learn more about interactive tables.';\n",
              "          element.innerHTML = '';\n",
              "          dataTable['output_type'] = 'display_data';\n",
              "          await google.colab.output.renderOutput(dataTable, element);\n",
              "          const docLink = document.createElement('div');\n",
              "          docLink.innerHTML = docLinkHtml;\n",
              "          element.appendChild(docLink);\n",
              "        }\n",
              "      </script>\n",
              "    </div>\n",
              "  </div>\n",
              "  "
            ]
          },
          "metadata": {},
          "execution_count": 15
        }
      ]
    },
    {
      "cell_type": "code",
      "source": [
        "X_train.head()"
      ],
      "metadata": {
        "colab": {
          "base_uri": "https://localhost:8080/",
          "height": 206
        },
        "id": "QEyFPnOr3_EA",
        "outputId": "a87914b5-2800-4db2-dc2e-a79679a665be"
      },
      "execution_count": null,
      "outputs": [
        {
          "output_type": "execute_result",
          "data": {
            "text/plain": [
              "     age  sex  cp  trestbps   chol  fbs  restecg  thalach  exang  oldpeak  \\\n",
              "20    59    1   0     135.0  234.0    0        1    161.0      0      0.5   \n",
              "163   38    1   2     138.0  175.0    0        1    173.0      0      0.0   \n",
              "247   66    1   1     160.0  246.0    0        1    120.0      1      0.0   \n",
              "139   64    1   0     128.0  263.0    0        1    105.0      1      0.2   \n",
              "115   37    0   2     120.0  215.0    0        1    170.0      0      0.0   \n",
              "\n",
              "     slope  ca  thal  \n",
              "20       1   0     3  \n",
              "163      2   4     2  \n",
              "247      1   3     1  \n",
              "139      1   1     3  \n",
              "115      2   0     2  "
            ],
            "text/html": [
              "\n",
              "  <div id=\"df-b6d64ac1-78be-4841-9b7b-cde1b00e8171\">\n",
              "    <div class=\"colab-df-container\">\n",
              "      <div>\n",
              "<style scoped>\n",
              "    .dataframe tbody tr th:only-of-type {\n",
              "        vertical-align: middle;\n",
              "    }\n",
              "\n",
              "    .dataframe tbody tr th {\n",
              "        vertical-align: top;\n",
              "    }\n",
              "\n",
              "    .dataframe thead th {\n",
              "        text-align: right;\n",
              "    }\n",
              "</style>\n",
              "<table border=\"1\" class=\"dataframe\">\n",
              "  <thead>\n",
              "    <tr style=\"text-align: right;\">\n",
              "      <th></th>\n",
              "      <th>age</th>\n",
              "      <th>sex</th>\n",
              "      <th>cp</th>\n",
              "      <th>trestbps</th>\n",
              "      <th>chol</th>\n",
              "      <th>fbs</th>\n",
              "      <th>restecg</th>\n",
              "      <th>thalach</th>\n",
              "      <th>exang</th>\n",
              "      <th>oldpeak</th>\n",
              "      <th>slope</th>\n",
              "      <th>ca</th>\n",
              "      <th>thal</th>\n",
              "    </tr>\n",
              "  </thead>\n",
              "  <tbody>\n",
              "    <tr>\n",
              "      <th>20</th>\n",
              "      <td>59</td>\n",
              "      <td>1</td>\n",
              "      <td>0</td>\n",
              "      <td>135.0</td>\n",
              "      <td>234.0</td>\n",
              "      <td>0</td>\n",
              "      <td>1</td>\n",
              "      <td>161.0</td>\n",
              "      <td>0</td>\n",
              "      <td>0.5</td>\n",
              "      <td>1</td>\n",
              "      <td>0</td>\n",
              "      <td>3</td>\n",
              "    </tr>\n",
              "    <tr>\n",
              "      <th>163</th>\n",
              "      <td>38</td>\n",
              "      <td>1</td>\n",
              "      <td>2</td>\n",
              "      <td>138.0</td>\n",
              "      <td>175.0</td>\n",
              "      <td>0</td>\n",
              "      <td>1</td>\n",
              "      <td>173.0</td>\n",
              "      <td>0</td>\n",
              "      <td>0.0</td>\n",
              "      <td>2</td>\n",
              "      <td>4</td>\n",
              "      <td>2</td>\n",
              "    </tr>\n",
              "    <tr>\n",
              "      <th>247</th>\n",
              "      <td>66</td>\n",
              "      <td>1</td>\n",
              "      <td>1</td>\n",
              "      <td>160.0</td>\n",
              "      <td>246.0</td>\n",
              "      <td>0</td>\n",
              "      <td>1</td>\n",
              "      <td>120.0</td>\n",
              "      <td>1</td>\n",
              "      <td>0.0</td>\n",
              "      <td>1</td>\n",
              "      <td>3</td>\n",
              "      <td>1</td>\n",
              "    </tr>\n",
              "    <tr>\n",
              "      <th>139</th>\n",
              "      <td>64</td>\n",
              "      <td>1</td>\n",
              "      <td>0</td>\n",
              "      <td>128.0</td>\n",
              "      <td>263.0</td>\n",
              "      <td>0</td>\n",
              "      <td>1</td>\n",
              "      <td>105.0</td>\n",
              "      <td>1</td>\n",
              "      <td>0.2</td>\n",
              "      <td>1</td>\n",
              "      <td>1</td>\n",
              "      <td>3</td>\n",
              "    </tr>\n",
              "    <tr>\n",
              "      <th>115</th>\n",
              "      <td>37</td>\n",
              "      <td>0</td>\n",
              "      <td>2</td>\n",
              "      <td>120.0</td>\n",
              "      <td>215.0</td>\n",
              "      <td>0</td>\n",
              "      <td>1</td>\n",
              "      <td>170.0</td>\n",
              "      <td>0</td>\n",
              "      <td>0.0</td>\n",
              "      <td>2</td>\n",
              "      <td>0</td>\n",
              "      <td>2</td>\n",
              "    </tr>\n",
              "  </tbody>\n",
              "</table>\n",
              "</div>\n",
              "      <button class=\"colab-df-convert\" onclick=\"convertToInteractive('df-b6d64ac1-78be-4841-9b7b-cde1b00e8171')\"\n",
              "              title=\"Convert this dataframe to an interactive table.\"\n",
              "              style=\"display:none;\">\n",
              "        \n",
              "  <svg xmlns=\"http://www.w3.org/2000/svg\" height=\"24px\"viewBox=\"0 0 24 24\"\n",
              "       width=\"24px\">\n",
              "    <path d=\"M0 0h24v24H0V0z\" fill=\"none\"/>\n",
              "    <path d=\"M18.56 5.44l.94 2.06.94-2.06 2.06-.94-2.06-.94-.94-2.06-.94 2.06-2.06.94zm-11 1L8.5 8.5l.94-2.06 2.06-.94-2.06-.94L8.5 2.5l-.94 2.06-2.06.94zm10 10l.94 2.06.94-2.06 2.06-.94-2.06-.94-.94-2.06-.94 2.06-2.06.94z\"/><path d=\"M17.41 7.96l-1.37-1.37c-.4-.4-.92-.59-1.43-.59-.52 0-1.04.2-1.43.59L10.3 9.45l-7.72 7.72c-.78.78-.78 2.05 0 2.83L4 21.41c.39.39.9.59 1.41.59.51 0 1.02-.2 1.41-.59l7.78-7.78 2.81-2.81c.8-.78.8-2.07 0-2.86zM5.41 20L4 18.59l7.72-7.72 1.47 1.35L5.41 20z\"/>\n",
              "  </svg>\n",
              "      </button>\n",
              "      \n",
              "  <style>\n",
              "    .colab-df-container {\n",
              "      display:flex;\n",
              "      flex-wrap:wrap;\n",
              "      gap: 12px;\n",
              "    }\n",
              "\n",
              "    .colab-df-convert {\n",
              "      background-color: #E8F0FE;\n",
              "      border: none;\n",
              "      border-radius: 50%;\n",
              "      cursor: pointer;\n",
              "      display: none;\n",
              "      fill: #1967D2;\n",
              "      height: 32px;\n",
              "      padding: 0 0 0 0;\n",
              "      width: 32px;\n",
              "    }\n",
              "\n",
              "    .colab-df-convert:hover {\n",
              "      background-color: #E2EBFA;\n",
              "      box-shadow: 0px 1px 2px rgba(60, 64, 67, 0.3), 0px 1px 3px 1px rgba(60, 64, 67, 0.15);\n",
              "      fill: #174EA6;\n",
              "    }\n",
              "\n",
              "    [theme=dark] .colab-df-convert {\n",
              "      background-color: #3B4455;\n",
              "      fill: #D2E3FC;\n",
              "    }\n",
              "\n",
              "    [theme=dark] .colab-df-convert:hover {\n",
              "      background-color: #434B5C;\n",
              "      box-shadow: 0px 1px 3px 1px rgba(0, 0, 0, 0.15);\n",
              "      filter: drop-shadow(0px 1px 2px rgba(0, 0, 0, 0.3));\n",
              "      fill: #FFFFFF;\n",
              "    }\n",
              "  </style>\n",
              "\n",
              "      <script>\n",
              "        const buttonEl =\n",
              "          document.querySelector('#df-b6d64ac1-78be-4841-9b7b-cde1b00e8171 button.colab-df-convert');\n",
              "        buttonEl.style.display =\n",
              "          google.colab.kernel.accessAllowed ? 'block' : 'none';\n",
              "\n",
              "        async function convertToInteractive(key) {\n",
              "          const element = document.querySelector('#df-b6d64ac1-78be-4841-9b7b-cde1b00e8171');\n",
              "          const dataTable =\n",
              "            await google.colab.kernel.invokeFunction('convertToInteractive',\n",
              "                                                     [key], {});\n",
              "          if (!dataTable) return;\n",
              "\n",
              "          const docLinkHtml = 'Like what you see? Visit the ' +\n",
              "            '<a target=\"_blank\" href=https://colab.research.google.com/notebooks/data_table.ipynb>data table notebook</a>'\n",
              "            + ' to learn more about interactive tables.';\n",
              "          element.innerHTML = '';\n",
              "          dataTable['output_type'] = 'display_data';\n",
              "          await google.colab.output.renderOutput(dataTable, element);\n",
              "          const docLink = document.createElement('div');\n",
              "          docLink.innerHTML = docLinkHtml;\n",
              "          element.appendChild(docLink);\n",
              "        }\n",
              "      </script>\n",
              "    </div>\n",
              "  </div>\n",
              "  "
            ]
          },
          "metadata": {},
          "execution_count": 29
        }
      ]
    },
    {
      "cell_type": "code",
      "source": [
        "X_train.describe()"
      ],
      "metadata": {
        "colab": {
          "base_uri": "https://localhost:8080/",
          "height": 364
        },
        "id": "ruuWWzkx52l3",
        "outputId": "7083a8bd-6159-4cb6-8658-cd6e8d09d446"
      },
      "execution_count": null,
      "outputs": [
        {
          "output_type": "execute_result",
          "data": {
            "text/plain": [
              "              age         sex          cp    trestbps        chol         fbs  \\\n",
              "count  205.000000  205.000000  205.000000  205.000000  205.000000  205.000000   \n",
              "mean    54.112195    0.682927    0.980488  130.882927  244.121951    0.156098   \n",
              "std      9.295376    0.466475    1.028806   16.693780   50.246352    0.363836   \n",
              "min     29.000000    0.000000    0.000000   94.000000  126.000000    0.000000   \n",
              "25%     46.000000    0.000000    0.000000  120.000000  208.000000    0.000000   \n",
              "50%     55.000000    1.000000    1.000000  130.000000  241.000000    0.000000   \n",
              "75%     61.000000    1.000000    2.000000  140.000000  271.000000    0.000000   \n",
              "max     77.000000    1.000000    3.000000  200.000000  564.000000    1.000000   \n",
              "\n",
              "          restecg     thalach       exang     oldpeak       slope          ca  \\\n",
              "count  205.000000  205.000000  205.000000  205.000000  205.000000  205.000000   \n",
              "mean     0.546341  150.834146    0.307317    0.943902    1.448780    0.736585   \n",
              "std      0.518339   22.000709    0.462511    1.119710    0.605175    1.037946   \n",
              "min      0.000000   71.000000    0.000000    0.000000    0.000000    0.000000   \n",
              "25%      0.000000  140.000000    0.000000    0.000000    1.000000    0.000000   \n",
              "50%      1.000000  154.000000    0.000000    0.600000    2.000000    0.000000   \n",
              "75%      1.000000  168.000000    1.000000    1.600000    2.000000    1.000000   \n",
              "max      2.000000  202.000000    1.000000    6.200000    2.000000    4.000000   \n",
              "\n",
              "             thal  \n",
              "count  205.000000  \n",
              "mean     2.336585  \n",
              "std      0.593162  \n",
              "min      0.000000  \n",
              "25%      2.000000  \n",
              "50%      2.000000  \n",
              "75%      3.000000  \n",
              "max      3.000000  "
            ],
            "text/html": [
              "\n",
              "  <div id=\"df-9af15cd4-8b4a-4a74-844c-98d67d2fa321\">\n",
              "    <div class=\"colab-df-container\">\n",
              "      <div>\n",
              "<style scoped>\n",
              "    .dataframe tbody tr th:only-of-type {\n",
              "        vertical-align: middle;\n",
              "    }\n",
              "\n",
              "    .dataframe tbody tr th {\n",
              "        vertical-align: top;\n",
              "    }\n",
              "\n",
              "    .dataframe thead th {\n",
              "        text-align: right;\n",
              "    }\n",
              "</style>\n",
              "<table border=\"1\" class=\"dataframe\">\n",
              "  <thead>\n",
              "    <tr style=\"text-align: right;\">\n",
              "      <th></th>\n",
              "      <th>age</th>\n",
              "      <th>sex</th>\n",
              "      <th>cp</th>\n",
              "      <th>trestbps</th>\n",
              "      <th>chol</th>\n",
              "      <th>fbs</th>\n",
              "      <th>restecg</th>\n",
              "      <th>thalach</th>\n",
              "      <th>exang</th>\n",
              "      <th>oldpeak</th>\n",
              "      <th>slope</th>\n",
              "      <th>ca</th>\n",
              "      <th>thal</th>\n",
              "    </tr>\n",
              "  </thead>\n",
              "  <tbody>\n",
              "    <tr>\n",
              "      <th>count</th>\n",
              "      <td>205.000000</td>\n",
              "      <td>205.000000</td>\n",
              "      <td>205.000000</td>\n",
              "      <td>205.000000</td>\n",
              "      <td>205.000000</td>\n",
              "      <td>205.000000</td>\n",
              "      <td>205.000000</td>\n",
              "      <td>205.000000</td>\n",
              "      <td>205.000000</td>\n",
              "      <td>205.000000</td>\n",
              "      <td>205.000000</td>\n",
              "      <td>205.000000</td>\n",
              "      <td>205.000000</td>\n",
              "    </tr>\n",
              "    <tr>\n",
              "      <th>mean</th>\n",
              "      <td>54.112195</td>\n",
              "      <td>0.682927</td>\n",
              "      <td>0.980488</td>\n",
              "      <td>130.882927</td>\n",
              "      <td>244.121951</td>\n",
              "      <td>0.156098</td>\n",
              "      <td>0.546341</td>\n",
              "      <td>150.834146</td>\n",
              "      <td>0.307317</td>\n",
              "      <td>0.943902</td>\n",
              "      <td>1.448780</td>\n",
              "      <td>0.736585</td>\n",
              "      <td>2.336585</td>\n",
              "    </tr>\n",
              "    <tr>\n",
              "      <th>std</th>\n",
              "      <td>9.295376</td>\n",
              "      <td>0.466475</td>\n",
              "      <td>1.028806</td>\n",
              "      <td>16.693780</td>\n",
              "      <td>50.246352</td>\n",
              "      <td>0.363836</td>\n",
              "      <td>0.518339</td>\n",
              "      <td>22.000709</td>\n",
              "      <td>0.462511</td>\n",
              "      <td>1.119710</td>\n",
              "      <td>0.605175</td>\n",
              "      <td>1.037946</td>\n",
              "      <td>0.593162</td>\n",
              "    </tr>\n",
              "    <tr>\n",
              "      <th>min</th>\n",
              "      <td>29.000000</td>\n",
              "      <td>0.000000</td>\n",
              "      <td>0.000000</td>\n",
              "      <td>94.000000</td>\n",
              "      <td>126.000000</td>\n",
              "      <td>0.000000</td>\n",
              "      <td>0.000000</td>\n",
              "      <td>71.000000</td>\n",
              "      <td>0.000000</td>\n",
              "      <td>0.000000</td>\n",
              "      <td>0.000000</td>\n",
              "      <td>0.000000</td>\n",
              "      <td>0.000000</td>\n",
              "    </tr>\n",
              "    <tr>\n",
              "      <th>25%</th>\n",
              "      <td>46.000000</td>\n",
              "      <td>0.000000</td>\n",
              "      <td>0.000000</td>\n",
              "      <td>120.000000</td>\n",
              "      <td>208.000000</td>\n",
              "      <td>0.000000</td>\n",
              "      <td>0.000000</td>\n",
              "      <td>140.000000</td>\n",
              "      <td>0.000000</td>\n",
              "      <td>0.000000</td>\n",
              "      <td>1.000000</td>\n",
              "      <td>0.000000</td>\n",
              "      <td>2.000000</td>\n",
              "    </tr>\n",
              "    <tr>\n",
              "      <th>50%</th>\n",
              "      <td>55.000000</td>\n",
              "      <td>1.000000</td>\n",
              "      <td>1.000000</td>\n",
              "      <td>130.000000</td>\n",
              "      <td>241.000000</td>\n",
              "      <td>0.000000</td>\n",
              "      <td>1.000000</td>\n",
              "      <td>154.000000</td>\n",
              "      <td>0.000000</td>\n",
              "      <td>0.600000</td>\n",
              "      <td>2.000000</td>\n",
              "      <td>0.000000</td>\n",
              "      <td>2.000000</td>\n",
              "    </tr>\n",
              "    <tr>\n",
              "      <th>75%</th>\n",
              "      <td>61.000000</td>\n",
              "      <td>1.000000</td>\n",
              "      <td>2.000000</td>\n",
              "      <td>140.000000</td>\n",
              "      <td>271.000000</td>\n",
              "      <td>0.000000</td>\n",
              "      <td>1.000000</td>\n",
              "      <td>168.000000</td>\n",
              "      <td>1.000000</td>\n",
              "      <td>1.600000</td>\n",
              "      <td>2.000000</td>\n",
              "      <td>1.000000</td>\n",
              "      <td>3.000000</td>\n",
              "    </tr>\n",
              "    <tr>\n",
              "      <th>max</th>\n",
              "      <td>77.000000</td>\n",
              "      <td>1.000000</td>\n",
              "      <td>3.000000</td>\n",
              "      <td>200.000000</td>\n",
              "      <td>564.000000</td>\n",
              "      <td>1.000000</td>\n",
              "      <td>2.000000</td>\n",
              "      <td>202.000000</td>\n",
              "      <td>1.000000</td>\n",
              "      <td>6.200000</td>\n",
              "      <td>2.000000</td>\n",
              "      <td>4.000000</td>\n",
              "      <td>3.000000</td>\n",
              "    </tr>\n",
              "  </tbody>\n",
              "</table>\n",
              "</div>\n",
              "      <button class=\"colab-df-convert\" onclick=\"convertToInteractive('df-9af15cd4-8b4a-4a74-844c-98d67d2fa321')\"\n",
              "              title=\"Convert this dataframe to an interactive table.\"\n",
              "              style=\"display:none;\">\n",
              "        \n",
              "  <svg xmlns=\"http://www.w3.org/2000/svg\" height=\"24px\"viewBox=\"0 0 24 24\"\n",
              "       width=\"24px\">\n",
              "    <path d=\"M0 0h24v24H0V0z\" fill=\"none\"/>\n",
              "    <path d=\"M18.56 5.44l.94 2.06.94-2.06 2.06-.94-2.06-.94-.94-2.06-.94 2.06-2.06.94zm-11 1L8.5 8.5l.94-2.06 2.06-.94-2.06-.94L8.5 2.5l-.94 2.06-2.06.94zm10 10l.94 2.06.94-2.06 2.06-.94-2.06-.94-.94-2.06-.94 2.06-2.06.94z\"/><path d=\"M17.41 7.96l-1.37-1.37c-.4-.4-.92-.59-1.43-.59-.52 0-1.04.2-1.43.59L10.3 9.45l-7.72 7.72c-.78.78-.78 2.05 0 2.83L4 21.41c.39.39.9.59 1.41.59.51 0 1.02-.2 1.41-.59l7.78-7.78 2.81-2.81c.8-.78.8-2.07 0-2.86zM5.41 20L4 18.59l7.72-7.72 1.47 1.35L5.41 20z\"/>\n",
              "  </svg>\n",
              "      </button>\n",
              "      \n",
              "  <style>\n",
              "    .colab-df-container {\n",
              "      display:flex;\n",
              "      flex-wrap:wrap;\n",
              "      gap: 12px;\n",
              "    }\n",
              "\n",
              "    .colab-df-convert {\n",
              "      background-color: #E8F0FE;\n",
              "      border: none;\n",
              "      border-radius: 50%;\n",
              "      cursor: pointer;\n",
              "      display: none;\n",
              "      fill: #1967D2;\n",
              "      height: 32px;\n",
              "      padding: 0 0 0 0;\n",
              "      width: 32px;\n",
              "    }\n",
              "\n",
              "    .colab-df-convert:hover {\n",
              "      background-color: #E2EBFA;\n",
              "      box-shadow: 0px 1px 2px rgba(60, 64, 67, 0.3), 0px 1px 3px 1px rgba(60, 64, 67, 0.15);\n",
              "      fill: #174EA6;\n",
              "    }\n",
              "\n",
              "    [theme=dark] .colab-df-convert {\n",
              "      background-color: #3B4455;\n",
              "      fill: #D2E3FC;\n",
              "    }\n",
              "\n",
              "    [theme=dark] .colab-df-convert:hover {\n",
              "      background-color: #434B5C;\n",
              "      box-shadow: 0px 1px 3px 1px rgba(0, 0, 0, 0.15);\n",
              "      filter: drop-shadow(0px 1px 2px rgba(0, 0, 0, 0.3));\n",
              "      fill: #FFFFFF;\n",
              "    }\n",
              "  </style>\n",
              "\n",
              "      <script>\n",
              "        const buttonEl =\n",
              "          document.querySelector('#df-9af15cd4-8b4a-4a74-844c-98d67d2fa321 button.colab-df-convert');\n",
              "        buttonEl.style.display =\n",
              "          google.colab.kernel.accessAllowed ? 'block' : 'none';\n",
              "\n",
              "        async function convertToInteractive(key) {\n",
              "          const element = document.querySelector('#df-9af15cd4-8b4a-4a74-844c-98d67d2fa321');\n",
              "          const dataTable =\n",
              "            await google.colab.kernel.invokeFunction('convertToInteractive',\n",
              "                                                     [key], {});\n",
              "          if (!dataTable) return;\n",
              "\n",
              "          const docLinkHtml = 'Like what you see? Visit the ' +\n",
              "            '<a target=\"_blank\" href=https://colab.research.google.com/notebooks/data_table.ipynb>data table notebook</a>'\n",
              "            + ' to learn more about interactive tables.';\n",
              "          element.innerHTML = '';\n",
              "          dataTable['output_type'] = 'display_data';\n",
              "          await google.colab.output.renderOutput(dataTable, element);\n",
              "          const docLink = document.createElement('div');\n",
              "          docLink.innerHTML = docLinkHtml;\n",
              "          element.appendChild(docLink);\n",
              "        }\n",
              "      </script>\n",
              "    </div>\n",
              "  </div>\n",
              "  "
            ]
          },
          "metadata": {},
          "execution_count": 30
        }
      ]
    },
    {
      "cell_type": "code",
      "source": [
        "X_train_scaled.describe()"
      ],
      "metadata": {
        "colab": {
          "base_uri": "https://localhost:8080/",
          "height": 451
        },
        "id": "vkCqCa9f6SvC",
        "outputId": "3c94f299-19c4-4f9e-a56c-dfafed467464"
      },
      "execution_count": null,
      "outputs": [
        {
          "output_type": "execute_result",
          "data": {
            "text/plain": [
              "                age           sex            cp      trestbps          chol  \\\n",
              "count  2.050000e+02  2.050000e+02  2.050000e+02  2.050000e+02  2.050000e+02   \n",
              "mean   2.772850e-16 -1.213122e-16 -1.733031e-17  4.505881e-16 -6.932124e-17   \n",
              "std    1.002448e+00  1.002448e+00  1.002448e+00  1.002448e+00  1.002448e+00   \n",
              "min   -2.708193e+00 -1.467599e+00 -9.553681e-01 -2.214790e+00 -2.356611e+00   \n",
              "25%   -8.748493e-01 -1.467599e+00 -9.553681e-01 -6.535109e-01 -7.206568e-01   \n",
              "50%    9.574418e-02  6.813851e-01  1.901230e-02 -5.301904e-02 -6.228499e-02   \n",
              "75%    7.428065e-01  6.813851e-01  9.933927e-01  5.474729e-01  5.362349e-01   \n",
              "max    2.468306e+00  6.813851e-01  1.967773e+00  4.150424e+00  6.381779e+00   \n",
              "\n",
              "                fbs     restecg       thalach         exang       oldpeak  \\\n",
              "count  2.050000e+02  205.000000  2.050000e+02  2.050000e+02  2.050000e+02   \n",
              "mean  -2.328760e-17    0.000000 -3.899320e-16 -3.791005e-17  7.257068e-17   \n",
              "std    1.002448e+00    1.002448  1.002448e+00  1.002448e+00  1.002448e+00   \n",
              "min   -4.300827e-01   -1.056604 -3.637591e+00 -6.660796e-01 -8.450523e-01   \n",
              "25%   -4.300827e-01   -1.056604 -4.936508e-01 -6.660796e-01 -8.450523e-01   \n",
              "50%   -4.300827e-01    0.877358  1.442501e-01 -6.660796e-01 -3.078873e-01   \n",
              "75%   -4.300827e-01    0.877358  7.821510e-01  1.501322e+00  5.873878e-01   \n",
              "max    2.325134e+00    2.811321  2.331339e+00  1.501322e+00  4.705653e+00   \n",
              "\n",
              "              slope            ca          thal  \n",
              "count  2.050000e+02  2.050000e+02  2.050000e+02  \n",
              "mean   8.610998e-17 -1.733031e-17  2.166289e-16  \n",
              "std    1.002448e+00  1.002448e+00  1.002448e+00  \n",
              "min   -2.399848e+00 -7.113941e-01 -3.948845e+00  \n",
              "25%   -7.433873e-01 -7.113941e-01 -5.688316e-01  \n",
              "50%    9.130736e-01 -7.113941e-01 -5.688316e-01  \n",
              "75%    9.130736e-01  2.544058e-01  1.121175e+00  \n",
              "max    9.130736e-01  3.151806e+00  1.121175e+00  "
            ],
            "text/html": [
              "\n",
              "  <div id=\"df-1d431c02-f8c3-463f-84e5-554a66c9cfef\">\n",
              "    <div class=\"colab-df-container\">\n",
              "      <div>\n",
              "<style scoped>\n",
              "    .dataframe tbody tr th:only-of-type {\n",
              "        vertical-align: middle;\n",
              "    }\n",
              "\n",
              "    .dataframe tbody tr th {\n",
              "        vertical-align: top;\n",
              "    }\n",
              "\n",
              "    .dataframe thead th {\n",
              "        text-align: right;\n",
              "    }\n",
              "</style>\n",
              "<table border=\"1\" class=\"dataframe\">\n",
              "  <thead>\n",
              "    <tr style=\"text-align: right;\">\n",
              "      <th></th>\n",
              "      <th>age</th>\n",
              "      <th>sex</th>\n",
              "      <th>cp</th>\n",
              "      <th>trestbps</th>\n",
              "      <th>chol</th>\n",
              "      <th>fbs</th>\n",
              "      <th>restecg</th>\n",
              "      <th>thalach</th>\n",
              "      <th>exang</th>\n",
              "      <th>oldpeak</th>\n",
              "      <th>slope</th>\n",
              "      <th>ca</th>\n",
              "      <th>thal</th>\n",
              "    </tr>\n",
              "  </thead>\n",
              "  <tbody>\n",
              "    <tr>\n",
              "      <th>count</th>\n",
              "      <td>2.050000e+02</td>\n",
              "      <td>2.050000e+02</td>\n",
              "      <td>2.050000e+02</td>\n",
              "      <td>2.050000e+02</td>\n",
              "      <td>2.050000e+02</td>\n",
              "      <td>2.050000e+02</td>\n",
              "      <td>205.000000</td>\n",
              "      <td>2.050000e+02</td>\n",
              "      <td>2.050000e+02</td>\n",
              "      <td>2.050000e+02</td>\n",
              "      <td>2.050000e+02</td>\n",
              "      <td>2.050000e+02</td>\n",
              "      <td>2.050000e+02</td>\n",
              "    </tr>\n",
              "    <tr>\n",
              "      <th>mean</th>\n",
              "      <td>2.772850e-16</td>\n",
              "      <td>-1.213122e-16</td>\n",
              "      <td>-1.733031e-17</td>\n",
              "      <td>4.505881e-16</td>\n",
              "      <td>-6.932124e-17</td>\n",
              "      <td>-2.328760e-17</td>\n",
              "      <td>0.000000</td>\n",
              "      <td>-3.899320e-16</td>\n",
              "      <td>-3.791005e-17</td>\n",
              "      <td>7.257068e-17</td>\n",
              "      <td>8.610998e-17</td>\n",
              "      <td>-1.733031e-17</td>\n",
              "      <td>2.166289e-16</td>\n",
              "    </tr>\n",
              "    <tr>\n",
              "      <th>std</th>\n",
              "      <td>1.002448e+00</td>\n",
              "      <td>1.002448e+00</td>\n",
              "      <td>1.002448e+00</td>\n",
              "      <td>1.002448e+00</td>\n",
              "      <td>1.002448e+00</td>\n",
              "      <td>1.002448e+00</td>\n",
              "      <td>1.002448</td>\n",
              "      <td>1.002448e+00</td>\n",
              "      <td>1.002448e+00</td>\n",
              "      <td>1.002448e+00</td>\n",
              "      <td>1.002448e+00</td>\n",
              "      <td>1.002448e+00</td>\n",
              "      <td>1.002448e+00</td>\n",
              "    </tr>\n",
              "    <tr>\n",
              "      <th>min</th>\n",
              "      <td>-2.708193e+00</td>\n",
              "      <td>-1.467599e+00</td>\n",
              "      <td>-9.553681e-01</td>\n",
              "      <td>-2.214790e+00</td>\n",
              "      <td>-2.356611e+00</td>\n",
              "      <td>-4.300827e-01</td>\n",
              "      <td>-1.056604</td>\n",
              "      <td>-3.637591e+00</td>\n",
              "      <td>-6.660796e-01</td>\n",
              "      <td>-8.450523e-01</td>\n",
              "      <td>-2.399848e+00</td>\n",
              "      <td>-7.113941e-01</td>\n",
              "      <td>-3.948845e+00</td>\n",
              "    </tr>\n",
              "    <tr>\n",
              "      <th>25%</th>\n",
              "      <td>-8.748493e-01</td>\n",
              "      <td>-1.467599e+00</td>\n",
              "      <td>-9.553681e-01</td>\n",
              "      <td>-6.535109e-01</td>\n",
              "      <td>-7.206568e-01</td>\n",
              "      <td>-4.300827e-01</td>\n",
              "      <td>-1.056604</td>\n",
              "      <td>-4.936508e-01</td>\n",
              "      <td>-6.660796e-01</td>\n",
              "      <td>-8.450523e-01</td>\n",
              "      <td>-7.433873e-01</td>\n",
              "      <td>-7.113941e-01</td>\n",
              "      <td>-5.688316e-01</td>\n",
              "    </tr>\n",
              "    <tr>\n",
              "      <th>50%</th>\n",
              "      <td>9.574418e-02</td>\n",
              "      <td>6.813851e-01</td>\n",
              "      <td>1.901230e-02</td>\n",
              "      <td>-5.301904e-02</td>\n",
              "      <td>-6.228499e-02</td>\n",
              "      <td>-4.300827e-01</td>\n",
              "      <td>0.877358</td>\n",
              "      <td>1.442501e-01</td>\n",
              "      <td>-6.660796e-01</td>\n",
              "      <td>-3.078873e-01</td>\n",
              "      <td>9.130736e-01</td>\n",
              "      <td>-7.113941e-01</td>\n",
              "      <td>-5.688316e-01</td>\n",
              "    </tr>\n",
              "    <tr>\n",
              "      <th>75%</th>\n",
              "      <td>7.428065e-01</td>\n",
              "      <td>6.813851e-01</td>\n",
              "      <td>9.933927e-01</td>\n",
              "      <td>5.474729e-01</td>\n",
              "      <td>5.362349e-01</td>\n",
              "      <td>-4.300827e-01</td>\n",
              "      <td>0.877358</td>\n",
              "      <td>7.821510e-01</td>\n",
              "      <td>1.501322e+00</td>\n",
              "      <td>5.873878e-01</td>\n",
              "      <td>9.130736e-01</td>\n",
              "      <td>2.544058e-01</td>\n",
              "      <td>1.121175e+00</td>\n",
              "    </tr>\n",
              "    <tr>\n",
              "      <th>max</th>\n",
              "      <td>2.468306e+00</td>\n",
              "      <td>6.813851e-01</td>\n",
              "      <td>1.967773e+00</td>\n",
              "      <td>4.150424e+00</td>\n",
              "      <td>6.381779e+00</td>\n",
              "      <td>2.325134e+00</td>\n",
              "      <td>2.811321</td>\n",
              "      <td>2.331339e+00</td>\n",
              "      <td>1.501322e+00</td>\n",
              "      <td>4.705653e+00</td>\n",
              "      <td>9.130736e-01</td>\n",
              "      <td>3.151806e+00</td>\n",
              "      <td>1.121175e+00</td>\n",
              "    </tr>\n",
              "  </tbody>\n",
              "</table>\n",
              "</div>\n",
              "      <button class=\"colab-df-convert\" onclick=\"convertToInteractive('df-1d431c02-f8c3-463f-84e5-554a66c9cfef')\"\n",
              "              title=\"Convert this dataframe to an interactive table.\"\n",
              "              style=\"display:none;\">\n",
              "        \n",
              "  <svg xmlns=\"http://www.w3.org/2000/svg\" height=\"24px\"viewBox=\"0 0 24 24\"\n",
              "       width=\"24px\">\n",
              "    <path d=\"M0 0h24v24H0V0z\" fill=\"none\"/>\n",
              "    <path d=\"M18.56 5.44l.94 2.06.94-2.06 2.06-.94-2.06-.94-.94-2.06-.94 2.06-2.06.94zm-11 1L8.5 8.5l.94-2.06 2.06-.94-2.06-.94L8.5 2.5l-.94 2.06-2.06.94zm10 10l.94 2.06.94-2.06 2.06-.94-2.06-.94-.94-2.06-.94 2.06-2.06.94z\"/><path d=\"M17.41 7.96l-1.37-1.37c-.4-.4-.92-.59-1.43-.59-.52 0-1.04.2-1.43.59L10.3 9.45l-7.72 7.72c-.78.78-.78 2.05 0 2.83L4 21.41c.39.39.9.59 1.41.59.51 0 1.02-.2 1.41-.59l7.78-7.78 2.81-2.81c.8-.78.8-2.07 0-2.86zM5.41 20L4 18.59l7.72-7.72 1.47 1.35L5.41 20z\"/>\n",
              "  </svg>\n",
              "      </button>\n",
              "      \n",
              "  <style>\n",
              "    .colab-df-container {\n",
              "      display:flex;\n",
              "      flex-wrap:wrap;\n",
              "      gap: 12px;\n",
              "    }\n",
              "\n",
              "    .colab-df-convert {\n",
              "      background-color: #E8F0FE;\n",
              "      border: none;\n",
              "      border-radius: 50%;\n",
              "      cursor: pointer;\n",
              "      display: none;\n",
              "      fill: #1967D2;\n",
              "      height: 32px;\n",
              "      padding: 0 0 0 0;\n",
              "      width: 32px;\n",
              "    }\n",
              "\n",
              "    .colab-df-convert:hover {\n",
              "      background-color: #E2EBFA;\n",
              "      box-shadow: 0px 1px 2px rgba(60, 64, 67, 0.3), 0px 1px 3px 1px rgba(60, 64, 67, 0.15);\n",
              "      fill: #174EA6;\n",
              "    }\n",
              "\n",
              "    [theme=dark] .colab-df-convert {\n",
              "      background-color: #3B4455;\n",
              "      fill: #D2E3FC;\n",
              "    }\n",
              "\n",
              "    [theme=dark] .colab-df-convert:hover {\n",
              "      background-color: #434B5C;\n",
              "      box-shadow: 0px 1px 3px 1px rgba(0, 0, 0, 0.15);\n",
              "      filter: drop-shadow(0px 1px 2px rgba(0, 0, 0, 0.3));\n",
              "      fill: #FFFFFF;\n",
              "    }\n",
              "  </style>\n",
              "\n",
              "      <script>\n",
              "        const buttonEl =\n",
              "          document.querySelector('#df-1d431c02-f8c3-463f-84e5-554a66c9cfef button.colab-df-convert');\n",
              "        buttonEl.style.display =\n",
              "          google.colab.kernel.accessAllowed ? 'block' : 'none';\n",
              "\n",
              "        async function convertToInteractive(key) {\n",
              "          const element = document.querySelector('#df-1d431c02-f8c3-463f-84e5-554a66c9cfef');\n",
              "          const dataTable =\n",
              "            await google.colab.kernel.invokeFunction('convertToInteractive',\n",
              "                                                     [key], {});\n",
              "          if (!dataTable) return;\n",
              "\n",
              "          const docLinkHtml = 'Like what you see? Visit the ' +\n",
              "            '<a target=\"_blank\" href=https://colab.research.google.com/notebooks/data_table.ipynb>data table notebook</a>'\n",
              "            + ' to learn more about interactive tables.';\n",
              "          element.innerHTML = '';\n",
              "          dataTable['output_type'] = 'display_data';\n",
              "          await google.colab.output.renderOutput(dataTable, element);\n",
              "          const docLink = document.createElement('div');\n",
              "          docLink.innerHTML = docLinkHtml;\n",
              "          element.appendChild(docLink);\n",
              "        }\n",
              "      </script>\n",
              "    </div>\n",
              "  </div>\n",
              "  "
            ]
          },
          "metadata": {},
          "execution_count": 31
        }
      ]
    },
    {
      "cell_type": "code",
      "source": [
        "round(X_train_scaled.describe(),2)"
      ],
      "metadata": {
        "colab": {
          "base_uri": "https://localhost:8080/",
          "height": 364
        },
        "id": "b8cv9Ziw5xWb",
        "outputId": "fb29690d-665e-4ec9-9e1e-6d8cfa899253"
      },
      "execution_count": null,
      "outputs": [
        {
          "output_type": "execute_result",
          "data": {
            "text/plain": [
              "          age     sex      cp  trestbps    chol     fbs  restecg  thalach  \\\n",
              "count  205.00  205.00  205.00    205.00  205.00  205.00   205.00   205.00   \n",
              "mean     0.00   -0.00   -0.00      0.00   -0.00   -0.00     0.00    -0.00   \n",
              "std      1.00    1.00    1.00      1.00    1.00    1.00     1.00     1.00   \n",
              "min     -2.71   -1.47   -0.96     -2.21   -2.36   -0.43    -1.06    -3.64   \n",
              "25%     -0.87   -1.47   -0.96     -0.65   -0.72   -0.43    -1.06    -0.49   \n",
              "50%      0.10    0.68    0.02     -0.05   -0.06   -0.43     0.88     0.14   \n",
              "75%      0.74    0.68    0.99      0.55    0.54   -0.43     0.88     0.78   \n",
              "max      2.47    0.68    1.97      4.15    6.38    2.33     2.81     2.33   \n",
              "\n",
              "        exang  oldpeak   slope      ca    thal  \n",
              "count  205.00   205.00  205.00  205.00  205.00  \n",
              "mean    -0.00     0.00    0.00   -0.00    0.00  \n",
              "std      1.00     1.00    1.00    1.00    1.00  \n",
              "min     -0.67    -0.85   -2.40   -0.71   -3.95  \n",
              "25%     -0.67    -0.85   -0.74   -0.71   -0.57  \n",
              "50%     -0.67    -0.31    0.91   -0.71   -0.57  \n",
              "75%      1.50     0.59    0.91    0.25    1.12  \n",
              "max      1.50     4.71    0.91    3.15    1.12  "
            ],
            "text/html": [
              "\n",
              "  <div id=\"df-cbdcebc2-4ce8-489c-8a17-830f540df709\">\n",
              "    <div class=\"colab-df-container\">\n",
              "      <div>\n",
              "<style scoped>\n",
              "    .dataframe tbody tr th:only-of-type {\n",
              "        vertical-align: middle;\n",
              "    }\n",
              "\n",
              "    .dataframe tbody tr th {\n",
              "        vertical-align: top;\n",
              "    }\n",
              "\n",
              "    .dataframe thead th {\n",
              "        text-align: right;\n",
              "    }\n",
              "</style>\n",
              "<table border=\"1\" class=\"dataframe\">\n",
              "  <thead>\n",
              "    <tr style=\"text-align: right;\">\n",
              "      <th></th>\n",
              "      <th>age</th>\n",
              "      <th>sex</th>\n",
              "      <th>cp</th>\n",
              "      <th>trestbps</th>\n",
              "      <th>chol</th>\n",
              "      <th>fbs</th>\n",
              "      <th>restecg</th>\n",
              "      <th>thalach</th>\n",
              "      <th>exang</th>\n",
              "      <th>oldpeak</th>\n",
              "      <th>slope</th>\n",
              "      <th>ca</th>\n",
              "      <th>thal</th>\n",
              "    </tr>\n",
              "  </thead>\n",
              "  <tbody>\n",
              "    <tr>\n",
              "      <th>count</th>\n",
              "      <td>205.00</td>\n",
              "      <td>205.00</td>\n",
              "      <td>205.00</td>\n",
              "      <td>205.00</td>\n",
              "      <td>205.00</td>\n",
              "      <td>205.00</td>\n",
              "      <td>205.00</td>\n",
              "      <td>205.00</td>\n",
              "      <td>205.00</td>\n",
              "      <td>205.00</td>\n",
              "      <td>205.00</td>\n",
              "      <td>205.00</td>\n",
              "      <td>205.00</td>\n",
              "    </tr>\n",
              "    <tr>\n",
              "      <th>mean</th>\n",
              "      <td>0.00</td>\n",
              "      <td>-0.00</td>\n",
              "      <td>-0.00</td>\n",
              "      <td>0.00</td>\n",
              "      <td>-0.00</td>\n",
              "      <td>-0.00</td>\n",
              "      <td>0.00</td>\n",
              "      <td>-0.00</td>\n",
              "      <td>-0.00</td>\n",
              "      <td>0.00</td>\n",
              "      <td>0.00</td>\n",
              "      <td>-0.00</td>\n",
              "      <td>0.00</td>\n",
              "    </tr>\n",
              "    <tr>\n",
              "      <th>std</th>\n",
              "      <td>1.00</td>\n",
              "      <td>1.00</td>\n",
              "      <td>1.00</td>\n",
              "      <td>1.00</td>\n",
              "      <td>1.00</td>\n",
              "      <td>1.00</td>\n",
              "      <td>1.00</td>\n",
              "      <td>1.00</td>\n",
              "      <td>1.00</td>\n",
              "      <td>1.00</td>\n",
              "      <td>1.00</td>\n",
              "      <td>1.00</td>\n",
              "      <td>1.00</td>\n",
              "    </tr>\n",
              "    <tr>\n",
              "      <th>min</th>\n",
              "      <td>-2.71</td>\n",
              "      <td>-1.47</td>\n",
              "      <td>-0.96</td>\n",
              "      <td>-2.21</td>\n",
              "      <td>-2.36</td>\n",
              "      <td>-0.43</td>\n",
              "      <td>-1.06</td>\n",
              "      <td>-3.64</td>\n",
              "      <td>-0.67</td>\n",
              "      <td>-0.85</td>\n",
              "      <td>-2.40</td>\n",
              "      <td>-0.71</td>\n",
              "      <td>-3.95</td>\n",
              "    </tr>\n",
              "    <tr>\n",
              "      <th>25%</th>\n",
              "      <td>-0.87</td>\n",
              "      <td>-1.47</td>\n",
              "      <td>-0.96</td>\n",
              "      <td>-0.65</td>\n",
              "      <td>-0.72</td>\n",
              "      <td>-0.43</td>\n",
              "      <td>-1.06</td>\n",
              "      <td>-0.49</td>\n",
              "      <td>-0.67</td>\n",
              "      <td>-0.85</td>\n",
              "      <td>-0.74</td>\n",
              "      <td>-0.71</td>\n",
              "      <td>-0.57</td>\n",
              "    </tr>\n",
              "    <tr>\n",
              "      <th>50%</th>\n",
              "      <td>0.10</td>\n",
              "      <td>0.68</td>\n",
              "      <td>0.02</td>\n",
              "      <td>-0.05</td>\n",
              "      <td>-0.06</td>\n",
              "      <td>-0.43</td>\n",
              "      <td>0.88</td>\n",
              "      <td>0.14</td>\n",
              "      <td>-0.67</td>\n",
              "      <td>-0.31</td>\n",
              "      <td>0.91</td>\n",
              "      <td>-0.71</td>\n",
              "      <td>-0.57</td>\n",
              "    </tr>\n",
              "    <tr>\n",
              "      <th>75%</th>\n",
              "      <td>0.74</td>\n",
              "      <td>0.68</td>\n",
              "      <td>0.99</td>\n",
              "      <td>0.55</td>\n",
              "      <td>0.54</td>\n",
              "      <td>-0.43</td>\n",
              "      <td>0.88</td>\n",
              "      <td>0.78</td>\n",
              "      <td>1.50</td>\n",
              "      <td>0.59</td>\n",
              "      <td>0.91</td>\n",
              "      <td>0.25</td>\n",
              "      <td>1.12</td>\n",
              "    </tr>\n",
              "    <tr>\n",
              "      <th>max</th>\n",
              "      <td>2.47</td>\n",
              "      <td>0.68</td>\n",
              "      <td>1.97</td>\n",
              "      <td>4.15</td>\n",
              "      <td>6.38</td>\n",
              "      <td>2.33</td>\n",
              "      <td>2.81</td>\n",
              "      <td>2.33</td>\n",
              "      <td>1.50</td>\n",
              "      <td>4.71</td>\n",
              "      <td>0.91</td>\n",
              "      <td>3.15</td>\n",
              "      <td>1.12</td>\n",
              "    </tr>\n",
              "  </tbody>\n",
              "</table>\n",
              "</div>\n",
              "      <button class=\"colab-df-convert\" onclick=\"convertToInteractive('df-cbdcebc2-4ce8-489c-8a17-830f540df709')\"\n",
              "              title=\"Convert this dataframe to an interactive table.\"\n",
              "              style=\"display:none;\">\n",
              "        \n",
              "  <svg xmlns=\"http://www.w3.org/2000/svg\" height=\"24px\"viewBox=\"0 0 24 24\"\n",
              "       width=\"24px\">\n",
              "    <path d=\"M0 0h24v24H0V0z\" fill=\"none\"/>\n",
              "    <path d=\"M18.56 5.44l.94 2.06.94-2.06 2.06-.94-2.06-.94-.94-2.06-.94 2.06-2.06.94zm-11 1L8.5 8.5l.94-2.06 2.06-.94-2.06-.94L8.5 2.5l-.94 2.06-2.06.94zm10 10l.94 2.06.94-2.06 2.06-.94-2.06-.94-.94-2.06-.94 2.06-2.06.94z\"/><path d=\"M17.41 7.96l-1.37-1.37c-.4-.4-.92-.59-1.43-.59-.52 0-1.04.2-1.43.59L10.3 9.45l-7.72 7.72c-.78.78-.78 2.05 0 2.83L4 21.41c.39.39.9.59 1.41.59.51 0 1.02-.2 1.41-.59l7.78-7.78 2.81-2.81c.8-.78.8-2.07 0-2.86zM5.41 20L4 18.59l7.72-7.72 1.47 1.35L5.41 20z\"/>\n",
              "  </svg>\n",
              "      </button>\n",
              "      \n",
              "  <style>\n",
              "    .colab-df-container {\n",
              "      display:flex;\n",
              "      flex-wrap:wrap;\n",
              "      gap: 12px;\n",
              "    }\n",
              "\n",
              "    .colab-df-convert {\n",
              "      background-color: #E8F0FE;\n",
              "      border: none;\n",
              "      border-radius: 50%;\n",
              "      cursor: pointer;\n",
              "      display: none;\n",
              "      fill: #1967D2;\n",
              "      height: 32px;\n",
              "      padding: 0 0 0 0;\n",
              "      width: 32px;\n",
              "    }\n",
              "\n",
              "    .colab-df-convert:hover {\n",
              "      background-color: #E2EBFA;\n",
              "      box-shadow: 0px 1px 2px rgba(60, 64, 67, 0.3), 0px 1px 3px 1px rgba(60, 64, 67, 0.15);\n",
              "      fill: #174EA6;\n",
              "    }\n",
              "\n",
              "    [theme=dark] .colab-df-convert {\n",
              "      background-color: #3B4455;\n",
              "      fill: #D2E3FC;\n",
              "    }\n",
              "\n",
              "    [theme=dark] .colab-df-convert:hover {\n",
              "      background-color: #434B5C;\n",
              "      box-shadow: 0px 1px 3px 1px rgba(0, 0, 0, 0.15);\n",
              "      filter: drop-shadow(0px 1px 2px rgba(0, 0, 0, 0.3));\n",
              "      fill: #FFFFFF;\n",
              "    }\n",
              "  </style>\n",
              "\n",
              "      <script>\n",
              "        const buttonEl =\n",
              "          document.querySelector('#df-cbdcebc2-4ce8-489c-8a17-830f540df709 button.colab-df-convert');\n",
              "        buttonEl.style.display =\n",
              "          google.colab.kernel.accessAllowed ? 'block' : 'none';\n",
              "\n",
              "        async function convertToInteractive(key) {\n",
              "          const element = document.querySelector('#df-cbdcebc2-4ce8-489c-8a17-830f540df709');\n",
              "          const dataTable =\n",
              "            await google.colab.kernel.invokeFunction('convertToInteractive',\n",
              "                                                     [key], {});\n",
              "          if (!dataTable) return;\n",
              "\n",
              "          const docLinkHtml = 'Like what you see? Visit the ' +\n",
              "            '<a target=\"_blank\" href=https://colab.research.google.com/notebooks/data_table.ipynb>data table notebook</a>'\n",
              "            + ' to learn more about interactive tables.';\n",
              "          element.innerHTML = '';\n",
              "          dataTable['output_type'] = 'display_data';\n",
              "          await google.colab.output.renderOutput(dataTable, element);\n",
              "          const docLink = document.createElement('div');\n",
              "          docLink.innerHTML = docLinkHtml;\n",
              "          element.appendChild(docLink);\n",
              "        }\n",
              "      </script>\n",
              "    </div>\n",
              "  </div>\n",
              "  "
            ]
          },
          "metadata": {},
          "execution_count": 32
        }
      ]
    },
    {
      "cell_type": "code",
      "source": [
        "train_plot = X_train.copy().reset_index(drop = True)\n",
        "train_plot[\"target\"] = y_train\n",
        "test_plot = X_test.copy().reset_index(drop = True)\n",
        "test_plot[\"target\"] = y_test\n",
        "train_plot.head(2), test_plot.head(2)"
      ],
      "metadata": {
        "colab": {
          "base_uri": "https://localhost:8080/"
        },
        "id": "iAAsbIsV910e",
        "outputId": "9f8bee52-ebcc-4d4b-da64-54be543845c7"
      },
      "execution_count": null,
      "outputs": [
        {
          "output_type": "execute_result",
          "data": {
            "text/plain": [
              "(   age  sex  cp  trestbps   chol  fbs  restecg  thalach  exang  oldpeak  \\\n",
              " 0   59    1   0     135.0  234.0    0        1    161.0      0      0.5   \n",
              " 1   38    1   2     138.0  175.0    0        1    173.0      0      0.0   \n",
              " \n",
              "    slope  ca  thal  target  \n",
              " 0      1   0     3       1  \n",
              " 1      2   4     2       1  ,\n",
              "    age  sex  cp  trestbps   chol  fbs  restecg  thalach  exang  oldpeak  \\\n",
              " 0   64    1   0     120.0  246.0    0        0     96.0      1      2.2   \n",
              " 1   67    1   2     152.0  212.0    0        0    150.0      0      0.8   \n",
              " \n",
              "    slope  ca  thal  target  \n",
              " 0      0   1     2       0  \n",
              " 1      1   0     3       0  )"
            ]
          },
          "metadata": {},
          "execution_count": 33
        }
      ]
    },
    {
      "cell_type": "code",
      "source": [
        "train_scale_plot = X_train_scaled.copy()\n",
        "train_scale_plot[\"target\"] = y_train\n",
        "test_scale_plot = X_test_scaled.copy()\n",
        "test_scale_plot[\"target\"] = y_test\n",
        "train_scale_plot.head(2), test_scale_plot.head(2)"
      ],
      "metadata": {
        "colab": {
          "base_uri": "https://localhost:8080/"
        },
        "id": "TCSNaRo_-S9t",
        "outputId": "ec6add92-3e03-4076-d30e-2bf1e7353cf0"
      },
      "execution_count": null,
      "outputs": [
        {
          "output_type": "execute_result",
          "data": {
            "text/plain": [
              "(        age       sex        cp  trestbps      chol       fbs   restecg  \\\n",
              " 0  0.527119  0.681385 -0.955368  0.247227 -0.201940 -0.430083  0.877358   \n",
              " 1 -1.737599  0.681385  0.993393  0.427374 -1.379029 -0.430083  0.877358   \n",
              " \n",
              "     thalach    exang   oldpeak     slope        ca      thal  target  \n",
              " 0  0.463201 -0.66608 -0.397415 -0.743387 -0.711394  1.121175       1  \n",
              " 1  1.009973 -0.66608 -0.845052  0.913074  3.151806 -0.568832       1  ,\n",
              "         age       sex        cp  trestbps      chol       fbs   restecg  \\\n",
              " 0  1.066338  0.681385 -0.955368 -0.653511  0.037468 -0.430083 -1.056604   \n",
              " 1  1.389869  0.681385  0.993393  1.268063 -0.640854 -0.430083 -1.056604   \n",
              " \n",
              "     thalach     exang   oldpeak     slope        ca      thal  target  \n",
              " 0 -2.498482  1.501322  1.124553 -2.399848  0.254406 -0.568832       0  \n",
              " 1 -0.038007 -0.666080 -0.128832 -0.743387 -0.711394  1.121175       0  )"
            ]
          },
          "metadata": {},
          "execution_count": 34
        }
      ]
    },
    {
      "cell_type": "code",
      "source": [
        "X_train.head()"
      ],
      "metadata": {
        "colab": {
          "base_uri": "https://localhost:8080/",
          "height": 206
        },
        "id": "gyoO9nNpcQI-",
        "outputId": "b624dc2b-c43e-44e9-fac4-334b723777f2"
      },
      "execution_count": null,
      "outputs": [
        {
          "output_type": "execute_result",
          "data": {
            "text/plain": [
              "     age  sex  cp  trestbps   chol  fbs  restecg  thalach  exang  oldpeak  \\\n",
              "20    59    1   0     135.0  234.0    0        1    161.0      0      0.5   \n",
              "163   38    1   2     138.0  175.0    0        1    173.0      0      0.0   \n",
              "247   66    1   1     160.0  246.0    0        1    120.0      1      0.0   \n",
              "139   64    1   0     128.0  263.0    0        1    105.0      1      0.2   \n",
              "115   37    0   2     120.0  215.0    0        1    170.0      0      0.0   \n",
              "\n",
              "     slope  ca  thal  \n",
              "20       1   0     3  \n",
              "163      2   4     2  \n",
              "247      1   3     1  \n",
              "139      1   1     3  \n",
              "115      2   0     2  "
            ],
            "text/html": [
              "\n",
              "  <div id=\"df-13ae1cfb-6e27-49ce-93b1-84670271b0aa\">\n",
              "    <div class=\"colab-df-container\">\n",
              "      <div>\n",
              "<style scoped>\n",
              "    .dataframe tbody tr th:only-of-type {\n",
              "        vertical-align: middle;\n",
              "    }\n",
              "\n",
              "    .dataframe tbody tr th {\n",
              "        vertical-align: top;\n",
              "    }\n",
              "\n",
              "    .dataframe thead th {\n",
              "        text-align: right;\n",
              "    }\n",
              "</style>\n",
              "<table border=\"1\" class=\"dataframe\">\n",
              "  <thead>\n",
              "    <tr style=\"text-align: right;\">\n",
              "      <th></th>\n",
              "      <th>age</th>\n",
              "      <th>sex</th>\n",
              "      <th>cp</th>\n",
              "      <th>trestbps</th>\n",
              "      <th>chol</th>\n",
              "      <th>fbs</th>\n",
              "      <th>restecg</th>\n",
              "      <th>thalach</th>\n",
              "      <th>exang</th>\n",
              "      <th>oldpeak</th>\n",
              "      <th>slope</th>\n",
              "      <th>ca</th>\n",
              "      <th>thal</th>\n",
              "    </tr>\n",
              "  </thead>\n",
              "  <tbody>\n",
              "    <tr>\n",
              "      <th>20</th>\n",
              "      <td>59</td>\n",
              "      <td>1</td>\n",
              "      <td>0</td>\n",
              "      <td>135.0</td>\n",
              "      <td>234.0</td>\n",
              "      <td>0</td>\n",
              "      <td>1</td>\n",
              "      <td>161.0</td>\n",
              "      <td>0</td>\n",
              "      <td>0.5</td>\n",
              "      <td>1</td>\n",
              "      <td>0</td>\n",
              "      <td>3</td>\n",
              "    </tr>\n",
              "    <tr>\n",
              "      <th>163</th>\n",
              "      <td>38</td>\n",
              "      <td>1</td>\n",
              "      <td>2</td>\n",
              "      <td>138.0</td>\n",
              "      <td>175.0</td>\n",
              "      <td>0</td>\n",
              "      <td>1</td>\n",
              "      <td>173.0</td>\n",
              "      <td>0</td>\n",
              "      <td>0.0</td>\n",
              "      <td>2</td>\n",
              "      <td>4</td>\n",
              "      <td>2</td>\n",
              "    </tr>\n",
              "    <tr>\n",
              "      <th>247</th>\n",
              "      <td>66</td>\n",
              "      <td>1</td>\n",
              "      <td>1</td>\n",
              "      <td>160.0</td>\n",
              "      <td>246.0</td>\n",
              "      <td>0</td>\n",
              "      <td>1</td>\n",
              "      <td>120.0</td>\n",
              "      <td>1</td>\n",
              "      <td>0.0</td>\n",
              "      <td>1</td>\n",
              "      <td>3</td>\n",
              "      <td>1</td>\n",
              "    </tr>\n",
              "    <tr>\n",
              "      <th>139</th>\n",
              "      <td>64</td>\n",
              "      <td>1</td>\n",
              "      <td>0</td>\n",
              "      <td>128.0</td>\n",
              "      <td>263.0</td>\n",
              "      <td>0</td>\n",
              "      <td>1</td>\n",
              "      <td>105.0</td>\n",
              "      <td>1</td>\n",
              "      <td>0.2</td>\n",
              "      <td>1</td>\n",
              "      <td>1</td>\n",
              "      <td>3</td>\n",
              "    </tr>\n",
              "    <tr>\n",
              "      <th>115</th>\n",
              "      <td>37</td>\n",
              "      <td>0</td>\n",
              "      <td>2</td>\n",
              "      <td>120.0</td>\n",
              "      <td>215.0</td>\n",
              "      <td>0</td>\n",
              "      <td>1</td>\n",
              "      <td>170.0</td>\n",
              "      <td>0</td>\n",
              "      <td>0.0</td>\n",
              "      <td>2</td>\n",
              "      <td>0</td>\n",
              "      <td>2</td>\n",
              "    </tr>\n",
              "  </tbody>\n",
              "</table>\n",
              "</div>\n",
              "      <button class=\"colab-df-convert\" onclick=\"convertToInteractive('df-13ae1cfb-6e27-49ce-93b1-84670271b0aa')\"\n",
              "              title=\"Convert this dataframe to an interactive table.\"\n",
              "              style=\"display:none;\">\n",
              "        \n",
              "  <svg xmlns=\"http://www.w3.org/2000/svg\" height=\"24px\"viewBox=\"0 0 24 24\"\n",
              "       width=\"24px\">\n",
              "    <path d=\"M0 0h24v24H0V0z\" fill=\"none\"/>\n",
              "    <path d=\"M18.56 5.44l.94 2.06.94-2.06 2.06-.94-2.06-.94-.94-2.06-.94 2.06-2.06.94zm-11 1L8.5 8.5l.94-2.06 2.06-.94-2.06-.94L8.5 2.5l-.94 2.06-2.06.94zm10 10l.94 2.06.94-2.06 2.06-.94-2.06-.94-.94-2.06-.94 2.06-2.06.94z\"/><path d=\"M17.41 7.96l-1.37-1.37c-.4-.4-.92-.59-1.43-.59-.52 0-1.04.2-1.43.59L10.3 9.45l-7.72 7.72c-.78.78-.78 2.05 0 2.83L4 21.41c.39.39.9.59 1.41.59.51 0 1.02-.2 1.41-.59l7.78-7.78 2.81-2.81c.8-.78.8-2.07 0-2.86zM5.41 20L4 18.59l7.72-7.72 1.47 1.35L5.41 20z\"/>\n",
              "  </svg>\n",
              "      </button>\n",
              "      \n",
              "  <style>\n",
              "    .colab-df-container {\n",
              "      display:flex;\n",
              "      flex-wrap:wrap;\n",
              "      gap: 12px;\n",
              "    }\n",
              "\n",
              "    .colab-df-convert {\n",
              "      background-color: #E8F0FE;\n",
              "      border: none;\n",
              "      border-radius: 50%;\n",
              "      cursor: pointer;\n",
              "      display: none;\n",
              "      fill: #1967D2;\n",
              "      height: 32px;\n",
              "      padding: 0 0 0 0;\n",
              "      width: 32px;\n",
              "    }\n",
              "\n",
              "    .colab-df-convert:hover {\n",
              "      background-color: #E2EBFA;\n",
              "      box-shadow: 0px 1px 2px rgba(60, 64, 67, 0.3), 0px 1px 3px 1px rgba(60, 64, 67, 0.15);\n",
              "      fill: #174EA6;\n",
              "    }\n",
              "\n",
              "    [theme=dark] .colab-df-convert {\n",
              "      background-color: #3B4455;\n",
              "      fill: #D2E3FC;\n",
              "    }\n",
              "\n",
              "    [theme=dark] .colab-df-convert:hover {\n",
              "      background-color: #434B5C;\n",
              "      box-shadow: 0px 1px 3px 1px rgba(0, 0, 0, 0.15);\n",
              "      filter: drop-shadow(0px 1px 2px rgba(0, 0, 0, 0.3));\n",
              "      fill: #FFFFFF;\n",
              "    }\n",
              "  </style>\n",
              "\n",
              "      <script>\n",
              "        const buttonEl =\n",
              "          document.querySelector('#df-13ae1cfb-6e27-49ce-93b1-84670271b0aa button.colab-df-convert');\n",
              "        buttonEl.style.display =\n",
              "          google.colab.kernel.accessAllowed ? 'block' : 'none';\n",
              "\n",
              "        async function convertToInteractive(key) {\n",
              "          const element = document.querySelector('#df-13ae1cfb-6e27-49ce-93b1-84670271b0aa');\n",
              "          const dataTable =\n",
              "            await google.colab.kernel.invokeFunction('convertToInteractive',\n",
              "                                                     [key], {});\n",
              "          if (!dataTable) return;\n",
              "\n",
              "          const docLinkHtml = 'Like what you see? Visit the ' +\n",
              "            '<a target=\"_blank\" href=https://colab.research.google.com/notebooks/data_table.ipynb>data table notebook</a>'\n",
              "            + ' to learn more about interactive tables.';\n",
              "          element.innerHTML = '';\n",
              "          dataTable['output_type'] = 'display_data';\n",
              "          await google.colab.output.renderOutput(dataTable, element);\n",
              "          const docLink = document.createElement('div');\n",
              "          docLink.innerHTML = docLinkHtml;\n",
              "          element.appendChild(docLink);\n",
              "        }\n",
              "      </script>\n",
              "    </div>\n",
              "  </div>\n",
              "  "
            ]
          },
          "metadata": {},
          "execution_count": 35
        }
      ]
    },
    {
      "cell_type": "code",
      "source": [
        "sns.scatterplot(data = train_plot, x=\"chol\", y=\"oldpeak\", hue=\"target\")\n",
        "plt.axhline(train_plot[\"oldpeak\"].mean())\n",
        "plt.axvline(train_plot[\"chol\"].mean())\n",
        "plt.show()"
      ],
      "metadata": {
        "colab": {
          "base_uri": "https://localhost:8080/",
          "height": 279
        },
        "id": "t_5EMEMt7C2U",
        "outputId": "f69fb4f8-c504-47b4-9350-2fe288c3d5f0"
      },
      "execution_count": null,
      "outputs": [
        {
          "output_type": "display_data",
          "data": {
            "text/plain": [
              "<Figure size 432x288 with 1 Axes>"
            ],
            "image/png": "[encoded data removed]"
          },
          "metadata": {
            "needs_background": "light"
          }
        }
      ]
    },
    {
      "cell_type": "code",
      "source": [
        "sns.scatterplot(data = train_scale_plot, x=\"chol\", y=\"oldpeak\", hue=\"target\")\n",
        "plt.axhline(train_scale_plot[\"oldpeak\"].mean(), c='k', lw=2.5)\n",
        "plt.axvline(train_scale_plot[\"chol\"].mean(), c='k', lw=2.5)\n",
        "plt.show()"
      ],
      "metadata": {
        "colab": {
          "base_uri": "https://localhost:8080/",
          "height": 279
        },
        "id": "5_z6zQ0B7fny",
        "outputId": "50e2b2a9-767f-41be-d156-a3d0fa97dcf3"
      },
      "execution_count": null,
      "outputs": [
        {
          "output_type": "display_data",
          "data": {
            "text/plain": [
              "<Figure size 432x288 with 1 Axes>"
            ],
            "image/png": "[encoded data removed]"
          },
          "metadata": {
            "needs_background": "light"
          }
        }
      ]
    },
    {
      "cell_type": "code",
      "source": [
        "fig = plt.figure(figsize=(6,4))\n",
        "sns.distplot(train_plot[\"chol\"], hist = False)\n",
        "sns.distplot(train_plot[\"oldpeak\"], hist = False)\n",
        "\n",
        "fig.legend(labels=[\"chol\",\"oldpeak\"])"
      ],
      "metadata": {
        "colab": {
          "base_uri": "https://localhost:8080/",
          "height": 416
        },
        "id": "gYUBJ_yHDywf",
        "outputId": "a2b3afff-cff5-4a2a-fe05-4c2a8021d7a3"
      },
      "execution_count": null,
      "outputs": [
        {
          "output_type": "stream",
          "name": "stderr",
          "text": [
            "/usr/local/lib/python3.7/dist-packages/seaborn/distributions.py:2619: FutureWarning: `distplot` is a deprecated function and will be removed in a future version. Please adapt your code to use either `displot` (a figure-level function with similar flexibility) or `kdeplot` (an axes-level function for kernel density plots).\n",
            "  warnings.warn(msg, FutureWarning)\n",
            "/usr/local/lib/python3.7/dist-packages/seaborn/distributions.py:2619: FutureWarning: `distplot` is a deprecated function and will be removed in a future version. Please adapt your code to use either `displot` (a figure-level function with similar flexibility) or `kdeplot` (an axes-level function for kernel density plots).\n",
            "  warnings.warn(msg, FutureWarning)\n"
          ]
        },
        {
          "output_type": "execute_result",
          "data": {
            "text/plain": [
              "<matplotlib.legend.Legend at 0x7f712fc64dd0>"
            ]
          },
          "metadata": {},
          "execution_count": 36
        },
        {
          "output_type": "display_data",
          "data": {
            "text/plain": [
              "<Figure size 432x288 with 1 Axes>"
            ],
            "image/png": "[encoded data removed]"
          },
          "metadata": {
            "needs_background": "light"
          }
        }
      ]
    },
    {
      "cell_type": "code",
      "source": [
        "fig = plt.figure(figsize=(6,4))\n",
        "sns.distplot(train_scale_plot[\"chol\"], hist = False)\n",
        "sns.distplot(train_scale_plot[\"oldpeak\"], hist = False)\n",
        "\n",
        "fig.legend(labels=[\"chol\",\"oldpeak\"])"
      ],
      "metadata": {
        "colab": {
          "base_uri": "https://localhost:8080/",
          "height": 416
        },
        "id": "SmlpsG5j_cHU",
        "outputId": "e9b78b36-a842-4483-a5c1-7aa7404dd2cb"
      },
      "execution_count": null,
      "outputs": [
        {
          "output_type": "stream",
          "name": "stderr",
          "text": [
            "/usr/local/lib/python3.7/dist-packages/seaborn/distributions.py:2619: FutureWarning: `distplot` is a deprecated function and will be removed in a future version. Please adapt your code to use either `displot` (a figure-level function with similar flexibility) or `kdeplot` (an axes-level function for kernel density plots).\n",
            "  warnings.warn(msg, FutureWarning)\n",
            "/usr/local/lib/python3.7/dist-packages/seaborn/distributions.py:2619: FutureWarning: `distplot` is a deprecated function and will be removed in a future version. Please adapt your code to use either `displot` (a figure-level function with similar flexibility) or `kdeplot` (an axes-level function for kernel density plots).\n",
            "  warnings.warn(msg, FutureWarning)\n"
          ]
        },
        {
          "output_type": "execute_result",
          "data": {
            "text/plain": [
              "<matplotlib.legend.Legend at 0x7f712fb21c90>"
            ]
          },
          "metadata": {},
          "execution_count": 37
        },
        {
          "output_type": "display_data",
          "data": {
            "text/plain": [
              "<Figure size 432x288 with 1 Axes>"
            ],
            "image/png": "[encoded data removed]"
          },
          "metadata": {
            "needs_background": "light"
          }
        }
      ]
    },
    {
      "cell_type": "code",
      "source": [
        "from sklearn.linear_model import LogisticRegression\n",
        "from sklearn.metrics import accuracy_score\n",
        "\n",
        "# function for comparing different approaches\n",
        "def score_dataset(X_train, X_test, y_train, y_test):\n",
        "    model = LogisticRegression()\n",
        "    model.fit(X_train, y_train)\n",
        "    preds = model.predict(X_test)\n",
        "    return accuracy_score(y_test, preds)"
      ],
      "metadata": {
        "id": "_QzqHUEEtshS"
      },
      "execution_count": null,
      "outputs": []
    },
    {
      "cell_type": "code",
      "source": [
        "score_dataset(X_train, X_test, y_train, y_test)"
      ],
      "metadata": {
        "colab": {
          "base_uri": "https://localhost:8080/"
        },
        "id": "NfZor3z_x1P9",
        "outputId": "a0b0889f-dd7f-4cc7-d80b-73fc498517a5"
      },
      "execution_count": null,
      "outputs": [
        {
          "output_type": "stream",
          "name": "stderr",
          "text": [
            "/usr/local/lib/python3.7/dist-packages/sklearn/linear_model/_logistic.py:818: ConvergenceWarning: lbfgs failed to converge (status=1):\n",
            "STOP: TOTAL NO. of ITERATIONS REACHED LIMIT.\n",
            "\n",
            "Increase the number of iterations (max_iter) or scale the data as shown in:\n",
            "    https://scikit-learn.org/stable/modules/preprocessing.html\n",
            "Please also refer to the documentation for alternative solver options:\n",
            "    https://scikit-learn.org/stable/modules/linear_model.html#logistic-regression\n",
            "  extra_warning_msg=_LOGISTIC_SOLVER_CONVERGENCE_MSG,\n"
          ]
        },
        {
          "output_type": "execute_result",
          "data": {
            "text/plain": [
              "0.8068181818181818"
            ]
          },
          "metadata": {},
          "execution_count": 39
        }
      ]
    },
    {
      "cell_type": "code",
      "source": [
        "score_dataset(X_train_scaled, X_test_scaled, y_train, y_test)"
      ],
      "metadata": {
        "colab": {
          "base_uri": "https://localhost:8080/"
        },
        "id": "J5tRB_vfyJjx",
        "outputId": "5675f081-4a5e-477b-8085-d74b6331b74e"
      },
      "execution_count": null,
      "outputs": [
        {
          "output_type": "execute_result",
          "data": {
            "text/plain": [
              "0.8181818181818182"
            ]
          },
          "metadata": {},
          "execution_count": 40
        }
      ]
    },
    {
      "cell_type": "markdown",
      "source": [
        "# Max-Min Normalization\n",
        "\n",
        "This technique is to re-scales features with a distribution value between 0 and 1. For every feature, the minimum value of that feature gets transformed into 0, and the maximum value gets transformed into 1. The general equation is shown below:\n",
        "\n",
        "<img width = 600 src = https://miro.medium.com/max/1400/1*GwcC80mDUyscDAWtwZSBdA.png />"
      ],
      "metadata": {
        "id": "Mw_yqNGKr8nz"
      }
    },
    {
      "cell_type": "code",
      "source": [
        "from sklearn.preprocessing import MinMaxScaler\n",
        "\n",
        "min_max_scaler = MinMaxScaler()\n",
        "\n",
        "# fit the scaler to the train set\n",
        "min_max_scaler.fit(X_train)\n",
        "\n",
        "# transform train and test sets\n",
        "X_train_scaled = min_max_scaler.transform(X_train)\n",
        "X_test_scaled = min_max_scaler.transform(X_test)\n",
        "\n",
        "X_train_scaled = pd.DataFrame(X_train_scaled, columns = X_train.columns)\n",
        "X_test_scaled = pd.DataFrame(X_test_scaled, columns = X_test.columns)\n",
        "X_train_scaled.head()"
      ],
      "metadata": {
        "id": "Dn60M_3xDu35",
        "colab": {
          "base_uri": "https://localhost:8080/",
          "height": 270
        },
        "outputId": "e90813ac-84d5-484c-835d-fd5d16d54fdd"
      },
      "execution_count": null,
      "outputs": [
        {
          "output_type": "execute_result",
          "data": {
            "text/plain": [
              "        age  sex        cp  trestbps      chol  fbs  restecg   thalach  exang  \\\n",
              "0  0.625000  1.0  0.000000  0.386792  0.246575  0.0      0.5  0.687023    0.0   \n",
              "1  0.187500  1.0  0.666667  0.415094  0.111872  0.0      0.5  0.778626    0.0   \n",
              "2  0.770833  1.0  0.333333  0.622642  0.273973  0.0      0.5  0.374046    1.0   \n",
              "3  0.729167  1.0  0.000000  0.320755  0.312785  0.0      0.5  0.259542    1.0   \n",
              "4  0.166667  0.0  0.666667  0.245283  0.203196  0.0      0.5  0.755725    0.0   \n",
              "\n",
              "    oldpeak  slope    ca      thal  \n",
              "0  0.080645    0.5  0.00  1.000000  \n",
              "1  0.000000    1.0  1.00  0.666667  \n",
              "2  0.000000    0.5  0.75  0.333333  \n",
              "3  0.032258    0.5  0.25  1.000000  \n",
              "4  0.000000    1.0  0.00  0.666667  "
            ],
            "text/html": [
              "\n",
              "  <div id=\"df-d6c037ee-bbfd-457c-941e-6f555d828f96\">\n",
              "    <div class=\"colab-df-container\">\n",
              "      <div>\n",
              "<style scoped>\n",
              "    .dataframe tbody tr th:only-of-type {\n",
              "        vertical-align: middle;\n",
              "    }\n",
              "\n",
              "    .dataframe tbody tr th {\n",
              "        vertical-align: top;\n",
              "    }\n",
              "\n",
              "    .dataframe thead th {\n",
              "        text-align: right;\n",
              "    }\n",
              "</style>\n",
              "<table border=\"1\" class=\"dataframe\">\n",
              "  <thead>\n",
              "    <tr style=\"text-align: right;\">\n",
              "      <th></th>\n",
              "      <th>age</th>\n",
              "      <th>sex</th>\n",
              "      <th>cp</th>\n",
              "      <th>trestbps</th>\n",
              "      <th>chol</th>\n",
              "      <th>fbs</th>\n",
              "      <th>restecg</th>\n",
              "      <th>thalach</th>\n",
              "      <th>exang</th>\n",
              "      <th>oldpeak</th>\n",
              "      <th>slope</th>\n",
              "      <th>ca</th>\n",
              "      <th>thal</th>\n",
              "    </tr>\n",
              "  </thead>\n",
              "  <tbody>\n",
              "    <tr>\n",
              "      <th>0</th>\n",
              "      <td>0.625000</td>\n",
              "      <td>1.0</td>\n",
              "      <td>0.000000</td>\n",
              "      <td>0.386792</td>\n",
              "      <td>0.246575</td>\n",
              "      <td>0.0</td>\n",
              "      <td>0.5</td>\n",
              "      <td>0.687023</td>\n",
              "      <td>0.0</td>\n",
              "      <td>0.080645</td>\n",
              "      <td>0.5</td>\n",
              "      <td>0.00</td>\n",
              "      <td>1.000000</td>\n",
              "    </tr>\n",
              "    <tr>\n",
              "      <th>1</th>\n",
              "      <td>0.187500</td>\n",
              "      <td>1.0</td>\n",
              "      <td>0.666667</td>\n",
              "      <td>0.415094</td>\n",
              "      <td>0.111872</td>\n",
              "      <td>0.0</td>\n",
              "      <td>0.5</td>\n",
              "      <td>0.778626</td>\n",
              "      <td>0.0</td>\n",
              "      <td>0.000000</td>\n",
              "      <td>1.0</td>\n",
              "      <td>1.00</td>\n",
              "      <td>0.666667</td>\n",
              "    </tr>\n",
              "    <tr>\n",
              "      <th>2</th>\n",
              "      <td>0.770833</td>\n",
              "      <td>1.0</td>\n",
              "      <td>0.333333</td>\n",
              "      <td>0.622642</td>\n",
              "      <td>0.273973</td>\n",
              "      <td>0.0</td>\n",
              "      <td>0.5</td>\n",
              "      <td>0.374046</td>\n",
              "      <td>1.0</td>\n",
              "      <td>0.000000</td>\n",
              "      <td>0.5</td>\n",
              "      <td>0.75</td>\n",
              "      <td>0.333333</td>\n",
              "    </tr>\n",
              "    <tr>\n",
              "      <th>3</th>\n",
              "      <td>0.729167</td>\n",
              "      <td>1.0</td>\n",
              "      <td>0.000000</td>\n",
              "      <td>0.320755</td>\n",
              "      <td>0.312785</td>\n",
              "      <td>0.0</td>\n",
              "      <td>0.5</td>\n",
              "      <td>0.259542</td>\n",
              "      <td>1.0</td>\n",
              "      <td>0.032258</td>\n",
              "      <td>0.5</td>\n",
              "      <td>0.25</td>\n",
              "      <td>1.000000</td>\n",
              "    </tr>\n",
              "    <tr>\n",
              "      <th>4</th>\n",
              "      <td>0.166667</td>\n",
              "      <td>0.0</td>\n",
              "      <td>0.666667</td>\n",
              "      <td>0.245283</td>\n",
              "      <td>0.203196</td>\n",
              "      <td>0.0</td>\n",
              "      <td>0.5</td>\n",
              "      <td>0.755725</td>\n",
              "      <td>0.0</td>\n",
              "      <td>0.000000</td>\n",
              "      <td>1.0</td>\n",
              "      <td>0.00</td>\n",
              "      <td>0.666667</td>\n",
              "    </tr>\n",
              "  </tbody>\n",
              "</table>\n",
              "</div>\n",
              "      <button class=\"colab-df-convert\" onclick=\"convertToInteractive('df-d6c037ee-bbfd-457c-941e-6f555d828f96')\"\n",
              "              title=\"Convert this dataframe to an interactive table.\"\n",
              "              style=\"display:none;\">\n",
              "        \n",
              "  <svg xmlns=\"http://www.w3.org/2000/svg\" height=\"24px\"viewBox=\"0 0 24 24\"\n",
              "       width=\"24px\">\n",
              "    <path d=\"M0 0h24v24H0V0z\" fill=\"none\"/>\n",
              "    <path d=\"M18.56 5.44l.94 2.06.94-2.06 2.06-.94-2.06-.94-.94-2.06-.94 2.06-2.06.94zm-11 1L8.5 8.5l.94-2.06 2.06-.94-2.06-.94L8.5 2.5l-.94 2.06-2.06.94zm10 10l.94 2.06.94-2.06 2.06-.94-2.06-.94-.94-2.06-.94 2.06-2.06.94z\"/><path d=\"M17.41 7.96l-1.37-1.37c-.4-.4-.92-.59-1.43-.59-.52 0-1.04.2-1.43.59L10.3 9.45l-7.72 7.72c-.78.78-.78 2.05 0 2.83L4 21.41c.39.39.9.59 1.41.59.51 0 1.02-.2 1.41-.59l7.78-7.78 2.81-2.81c.8-.78.8-2.07 0-2.86zM5.41 20L4 18.59l7.72-7.72 1.47 1.35L5.41 20z\"/>\n",
              "  </svg>\n",
              "      </button>\n",
              "      \n",
              "  <style>\n",
              "    .colab-df-container {\n",
              "      display:flex;\n",
              "      flex-wrap:wrap;\n",
              "      gap: 12px;\n",
              "    }\n",
              "\n",
              "    .colab-df-convert {\n",
              "      background-color: #E8F0FE;\n",
              "      border: none;\n",
              "      border-radius: 50%;\n",
              "      cursor: pointer;\n",
              "      display: none;\n",
              "      fill: #1967D2;\n",
              "      height: 32px;\n",
              "      padding: 0 0 0 0;\n",
              "      width: 32px;\n",
              "    }\n",
              "\n",
              "    .colab-df-convert:hover {\n",
              "      background-color: #E2EBFA;\n",
              "      box-shadow: 0px 1px 2px rgba(60, 64, 67, 0.3), 0px 1px 3px 1px rgba(60, 64, 67, 0.15);\n",
              "      fill: #174EA6;\n",
              "    }\n",
              "\n",
              "    [theme=dark] .colab-df-convert {\n",
              "      background-color: #3B4455;\n",
              "      fill: #D2E3FC;\n",
              "    }\n",
              "\n",
              "    [theme=dark] .colab-df-convert:hover {\n",
              "      background-color: #434B5C;\n",
              "      box-shadow: 0px 1px 3px 1px rgba(0, 0, 0, 0.15);\n",
              "      filter: drop-shadow(0px 1px 2px rgba(0, 0, 0, 0.3));\n",
              "      fill: #FFFFFF;\n",
              "    }\n",
              "  </style>\n",
              "\n",
              "      <script>\n",
              "        const buttonEl =\n",
              "          document.querySelector('#df-d6c037ee-bbfd-457c-941e-6f555d828f96 button.colab-df-convert');\n",
              "        buttonEl.style.display =\n",
              "          google.colab.kernel.accessAllowed ? 'block' : 'none';\n",
              "\n",
              "        async function convertToInteractive(key) {\n",
              "          const element = document.querySelector('#df-d6c037ee-bbfd-457c-941e-6f555d828f96');\n",
              "          const dataTable =\n",
              "            await google.colab.kernel.invokeFunction('convertToInteractive',\n",
              "                                                     [key], {});\n",
              "          if (!dataTable) return;\n",
              "\n",
              "          const docLinkHtml = 'Like what you see? Visit the ' +\n",
              "            '<a target=\"_blank\" href=https://colab.research.google.com/notebooks/data_table.ipynb>data table notebook</a>'\n",
              "            + ' to learn more about interactive tables.';\n",
              "          element.innerHTML = '';\n",
              "          dataTable['output_type'] = 'display_data';\n",
              "          await google.colab.output.renderOutput(dataTable, element);\n",
              "          const docLink = document.createElement('div');\n",
              "          docLink.innerHTML = docLinkHtml;\n",
              "          element.appendChild(docLink);\n",
              "        }\n",
              "      </script>\n",
              "    </div>\n",
              "  </div>\n",
              "  "
            ]
          },
          "metadata": {},
          "execution_count": 41
        }
      ]
    },
    {
      "cell_type": "code",
      "source": [
        "X_train_scaled.describe()"
      ],
      "metadata": {
        "colab": {
          "base_uri": "https://localhost:8080/",
          "height": 364
        },
        "id": "cF35rgv7AnIM",
        "outputId": "48c2f8c9-380e-47dc-8280-7df69a212014"
      },
      "execution_count": null,
      "outputs": [
        {
          "output_type": "execute_result",
          "data": {
            "text/plain": [
              "              age         sex          cp    trestbps        chol         fbs  \\\n",
              "count  205.000000  205.000000  205.000000  205.000000  205.000000  205.000000   \n",
              "mean     0.523171    0.682927    0.326829    0.347952    0.269685    0.156098   \n",
              "std      0.193654    0.466475    0.342935    0.157488    0.114718    0.363836   \n",
              "min      0.000000    0.000000    0.000000    0.000000    0.000000    0.000000   \n",
              "25%      0.354167    0.000000    0.000000    0.245283    0.187215    0.000000   \n",
              "50%      0.541667    1.000000    0.333333    0.339623    0.262557    0.000000   \n",
              "75%      0.666667    1.000000    0.666667    0.433962    0.331050    0.000000   \n",
              "max      1.000000    1.000000    1.000000    1.000000    1.000000    1.000000   \n",
              "\n",
              "          restecg     thalach       exang     oldpeak       slope          ca  \\\n",
              "count  205.000000  205.000000  205.000000  205.000000  205.000000  205.000000   \n",
              "mean     0.273171    0.609421    0.307317    0.152242    0.724390    0.184146   \n",
              "std      0.259169    0.167944    0.462511    0.180598    0.302587    0.259486   \n",
              "min      0.000000    0.000000    0.000000    0.000000    0.000000    0.000000   \n",
              "25%      0.000000    0.526718    0.000000    0.000000    0.500000    0.000000   \n",
              "50%      0.500000    0.633588    0.000000    0.096774    1.000000    0.000000   \n",
              "75%      0.500000    0.740458    1.000000    0.258065    1.000000    0.250000   \n",
              "max      1.000000    1.000000    1.000000    1.000000    1.000000    1.000000   \n",
              "\n",
              "             thal  \n",
              "count  205.000000  \n",
              "mean     0.778862  \n",
              "std      0.197721  \n",
              "min      0.000000  \n",
              "25%      0.666667  \n",
              "50%      0.666667  \n",
              "75%      1.000000  \n",
              "max      1.000000  "
            ],
            "text/html": [
              "\n",
              "  <div id=\"df-561ec2b8-e9cb-4508-95f1-0552e21aaff6\">\n",
              "    <div class=\"colab-df-container\">\n",
              "      <div>\n",
              "<style scoped>\n",
              "    .dataframe tbody tr th:only-of-type {\n",
              "        vertical-align: middle;\n",
              "    }\n",
              "\n",
              "    .dataframe tbody tr th {\n",
              "        vertical-align: top;\n",
              "    }\n",
              "\n",
              "    .dataframe thead th {\n",
              "        text-align: right;\n",
              "    }\n",
              "</style>\n",
              "<table border=\"1\" class=\"dataframe\">\n",
              "  <thead>\n",
              "    <tr style=\"text-align: right;\">\n",
              "      <th></th>\n",
              "      <th>age</th>\n",
              "      <th>sex</th>\n",
              "      <th>cp</th>\n",
              "      <th>trestbps</th>\n",
              "      <th>chol</th>\n",
              "      <th>fbs</th>\n",
              "      <th>restecg</th>\n",
              "      <th>thalach</th>\n",
              "      <th>exang</th>\n",
              "      <th>oldpeak</th>\n",
              "      <th>slope</th>\n",
              "      <th>ca</th>\n",
              "      <th>thal</th>\n",
              "    </tr>\n",
              "  </thead>\n",
              "  <tbody>\n",
              "    <tr>\n",
              "      <th>count</th>\n",
              "      <td>205.000000</td>\n",
              "      <td>205.000000</td>\n",
              "      <td>205.000000</td>\n",
              "      <td>205.000000</td>\n",
              "      <td>205.000000</td>\n",
              "      <td>205.000000</td>\n",
              "      <td>205.000000</td>\n",
              "      <td>205.000000</td>\n",
              "      <td>205.000000</td>\n",
              "      <td>205.000000</td>\n",
              "      <td>205.000000</td>\n",
              "      <td>205.000000</td>\n",
              "      <td>205.000000</td>\n",
              "    </tr>\n",
              "    <tr>\n",
              "      <th>mean</th>\n",
              "      <td>0.523171</td>\n",
              "      <td>0.682927</td>\n",
              "      <td>0.326829</td>\n",
              "      <td>0.347952</td>\n",
              "      <td>0.269685</td>\n",
              "      <td>0.156098</td>\n",
              "      <td>0.273171</td>\n",
              "      <td>0.609421</td>\n",
              "      <td>0.307317</td>\n",
              "      <td>0.152242</td>\n",
              "      <td>0.724390</td>\n",
              "      <td>0.184146</td>\n",
              "      <td>0.778862</td>\n",
              "    </tr>\n",
              "    <tr>\n",
              "      <th>std</th>\n",
              "      <td>0.193654</td>\n",
              "      <td>0.466475</td>\n",
              "      <td>0.342935</td>\n",
              "      <td>0.157488</td>\n",
              "      <td>0.114718</td>\n",
              "      <td>0.363836</td>\n",
              "      <td>0.259169</td>\n",
              "      <td>0.167944</td>\n",
              "      <td>0.462511</td>\n",
              "      <td>0.180598</td>\n",
              "      <td>0.302587</td>\n",
              "      <td>0.259486</td>\n",
              "      <td>0.197721</td>\n",
              "    </tr>\n",
              "    <tr>\n",
              "      <th>min</th>\n",
              "      <td>0.000000</td>\n",
              "      <td>0.000000</td>\n",
              "      <td>0.000000</td>\n",
              "      <td>0.000000</td>\n",
              "      <td>0.000000</td>\n",
              "      <td>0.000000</td>\n",
              "      <td>0.000000</td>\n",
              "      <td>0.000000</td>\n",
              "      <td>0.000000</td>\n",
              "      <td>0.000000</td>\n",
              "      <td>0.000000</td>\n",
              "      <td>0.000000</td>\n",
              "      <td>0.000000</td>\n",
              "    </tr>\n",
              "    <tr>\n",
              "      <th>25%</th>\n",
              "      <td>0.354167</td>\n",
              "      <td>0.000000</td>\n",
              "      <td>0.000000</td>\n",
              "      <td>0.245283</td>\n",
              "      <td>0.187215</td>\n",
              "      <td>0.000000</td>\n",
              "      <td>0.000000</td>\n",
              "      <td>0.526718</td>\n",
              "      <td>0.000000</td>\n",
              "      <td>0.000000</td>\n",
              "      <td>0.500000</td>\n",
              "      <td>0.000000</td>\n",
              "      <td>0.666667</td>\n",
              "    </tr>\n",
              "    <tr>\n",
              "      <th>50%</th>\n",
              "      <td>0.541667</td>\n",
              "      <td>1.000000</td>\n",
              "      <td>0.333333</td>\n",
              "      <td>0.339623</td>\n",
              "      <td>0.262557</td>\n",
              "      <td>0.000000</td>\n",
              "      <td>0.500000</td>\n",
              "      <td>0.633588</td>\n",
              "      <td>0.000000</td>\n",
              "      <td>0.096774</td>\n",
              "      <td>1.000000</td>\n",
              "      <td>0.000000</td>\n",
              "      <td>0.666667</td>\n",
              "    </tr>\n",
              "    <tr>\n",
              "      <th>75%</th>\n",
              "      <td>0.666667</td>\n",
              "      <td>1.000000</td>\n",
              "      <td>0.666667</td>\n",
              "      <td>0.433962</td>\n",
              "      <td>0.331050</td>\n",
              "      <td>0.000000</td>\n",
              "      <td>0.500000</td>\n",
              "      <td>0.740458</td>\n",
              "      <td>1.000000</td>\n",
              "      <td>0.258065</td>\n",
              "      <td>1.000000</td>\n",
              "      <td>0.250000</td>\n",
              "      <td>1.000000</td>\n",
              "    </tr>\n",
              "    <tr>\n",
              "      <th>max</th>\n",
              "      <td>1.000000</td>\n",
              "      <td>1.000000</td>\n",
              "      <td>1.000000</td>\n",
              "      <td>1.000000</td>\n",
              "      <td>1.000000</td>\n",
              "      <td>1.000000</td>\n",
              "      <td>1.000000</td>\n",
              "      <td>1.000000</td>\n",
              "      <td>1.000000</td>\n",
              "      <td>1.000000</td>\n",
              "      <td>1.000000</td>\n",
              "      <td>1.000000</td>\n",
              "      <td>1.000000</td>\n",
              "    </tr>\n",
              "  </tbody>\n",
              "</table>\n",
              "</div>\n",
              "      <button class=\"colab-df-convert\" onclick=\"convertToInteractive('df-561ec2b8-e9cb-4508-95f1-0552e21aaff6')\"\n",
              "              title=\"Convert this dataframe to an interactive table.\"\n",
              "              style=\"display:none;\">\n",
              "        \n",
              "  <svg xmlns=\"http://www.w3.org/2000/svg\" height=\"24px\"viewBox=\"0 0 24 24\"\n",
              "       width=\"24px\">\n",
              "    <path d=\"M0 0h24v24H0V0z\" fill=\"none\"/>\n",
              "    <path d=\"M18.56 5.44l.94 2.06.94-2.06 2.06-.94-2.06-.94-.94-2.06-.94 2.06-2.06.94zm-11 1L8.5 8.5l.94-2.06 2.06-.94-2.06-.94L8.5 2.5l-.94 2.06-2.06.94zm10 10l.94 2.06.94-2.06 2.06-.94-2.06-.94-.94-2.06-.94 2.06-2.06.94z\"/><path d=\"M17.41 7.96l-1.37-1.37c-.4-.4-.92-.59-1.43-.59-.52 0-1.04.2-1.43.59L10.3 9.45l-7.72 7.72c-.78.78-.78 2.05 0 2.83L4 21.41c.39.39.9.59 1.41.59.51 0 1.02-.2 1.41-.59l7.78-7.78 2.81-2.81c.8-.78.8-2.07 0-2.86zM5.41 20L4 18.59l7.72-7.72 1.47 1.35L5.41 20z\"/>\n",
              "  </svg>\n",
              "      </button>\n",
              "      \n",
              "  <style>\n",
              "    .colab-df-container {\n",
              "      display:flex;\n",
              "      flex-wrap:wrap;\n",
              "      gap: 12px;\n",
              "    }\n",
              "\n",
              "    .colab-df-convert {\n",
              "      background-color: #E8F0FE;\n",
              "      border: none;\n",
              "      border-radius: 50%;\n",
              "      cursor: pointer;\n",
              "      display: none;\n",
              "      fill: #1967D2;\n",
              "      height: 32px;\n",
              "      padding: 0 0 0 0;\n",
              "      width: 32px;\n",
              "    }\n",
              "\n",
              "    .colab-df-convert:hover {\n",
              "      background-color: #E2EBFA;\n",
              "      box-shadow: 0px 1px 2px rgba(60, 64, 67, 0.3), 0px 1px 3px 1px rgba(60, 64, 67, 0.15);\n",
              "      fill: #174EA6;\n",
              "    }\n",
              "\n",
              "    [theme=dark] .colab-df-convert {\n",
              "      background-color: #3B4455;\n",
              "      fill: #D2E3FC;\n",
              "    }\n",
              "\n",
              "    [theme=dark] .colab-df-convert:hover {\n",
              "      background-color: #434B5C;\n",
              "      box-shadow: 0px 1px 3px 1px rgba(0, 0, 0, 0.15);\n",
              "      filter: drop-shadow(0px 1px 2px rgba(0, 0, 0, 0.3));\n",
              "      fill: #FFFFFF;\n",
              "    }\n",
              "  </style>\n",
              "\n",
              "      <script>\n",
              "        const buttonEl =\n",
              "          document.querySelector('#df-561ec2b8-e9cb-4508-95f1-0552e21aaff6 button.colab-df-convert');\n",
              "        buttonEl.style.display =\n",
              "          google.colab.kernel.accessAllowed ? 'block' : 'none';\n",
              "\n",
              "        async function convertToInteractive(key) {\n",
              "          const element = document.querySelector('#df-561ec2b8-e9cb-4508-95f1-0552e21aaff6');\n",
              "          const dataTable =\n",
              "            await google.colab.kernel.invokeFunction('convertToInteractive',\n",
              "                                                     [key], {});\n",
              "          if (!dataTable) return;\n",
              "\n",
              "          const docLinkHtml = 'Like what you see? Visit the ' +\n",
              "            '<a target=\"_blank\" href=https://colab.research.google.com/notebooks/data_table.ipynb>data table notebook</a>'\n",
              "            + ' to learn more about interactive tables.';\n",
              "          element.innerHTML = '';\n",
              "          dataTable['output_type'] = 'display_data';\n",
              "          await google.colab.output.renderOutput(dataTable, element);\n",
              "          const docLink = document.createElement('div');\n",
              "          docLink.innerHTML = docLinkHtml;\n",
              "          element.appendChild(docLink);\n",
              "        }\n",
              "      </script>\n",
              "    </div>\n",
              "  </div>\n",
              "  "
            ]
          },
          "metadata": {},
          "execution_count": 42
        }
      ]
    },
    {
      "cell_type": "code",
      "source": [
        "train_scale_plot = X_train_scaled.copy()\n",
        "train_scale_plot[\"target\"] = y_train\n",
        "test_scale_plot = X_test_scaled.copy()\n",
        "test_scale_plot[\"target\"] = y_test\n",
        "train_scale_plot.head(2), test_scale_plot.head(2)"
      ],
      "metadata": {
        "colab": {
          "base_uri": "https://localhost:8080/"
        },
        "id": "G2N6mXt3A_Tp",
        "outputId": "57c9a1a6-b653-4938-c020-33f2cc042206"
      },
      "execution_count": null,
      "outputs": [
        {
          "output_type": "execute_result",
          "data": {
            "text/plain": [
              "(      age  sex        cp  trestbps      chol  fbs  restecg   thalach  exang  \\\n",
              " 0  0.6250  1.0  0.000000  0.386792  0.246575  0.0      0.5  0.687023    0.0   \n",
              " 1  0.1875  1.0  0.666667  0.415094  0.111872  0.0      0.5  0.778626    0.0   \n",
              " \n",
              "     oldpeak  slope   ca      thal  target  \n",
              " 0  0.080645    0.5  0.0  1.000000       1  \n",
              " 1  0.000000    1.0  1.0  0.666667       1  ,\n",
              "         age  sex        cp  trestbps      chol  fbs  restecg   thalach  exang  \\\n",
              " 0  0.729167  1.0  0.000000  0.245283  0.273973  0.0      0.0  0.190840    1.0   \n",
              " 1  0.791667  1.0  0.666667  0.547170  0.196347  0.0      0.0  0.603053    0.0   \n",
              " \n",
              "     oldpeak  slope    ca      thal  target  \n",
              " 0  0.354839    0.0  0.25  0.666667       0  \n",
              " 1  0.129032    0.5  0.00  1.000000       0  )"
            ]
          },
          "metadata": {},
          "execution_count": 43
        }
      ]
    },
    {
      "cell_type": "code",
      "source": [
        "sns.scatterplot(data = train_plot, x=\"chol\", y=\"oldpeak\", hue=\"target\")\n",
        "plt.axhline(train_plot[\"oldpeak\"].mean())\n",
        "plt.axvline(train_plot[\"chol\"].mean())\n",
        "plt.show()"
      ],
      "metadata": {
        "colab": {
          "base_uri": "https://localhost:8080/",
          "height": 279
        },
        "id": "5rEO4tefAyPE",
        "outputId": "7b9d437c-ea61-45a8-ab1f-eaf63dbb79e0"
      },
      "execution_count": null,
      "outputs": [
        {
          "output_type": "display_data",
          "data": {
            "text/plain": [
              "<Figure size 432x288 with 1 Axes>"
            ],
            "image/png": "[encoded data removed]"
          },
          "metadata": {
            "needs_background": "light"
          }
        }
      ]
    },
    {
      "cell_type": "code",
      "source": [
        "sns.scatterplot(data = train_scale_plot, x=\"chol\", y=\"oldpeak\", hue=\"target\")\n",
        "plt.axhline(train_scale_plot[\"oldpeak\"].mean(), c='k', lw=2.5)\n",
        "plt.axvline(train_scale_plot[\"chol\"].mean(), c='k', lw=2.5)\n",
        "plt.show()"
      ],
      "metadata": {
        "colab": {
          "base_uri": "https://localhost:8080/",
          "height": 279
        },
        "id": "fJ7HbRT8BMTL",
        "outputId": "443d9ec9-3056-40da-861b-acf626bff98b"
      },
      "execution_count": null,
      "outputs": [
        {
          "output_type": "display_data",
          "data": {
            "text/plain": [
              "<Figure size 432x288 with 1 Axes>"
            ],
            "image/png": "[encoded data removed]"
          },
          "metadata": {
            "needs_background": "light"
          }
        }
      ]
    },
    {
      "cell_type": "code",
      "source": [
        "fig = plt.figure(figsize=(6,4))\n",
        "sns.distplot(train_plot[\"chol\"], hist = False)\n",
        "sns.distplot(train_plot[\"oldpeak\"], hist = False)\n",
        "\n",
        "fig.legend(labels=[\"chol\",\"oldpeak\"])"
      ],
      "metadata": {
        "colab": {
          "base_uri": "https://localhost:8080/",
          "height": 416
        },
        "id": "IRu-99pOBXpx",
        "outputId": "3d5c345c-af1f-4a4e-d99e-28868630d7f9"
      },
      "execution_count": null,
      "outputs": [
        {
          "output_type": "stream",
          "name": "stderr",
          "text": [
            "/usr/local/lib/python3.7/dist-packages/seaborn/distributions.py:2619: FutureWarning: `distplot` is a deprecated function and will be removed in a future version. Please adapt your code to use either `displot` (a figure-level function with similar flexibility) or `kdeplot` (an axes-level function for kernel density plots).\n",
            "  warnings.warn(msg, FutureWarning)\n",
            "/usr/local/lib/python3.7/dist-packages/seaborn/distributions.py:2619: FutureWarning: `distplot` is a deprecated function and will be removed in a future version. Please adapt your code to use either `displot` (a figure-level function with similar flexibility) or `kdeplot` (an axes-level function for kernel density plots).\n",
            "  warnings.warn(msg, FutureWarning)\n"
          ]
        },
        {
          "output_type": "execute_result",
          "data": {
            "text/plain": [
              "<matplotlib.legend.Legend at 0x7f712f23a3d0>"
            ]
          },
          "metadata": {},
          "execution_count": 46
        },
        {
          "output_type": "display_data",
          "data": {
            "text/plain": [
              "<Figure size 432x288 with 1 Axes>"
            ],
            "image/png": "[encoded data removed]"
          },
          "metadata": {
            "needs_background": "light"
          }
        }
      ]
    },
    {
      "cell_type": "code",
      "source": [
        "fig = plt.figure(figsize=(6,4))\n",
        "sns.distplot(train_scale_plot[\"chol\"], hist = False)\n",
        "sns.distplot(train_scale_plot[\"oldpeak\"], hist = False)\n",
        "\n",
        "fig.legend(labels=[\"chol\",\"oldpeak\"])"
      ],
      "metadata": {
        "colab": {
          "base_uri": "https://localhost:8080/",
          "height": 416
        },
        "id": "8hODqSMyBfRG",
        "outputId": "56ca8239-7bf0-4d8e-8e1d-45940ca8c63d"
      },
      "execution_count": null,
      "outputs": [
        {
          "output_type": "stream",
          "name": "stderr",
          "text": [
            "/usr/local/lib/python3.7/dist-packages/seaborn/distributions.py:2619: FutureWarning: `distplot` is a deprecated function and will be removed in a future version. Please adapt your code to use either `displot` (a figure-level function with similar flexibility) or `kdeplot` (an axes-level function for kernel density plots).\n",
            "  warnings.warn(msg, FutureWarning)\n",
            "/usr/local/lib/python3.7/dist-packages/seaborn/distributions.py:2619: FutureWarning: `distplot` is a deprecated function and will be removed in a future version. Please adapt your code to use either `displot` (a figure-level function with similar flexibility) or `kdeplot` (an axes-level function for kernel density plots).\n",
            "  warnings.warn(msg, FutureWarning)\n"
          ]
        },
        {
          "output_type": "execute_result",
          "data": {
            "text/plain": [
              "<matplotlib.legend.Legend at 0x7f712c8e5f90>"
            ]
          },
          "metadata": {},
          "execution_count": 47
        },
        {
          "output_type": "display_data",
          "data": {
            "text/plain": [
              "<Figure size 432x288 with 1 Axes>"
            ],
            "image/png": "[encoded data removed]"
          },
          "metadata": {
            "needs_background": "light"
          }
        }
      ]
    },
    {
      "cell_type": "markdown",
      "source": [
        "![image.png](data:image/png;base64,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)"
      ],
      "metadata": {
        "id": "hIaX4PpzBzOT"
      }
    },
    {
      "cell_type": "code",
      "source": [
        "score_dataset(X_train_scaled, X_test_scaled, y_train, y_test)"
      ],
      "metadata": {
        "colab": {
          "base_uri": "https://localhost:8080/"
        },
        "id": "8s6AQ7B6CKnG",
        "outputId": "7212598a-ded2-40bb-84e3-e87160dbe720"
      },
      "execution_count": null,
      "outputs": [
        {
          "output_type": "execute_result",
          "data": {
            "text/plain": [
              "0.8068181818181818"
            ]
          },
          "metadata": {},
          "execution_count": 48
        }
      ]
    },
    {
      "cell_type": "markdown",
      "source": [
        "## Max Absolute Scaling\n",
        "\n",
        "Maximum absolute scaling scales the data to its maximum value; that is, it divides every observation by the maximum value of the variable\n",
        "\n",
        "<img width = 400 src = https://miro.medium.com/max/233/1*qa_W9JzNscAXpTtc44yhow.png />"
      ],
      "metadata": {
        "id": "Z-6ltrCGEgbp"
      }
    },
    {
      "cell_type": "markdown",
      "source": [
        "## Robust Scaler\n",
        "\n",
        "It scales features using statistics that are robust to outliers. This method removes the median and scales the data in the range between 1st quartile and 3rd quartile. i.e., in between 25th quantile and 75th quantile range. This range is also called an Interquartile range.\n",
        "\n",
        " If outliers are present in the dataset, then the median and the interquartile range provide better results and outperform the sample mean and variance.\n",
        " \n",
        "<img width = 600 src = https://d2mk45aasx86xg.cloudfront.net/image7_11zon_fb087c1656.webp />"
      ],
      "metadata": {
        "id": "pLBMJlrODutR"
      }
    },
    {
      "cell_type": "markdown",
      "source": [
        "max absolute scalling - https://scikit-learn.org/stable/modules/generated/sklearn.preprocessing.MaxAbsScaler.html\n",
        "\n",
        "Robust scalling - https://scikit-learn.org/stable/modules/generated/sklearn.preprocessing.RobustScaler.html#:~:text=Scale%20features%20using%20statistics%20that,3rd%20quartile%20(75th%20quantile)."
      ],
      "metadata": {
        "id": "a82X4C0_CLVo"
      }
    },
    {
      "cell_type": "markdown",
      "source": [
        "Below are some basic tips that you can use while trying to scale:\n",
        "1. If you do not know which scaler to use, apply all and check the effect on the models.\n",
        "2. If you do not understand the data, use standard scaler. It works most of the times.\n",
        "3. If you know the max and min values of the feature, then use min max scaler. Like in CNN.\n",
        "4. If most of the values in the feature column is 0 or sparce matrix, then use Max Absolute Scaling\n",
        "5. If the data has outliers, use Robust Scaling.\n"
      ],
      "metadata": {
        "id": "m2f13bT61nZs"
      }
    },
    {
      "cell_type": "markdown",
      "source": [
        "![inbox_2175703_cc4d46b6bb4a14ae085b9db28ad8b8f4_FeatureScaling_ML.jpg](data:image/jpeg;base64,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)"
      ],
      "metadata": {
        "id": "SA0H38C3ksrx"
      }
    }
  ]
}