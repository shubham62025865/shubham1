{
  "nbformat": 4,
  "nbformat_minor": 0,
  "metadata": {
    "colab": {
      "provenance": [],
      "include_colab_link": true
    },
    "kernelspec": {
      "name": "python3",
      "display_name": "Python 3"
    },
    "language_info": {
      "name": "python"
    }
  },
  "cells": [
    {
      "cell_type": "markdown",
      "metadata": {
        "id": "view-in-github",
        "colab_type": "text"
      },
      "source": [
        "<a href=\"https://colab.research.google.com/github/shubham62025865/shubham1/blob/main/Linear_regression.ipynb\" target=\"_parent\"><img src=\"https://colab.research.google.com/assets/colab-badge.svg\" alt=\"Open In Colab\"/></a>"
      ]
    },
    {
      "cell_type": "markdown",
      "source": [
        "# Linear Regression\n",
        "\n",
        "<img src = https://miro.medium.com/max/720/1*G1Y_-X14q2xMVHlUuaUUdA.png />"
      ],
      "metadata": {
        "id": "RWmJSvuGt_s0"
      }
    },
    {
      "cell_type": "markdown",
      "source": [
        "Linear regression is a basic predictive analytics technique that uses historical data to predict an output variable. It is popular for predictive modelling because it is easily understood and can be explained using plain English.\n",
        "\n",
        "Understanding how to implement linear regression models can unearth stories in data to solve important problems.\n",
        "\n",
        "The basic idea is that if we can fit a linear regression model to observed data, we can then use the model to predict any future values. For example, let’s assume that we have found from historical data that the price (P) of a house is linearly dependent upon its size (S) — in fact, we found that a house’s price is exactly 90 times its size. The equation will look like this:\n",
        "\n",
        "P = 90*S\n",
        "\n",
        "With this model, we can then predict the cost of any house. If we have a house that is 1,500 square feet, we can calculate its price to be:\n",
        "\n",
        "P = 90*1500 = $135,000"
      ],
      "metadata": {
        "id": "kla4T0uquL5m"
      }
    },
    {
      "cell_type": "markdown",
      "source": [
        "## Basic concepts and mathematics\n",
        "There are two kinds of variables in a linear regression model:\n",
        "\n",
        "- The input or predictor variable is the variable(s) that help predict the value of the output variable. It is commonly referred to as X.\n",
        "- The output variable is the variable that we want to predict. It is commonly referred to as Y.\n",
        "To estimate Y using linear regression, we assume the equation:\n",
        "\n",
        "      Yₑ = α + β X\n",
        "\n",
        "where Yₑ is the estimated or predicted value of Y based on our linear equation.\n",
        "\n",
        "Our goal is to find statistically significant values of the parameters α and β that minimise the difference between Y and Yₑ.\n",
        "\n",
        "If we are able to determine the optimum values of these two parameters, then we will have the line of best fit that we can use to predict the values of Y, given the value of X.\n",
        "\n",
        "So, how do we estimate α and β? We can use a method called ordinary least squares.\n",
        "\n",
        "## Ordinary Least Squares\n",
        "\n",
        "<img width = 400 src = https://miro.medium.com/max/882/1*2VBMHbTdBI4cNozHhpTa0Q.png />\n",
        "\n",
        "\n",
        "The objective of the least squares method is to find values of α and β that minimise the sum of the squared difference between Y and Yₑ. We will not go through the derivation here, but using calculus we can show that the values of the unknown parameters are as follows:\n",
        "\n",
        "![image.png](data:image/png;base64,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)\n",
        "\n",
        "where X̄ is the mean of X values and Ȳ is the mean of Y values."
      ],
      "metadata": {
        "id": "IjY1QxEd1sEY"
      }
    },
    {
      "cell_type": "code",
      "execution_count": null,
      "metadata": {
        "id": "UdB7j1ZArRDN"
      },
      "outputs": [],
      "source": [
        "import pandas as pd\n",
        "import numpy as np\n",
        "import matplotlib.pyplot as plt\n",
        "import seaborn as sns"
      ]
    },
    {
      "cell_type": "markdown",
      "source": [
        "Dataset - https://www.kaggle.com/datasets/bumba5341/advertisingcsv"
      ],
      "metadata": {
        "id": "Y7Dixr9MtK18"
      }
    },
    {
      "cell_type": "code",
      "source": [
        "df = pd.read_csv(\"/content/Advertising.csv\")\n",
        "df.head()"
      ],
      "metadata": {
        "colab": {
          "base_uri": "https://localhost:8080/",
          "height": 206
        },
        "id": "jjdD_AkdtNCZ",
        "outputId": "9fc88111-354e-4aba-b8c0-cdb5147e30a0"
      },
      "execution_count": null,
      "outputs": [
        {
          "output_type": "execute_result",
          "data": {
            "text/plain": [
              "   Unnamed: 0     TV  Radio  Newspaper  Sales\n",
              "0           1  230.1   37.8       69.2   22.1\n",
              "1           2   44.5   39.3       45.1   10.4\n",
              "2           3   17.2   45.9       69.3    9.3\n",
              "3           4  151.5   41.3       58.5   18.5\n",
              "4           5  180.8   10.8       58.4   12.9"
            ],
            "text/html": [
              "\n",
              "  <div id=\"df-186aaa01-4a5b-4c3e-a729-3e45baf1b031\">\n",
              "    <div class=\"colab-df-container\">\n",
              "      <div>\n",
              "<style scoped>\n",
              "    .dataframe tbody tr th:only-of-type {\n",
              "        vertical-align: middle;\n",
              "    }\n",
              "\n",
              "    .dataframe tbody tr th {\n",
              "        vertical-align: top;\n",
              "    }\n",
              "\n",
              "    .dataframe thead th {\n",
              "        text-align: right;\n",
              "    }\n",
              "</style>\n",
              "<table border=\"1\" class=\"dataframe\">\n",
              "  <thead>\n",
              "    <tr style=\"text-align: right;\">\n",
              "      <th></th>\n",
              "      <th>Unnamed: 0</th>\n",
              "      <th>TV</th>\n",
              "      <th>Radio</th>\n",
              "      <th>Newspaper</th>\n",
              "      <th>Sales</th>\n",
              "    </tr>\n",
              "  </thead>\n",
              "  <tbody>\n",
              "    <tr>\n",
              "      <th>0</th>\n",
              "      <td>1</td>\n",
              "      <td>230.1</td>\n",
              "      <td>37.8</td>\n",
              "      <td>69.2</td>\n",
              "      <td>22.1</td>\n",
              "    </tr>\n",
              "    <tr>\n",
              "      <th>1</th>\n",
              "      <td>2</td>\n",
              "      <td>44.5</td>\n",
              "      <td>39.3</td>\n",
              "      <td>45.1</td>\n",
              "      <td>10.4</td>\n",
              "    </tr>\n",
              "    <tr>\n",
              "      <th>2</th>\n",
              "      <td>3</td>\n",
              "      <td>17.2</td>\n",
              "      <td>45.9</td>\n",
              "      <td>69.3</td>\n",
              "      <td>9.3</td>\n",
              "    </tr>\n",
              "    <tr>\n",
              "      <th>3</th>\n",
              "      <td>4</td>\n",
              "      <td>151.5</td>\n",
              "      <td>41.3</td>\n",
              "      <td>58.5</td>\n",
              "      <td>18.5</td>\n",
              "    </tr>\n",
              "    <tr>\n",
              "      <th>4</th>\n",
              "      <td>5</td>\n",
              "      <td>180.8</td>\n",
              "      <td>10.8</td>\n",
              "      <td>58.4</td>\n",
              "      <td>12.9</td>\n",
              "    </tr>\n",
              "  </tbody>\n",
              "</table>\n",
              "</div>\n",
              "      <button class=\"colab-df-convert\" onclick=\"convertToInteractive('df-186aaa01-4a5b-4c3e-a729-3e45baf1b031')\"\n",
              "              title=\"Convert this dataframe to an interactive table.\"\n",
              "              style=\"display:none;\">\n",
              "        \n",
              "  <svg xmlns=\"http://www.w3.org/2000/svg\" height=\"24px\"viewBox=\"0 0 24 24\"\n",
              "       width=\"24px\">\n",
              "    <path d=\"M0 0h24v24H0V0z\" fill=\"none\"/>\n",
              "    <path d=\"M18.56 5.44l.94 2.06.94-2.06 2.06-.94-2.06-.94-.94-2.06-.94 2.06-2.06.94zm-11 1L8.5 8.5l.94-2.06 2.06-.94-2.06-.94L8.5 2.5l-.94 2.06-2.06.94zm10 10l.94 2.06.94-2.06 2.06-.94-2.06-.94-.94-2.06-.94 2.06-2.06.94z\"/><path d=\"M17.41 7.96l-1.37-1.37c-.4-.4-.92-.59-1.43-.59-.52 0-1.04.2-1.43.59L10.3 9.45l-7.72 7.72c-.78.78-.78 2.05 0 2.83L4 21.41c.39.39.9.59 1.41.59.51 0 1.02-.2 1.41-.59l7.78-7.78 2.81-2.81c.8-.78.8-2.07 0-2.86zM5.41 20L4 18.59l7.72-7.72 1.47 1.35L5.41 20z\"/>\n",
              "  </svg>\n",
              "      </button>\n",
              "      \n",
              "  <style>\n",
              "    .colab-df-container {\n",
              "      display:flex;\n",
              "      flex-wrap:wrap;\n",
              "      gap: 12px;\n",
              "    }\n",
              "\n",
              "    .colab-df-convert {\n",
              "      background-color: #E8F0FE;\n",
              "      border: none;\n",
              "      border-radius: 50%;\n",
              "      cursor: pointer;\n",
              "      display: none;\n",
              "      fill: #1967D2;\n",
              "      height: 32px;\n",
              "      padding: 0 0 0 0;\n",
              "      width: 32px;\n",
              "    }\n",
              "\n",
              "    .colab-df-convert:hover {\n",
              "      background-color: #E2EBFA;\n",
              "      box-shadow: 0px 1px 2px rgba(60, 64, 67, 0.3), 0px 1px 3px 1px rgba(60, 64, 67, 0.15);\n",
              "      fill: #174EA6;\n",
              "    }\n",
              "\n",
              "    [theme=dark] .colab-df-convert {\n",
              "      background-color: #3B4455;\n",
              "      fill: #D2E3FC;\n",
              "    }\n",
              "\n",
              "    [theme=dark] .colab-df-convert:hover {\n",
              "      background-color: #434B5C;\n",
              "      box-shadow: 0px 1px 3px 1px rgba(0, 0, 0, 0.15);\n",
              "      filter: drop-shadow(0px 1px 2px rgba(0, 0, 0, 0.3));\n",
              "      fill: #FFFFFF;\n",
              "    }\n",
              "  </style>\n",
              "\n",
              "      <script>\n",
              "        const buttonEl =\n",
              "          document.querySelector('#df-186aaa01-4a5b-4c3e-a729-3e45baf1b031 button.colab-df-convert');\n",
              "        buttonEl.style.display =\n",
              "          google.colab.kernel.accessAllowed ? 'block' : 'none';\n",
              "\n",
              "        async function convertToInteractive(key) {\n",
              "          const element = document.querySelector('#df-186aaa01-4a5b-4c3e-a729-3e45baf1b031');\n",
              "          const dataTable =\n",
              "            await google.colab.kernel.invokeFunction('convertToInteractive',\n",
              "                                                     [key], {});\n",
              "          if (!dataTable) return;\n",
              "\n",
              "          const docLinkHtml = 'Like what you see? Visit the ' +\n",
              "            '<a target=\"_blank\" href=https://colab.research.google.com/notebooks/data_table.ipynb>data table notebook</a>'\n",
              "            + ' to learn more about interactive tables.';\n",
              "          element.innerHTML = '';\n",
              "          dataTable['output_type'] = 'display_data';\n",
              "          await google.colab.output.renderOutput(dataTable, element);\n",
              "          const docLink = document.createElement('div');\n",
              "          docLink.innerHTML = docLinkHtml;\n",
              "          element.appendChild(docLink);\n",
              "        }\n",
              "      </script>\n",
              "    </div>\n",
              "  </div>\n",
              "  "
            ]
          },
          "metadata": {},
          "execution_count": 2
        }
      ]
    },
    {
      "cell_type": "code",
      "source": [
        "df.drop(columns = [\"Unnamed: 0\"], inplace = True)\n",
        "df.head()"
      ],
      "metadata": {
        "colab": {
          "base_uri": "https://localhost:8080/",
          "height": 206
        },
        "id": "l7jNyen-tcoK",
        "outputId": "aa8a0fed-dfba-4c37-a16b-46f832369fd4"
      },
      "execution_count": null,
      "outputs": [
        {
          "output_type": "execute_result",
          "data": {
            "text/plain": [
              "      TV  Radio  Newspaper  Sales\n",
              "0  230.1   37.8       69.2   22.1\n",
              "1   44.5   39.3       45.1   10.4\n",
              "2   17.2   45.9       69.3    9.3\n",
              "3  151.5   41.3       58.5   18.5\n",
              "4  180.8   10.8       58.4   12.9"
            ],
            "text/html": [
              "\n",
              "  <div id=\"df-47bda04e-8352-4034-8670-c526c3c36d2a\">\n",
              "    <div class=\"colab-df-container\">\n",
              "      <div>\n",
              "<style scoped>\n",
              "    .dataframe tbody tr th:only-of-type {\n",
              "        vertical-align: middle;\n",
              "    }\n",
              "\n",
              "    .dataframe tbody tr th {\n",
              "        vertical-align: top;\n",
              "    }\n",
              "\n",
              "    .dataframe thead th {\n",
              "        text-align: right;\n",
              "    }\n",
              "</style>\n",
              "<table border=\"1\" class=\"dataframe\">\n",
              "  <thead>\n",
              "    <tr style=\"text-align: right;\">\n",
              "      <th></th>\n",
              "      <th>TV</th>\n",
              "      <th>Radio</th>\n",
              "      <th>Newspaper</th>\n",
              "      <th>Sales</th>\n",
              "    </tr>\n",
              "  </thead>\n",
              "  <tbody>\n",
              "    <tr>\n",
              "      <th>0</th>\n",
              "      <td>230.1</td>\n",
              "      <td>37.8</td>\n",
              "      <td>69.2</td>\n",
              "      <td>22.1</td>\n",
              "    </tr>\n",
              "    <tr>\n",
              "      <th>1</th>\n",
              "      <td>44.5</td>\n",
              "      <td>39.3</td>\n",
              "      <td>45.1</td>\n",
              "      <td>10.4</td>\n",
              "    </tr>\n",
              "    <tr>\n",
              "      <th>2</th>\n",
              "      <td>17.2</td>\n",
              "      <td>45.9</td>\n",
              "      <td>69.3</td>\n",
              "      <td>9.3</td>\n",
              "    </tr>\n",
              "    <tr>\n",
              "      <th>3</th>\n",
              "      <td>151.5</td>\n",
              "      <td>41.3</td>\n",
              "      <td>58.5</td>\n",
              "      <td>18.5</td>\n",
              "    </tr>\n",
              "    <tr>\n",
              "      <th>4</th>\n",
              "      <td>180.8</td>\n",
              "      <td>10.8</td>\n",
              "      <td>58.4</td>\n",
              "      <td>12.9</td>\n",
              "    </tr>\n",
              "  </tbody>\n",
              "</table>\n",
              "</div>\n",
              "      <button class=\"colab-df-convert\" onclick=\"convertToInteractive('df-47bda04e-8352-4034-8670-c526c3c36d2a')\"\n",
              "              title=\"Convert this dataframe to an interactive table.\"\n",
              "              style=\"display:none;\">\n",
              "        \n",
              "  <svg xmlns=\"http://www.w3.org/2000/svg\" height=\"24px\"viewBox=\"0 0 24 24\"\n",
              "       width=\"24px\">\n",
              "    <path d=\"M0 0h24v24H0V0z\" fill=\"none\"/>\n",
              "    <path d=\"M18.56 5.44l.94 2.06.94-2.06 2.06-.94-2.06-.94-.94-2.06-.94 2.06-2.06.94zm-11 1L8.5 8.5l.94-2.06 2.06-.94-2.06-.94L8.5 2.5l-.94 2.06-2.06.94zm10 10l.94 2.06.94-2.06 2.06-.94-2.06-.94-.94-2.06-.94 2.06-2.06.94z\"/><path d=\"M17.41 7.96l-1.37-1.37c-.4-.4-.92-.59-1.43-.59-.52 0-1.04.2-1.43.59L10.3 9.45l-7.72 7.72c-.78.78-.78 2.05 0 2.83L4 21.41c.39.39.9.59 1.41.59.51 0 1.02-.2 1.41-.59l7.78-7.78 2.81-2.81c.8-.78.8-2.07 0-2.86zM5.41 20L4 18.59l7.72-7.72 1.47 1.35L5.41 20z\"/>\n",
              "  </svg>\n",
              "      </button>\n",
              "      \n",
              "  <style>\n",
              "    .colab-df-container {\n",
              "      display:flex;\n",
              "      flex-wrap:wrap;\n",
              "      gap: 12px;\n",
              "    }\n",
              "\n",
              "    .colab-df-convert {\n",
              "      background-color: #E8F0FE;\n",
              "      border: none;\n",
              "      border-radius: 50%;\n",
              "      cursor: pointer;\n",
              "      display: none;\n",
              "      fill: #1967D2;\n",
              "      height: 32px;\n",
              "      padding: 0 0 0 0;\n",
              "      width: 32px;\n",
              "    }\n",
              "\n",
              "    .colab-df-convert:hover {\n",
              "      background-color: #E2EBFA;\n",
              "      box-shadow: 0px 1px 2px rgba(60, 64, 67, 0.3), 0px 1px 3px 1px rgba(60, 64, 67, 0.15);\n",
              "      fill: #174EA6;\n",
              "    }\n",
              "\n",
              "    [theme=dark] .colab-df-convert {\n",
              "      background-color: #3B4455;\n",
              "      fill: #D2E3FC;\n",
              "    }\n",
              "\n",
              "    [theme=dark] .colab-df-convert:hover {\n",
              "      background-color: #434B5C;\n",
              "      box-shadow: 0px 1px 3px 1px rgba(0, 0, 0, 0.15);\n",
              "      filter: drop-shadow(0px 1px 2px rgba(0, 0, 0, 0.3));\n",
              "      fill: #FFFFFF;\n",
              "    }\n",
              "  </style>\n",
              "\n",
              "      <script>\n",
              "        const buttonEl =\n",
              "          document.querySelector('#df-47bda04e-8352-4034-8670-c526c3c36d2a button.colab-df-convert');\n",
              "        buttonEl.style.display =\n",
              "          google.colab.kernel.accessAllowed ? 'block' : 'none';\n",
              "\n",
              "        async function convertToInteractive(key) {\n",
              "          const element = document.querySelector('#df-47bda04e-8352-4034-8670-c526c3c36d2a');\n",
              "          const dataTable =\n",
              "            await google.colab.kernel.invokeFunction('convertToInteractive',\n",
              "                                                     [key], {});\n",
              "          if (!dataTable) return;\n",
              "\n",
              "          const docLinkHtml = 'Like what you see? Visit the ' +\n",
              "            '<a target=\"_blank\" href=https://colab.research.google.com/notebooks/data_table.ipynb>data table notebook</a>'\n",
              "            + ' to learn more about interactive tables.';\n",
              "          element.innerHTML = '';\n",
              "          dataTable['output_type'] = 'display_data';\n",
              "          await google.colab.output.renderOutput(dataTable, element);\n",
              "          const docLink = document.createElement('div');\n",
              "          docLink.innerHTML = docLinkHtml;\n",
              "          element.appendChild(docLink);\n",
              "        }\n",
              "      </script>\n",
              "    </div>\n",
              "  </div>\n",
              "  "
            ]
          },
          "metadata": {},
          "execution_count": 3
        }
      ]
    },
    {
      "cell_type": "code",
      "source": [],
      "metadata": {
        "id": "z1VQcebI5d3g"
      },
      "execution_count": null,
      "outputs": []
    },
    {
      "cell_type": "markdown",
      "source": [
        "We will only be looking at the TV variable in this example — we will explore whether TV advertising spending can predict the number of sales for the product."
      ],
      "metadata": {
        "id": "6WoY5D5L5eXV"
      }
    },
    {
      "cell_type": "code",
      "source": [
        "from sklearn.linear_model import LinearRegression"
      ],
      "metadata": {
        "id": "nUvxdVhVtxWQ"
      },
      "execution_count": null,
      "outputs": []
    },
    {
      "cell_type": "code",
      "source": [
        "X = df[[\"TV\"]]\n",
        "y = df[\"Sales\"]"
      ],
      "metadata": {
        "id": "0lbXfeN25AdH"
      },
      "execution_count": null,
      "outputs": []
    },
    {
      "cell_type": "code",
      "source": [
        "y"
      ],
      "metadata": {
        "colab": {
          "base_uri": "https://localhost:8080/"
        },
        "id": "m4J5kG-dZJyR",
        "outputId": "eaf1bc5e-550c-409e-fb45-39158d01a1ae"
      },
      "execution_count": null,
      "outputs": [
        {
          "output_type": "execute_result",
          "data": {
            "text/plain": [
              "0      22.1\n",
              "1      10.4\n",
              "2       9.3\n",
              "3      18.5\n",
              "4      12.9\n",
              "       ... \n",
              "195     7.6\n",
              "196     9.7\n",
              "197    12.8\n",
              "198    25.5\n",
              "199    13.4\n",
              "Name: Sales, Length: 200, dtype: float64"
            ]
          },
          "metadata": {},
          "execution_count": 7
        }
      ]
    },
    {
      "cell_type": "code",
      "source": [
        "lr = LinearRegression()"
      ],
      "metadata": {
        "id": "ic9ZIm-45qmL"
      },
      "execution_count": null,
      "outputs": []
    },
    {
      "cell_type": "code",
      "source": [
        "model = lr.fit(X,y)\n"
      ],
      "metadata": {
        "id": "cLIvLcSI6BUS"
      },
      "execution_count": null,
      "outputs": []
    },
    {
      "cell_type": "code",
      "source": [
        "model.score(X,y)"
      ],
      "metadata": {
        "colab": {
          "base_uri": "https://localhost:8080/"
        },
        "id": "GO3RTJJM-EAs",
        "outputId": "a467e856-2f78-42af-e427-78247ce97354"
      },
      "execution_count": null,
      "outputs": [
        {
          "output_type": "execute_result",
          "data": {
            "text/plain": [
              "0.611875050850071"
            ]
          },
          "metadata": {},
          "execution_count": 10
        }
      ]
    },
    {
      "cell_type": "code",
      "source": [
        "model.intercept_"
      ],
      "metadata": {
        "colab": {
          "base_uri": "https://localhost:8080/"
        },
        "id": "AdtI4fWlZ3z7",
        "outputId": "bf052a30-e024-438e-8451-a5ccc6d8d531"
      },
      "execution_count": null,
      "outputs": [
        {
          "output_type": "execute_result",
          "data": {
            "text/plain": [
              "7.032593549127695"
            ]
          },
          "metadata": {},
          "execution_count": 11
        }
      ]
    },
    {
      "cell_type": "code",
      "source": [
        "model.coef_"
      ],
      "metadata": {
        "colab": {
          "base_uri": "https://localhost:8080/"
        },
        "id": "R3Xp5gGVaAEp",
        "outputId": "f876d802-4f44-454b-e630-af6d42827909"
      },
      "execution_count": null,
      "outputs": [
        {
          "output_type": "execute_result",
          "data": {
            "text/plain": [
              "array([0.04753664])"
            ]
          },
          "metadata": {},
          "execution_count": 13
        }
      ]
    },
    {
      "cell_type": "code",
      "source": [
        "model.predict([[14]])"
      ],
      "metadata": {
        "colab": {
          "base_uri": "https://localhost:8080/"
        },
        "id": "zzqxgy-cairu",
        "outputId": "65c9f727-51cc-4fc5-9a7f-79e6aed6ec02"
      },
      "execution_count": null,
      "outputs": [
        {
          "output_type": "stream",
          "name": "stderr",
          "text": [
            "/usr/local/lib/python3.9/dist-packages/sklearn/base.py:439: UserWarning: X does not have valid feature names, but LinearRegression was fitted with feature names\n",
            "  warnings.warn(\n"
          ]
        },
        {
          "output_type": "execute_result",
          "data": {
            "text/plain": [
              "array([7.69810652])"
            ]
          },
          "metadata": {},
          "execution_count": 19
        }
      ]
    },
    {
      "cell_type": "code",
      "source": [
        "y = 7.032593549127695 + 0.04753664 * 100\n",
        "y"
      ],
      "metadata": {
        "colab": {
          "base_uri": "https://localhost:8080/"
        },
        "id": "dfXxrxgRaKCR",
        "outputId": "95b7a708-7542-4196-ebf7-d7bb75dda1dd"
      },
      "execution_count": null,
      "outputs": [
        {
          "output_type": "execute_result",
          "data": {
            "text/plain": [
              "11.786257549127694"
            ]
          },
          "metadata": {},
          "execution_count": 21
        }
      ]
    },
    {
      "cell_type": "code",
      "source": [
        "print(f'alpha = {model.intercept_}')\n",
        "print(f'betas = {model.coef_}')"
      ],
      "metadata": {
        "colab": {
          "base_uri": "https://localhost:8080/"
        },
        "id": "Y3-Frciy-awS",
        "outputId": "4864052c-fd89-4c16-cdab-b679aad75e54"
      },
      "execution_count": null,
      "outputs": [
        {
          "output_type": "stream",
          "name": "stdout",
          "text": [
            "alpha = 9.311638095158283\n",
            "betas = [0.20249578]\n"
          ]
        }
      ]
    },
    {
      "cell_type": "markdown",
      "source": [
        "- Thus, the equation for the model will be: Sales = 7.032 + 0.047*TV\n",
        "\n",
        "- In plain English, this means that, on average, if we spent $100 on TV advertising, we should expect to sell 11.73 units."
      ],
      "metadata": {
        "id": "oTg3r57D-1eA"
      }
    },
    {
      "cell_type": "code",
      "source": [
        "# Predict values\n",
        "sales_pred = model.predict(X)\n",
        "\n",
        "# Plot regression against actual data\n",
        "plt.figure(figsize=(8, 4))\n",
        "plt.plot(df['TV'], df['Sales'], 'o')           # scatter plot showing actual data\n",
        "plt.plot(df['TV'], sales_pred, 'r', linewidth=2)   # regression line\n",
        "plt.xlabel('TV Advertising Costs')\n",
        "plt.ylabel('Sales')\n",
        "plt.title('TV vs Sales')\n",
        "\n",
        "plt.show()"
      ],
      "metadata": {
        "colab": {
          "base_uri": "https://localhost:8080/",
          "height": 410
        },
        "id": "AC6eD7S1-nbp",
        "outputId": "2d287983-ff81-4c2e-b0e0-ec5159ce70f1"
      },
      "execution_count": null,
      "outputs": [
        {
          "output_type": "display_data",
          "data": {
            "text/plain": [
              "<Figure size 800x400 with 1 Axes>"
            ],
            "image/png": "[encoded data removed]"
          },
          "metadata": {}
        }
      ]
    },
    {
      "cell_type": "code",
      "source": [
        "df.columns"
      ],
      "metadata": {
        "colab": {
          "base_uri": "https://localhost:8080/"
        },
        "id": "8dAXr4XOcrcy",
        "outputId": "ed1bbb74-5688-47cb-d2f7-bb3224803e38"
      },
      "execution_count": null,
      "outputs": [
        {
          "output_type": "execute_result",
          "data": {
            "text/plain": [
              "Index(['TV', 'Radio', 'Newspaper', 'Sales'], dtype='object')"
            ]
          },
          "metadata": {},
          "execution_count": 25
        }
      ]
    },
    {
      "cell_type": "code",
      "source": [
        "plt.scatter(df[\"Newspaper\"], df[\"Sales\"])"
      ],
      "metadata": {
        "colab": {
          "base_uri": "https://localhost:8080/",
          "height": 447
        },
        "id": "IbYKiFm9cc_g",
        "outputId": "fdecc6a8-a63d-4640-e469-1823f0a08f39"
      },
      "execution_count": null,
      "outputs": [
        {
          "output_type": "execute_result",
          "data": {
            "text/plain": [
              "<matplotlib.collections.PathCollection at 0x7f87245facd0>"
            ]
          },
          "metadata": {},
          "execution_count": 28
        },
        {
          "output_type": "display_data",
          "data": {
            "text/plain": [
              "<Figure size 640x480 with 1 Axes>"
            ],
            "image/png": "[encoded data removed]"
          },
          "metadata": {}
        }
      ]
    },
    {
      "cell_type": "code",
      "source": [
        "plt.scatter(df[\"Radio\"], df[\"Sales\"])"
      ],
      "metadata": {
        "colab": {
          "base_uri": "https://localhost:8080/",
          "height": 447
        },
        "id": "tCvZHw57dB1f",
        "outputId": "3dbb767b-3ef0-4594-80ce-64e7d92c04e9"
      },
      "execution_count": null,
      "outputs": [
        {
          "output_type": "execute_result",
          "data": {
            "text/plain": [
              "<matplotlib.collections.PathCollection at 0x7f8723fb66a0>"
            ]
          },
          "metadata": {},
          "execution_count": 29
        },
        {
          "output_type": "display_data",
          "data": {
            "text/plain": [
              "<Figure size 640x480 with 1 Axes>"
            ],
            "image/png": "[encoded data removed]"
          },
          "metadata": {}
        }
      ]
    },
    {
      "cell_type": "code",
      "source": [
        "model.predict([[800]])"
      ],
      "metadata": {
        "colab": {
          "base_uri": "https://localhost:8080/"
        },
        "id": "8FbmjCpj_Xqo",
        "outputId": "85489177-70f7-4ae6-ed4c-619dc7cd16f8"
      },
      "execution_count": null,
      "outputs": [
        {
          "output_type": "stream",
          "name": "stderr",
          "text": [
            "/usr/local/lib/python3.7/dist-packages/sklearn/base.py:451: UserWarning: X does not have valid feature names, but LinearRegression was fitted with feature names\n",
            "  \"X does not have valid feature names, but\"\n"
          ]
        },
        {
          "output_type": "execute_result",
          "data": {
            "text/plain": [
              "array([45.0619059])"
            ]
          },
          "metadata": {},
          "execution_count": 12
        }
      ]
    },
    {
      "cell_type": "markdown",
      "source": [
        "## Multiple Linear Regression\n",
        "\n",
        "Yₑ = α + β₁X₁ + β₂X₂ + … + βₚXₚ, where p is the number of predictors.\n",
        "\n",
        "In our example, we will be predicting Sales using the variables TV and Radio i.e. our model can be written as:\n",
        "\n",
        "Sales = α + β₁*TV + β₂*Radio."
      ],
      "metadata": {
        "id": "95r7gCkL_4Ru"
      }
    },
    {
      "cell_type": "code",
      "source": [
        "X = df[[\"TV\",\"Radio\"]]\n",
        "y = df[\"Sales\"]\n",
        "model_mlr = LinearRegression().fit(X,y)"
      ],
      "metadata": {
        "id": "sWdPp9k5ACTP"
      },
      "execution_count": null,
      "outputs": []
    },
    {
      "cell_type": "code",
      "source": [
        "print(f'alpha = {model_mlr.intercept_}')\n",
        "print(f'betas = {model_mlr.coef_}')"
      ],
      "metadata": {
        "colab": {
          "base_uri": "https://localhost:8080/"
        },
        "id": "Lj9tvzsgA9zl",
        "outputId": "22e9e9cb-8c0e-42f4-ff80-9e44c86b0070"
      },
      "execution_count": null,
      "outputs": [
        {
          "output_type": "stream",
          "name": "stdout",
          "text": [
            "alpha = 2.9210999124051362\n",
            "betas = [0.04575482 0.18799423]\n"
          ]
        }
      ]
    },
    {
      "cell_type": "markdown",
      "source": [
        "Therefore, our model can be written as:\n",
        "\n",
        "    Sales = 2.921 + 0.046*TV + 0.1880*Radio."
      ],
      "metadata": {
        "id": "66uCrU2QBKcM"
      }
    },
    {
      "cell_type": "code",
      "source": [
        "model_mlr.score(X,y)"
      ],
      "metadata": {
        "colab": {
          "base_uri": "https://localhost:8080/"
        },
        "id": "S5IJ3PoWe1w9",
        "outputId": "a9e7ae5b-7072-4671-c062-b9a9b4c71297"
      },
      "execution_count": null,
      "outputs": [
        {
          "output_type": "execute_result",
          "data": {
            "text/plain": [
              "0.8971942610828957"
            ]
          },
          "metadata": {},
          "execution_count": 34
        }
      ]
    },
    {
      "cell_type": "code",
      "source": [
        "X"
      ],
      "metadata": {
        "colab": {
          "base_uri": "https://localhost:8080/",
          "height": 424
        },
        "id": "8Qg2OdhN-IoU",
        "outputId": "9bf92fcd-f78b-4762-e3b2-cc645dea5892"
      },
      "execution_count": null,
      "outputs": [
        {
          "output_type": "execute_result",
          "data": {
            "text/plain": [
              "        TV  Radio\n",
              "0    230.1   37.8\n",
              "1     44.5   39.3\n",
              "2     17.2   45.9\n",
              "3    151.5   41.3\n",
              "4    180.8   10.8\n",
              "..     ...    ...\n",
              "195   38.2    3.7\n",
              "196   94.2    4.9\n",
              "197  177.0    9.3\n",
              "198  283.6   42.0\n",
              "199  232.1    8.6\n",
              "\n",
              "[200 rows x 2 columns]"
            ],
            "text/html": [
              "\n",
              "  <div id=\"df-c066d704-2de8-4d08-9a54-0c9b1c916581\">\n",
              "    <div class=\"colab-df-container\">\n",
              "      <div>\n",
              "<style scoped>\n",
              "    .dataframe tbody tr th:only-of-type {\n",
              "        vertical-align: middle;\n",
              "    }\n",
              "\n",
              "    .dataframe tbody tr th {\n",
              "        vertical-align: top;\n",
              "    }\n",
              "\n",
              "    .dataframe thead th {\n",
              "        text-align: right;\n",
              "    }\n",
              "</style>\n",
              "<table border=\"1\" class=\"dataframe\">\n",
              "  <thead>\n",
              "    <tr style=\"text-align: right;\">\n",
              "      <th></th>\n",
              "      <th>TV</th>\n",
              "      <th>Radio</th>\n",
              "    </tr>\n",
              "  </thead>\n",
              "  <tbody>\n",
              "    <tr>\n",
              "      <th>0</th>\n",
              "      <td>230.1</td>\n",
              "      <td>37.8</td>\n",
              "    </tr>\n",
              "    <tr>\n",
              "      <th>1</th>\n",
              "      <td>44.5</td>\n",
              "      <td>39.3</td>\n",
              "    </tr>\n",
              "    <tr>\n",
              "      <th>2</th>\n",
              "      <td>17.2</td>\n",
              "      <td>45.9</td>\n",
              "    </tr>\n",
              "    <tr>\n",
              "      <th>3</th>\n",
              "      <td>151.5</td>\n",
              "      <td>41.3</td>\n",
              "    </tr>\n",
              "    <tr>\n",
              "      <th>4</th>\n",
              "      <td>180.8</td>\n",
              "      <td>10.8</td>\n",
              "    </tr>\n",
              "    <tr>\n",
              "      <th>...</th>\n",
              "      <td>...</td>\n",
              "      <td>...</td>\n",
              "    </tr>\n",
              "    <tr>\n",
              "      <th>195</th>\n",
              "      <td>38.2</td>\n",
              "      <td>3.7</td>\n",
              "    </tr>\n",
              "    <tr>\n",
              "      <th>196</th>\n",
              "      <td>94.2</td>\n",
              "      <td>4.9</td>\n",
              "    </tr>\n",
              "    <tr>\n",
              "      <th>197</th>\n",
              "      <td>177.0</td>\n",
              "      <td>9.3</td>\n",
              "    </tr>\n",
              "    <tr>\n",
              "      <th>198</th>\n",
              "      <td>283.6</td>\n",
              "      <td>42.0</td>\n",
              "    </tr>\n",
              "    <tr>\n",
              "      <th>199</th>\n",
              "      <td>232.1</td>\n",
              "      <td>8.6</td>\n",
              "    </tr>\n",
              "  </tbody>\n",
              "</table>\n",
              "<p>200 rows × 2 columns</p>\n",
              "</div>\n",
              "      <button class=\"colab-df-convert\" onclick=\"convertToInteractive('df-c066d704-2de8-4d08-9a54-0c9b1c916581')\"\n",
              "              title=\"Convert this dataframe to an interactive table.\"\n",
              "              style=\"display:none;\">\n",
              "        \n",
              "  <svg xmlns=\"http://www.w3.org/2000/svg\" height=\"24px\"viewBox=\"0 0 24 24\"\n",
              "       width=\"24px\">\n",
              "    <path d=\"M0 0h24v24H0V0z\" fill=\"none\"/>\n",
              "    <path d=\"M18.56 5.44l.94 2.06.94-2.06 2.06-.94-2.06-.94-.94-2.06-.94 2.06-2.06.94zm-11 1L8.5 8.5l.94-2.06 2.06-.94-2.06-.94L8.5 2.5l-.94 2.06-2.06.94zm10 10l.94 2.06.94-2.06 2.06-.94-2.06-.94-.94-2.06-.94 2.06-2.06.94z\"/><path d=\"M17.41 7.96l-1.37-1.37c-.4-.4-.92-.59-1.43-.59-.52 0-1.04.2-1.43.59L10.3 9.45l-7.72 7.72c-.78.78-.78 2.05 0 2.83L4 21.41c.39.39.9.59 1.41.59.51 0 1.02-.2 1.41-.59l7.78-7.78 2.81-2.81c.8-.78.8-2.07 0-2.86zM5.41 20L4 18.59l7.72-7.72 1.47 1.35L5.41 20z\"/>\n",
              "  </svg>\n",
              "      </button>\n",
              "      \n",
              "  <style>\n",
              "    .colab-df-container {\n",
              "      display:flex;\n",
              "      flex-wrap:wrap;\n",
              "      gap: 12px;\n",
              "    }\n",
              "\n",
              "    .colab-df-convert {\n",
              "      background-color: #E8F0FE;\n",
              "      border: none;\n",
              "      border-radius: 50%;\n",
              "      cursor: pointer;\n",
              "      display: none;\n",
              "      fill: #1967D2;\n",
              "      height: 32px;\n",
              "      padding: 0 0 0 0;\n",
              "      width: 32px;\n",
              "    }\n",
              "\n",
              "    .colab-df-convert:hover {\n",
              "      background-color: #E2EBFA;\n",
              "      box-shadow: 0px 1px 2px rgba(60, 64, 67, 0.3), 0px 1px 3px 1px rgba(60, 64, 67, 0.15);\n",
              "      fill: #174EA6;\n",
              "    }\n",
              "\n",
              "    [theme=dark] .colab-df-convert {\n",
              "      background-color: #3B4455;\n",
              "      fill: #D2E3FC;\n",
              "    }\n",
              "\n",
              "    [theme=dark] .colab-df-convert:hover {\n",
              "      background-color: #434B5C;\n",
              "      box-shadow: 0px 1px 3px 1px rgba(0, 0, 0, 0.15);\n",
              "      filter: drop-shadow(0px 1px 2px rgba(0, 0, 0, 0.3));\n",
              "      fill: #FFFFFF;\n",
              "    }\n",
              "  </style>\n",
              "\n",
              "      <script>\n",
              "        const buttonEl =\n",
              "          document.querySelector('#df-c066d704-2de8-4d08-9a54-0c9b1c916581 button.colab-df-convert');\n",
              "        buttonEl.style.display =\n",
              "          google.colab.kernel.accessAllowed ? 'block' : 'none';\n",
              "\n",
              "        async function convertToInteractive(key) {\n",
              "          const element = document.querySelector('#df-c066d704-2de8-4d08-9a54-0c9b1c916581');\n",
              "          const dataTable =\n",
              "            await google.colab.kernel.invokeFunction('convertToInteractive',\n",
              "                                                     [key], {});\n",
              "          if (!dataTable) return;\n",
              "\n",
              "          const docLinkHtml = 'Like what you see? Visit the ' +\n",
              "            '<a target=\"_blank\" href=https://colab.research.google.com/notebooks/data_table.ipynb>data table notebook</a>'\n",
              "            + ' to learn more about interactive tables.';\n",
              "          element.innerHTML = '';\n",
              "          dataTable['output_type'] = 'display_data';\n",
              "          await google.colab.output.renderOutput(dataTable, element);\n",
              "          const docLink = document.createElement('div');\n",
              "          docLink.innerHTML = docLinkHtml;\n",
              "          element.appendChild(docLink);\n",
              "        }\n",
              "      </script>\n",
              "    </div>\n",
              "  </div>\n",
              "  "
            ]
          },
          "metadata": {},
          "execution_count": 18
        }
      ]
    },
    {
      "cell_type": "code",
      "source": [
        "model_mlr.predict(X)"
      ],
      "metadata": {
        "id": "_l1Gj3XPB2W6"
      },
      "execution_count": null,
      "outputs": []
    },
    {
      "cell_type": "markdown",
      "source": [
        "Now that we’ve fit a multiple linear regression model to our data, we can predict sales from any combination of TV and Radio advertising costs! For example, if we wanted to know how many sales we would make if we invested 300 in TV advertising and $200 in Radio advertising…all we have to do is plug in the values!"
      ],
      "metadata": {
        "id": "H-r6Zfi-CLSx"
      }
    },
    {
      "cell_type": "code",
      "source": [
        "df.head()"
      ],
      "metadata": {
        "colab": {
          "base_uri": "https://localhost:8080/",
          "height": 206
        },
        "id": "nViypVMVfnUz",
        "outputId": "f1ac9001-4491-4796-9509-01b1dabcf8fe"
      },
      "execution_count": null,
      "outputs": [
        {
          "output_type": "execute_result",
          "data": {
            "text/plain": [
              "      TV  Radio  Newspaper  Sales\n",
              "0  230.1   37.8       69.2   22.1\n",
              "1   44.5   39.3       45.1   10.4\n",
              "2   17.2   45.9       69.3    9.3\n",
              "3  151.5   41.3       58.5   18.5\n",
              "4  180.8   10.8       58.4   12.9"
            ],
            "text/html": [
              "\n",
              "  <div id=\"df-241504c9-8da7-4100-9661-3c3d06ac8f8b\">\n",
              "    <div class=\"colab-df-container\">\n",
              "      <div>\n",
              "<style scoped>\n",
              "    .dataframe tbody tr th:only-of-type {\n",
              "        vertical-align: middle;\n",
              "    }\n",
              "\n",
              "    .dataframe tbody tr th {\n",
              "        vertical-align: top;\n",
              "    }\n",
              "\n",
              "    .dataframe thead th {\n",
              "        text-align: right;\n",
              "    }\n",
              "</style>\n",
              "<table border=\"1\" class=\"dataframe\">\n",
              "  <thead>\n",
              "    <tr style=\"text-align: right;\">\n",
              "      <th></th>\n",
              "      <th>TV</th>\n",
              "      <th>Radio</th>\n",
              "      <th>Newspaper</th>\n",
              "      <th>Sales</th>\n",
              "    </tr>\n",
              "  </thead>\n",
              "  <tbody>\n",
              "    <tr>\n",
              "      <th>0</th>\n",
              "      <td>230.1</td>\n",
              "      <td>37.8</td>\n",
              "      <td>69.2</td>\n",
              "      <td>22.1</td>\n",
              "    </tr>\n",
              "    <tr>\n",
              "      <th>1</th>\n",
              "      <td>44.5</td>\n",
              "      <td>39.3</td>\n",
              "      <td>45.1</td>\n",
              "      <td>10.4</td>\n",
              "    </tr>\n",
              "    <tr>\n",
              "      <th>2</th>\n",
              "      <td>17.2</td>\n",
              "      <td>45.9</td>\n",
              "      <td>69.3</td>\n",
              "      <td>9.3</td>\n",
              "    </tr>\n",
              "    <tr>\n",
              "      <th>3</th>\n",
              "      <td>151.5</td>\n",
              "      <td>41.3</td>\n",
              "      <td>58.5</td>\n",
              "      <td>18.5</td>\n",
              "    </tr>\n",
              "    <tr>\n",
              "      <th>4</th>\n",
              "      <td>180.8</td>\n",
              "      <td>10.8</td>\n",
              "      <td>58.4</td>\n",
              "      <td>12.9</td>\n",
              "    </tr>\n",
              "  </tbody>\n",
              "</table>\n",
              "</div>\n",
              "      <button class=\"colab-df-convert\" onclick=\"convertToInteractive('df-241504c9-8da7-4100-9661-3c3d06ac8f8b')\"\n",
              "              title=\"Convert this dataframe to an interactive table.\"\n",
              "              style=\"display:none;\">\n",
              "        \n",
              "  <svg xmlns=\"http://www.w3.org/2000/svg\" height=\"24px\"viewBox=\"0 0 24 24\"\n",
              "       width=\"24px\">\n",
              "    <path d=\"M0 0h24v24H0V0z\" fill=\"none\"/>\n",
              "    <path d=\"M18.56 5.44l.94 2.06.94-2.06 2.06-.94-2.06-.94-.94-2.06-.94 2.06-2.06.94zm-11 1L8.5 8.5l.94-2.06 2.06-.94-2.06-.94L8.5 2.5l-.94 2.06-2.06.94zm10 10l.94 2.06.94-2.06 2.06-.94-2.06-.94-.94-2.06-.94 2.06-2.06.94z\"/><path d=\"M17.41 7.96l-1.37-1.37c-.4-.4-.92-.59-1.43-.59-.52 0-1.04.2-1.43.59L10.3 9.45l-7.72 7.72c-.78.78-.78 2.05 0 2.83L4 21.41c.39.39.9.59 1.41.59.51 0 1.02-.2 1.41-.59l7.78-7.78 2.81-2.81c.8-.78.8-2.07 0-2.86zM5.41 20L4 18.59l7.72-7.72 1.47 1.35L5.41 20z\"/>\n",
              "  </svg>\n",
              "      </button>\n",
              "      \n",
              "  <style>\n",
              "    .colab-df-container {\n",
              "      display:flex;\n",
              "      flex-wrap:wrap;\n",
              "      gap: 12px;\n",
              "    }\n",
              "\n",
              "    .colab-df-convert {\n",
              "      background-color: #E8F0FE;\n",
              "      border: none;\n",
              "      border-radius: 50%;\n",
              "      cursor: pointer;\n",
              "      display: none;\n",
              "      fill: #1967D2;\n",
              "      height: 32px;\n",
              "      padding: 0 0 0 0;\n",
              "      width: 32px;\n",
              "    }\n",
              "\n",
              "    .colab-df-convert:hover {\n",
              "      background-color: #E2EBFA;\n",
              "      box-shadow: 0px 1px 2px rgba(60, 64, 67, 0.3), 0px 1px 3px 1px rgba(60, 64, 67, 0.15);\n",
              "      fill: #174EA6;\n",
              "    }\n",
              "\n",
              "    [theme=dark] .colab-df-convert {\n",
              "      background-color: #3B4455;\n",
              "      fill: #D2E3FC;\n",
              "    }\n",
              "\n",
              "    [theme=dark] .colab-df-convert:hover {\n",
              "      background-color: #434B5C;\n",
              "      box-shadow: 0px 1px 3px 1px rgba(0, 0, 0, 0.15);\n",
              "      filter: drop-shadow(0px 1px 2px rgba(0, 0, 0, 0.3));\n",
              "      fill: #FFFFFF;\n",
              "    }\n",
              "  </style>\n",
              "\n",
              "      <script>\n",
              "        const buttonEl =\n",
              "          document.querySelector('#df-241504c9-8da7-4100-9661-3c3d06ac8f8b button.colab-df-convert');\n",
              "        buttonEl.style.display =\n",
              "          google.colab.kernel.accessAllowed ? 'block' : 'none';\n",
              "\n",
              "        async function convertToInteractive(key) {\n",
              "          const element = document.querySelector('#df-241504c9-8da7-4100-9661-3c3d06ac8f8b');\n",
              "          const dataTable =\n",
              "            await google.colab.kernel.invokeFunction('convertToInteractive',\n",
              "                                                     [key], {});\n",
              "          if (!dataTable) return;\n",
              "\n",
              "          const docLinkHtml = 'Like what you see? Visit the ' +\n",
              "            '<a target=\"_blank\" href=https://colab.research.google.com/notebooks/data_table.ipynb>data table notebook</a>'\n",
              "            + ' to learn more about interactive tables.';\n",
              "          element.innerHTML = '';\n",
              "          dataTable['output_type'] = 'display_data';\n",
              "          await google.colab.output.renderOutput(dataTable, element);\n",
              "          const docLink = document.createElement('div');\n",
              "          docLink.innerHTML = docLinkHtml;\n",
              "          element.appendChild(docLink);\n",
              "        }\n",
              "      </script>\n",
              "    </div>\n",
              "  </div>\n",
              "  "
            ]
          },
          "metadata": {},
          "execution_count": 36
        }
      ]
    },
    {
      "cell_type": "code",
      "source": [
        "new_X = [[300, 200]]\n",
        "print(model_mlr.predict(new_X))"
      ],
      "metadata": {
        "colab": {
          "base_uri": "https://localhost:8080/"
        },
        "id": "oIMQg7ZeCgkY",
        "outputId": "15366e34-dbc2-4d38-a533-b0a8f5f632d7"
      },
      "execution_count": null,
      "outputs": [
        {
          "output_type": "stream",
          "name": "stdout",
          "text": [
            "[54.24638977]\n"
          ]
        },
        {
          "output_type": "stream",
          "name": "stderr",
          "text": [
            "/usr/local/lib/python3.9/dist-packages/sklearn/base.py:439: UserWarning: X does not have valid feature names, but LinearRegression was fitted with feature names\n",
            "  warnings.warn(\n"
          ]
        }
      ]
    },
    {
      "cell_type": "markdown",
      "source": [
        "This means that if we spend 300 on TV advertising and $200 on Radio advertising, we should expect to see, on average, 54 units sold."
      ],
      "metadata": {
        "id": "C67FPWHFCw0J"
      }
    },
    {
      "cell_type": "code",
      "source": [
        "model_mlr.score(X,y)"
      ],
      "metadata": {
        "colab": {
          "base_uri": "https://localhost:8080/"
        },
        "id": "AFHf_0xaCoTa",
        "outputId": "2c6a88d8-61c2-408b-9fbd-207605d52400"
      },
      "execution_count": null,
      "outputs": [
        {
          "output_type": "execute_result",
          "data": {
            "text/plain": [
              "0.8971942610828957"
            ]
          },
          "metadata": {},
          "execution_count": 19
        }
      ]
    },
    {
      "cell_type": "code",
      "source": [
        "X.head()"
      ],
      "metadata": {
        "colab": {
          "base_uri": "https://localhost:8080/",
          "height": 206
        },
        "id": "08ytsOlHVk6o",
        "outputId": "e70fb5a9-dc6f-4e9a-c66c-d45c87577d41"
      },
      "execution_count": null,
      "outputs": [
        {
          "output_type": "execute_result",
          "data": {
            "text/plain": [
              "      TV  Radio\n",
              "0  230.1   37.8\n",
              "1   44.5   39.3\n",
              "2   17.2   45.9\n",
              "3  151.5   41.3\n",
              "4  180.8   10.8"
            ],
            "text/html": [
              "\n",
              "  <div id=\"df-50cfe227-f6ab-40f4-b52d-7ff49b56372b\">\n",
              "    <div class=\"colab-df-container\">\n",
              "      <div>\n",
              "<style scoped>\n",
              "    .dataframe tbody tr th:only-of-type {\n",
              "        vertical-align: middle;\n",
              "    }\n",
              "\n",
              "    .dataframe tbody tr th {\n",
              "        vertical-align: top;\n",
              "    }\n",
              "\n",
              "    .dataframe thead th {\n",
              "        text-align: right;\n",
              "    }\n",
              "</style>\n",
              "<table border=\"1\" class=\"dataframe\">\n",
              "  <thead>\n",
              "    <tr style=\"text-align: right;\">\n",
              "      <th></th>\n",
              "      <th>TV</th>\n",
              "      <th>Radio</th>\n",
              "    </tr>\n",
              "  </thead>\n",
              "  <tbody>\n",
              "    <tr>\n",
              "      <th>0</th>\n",
              "      <td>230.1</td>\n",
              "      <td>37.8</td>\n",
              "    </tr>\n",
              "    <tr>\n",
              "      <th>1</th>\n",
              "      <td>44.5</td>\n",
              "      <td>39.3</td>\n",
              "    </tr>\n",
              "    <tr>\n",
              "      <th>2</th>\n",
              "      <td>17.2</td>\n",
              "      <td>45.9</td>\n",
              "    </tr>\n",
              "    <tr>\n",
              "      <th>3</th>\n",
              "      <td>151.5</td>\n",
              "      <td>41.3</td>\n",
              "    </tr>\n",
              "    <tr>\n",
              "      <th>4</th>\n",
              "      <td>180.8</td>\n",
              "      <td>10.8</td>\n",
              "    </tr>\n",
              "  </tbody>\n",
              "</table>\n",
              "</div>\n",
              "      <button class=\"colab-df-convert\" onclick=\"convertToInteractive('df-50cfe227-f6ab-40f4-b52d-7ff49b56372b')\"\n",
              "              title=\"Convert this dataframe to an interactive table.\"\n",
              "              style=\"display:none;\">\n",
              "        \n",
              "  <svg xmlns=\"http://www.w3.org/2000/svg\" height=\"24px\"viewBox=\"0 0 24 24\"\n",
              "       width=\"24px\">\n",
              "    <path d=\"M0 0h24v24H0V0z\" fill=\"none\"/>\n",
              "    <path d=\"M18.56 5.44l.94 2.06.94-2.06 2.06-.94-2.06-.94-.94-2.06-.94 2.06-2.06.94zm-11 1L8.5 8.5l.94-2.06 2.06-.94-2.06-.94L8.5 2.5l-.94 2.06-2.06.94zm10 10l.94 2.06.94-2.06 2.06-.94-2.06-.94-.94-2.06-.94 2.06-2.06.94z\"/><path d=\"M17.41 7.96l-1.37-1.37c-.4-.4-.92-.59-1.43-.59-.52 0-1.04.2-1.43.59L10.3 9.45l-7.72 7.72c-.78.78-.78 2.05 0 2.83L4 21.41c.39.39.9.59 1.41.59.51 0 1.02-.2 1.41-.59l7.78-7.78 2.81-2.81c.8-.78.8-2.07 0-2.86zM5.41 20L4 18.59l7.72-7.72 1.47 1.35L5.41 20z\"/>\n",
              "  </svg>\n",
              "      </button>\n",
              "      \n",
              "  <style>\n",
              "    .colab-df-container {\n",
              "      display:flex;\n",
              "      flex-wrap:wrap;\n",
              "      gap: 12px;\n",
              "    }\n",
              "\n",
              "    .colab-df-convert {\n",
              "      background-color: #E8F0FE;\n",
              "      border: none;\n",
              "      border-radius: 50%;\n",
              "      cursor: pointer;\n",
              "      display: none;\n",
              "      fill: #1967D2;\n",
              "      height: 32px;\n",
              "      padding: 0 0 0 0;\n",
              "      width: 32px;\n",
              "    }\n",
              "\n",
              "    .colab-df-convert:hover {\n",
              "      background-color: #E2EBFA;\n",
              "      box-shadow: 0px 1px 2px rgba(60, 64, 67, 0.3), 0px 1px 3px 1px rgba(60, 64, 67, 0.15);\n",
              "      fill: #174EA6;\n",
              "    }\n",
              "\n",
              "    [theme=dark] .colab-df-convert {\n",
              "      background-color: #3B4455;\n",
              "      fill: #D2E3FC;\n",
              "    }\n",
              "\n",
              "    [theme=dark] .colab-df-convert:hover {\n",
              "      background-color: #434B5C;\n",
              "      box-shadow: 0px 1px 3px 1px rgba(0, 0, 0, 0.15);\n",
              "      filter: drop-shadow(0px 1px 2px rgba(0, 0, 0, 0.3));\n",
              "      fill: #FFFFFF;\n",
              "    }\n",
              "  </style>\n",
              "\n",
              "      <script>\n",
              "        const buttonEl =\n",
              "          document.querySelector('#df-50cfe227-f6ab-40f4-b52d-7ff49b56372b button.colab-df-convert');\n",
              "        buttonEl.style.display =\n",
              "          google.colab.kernel.accessAllowed ? 'block' : 'none';\n",
              "\n",
              "        async function convertToInteractive(key) {\n",
              "          const element = document.querySelector('#df-50cfe227-f6ab-40f4-b52d-7ff49b56372b');\n",
              "          const dataTable =\n",
              "            await google.colab.kernel.invokeFunction('convertToInteractive',\n",
              "                                                     [key], {});\n",
              "          if (!dataTable) return;\n",
              "\n",
              "          const docLinkHtml = 'Like what you see? Visit the ' +\n",
              "            '<a target=\"_blank\" href=https://colab.research.google.com/notebooks/data_table.ipynb>data table notebook</a>'\n",
              "            + ' to learn more about interactive tables.';\n",
              "          element.innerHTML = '';\n",
              "          dataTable['output_type'] = 'display_data';\n",
              "          await google.colab.output.renderOutput(dataTable, element);\n",
              "          const docLink = document.createElement('div');\n",
              "          docLink.innerHTML = docLinkHtml;\n",
              "          element.appendChild(docLink);\n",
              "        }\n",
              "      </script>\n",
              "    </div>\n",
              "  </div>\n",
              "  "
            ]
          },
          "metadata": {},
          "execution_count": 44
        }
      ]
    },
    {
      "cell_type": "code",
      "source": [
        "X.iloc[:,0]"
      ],
      "metadata": {
        "colab": {
          "base_uri": "https://localhost:8080/"
        },
        "id": "1Metvo1ZEf82",
        "outputId": "13d74e2a-770c-4eb2-d969-347eb2ffef48"
      },
      "execution_count": null,
      "outputs": [
        {
          "output_type": "execute_result",
          "data": {
            "text/plain": [
              "0      230.1\n",
              "1       44.5\n",
              "2       17.2\n",
              "3      151.5\n",
              "4      180.8\n",
              "       ...  \n",
              "195     38.2\n",
              "196     94.2\n",
              "197    177.0\n",
              "198    283.6\n",
              "199    232.1\n",
              "Name: TV, Length: 200, dtype: float64"
            ]
          },
          "metadata": {},
          "execution_count": 17
        }
      ]
    },
    {
      "cell_type": "code",
      "source": [
        "import plotly.express as px\n",
        "import plotly.graph_objects as go\n",
        "\n",
        "mesh_size = .02\n",
        "margin = 0\n",
        "\n",
        "# Create a mesh grid on which we will run our model\n",
        "x_min, x_max = X.iloc[:,0].min() - margin, X.iloc[:,0].max() + margin\n",
        "y_min, y_max = X.iloc[:,1].min() - margin, X.iloc[:,1].max() + margin\n",
        "x_range = np.arange(x_min, x_max, mesh_size)\n",
        "y_range = np.arange(y_min, y_max, mesh_size)\n",
        "xx, yy = np.meshgrid(x_range, y_range)\n",
        "\n",
        "\n",
        "# Run model\n",
        "pred = model_mlr.predict(np.c_[xx.ravel(), yy.ravel()])\n",
        "pred = pred.reshape(xx.shape)\n",
        "\n",
        "# Generate the plot\n",
        "fig = px.scatter_3d(df, x='TV', y='Radio', z='Sales')\n",
        "fig.update_traces(marker=dict(size=5))\n",
        "fig.add_traces(go.Surface(x=x_range, y=y_range, z=pred, name='pred_surface'))\n",
        "fig.show()"
      ],
      "metadata": {
        "colab": {
          "base_uri": "https://localhost:8080/"
        },
        "id": "LCl8geIES5w7",
        "outputId": "6df76dc5-4ca5-4ff5-b5d6-de4a6865358e"
      },
      "execution_count": null,
      "outputs": [
        {
          "output_type": "stream",
          "name": "stderr",
          "text": [
            "/usr/local/lib/python3.7/dist-packages/sklearn/base.py:451: UserWarning:\n",
            "\n",
            "X does not have valid feature names, but LinearRegression was fitted with feature names\n",
            "\n"
          ]
        }
      ]
    },
    {
      "cell_type": "code",
      "source": [
        "from mpl_toolkits.mplot3d import Axes3D\n",
        "\n",
        "fig = plt.figure()\n",
        "ax = fig.add_subplot(111, projection='3d')\n",
        "ax.scatter(X.iloc[:,0], X.iloc[:,1], y, marker='.', color='red')\n",
        "ax.set_xlabel(\"X1\")\n",
        "ax.set_ylabel(\"X2\")\n",
        "ax.set_zlabel(\"y\")\n",
        "\n",
        "\n",
        "y_pred = model_mlr.predict(X)\n",
        "\n",
        "coefs = model_mlr.coef_\n",
        "intercept = model_mlr.intercept_\n",
        "xs = np.tile(np.arange(61), (61,1))\n",
        "ys = np.tile(np.arange(61), (61,1)).T\n",
        "zs = xs*coefs[0]+ys*coefs[1]+intercept\n",
        "print(\"Equation: y = {:.2f} + {:.2f}x1 + {:.2f}x2\".format(intercept, coefs[0],\n",
        "                                                          coefs[1]))\n",
        "\n",
        "ax.plot_surface(xs,ys,zs, alpha=0.5)\n",
        "plt.show()\n",
        "\n",
        "\n"
      ],
      "metadata": {
        "colab": {
          "base_uri": "https://localhost:8080/",
          "height": 265
        },
        "id": "JJosnPJzC_Si",
        "outputId": "5e4cbc1a-359c-41b4-f16b-0c8c931d1921"
      },
      "execution_count": null,
      "outputs": [
        {
          "output_type": "stream",
          "name": "stdout",
          "text": [
            "Equation: y = 2.92 + 0.05x1 + 0.19x2\n"
          ]
        },
        {
          "output_type": "display_data",
          "data": {
            "text/plain": [
              "<Figure size 432x288 with 1 Axes>"
            ],
            "image/png": "[encoded data removed]"
          },
          "metadata": {
            "needs_background": "light"
          }
        }
      ]
    },
    {
      "cell_type": "code",
      "source": [
        "X = df.drop(columns = [\"Sales\"])\n",
        "y = df[\"Sales\"]"
      ],
      "metadata": {
        "id": "vuBiFUAgFKdK"
      },
      "execution_count": null,
      "outputs": []
    },
    {
      "cell_type": "code",
      "source": [
        "X.head()"
      ],
      "metadata": {
        "colab": {
          "base_uri": "https://localhost:8080/",
          "height": 206
        },
        "id": "m5GBMZEMB5Cz",
        "outputId": "424f489b-87ab-4bef-8994-e16c48548476"
      },
      "execution_count": null,
      "outputs": [
        {
          "output_type": "execute_result",
          "data": {
            "text/plain": [
              "      TV  Radio  Newspaper\n",
              "0  230.1   37.8       69.2\n",
              "1   44.5   39.3       45.1\n",
              "2   17.2   45.9       69.3\n",
              "3  151.5   41.3       58.5\n",
              "4  180.8   10.8       58.4"
            ],
            "text/html": [
              "\n",
              "  <div id=\"df-964d30d8-7816-479f-a14a-a9b97d7113f1\">\n",
              "    <div class=\"colab-df-container\">\n",
              "      <div>\n",
              "<style scoped>\n",
              "    .dataframe tbody tr th:only-of-type {\n",
              "        vertical-align: middle;\n",
              "    }\n",
              "\n",
              "    .dataframe tbody tr th {\n",
              "        vertical-align: top;\n",
              "    }\n",
              "\n",
              "    .dataframe thead th {\n",
              "        text-align: right;\n",
              "    }\n",
              "</style>\n",
              "<table border=\"1\" class=\"dataframe\">\n",
              "  <thead>\n",
              "    <tr style=\"text-align: right;\">\n",
              "      <th></th>\n",
              "      <th>TV</th>\n",
              "      <th>Radio</th>\n",
              "      <th>Newspaper</th>\n",
              "    </tr>\n",
              "  </thead>\n",
              "  <tbody>\n",
              "    <tr>\n",
              "      <th>0</th>\n",
              "      <td>230.1</td>\n",
              "      <td>37.8</td>\n",
              "      <td>69.2</td>\n",
              "    </tr>\n",
              "    <tr>\n",
              "      <th>1</th>\n",
              "      <td>44.5</td>\n",
              "      <td>39.3</td>\n",
              "      <td>45.1</td>\n",
              "    </tr>\n",
              "    <tr>\n",
              "      <th>2</th>\n",
              "      <td>17.2</td>\n",
              "      <td>45.9</td>\n",
              "      <td>69.3</td>\n",
              "    </tr>\n",
              "    <tr>\n",
              "      <th>3</th>\n",
              "      <td>151.5</td>\n",
              "      <td>41.3</td>\n",
              "      <td>58.5</td>\n",
              "    </tr>\n",
              "    <tr>\n",
              "      <th>4</th>\n",
              "      <td>180.8</td>\n",
              "      <td>10.8</td>\n",
              "      <td>58.4</td>\n",
              "    </tr>\n",
              "  </tbody>\n",
              "</table>\n",
              "</div>\n",
              "      <button class=\"colab-df-convert\" onclick=\"convertToInteractive('df-964d30d8-7816-479f-a14a-a9b97d7113f1')\"\n",
              "              title=\"Convert this dataframe to an interactive table.\"\n",
              "              style=\"display:none;\">\n",
              "        \n",
              "  <svg xmlns=\"http://www.w3.org/2000/svg\" height=\"24px\"viewBox=\"0 0 24 24\"\n",
              "       width=\"24px\">\n",
              "    <path d=\"M0 0h24v24H0V0z\" fill=\"none\"/>\n",
              "    <path d=\"M18.56 5.44l.94 2.06.94-2.06 2.06-.94-2.06-.94-.94-2.06-.94 2.06-2.06.94zm-11 1L8.5 8.5l.94-2.06 2.06-.94-2.06-.94L8.5 2.5l-.94 2.06-2.06.94zm10 10l.94 2.06.94-2.06 2.06-.94-2.06-.94-.94-2.06-.94 2.06-2.06.94z\"/><path d=\"M17.41 7.96l-1.37-1.37c-.4-.4-.92-.59-1.43-.59-.52 0-1.04.2-1.43.59L10.3 9.45l-7.72 7.72c-.78.78-.78 2.05 0 2.83L4 21.41c.39.39.9.59 1.41.59.51 0 1.02-.2 1.41-.59l7.78-7.78 2.81-2.81c.8-.78.8-2.07 0-2.86zM5.41 20L4 18.59l7.72-7.72 1.47 1.35L5.41 20z\"/>\n",
              "  </svg>\n",
              "      </button>\n",
              "      \n",
              "  <style>\n",
              "    .colab-df-container {\n",
              "      display:flex;\n",
              "      flex-wrap:wrap;\n",
              "      gap: 12px;\n",
              "    }\n",
              "\n",
              "    .colab-df-convert {\n",
              "      background-color: #E8F0FE;\n",
              "      border: none;\n",
              "      border-radius: 50%;\n",
              "      cursor: pointer;\n",
              "      display: none;\n",
              "      fill: #1967D2;\n",
              "      height: 32px;\n",
              "      padding: 0 0 0 0;\n",
              "      width: 32px;\n",
              "    }\n",
              "\n",
              "    .colab-df-convert:hover {\n",
              "      background-color: #E2EBFA;\n",
              "      box-shadow: 0px 1px 2px rgba(60, 64, 67, 0.3), 0px 1px 3px 1px rgba(60, 64, 67, 0.15);\n",
              "      fill: #174EA6;\n",
              "    }\n",
              "\n",
              "    [theme=dark] .colab-df-convert {\n",
              "      background-color: #3B4455;\n",
              "      fill: #D2E3FC;\n",
              "    }\n",
              "\n",
              "    [theme=dark] .colab-df-convert:hover {\n",
              "      background-color: #434B5C;\n",
              "      box-shadow: 0px 1px 3px 1px rgba(0, 0, 0, 0.15);\n",
              "      filter: drop-shadow(0px 1px 2px rgba(0, 0, 0, 0.3));\n",
              "      fill: #FFFFFF;\n",
              "    }\n",
              "  </style>\n",
              "\n",
              "      <script>\n",
              "        const buttonEl =\n",
              "          document.querySelector('#df-964d30d8-7816-479f-a14a-a9b97d7113f1 button.colab-df-convert');\n",
              "        buttonEl.style.display =\n",
              "          google.colab.kernel.accessAllowed ? 'block' : 'none';\n",
              "\n",
              "        async function convertToInteractive(key) {\n",
              "          const element = document.querySelector('#df-964d30d8-7816-479f-a14a-a9b97d7113f1');\n",
              "          const dataTable =\n",
              "            await google.colab.kernel.invokeFunction('convertToInteractive',\n",
              "                                                     [key], {});\n",
              "          if (!dataTable) return;\n",
              "\n",
              "          const docLinkHtml = 'Like what you see? Visit the ' +\n",
              "            '<a target=\"_blank\" href=https://colab.research.google.com/notebooks/data_table.ipynb>data table notebook</a>'\n",
              "            + ' to learn more about interactive tables.';\n",
              "          element.innerHTML = '';\n",
              "          dataTable['output_type'] = 'display_data';\n",
              "          await google.colab.output.renderOutput(dataTable, element);\n",
              "          const docLink = document.createElement('div');\n",
              "          docLink.innerHTML = docLinkHtml;\n",
              "          element.appendChild(docLink);\n",
              "        }\n",
              "      </script>\n",
              "    </div>\n",
              "  </div>\n",
              "  "
            ]
          },
          "metadata": {},
          "execution_count": 41
        }
      ]
    },
    {
      "cell_type": "code",
      "source": [
        "model_mlr = LinearRegression().fit(X,y)"
      ],
      "metadata": {
        "id": "_t-FW-VhFWUK"
      },
      "execution_count": null,
      "outputs": []
    },
    {
      "cell_type": "code",
      "source": [
        "model_mlr.score(X,y)"
      ],
      "metadata": {
        "colab": {
          "base_uri": "https://localhost:8080/"
        },
        "id": "Wi1KHFwGFWRL",
        "outputId": "4153f44a-a26a-46f8-8252-4be260ec98f1"
      },
      "execution_count": null,
      "outputs": [
        {
          "output_type": "execute_result",
          "data": {
            "text/plain": [
              "0.8972106381789522"
            ]
          },
          "metadata": {},
          "execution_count": 43
        }
      ]
    },
    {
      "cell_type": "code",
      "source": [
        "print(f'alpha = {model_mlr.intercept_}')\n",
        "print(f'betas = {model_mlr.coef_}')"
      ],
      "metadata": {
        "colab": {
          "base_uri": "https://localhost:8080/"
        },
        "id": "1tuFTV2UFWN1",
        "outputId": "daca7082-da11-4fd1-a760-d7a0320c84e7"
      },
      "execution_count": null,
      "outputs": [
        {
          "output_type": "stream",
          "name": "stdout",
          "text": [
            "alpha = 2.938889369459412\n",
            "betas = [ 0.04576465  0.18853002 -0.00103749]\n"
          ]
        }
      ]
    },
    {
      "cell_type": "code",
      "source": [
        "y = 2.93 + 0.045 * TV + 0.188 * Radio + -0.001* Newspaper"
      ],
      "metadata": {
        "id": "SoVqsWPIFWJr"
      },
      "execution_count": null,
      "outputs": []
    },
    {
      "cell_type": "code",
      "source": [],
      "metadata": {
        "id": "-vEQLF2iHC01"
      },
      "execution_count": null,
      "outputs": []
    },
    {
      "cell_type": "code",
      "source": [
        "import statsmodels.formula.api as smf\n",
        "\n",
        "# Initialise and fit linear regression model using `statsmodels`\n",
        "model = smf.ols('Sales ~ TV + Radio + Newspaper', data=df)\n",
        "model = model.fit()\n",
        "model.params"
      ],
      "metadata": {
        "colab": {
          "base_uri": "https://localhost:8080/"
        },
        "id": "Fp2GtxlW6R6Z",
        "outputId": "4fbaf75c-022b-411c-c17f-c14e83014a07"
      },
      "execution_count": null,
      "outputs": [
        {
          "output_type": "execute_result",
          "data": {
            "text/plain": [
              "Intercept    2.938889\n",
              "TV           0.045765\n",
              "Radio        0.188530\n",
              "Newspaper   -0.001037\n",
              "dtype: float64"
            ]
          },
          "metadata": {},
          "execution_count": 26
        }
      ]
    },
    {
      "cell_type": "code",
      "source": [
        "model.summary()"
      ],
      "metadata": {
        "colab": {
          "base_uri": "https://localhost:8080/",
          "height": 494
        },
        "id": "ryFjCgbr6pfC",
        "outputId": "74aed395-53ca-47ca-c054-a6f7769cf91b"
      },
      "execution_count": null,
      "outputs": [
        {
          "output_type": "execute_result",
          "data": {
            "text/plain": [
              "<class 'statsmodels.iolib.summary.Summary'>\n",
              "\"\"\"\n",
              "                            OLS Regression Results                            \n",
              "==============================================================================\n",
              "Dep. Variable:                  Sales   R-squared:                       0.897\n",
              "Model:                            OLS   Adj. R-squared:                  0.896\n",
              "Method:                 Least Squares   F-statistic:                     570.3\n",
              "Date:                Wed, 09 Nov 2022   Prob (F-statistic):           1.58e-96\n",
              "Time:                        15:40:23   Log-Likelihood:                -386.18\n",
              "No. Observations:                 200   AIC:                             780.4\n",
              "Df Residuals:                     196   BIC:                             793.6\n",
              "Df Model:                           3                                         \n",
              "Covariance Type:            nonrobust                                         \n",
              "==============================================================================\n",
              "                 coef    std err          t      P>|t|      [0.025      0.975]\n",
              "------------------------------------------------------------------------------\n",
              "Intercept      2.9389      0.312      9.422      0.000       2.324       3.554\n",
              "TV             0.0458      0.001     32.809      0.000       0.043       0.049\n",
              "Radio          0.1885      0.009     21.893      0.000       0.172       0.206\n",
              "Newspaper     -0.0010      0.006     -0.177      0.860      -0.013       0.011\n",
              "==============================================================================\n",
              "Omnibus:                       60.414   Durbin-Watson:                   2.084\n",
              "Prob(Omnibus):                  0.000   Jarque-Bera (JB):              151.241\n",
              "Skew:                          -1.327   Prob(JB):                     1.44e-33\n",
              "Kurtosis:                       6.332   Cond. No.                         454.\n",
              "==============================================================================\n",
              "\n",
              "Notes:\n",
              "[1] Standard Errors assume that the covariance matrix of the errors is correctly specified.\n",
              "\"\"\""
            ],
            "text/html": [
              "<table class=\"simpletable\">\n",
              "<caption>OLS Regression Results</caption>\n",
              "<tr>\n",
              "  <th>Dep. Variable:</th>          <td>Sales</td>      <th>  R-squared:         </th> <td>   0.897</td>\n",
              "</tr>\n",
              "<tr>\n",
              "  <th>Model:</th>                   <td>OLS</td>       <th>  Adj. R-squared:    </th> <td>   0.896</td>\n",
              "</tr>\n",
              "<tr>\n",
              "  <th>Method:</th>             <td>Least Squares</td>  <th>  F-statistic:       </th> <td>   570.3</td>\n",
              "</tr>\n",
              "<tr>\n",
              "  <th>Date:</th>             <td>Wed, 09 Nov 2022</td> <th>  Prob (F-statistic):</th> <td>1.58e-96</td>\n",
              "</tr>\n",
              "<tr>\n",
              "  <th>Time:</th>                 <td>15:40:23</td>     <th>  Log-Likelihood:    </th> <td> -386.18</td>\n",
              "</tr>\n",
              "<tr>\n",
              "  <th>No. Observations:</th>      <td>   200</td>      <th>  AIC:               </th> <td>   780.4</td>\n",
              "</tr>\n",
              "<tr>\n",
              "  <th>Df Residuals:</th>          <td>   196</td>      <th>  BIC:               </th> <td>   793.6</td>\n",
              "</tr>\n",
              "<tr>\n",
              "  <th>Df Model:</th>              <td>     3</td>      <th>                     </th>     <td> </td>   \n",
              "</tr>\n",
              "<tr>\n",
              "  <th>Covariance Type:</th>      <td>nonrobust</td>    <th>                     </th>     <td> </td>   \n",
              "</tr>\n",
              "</table>\n",
              "<table class=\"simpletable\">\n",
              "<tr>\n",
              "      <td></td>         <th>coef</th>     <th>std err</th>      <th>t</th>      <th>P>|t|</th>  <th>[0.025</th>    <th>0.975]</th>  \n",
              "</tr>\n",
              "<tr>\n",
              "  <th>Intercept</th> <td>    2.9389</td> <td>    0.312</td> <td>    9.422</td> <td> 0.000</td> <td>    2.324</td> <td>    3.554</td>\n",
              "</tr>\n",
              "<tr>\n",
              "  <th>TV</th>        <td>    0.0458</td> <td>    0.001</td> <td>   32.809</td> <td> 0.000</td> <td>    0.043</td> <td>    0.049</td>\n",
              "</tr>\n",
              "<tr>\n",
              "  <th>Radio</th>     <td>    0.1885</td> <td>    0.009</td> <td>   21.893</td> <td> 0.000</td> <td>    0.172</td> <td>    0.206</td>\n",
              "</tr>\n",
              "<tr>\n",
              "  <th>Newspaper</th> <td>   -0.0010</td> <td>    0.006</td> <td>   -0.177</td> <td> 0.860</td> <td>   -0.013</td> <td>    0.011</td>\n",
              "</tr>\n",
              "</table>\n",
              "<table class=\"simpletable\">\n",
              "<tr>\n",
              "  <th>Omnibus:</th>       <td>60.414</td> <th>  Durbin-Watson:     </th> <td>   2.084</td>\n",
              "</tr>\n",
              "<tr>\n",
              "  <th>Prob(Omnibus):</th> <td> 0.000</td> <th>  Jarque-Bera (JB):  </th> <td> 151.241</td>\n",
              "</tr>\n",
              "<tr>\n",
              "  <th>Skew:</th>          <td>-1.327</td> <th>  Prob(JB):          </th> <td>1.44e-33</td>\n",
              "</tr>\n",
              "<tr>\n",
              "  <th>Kurtosis:</th>      <td> 6.332</td> <th>  Cond. No.          </th> <td>    454.</td>\n",
              "</tr>\n",
              "</table><br/><br/>Notes:<br/>[1] Standard Errors assume that the covariance matrix of the errors is correctly specified."
            ]
          },
          "metadata": {},
          "execution_count": 27
        }
      ]
    },
    {
      "cell_type": "markdown",
      "source": [
        "![image.png](data:image/png;base64,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)"
      ],
      "metadata": {
        "id": "vgzsc5xiJ9l5"
      }
    },
    {
      "cell_type": "markdown",
      "source": [
        "Columns with p value less than 0.05 are important for predicting output column\n",
        "\n",
        "for more explanation - https://www.youtube.com/watch?v=vemZtEM63GY"
      ],
      "metadata": {
        "id": "omMsbWe-Q-bO"
      }
    },
    {
      "cell_type": "markdown",
      "source": [
        "The most common hypothesis test involves testing the null \n",
        "hypothesis of\n",
        "\n",
        "    H0 : There is no relationship between X and Y\n",
        "\n",
        "versus the alternative hypothesis\n",
        "\n",
        "    Ha : There is some relationship between X and Y\n",
        "\n",
        "Mathematically, this corresponds to testing\n",
        "\n",
        "    H0 : β1 = 0\n",
        "\n",
        "versus\n",
        "\n",
        "    Ha : β1 ̸= 0,"
      ],
      "metadata": {
        "id": "idE6xY2pR1JN"
      }
    },
    {
      "cell_type": "markdown",
      "source": [
        "### There are three classical approaches for selecting important features:\n",
        "-  Forward selection. We begin with the null model—a model that contains an intercept but no predictors. We then fit p simple linear regressions\n",
        "and add to the null model the variable that results in the\n",
        "lowest RSS. We then add to that model the variable that results\n",
        "in the lowest RSS for the new two-variable model. This approach is\n",
        "continued until some stopping rule is satisfied.\n",
        "\n",
        "- Backward selection. We start with all variables in the model, and\n",
        "remove the variable with the largest p-value—that is, the variable\n",
        "that is the least statistically significant. The new (p − 1)-variable\n",
        "model is fit, and the variable with the largest p-value is removed. This\n",
        "procedure continues until a stopping rule is reached. For instance, we\n",
        "may stop when all remaining variables have a p-value below some\n",
        "threshold.\n",
        "\n",
        "- Mixed selection. This is a combination of forward and backward selection. We start with no variables in the model, and as with forward selection, we add the variable that provides the best fit. We continue\n",
        "to add variables one-by-one. Of course, as we noted with the\n",
        "Advertising example, the p-values for variables can become larger as\n",
        "new predictors are added to the model. Hence, if at any point the\n",
        "p-value for one of the variables in the model rises above a certain\n",
        "threshold, then we remove that variable from the model. We continue\n",
        "to perform these forward and backward steps until all variables\n",
        "in the model have a sufficiently low p-value, and all variables outside\n",
        "the model would have a large p-value if added to the model."
      ],
      "metadata": {
        "id": "615rd-kcILg9"
      }
    },
    {
      "cell_type": "code",
      "source": [],
      "metadata": {
        "id": "KJMb7z-9WUB8"
      },
      "execution_count": null,
      "outputs": []
    }
  ]
}