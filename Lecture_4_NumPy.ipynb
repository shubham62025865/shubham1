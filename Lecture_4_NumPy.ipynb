{
  "cells": [
    {
      "cell_type": "markdown",
      "metadata": {
        "id": "view-in-github",
        "colab_type": "text"
      },
      "source": [
        "<a href=\"https://colab.research.google.com/github/shubham62025865/shubham1/blob/main/Lecture_4_NumPy.ipynb\" target=\"_parent\"><img src=\"https://colab.research.google.com/assets/colab-badge.svg\" alt=\"Open In Colab\"/></a>"
      ]
    },
    {
      "cell_type": "markdown",
      "metadata": {
        "id": "fanRE2M4pF3e"
      },
      "source": [
        "\n",
        "<img src=\"https://user-images.githubusercontent.com/7065401/39118381-910eb0c2-46e9-11e8-81f1-a5b897401c23.jpeg\"\n",
        "    style=\"width:300px; float: right; margin: 0 40px 40px 40px;\"></img>\n",
        "\n",
        "# Numpy: Numeric computing library\n",
        "\n",
        "NumPy (Numerical Python) is one of the core packages for numerical computing in Python. Pandas, Matplotlib, Statmodels and many other Scientific libraries rely on NumPy.\n",
        "\n",
        "NumPy major contributions are:\n",
        "\n",
        "* Efficient numeric computation with C primitives\n",
        "* Efficient collections with vectorized operations\n",
        "* An integrated and natural Linear Algebra API\n",
        "* A C API for connecting NumPy with libraries written in C, C++, or FORTRAN.\n",
        "\n"
      ]
    },
    {
      "cell_type": "markdown",
      "metadata": {
        "id": "Y-FREimXpF3m"
      },
      "source": [
        "![purple-divider](https://user-images.githubusercontent.com/7065401/52071927-c1cd7100-2562-11e9-908a-dde91ba14e59.png)\n",
        "\n",
        "## Hands on! "
      ]
    },
    {
      "cell_type": "code",
      "execution_count": null,
      "metadata": {
        "id": "HcvsHYI1pF3n"
      },
      "outputs": [],
      "source": [
        "import sys\n",
        "import numpy as np"
      ]
    },
    {
      "cell_type": "markdown",
      "metadata": {
        "id": "LD6EkYzGpF3p"
      },
      "source": [
        "## Basic Numpy Arrays"
      ]
    },
    {
      "cell_type": "code",
      "source": [
        "import pandas as pd\n",
        "pd.Series([1,2,3,4])"
      ],
      "metadata": {
        "colab": {
          "base_uri": "https://localhost:8080/"
        },
        "id": "q0B78jy1dqwS",
        "outputId": "e685c60b-3e4e-4c79-e4d7-0a97b9b4a6a6"
      },
      "execution_count": null,
      "outputs": [
        {
          "output_type": "execute_result",
          "data": {
            "text/plain": [
              "0    1\n",
              "1    2\n",
              "2    3\n",
              "3    4\n",
              "dtype: int64"
            ]
          },
          "metadata": {},
          "execution_count": 2
        }
      ]
    },
    {
      "cell_type": "code",
      "source": [
        "np.array([1,2,3,4])"
      ],
      "metadata": {
        "colab": {
          "base_uri": "https://localhost:8080/"
        },
        "id": "_YJlsTeBd3Ak",
        "outputId": "11075e64-8157-4409-94b8-8a673cc25cda"
      },
      "execution_count": null,
      "outputs": [
        {
          "output_type": "execute_result",
          "data": {
            "text/plain": [
              "array([1, 2, 3, 4])"
            ]
          },
          "metadata": {},
          "execution_count": 3
        }
      ]
    },
    {
      "cell_type": "code",
      "execution_count": null,
      "metadata": {
        "id": "fH7G9iATpF3p"
      },
      "outputs": [],
      "source": [
        "a = np.array([1, 2, 3, 4])"
      ]
    },
    {
      "cell_type": "code",
      "source": [
        "a"
      ],
      "metadata": {
        "colab": {
          "base_uri": "https://localhost:8080/"
        },
        "id": "cEycvXpZeOmq",
        "outputId": "ebff1b60-b3e5-42a0-9396-3761034a53fc"
      },
      "execution_count": null,
      "outputs": [
        {
          "output_type": "execute_result",
          "data": {
            "text/plain": [
              "array([1, 2, 3, 4])"
            ]
          },
          "metadata": {},
          "execution_count": 4
        }
      ]
    },
    {
      "cell_type": "code",
      "source": [
        "a[1]"
      ],
      "metadata": {
        "colab": {
          "base_uri": "https://localhost:8080/"
        },
        "id": "7SZeFaxUm5XV",
        "outputId": "371e0c3c-04d9-409f-e7b8-2c96e2b75010"
      },
      "execution_count": null,
      "outputs": [
        {
          "output_type": "execute_result",
          "data": {
            "text/plain": [
              "2"
            ]
          },
          "metadata": {},
          "execution_count": 5
        }
      ]
    },
    {
      "cell_type": "code",
      "source": [
        "a[-1]"
      ],
      "metadata": {
        "colab": {
          "base_uri": "https://localhost:8080/"
        },
        "id": "NoKYvUn4eOY3",
        "outputId": "a82d156f-5bec-4ea9-d222-66a68b040cd1"
      },
      "execution_count": null,
      "outputs": [
        {
          "output_type": "execute_result",
          "data": {
            "text/plain": [
              "4"
            ]
          },
          "metadata": {},
          "execution_count": 7
        }
      ]
    },
    {
      "cell_type": "code",
      "source": [
        "b = np.array([1.0, 2.5, 3.1,4.7])\n",
        "b"
      ],
      "metadata": {
        "colab": {
          "base_uri": "https://localhost:8080/"
        },
        "id": "xKiVsL1UeOVo",
        "outputId": "ebc6ce99-3788-44b1-d200-ce2b80610428"
      },
      "execution_count": null,
      "outputs": [
        {
          "output_type": "execute_result",
          "data": {
            "text/plain": [
              "array([1. , 2.5, 3.1, 4.7])"
            ]
          },
          "metadata": {},
          "execution_count": 8
        }
      ]
    },
    {
      "cell_type": "code",
      "source": [
        "b.dtype"
      ],
      "metadata": {
        "colab": {
          "base_uri": "https://localhost:8080/"
        },
        "id": "CTLKzmAle5yS",
        "outputId": "972ea688-3b5e-49f2-b9af-d94fc0c2a415"
      },
      "execution_count": null,
      "outputs": [
        {
          "output_type": "execute_result",
          "data": {
            "text/plain": [
              "dtype('float64')"
            ]
          },
          "metadata": {},
          "execution_count": 9
        }
      ]
    },
    {
      "cell_type": "code",
      "source": [
        "a.dtype"
      ],
      "metadata": {
        "colab": {
          "base_uri": "https://localhost:8080/"
        },
        "id": "RNrWk17oe5k_",
        "outputId": "7cd667aa-d695-4188-f13d-57ad152b3943"
      },
      "execution_count": null,
      "outputs": [
        {
          "output_type": "execute_result",
          "data": {
            "text/plain": [
              "dtype('int64')"
            ]
          },
          "metadata": {},
          "execution_count": 10
        }
      ]
    },
    {
      "cell_type": "code",
      "execution_count": null,
      "metadata": {
        "id": "yB1yDhqWpF3r"
      },
      "outputs": [],
      "source": [
        "a = np.array([1, 2, 3, 4])"
      ]
    },
    {
      "cell_type": "code",
      "execution_count": null,
      "metadata": {
        "id": "8HW9eirspF3r"
      },
      "outputs": [],
      "source": [
        "b = np.array([0, .5, 1, 1.5, 2])"
      ]
    },
    {
      "cell_type": "code",
      "execution_count": null,
      "metadata": {
        "id": "QqdpSpCapF3s",
        "outputId": "bb219b9b-5b11-4971-b475-0cf9023b0766"
      },
      "outputs": [
        {
          "data": {
            "text/plain": [
              "(1, 2)"
            ]
          },
          "execution_count": 5,
          "metadata": {},
          "output_type": "execute_result"
        }
      ],
      "source": [
        "a[0], a[1]"
      ]
    },
    {
      "cell_type": "code",
      "execution_count": null,
      "metadata": {
        "id": "UjnfTucQpF3t",
        "outputId": "a0b5eef7-6539-486d-f2b3-7cf8a08faf45",
        "colab": {
          "base_uri": "https://localhost:8080/"
        }
      },
      "outputs": [
        {
          "output_type": "execute_result",
          "data": {
            "text/plain": [
              "array([1, 2, 3])"
            ]
          },
          "metadata": {},
          "execution_count": 12
        }
      ],
      "source": [
        "a[0:3]"
      ]
    },
    {
      "cell_type": "code",
      "execution_count": null,
      "metadata": {
        "id": "fXLGVk1XpF3v",
        "outputId": "e8451224-8a81-46d1-e034-c23d0218704b"
      },
      "outputs": [
        {
          "data": {
            "text/plain": [
              "array([2, 3])"
            ]
          },
          "execution_count": 7,
          "metadata": {},
          "output_type": "execute_result"
        }
      ],
      "source": [
        "a[1:3]"
      ]
    },
    {
      "cell_type": "code",
      "source": [
        "a"
      ],
      "metadata": {
        "colab": {
          "base_uri": "https://localhost:8080/"
        },
        "id": "LyaAVXGSgJiJ",
        "outputId": "00b68c7d-3313-44de-d980-3ceb84c47611"
      },
      "execution_count": null,
      "outputs": [
        {
          "output_type": "execute_result",
          "data": {
            "text/plain": [
              "array([1, 2, 3, 4])"
            ]
          },
          "metadata": {},
          "execution_count": 13
        }
      ]
    },
    {
      "cell_type": "code",
      "execution_count": null,
      "metadata": {
        "scrolled": true,
        "id": "X4Mzw6uHpF3w",
        "outputId": "0d15cc60-4f0b-45c3-f68b-66bef59fd0e9",
        "colab": {
          "base_uri": "https://localhost:8080/"
        }
      },
      "outputs": [
        {
          "output_type": "execute_result",
          "data": {
            "text/plain": [
              "array([1, 2, 3])"
            ]
          },
          "metadata": {},
          "execution_count": 14
        }
      ],
      "source": [
        "a[0:-1]"
      ]
    },
    {
      "cell_type": "code",
      "execution_count": null,
      "metadata": {
        "id": "o0w-nS9NpF3x",
        "outputId": "43b96744-85f6-4392-9a8b-d083c87a9201"
      },
      "outputs": [
        {
          "data": {
            "text/plain": [
              "array([1, 3])"
            ]
          },
          "execution_count": 9,
          "metadata": {},
          "output_type": "execute_result"
        }
      ],
      "source": [
        "a[::2]"
      ]
    },
    {
      "cell_type": "code",
      "execution_count": null,
      "metadata": {
        "id": "t7XHjzR-pF3x",
        "outputId": "bad7abc9-1f02-4157-8e60-0fc6a0185ff2",
        "colab": {
          "base_uri": "https://localhost:8080/"
        }
      },
      "outputs": [
        {
          "output_type": "execute_result",
          "data": {
            "text/plain": [
              "array([1. , 2.5, 3.1, 4.7])"
            ]
          },
          "metadata": {},
          "execution_count": 15
        }
      ],
      "source": [
        "b"
      ]
    },
    {
      "cell_type": "code",
      "execution_count": null,
      "metadata": {
        "scrolled": true,
        "id": "4XuRIWhwpF3y",
        "outputId": "c33bd1d5-1956-4f75-a61e-f5fe4007a152",
        "colab": {
          "base_uri": "https://localhost:8080/"
        }
      },
      "outputs": [
        {
          "output_type": "execute_result",
          "data": {
            "text/plain": [
              "(1.0, 3.1, 4)"
            ]
          },
          "metadata": {},
          "execution_count": 22
        }
      ],
      "source": [
        "b[0], b[2], a[-1]"
      ]
    },
    {
      "cell_type": "code",
      "source": [
        "b[[0,2,-1]]"
      ],
      "metadata": {
        "colab": {
          "base_uri": "https://localhost:8080/"
        },
        "id": "Zm8NPwG5hu3D",
        "outputId": "6c5aac2e-da42-46bb-8a8f-1674d086493f"
      },
      "execution_count": null,
      "outputs": [
        {
          "output_type": "execute_result",
          "data": {
            "text/plain": [
              "array([1. , 3.1, 4.7])"
            ]
          },
          "metadata": {},
          "execution_count": 19
        }
      ]
    },
    {
      "cell_type": "code",
      "execution_count": null,
      "metadata": {
        "id": "h7lHCWsZpF3y",
        "outputId": "1287d16d-c605-40f6-d168-b537443e3a1f",
        "colab": {
          "base_uri": "https://localhost:8080/"
        }
      },
      "outputs": [
        {
          "output_type": "execute_result",
          "data": {
            "text/plain": [
              "array([1. , 3.1, 4.7])"
            ]
          },
          "metadata": {},
          "execution_count": 17
        }
      ],
      "source": [
        "b[[0, 2, -1]]"
      ]
    },
    {
      "cell_type": "markdown",
      "metadata": {
        "id": "0UyuRaVopF3y"
      },
      "source": [
        "![green-divider](https://user-images.githubusercontent.com/7065401/52071924-c003ad80-2562-11e9-8297-1c6595f8a7ff.png)\n",
        "\n",
        "## Array Types"
      ]
    },
    {
      "cell_type": "code",
      "execution_count": null,
      "metadata": {
        "id": "nZ24y2ePpF3z",
        "outputId": "e35870a0-97b7-498b-890e-e06e59b84cc7",
        "colab": {
          "base_uri": "https://localhost:8080/"
        }
      },
      "outputs": [
        {
          "output_type": "execute_result",
          "data": {
            "text/plain": [
              "array([1, 2, 3, 4])"
            ]
          },
          "metadata": {},
          "execution_count": 23
        }
      ],
      "source": [
        "a"
      ]
    },
    {
      "cell_type": "code",
      "execution_count": null,
      "metadata": {
        "id": "R3O2LCPKpF30",
        "outputId": "2c20c035-1a43-479a-b8da-39a8ec9b261a"
      },
      "outputs": [
        {
          "data": {
            "text/plain": [
              "dtype('int64')"
            ]
          },
          "execution_count": 14,
          "metadata": {},
          "output_type": "execute_result"
        }
      ],
      "source": [
        "a.dtype"
      ]
    },
    {
      "cell_type": "code",
      "source": [
        "c = np.array([1,2,3,4,\"hello\"])\n"
      ],
      "metadata": {
        "id": "hAlAwme1ilXU"
      },
      "execution_count": null,
      "outputs": []
    },
    {
      "cell_type": "code",
      "source": [
        "c"
      ],
      "metadata": {
        "colab": {
          "base_uri": "https://localhost:8080/"
        },
        "id": "CrBYJ38JisAb",
        "outputId": "5d9885bf-6271-49ed-ed13-69f8216a4c43"
      },
      "execution_count": null,
      "outputs": [
        {
          "output_type": "execute_result",
          "data": {
            "text/plain": [
              "array(['1', '2', '3', '4', 'hello'], dtype='<U21')"
            ]
          },
          "metadata": {},
          "execution_count": 25
        }
      ]
    },
    {
      "cell_type": "code",
      "source": [],
      "metadata": {
        "id": "8bj3Eo-pjNUA"
      },
      "execution_count": null,
      "outputs": []
    },
    {
      "cell_type": "code",
      "execution_count": null,
      "metadata": {
        "id": "MPvkVIWxpF30",
        "outputId": "17edb4f1-f83b-485b-aebf-a929f3892912"
      },
      "outputs": [
        {
          "data": {
            "text/plain": [
              "array([0. , 0.5, 1. , 1.5, 2. ])"
            ]
          },
          "execution_count": 15,
          "metadata": {},
          "output_type": "execute_result"
        }
      ],
      "source": [
        "b"
      ]
    },
    {
      "cell_type": "code",
      "execution_count": null,
      "metadata": {
        "id": "7Q42i5mdpF31",
        "outputId": "290f57a3-19fd-43a2-82f8-81f05df43f1a"
      },
      "outputs": [
        {
          "data": {
            "text/plain": [
              "dtype('float64')"
            ]
          },
          "execution_count": 16,
          "metadata": {},
          "output_type": "execute_result"
        }
      ],
      "source": [
        "b.dtype"
      ]
    },
    {
      "cell_type": "code",
      "execution_count": null,
      "metadata": {
        "scrolled": true,
        "id": "-Gt_Fwm1pF31",
        "outputId": "8cd716d4-9d49-4efb-a5b0-c6a23152270e",
        "colab": {
          "base_uri": "https://localhost:8080/"
        }
      },
      "outputs": [
        {
          "output_type": "execute_result",
          "data": {
            "text/plain": [
              "array([1., 2., 3., 4.])"
            ]
          },
          "metadata": {},
          "execution_count": 27
        }
      ],
      "source": [
        "np.array([1, 2, 3, 4], dtype=float)"
      ]
    },
    {
      "cell_type": "code",
      "execution_count": null,
      "metadata": {
        "scrolled": true,
        "id": "zd4-ePBTpF31",
        "outputId": "ef3c0026-c400-4a2f-a0d2-ded6e8add66d",
        "colab": {
          "base_uri": "https://localhost:8080/"
        }
      },
      "outputs": [
        {
          "output_type": "execute_result",
          "data": {
            "text/plain": [
              "array([1, 2, 3, 4], dtype=int8)"
            ]
          },
          "metadata": {},
          "execution_count": 29
        }
      ],
      "source": [
        "np.array([1, 2, 3, 4], dtype=np.int8)"
      ]
    },
    {
      "cell_type": "code",
      "execution_count": null,
      "metadata": {
        "id": "_0uPsQ5CpF32"
      },
      "outputs": [],
      "source": [
        "c = np.array(['a', 'b', 'c'])"
      ]
    },
    {
      "cell_type": "code",
      "execution_count": null,
      "metadata": {
        "id": "wQRt5DcepF32",
        "outputId": "8c0789df-d55e-499c-ae5d-9314da51218a",
        "colab": {
          "base_uri": "https://localhost:8080/"
        }
      },
      "outputs": [
        {
          "output_type": "execute_result",
          "data": {
            "text/plain": [
              "dtype('<U1')"
            ]
          },
          "metadata": {},
          "execution_count": 31
        }
      ],
      "source": [
        "c.dtype"
      ]
    },
    {
      "cell_type": "code",
      "execution_count": null,
      "metadata": {
        "id": "hVFqpUJcpF32"
      },
      "outputs": [],
      "source": [
        "d = np.array([{'a': 1}, sys])"
      ]
    },
    {
      "cell_type": "code",
      "execution_count": null,
      "metadata": {
        "id": "VikPWCi-pF33",
        "outputId": "66aac41a-5174-47c3-c3de-a1b8d048ea99",
        "colab": {
          "base_uri": "https://localhost:8080/"
        }
      },
      "outputs": [
        {
          "output_type": "execute_result",
          "data": {
            "text/plain": [
              "dtype('O')"
            ]
          },
          "metadata": {},
          "execution_count": 33
        }
      ],
      "source": [
        "d.dtype"
      ]
    },
    {
      "cell_type": "markdown",
      "metadata": {
        "id": "mdUe90yIpF33"
      },
      "source": [
        "![green-divider](https://user-images.githubusercontent.com/7065401/52071924-c003ad80-2562-11e9-8297-1c6595f8a7ff.png)\n",
        "\n",
        "## Dimensions and shapes"
      ]
    },
    {
      "cell_type": "code",
      "source": [
        "a = np.array([\n",
        "    [7,8,9],\n",
        "    [4,5,6],\n",
        "    [1,2,3]\n",
        "])"
      ],
      "metadata": {
        "id": "6s29cNOxmo-f"
      },
      "execution_count": null,
      "outputs": []
    },
    {
      "cell_type": "code",
      "execution_count": null,
      "metadata": {
        "id": "asvWnYFipF33",
        "outputId": "ca395a39-db08-49d9-b67f-8d30c2d7f0b1",
        "colab": {
          "base_uri": "https://localhost:8080/"
        }
      },
      "outputs": [
        {
          "output_type": "execute_result",
          "data": {
            "text/plain": [
              "(3, 3)"
            ]
          },
          "metadata": {},
          "execution_count": 41
        }
      ],
      "source": [
        "a.shape"
      ]
    },
    {
      "cell_type": "code",
      "source": [
        "b"
      ],
      "metadata": {
        "colab": {
          "base_uri": "https://localhost:8080/"
        },
        "id": "zRYYBhAWof6p",
        "outputId": "8522cf58-a5a9-4cea-c4a1-4137ff1661a5"
      },
      "execution_count": null,
      "outputs": [
        {
          "output_type": "execute_result",
          "data": {
            "text/plain": [
              "array([1. , 2.5, 3.1, 4.7])"
            ]
          },
          "metadata": {},
          "execution_count": 42
        }
      ]
    },
    {
      "cell_type": "code",
      "source": [
        "b.shape"
      ],
      "metadata": {
        "colab": {
          "base_uri": "https://localhost:8080/"
        },
        "id": "1jzxc76FojCp",
        "outputId": "e3f6dc11-fd29-42d7-956f-ac5be129b23c"
      },
      "execution_count": null,
      "outputs": [
        {
          "output_type": "execute_result",
          "data": {
            "text/plain": [
              "(4,)"
            ]
          },
          "metadata": {},
          "execution_count": 43
        }
      ]
    },
    {
      "cell_type": "code",
      "execution_count": null,
      "metadata": {
        "id": "uw-EQXTbpF34",
        "outputId": "eb2d8025-c180-4ecd-d954-47a5ba09a630",
        "colab": {
          "base_uri": "https://localhost:8080/"
        }
      },
      "outputs": [
        {
          "output_type": "execute_result",
          "data": {
            "text/plain": [
              "2"
            ]
          },
          "metadata": {},
          "execution_count": 61
        }
      ],
      "source": [
        "a.ndim"
      ]
    },
    {
      "cell_type": "code",
      "execution_count": null,
      "metadata": {
        "id": "ucfIQcqppF34",
        "outputId": "79ea928b-2550-4168-91c1-8d04a15e8126",
        "colab": {
          "base_uri": "https://localhost:8080/"
        }
      },
      "outputs": [
        {
          "output_type": "execute_result",
          "data": {
            "text/plain": [
              "9"
            ]
          },
          "metadata": {},
          "execution_count": 62
        }
      ],
      "source": [
        "a.size"
      ]
    },
    {
      "cell_type": "code",
      "execution_count": null,
      "metadata": {
        "id": "JiA1XxCNpF34"
      },
      "outputs": [],
      "source": [
        "B = np.array([\n",
        "    [\n",
        "        [12, 11, 10],\n",
        "        [9, 8, 7],\n",
        "    ],\n",
        "    [\n",
        "        [6, 5, 4],\n",
        "        [3, 2, 1]\n",
        "    ]\n",
        "])"
      ]
    },
    {
      "cell_type": "code",
      "execution_count": null,
      "metadata": {
        "id": "5sIhv5DEpF35",
        "outputId": "1216edc2-4c39-4836-b8ea-000b3a29dc5b",
        "colab": {
          "base_uri": "https://localhost:8080/"
        }
      },
      "outputs": [
        {
          "output_type": "execute_result",
          "data": {
            "text/plain": [
              "array([[[12, 11, 10],\n",
              "        [ 9,  8,  7]],\n",
              "\n",
              "       [[ 6,  5,  4],\n",
              "        [ 3,  2,  1]]])"
            ]
          },
          "metadata": {},
          "execution_count": 7
        }
      ],
      "source": [
        "B"
      ]
    },
    {
      "cell_type": "code",
      "execution_count": null,
      "metadata": {
        "id": "SuEhU_rKpF35",
        "outputId": "91d3539e-f160-4a5d-8b0e-84f7f55bc877"
      },
      "outputs": [
        {
          "data": {
            "text/plain": [
              "(2, 2, 3)"
            ]
          },
          "execution_count": 29,
          "metadata": {},
          "output_type": "execute_result"
        }
      ],
      "source": [
        "B.shape"
      ]
    },
    {
      "cell_type": "code",
      "execution_count": null,
      "metadata": {
        "id": "MGiyLj60pF35",
        "outputId": "0dec8e06-1989-4510-aa6c-0af443ffec20"
      },
      "outputs": [
        {
          "data": {
            "text/plain": [
              "3"
            ]
          },
          "execution_count": 30,
          "metadata": {},
          "output_type": "execute_result"
        }
      ],
      "source": [
        "B.ndim"
      ]
    },
    {
      "cell_type": "code",
      "execution_count": null,
      "metadata": {
        "id": "sKGW_y02pF36",
        "outputId": "748ff719-6482-4d67-9b3c-af915434cd06"
      },
      "outputs": [
        {
          "data": {
            "text/plain": [
              "12"
            ]
          },
          "execution_count": 31,
          "metadata": {},
          "output_type": "execute_result"
        }
      ],
      "source": [
        "B.size"
      ]
    },
    {
      "cell_type": "markdown",
      "metadata": {
        "id": "foqIzKgypF36"
      },
      "source": [
        "If the shape isn't consistent, it'll just fall back to regular Python objects:"
      ]
    },
    {
      "cell_type": "code",
      "execution_count": null,
      "metadata": {
        "id": "hru5DjK4pF36",
        "colab": {
          "base_uri": "https://localhost:8080/"
        },
        "outputId": "7d65dfd5-23aa-4f9f-abd3-d84afdc62036"
      },
      "outputs": [
        {
          "output_type": "stream",
          "name": "stderr",
          "text": [
            "<ipython-input-71-922d4b23c57c>:1: VisibleDeprecationWarning: Creating an ndarray from ragged nested sequences (which is a list-or-tuple of lists-or-tuples-or ndarrays with different lengths or shapes) is deprecated. If you meant to do this, you must specify 'dtype=object' when creating the ndarray.\n",
            "  C = np.array([\n"
          ]
        }
      ],
      "source": [
        "C = np.array([\n",
        "    [\n",
        "        [12, 11, 10],\n",
        "        [9, 8, 7],\n",
        "    ],\n",
        "    [\n",
        "        [6, 5, 4],\n",
        "        \n",
        "    ]\n",
        "])"
      ]
    },
    {
      "cell_type": "code",
      "source": [
        "type(C)"
      ],
      "metadata": {
        "colab": {
          "base_uri": "https://localhost:8080/"
        },
        "id": "pTK-5cf_wIoq",
        "outputId": "d871c273-b419-461f-8445-7ebdf4150dab"
      },
      "execution_count": null,
      "outputs": [
        {
          "output_type": "execute_result",
          "data": {
            "text/plain": [
              "numpy.ndarray"
            ]
          },
          "metadata": {},
          "execution_count": 73
        }
      ]
    },
    {
      "cell_type": "code",
      "source": [
        "C"
      ],
      "metadata": {
        "colab": {
          "base_uri": "https://localhost:8080/"
        },
        "id": "OjUUZW1kwL5s",
        "outputId": "b5797688-eea4-4621-a6dd-47f454ea45b8"
      },
      "execution_count": null,
      "outputs": [
        {
          "output_type": "execute_result",
          "data": {
            "text/plain": [
              "array([list([[12, 11, 10], [9, 8, 7]]), list([[6, 5, 4]])], dtype=object)"
            ]
          },
          "metadata": {},
          "execution_count": 74
        }
      ]
    },
    {
      "cell_type": "code",
      "execution_count": null,
      "metadata": {
        "id": "zojs3FatpF37",
        "outputId": "b9730ca6-8383-4484-c832-f872e6c291e5",
        "colab": {
          "base_uri": "https://localhost:8080/"
        }
      },
      "outputs": [
        {
          "output_type": "execute_result",
          "data": {
            "text/plain": [
              "dtype('O')"
            ]
          },
          "metadata": {},
          "execution_count": 72
        }
      ],
      "source": [
        "C.dtype"
      ]
    },
    {
      "cell_type": "code",
      "execution_count": null,
      "metadata": {
        "id": "qtOuiRC-pF37",
        "outputId": "46ad5581-ebbf-4491-b4f4-323f56b73164",
        "colab": {
          "base_uri": "https://localhost:8080/"
        }
      },
      "outputs": [
        {
          "output_type": "execute_result",
          "data": {
            "text/plain": [
              "(2,)"
            ]
          },
          "metadata": {},
          "execution_count": 75
        }
      ],
      "source": [
        "C.shape"
      ]
    },
    {
      "cell_type": "code",
      "execution_count": null,
      "metadata": {
        "id": "e8hVWBczpF37",
        "outputId": "a1e7e990-4bfb-45c9-9b09-12757cc2f3a4"
      },
      "outputs": [
        {
          "data": {
            "text/plain": [
              "2"
            ]
          },
          "execution_count": 35,
          "metadata": {},
          "output_type": "execute_result"
        }
      ],
      "source": [
        "C.size"
      ]
    },
    {
      "cell_type": "code",
      "execution_count": null,
      "metadata": {
        "id": "7M9kizxApF37",
        "colab": {
          "base_uri": "https://localhost:8080/"
        },
        "outputId": "516c0b8a-d2a9-4c8f-d50a-9be328a0719f"
      },
      "outputs": [
        {
          "output_type": "execute_result",
          "data": {
            "text/plain": [
              "list"
            ]
          },
          "metadata": {},
          "execution_count": 76
        }
      ],
      "source": [
        "type(C[0])"
      ]
    },
    {
      "cell_type": "markdown",
      "metadata": {
        "id": "C5QiEJocpF38"
      },
      "source": [
        "![green-divider](https://user-images.githubusercontent.com/7065401/52071924-c003ad80-2562-11e9-8297-1c6595f8a7ff.png)\n",
        "\n",
        "## Indexing and Slicing of Matrices"
      ]
    },
    {
      "cell_type": "code",
      "execution_count": null,
      "metadata": {
        "id": "4S_uVUFTpF38"
      },
      "outputs": [],
      "source": [
        "import numpy as np\n",
        "# Square matrix\n",
        "A = np.array([\n",
        "#.   0. 1. 2\n",
        "    [1, 2, 3], # 0\n",
        "    [4, 5, 6], # 1\n",
        "    [7, 8, 9]  # 2\n",
        "])"
      ]
    },
    {
      "cell_type": "code",
      "source": [
        "A"
      ],
      "metadata": {
        "colab": {
          "base_uri": "https://localhost:8080/"
        },
        "id": "U4cjqjgYDxTJ",
        "outputId": "329d1edd-b154-4104-89bf-960caf951172"
      },
      "execution_count": null,
      "outputs": [
        {
          "output_type": "execute_result",
          "data": {
            "text/plain": [
              "array([[1, 2, 3],\n",
              "       [4, 5, 6],\n",
              "       [7, 8, 9]])"
            ]
          },
          "metadata": {},
          "execution_count": 4
        }
      ]
    },
    {
      "cell_type": "code",
      "source": [
        "A[2][0]"
      ],
      "metadata": {
        "colab": {
          "base_uri": "https://localhost:8080/"
        },
        "id": "bkTcBCqXE_TJ",
        "outputId": "4bfacadc-ecd6-453d-e775-4c7f3fe4b6a4"
      },
      "execution_count": null,
      "outputs": [
        {
          "output_type": "execute_result",
          "data": {
            "text/plain": [
              "7"
            ]
          },
          "metadata": {},
          "execution_count": 10
        }
      ]
    },
    {
      "cell_type": "code",
      "source": [
        "a_list = [7, 8, 9]"
      ],
      "metadata": {
        "id": "X7IoquodvD7z"
      },
      "execution_count": null,
      "outputs": []
    },
    {
      "cell_type": "code",
      "source": [
        "a_list[2]"
      ],
      "metadata": {
        "colab": {
          "base_uri": "https://localhost:8080/"
        },
        "id": "dBQDQP0EvHPh",
        "outputId": "c3d7c896-3d4b-4c21-8ee5-4d9829f093aa"
      },
      "execution_count": null,
      "outputs": [
        {
          "output_type": "execute_result",
          "data": {
            "text/plain": [
              "9"
            ]
          },
          "metadata": {},
          "execution_count": 18
        }
      ]
    },
    {
      "cell_type": "code",
      "source": [
        "A[2][2]"
      ],
      "metadata": {
        "colab": {
          "base_uri": "https://localhost:8080/"
        },
        "id": "CDRzArW-uq1X",
        "outputId": "5b1bafff-2f25-46d0-f8b0-81ce05449df4"
      },
      "execution_count": null,
      "outputs": [
        {
          "output_type": "execute_result",
          "data": {
            "text/plain": [
              "array([7, 8, 9])"
            ]
          },
          "metadata": {},
          "execution_count": 16
        }
      ]
    },
    {
      "cell_type": "code",
      "source": [
        "A[0][1]"
      ],
      "metadata": {
        "colab": {
          "base_uri": "https://localhost:8080/"
        },
        "id": "BOEWFKmGspo3",
        "outputId": "74b725c2-b79d-49bd-c202-31e360a08a1f"
      },
      "execution_count": null,
      "outputs": [
        {
          "output_type": "execute_result",
          "data": {
            "text/plain": [
              "2"
            ]
          },
          "metadata": {},
          "execution_count": 10
        }
      ]
    },
    {
      "cell_type": "code",
      "source": [
        "A[0][0], A[2][1]"
      ],
      "metadata": {
        "colab": {
          "base_uri": "https://localhost:8080/"
        },
        "id": "NXdzv_GiwyqM",
        "outputId": "5e7aca6f-1700-464b-e71f-579da183ab01"
      },
      "execution_count": null,
      "outputs": [
        {
          "output_type": "execute_result",
          "data": {
            "text/plain": [
              "(1, 8)"
            ]
          },
          "metadata": {},
          "execution_count": 81
        }
      ]
    },
    {
      "cell_type": "code",
      "source": [
        "A[1]"
      ],
      "metadata": {
        "colab": {
          "base_uri": "https://localhost:8080/"
        },
        "id": "OqSQjnNNxkzF",
        "outputId": "924c69b3-1cf7-4415-bbd5-4efec8d47c66"
      },
      "execution_count": null,
      "outputs": [
        {
          "output_type": "execute_result",
          "data": {
            "text/plain": [
              "array([4, 5, 6])"
            ]
          },
          "metadata": {},
          "execution_count": 82
        }
      ]
    },
    {
      "cell_type": "code",
      "execution_count": null,
      "metadata": {
        "id": "cZbcp0aApF38",
        "outputId": "a3fbfe86-3772-435b-a336-d917cdf5be9f"
      },
      "outputs": [
        {
          "data": {
            "text/plain": [
              "array([4, 5, 6])"
            ]
          },
          "execution_count": 37,
          "metadata": {},
          "output_type": "execute_result"
        }
      ],
      "source": [
        "A[1]"
      ]
    },
    {
      "cell_type": "code",
      "execution_count": null,
      "metadata": {
        "id": "GsC1acb_pF39",
        "outputId": "207887c7-2302-43e6-abe4-2588d6199397"
      },
      "outputs": [
        {
          "data": {
            "text/plain": [
              "4"
            ]
          },
          "execution_count": 38,
          "metadata": {},
          "output_type": "execute_result"
        }
      ],
      "source": [
        "A[1][0]"
      ]
    },
    {
      "cell_type": "code",
      "execution_count": null,
      "metadata": {
        "id": "cRClqJISpF39"
      },
      "outputs": [],
      "source": [
        "# A[d1, d2, d3, d4]"
      ]
    },
    {
      "cell_type": "code",
      "source": [
        "A"
      ],
      "metadata": {
        "colab": {
          "base_uri": "https://localhost:8080/"
        },
        "id": "T0IUce0GyOfq",
        "outputId": "1c2251e5-f0b9-4fbe-e5d7-f6fe7dc72a83"
      },
      "execution_count": null,
      "outputs": [
        {
          "output_type": "execute_result",
          "data": {
            "text/plain": [
              "array([[1, 2, 3],\n",
              "       [4, 5, 6],\n",
              "       [7, 8, 9]])"
            ]
          },
          "metadata": {},
          "execution_count": 83
        }
      ]
    },
    {
      "cell_type": "code",
      "execution_count": null,
      "metadata": {
        "id": "1MUKPCp1pF39",
        "outputId": "5c3ba1cf-13e6-48e8-fb77-057558fb8190",
        "colab": {
          "base_uri": "https://localhost:8080/"
        }
      },
      "outputs": [
        {
          "output_type": "execute_result",
          "data": {
            "text/plain": [
              "4"
            ]
          },
          "metadata": {},
          "execution_count": 84
        }
      ],
      "source": [
        "A[1, 0]"
      ]
    },
    {
      "cell_type": "code",
      "source": [
        "A"
      ],
      "metadata": {
        "colab": {
          "base_uri": "https://localhost:8080/"
        },
        "id": "viH9IzdRyo9c",
        "outputId": "9153ce40-d8a3-4067-9368-8b98f25e1333"
      },
      "execution_count": null,
      "outputs": [
        {
          "output_type": "execute_result",
          "data": {
            "text/plain": [
              "array([[1, 2, 3],\n",
              "       [4, 5, 6],\n",
              "       [7, 8, 9]])"
            ]
          },
          "metadata": {},
          "execution_count": 12
        }
      ]
    },
    {
      "cell_type": "code",
      "source": [
        "A[2:3, 0:1]"
      ],
      "metadata": {
        "colab": {
          "base_uri": "https://localhost:8080/"
        },
        "id": "iLOyk9NSGIA3",
        "outputId": "a48b6dc7-7e96-463b-c946-ab9e0af5d40e"
      },
      "execution_count": null,
      "outputs": [
        {
          "output_type": "execute_result",
          "data": {
            "text/plain": [
              "array([[7]])"
            ]
          },
          "metadata": {},
          "execution_count": 15
        }
      ]
    },
    {
      "cell_type": "code",
      "source": [
        "A[1:3, 1:3]"
      ],
      "metadata": {
        "colab": {
          "base_uri": "https://localhost:8080/"
        },
        "id": "jn1pAfw3IVeZ",
        "outputId": "763c1711-abc2-437a-9f16-ed182f562e16"
      },
      "execution_count": null,
      "outputs": [
        {
          "output_type": "execute_result",
          "data": {
            "text/plain": [
              "array([[5, 6],\n",
              "       [8, 9]])"
            ]
          },
          "metadata": {},
          "execution_count": 17
        }
      ]
    },
    {
      "cell_type": "code",
      "source": [
        "A[2][0]"
      ],
      "metadata": {
        "colab": {
          "base_uri": "https://localhost:8080/"
        },
        "id": "4eigMJiOGHyu",
        "outputId": "cbabd178-88ce-4bab-f7de-4b7406df69c7"
      },
      "execution_count": null,
      "outputs": [
        {
          "output_type": "execute_result",
          "data": {
            "text/plain": [
              "7"
            ]
          },
          "metadata": {},
          "execution_count": 16
        }
      ]
    },
    {
      "cell_type": "code",
      "source": [
        "A[ : , 1 :2]"
      ],
      "metadata": {
        "colab": {
          "base_uri": "https://localhost:8080/"
        },
        "id": "vA8gZeaJ07ZZ",
        "outputId": "0682d0d4-3db7-4d18-af11-aedb8c4e8334"
      },
      "execution_count": null,
      "outputs": [
        {
          "output_type": "execute_result",
          "data": {
            "text/plain": [
              "array([[2],\n",
              "       [5],\n",
              "       [8]])"
            ]
          },
          "metadata": {},
          "execution_count": 31
        }
      ]
    },
    {
      "cell_type": "code",
      "source": [
        "A[0:, 1].shape"
      ],
      "metadata": {
        "colab": {
          "base_uri": "https://localhost:8080/"
        },
        "id": "YGES92ZK1LPp",
        "outputId": "a06b217d-c0db-4180-9129-6f2a1923a9aa"
      },
      "execution_count": null,
      "outputs": [
        {
          "output_type": "execute_result",
          "data": {
            "text/plain": [
              "(3,)"
            ]
          },
          "metadata": {},
          "execution_count": 30
        }
      ]
    },
    {
      "cell_type": "code",
      "source": [
        "A[1:,:2]"
      ],
      "metadata": {
        "colab": {
          "base_uri": "https://localhost:8080/"
        },
        "id": "OOTMvotAzvL1",
        "outputId": "421a9e99-25e7-4f0d-c293-d1618683091e"
      },
      "execution_count": null,
      "outputs": [
        {
          "output_type": "execute_result",
          "data": {
            "text/plain": [
              "array([[4, 5],\n",
              "       [7, 8]])"
            ]
          },
          "metadata": {},
          "execution_count": 26
        }
      ]
    },
    {
      "cell_type": "code",
      "source": [
        "A[0:2,1:]"
      ],
      "metadata": {
        "colab": {
          "base_uri": "https://localhost:8080/"
        },
        "id": "h14mpyqZxxeg",
        "outputId": "1e72f75f-b695-4b67-feaa-0ac496dd6a9c"
      },
      "execution_count": null,
      "outputs": [
        {
          "output_type": "execute_result",
          "data": {
            "text/plain": [
              "array([[2, 3],\n",
              "       [5, 6]])"
            ]
          },
          "metadata": {},
          "execution_count": 24
        }
      ]
    },
    {
      "cell_type": "code",
      "source": [
        "A[0][2]"
      ],
      "metadata": {
        "colab": {
          "base_uri": "https://localhost:8080/"
        },
        "id": "bX70ehVh0ob-",
        "outputId": "25bda0b1-9aab-4806-d04b-bc746cdeff35"
      },
      "execution_count": null,
      "outputs": [
        {
          "output_type": "execute_result",
          "data": {
            "text/plain": [
              "3"
            ]
          },
          "metadata": {},
          "execution_count": 91
        }
      ]
    },
    {
      "cell_type": "code",
      "source": [
        "A[:3,2:3]"
      ],
      "metadata": {
        "colab": {
          "base_uri": "https://localhost:8080/"
        },
        "id": "zl3eQ2i_0u4C",
        "outputId": "6eb99bc5-4bcc-4beb-8a26-118cb61a474c"
      },
      "execution_count": null,
      "outputs": [
        {
          "output_type": "execute_result",
          "data": {
            "text/plain": [
              "array([[3],\n",
              "       [6],\n",
              "       [9]])"
            ]
          },
          "metadata": {},
          "execution_count": 94
        }
      ]
    },
    {
      "cell_type": "code",
      "source": [
        "A[0:2,2]"
      ],
      "metadata": {
        "colab": {
          "base_uri": "https://localhost:8080/"
        },
        "id": "oOJ_deCkzZbH",
        "outputId": "664c8e38-5372-4b2b-c43a-d74b924113d3"
      },
      "execution_count": null,
      "outputs": [
        {
          "output_type": "execute_result",
          "data": {
            "text/plain": [
              "array([3, 6])"
            ]
          },
          "metadata": {},
          "execution_count": 90
        }
      ]
    },
    {
      "cell_type": "code",
      "execution_count": null,
      "metadata": {
        "scrolled": true,
        "id": "sigp51XqpF39",
        "outputId": "d3c1c384-ed18-48c5-fe60-ca1461f26c1a"
      },
      "outputs": [
        {
          "data": {
            "text/plain": [
              "array([[1, 2, 3],\n",
              "       [4, 5, 6]])"
            ]
          },
          "execution_count": 40,
          "metadata": {},
          "output_type": "execute_result"
        }
      ],
      "source": [
        "A[0:2]"
      ]
    },
    {
      "cell_type": "code",
      "execution_count": null,
      "metadata": {
        "id": "NRhdif0DpF3-",
        "outputId": "234942af-9eb6-4ff3-b198-7d27d0aefc36"
      },
      "outputs": [
        {
          "data": {
            "text/plain": [
              "array([[1, 2],\n",
              "       [4, 5],\n",
              "       [7, 8]])"
            ]
          },
          "execution_count": 41,
          "metadata": {},
          "output_type": "execute_result"
        }
      ],
      "source": [
        "A[:, :2]"
      ]
    },
    {
      "cell_type": "code",
      "execution_count": null,
      "metadata": {
        "id": "wR2lsI6hpF3-",
        "outputId": "aa80c0da-12f2-48ef-c211-db9be3a020d3"
      },
      "outputs": [
        {
          "data": {
            "text/plain": [
              "array([[1, 2],\n",
              "       [4, 5]])"
            ]
          },
          "execution_count": 42,
          "metadata": {},
          "output_type": "execute_result"
        }
      ],
      "source": [
        "A[:2, :2]"
      ]
    },
    {
      "cell_type": "code",
      "execution_count": null,
      "metadata": {
        "id": "sqqiPsVVpF3-",
        "outputId": "1fae1ca6-b32d-43e7-fa5d-2ef9bcf82f89"
      },
      "outputs": [
        {
          "data": {
            "text/plain": [
              "array([[3],\n",
              "       [6]])"
            ]
          },
          "execution_count": 43,
          "metadata": {},
          "output_type": "execute_result"
        }
      ],
      "source": [
        "A[:2, 2:]"
      ]
    },
    {
      "cell_type": "code",
      "execution_count": null,
      "metadata": {
        "id": "dFo3JV8JpF3_",
        "outputId": "e2b5f72f-b68c-429e-bff5-d54cda16a4aa"
      },
      "outputs": [
        {
          "data": {
            "text/plain": [
              "array([[1, 2, 3],\n",
              "       [4, 5, 6],\n",
              "       [7, 8, 9]])"
            ]
          },
          "execution_count": 44,
          "metadata": {},
          "output_type": "execute_result"
        }
      ],
      "source": [
        "A"
      ]
    },
    {
      "cell_type": "code",
      "execution_count": null,
      "metadata": {
        "id": "qRBUFpv8pF3_"
      },
      "outputs": [],
      "source": [
        "A[1] = np.array([10, 10, 10])"
      ]
    },
    {
      "cell_type": "code",
      "execution_count": null,
      "metadata": {
        "id": "9brUSAPBpF3_",
        "outputId": "520f28f0-3eb5-4879-8eb4-0cb6903ff649"
      },
      "outputs": [
        {
          "data": {
            "text/plain": [
              "array([[ 1,  2,  3],\n",
              "       [10, 10, 10],\n",
              "       [ 7,  8,  9]])"
            ]
          },
          "execution_count": 46,
          "metadata": {},
          "output_type": "execute_result"
        }
      ],
      "source": [
        "A"
      ]
    },
    {
      "cell_type": "code",
      "execution_count": null,
      "metadata": {
        "id": "MRexoFLYpF3_"
      },
      "outputs": [],
      "source": [
        "A[2] = 99"
      ]
    },
    {
      "cell_type": "code",
      "execution_count": null,
      "metadata": {
        "id": "CS96IViupF4A",
        "outputId": "35e9bf87-bd9f-4203-f715-5394288ee2c4"
      },
      "outputs": [
        {
          "data": {
            "text/plain": [
              "array([[ 1,  2,  3],\n",
              "       [10, 10, 10],\n",
              "       [99, 99, 99]])"
            ]
          },
          "execution_count": 48,
          "metadata": {},
          "output_type": "execute_result"
        }
      ],
      "source": [
        "A"
      ]
    },
    {
      "cell_type": "markdown",
      "metadata": {
        "id": "uTz9BIkmpF4A"
      },
      "source": [
        "![green-divider](https://user-images.githubusercontent.com/7065401/52071924-c003ad80-2562-11e9-8297-1c6595f8a7ff.png)\n",
        "\n",
        "## Summary statistics"
      ]
    },
    {
      "cell_type": "code",
      "execution_count": null,
      "metadata": {
        "id": "px5Sdk7KpF4A"
      },
      "outputs": [],
      "source": [
        "a = np.array([1, 2, 3, 4])"
      ]
    },
    {
      "cell_type": "code",
      "execution_count": null,
      "metadata": {
        "id": "U7S-NVcmpF4B",
        "outputId": "72432acd-cb9d-4736-f945-07f3008125a6",
        "colab": {
          "base_uri": "https://localhost:8080/"
        }
      },
      "outputs": [
        {
          "output_type": "execute_result",
          "data": {
            "text/plain": [
              "10"
            ]
          },
          "metadata": {},
          "execution_count": 33
        }
      ],
      "source": [
        "a.sum()"
      ]
    },
    {
      "cell_type": "code",
      "execution_count": null,
      "metadata": {
        "id": "N-kghdWzpF4B",
        "outputId": "b22cc9b5-b61a-46e0-cae8-0100f157bb1b"
      },
      "outputs": [
        {
          "data": {
            "text/plain": [
              "2.5"
            ]
          },
          "execution_count": 51,
          "metadata": {},
          "output_type": "execute_result"
        }
      ],
      "source": [
        "a.mean()"
      ]
    },
    {
      "cell_type": "code",
      "execution_count": null,
      "metadata": {
        "id": "ZJ4_Q3tUpF4B",
        "outputId": "0dfdc3ed-8fe8-4756-9fdc-902043a42fea"
      },
      "outputs": [
        {
          "data": {
            "text/plain": [
              "1.118033988749895"
            ]
          },
          "execution_count": 52,
          "metadata": {},
          "output_type": "execute_result"
        }
      ],
      "source": [
        "a.std()"
      ]
    },
    {
      "cell_type": "code",
      "execution_count": null,
      "metadata": {
        "id": "jTDnrSH9pF4B",
        "outputId": "d5e0ef17-5a9d-4328-a208-f83692c9ffc9"
      },
      "outputs": [
        {
          "data": {
            "text/plain": [
              "1.25"
            ]
          },
          "execution_count": 53,
          "metadata": {},
          "output_type": "execute_result"
        }
      ],
      "source": [
        "a.var()"
      ]
    },
    {
      "cell_type": "code",
      "execution_count": null,
      "metadata": {
        "id": "6y6GJp4KpF4C"
      },
      "outputs": [],
      "source": [
        "A = np.array([\n",
        "    [1, 2, 3],\n",
        "    [4, 5, 6],\n",
        "    [7, 8, 9]\n",
        "])"
      ]
    },
    {
      "cell_type": "code",
      "source": [
        "A[0:2].sum()"
      ],
      "metadata": {
        "colab": {
          "base_uri": "https://localhost:8080/"
        },
        "id": "Tlo6UIj33Oyg",
        "outputId": "47d9d1af-0c5f-4903-9a8d-b931f3a4605b"
      },
      "execution_count": null,
      "outputs": [
        {
          "output_type": "execute_result",
          "data": {
            "text/plain": [
              "21"
            ]
          },
          "metadata": {},
          "execution_count": 38
        }
      ]
    },
    {
      "cell_type": "code",
      "source": [
        "A.max()"
      ],
      "metadata": {
        "colab": {
          "base_uri": "https://localhost:8080/"
        },
        "id": "E5OmO2yz3Exi",
        "outputId": "6eb9165b-2c83-447f-99bf-a3ef3cc2f0d8"
      },
      "execution_count": null,
      "outputs": [
        {
          "output_type": "execute_result",
          "data": {
            "text/plain": [
              "9"
            ]
          },
          "metadata": {},
          "execution_count": 35
        }
      ]
    },
    {
      "cell_type": "code",
      "source": [
        "A.min()"
      ],
      "metadata": {
        "colab": {
          "base_uri": "https://localhost:8080/"
        },
        "id": "gVIcba0P3JnZ",
        "outputId": "ca11c32a-8a90-43d5-8df8-b8923eeba40f"
      },
      "execution_count": null,
      "outputs": [
        {
          "output_type": "execute_result",
          "data": {
            "text/plain": [
              "1"
            ]
          },
          "metadata": {},
          "execution_count": 36
        }
      ]
    },
    {
      "cell_type": "code",
      "execution_count": null,
      "metadata": {
        "id": "6E9jagUXpF4C",
        "outputId": "14579fdf-8aff-4b99-bd35-ca7a51417a6d"
      },
      "outputs": [
        {
          "data": {
            "text/plain": [
              "45"
            ]
          },
          "execution_count": 55,
          "metadata": {},
          "output_type": "execute_result"
        }
      ],
      "source": [
        "A.sum()"
      ]
    },
    {
      "cell_type": "code",
      "execution_count": null,
      "metadata": {
        "id": "0yDK7FbnpF4D",
        "outputId": "7044db9c-7512-4e9b-dd3b-830683d1b64e"
      },
      "outputs": [
        {
          "data": {
            "text/plain": [
              "5.0"
            ]
          },
          "execution_count": 56,
          "metadata": {},
          "output_type": "execute_result"
        }
      ],
      "source": [
        "A.mean()"
      ]
    },
    {
      "cell_type": "code",
      "execution_count": null,
      "metadata": {
        "id": "zzGcYKcwpF4D",
        "outputId": "09105cb5-f8bd-4a0f-c76f-b20fccaba646"
      },
      "outputs": [
        {
          "data": {
            "text/plain": [
              "2.581988897471611"
            ]
          },
          "execution_count": 57,
          "metadata": {},
          "output_type": "execute_result"
        }
      ],
      "source": [
        "A.std()"
      ]
    },
    {
      "cell_type": "code",
      "source": [
        "A"
      ],
      "metadata": {
        "colab": {
          "base_uri": "https://localhost:8080/"
        },
        "id": "lLMz8ysI3cgj",
        "outputId": "cb87ed30-a999-431b-d766-0cf6f0939d8a"
      },
      "execution_count": null,
      "outputs": [
        {
          "output_type": "execute_result",
          "data": {
            "text/plain": [
              "array([[1, 2, 3],\n",
              "       [4, 5, 6],\n",
              "       [7, 8, 9]])"
            ]
          },
          "metadata": {},
          "execution_count": 39
        }
      ]
    },
    {
      "cell_type": "code",
      "execution_count": null,
      "metadata": {
        "id": "AVMpjTJfpF4E",
        "outputId": "b0358fe5-4a4b-44e9-c70f-87d18b6e8f81",
        "colab": {
          "base_uri": "https://localhost:8080/"
        }
      },
      "outputs": [
        {
          "output_type": "execute_result",
          "data": {
            "text/plain": [
              "array([12, 15, 18])"
            ]
          },
          "metadata": {},
          "execution_count": 40
        }
      ],
      "source": [
        "A.sum(axis=0)"
      ]
    },
    {
      "cell_type": "code",
      "execution_count": null,
      "metadata": {
        "id": "mY5niWwNpF4E",
        "outputId": "40527d64-7eef-409c-d0bf-7fa77f91a30e"
      },
      "outputs": [
        {
          "data": {
            "text/plain": [
              "array([ 6, 15, 24])"
            ]
          },
          "execution_count": 59,
          "metadata": {},
          "output_type": "execute_result"
        }
      ],
      "source": [
        "A.sum(axis=1)"
      ]
    },
    {
      "cell_type": "code",
      "execution_count": null,
      "metadata": {
        "scrolled": true,
        "id": "lZjTJEnWpF4E",
        "outputId": "457e1987-c054-4163-cb6b-dd8e697b969e"
      },
      "outputs": [
        {
          "data": {
            "text/plain": [
              "array([4., 5., 6.])"
            ]
          },
          "execution_count": 60,
          "metadata": {},
          "output_type": "execute_result"
        }
      ],
      "source": [
        "A.mean(axis=0)"
      ]
    },
    {
      "cell_type": "code",
      "execution_count": null,
      "metadata": {
        "id": "N4ygW_UkpF4F",
        "outputId": "32caf95a-b920-44f0-c755-62c23693cd12"
      },
      "outputs": [
        {
          "data": {
            "text/plain": [
              "array([2., 5., 8.])"
            ]
          },
          "execution_count": 61,
          "metadata": {},
          "output_type": "execute_result"
        }
      ],
      "source": [
        "A.mean(axis=1)"
      ]
    },
    {
      "cell_type": "code",
      "execution_count": null,
      "metadata": {
        "id": "A4R3t-GJpF4F",
        "outputId": "e1f27e91-59ce-40d1-b3b1-7dc8833a4910"
      },
      "outputs": [
        {
          "data": {
            "text/plain": [
              "array([2.44948974, 2.44948974, 2.44948974])"
            ]
          },
          "execution_count": 62,
          "metadata": {},
          "output_type": "execute_result"
        }
      ],
      "source": [
        "A.std(axis=0)"
      ]
    },
    {
      "cell_type": "code",
      "execution_count": null,
      "metadata": {
        "scrolled": true,
        "id": "ITcHiCtCpF4F",
        "outputId": "cb6dd71b-dd4c-4831-ce94-d1b3355f529b"
      },
      "outputs": [
        {
          "data": {
            "text/plain": [
              "array([0.81649658, 0.81649658, 0.81649658])"
            ]
          },
          "execution_count": 63,
          "metadata": {},
          "output_type": "execute_result"
        }
      ],
      "source": [
        "A.std(axis=1)"
      ]
    },
    {
      "cell_type": "markdown",
      "metadata": {
        "id": "71ms1DsRpF4G"
      },
      "source": [
        "And [many more](https://docs.scipy.org/doc/numpy-1.13.0/reference/arrays.ndarray.html#array-methods)..."
      ]
    },
    {
      "cell_type": "markdown",
      "metadata": {
        "id": "QTsA77nlpF4G"
      },
      "source": [
        "![green-divider](https://user-images.githubusercontent.com/7065401/52071924-c003ad80-2562-11e9-8297-1c6595f8a7ff.png)\n",
        "\n",
        "## Broadcasting and Vectorized operations"
      ]
    },
    {
      "cell_type": "code",
      "execution_count": null,
      "metadata": {
        "id": "pkrIKDxrpF4G"
      },
      "outputs": [],
      "source": [
        "a = np.arange(4)"
      ]
    },
    {
      "cell_type": "code",
      "execution_count": null,
      "metadata": {
        "id": "ItRdTn2fpF4G",
        "outputId": "2f5e5b9d-cad4-4065-930f-ede9e5253007",
        "colab": {
          "base_uri": "https://localhost:8080/"
        }
      },
      "outputs": [
        {
          "output_type": "execute_result",
          "data": {
            "text/plain": [
              "array([0, 1, 2, 3])"
            ]
          },
          "metadata": {},
          "execution_count": 3
        }
      ],
      "source": [
        "a"
      ]
    },
    {
      "cell_type": "code",
      "execution_count": null,
      "metadata": {
        "id": "3dY1IyPnpF4H",
        "outputId": "beb47534-dd0c-438e-c71d-03985cd3b76e",
        "colab": {
          "base_uri": "https://localhost:8080/"
        }
      },
      "outputs": [
        {
          "output_type": "execute_result",
          "data": {
            "text/plain": [
              "array([10, 11, 12, 13])"
            ]
          },
          "metadata": {},
          "execution_count": 57
        }
      ],
      "source": [
        "a + 10"
      ]
    },
    {
      "cell_type": "code",
      "execution_count": null,
      "metadata": {
        "id": "e3eRtO__pF4H"
      },
      "outputs": [],
      "source": [
        "a = a * 10"
      ]
    },
    {
      "cell_type": "code",
      "source": [
        "a = 5\n",
        "a = a + 4"
      ],
      "metadata": {
        "id": "zP5eS9jI5CLS"
      },
      "execution_count": null,
      "outputs": []
    },
    {
      "cell_type": "code",
      "source": [
        "a"
      ],
      "metadata": {
        "colab": {
          "base_uri": "https://localhost:8080/"
        },
        "id": "CFB_kF1k5Sx9",
        "outputId": "976c8ec6-2c61-4198-9108-90b258c8c067"
      },
      "execution_count": null,
      "outputs": [
        {
          "output_type": "execute_result",
          "data": {
            "text/plain": [
              "9"
            ]
          },
          "metadata": {},
          "execution_count": 54
        }
      ]
    },
    {
      "cell_type": "code",
      "execution_count": null,
      "metadata": {
        "id": "LpBdkmjXpF4H",
        "outputId": "43d84a03-0d48-4882-8e0f-847a1f201fe4",
        "colab": {
          "base_uri": "https://localhost:8080/"
        }
      },
      "outputs": [
        {
          "output_type": "execute_result",
          "data": {
            "text/plain": [
              "array([0, 1, 2, 3])"
            ]
          },
          "metadata": {},
          "execution_count": 58
        }
      ],
      "source": [
        "a"
      ]
    },
    {
      "cell_type": "code",
      "execution_count": null,
      "metadata": {
        "id": "ank2DpfppF4I"
      },
      "outputs": [],
      "source": [
        "a += 100"
      ]
    },
    {
      "cell_type": "code",
      "execution_count": null,
      "metadata": {
        "id": "SrYhHoCNpF4I",
        "outputId": "259b3d78-a105-4880-8900-2455df09e4d6",
        "colab": {
          "base_uri": "https://localhost:8080/"
        }
      },
      "outputs": [
        {
          "output_type": "execute_result",
          "data": {
            "text/plain": [
              "array([100, 101, 102, 103])"
            ]
          },
          "metadata": {},
          "execution_count": 60
        }
      ],
      "source": [
        "a"
      ]
    },
    {
      "cell_type": "code",
      "execution_count": null,
      "metadata": {
        "id": "l1nzN8QzpF4I"
      },
      "outputs": [],
      "source": [
        "l = [0, 1, 2, 3]"
      ]
    },
    {
      "cell_type": "code",
      "source": [
        "l_new = []\n",
        "for i in l:\n",
        "  l_new.append(i * 10)"
      ],
      "metadata": {
        "id": "fLL7nITr6mLZ"
      },
      "execution_count": null,
      "outputs": []
    },
    {
      "cell_type": "code",
      "source": [
        "l_new"
      ],
      "metadata": {
        "colab": {
          "base_uri": "https://localhost:8080/"
        },
        "id": "lvWMrYq56-Vj",
        "outputId": "a8d10abf-1f37-469f-f8e0-fba16da3e60f"
      },
      "execution_count": null,
      "outputs": [
        {
          "output_type": "execute_result",
          "data": {
            "text/plain": [
              "[0, 10, 20, 30]"
            ]
          },
          "metadata": {},
          "execution_count": 64
        }
      ]
    },
    {
      "cell_type": "code",
      "execution_count": null,
      "metadata": {
        "id": "tNbpLbOSpF4I",
        "outputId": "ad5fbd93-1855-42a1-9e8c-934d8bc5b607",
        "colab": {
          "base_uri": "https://localhost:8080/"
        }
      },
      "outputs": [
        {
          "output_type": "execute_result",
          "data": {
            "text/plain": [
              "[0, 10, 20, 30]"
            ]
          },
          "metadata": {},
          "execution_count": 67
        }
      ],
      "source": [
        "[i * 10 for i in l]"
      ]
    },
    {
      "cell_type": "code",
      "execution_count": null,
      "metadata": {
        "id": "Apqe3tMwpF4J"
      },
      "outputs": [],
      "source": [
        "a = np.arange(4)"
      ]
    },
    {
      "cell_type": "code",
      "execution_count": null,
      "metadata": {
        "id": "M1rYXsr3pF4J",
        "outputId": "7245de2b-8330-498c-d38b-9ad12fa2a61d",
        "colab": {
          "base_uri": "https://localhost:8080/"
        }
      },
      "outputs": [
        {
          "output_type": "execute_result",
          "data": {
            "text/plain": [
              "array([0, 1, 2, 3])"
            ]
          },
          "metadata": {},
          "execution_count": 70
        }
      ],
      "source": [
        "a"
      ]
    },
    {
      "cell_type": "code",
      "execution_count": null,
      "metadata": {
        "id": "k6xVqPHBpF4J"
      },
      "outputs": [],
      "source": [
        "b = np.array([10, 10, 10, 10])"
      ]
    },
    {
      "cell_type": "code",
      "execution_count": null,
      "metadata": {
        "id": "WKFJ712TpF4J",
        "outputId": "7c769a67-425e-4c07-d04e-b3985c8158ab",
        "colab": {
          "base_uri": "https://localhost:8080/"
        }
      },
      "outputs": [
        {
          "output_type": "execute_result",
          "data": {
            "text/plain": [
              "array([10, 10, 10, 10])"
            ]
          },
          "metadata": {},
          "execution_count": 72
        }
      ],
      "source": [
        "b"
      ]
    },
    {
      "cell_type": "code",
      "execution_count": null,
      "metadata": {
        "id": "A-64wM1CpF4K",
        "outputId": "7af3e5e0-c1d3-415f-91ab-f4c2c3d44404"
      },
      "outputs": [
        {
          "data": {
            "text/plain": [
              "array([10, 11, 12, 13])"
            ]
          },
          "execution_count": 80,
          "metadata": {},
          "output_type": "execute_result"
        }
      ],
      "source": [
        "a + b"
      ]
    },
    {
      "cell_type": "code",
      "execution_count": null,
      "metadata": {
        "id": "_K0zxfFXpF4K",
        "outputId": "4d627589-b35a-449b-a978-efe6b476196d"
      },
      "outputs": [
        {
          "data": {
            "text/plain": [
              "array([ 0, 10, 20, 30])"
            ]
          },
          "execution_count": 81,
          "metadata": {},
          "output_type": "execute_result"
        }
      ],
      "source": [
        "a * b"
      ]
    },
    {
      "cell_type": "markdown",
      "metadata": {
        "id": "SkmI7y1hpF4K"
      },
      "source": [
        "![green-divider](https://user-images.githubusercontent.com/7065401/52071924-c003ad80-2562-11e9-8297-1c6595f8a7ff.png)\n",
        "\n",
        "## Boolean arrays\n",
        "_(Also called masks)_"
      ]
    },
    {
      "cell_type": "code",
      "execution_count": null,
      "metadata": {
        "id": "-vpj4M3ApF4L"
      },
      "outputs": [],
      "source": [
        "a = np.arange(4)"
      ]
    },
    {
      "cell_type": "code",
      "execution_count": null,
      "metadata": {
        "id": "dPV19_NqpF4L",
        "outputId": "941ecc92-3176-4c74-8934-08b8579eeb45",
        "colab": {
          "base_uri": "https://localhost:8080/"
        }
      },
      "outputs": [
        {
          "output_type": "execute_result",
          "data": {
            "text/plain": [
              "array([0, 1, 2, 3])"
            ]
          },
          "metadata": {},
          "execution_count": 19
        }
      ],
      "source": [
        "a"
      ]
    },
    {
      "cell_type": "code",
      "execution_count": null,
      "metadata": {
        "id": "5WyLceAjpF4M",
        "outputId": "df5761ed-0582-4763-e0e1-4b52af7d1878"
      },
      "outputs": [
        {
          "data": {
            "text/plain": [
              "(0, 3)"
            ]
          },
          "execution_count": 85,
          "metadata": {},
          "output_type": "execute_result"
        }
      ],
      "source": [
        "a[0], a[-1]"
      ]
    },
    {
      "cell_type": "code",
      "execution_count": null,
      "metadata": {
        "id": "7nclMWCupF4M",
        "outputId": "272fec1e-26cc-43e0-d8d8-c1e8e740b726",
        "colab": {
          "base_uri": "https://localhost:8080/"
        }
      },
      "outputs": [
        {
          "output_type": "execute_result",
          "data": {
            "text/plain": [
              "array([0, 3])"
            ]
          },
          "metadata": {},
          "execution_count": 75
        }
      ],
      "source": [
        "a[[0, -1]]"
      ]
    },
    {
      "cell_type": "code",
      "source": [
        "a"
      ],
      "metadata": {
        "colab": {
          "base_uri": "https://localhost:8080/"
        },
        "id": "cdV4-jba8qLG",
        "outputId": "cb1a2c44-d579-4e8d-8499-3df358b8d1cf"
      },
      "execution_count": null,
      "outputs": [
        {
          "output_type": "execute_result",
          "data": {
            "text/plain": [
              "array([0, 1, 2, 3])"
            ]
          },
          "metadata": {},
          "execution_count": 20
        }
      ]
    },
    {
      "cell_type": "code",
      "execution_count": null,
      "metadata": {
        "id": "mDWb-MmvpF4M",
        "outputId": "12382f49-796b-4116-da3e-3001aab53e96",
        "colab": {
          "base_uri": "https://localhost:8080/"
        }
      },
      "outputs": [
        {
          "output_type": "execute_result",
          "data": {
            "text/plain": [
              "array([0, 2, 3])"
            ]
          },
          "metadata": {},
          "execution_count": 6
        }
      ],
      "source": [
        "a[[True, False, True, True]]"
      ]
    },
    {
      "cell_type": "code",
      "source": [
        "a[[False, True, False, True]]"
      ],
      "metadata": {
        "colab": {
          "base_uri": "https://localhost:8080/"
        },
        "id": "kO8j9kBNJL4t",
        "outputId": "a7a056fd-1bfc-48b3-db54-83cee2d0efdd"
      },
      "execution_count": null,
      "outputs": [
        {
          "output_type": "execute_result",
          "data": {
            "text/plain": [
              "array([1, 3])"
            ]
          },
          "metadata": {},
          "execution_count": 22
        }
      ]
    },
    {
      "cell_type": "code",
      "execution_count": null,
      "metadata": {
        "id": "RbTKsml_pF4M",
        "outputId": "35f81c30-2391-4bb9-b5c6-c6b24bc9d01e"
      },
      "outputs": [
        {
          "data": {
            "text/plain": [
              "array([0, 1, 2, 3])"
            ]
          },
          "execution_count": 89,
          "metadata": {},
          "output_type": "execute_result"
        }
      ],
      "source": [
        "a"
      ]
    },
    {
      "cell_type": "code",
      "execution_count": null,
      "metadata": {
        "id": "EfSK9bhVpF4N",
        "outputId": "1561caa5-8308-409b-be39-b68bc2b49b91",
        "colab": {
          "base_uri": "https://localhost:8080/"
        }
      },
      "outputs": [
        {
          "output_type": "execute_result",
          "data": {
            "text/plain": [
              "array([False, False,  True,  True])"
            ]
          },
          "metadata": {},
          "execution_count": 82
        }
      ],
      "source": [
        "a >= 2"
      ]
    },
    {
      "cell_type": "code",
      "source": [
        "a[a>=2]"
      ],
      "metadata": {
        "colab": {
          "base_uri": "https://localhost:8080/"
        },
        "id": "n3ylQb7H9lNJ",
        "outputId": "2a2193b7-4498-471f-dc60-daab919a6fc5"
      },
      "execution_count": null,
      "outputs": [
        {
          "output_type": "execute_result",
          "data": {
            "text/plain": [
              "array([2, 3])"
            ]
          },
          "metadata": {},
          "execution_count": 83
        }
      ]
    },
    {
      "cell_type": "code",
      "execution_count": null,
      "metadata": {
        "id": "nd3MEEZ4pF4N",
        "outputId": "76f47f67-cf5c-4554-d728-76b7107637ce",
        "colab": {
          "base_uri": "https://localhost:8080/"
        }
      },
      "outputs": [
        {
          "output_type": "execute_result",
          "data": {
            "text/plain": [
              "array([2, 3])"
            ]
          },
          "metadata": {},
          "execution_count": 84
        }
      ],
      "source": [
        "a[a >= 2]"
      ]
    },
    {
      "cell_type": "code",
      "execution_count": null,
      "metadata": {
        "id": "4fszhm3bpF4N",
        "outputId": "b6b59ccf-11b5-48e1-c5e1-3ea5a07caf69",
        "colab": {
          "base_uri": "https://localhost:8080/"
        }
      },
      "outputs": [
        {
          "output_type": "execute_result",
          "data": {
            "text/plain": [
              "1.5"
            ]
          },
          "metadata": {},
          "execution_count": 85
        }
      ],
      "source": [
        "a.mean()"
      ]
    },
    {
      "cell_type": "code",
      "execution_count": null,
      "metadata": {
        "scrolled": true,
        "id": "QB-lYBhfpF4O",
        "outputId": "9c5b3400-b8b1-4005-ff77-50cdaec43e92",
        "colab": {
          "base_uri": "https://localhost:8080/"
        }
      },
      "outputs": [
        {
          "output_type": "execute_result",
          "data": {
            "text/plain": [
              "array([2, 3])"
            ]
          },
          "metadata": {},
          "execution_count": 86
        }
      ],
      "source": [
        "a[a > a.mean()]"
      ]
    },
    {
      "cell_type": "code",
      "source": [
        "a> a.mean()"
      ],
      "metadata": {
        "colab": {
          "base_uri": "https://localhost:8080/"
        },
        "id": "z8tLjeYE-RqY",
        "outputId": "a5422993-b108-4742-c2a0-500157384549"
      },
      "execution_count": null,
      "outputs": [
        {
          "output_type": "execute_result",
          "data": {
            "text/plain": [
              "array([False, False,  True,  True])"
            ]
          },
          "metadata": {},
          "execution_count": 88
        }
      ]
    },
    {
      "cell_type": "code",
      "source": [
        "~(a > a.mean())"
      ],
      "metadata": {
        "colab": {
          "base_uri": "https://localhost:8080/"
        },
        "id": "xwwxgO4R-Vbg",
        "outputId": "f4c5744d-0afa-496a-9140-bc33650b4312"
      },
      "execution_count": null,
      "outputs": [
        {
          "output_type": "execute_result",
          "data": {
            "text/plain": [
              "array([ True,  True, False, False])"
            ]
          },
          "metadata": {},
          "execution_count": 89
        }
      ]
    },
    {
      "cell_type": "code",
      "execution_count": null,
      "metadata": {
        "id": "QtFStN-VpF4O",
        "outputId": "5e35adca-ab9a-487e-80e7-b4c87c1fb64c",
        "colab": {
          "base_uri": "https://localhost:8080/"
        }
      },
      "outputs": [
        {
          "output_type": "execute_result",
          "data": {
            "text/plain": [
              "array([0, 1])"
            ]
          },
          "metadata": {},
          "execution_count": 87
        }
      ],
      "source": [
        "a[~(a > a.mean())]"
      ]
    },
    {
      "cell_type": "code",
      "execution_count": null,
      "metadata": {
        "id": "xUEtztWQpF4O",
        "outputId": "18f86754-c001-45b8-f20d-6d64e28d353b"
      },
      "outputs": [
        {
          "data": {
            "text/plain": [
              "array([0, 1])"
            ]
          },
          "execution_count": 94,
          "metadata": {},
          "output_type": "execute_result"
        }
      ],
      "source": [
        "a[(a == 0) | (a == 1)]"
      ]
    },
    {
      "cell_type": "code",
      "source": [
        "a = np.array([0,1,2,3,4])\n",
        "a"
      ],
      "metadata": {
        "colab": {
          "base_uri": "https://localhost:8080/"
        },
        "id": "oW5G6NOf0Wf1",
        "outputId": "3b0b8d70-77f5-4efa-d239-43022f5f5e1c"
      },
      "execution_count": null,
      "outputs": [
        {
          "output_type": "execute_result",
          "data": {
            "text/plain": [
              "array([0, 1, 2, 3, 4])"
            ]
          },
          "metadata": {},
          "execution_count": 8
        }
      ]
    },
    {
      "cell_type": "code",
      "execution_count": null,
      "metadata": {
        "id": "wQuGF51vpF4P",
        "outputId": "f5ed0823-b192-4d35-ae82-001a7dcbf4d4",
        "colab": {
          "base_uri": "https://localhost:8080/"
        }
      },
      "outputs": [
        {
          "output_type": "execute_result",
          "data": {
            "text/plain": [
              "array([0, 2])"
            ]
          },
          "metadata": {},
          "execution_count": 10
        }
      ],
      "source": [
        "a[(a <= 2) & (a % 2 == 0)]"
      ]
    },
    {
      "cell_type": "code",
      "execution_count": null,
      "metadata": {
        "id": "GPZf7iStpF4P"
      },
      "outputs": [],
      "source": [
        "A = np.random.randint(100, size=(3, 3))"
      ]
    },
    {
      "cell_type": "code",
      "source": [
        "A"
      ],
      "metadata": {
        "colab": {
          "base_uri": "https://localhost:8080/"
        },
        "id": "VdUV7KAJ1Kin",
        "outputId": "d1092645-5f2c-42b2-d7d9-3fcdf648e07a"
      },
      "execution_count": null,
      "outputs": [
        {
          "output_type": "execute_result",
          "data": {
            "text/plain": [
              "array([[64, 88, 60],\n",
              "       [ 6, 84, 99],\n",
              "       [50, 35, 17]])"
            ]
          },
          "metadata": {},
          "execution_count": 12
        }
      ]
    },
    {
      "cell_type": "code",
      "execution_count": null,
      "metadata": {
        "id": "f-B8ZKW_pF4Q",
        "outputId": "3ded8ca0-e07d-4689-8269-50df1a213ceb",
        "colab": {
          "base_uri": "https://localhost:8080/"
        }
      },
      "outputs": [
        {
          "output_type": "execute_result",
          "data": {
            "text/plain": [
              "array([64, 60, 84, 50, 17])"
            ]
          },
          "metadata": {},
          "execution_count": 13
        }
      ],
      "source": [
        "A[np.array([\n",
        "    [True, False, True],\n",
        "    [False, True, False],\n",
        "    [True, False, True]\n",
        "])]"
      ]
    },
    {
      "cell_type": "code",
      "source": [
        "A"
      ],
      "metadata": {
        "colab": {
          "base_uri": "https://localhost:8080/"
        },
        "id": "haDc7AO42J_a",
        "outputId": "cdd9cf9b-44e6-4f0e-e455-454896806310"
      },
      "execution_count": null,
      "outputs": [
        {
          "output_type": "execute_result",
          "data": {
            "text/plain": [
              "array([[64, 88, 60],\n",
              "       [ 6, 84, 99],\n",
              "       [50, 35, 17]])"
            ]
          },
          "metadata": {},
          "execution_count": 16
        }
      ]
    },
    {
      "cell_type": "code",
      "execution_count": null,
      "metadata": {
        "id": "tZjggR7fpF4R",
        "outputId": "ba0e22d2-17db-423c-e1be-37bc78e4b924",
        "colab": {
          "base_uri": "https://localhost:8080/"
        }
      },
      "outputs": [
        {
          "output_type": "execute_result",
          "data": {
            "text/plain": [
              "array([[ True,  True,  True],\n",
              "       [False,  True,  True],\n",
              "       [ True,  True, False]])"
            ]
          },
          "metadata": {},
          "execution_count": 14
        }
      ],
      "source": [
        "A > 30"
      ]
    },
    {
      "cell_type": "code",
      "source": [
        "A[A>30]"
      ],
      "metadata": {
        "colab": {
          "base_uri": "https://localhost:8080/"
        },
        "id": "0ZaQWKtB17y9",
        "outputId": "ecedbf75-f2cd-4a22-8928-807f7533629b"
      },
      "execution_count": null,
      "outputs": [
        {
          "output_type": "execute_result",
          "data": {
            "text/plain": [
              "array([64, 88, 60, 84, 99, 50, 35])"
            ]
          },
          "metadata": {},
          "execution_count": 15
        }
      ]
    },
    {
      "cell_type": "markdown",
      "metadata": {
        "id": "hvv5hjClpF4R"
      },
      "source": [
        "![green-divider](https://user-images.githubusercontent.com/7065401/52071924-c003ad80-2562-11e9-8297-1c6595f8a7ff.png)\n",
        "\n",
        "## Linear Algebra"
      ]
    },
    {
      "cell_type": "code",
      "execution_count": null,
      "metadata": {
        "id": "lWwCKI8MpF4S"
      },
      "outputs": [],
      "source": [
        "A = np.array([\n",
        "    [1, 2, 3],\n",
        "    [4, 5, 6],\n",
        "    [7, 8, 9]\n",
        "])"
      ]
    },
    {
      "cell_type": "code",
      "source": [
        "A.size"
      ],
      "metadata": {
        "colab": {
          "base_uri": "https://localhost:8080/"
        },
        "id": "6-1B0EOM21vo",
        "outputId": "7e60b8db-2a66-4b81-888a-35f75dd40da7"
      },
      "execution_count": null,
      "outputs": [
        {
          "output_type": "execute_result",
          "data": {
            "text/plain": [
              "9"
            ]
          },
          "metadata": {},
          "execution_count": 19
        }
      ]
    },
    {
      "cell_type": "code",
      "source": [
        "A.shape"
      ],
      "metadata": {
        "colab": {
          "base_uri": "https://localhost:8080/"
        },
        "id": "jH3vhV1_258j",
        "outputId": "bb18688d-8cea-4cd6-aea1-85fce01701e6"
      },
      "execution_count": null,
      "outputs": [
        {
          "output_type": "execute_result",
          "data": {
            "text/plain": [
              "(3, 3)"
            ]
          },
          "metadata": {},
          "execution_count": 20
        }
      ]
    },
    {
      "cell_type": "code",
      "execution_count": null,
      "metadata": {
        "id": "TguUJi0apF4S"
      },
      "outputs": [],
      "source": [
        "B = np.array([\n",
        "    [6, 5],\n",
        "    [4, 3],\n",
        "    [2, 1]\n",
        "])"
      ]
    },
    {
      "cell_type": "code",
      "source": [
        "A.shape,B.shape"
      ],
      "metadata": {
        "colab": {
          "base_uri": "https://localhost:8080/"
        },
        "id": "pFYXfFud5WyM",
        "outputId": "5d04a4d4-bb59-4f4b-a695-136ef497c434"
      },
      "execution_count": null,
      "outputs": [
        {
          "output_type": "execute_result",
          "data": {
            "text/plain": [
              "((3, 3), (3, 2))"
            ]
          },
          "metadata": {},
          "execution_count": 21
        }
      ]
    },
    {
      "cell_type": "code",
      "source": [
        "print(A)\n",
        "print(B)"
      ],
      "metadata": {
        "colab": {
          "base_uri": "https://localhost:8080/"
        },
        "id": "zp98rm4g5zAp",
        "outputId": "f1eafec8-dc6b-4772-abc1-c4db4393a808"
      },
      "execution_count": null,
      "outputs": [
        {
          "output_type": "stream",
          "name": "stdout",
          "text": [
            "[[1 2 3]\n",
            " [4 5 6]\n",
            " [7 8 9]]\n",
            "[[6 5]\n",
            " [4 3]\n",
            " [2 1]]\n"
          ]
        }
      ]
    },
    {
      "cell_type": "code",
      "execution_count": null,
      "metadata": {
        "id": "HW36IyBXpF4T",
        "outputId": "d38eb993-8dd0-4698-eb03-fcb0824ac2a6",
        "colab": {
          "base_uri": "https://localhost:8080/"
        }
      },
      "outputs": [
        {
          "output_type": "execute_result",
          "data": {
            "text/plain": [
              "array([[20, 14],\n",
              "       [56, 41],\n",
              "       [92, 68]])"
            ]
          },
          "metadata": {},
          "execution_count": 22
        }
      ],
      "source": [
        "A.dot(B)"
      ]
    },
    {
      "cell_type": "code",
      "execution_count": null,
      "metadata": {
        "id": "8qeg3FnWpF4T",
        "outputId": "0184fc50-cac5-4b7b-9e17-0161beef9ea6",
        "colab": {
          "base_uri": "https://localhost:8080/"
        }
      },
      "outputs": [
        {
          "output_type": "execute_result",
          "data": {
            "text/plain": [
              "array([[20, 14],\n",
              "       [56, 41],\n",
              "       [92, 68]])"
            ]
          },
          "metadata": {},
          "execution_count": 25
        }
      ],
      "source": [
        "A @ B"
      ]
    },
    {
      "cell_type": "code",
      "source": [
        "B @ A"
      ],
      "metadata": {
        "colab": {
          "base_uri": "https://localhost:8080/",
          "height": 183
        },
        "id": "LA-wxIZk6Znk",
        "outputId": "b6b3aae9-0ad3-45c7-feb2-7f8792f4b6f7"
      },
      "execution_count": null,
      "outputs": [
        {
          "output_type": "error",
          "ename": "ValueError",
          "evalue": "ignored",
          "traceback": [
            "\u001b[0;31m---------------------------------------------------------------------------\u001b[0m",
            "\u001b[0;31mValueError\u001b[0m                                Traceback (most recent call last)",
            "\u001b[0;32m<ipython-input-26-c9046335e71f>\u001b[0m in \u001b[0;36m<module>\u001b[0;34m\u001b[0m\n\u001b[0;32m----> 1\u001b[0;31m \u001b[0mB\u001b[0m \u001b[0;34m@\u001b[0m \u001b[0mA\u001b[0m\u001b[0;34m\u001b[0m\u001b[0;34m\u001b[0m\u001b[0m\n\u001b[0m",
            "\u001b[0;31mValueError\u001b[0m: matmul: Input operand 1 has a mismatch in its core dimension 0, with gufunc signature (n?,k),(k,m?)->(n?,m?) (size 3 is different from 2)"
          ]
        }
      ]
    },
    {
      "cell_type": "code",
      "source": [
        "B"
      ],
      "metadata": {
        "colab": {
          "base_uri": "https://localhost:8080/"
        },
        "id": "hcLBda6G63RZ",
        "outputId": "454ea5f3-565f-40fe-bd6d-fe15af60185c"
      },
      "execution_count": null,
      "outputs": [
        {
          "output_type": "execute_result",
          "data": {
            "text/plain": [
              "array([[6, 5],\n",
              "       [4, 3],\n",
              "       [2, 1]])"
            ]
          },
          "metadata": {},
          "execution_count": 27
        }
      ]
    },
    {
      "cell_type": "code",
      "execution_count": null,
      "metadata": {
        "id": "FHWeKKg1pF4U",
        "outputId": "f8c9bb06-49d6-49fc-df93-0137811d8517",
        "colab": {
          "base_uri": "https://localhost:8080/"
        }
      },
      "outputs": [
        {
          "output_type": "execute_result",
          "data": {
            "text/plain": [
              "array([[6, 4, 2],\n",
              "       [5, 3, 1]])"
            ]
          },
          "metadata": {},
          "execution_count": 28
        }
      ],
      "source": [
        "B.T"
      ]
    },
    {
      "cell_type": "code",
      "source": [
        "B.T.shape"
      ],
      "metadata": {
        "colab": {
          "base_uri": "https://localhost:8080/"
        },
        "id": "TVo7hAgg7iRD",
        "outputId": "498cac2f-da0f-443c-9bf0-c034a3a67cd3"
      },
      "execution_count": null,
      "outputs": [
        {
          "output_type": "execute_result",
          "data": {
            "text/plain": [
              "(2, 3)"
            ]
          },
          "metadata": {},
          "execution_count": 29
        }
      ]
    },
    {
      "cell_type": "code",
      "source": [
        "B.T @ A"
      ],
      "metadata": {
        "colab": {
          "base_uri": "https://localhost:8080/"
        },
        "id": "w_wMUmYn7mUe",
        "outputId": "3f01ef49-75c3-4840-f448-75b9a4bf2dbd"
      },
      "execution_count": null,
      "outputs": [
        {
          "output_type": "execute_result",
          "data": {
            "text/plain": [
              "array([[36, 48, 60],\n",
              "       [24, 33, 42]])"
            ]
          },
          "metadata": {},
          "execution_count": 30
        }
      ]
    },
    {
      "cell_type": "code",
      "execution_count": null,
      "metadata": {
        "id": "EVkDXgqZpF4U",
        "outputId": "f07ea7ab-d8cf-418d-f378-72f78e034fd2"
      },
      "outputs": [
        {
          "data": {
            "text/plain": [
              "array([[1, 2, 3],\n",
              "       [4, 5, 6],\n",
              "       [7, 8, 9]])"
            ]
          },
          "execution_count": 106,
          "metadata": {},
          "output_type": "execute_result"
        }
      ],
      "source": [
        "A"
      ]
    },
    {
      "cell_type": "code",
      "execution_count": null,
      "metadata": {
        "scrolled": true,
        "id": "XFdnb6QVpF4U",
        "outputId": "fb3a5075-a457-4f70-860d-85a0547621cb"
      },
      "outputs": [
        {
          "data": {
            "text/plain": [
              "array([[36, 48, 60],\n",
              "       [24, 33, 42]])"
            ]
          },
          "execution_count": 107,
          "metadata": {},
          "output_type": "execute_result"
        }
      ],
      "source": [
        "B.T @ A"
      ]
    },
    {
      "cell_type": "markdown",
      "metadata": {
        "id": "-NppUu0fpF4V"
      },
      "source": [
        "![green-divider](https://user-images.githubusercontent.com/7065401/52071924-c003ad80-2562-11e9-8297-1c6595f8a7ff.png)\n",
        "\n",
        "## Size of objects in Memory"
      ]
    },
    {
      "cell_type": "markdown",
      "metadata": {
        "id": "pB7ehXiYpF4V"
      },
      "source": [
        "### Int, floats"
      ]
    },
    {
      "cell_type": "code",
      "execution_count": null,
      "metadata": {
        "id": "GHj9luOLpF4W",
        "outputId": "8a910402-574a-4eb9-ae0c-ccf5beab1487",
        "colab": {
          "base_uri": "https://localhost:8080/"
        }
      },
      "outputs": [
        {
          "output_type": "execute_result",
          "data": {
            "text/plain": [
              "28"
            ]
          },
          "metadata": {},
          "execution_count": 31
        }
      ],
      "source": [
        "# An integer in Python is > 24bytes\n",
        "sys.getsizeof(1)"
      ]
    },
    {
      "cell_type": "code",
      "source": [
        "10**100"
      ],
      "metadata": {
        "colab": {
          "base_uri": "https://localhost:8080/"
        },
        "id": "omkQHUqP8R03",
        "outputId": "a5db6b04-0460-4fe8-e4b4-efd4e94d68d4"
      },
      "execution_count": null,
      "outputs": [
        {
          "output_type": "execute_result",
          "data": {
            "text/plain": [
              "10000000000000000000000000000000000000000000000000000000000000000000000000000000000000000000000000000"
            ]
          },
          "metadata": {},
          "execution_count": 32
        }
      ]
    },
    {
      "cell_type": "code",
      "execution_count": null,
      "metadata": {
        "scrolled": true,
        "id": "mrpMyzSRpF4W",
        "outputId": "60f71ad3-f79d-4f89-ee76-3536a1ebe199",
        "colab": {
          "base_uri": "https://localhost:8080/"
        }
      },
      "outputs": [
        {
          "output_type": "execute_result",
          "data": {
            "text/plain": [
              "72"
            ]
          },
          "metadata": {},
          "execution_count": 33
        }
      ],
      "source": [
        "# Longs are even larger\n",
        "sys.getsizeof(10**100)"
      ]
    },
    {
      "cell_type": "code",
      "execution_count": null,
      "metadata": {
        "scrolled": true,
        "id": "SXutHKW7pF4W",
        "outputId": "727540f2-6d1f-41fa-b520-10d89e59bca2",
        "colab": {
          "base_uri": "https://localhost:8080/"
        }
      },
      "outputs": [
        {
          "output_type": "execute_result",
          "data": {
            "text/plain": [
              "8"
            ]
          },
          "metadata": {},
          "execution_count": 34
        }
      ],
      "source": [
        "# Numpy size is much smaller\n",
        "np.dtype(int).itemsize"
      ]
    },
    {
      "cell_type": "code",
      "execution_count": null,
      "metadata": {
        "scrolled": true,
        "id": "lZhhvfOCpF4X",
        "outputId": "ea1d4bd3-74ba-44a7-ba5e-7dd01763bbee",
        "colab": {
          "base_uri": "https://localhost:8080/"
        }
      },
      "outputs": [
        {
          "output_type": "execute_result",
          "data": {
            "text/plain": [
              "1"
            ]
          },
          "metadata": {},
          "execution_count": 35
        }
      ],
      "source": [
        "# Numpy size is much smaller\n",
        "np.dtype(np.int8).itemsize"
      ]
    },
    {
      "cell_type": "code",
      "execution_count": null,
      "metadata": {
        "scrolled": true,
        "id": "dl4OuC5zpF4X",
        "outputId": "e20d71f2-7311-4a24-aa70-89462ffaa08a",
        "colab": {
          "base_uri": "https://localhost:8080/"
        }
      },
      "outputs": [
        {
          "output_type": "execute_result",
          "data": {
            "text/plain": [
              "8"
            ]
          },
          "metadata": {},
          "execution_count": 36
        }
      ],
      "source": [
        "np.dtype(float).itemsize"
      ]
    },
    {
      "cell_type": "markdown",
      "metadata": {
        "id": "QwHfN58ipF4X"
      },
      "source": [
        "### Lists are even larger"
      ]
    },
    {
      "cell_type": "code",
      "source": [
        "A"
      ],
      "metadata": {
        "colab": {
          "base_uri": "https://localhost:8080/"
        },
        "id": "bEbvd0_896AX",
        "outputId": "696b463c-274f-451a-b3df-54365bf5fdf0"
      },
      "execution_count": null,
      "outputs": [
        {
          "output_type": "execute_result",
          "data": {
            "text/plain": [
              "array([[1, 2, 3],\n",
              "       [4, 5, 6],\n",
              "       [7, 8, 9]])"
            ]
          },
          "metadata": {},
          "execution_count": 39
        }
      ]
    },
    {
      "cell_type": "code",
      "source": [
        "l = [[1,2,3],[4,5,6],[7,8,9]]\n",
        "l"
      ],
      "metadata": {
        "colab": {
          "base_uri": "https://localhost:8080/"
        },
        "id": "kEnIuzWR98lA",
        "outputId": "42001ae7-5910-4d63-ff5a-3fedca987882"
      },
      "execution_count": null,
      "outputs": [
        {
          "output_type": "execute_result",
          "data": {
            "text/plain": [
              "[[1, 2, 3], [4, 5, 6], [7, 8, 9]]"
            ]
          },
          "metadata": {},
          "execution_count": 41
        }
      ]
    },
    {
      "cell_type": "code",
      "execution_count": null,
      "metadata": {
        "id": "nNtl5vKwpF4Y",
        "colab": {
          "base_uri": "https://localhost:8080/"
        },
        "outputId": "771e8e2d-7593-4675-ed0e-d0d9fb6b717f"
      },
      "outputs": [
        {
          "output_type": "execute_result",
          "data": {
            "text/plain": [
              "80"
            ]
          },
          "metadata": {},
          "execution_count": 42
        }
      ],
      "source": [
        "# A one-element list\n",
        "sys.getsizeof(l)"
      ]
    },
    {
      "cell_type": "code",
      "source": [
        "sys.getsizeof(A)"
      ],
      "metadata": {
        "colab": {
          "base_uri": "https://localhost:8080/"
        },
        "id": "bCajHz8c-Oj8",
        "outputId": "7fed20bd-e648-4315-b71e-bb735831a387"
      },
      "execution_count": null,
      "outputs": [
        {
          "output_type": "execute_result",
          "data": {
            "text/plain": [
              "200"
            ]
          },
          "metadata": {},
          "execution_count": 43
        }
      ]
    },
    {
      "cell_type": "code",
      "source": [
        "A.nbytes"
      ],
      "metadata": {
        "colab": {
          "base_uri": "https://localhost:8080/"
        },
        "id": "XcgQx0D1-aon",
        "outputId": "396e7b8e-8bac-4439-d3d2-48cbbf7fbee4"
      },
      "execution_count": null,
      "outputs": [
        {
          "output_type": "execute_result",
          "data": {
            "text/plain": [
              "72"
            ]
          },
          "metadata": {},
          "execution_count": 44
        }
      ]
    },
    {
      "cell_type": "code",
      "execution_count": null,
      "metadata": {
        "scrolled": true,
        "id": "S7G2YEAHpF4Y",
        "colab": {
          "base_uri": "https://localhost:8080/"
        },
        "outputId": "d24666a8-681f-484a-9dc8-52c25047b6eb"
      },
      "outputs": [
        {
          "output_type": "execute_result",
          "data": {
            "text/plain": [
              "8"
            ]
          },
          "metadata": {},
          "execution_count": 6
        }
      ],
      "source": [
        "# An array of one element in numpy\n",
        "np.array([1]).nbytes"
      ]
    },
    {
      "cell_type": "markdown",
      "metadata": {
        "id": "EZI4M1lwpF4Y"
      },
      "source": [
        "### And performance is also important"
      ]
    },
    {
      "cell_type": "code",
      "execution_count": null,
      "metadata": {
        "id": "ff4kJGLgpF4Y"
      },
      "outputs": [],
      "source": [
        "l = list(range(100000))"
      ]
    },
    {
      "cell_type": "code",
      "execution_count": null,
      "metadata": {
        "id": "xvai_ovSpF4Y"
      },
      "outputs": [],
      "source": [
        "a = np.arange(100000)"
      ]
    },
    {
      "cell_type": "code",
      "execution_count": null,
      "metadata": {
        "scrolled": true,
        "id": "V67HLfjIpF4Z",
        "outputId": "5fcd86d1-f165-49ec-f7ad-6ecbc8daaef0",
        "colab": {
          "base_uri": "https://localhost:8080/"
        }
      },
      "outputs": [
        {
          "output_type": "stream",
          "name": "stdout",
          "text": [
            "CPU times: user 1.77 ms, sys: 0 ns, total: 1.77 ms\n",
            "Wall time: 4.08 ms\n"
          ]
        },
        {
          "output_type": "execute_result",
          "data": {
            "text/plain": [
              "333328333350000"
            ]
          },
          "metadata": {},
          "execution_count": 48
        }
      ],
      "source": [
        "%time np.sum(a ** 2)"
      ]
    },
    {
      "cell_type": "code",
      "source": [
        "total = 0\n",
        "for x in l:\n",
        "  total = total + x ** 2"
      ],
      "metadata": {
        "id": "RIxHwZEc_cj-"
      },
      "execution_count": null,
      "outputs": []
    },
    {
      "cell_type": "code",
      "execution_count": null,
      "metadata": {
        "scrolled": true,
        "id": "5ovKYHl3pF4Z",
        "outputId": "33007a33-2c83-4034-d88f-7edd616cd2f7",
        "colab": {
          "base_uri": "https://localhost:8080/"
        }
      },
      "outputs": [
        {
          "output_type": "stream",
          "name": "stdout",
          "text": [
            "CPU times: user 31.6 ms, sys: 2.96 ms, total: 34.5 ms\n",
            "Wall time: 39.3 ms\n"
          ]
        },
        {
          "output_type": "execute_result",
          "data": {
            "text/plain": [
              "333328333350000"
            ]
          },
          "metadata": {},
          "execution_count": 49
        }
      ],
      "source": [
        "%time sum([x ** 2 for x in l])"
      ]
    },
    {
      "cell_type": "markdown",
      "metadata": {
        "id": "WcxnpiqDpF4Z"
      },
      "source": [
        "![green-divider](https://user-images.githubusercontent.com/7065401/52071924-c003ad80-2562-11e9-8297-1c6595f8a7ff.png)\n",
        "\n",
        "## Useful Numpy functions"
      ]
    },
    {
      "cell_type": "markdown",
      "metadata": {
        "id": "zvYhX5CMpF4Z"
      },
      "source": [
        "### `random` "
      ]
    },
    {
      "cell_type": "code",
      "execution_count": null,
      "metadata": {
        "id": "iHeDVInkpF4Z",
        "colab": {
          "base_uri": "https://localhost:8080/"
        },
        "outputId": "d35c1570-a939-4c00-9611-8ba44d6d1fa8"
      },
      "outputs": [
        {
          "output_type": "execute_result",
          "data": {
            "text/plain": [
              "array([[0.58898973, 0.574433  , 0.03143499],\n",
              "       [0.28198128, 0.32565634, 0.19442542]])"
            ]
          },
          "metadata": {},
          "execution_count": 53
        }
      ],
      "source": [
        "np.random.random(size=(2,3))"
      ]
    },
    {
      "cell_type": "code",
      "execution_count": null,
      "metadata": {
        "id": "psJfhlJ4pF4a",
        "colab": {
          "base_uri": "https://localhost:8080/"
        },
        "outputId": "ca06f57d-45c8-47b3-9e32-1a8474fdca12"
      },
      "outputs": [
        {
          "output_type": "execute_result",
          "data": {
            "text/plain": [
              "array([[-0.84057722, -0.59024273,  0.55548696,  1.1726968 ,  1.20521045,\n",
              "        -0.48614122],\n",
              "       [ 0.60468936,  0.67279471,  1.00267783,  0.84192216, -0.22178095,\n",
              "         3.13658169],\n",
              "       [ 0.68723809,  0.94525619, -0.56621844,  0.20030403,  1.10170478,\n",
              "        -0.33699378],\n",
              "       [ 1.77670015, -0.00655044, -0.59067784,  1.58365128, -0.94401531,\n",
              "        -0.12003463],\n",
              "       [-0.23553438, -1.28728761,  1.13855694,  0.02432497,  0.36663582,\n",
              "        -0.94309475]])"
            ]
          },
          "metadata": {},
          "execution_count": 56
        }
      ],
      "source": [
        "np.random.normal(size=(5,6))"
      ]
    },
    {
      "cell_type": "code",
      "execution_count": null,
      "metadata": {
        "id": "TUSfmB0bpF4a",
        "colab": {
          "base_uri": "https://localhost:8080/"
        },
        "outputId": "57068e8f-c8cb-4546-cf25-4831db6ccddd"
      },
      "outputs": [
        {
          "output_type": "execute_result",
          "data": {
            "text/plain": [
              "array([[0.72850766, 0.78762947, 0.66898155, 0.48236568],\n",
              "       [0.77490774, 0.80350347, 0.52459634, 0.19196585]])"
            ]
          },
          "metadata": {},
          "execution_count": 57
        }
      ],
      "source": [
        "np.random.rand(2, 4)"
      ]
    },
    {
      "cell_type": "markdown",
      "metadata": {
        "id": "yoRtHLhDpF4a"
      },
      "source": [
        "---\n",
        "### `arange`"
      ]
    },
    {
      "cell_type": "code",
      "execution_count": null,
      "metadata": {
        "id": "dW-WJABgpF4b",
        "colab": {
          "base_uri": "https://localhost:8080/"
        },
        "outputId": "e8722e81-3181-4404-94f5-a73977d85422"
      },
      "outputs": [
        {
          "output_type": "execute_result",
          "data": {
            "text/plain": [
              "array([0, 1, 2, 3, 4, 5, 6, 7, 8, 9])"
            ]
          },
          "metadata": {},
          "execution_count": 58
        }
      ],
      "source": [
        "np.arange(10)"
      ]
    },
    {
      "cell_type": "code",
      "execution_count": null,
      "metadata": {
        "id": "U7A7YZ9jpF4b",
        "colab": {
          "base_uri": "https://localhost:8080/"
        },
        "outputId": "35cba9af-ba66-4fe0-c030-c6debfe2e504"
      },
      "outputs": [
        {
          "output_type": "execute_result",
          "data": {
            "text/plain": [
              "array([5, 6, 7, 8, 9])"
            ]
          },
          "metadata": {},
          "execution_count": 59
        }
      ],
      "source": [
        "np.arange(5, 10)"
      ]
    },
    {
      "cell_type": "code",
      "execution_count": null,
      "metadata": {
        "id": "Ux1oybjDpF4b",
        "colab": {
          "base_uri": "https://localhost:8080/"
        },
        "outputId": "ac09517b-7b2c-4a96-d03a-0406d6748b22"
      },
      "outputs": [
        {
          "output_type": "execute_result",
          "data": {
            "text/plain": [
              "array([0. , 0.1, 0.2, 0.3, 0.4, 0.5, 0.6, 0.7, 0.8, 0.9])"
            ]
          },
          "metadata": {},
          "execution_count": 60
        }
      ],
      "source": [
        "np.arange(0, 1, .1)"
      ]
    },
    {
      "cell_type": "markdown",
      "metadata": {
        "id": "GfIX3YgopF4b"
      },
      "source": [
        "---\n",
        "### `reshape`"
      ]
    },
    {
      "cell_type": "code",
      "source": [
        "np.arange(20)"
      ],
      "metadata": {
        "colab": {
          "base_uri": "https://localhost:8080/"
        },
        "id": "hD3nqHIJBcY2",
        "outputId": "ed441b08-a083-47e0-b91e-2d32293ce3ed"
      },
      "execution_count": null,
      "outputs": [
        {
          "output_type": "execute_result",
          "data": {
            "text/plain": [
              "array([ 0,  1,  2,  3,  4,  5,  6,  7,  8,  9, 10, 11, 12, 13, 14, 15, 16,\n",
              "       17, 18, 19])"
            ]
          },
          "metadata": {},
          "execution_count": 61
        }
      ]
    },
    {
      "cell_type": "code",
      "source": [
        "np.arange(20).shape"
      ],
      "metadata": {
        "colab": {
          "base_uri": "https://localhost:8080/"
        },
        "id": "5yjCnDiABg8l",
        "outputId": "06100171-c888-48d6-b49a-d7ede2012fa5"
      },
      "execution_count": null,
      "outputs": [
        {
          "output_type": "execute_result",
          "data": {
            "text/plain": [
              "(20,)"
            ]
          },
          "metadata": {},
          "execution_count": 62
        }
      ]
    },
    {
      "cell_type": "code",
      "source": [
        "np.arange(20).reshape(5,4)"
      ],
      "metadata": {
        "colab": {
          "base_uri": "https://localhost:8080/"
        },
        "id": "aXr-U8KIBn7V",
        "outputId": "fbea7085-dd9c-4c93-ac57-a66cf25b9646"
      },
      "execution_count": null,
      "outputs": [
        {
          "output_type": "execute_result",
          "data": {
            "text/plain": [
              "array([[ 0,  1,  2,  3],\n",
              "       [ 4,  5,  6,  7],\n",
              "       [ 8,  9, 10, 11],\n",
              "       [12, 13, 14, 15],\n",
              "       [16, 17, 18, 19]])"
            ]
          },
          "metadata": {},
          "execution_count": 63
        }
      ]
    },
    {
      "cell_type": "code",
      "source": [
        "np.arange(20).reshape(5,2,2)"
      ],
      "metadata": {
        "colab": {
          "base_uri": "https://localhost:8080/"
        },
        "id": "BtC9NviDB1-G",
        "outputId": "7aa6927c-33b1-473e-87ae-adab86ddb1d0"
      },
      "execution_count": null,
      "outputs": [
        {
          "output_type": "execute_result",
          "data": {
            "text/plain": [
              "array([[[ 0,  1],\n",
              "        [ 2,  3]],\n",
              "\n",
              "       [[ 4,  5],\n",
              "        [ 6,  7]],\n",
              "\n",
              "       [[ 8,  9],\n",
              "        [10, 11]],\n",
              "\n",
              "       [[12, 13],\n",
              "        [14, 15]],\n",
              "\n",
              "       [[16, 17],\n",
              "        [18, 19]]])"
            ]
          },
          "metadata": {},
          "execution_count": 64
        }
      ]
    },
    {
      "cell_type": "code",
      "source": [
        "temp = np.arange(20).reshape(2, 5, 2)\n",
        "temp"
      ],
      "metadata": {
        "colab": {
          "base_uri": "https://localhost:8080/"
        },
        "id": "wnFxLf2rrDWU",
        "outputId": "2099c1f6-9f7d-414c-cfe8-04d3529a9f6a"
      },
      "execution_count": null,
      "outputs": [
        {
          "output_type": "execute_result",
          "data": {
            "text/plain": [
              "array([[[ 0,  1],\n",
              "        [ 2,  3],\n",
              "        [ 4,  5],\n",
              "        [ 6,  7],\n",
              "        [ 8,  9]],\n",
              "\n",
              "       [[10, 11],\n",
              "        [12, 13],\n",
              "        [14, 15],\n",
              "        [16, 17],\n",
              "        [18, 19]]])"
            ]
          },
          "metadata": {},
          "execution_count": 21
        }
      ]
    },
    {
      "cell_type": "code",
      "source": [
        "temp[0][2][1]"
      ],
      "metadata": {
        "colab": {
          "base_uri": "https://localhost:8080/"
        },
        "id": "0ktCw3rivinl",
        "outputId": "08e0e062-1fc0-4d61-879a-cd8fd4afe9ec"
      },
      "execution_count": null,
      "outputs": [
        {
          "output_type": "execute_result",
          "data": {
            "text/plain": [
              "5"
            ]
          },
          "metadata": {},
          "execution_count": 19
        }
      ]
    },
    {
      "cell_type": "code",
      "source": [
        "temp[1]"
      ],
      "metadata": {
        "colab": {
          "base_uri": "https://localhost:8080/"
        },
        "id": "6bmKN7CHtc3i",
        "outputId": "9ef4c87a-c370-495b-c159-d1825b4f5213"
      },
      "execution_count": null,
      "outputs": [
        {
          "output_type": "execute_result",
          "data": {
            "text/plain": [
              "array([[10, 11],\n",
              "       [12, 13],\n",
              "       [14, 15],\n",
              "       [16, 17],\n",
              "       [18, 19]])"
            ]
          },
          "metadata": {},
          "execution_count": 13
        }
      ]
    },
    {
      "cell_type": "code",
      "source": [
        "temp[1][2]"
      ],
      "metadata": {
        "colab": {
          "base_uri": "https://localhost:8080/"
        },
        "id": "JIX8A6SltuzP",
        "outputId": "688fd4c1-2f73-474d-80c2-b1d476df80ec"
      },
      "execution_count": null,
      "outputs": [
        {
          "output_type": "execute_result",
          "data": {
            "text/plain": [
              "array([14, 15])"
            ]
          },
          "metadata": {},
          "execution_count": 14
        }
      ]
    },
    {
      "cell_type": "code",
      "source": [
        "temp[1][2][1]"
      ],
      "metadata": {
        "colab": {
          "base_uri": "https://localhost:8080/"
        },
        "id": "PiO3Vw1Xt2BV",
        "outputId": "0774ff64-f324-4b6e-8de2-11f17893bda7"
      },
      "execution_count": null,
      "outputs": [
        {
          "output_type": "execute_result",
          "data": {
            "text/plain": [
              "15"
            ]
          },
          "metadata": {},
          "execution_count": 15
        }
      ]
    },
    {
      "cell_type": "code",
      "execution_count": null,
      "metadata": {
        "id": "aIeF2N4ypF4b"
      },
      "outputs": [],
      "source": [
        "z = np.arange(60).reshape(2, 2, 5, 3)"
      ]
    },
    {
      "cell_type": "code",
      "source": [
        "z.shape"
      ],
      "metadata": {
        "colab": {
          "base_uri": "https://localhost:8080/"
        },
        "id": "86O4G46yrnEe",
        "outputId": "07c13cce-e280-4eea-b7be-29bb569e6bbb"
      },
      "execution_count": null,
      "outputs": [
        {
          "output_type": "execute_result",
          "data": {
            "text/plain": [
              "(2, 2, 5, 3)"
            ]
          },
          "metadata": {},
          "execution_count": 58
        }
      ]
    },
    {
      "cell_type": "code",
      "source": [
        "z.ndim"
      ],
      "metadata": {
        "colab": {
          "base_uri": "https://localhost:8080/"
        },
        "id": "PbZoPU9Jrq9K",
        "outputId": "92d98281-c1c6-446a-e246-39a8f37bdb67"
      },
      "execution_count": null,
      "outputs": [
        {
          "output_type": "execute_result",
          "data": {
            "text/plain": [
              "4"
            ]
          },
          "metadata": {},
          "execution_count": 59
        }
      ]
    },
    {
      "cell_type": "code",
      "source": [
        "z"
      ],
      "metadata": {
        "colab": {
          "base_uri": "https://localhost:8080/"
        },
        "id": "FYVxKZsys8g0",
        "outputId": "55e31f0f-5a64-459f-864e-0bf1d96afd0d"
      },
      "execution_count": null,
      "outputs": [
        {
          "output_type": "execute_result",
          "data": {
            "text/plain": [
              "array([[[[ 0,  1,  2],\n",
              "         [ 3,  4,  5],\n",
              "         [ 6,  7,  8],\n",
              "         [ 9, 10, 11],\n",
              "         [12, 13, 14]],\n",
              "\n",
              "        [[15, 16, 17],\n",
              "         [18, 19, 20],\n",
              "         [21, 22, 23],\n",
              "         [24, 25, 26],\n",
              "         [27, 28, 29]]],\n",
              "\n",
              "\n",
              "       [[[30, 31, 32],\n",
              "         [33, 34, 35],\n",
              "         [36, 37, 38],\n",
              "         [39, 40, 41],\n",
              "         [42, 43, 44]],\n",
              "\n",
              "        [[45, 46, 47],\n",
              "         [48, 49, 50],\n",
              "         [51, 52, 53],\n",
              "         [54, 55, 56],\n",
              "         [57, 58, 59]]]])"
            ]
          },
          "metadata": {},
          "execution_count": 60
        }
      ]
    },
    {
      "cell_type": "code",
      "source": [
        "b"
      ],
      "metadata": {
        "colab": {
          "base_uri": "https://localhost:8080/"
        },
        "id": "jU-DX1BRr2L8",
        "outputId": "ca4a8198-d2f1-4b4b-a543-8db999f3f2ac"
      },
      "execution_count": null,
      "outputs": [
        {
          "output_type": "execute_result",
          "data": {
            "text/plain": [
              "array([1. , 2.5, 3.1, 4.7])"
            ]
          },
          "metadata": {},
          "execution_count": 51
        }
      ]
    },
    {
      "cell_type": "code",
      "source": [
        "b.shape"
      ],
      "metadata": {
        "colab": {
          "base_uri": "https://localhost:8080/"
        },
        "id": "IuB7mvDmr5TJ",
        "outputId": "93bc235c-02e1-41ff-f9b7-d25bf290991c"
      },
      "execution_count": null,
      "outputs": [
        {
          "output_type": "execute_result",
          "data": {
            "text/plain": [
              "(4,)"
            ]
          },
          "metadata": {},
          "execution_count": 52
        }
      ]
    },
    {
      "cell_type": "code",
      "source": [
        "b.ndim"
      ],
      "metadata": {
        "colab": {
          "base_uri": "https://localhost:8080/"
        },
        "id": "hdgJ0kg6r9WX",
        "outputId": "634faa8b-690e-4692-bcbf-e47384127ed4"
      },
      "execution_count": null,
      "outputs": [
        {
          "output_type": "execute_result",
          "data": {
            "text/plain": [
              "1"
            ]
          },
          "metadata": {},
          "execution_count": 53
        }
      ]
    },
    {
      "cell_type": "code",
      "source": [
        "a"
      ],
      "metadata": {
        "colab": {
          "base_uri": "https://localhost:8080/"
        },
        "id": "Ort9LhwhsEaA",
        "outputId": "0faccbcc-cc09-43f8-bcc7-9d1500afd68a"
      },
      "execution_count": null,
      "outputs": [
        {
          "output_type": "execute_result",
          "data": {
            "text/plain": [
              "array([[7, 8, 9],\n",
              "       [4, 5, 6],\n",
              "       [1, 2, 3]])"
            ]
          },
          "metadata": {},
          "execution_count": 54
        }
      ]
    },
    {
      "cell_type": "code",
      "source": [
        "a.shape"
      ],
      "metadata": {
        "colab": {
          "base_uri": "https://localhost:8080/"
        },
        "id": "P_AX7TYbsGhy",
        "outputId": "e9b73e26-64bc-4028-beb1-fb787870e3fe"
      },
      "execution_count": null,
      "outputs": [
        {
          "output_type": "execute_result",
          "data": {
            "text/plain": [
              "(3, 3)"
            ]
          },
          "metadata": {},
          "execution_count": 55
        }
      ]
    },
    {
      "cell_type": "code",
      "source": [
        "a.ndim"
      ],
      "metadata": {
        "colab": {
          "base_uri": "https://localhost:8080/"
        },
        "id": "ADJs26MKsGNc",
        "outputId": "712dc420-bf06-42e7-86d3-2e3a69a7a386"
      },
      "execution_count": null,
      "outputs": [
        {
          "output_type": "execute_result",
          "data": {
            "text/plain": [
              "2"
            ]
          },
          "metadata": {},
          "execution_count": 56
        }
      ]
    },
    {
      "cell_type": "code",
      "source": [],
      "metadata": {
        "id": "HMdygvI-sF5B"
      },
      "execution_count": null,
      "outputs": []
    },
    {
      "cell_type": "code",
      "execution_count": null,
      "metadata": {
        "id": "EBnXw1l5pF4c"
      },
      "outputs": [],
      "source": [
        "np.arange(10).reshape(5, 2)"
      ]
    },
    {
      "cell_type": "markdown",
      "metadata": {
        "id": "XOo_0zwcpF4c"
      },
      "source": [
        "---\n",
        "### `linspace`"
      ]
    },
    {
      "cell_type": "code",
      "execution_count": null,
      "metadata": {
        "id": "xdg0futqpF4c",
        "colab": {
          "base_uri": "https://localhost:8080/"
        },
        "outputId": "7ed17d0b-d209-4123-8ce1-0915d7ee718a"
      },
      "outputs": [
        {
          "output_type": "execute_result",
          "data": {
            "text/plain": [
              "array([0.  , 0.25, 0.5 , 0.75, 1.  ])"
            ]
          },
          "metadata": {},
          "execution_count": 67
        }
      ],
      "source": [
        "np.linspace(0, 1, 5)"
      ]
    },
    {
      "cell_type": "code",
      "execution_count": null,
      "metadata": {
        "id": "NQwEI-M4pF4c",
        "colab": {
          "base_uri": "https://localhost:8080/"
        },
        "outputId": "2621a13e-e1d6-45da-98db-05e0e354eff1"
      },
      "outputs": [
        {
          "output_type": "execute_result",
          "data": {
            "text/plain": [
              "array([0.        , 0.05263158, 0.10526316, 0.15789474, 0.21052632,\n",
              "       0.26315789, 0.31578947, 0.36842105, 0.42105263, 0.47368421,\n",
              "       0.52631579, 0.57894737, 0.63157895, 0.68421053, 0.73684211,\n",
              "       0.78947368, 0.84210526, 0.89473684, 0.94736842, 1.        ])"
            ]
          },
          "metadata": {},
          "execution_count": 68
        }
      ],
      "source": [
        "np.linspace(0, 1, 20)"
      ]
    },
    {
      "cell_type": "code",
      "execution_count": null,
      "metadata": {
        "scrolled": true,
        "id": "63r3jugUpF4c",
        "colab": {
          "base_uri": "https://localhost:8080/"
        },
        "outputId": "971eb13f-a123-4e88-8b0d-e5c64aa06c6f"
      },
      "outputs": [
        {
          "output_type": "execute_result",
          "data": {
            "text/plain": [
              "array([0.  , 0.05, 0.1 , 0.15, 0.2 , 0.25, 0.3 , 0.35, 0.4 , 0.45, 0.5 ,\n",
              "       0.55, 0.6 , 0.65, 0.7 , 0.75, 0.8 , 0.85, 0.9 , 0.95])"
            ]
          },
          "metadata": {},
          "execution_count": 69
        }
      ],
      "source": [
        "np.linspace(0, 1, 20, False)"
      ]
    },
    {
      "cell_type": "markdown",
      "metadata": {
        "id": "haLtd9xMpF4d"
      },
      "source": [
        "---\n",
        "### `zeros`, `ones`, `empty`"
      ]
    },
    {
      "cell_type": "code",
      "execution_count": null,
      "metadata": {
        "id": "UjzmfQchpF4d",
        "colab": {
          "base_uri": "https://localhost:8080/"
        },
        "outputId": "28bb3223-ea27-488b-91d9-f4455b459137"
      },
      "outputs": [
        {
          "output_type": "execute_result",
          "data": {
            "text/plain": [
              "array([0., 0., 0., 0., 0.])"
            ]
          },
          "metadata": {},
          "execution_count": 70
        }
      ],
      "source": [
        "np.zeros(5)"
      ]
    },
    {
      "cell_type": "code",
      "execution_count": null,
      "metadata": {
        "scrolled": true,
        "id": "0D2ChGPLpF4e",
        "colab": {
          "base_uri": "https://localhost:8080/"
        },
        "outputId": "5dae7714-1bce-474a-91fe-a833cf97a433"
      },
      "outputs": [
        {
          "output_type": "execute_result",
          "data": {
            "text/plain": [
              "array([[0., 0., 0.],\n",
              "       [0., 0., 0.],\n",
              "       [0., 0., 0.]])"
            ]
          },
          "metadata": {},
          "execution_count": 71
        }
      ],
      "source": [
        "np.zeros((3, 3))"
      ]
    },
    {
      "cell_type": "code",
      "execution_count": null,
      "metadata": {
        "scrolled": true,
        "id": "zafecwthpF4e",
        "colab": {
          "base_uri": "https://localhost:8080/"
        },
        "outputId": "0255a3fe-3f40-4ba0-fd6c-4bb11d78da64"
      },
      "outputs": [
        {
          "output_type": "execute_result",
          "data": {
            "text/plain": [
              "array([[0, 0, 0],\n",
              "       [0, 0, 0],\n",
              "       [0, 0, 0]])"
            ]
          },
          "metadata": {},
          "execution_count": 73
        }
      ],
      "source": [
        "np.zeros((3, 3), dtype=int)"
      ]
    },
    {
      "cell_type": "code",
      "execution_count": null,
      "metadata": {
        "id": "sz1V6RKfpF4e",
        "colab": {
          "base_uri": "https://localhost:8080/"
        },
        "outputId": "a6845380-cb4e-4781-a2fc-6f9c89a3c94a"
      },
      "outputs": [
        {
          "output_type": "execute_result",
          "data": {
            "text/plain": [
              "array([1., 1., 1., 1., 1.])"
            ]
          },
          "metadata": {},
          "execution_count": 74
        }
      ],
      "source": [
        "np.ones(5)"
      ]
    },
    {
      "cell_type": "code",
      "execution_count": null,
      "metadata": {
        "id": "6VooiuMPpF4f",
        "colab": {
          "base_uri": "https://localhost:8080/"
        },
        "outputId": "ab29536a-49de-4b3b-c112-3082154c61df"
      },
      "outputs": [
        {
          "output_type": "execute_result",
          "data": {
            "text/plain": [
              "array([[1., 1., 1.],\n",
              "       [1., 1., 1.],\n",
              "       [1., 1., 1.]])"
            ]
          },
          "metadata": {},
          "execution_count": 75
        }
      ],
      "source": [
        "np.ones((3, 3))"
      ]
    },
    {
      "cell_type": "code",
      "execution_count": null,
      "metadata": {
        "id": "eRP1DHvHpF4f",
        "colab": {
          "base_uri": "https://localhost:8080/"
        },
        "outputId": "22a58214-dfaf-4ad6-878a-2ecdfec98b4c"
      },
      "outputs": [
        {
          "output_type": "execute_result",
          "data": {
            "text/plain": [
              "array([1., 1., 1., 1., 1.])"
            ]
          },
          "metadata": {},
          "execution_count": 78
        }
      ],
      "source": [
        "np.empty(5)"
      ]
    },
    {
      "cell_type": "code",
      "execution_count": null,
      "metadata": {
        "scrolled": true,
        "id": "N1DtmC-spF4f",
        "colab": {
          "base_uri": "https://localhost:8080/"
        },
        "outputId": "7f0815d1-5b84-4e9c-a782-b846fda65d37"
      },
      "outputs": [
        {
          "output_type": "execute_result",
          "data": {
            "text/plain": [
              "array([[1., 0., 0.],\n",
              "       [0., 1., 0.],\n",
              "       [0., 0., 1.]])"
            ]
          },
          "metadata": {},
          "execution_count": 93
        }
      ],
      "source": [
        "np.empty((3, 3))"
      ]
    },
    {
      "cell_type": "markdown",
      "metadata": {
        "id": "kZxAB-QhpF4f"
      },
      "source": [
        "---\n",
        "### `identity` and `eye`"
      ]
    },
    {
      "cell_type": "code",
      "execution_count": null,
      "metadata": {
        "id": "klRlfTt-pF4g",
        "colab": {
          "base_uri": "https://localhost:8080/"
        },
        "outputId": "86504185-cbd7-43d0-f555-4fc5c104213e"
      },
      "outputs": [
        {
          "output_type": "execute_result",
          "data": {
            "text/plain": [
              "array([[1., 0., 0., 0., 0., 0.],\n",
              "       [0., 1., 0., 0., 0., 0.],\n",
              "       [0., 0., 1., 0., 0., 0.],\n",
              "       [0., 0., 0., 1., 0., 0.],\n",
              "       [0., 0., 0., 0., 1., 0.],\n",
              "       [0., 0., 0., 0., 0., 1.]])"
            ]
          },
          "metadata": {},
          "execution_count": 81
        }
      ],
      "source": [
        "np.identity(6)"
      ]
    },
    {
      "cell_type": "code",
      "execution_count": null,
      "metadata": {
        "id": "48tPRuHxpF4g",
        "colab": {
          "base_uri": "https://localhost:8080/"
        },
        "outputId": "b3e141c6-2e91-4976-f098-d62ac152437e"
      },
      "outputs": [
        {
          "output_type": "execute_result",
          "data": {
            "text/plain": [
              "array([[1., 0., 0.],\n",
              "       [0., 1., 0.],\n",
              "       [0., 0., 1.]])"
            ]
          },
          "metadata": {},
          "execution_count": 82
        }
      ],
      "source": [
        "np.eye(3, 3)"
      ]
    },
    {
      "cell_type": "code",
      "execution_count": null,
      "metadata": {
        "id": "qHgDuqHGpF4g",
        "colab": {
          "base_uri": "https://localhost:8080/"
        },
        "outputId": "2c930606-913e-4849-b1c2-b0a8f5dd7b47"
      },
      "outputs": [
        {
          "output_type": "execute_result",
          "data": {
            "text/plain": [
              "array([[1., 0., 0., 0.],\n",
              "       [0., 1., 0., 0.],\n",
              "       [0., 0., 1., 0.],\n",
              "       [0., 0., 0., 1.],\n",
              "       [0., 0., 0., 0.],\n",
              "       [0., 0., 0., 0.],\n",
              "       [0., 0., 0., 0.],\n",
              "       [0., 0., 0., 0.]])"
            ]
          },
          "metadata": {},
          "execution_count": 85
        }
      ],
      "source": [
        "np.eye(8, 4)"
      ]
    },
    {
      "cell_type": "code",
      "execution_count": null,
      "metadata": {
        "scrolled": true,
        "id": "JudDY29YpF4g",
        "colab": {
          "base_uri": "https://localhost:8080/"
        },
        "outputId": "117484ac-6305-4a58-9459-1040787960b7"
      },
      "outputs": [
        {
          "output_type": "execute_result",
          "data": {
            "text/plain": [
              "array([[0., 1., 0., 0.],\n",
              "       [0., 0., 1., 0.],\n",
              "       [0., 0., 0., 1.],\n",
              "       [0., 0., 0., 0.]])"
            ]
          },
          "metadata": {},
          "execution_count": 89
        }
      ],
      "source": [
        "np.eye(4, 4, k=1)"
      ]
    },
    {
      "cell_type": "code",
      "execution_count": null,
      "metadata": {
        "id": "Z9wdbgyTpF4h",
        "colab": {
          "base_uri": "https://localhost:8080/"
        },
        "outputId": "01deac4f-ac5a-4a6a-8cf2-7d455d65b045"
      },
      "outputs": [
        {
          "output_type": "execute_result",
          "data": {
            "text/plain": [
              "array([[1., 0., 0., 0.],\n",
              "       [0., 1., 0., 0.],\n",
              "       [0., 0., 1., 0.],\n",
              "       [0., 0., 0., 1.]])"
            ]
          },
          "metadata": {},
          "execution_count": 94
        }
      ],
      "source": [
        "np.eye(4, 4, k=0)"
      ]
    },
    {
      "cell_type": "code",
      "source": [
        "np.eye(4, 4, k=1)"
      ],
      "metadata": {
        "colab": {
          "base_uri": "https://localhost:8080/"
        },
        "id": "7gm_bYOHHKw8",
        "outputId": "b6e02fc0-491d-4e5a-d816-6d23b27e17c6"
      },
      "execution_count": null,
      "outputs": [
        {
          "output_type": "execute_result",
          "data": {
            "text/plain": [
              "array([[0., 1., 0., 0.],\n",
              "       [0., 0., 1., 0.],\n",
              "       [0., 0., 0., 1.],\n",
              "       [0., 0., 0., 0.]])"
            ]
          },
          "metadata": {},
          "execution_count": 99
        }
      ]
    },
    {
      "cell_type": "code",
      "source": [
        "np.eye(4, 4, k=-1)"
      ],
      "metadata": {
        "colab": {
          "base_uri": "https://localhost:8080/"
        },
        "id": "38HPgh1kHQgP",
        "outputId": "74c0eda1-be3b-4132-f980-a1b095558710"
      },
      "execution_count": null,
      "outputs": [
        {
          "output_type": "execute_result",
          "data": {
            "text/plain": [
              "array([[0., 0., 0., 0.],\n",
              "       [1., 0., 0., 0.],\n",
              "       [0., 1., 0., 0.],\n",
              "       [0., 0., 1., 0.]])"
            ]
          },
          "metadata": {},
          "execution_count": 96
        }
      ]
    },
    {
      "cell_type": "markdown",
      "metadata": {
        "id": "868wgR4ZpF4h"
      },
      "source": [
        "![purple-divider](https://user-images.githubusercontent.com/7065401/52071927-c1cd7100-2562-11e9-908a-dde91ba14e59.png)"
      ]
    }
  ],
  "metadata": {
    "kernelspec": {
      "display_name": "Python 3",
      "language": "python",
      "name": "python3"
    },
    "language_info": {
      "codemirror_mode": {
        "name": "ipython",
        "version": 3
      },
      "file_extension": ".py",
      "mimetype": "text/x-python",
      "name": "python",
      "nbconvert_exporter": "python",
      "pygments_lexer": "ipython3",
      "version": "3.8.1"
    },
    "colab": {
      "provenance": [],
      "include_colab_link": true
    }
  },
  "nbformat": 4,
  "nbformat_minor": 0
}