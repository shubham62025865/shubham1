{
  "nbformat": 4,
  "nbformat_minor": 0,
  "metadata": {
    "colab": {
      "provenance": [],
      "include_colab_link": true
    },
    "kernelspec": {
      "name": "python3",
      "display_name": "Python 3"
    },
    "language_info": {
      "name": "python"
    }
  },
  "cells": [
    {
      "cell_type": "markdown",
      "metadata": {
        "id": "view-in-github",
        "colab_type": "text"
      },
      "source": [
        "<a href=\"https://colab.research.google.com/github/shubham62025865/shubham1/blob/main/python_questions.ipynb\" target=\"_parent\"><img src=\"https://colab.research.google.com/assets/colab-badge.svg\" alt=\"Open In Colab\"/></a>"
      ]
    },
    {
      "cell_type": "markdown",
      "source": [
        "## Question -  write a function that gives the largest of three numbers\n",
        "\n",
        "input --> 3,6,9\n",
        "\n",
        "output --> 9"
      ],
      "metadata": {
        "id": "oDTlm-Fr3N57"
      }
    },
    {
      "cell_type": "code",
      "execution_count": null,
      "metadata": {
        "id": "mSe5uLhS3HPD"
      },
      "outputs": [],
      "source": [
        "def largest_num1(num1, num2, num3):\n",
        "  if (num1 > num2):\n",
        "    if(num1 > num3):\n",
        "      return num1\n",
        "    else:\n",
        "      return num3\n",
        "  else:\n",
        "    if (num2 > num3):\n",
        "      return num2\n",
        "    else:\n",
        "      return num3\n"
      ]
    },
    {
      "cell_type": "code",
      "source": [
        "def largest_num(num1, num2, num3):\n",
        "  if (num1 > num2) and (num1>num3):\n",
        "    return num1\n",
        "  elif (num2 >num1) and (num2 > num3):\n",
        "    return num2\n",
        "  else:\n",
        "    return num3"
      ],
      "metadata": {
        "id": "RgDtffFs5CLC"
      },
      "execution_count": null,
      "outputs": []
    },
    {
      "cell_type": "code",
      "source": [
        "num1 = int(input(\"enter num1 : \"))\n",
        "num2 = int(input(\"enter num2 : \"))\n",
        "num3 = int(input(\"enter num3 : \"))\n",
        "largest_num(num1,num2,num3)"
      ],
      "metadata": {
        "colab": {
          "base_uri": "https://localhost:8080/"
        },
        "id": "oa0xViX_547P",
        "outputId": "11f784ba-98ea-4ca0-85bc-693984f01e05"
      },
      "execution_count": null,
      "outputs": [
        {
          "name": "stdout",
          "output_type": "stream",
          "text": [
            "enter num1 : 3\n",
            "enter num2 : 5\n",
            "enter num3 : 4\n"
          ]
        },
        {
          "output_type": "execute_result",
          "data": {
            "text/plain": [
              "5"
            ]
          },
          "metadata": {},
          "execution_count": 5
        }
      ]
    },
    {
      "cell_type": "code",
      "source": [
        "largest_num1(4,6,2)"
      ],
      "metadata": {
        "colab": {
          "base_uri": "https://localhost:8080/"
        },
        "id": "ddyGv8Ec6Lzw",
        "outputId": "24e50fa8-9645-47e6-fcc6-1014b6935995"
      },
      "execution_count": null,
      "outputs": [
        {
          "output_type": "execute_result",
          "data": {
            "text/plain": [
              "6"
            ]
          },
          "metadata": {},
          "execution_count": 4
        }
      ]
    },
    {
      "cell_type": "markdown",
      "source": [
        "## Question2 -\n",
        "\n",
        "Write a program to calculate the value of  factorial of a number"
      ],
      "metadata": {
        "id": "H4Q_f2J37X8s"
      }
    },
    {
      "cell_type": "code",
      "source": [
        "num = int(input(\"Enter the number to calculate its factorial : \"))\n",
        "result = 1\n",
        "for n in range(1, num+1):\n",
        "  result = result * n\n",
        "\n",
        "print(f\"the factorial of {num} is : {result}\")"
      ],
      "metadata": {
        "colab": {
          "base_uri": "https://localhost:8080/"
        },
        "id": "cxZyds906O8K",
        "outputId": "a4c00233-7e86-4847-d36f-4ad017be6f31"
      },
      "execution_count": null,
      "outputs": [
        {
          "output_type": "stream",
          "name": "stdout",
          "text": [
            "Enter the number to calculate its factorial : 3\n",
            "the factorial of 3 is : 6\n"
          ]
        }
      ]
    },
    {
      "cell_type": "code",
      "source": [
        "for apples in range(1,3+1):\n",
        "  print(apples)"
      ],
      "metadata": {
        "colab": {
          "base_uri": "https://localhost:8080/"
        },
        "id": "L3NkFnDJ7_kb",
        "outputId": "6894d6f9-d449-4959-9b34-95dee3d76143"
      },
      "execution_count": null,
      "outputs": [
        {
          "output_type": "stream",
          "name": "stdout",
          "text": [
            "1\n",
            "2\n",
            "3\n"
          ]
        }
      ]
    },
    {
      "cell_type": "markdown",
      "source": [
        "## question 3\n",
        "draw a pattern like this\n",
        "\n",
        "```\n",
        "   *\n",
        "  ***\n",
        " *****\n",
        "```"
      ],
      "metadata": {
        "id": "LVfHjfF0-52t"
      }
    },
    {
      "cell_type": "code",
      "source": [
        "print(\"*\", end =\"\")\n",
        "print(\"*\")"
      ],
      "metadata": {
        "colab": {
          "base_uri": "https://localhost:8080/"
        },
        "id": "VsYY504D_0vD",
        "outputId": "51781544-db68-4bc0-f622-52545e4bc0a3"
      },
      "execution_count": null,
      "outputs": [
        {
          "output_type": "stream",
          "name": "stdout",
          "text": [
            "**\n"
          ]
        }
      ]
    },
    {
      "cell_type": "code",
      "source": [
        "num = 5\n",
        "for i in range(num):\n",
        "  print(\" \" * (num-i),end=\"\")\n",
        "  print(\"*\" * (2*i + 1))\n"
      ],
      "metadata": {
        "colab": {
          "base_uri": "https://localhost:8080/"
        },
        "id": "Yfvw0Cha8F12",
        "outputId": "f834c530-281f-40eb-ecea-c304948be03e"
      },
      "execution_count": null,
      "outputs": [
        {
          "output_type": "stream",
          "name": "stdout",
          "text": [
            "     *\n",
            "    ***\n",
            "   *****\n",
            "  *******\n",
            " *********\n"
          ]
        }
      ]
    },
    {
      "cell_type": "markdown",
      "source": [
        "## question 4\n",
        "draw a pattern like this\n",
        "\n",
        "```\n",
        "*\n",
        "***\n",
        "*****\n",
        "```"
      ],
      "metadata": {
        "id": "DpqsO3QVC3Ma"
      }
    },
    {
      "cell_type": "code",
      "source": [
        "num = 5\n",
        "for i in range(num):\n",
        "  print(\"*\" *(2*i+1))"
      ],
      "metadata": {
        "colab": {
          "base_uri": "https://localhost:8080/"
        },
        "id": "nMILGQJ_BqV-",
        "outputId": "5e919987-7aa9-453c-9a4a-dd723e660ce9"
      },
      "execution_count": null,
      "outputs": [
        {
          "output_type": "stream",
          "name": "stdout",
          "text": [
            "*\n",
            "***\n",
            "*****\n",
            "*******\n",
            "*********\n"
          ]
        }
      ]
    },
    {
      "cell_type": "markdown",
      "source": [
        "## question 5\n",
        "draw a pattern like this\n",
        "\n",
        "```\n",
        "#####\n",
        "#   #\n",
        "#   #\n",
        "#   #\n",
        "#####\n",
        "\n",
        "```"
      ],
      "metadata": {
        "id": "5NTepXhVDXPS"
      }
    },
    {
      "cell_type": "code",
      "source": [
        "for i in range(5):\n",
        "  print(i)"
      ],
      "metadata": {
        "colab": {
          "base_uri": "https://localhost:8080/"
        },
        "id": "2P8e9koTFfvy",
        "outputId": "b0a55d84-150f-4676-9317-cf52fce5f816"
      },
      "execution_count": null,
      "outputs": [
        {
          "output_type": "stream",
          "name": "stdout",
          "text": [
            "0\n",
            "1\n",
            "2\n",
            "3\n",
            "4\n"
          ]
        }
      ]
    },
    {
      "cell_type": "code",
      "source": [
        "num = 3\n",
        "for i in range(num):\n",
        "  if (i == 0) or (i == (num - 1)):\n",
        "    print(\"#\" * num)\n",
        "  else:\n",
        "    print(\"#\", end = \"\")\n",
        "    print(\" \" * (num -2), end = \"\")\n",
        "    print(\"#\")"
      ],
      "metadata": {
        "colab": {
          "base_uri": "https://localhost:8080/"
        },
        "id": "58h4J5_5DM3D",
        "outputId": "b0717752-08b8-4668-e348-de2b7a213647"
      },
      "execution_count": null,
      "outputs": [
        {
          "output_type": "stream",
          "name": "stdout",
          "text": [
            "###\n",
            "# #\n",
            "###\n"
          ]
        }
      ]
    },
    {
      "cell_type": "markdown",
      "source": [
        "## ROCK PAPER SCISSORS\n",
        "1. computer should choose between R,P,S\n",
        "2. User will enter its choice as R,P,S\n",
        "3. Based on the choices you would return which person wins"
      ],
      "metadata": {
        "id": "b6Osj3SJGUDZ"
      }
    },
    {
      "cell_type": "code",
      "source": [],
      "metadata": {
        "id": "7MPg26XjFRdx"
      },
      "execution_count": null,
      "outputs": []
    },
    {
      "cell_type": "code",
      "source": [],
      "metadata": {
        "id": "QsDgN9MQHSaC"
      },
      "execution_count": null,
      "outputs": []
    }
  ]
}