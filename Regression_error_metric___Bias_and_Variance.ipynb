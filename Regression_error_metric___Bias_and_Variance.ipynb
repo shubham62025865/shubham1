{
  "nbformat": 4,
  "nbformat_minor": 0,
  "metadata": {
    "colab": {
      "provenance": [],
      "include_colab_link": true
    },
    "kernelspec": {
      "name": "python3",
      "display_name": "Python 3"
    },
    "language_info": {
      "name": "python"
    }
  },
  "cells": [
    {
      "cell_type": "markdown",
      "metadata": {
        "id": "view-in-github",
        "colab_type": "text"
      },
      "source": [
        "<a href=\"https://colab.research.google.com/github/shubham62025865/shubham1/blob/main/Regression_error_metric___Bias_and_Variance.ipynb\" target=\"_parent\"><img src=\"https://colab.research.google.com/assets/colab-badge.svg\" alt=\"Open In Colab\"/></a>"
      ]
    },
    {
      "cell_type": "markdown",
      "source": [
        "# Regression error metric\n",
        "\n",
        "<img width = 600 src = https://timeseriesreasoning.files.wordpress.com/2021/06/ee96d-1uoglr9t-6_1hilphu2d_rg.png />\n",
        "\n",
        "Here is the documentation link of all available error metrics in sklearn - https://scikit-learn.org/stable/modules/classes.html#module-sklearn.metrics"
      ],
      "metadata": {
        "id": "JZtBfjFG-bRy"
      }
    },
    {
      "cell_type": "markdown",
      "source": [
        "## What is a Regression Problem\n",
        "\n",
        "Regression is a type of Machine learning which helps in finding the relationship between independent and dependent variable.\n",
        "\n",
        "In simple words, Regression can be defined as a Machine learning problem where we have to predict discrete values like price, Rating, Fees, etc."
      ],
      "metadata": {
        "id": "WESZs3zrid-D"
      }
    },
    {
      "cell_type": "markdown",
      "source": [
        "## Why We require Evaluation Metrics?\n",
        "\n",
        "Machine learning model cannot have 100 per cent efficiency otherwise the model is known as a biased model. which further includes the concept of overfitting and underfitting.\n",
        "\n",
        "It is necessary to obtain the accuracy on training data, But it is also important to get a genuine and approximate result on unseen data otherwise Model is of no use.\n",
        "\n",
        "So to build and deploy a generalized model we require to Evaluate the model on different metrics which helps us to better optimize the performance, fine-tune it, and obtain a better result."
      ],
      "metadata": {
        "id": "F9wekz8Xis7R"
      }
    },
    {
      "cell_type": "code",
      "source": [
        "import pandas as pd\n",
        "import numpy as np\n",
        "import seaborn as sns\n",
        "from matplotlib import pyplot as plt\n",
        "from sklearn.model_selection import train_test_split\n",
        "# from sklearn.datasets import make_regression\n",
        "from sklearn.linear_model import LinearRegression"
      ],
      "metadata": {
        "id": "6K9iePX3j5Ve"
      },
      "execution_count": null,
      "outputs": []
    },
    {
      "cell_type": "markdown",
      "source": [
        "Dataset link - https://www.kaggle.com/datasets/tanuprabhu/linear-regression-dataset"
      ],
      "metadata": {
        "id": "kv4-MSZS55-Z"
      }
    },
    {
      "cell_type": "code",
      "source": [
        "df = pd.read_csv(\"/content/Linear Regression - Sheet1.csv\")\n",
        "df"
      ],
      "metadata": {
        "colab": {
          "base_uri": "https://localhost:8080/",
          "height": 423
        },
        "id": "Qvqy-IlW6FZR",
        "outputId": "37616af2-95f0-4cb9-ad97-40af81572579"
      },
      "execution_count": null,
      "outputs": [
        {
          "output_type": "execute_result",
          "data": {
            "text/plain": [
              "       X           Y\n",
              "0      1    3.888889\n",
              "1      2    4.555556\n",
              "2      3    5.222222\n",
              "3      4    5.888889\n",
              "4      5    6.555556\n",
              "..   ...         ...\n",
              "295  296  200.555556\n",
              "296  297  201.222222\n",
              "297  298  201.888889\n",
              "298  299    1.888889\n",
              "299  300    1.888889\n",
              "\n",
              "[300 rows x 2 columns]"
            ],
            "text/html": [
              "\n",
              "  <div id=\"df-00554af7-fa38-4e2a-9c39-da9be6be6acb\">\n",
              "    <div class=\"colab-df-container\">\n",
              "      <div>\n",
              "<style scoped>\n",
              "    .dataframe tbody tr th:only-of-type {\n",
              "        vertical-align: middle;\n",
              "    }\n",
              "\n",
              "    .dataframe tbody tr th {\n",
              "        vertical-align: top;\n",
              "    }\n",
              "\n",
              "    .dataframe thead th {\n",
              "        text-align: right;\n",
              "    }\n",
              "</style>\n",
              "<table border=\"1\" class=\"dataframe\">\n",
              "  <thead>\n",
              "    <tr style=\"text-align: right;\">\n",
              "      <th></th>\n",
              "      <th>X</th>\n",
              "      <th>Y</th>\n",
              "    </tr>\n",
              "  </thead>\n",
              "  <tbody>\n",
              "    <tr>\n",
              "      <th>0</th>\n",
              "      <td>1</td>\n",
              "      <td>3.888889</td>\n",
              "    </tr>\n",
              "    <tr>\n",
              "      <th>1</th>\n",
              "      <td>2</td>\n",
              "      <td>4.555556</td>\n",
              "    </tr>\n",
              "    <tr>\n",
              "      <th>2</th>\n",
              "      <td>3</td>\n",
              "      <td>5.222222</td>\n",
              "    </tr>\n",
              "    <tr>\n",
              "      <th>3</th>\n",
              "      <td>4</td>\n",
              "      <td>5.888889</td>\n",
              "    </tr>\n",
              "    <tr>\n",
              "      <th>4</th>\n",
              "      <td>5</td>\n",
              "      <td>6.555556</td>\n",
              "    </tr>\n",
              "    <tr>\n",
              "      <th>...</th>\n",
              "      <td>...</td>\n",
              "      <td>...</td>\n",
              "    </tr>\n",
              "    <tr>\n",
              "      <th>295</th>\n",
              "      <td>296</td>\n",
              "      <td>200.555556</td>\n",
              "    </tr>\n",
              "    <tr>\n",
              "      <th>296</th>\n",
              "      <td>297</td>\n",
              "      <td>201.222222</td>\n",
              "    </tr>\n",
              "    <tr>\n",
              "      <th>297</th>\n",
              "      <td>298</td>\n",
              "      <td>201.888889</td>\n",
              "    </tr>\n",
              "    <tr>\n",
              "      <th>298</th>\n",
              "      <td>299</td>\n",
              "      <td>1.888889</td>\n",
              "    </tr>\n",
              "    <tr>\n",
              "      <th>299</th>\n",
              "      <td>300</td>\n",
              "      <td>1.888889</td>\n",
              "    </tr>\n",
              "  </tbody>\n",
              "</table>\n",
              "<p>300 rows × 2 columns</p>\n",
              "</div>\n",
              "      <button class=\"colab-df-convert\" onclick=\"convertToInteractive('df-00554af7-fa38-4e2a-9c39-da9be6be6acb')\"\n",
              "              title=\"Convert this dataframe to an interactive table.\"\n",
              "              style=\"display:none;\">\n",
              "        \n",
              "  <svg xmlns=\"http://www.w3.org/2000/svg\" height=\"24px\"viewBox=\"0 0 24 24\"\n",
              "       width=\"24px\">\n",
              "    <path d=\"M0 0h24v24H0V0z\" fill=\"none\"/>\n",
              "    <path d=\"M18.56 5.44l.94 2.06.94-2.06 2.06-.94-2.06-.94-.94-2.06-.94 2.06-2.06.94zm-11 1L8.5 8.5l.94-2.06 2.06-.94-2.06-.94L8.5 2.5l-.94 2.06-2.06.94zm10 10l.94 2.06.94-2.06 2.06-.94-2.06-.94-.94-2.06-.94 2.06-2.06.94z\"/><path d=\"M17.41 7.96l-1.37-1.37c-.4-.4-.92-.59-1.43-.59-.52 0-1.04.2-1.43.59L10.3 9.45l-7.72 7.72c-.78.78-.78 2.05 0 2.83L4 21.41c.39.39.9.59 1.41.59.51 0 1.02-.2 1.41-.59l7.78-7.78 2.81-2.81c.8-.78.8-2.07 0-2.86zM5.41 20L4 18.59l7.72-7.72 1.47 1.35L5.41 20z\"/>\n",
              "  </svg>\n",
              "      </button>\n",
              "      \n",
              "  <style>\n",
              "    .colab-df-container {\n",
              "      display:flex;\n",
              "      flex-wrap:wrap;\n",
              "      gap: 12px;\n",
              "    }\n",
              "\n",
              "    .colab-df-convert {\n",
              "      background-color: #E8F0FE;\n",
              "      border: none;\n",
              "      border-radius: 50%;\n",
              "      cursor: pointer;\n",
              "      display: none;\n",
              "      fill: #1967D2;\n",
              "      height: 32px;\n",
              "      padding: 0 0 0 0;\n",
              "      width: 32px;\n",
              "    }\n",
              "\n",
              "    .colab-df-convert:hover {\n",
              "      background-color: #E2EBFA;\n",
              "      box-shadow: 0px 1px 2px rgba(60, 64, 67, 0.3), 0px 1px 3px 1px rgba(60, 64, 67, 0.15);\n",
              "      fill: #174EA6;\n",
              "    }\n",
              "\n",
              "    [theme=dark] .colab-df-convert {\n",
              "      background-color: #3B4455;\n",
              "      fill: #D2E3FC;\n",
              "    }\n",
              "\n",
              "    [theme=dark] .colab-df-convert:hover {\n",
              "      background-color: #434B5C;\n",
              "      box-shadow: 0px 1px 3px 1px rgba(0, 0, 0, 0.15);\n",
              "      filter: drop-shadow(0px 1px 2px rgba(0, 0, 0, 0.3));\n",
              "      fill: #FFFFFF;\n",
              "    }\n",
              "  </style>\n",
              "\n",
              "      <script>\n",
              "        const buttonEl =\n",
              "          document.querySelector('#df-00554af7-fa38-4e2a-9c39-da9be6be6acb button.colab-df-convert');\n",
              "        buttonEl.style.display =\n",
              "          google.colab.kernel.accessAllowed ? 'block' : 'none';\n",
              "\n",
              "        async function convertToInteractive(key) {\n",
              "          const element = document.querySelector('#df-00554af7-fa38-4e2a-9c39-da9be6be6acb');\n",
              "          const dataTable =\n",
              "            await google.colab.kernel.invokeFunction('convertToInteractive',\n",
              "                                                     [key], {});\n",
              "          if (!dataTable) return;\n",
              "\n",
              "          const docLinkHtml = 'Like what you see? Visit the ' +\n",
              "            '<a target=\"_blank\" href=https://colab.research.google.com/notebooks/data_table.ipynb>data table notebook</a>'\n",
              "            + ' to learn more about interactive tables.';\n",
              "          element.innerHTML = '';\n",
              "          dataTable['output_type'] = 'display_data';\n",
              "          await google.colab.output.renderOutput(dataTable, element);\n",
              "          const docLink = document.createElement('div');\n",
              "          docLink.innerHTML = docLinkHtml;\n",
              "          element.appendChild(docLink);\n",
              "        }\n",
              "      </script>\n",
              "    </div>\n",
              "  </div>\n",
              "  "
            ]
          },
          "metadata": {},
          "execution_count": 2
        }
      ]
    },
    {
      "cell_type": "code",
      "source": [
        "sns.scatterplot(data = df, x=\"X\", y=\"Y\")"
      ],
      "metadata": {
        "colab": {
          "base_uri": "https://localhost:8080/",
          "height": 466
        },
        "id": "Q-pAAZ886U-v",
        "outputId": "ba95dbd7-9b70-4bdc-e903-f5ce32eb5019"
      },
      "execution_count": null,
      "outputs": [
        {
          "output_type": "execute_result",
          "data": {
            "text/plain": [
              "<Axes: xlabel='X', ylabel='Y'>"
            ]
          },
          "metadata": {},
          "execution_count": 3
        },
        {
          "output_type": "display_data",
          "data": {
            "text/plain": [
              "<Figure size 640x480 with 1 Axes>"
            ],
            "image/png": "[encoded data removed]"
          },
          "metadata": {}
        }
      ]
    },
    {
      "cell_type": "code",
      "source": [
        "X = df.drop(columns = [\"Y\"])\n",
        "y = df[\"Y\"]\n",
        "X.shape, y.shape"
      ],
      "metadata": {
        "colab": {
          "base_uri": "https://localhost:8080/"
        },
        "id": "gnO-qKWjkabG",
        "outputId": "98e46248-7413-49da-c3a7-c2c5586a5874"
      },
      "execution_count": null,
      "outputs": [
        {
          "output_type": "execute_result",
          "data": {
            "text/plain": [
              "((300, 1), (300,))"
            ]
          },
          "metadata": {},
          "execution_count": 4
        }
      ]
    },
    {
      "cell_type": "code",
      "source": [
        "# train test split\n",
        "X_train,X_test,y_train,y_test = train_test_split(X,y,test_size=0.2,random_state=24)\n",
        "\n",
        "# Defining the model\n",
        "lr = LinearRegression()\n",
        "\n",
        "# Fitting the model\n",
        "lr.fit(X_train,y_train)\n",
        "\n",
        "# Getting predictions on X_test\n",
        "y_pred = lr.predict(X_test)\n",
        "# print(y_pred)"
      ],
      "metadata": {
        "id": "SE8lxPSKj8jX"
      },
      "execution_count": null,
      "outputs": []
    },
    {
      "cell_type": "code",
      "source": [
        "X_train.head()"
      ],
      "metadata": {
        "colab": {
          "base_uri": "https://localhost:8080/",
          "height": 206
        },
        "id": "qDH9dhc7QPh_",
        "outputId": "0cb7a924-c529-40d0-930a-d9be95a86656"
      },
      "execution_count": null,
      "outputs": [
        {
          "output_type": "execute_result",
          "data": {
            "text/plain": [
              "       X\n",
              "65    66\n",
              "179  180\n",
              "142  143\n",
              "31    32\n",
              "216  217"
            ],
            "text/html": [
              "\n",
              "  <div id=\"df-6dceb0d2-120f-4b01-b670-f47312f70e93\">\n",
              "    <div class=\"colab-df-container\">\n",
              "      <div>\n",
              "<style scoped>\n",
              "    .dataframe tbody tr th:only-of-type {\n",
              "        vertical-align: middle;\n",
              "    }\n",
              "\n",
              "    .dataframe tbody tr th {\n",
              "        vertical-align: top;\n",
              "    }\n",
              "\n",
              "    .dataframe thead th {\n",
              "        text-align: right;\n",
              "    }\n",
              "</style>\n",
              "<table border=\"1\" class=\"dataframe\">\n",
              "  <thead>\n",
              "    <tr style=\"text-align: right;\">\n",
              "      <th></th>\n",
              "      <th>X</th>\n",
              "    </tr>\n",
              "  </thead>\n",
              "  <tbody>\n",
              "    <tr>\n",
              "      <th>65</th>\n",
              "      <td>66</td>\n",
              "    </tr>\n",
              "    <tr>\n",
              "      <th>179</th>\n",
              "      <td>180</td>\n",
              "    </tr>\n",
              "    <tr>\n",
              "      <th>142</th>\n",
              "      <td>143</td>\n",
              "    </tr>\n",
              "    <tr>\n",
              "      <th>31</th>\n",
              "      <td>32</td>\n",
              "    </tr>\n",
              "    <tr>\n",
              "      <th>216</th>\n",
              "      <td>217</td>\n",
              "    </tr>\n",
              "  </tbody>\n",
              "</table>\n",
              "</div>\n",
              "      <button class=\"colab-df-convert\" onclick=\"convertToInteractive('df-6dceb0d2-120f-4b01-b670-f47312f70e93')\"\n",
              "              title=\"Convert this dataframe to an interactive table.\"\n",
              "              style=\"display:none;\">\n",
              "        \n",
              "  <svg xmlns=\"http://www.w3.org/2000/svg\" height=\"24px\"viewBox=\"0 0 24 24\"\n",
              "       width=\"24px\">\n",
              "    <path d=\"M0 0h24v24H0V0z\" fill=\"none\"/>\n",
              "    <path d=\"M18.56 5.44l.94 2.06.94-2.06 2.06-.94-2.06-.94-.94-2.06-.94 2.06-2.06.94zm-11 1L8.5 8.5l.94-2.06 2.06-.94-2.06-.94L8.5 2.5l-.94 2.06-2.06.94zm10 10l.94 2.06.94-2.06 2.06-.94-2.06-.94-.94-2.06-.94 2.06-2.06.94z\"/><path d=\"M17.41 7.96l-1.37-1.37c-.4-.4-.92-.59-1.43-.59-.52 0-1.04.2-1.43.59L10.3 9.45l-7.72 7.72c-.78.78-.78 2.05 0 2.83L4 21.41c.39.39.9.59 1.41.59.51 0 1.02-.2 1.41-.59l7.78-7.78 2.81-2.81c.8-.78.8-2.07 0-2.86zM5.41 20L4 18.59l7.72-7.72 1.47 1.35L5.41 20z\"/>\n",
              "  </svg>\n",
              "      </button>\n",
              "      \n",
              "  <style>\n",
              "    .colab-df-container {\n",
              "      display:flex;\n",
              "      flex-wrap:wrap;\n",
              "      gap: 12px;\n",
              "    }\n",
              "\n",
              "    .colab-df-convert {\n",
              "      background-color: #E8F0FE;\n",
              "      border: none;\n",
              "      border-radius: 50%;\n",
              "      cursor: pointer;\n",
              "      display: none;\n",
              "      fill: #1967D2;\n",
              "      height: 32px;\n",
              "      padding: 0 0 0 0;\n",
              "      width: 32px;\n",
              "    }\n",
              "\n",
              "    .colab-df-convert:hover {\n",
              "      background-color: #E2EBFA;\n",
              "      box-shadow: 0px 1px 2px rgba(60, 64, 67, 0.3), 0px 1px 3px 1px rgba(60, 64, 67, 0.15);\n",
              "      fill: #174EA6;\n",
              "    }\n",
              "\n",
              "    [theme=dark] .colab-df-convert {\n",
              "      background-color: #3B4455;\n",
              "      fill: #D2E3FC;\n",
              "    }\n",
              "\n",
              "    [theme=dark] .colab-df-convert:hover {\n",
              "      background-color: #434B5C;\n",
              "      box-shadow: 0px 1px 3px 1px rgba(0, 0, 0, 0.15);\n",
              "      filter: drop-shadow(0px 1px 2px rgba(0, 0, 0, 0.3));\n",
              "      fill: #FFFFFF;\n",
              "    }\n",
              "  </style>\n",
              "\n",
              "      <script>\n",
              "        const buttonEl =\n",
              "          document.querySelector('#df-6dceb0d2-120f-4b01-b670-f47312f70e93 button.colab-df-convert');\n",
              "        buttonEl.style.display =\n",
              "          google.colab.kernel.accessAllowed ? 'block' : 'none';\n",
              "\n",
              "        async function convertToInteractive(key) {\n",
              "          const element = document.querySelector('#df-6dceb0d2-120f-4b01-b670-f47312f70e93');\n",
              "          const dataTable =\n",
              "            await google.colab.kernel.invokeFunction('convertToInteractive',\n",
              "                                                     [key], {});\n",
              "          if (!dataTable) return;\n",
              "\n",
              "          const docLinkHtml = 'Like what you see? Visit the ' +\n",
              "            '<a target=\"_blank\" href=https://colab.research.google.com/notebooks/data_table.ipynb>data table notebook</a>'\n",
              "            + ' to learn more about interactive tables.';\n",
              "          element.innerHTML = '';\n",
              "          dataTable['output_type'] = 'display_data';\n",
              "          await google.colab.output.renderOutput(dataTable, element);\n",
              "          const docLink = document.createElement('div');\n",
              "          docLink.innerHTML = docLinkHtml;\n",
              "          element.appendChild(docLink);\n",
              "        }\n",
              "      </script>\n",
              "    </div>\n",
              "  </div>\n",
              "  "
            ]
          },
          "metadata": {},
          "execution_count": 6
        }
      ]
    },
    {
      "cell_type": "markdown",
      "source": [
        "## 1. Mean Absolute Error(MAE)\n",
        "\n",
        "doc link - https://scikit-learn.org/stable/modules/generated/sklearn.metrics.mean_absolute_error.html\n",
        "\n",
        "\n",
        "MAE is a very simple metric which calculates the absolute difference between actual and predicted values.\n",
        "\n",
        "To better understand, let’s take an example you have input data and output data and use Linear Regression, which draws a best-fit line.\n",
        "\n",
        "Now you have to find the MAE of your model which is basically a mistake made by the model known as an error. Now find the difference between the actual value and predicted value that is an absolute error but we have to find the mean absolute of the complete dataset.\n",
        "\n",
        "so, sum all the errors and divide them by a total number of observations And this is MAE. And we aim to get a minimum MAE because this is a loss.\n",
        "\n",
        "\n",
        "<img width = 600 src = https://miro.medium.com/max/1400/1*O1e79fdHpZCX6AIHDHob1Q.jpeg />\n",
        "\n",
        "<img width = 400 src = https://editor.analyticsvidhya.com/uploads/71890MAE%20Formula.png />\n"
      ],
      "metadata": {
        "id": "dMYxjUJblUON"
      }
    },
    {
      "cell_type": "markdown",
      "source": [
        "**Advantages of MAE**\n",
        "\n",
        "- The MAE you get is in the same unit as the output variable.\n",
        "- It is most Robust to outliers.\n",
        "\n",
        "**Disadvantages of MAE**\n",
        "\n",
        "- The graph of MAE is not differentiable so we have to apply various optimizers like Gradient descent which can be differentiable."
      ],
      "metadata": {
        "id": "JmBRdfa-m8MR"
      }
    },
    {
      "cell_type": "code",
      "source": [
        "# creating error_df for comparing different error metric\n",
        "d = {'metric': [], 'value': []}\n",
        "error_df = pd.DataFrame(data = d)\n",
        "error_df"
      ],
      "metadata": {
        "colab": {
          "base_uri": "https://localhost:8080/",
          "height": 49
        },
        "id": "muRAj3r4pEbV",
        "outputId": "c5f7c29c-52a7-48eb-8cf7-c7ea38089910"
      },
      "execution_count": null,
      "outputs": [
        {
          "output_type": "execute_result",
          "data": {
            "text/plain": [
              "Empty DataFrame\n",
              "Columns: [metric, value]\n",
              "Index: []"
            ],
            "text/html": [
              "\n",
              "  <div id=\"df-a265ae74-9251-4d2c-addd-e68dbec9037b\">\n",
              "    <div class=\"colab-df-container\">\n",
              "      <div>\n",
              "<style scoped>\n",
              "    .dataframe tbody tr th:only-of-type {\n",
              "        vertical-align: middle;\n",
              "    }\n",
              "\n",
              "    .dataframe tbody tr th {\n",
              "        vertical-align: top;\n",
              "    }\n",
              "\n",
              "    .dataframe thead th {\n",
              "        text-align: right;\n",
              "    }\n",
              "</style>\n",
              "<table border=\"1\" class=\"dataframe\">\n",
              "  <thead>\n",
              "    <tr style=\"text-align: right;\">\n",
              "      <th></th>\n",
              "      <th>metric</th>\n",
              "      <th>value</th>\n",
              "    </tr>\n",
              "  </thead>\n",
              "  <tbody>\n",
              "  </tbody>\n",
              "</table>\n",
              "</div>\n",
              "      <button class=\"colab-df-convert\" onclick=\"convertToInteractive('df-a265ae74-9251-4d2c-addd-e68dbec9037b')\"\n",
              "              title=\"Convert this dataframe to an interactive table.\"\n",
              "              style=\"display:none;\">\n",
              "        \n",
              "  <svg xmlns=\"http://www.w3.org/2000/svg\" height=\"24px\"viewBox=\"0 0 24 24\"\n",
              "       width=\"24px\">\n",
              "    <path d=\"M0 0h24v24H0V0z\" fill=\"none\"/>\n",
              "    <path d=\"M18.56 5.44l.94 2.06.94-2.06 2.06-.94-2.06-.94-.94-2.06-.94 2.06-2.06.94zm-11 1L8.5 8.5l.94-2.06 2.06-.94-2.06-.94L8.5 2.5l-.94 2.06-2.06.94zm10 10l.94 2.06.94-2.06 2.06-.94-2.06-.94-.94-2.06-.94 2.06-2.06.94z\"/><path d=\"M17.41 7.96l-1.37-1.37c-.4-.4-.92-.59-1.43-.59-.52 0-1.04.2-1.43.59L10.3 9.45l-7.72 7.72c-.78.78-.78 2.05 0 2.83L4 21.41c.39.39.9.59 1.41.59.51 0 1.02-.2 1.41-.59l7.78-7.78 2.81-2.81c.8-.78.8-2.07 0-2.86zM5.41 20L4 18.59l7.72-7.72 1.47 1.35L5.41 20z\"/>\n",
              "  </svg>\n",
              "      </button>\n",
              "      \n",
              "  <style>\n",
              "    .colab-df-container {\n",
              "      display:flex;\n",
              "      flex-wrap:wrap;\n",
              "      gap: 12px;\n",
              "    }\n",
              "\n",
              "    .colab-df-convert {\n",
              "      background-color: #E8F0FE;\n",
              "      border: none;\n",
              "      border-radius: 50%;\n",
              "      cursor: pointer;\n",
              "      display: none;\n",
              "      fill: #1967D2;\n",
              "      height: 32px;\n",
              "      padding: 0 0 0 0;\n",
              "      width: 32px;\n",
              "    }\n",
              "\n",
              "    .colab-df-convert:hover {\n",
              "      background-color: #E2EBFA;\n",
              "      box-shadow: 0px 1px 2px rgba(60, 64, 67, 0.3), 0px 1px 3px 1px rgba(60, 64, 67, 0.15);\n",
              "      fill: #174EA6;\n",
              "    }\n",
              "\n",
              "    [theme=dark] .colab-df-convert {\n",
              "      background-color: #3B4455;\n",
              "      fill: #D2E3FC;\n",
              "    }\n",
              "\n",
              "    [theme=dark] .colab-df-convert:hover {\n",
              "      background-color: #434B5C;\n",
              "      box-shadow: 0px 1px 3px 1px rgba(0, 0, 0, 0.15);\n",
              "      filter: drop-shadow(0px 1px 2px rgba(0, 0, 0, 0.3));\n",
              "      fill: #FFFFFF;\n",
              "    }\n",
              "  </style>\n",
              "\n",
              "      <script>\n",
              "        const buttonEl =\n",
              "          document.querySelector('#df-a265ae74-9251-4d2c-addd-e68dbec9037b button.colab-df-convert');\n",
              "        buttonEl.style.display =\n",
              "          google.colab.kernel.accessAllowed ? 'block' : 'none';\n",
              "\n",
              "        async function convertToInteractive(key) {\n",
              "          const element = document.querySelector('#df-a265ae74-9251-4d2c-addd-e68dbec9037b');\n",
              "          const dataTable =\n",
              "            await google.colab.kernel.invokeFunction('convertToInteractive',\n",
              "                                                     [key], {});\n",
              "          if (!dataTable) return;\n",
              "\n",
              "          const docLinkHtml = 'Like what you see? Visit the ' +\n",
              "            '<a target=\"_blank\" href=https://colab.research.google.com/notebooks/data_table.ipynb>data table notebook</a>'\n",
              "            + ' to learn more about interactive tables.';\n",
              "          element.innerHTML = '';\n",
              "          dataTable['output_type'] = 'display_data';\n",
              "          await google.colab.output.renderOutput(dataTable, element);\n",
              "          const docLink = document.createElement('div');\n",
              "          docLink.innerHTML = docLinkHtml;\n",
              "          element.appendChild(docLink);\n",
              "        }\n",
              "      </script>\n",
              "    </div>\n",
              "  </div>\n",
              "  "
            ]
          },
          "metadata": {},
          "execution_count": 6
        }
      ]
    },
    {
      "cell_type": "code",
      "source": [
        "from sklearn.metrics import mean_absolute_error\n",
        "d = {'metric': [\"MAE\"],\n",
        "     'value': [mean_absolute_error(y_test,y_pred)]}\n",
        "temp_df = pd.DataFrame(data = d)\n",
        "error_df = pd.concat([error_df,temp_df],ignore_index = True)\n",
        "error_df"
      ],
      "metadata": {
        "colab": {
          "base_uri": "https://localhost:8080/",
          "height": 80
        },
        "id": "dXHPZXTwk3bc",
        "outputId": "5156f820-aa23-4e23-c062-5b682d0b1b1d"
      },
      "execution_count": null,
      "outputs": [
        {
          "output_type": "execute_result",
          "data": {
            "text/plain": [
              "  metric     value\n",
              "0    MAE  4.581576"
            ],
            "text/html": [
              "\n",
              "  <div id=\"df-1a4c870c-f11b-4a81-977f-b256f33aaf9b\">\n",
              "    <div class=\"colab-df-container\">\n",
              "      <div>\n",
              "<style scoped>\n",
              "    .dataframe tbody tr th:only-of-type {\n",
              "        vertical-align: middle;\n",
              "    }\n",
              "\n",
              "    .dataframe tbody tr th {\n",
              "        vertical-align: top;\n",
              "    }\n",
              "\n",
              "    .dataframe thead th {\n",
              "        text-align: right;\n",
              "    }\n",
              "</style>\n",
              "<table border=\"1\" class=\"dataframe\">\n",
              "  <thead>\n",
              "    <tr style=\"text-align: right;\">\n",
              "      <th></th>\n",
              "      <th>metric</th>\n",
              "      <th>value</th>\n",
              "    </tr>\n",
              "  </thead>\n",
              "  <tbody>\n",
              "    <tr>\n",
              "      <th>0</th>\n",
              "      <td>MAE</td>\n",
              "      <td>4.581576</td>\n",
              "    </tr>\n",
              "  </tbody>\n",
              "</table>\n",
              "</div>\n",
              "      <button class=\"colab-df-convert\" onclick=\"convertToInteractive('df-1a4c870c-f11b-4a81-977f-b256f33aaf9b')\"\n",
              "              title=\"Convert this dataframe to an interactive table.\"\n",
              "              style=\"display:none;\">\n",
              "        \n",
              "  <svg xmlns=\"http://www.w3.org/2000/svg\" height=\"24px\"viewBox=\"0 0 24 24\"\n",
              "       width=\"24px\">\n",
              "    <path d=\"M0 0h24v24H0V0z\" fill=\"none\"/>\n",
              "    <path d=\"M18.56 5.44l.94 2.06.94-2.06 2.06-.94-2.06-.94-.94-2.06-.94 2.06-2.06.94zm-11 1L8.5 8.5l.94-2.06 2.06-.94-2.06-.94L8.5 2.5l-.94 2.06-2.06.94zm10 10l.94 2.06.94-2.06 2.06-.94-2.06-.94-.94-2.06-.94 2.06-2.06.94z\"/><path d=\"M17.41 7.96l-1.37-1.37c-.4-.4-.92-.59-1.43-.59-.52 0-1.04.2-1.43.59L10.3 9.45l-7.72 7.72c-.78.78-.78 2.05 0 2.83L4 21.41c.39.39.9.59 1.41.59.51 0 1.02-.2 1.41-.59l7.78-7.78 2.81-2.81c.8-.78.8-2.07 0-2.86zM5.41 20L4 18.59l7.72-7.72 1.47 1.35L5.41 20z\"/>\n",
              "  </svg>\n",
              "      </button>\n",
              "      \n",
              "  <style>\n",
              "    .colab-df-container {\n",
              "      display:flex;\n",
              "      flex-wrap:wrap;\n",
              "      gap: 12px;\n",
              "    }\n",
              "\n",
              "    .colab-df-convert {\n",
              "      background-color: #E8F0FE;\n",
              "      border: none;\n",
              "      border-radius: 50%;\n",
              "      cursor: pointer;\n",
              "      display: none;\n",
              "      fill: #1967D2;\n",
              "      height: 32px;\n",
              "      padding: 0 0 0 0;\n",
              "      width: 32px;\n",
              "    }\n",
              "\n",
              "    .colab-df-convert:hover {\n",
              "      background-color: #E2EBFA;\n",
              "      box-shadow: 0px 1px 2px rgba(60, 64, 67, 0.3), 0px 1px 3px 1px rgba(60, 64, 67, 0.15);\n",
              "      fill: #174EA6;\n",
              "    }\n",
              "\n",
              "    [theme=dark] .colab-df-convert {\n",
              "      background-color: #3B4455;\n",
              "      fill: #D2E3FC;\n",
              "    }\n",
              "\n",
              "    [theme=dark] .colab-df-convert:hover {\n",
              "      background-color: #434B5C;\n",
              "      box-shadow: 0px 1px 3px 1px rgba(0, 0, 0, 0.15);\n",
              "      filter: drop-shadow(0px 1px 2px rgba(0, 0, 0, 0.3));\n",
              "      fill: #FFFFFF;\n",
              "    }\n",
              "  </style>\n",
              "\n",
              "      <script>\n",
              "        const buttonEl =\n",
              "          document.querySelector('#df-1a4c870c-f11b-4a81-977f-b256f33aaf9b button.colab-df-convert');\n",
              "        buttonEl.style.display =\n",
              "          google.colab.kernel.accessAllowed ? 'block' : 'none';\n",
              "\n",
              "        async function convertToInteractive(key) {\n",
              "          const element = document.querySelector('#df-1a4c870c-f11b-4a81-977f-b256f33aaf9b');\n",
              "          const dataTable =\n",
              "            await google.colab.kernel.invokeFunction('convertToInteractive',\n",
              "                                                     [key], {});\n",
              "          if (!dataTable) return;\n",
              "\n",
              "          const docLinkHtml = 'Like what you see? Visit the ' +\n",
              "            '<a target=\"_blank\" href=https://colab.research.google.com/notebooks/data_table.ipynb>data table notebook</a>'\n",
              "            + ' to learn more about interactive tables.';\n",
              "          element.innerHTML = '';\n",
              "          dataTable['output_type'] = 'display_data';\n",
              "          await google.colab.output.renderOutput(dataTable, element);\n",
              "          const docLink = document.createElement('div');\n",
              "          docLink.innerHTML = docLinkHtml;\n",
              "          element.appendChild(docLink);\n",
              "        }\n",
              "      </script>\n",
              "    </div>\n",
              "  </div>\n",
              "  "
            ]
          },
          "metadata": {},
          "execution_count": 7
        }
      ]
    },
    {
      "cell_type": "markdown",
      "source": [
        "## 2. Mean Squared Error(MSE)\n",
        "\n",
        "doc link - https://scikit-learn.org/stable/modules/generated/sklearn.metrics.mean_squared_error.html\n",
        "\n",
        "MSE is a most used and very simple metric with a little bit of change in mean absolute error. Mean squared error states that finding the squared difference between actual and predicted value.\n",
        "\n",
        "So, above we are finding the absolute difference and here we are finding the squared difference.\n",
        "\n",
        "What actually the MSE represents? It represents the squared distance between actual and predicted values. we perform squared to avoid the cancellation of negative terms and it is the benefit of MSE.\n",
        "\n",
        "<img width = 500 src = https://images.squarespace-cdn.com/content/v1/5acbdd3a25bf024c12f4c8b4/1600368657769-5BJU5FK86VZ6UXZGRC1M/Mean+Squared+Error.png /> \n",
        "<img width = 400 src = https://suboptimal.wiki/images/mse_5.jpg />"
      ],
      "metadata": {
        "id": "zqVhldaLnVDx"
      }
    },
    {
      "cell_type": "markdown",
      "source": [
        "**Advantages of MSE**\n",
        "\n",
        "- The graph of MSE is differentiable, so you can easily use it as a loss function.\n",
        "\n",
        "**Disadvantages of MSE**\n",
        "\n",
        "- The value you get after calculating MSE is a squared unit of output. for example, the output variable is in meter(m) then after calculating MSE the output we get is in meter squared.\n",
        "- If you have outliers in the dataset then it penalizes the outliers most and the calculated MSE is bigger. So, in short, It is not Robust to outliers which were an advantage in MAE."
      ],
      "metadata": {
        "id": "7qpDDiPvocYQ"
      }
    },
    {
      "cell_type": "code",
      "source": [
        "from sklearn.metrics import mean_squared_error\n",
        "\n",
        "d = {'metric': [\"MSE\"],\n",
        "     'value': [mean_squared_error(y_test,y_pred)]}\n",
        "temp_df = pd.DataFrame(data = d)\n",
        "error_df = pd.concat([error_df,temp_df],ignore_index = True)\n",
        "error_df"
      ],
      "metadata": {
        "colab": {
          "base_uri": "https://localhost:8080/",
          "height": 112
        },
        "id": "BnPP6-VXnNuC",
        "outputId": "7a27630a-561a-4185-dc5c-f315e1804e53"
      },
      "execution_count": null,
      "outputs": [
        {
          "output_type": "execute_result",
          "data": {
            "text/plain": [
              "  metric       value\n",
              "0    MAE    4.581576\n",
              "1    MSE  651.751075"
            ],
            "text/html": [
              "\n",
              "  <div id=\"df-48b1165b-58ee-4126-9fe3-ba7e63e1c1f9\">\n",
              "    <div class=\"colab-df-container\">\n",
              "      <div>\n",
              "<style scoped>\n",
              "    .dataframe tbody tr th:only-of-type {\n",
              "        vertical-align: middle;\n",
              "    }\n",
              "\n",
              "    .dataframe tbody tr th {\n",
              "        vertical-align: top;\n",
              "    }\n",
              "\n",
              "    .dataframe thead th {\n",
              "        text-align: right;\n",
              "    }\n",
              "</style>\n",
              "<table border=\"1\" class=\"dataframe\">\n",
              "  <thead>\n",
              "    <tr style=\"text-align: right;\">\n",
              "      <th></th>\n",
              "      <th>metric</th>\n",
              "      <th>value</th>\n",
              "    </tr>\n",
              "  </thead>\n",
              "  <tbody>\n",
              "    <tr>\n",
              "      <th>0</th>\n",
              "      <td>MAE</td>\n",
              "      <td>4.581576</td>\n",
              "    </tr>\n",
              "    <tr>\n",
              "      <th>1</th>\n",
              "      <td>MSE</td>\n",
              "      <td>651.751075</td>\n",
              "    </tr>\n",
              "  </tbody>\n",
              "</table>\n",
              "</div>\n",
              "      <button class=\"colab-df-convert\" onclick=\"convertToInteractive('df-48b1165b-58ee-4126-9fe3-ba7e63e1c1f9')\"\n",
              "              title=\"Convert this dataframe to an interactive table.\"\n",
              "              style=\"display:none;\">\n",
              "        \n",
              "  <svg xmlns=\"http://www.w3.org/2000/svg\" height=\"24px\"viewBox=\"0 0 24 24\"\n",
              "       width=\"24px\">\n",
              "    <path d=\"M0 0h24v24H0V0z\" fill=\"none\"/>\n",
              "    <path d=\"M18.56 5.44l.94 2.06.94-2.06 2.06-.94-2.06-.94-.94-2.06-.94 2.06-2.06.94zm-11 1L8.5 8.5l.94-2.06 2.06-.94-2.06-.94L8.5 2.5l-.94 2.06-2.06.94zm10 10l.94 2.06.94-2.06 2.06-.94-2.06-.94-.94-2.06-.94 2.06-2.06.94z\"/><path d=\"M17.41 7.96l-1.37-1.37c-.4-.4-.92-.59-1.43-.59-.52 0-1.04.2-1.43.59L10.3 9.45l-7.72 7.72c-.78.78-.78 2.05 0 2.83L4 21.41c.39.39.9.59 1.41.59.51 0 1.02-.2 1.41-.59l7.78-7.78 2.81-2.81c.8-.78.8-2.07 0-2.86zM5.41 20L4 18.59l7.72-7.72 1.47 1.35L5.41 20z\"/>\n",
              "  </svg>\n",
              "      </button>\n",
              "      \n",
              "  <style>\n",
              "    .colab-df-container {\n",
              "      display:flex;\n",
              "      flex-wrap:wrap;\n",
              "      gap: 12px;\n",
              "    }\n",
              "\n",
              "    .colab-df-convert {\n",
              "      background-color: #E8F0FE;\n",
              "      border: none;\n",
              "      border-radius: 50%;\n",
              "      cursor: pointer;\n",
              "      display: none;\n",
              "      fill: #1967D2;\n",
              "      height: 32px;\n",
              "      padding: 0 0 0 0;\n",
              "      width: 32px;\n",
              "    }\n",
              "\n",
              "    .colab-df-convert:hover {\n",
              "      background-color: #E2EBFA;\n",
              "      box-shadow: 0px 1px 2px rgba(60, 64, 67, 0.3), 0px 1px 3px 1px rgba(60, 64, 67, 0.15);\n",
              "      fill: #174EA6;\n",
              "    }\n",
              "\n",
              "    [theme=dark] .colab-df-convert {\n",
              "      background-color: #3B4455;\n",
              "      fill: #D2E3FC;\n",
              "    }\n",
              "\n",
              "    [theme=dark] .colab-df-convert:hover {\n",
              "      background-color: #434B5C;\n",
              "      box-shadow: 0px 1px 3px 1px rgba(0, 0, 0, 0.15);\n",
              "      filter: drop-shadow(0px 1px 2px rgba(0, 0, 0, 0.3));\n",
              "      fill: #FFFFFF;\n",
              "    }\n",
              "  </style>\n",
              "\n",
              "      <script>\n",
              "        const buttonEl =\n",
              "          document.querySelector('#df-48b1165b-58ee-4126-9fe3-ba7e63e1c1f9 button.colab-df-convert');\n",
              "        buttonEl.style.display =\n",
              "          google.colab.kernel.accessAllowed ? 'block' : 'none';\n",
              "\n",
              "        async function convertToInteractive(key) {\n",
              "          const element = document.querySelector('#df-48b1165b-58ee-4126-9fe3-ba7e63e1c1f9');\n",
              "          const dataTable =\n",
              "            await google.colab.kernel.invokeFunction('convertToInteractive',\n",
              "                                                     [key], {});\n",
              "          if (!dataTable) return;\n",
              "\n",
              "          const docLinkHtml = 'Like what you see? Visit the ' +\n",
              "            '<a target=\"_blank\" href=https://colab.research.google.com/notebooks/data_table.ipynb>data table notebook</a>'\n",
              "            + ' to learn more about interactive tables.';\n",
              "          element.innerHTML = '';\n",
              "          dataTable['output_type'] = 'display_data';\n",
              "          await google.colab.output.renderOutput(dataTable, element);\n",
              "          const docLink = document.createElement('div');\n",
              "          docLink.innerHTML = docLinkHtml;\n",
              "          element.appendChild(docLink);\n",
              "        }\n",
              "      </script>\n",
              "    </div>\n",
              "  </div>\n",
              "  "
            ]
          },
          "metadata": {},
          "execution_count": 9
        }
      ]
    },
    {
      "cell_type": "code",
      "source": [
        "df1 = pd.DataFrame()\n",
        "df1"
      ],
      "metadata": {
        "colab": {
          "base_uri": "https://localhost:8080/",
          "height": 49
        },
        "id": "IEOWlNvaKEEL",
        "outputId": "7cc93003-f0da-4021-affe-f6ad88707414"
      },
      "execution_count": null,
      "outputs": [
        {
          "output_type": "execute_result",
          "data": {
            "text/plain": [
              "Empty DataFrame\n",
              "Columns: []\n",
              "Index: []"
            ],
            "text/html": [
              "\n",
              "  <div id=\"df-dde8ceb0-dee7-4e67-aa60-d9a460adfc04\">\n",
              "    <div class=\"colab-df-container\">\n",
              "      <div>\n",
              "<style scoped>\n",
              "    .dataframe tbody tr th:only-of-type {\n",
              "        vertical-align: middle;\n",
              "    }\n",
              "\n",
              "    .dataframe tbody tr th {\n",
              "        vertical-align: top;\n",
              "    }\n",
              "\n",
              "    .dataframe thead th {\n",
              "        text-align: right;\n",
              "    }\n",
              "</style>\n",
              "<table border=\"1\" class=\"dataframe\">\n",
              "  <thead>\n",
              "    <tr style=\"text-align: right;\">\n",
              "      <th></th>\n",
              "    </tr>\n",
              "  </thead>\n",
              "  <tbody>\n",
              "  </tbody>\n",
              "</table>\n",
              "</div>\n",
              "      <button class=\"colab-df-convert\" onclick=\"convertToInteractive('df-dde8ceb0-dee7-4e67-aa60-d9a460adfc04')\"\n",
              "              title=\"Convert this dataframe to an interactive table.\"\n",
              "              style=\"display:none;\">\n",
              "        \n",
              "  <svg xmlns=\"http://www.w3.org/2000/svg\" height=\"24px\"viewBox=\"0 0 24 24\"\n",
              "       width=\"24px\">\n",
              "    <path d=\"M0 0h24v24H0V0z\" fill=\"none\"/>\n",
              "    <path d=\"M18.56 5.44l.94 2.06.94-2.06 2.06-.94-2.06-.94-.94-2.06-.94 2.06-2.06.94zm-11 1L8.5 8.5l.94-2.06 2.06-.94-2.06-.94L8.5 2.5l-.94 2.06-2.06.94zm10 10l.94 2.06.94-2.06 2.06-.94-2.06-.94-.94-2.06-.94 2.06-2.06.94z\"/><path d=\"M17.41 7.96l-1.37-1.37c-.4-.4-.92-.59-1.43-.59-.52 0-1.04.2-1.43.59L10.3 9.45l-7.72 7.72c-.78.78-.78 2.05 0 2.83L4 21.41c.39.39.9.59 1.41.59.51 0 1.02-.2 1.41-.59l7.78-7.78 2.81-2.81c.8-.78.8-2.07 0-2.86zM5.41 20L4 18.59l7.72-7.72 1.47 1.35L5.41 20z\"/>\n",
              "  </svg>\n",
              "      </button>\n",
              "      \n",
              "  <style>\n",
              "    .colab-df-container {\n",
              "      display:flex;\n",
              "      flex-wrap:wrap;\n",
              "      gap: 12px;\n",
              "    }\n",
              "\n",
              "    .colab-df-convert {\n",
              "      background-color: #E8F0FE;\n",
              "      border: none;\n",
              "      border-radius: 50%;\n",
              "      cursor: pointer;\n",
              "      display: none;\n",
              "      fill: #1967D2;\n",
              "      height: 32px;\n",
              "      padding: 0 0 0 0;\n",
              "      width: 32px;\n",
              "    }\n",
              "\n",
              "    .colab-df-convert:hover {\n",
              "      background-color: #E2EBFA;\n",
              "      box-shadow: 0px 1px 2px rgba(60, 64, 67, 0.3), 0px 1px 3px 1px rgba(60, 64, 67, 0.15);\n",
              "      fill: #174EA6;\n",
              "    }\n",
              "\n",
              "    [theme=dark] .colab-df-convert {\n",
              "      background-color: #3B4455;\n",
              "      fill: #D2E3FC;\n",
              "    }\n",
              "\n",
              "    [theme=dark] .colab-df-convert:hover {\n",
              "      background-color: #434B5C;\n",
              "      box-shadow: 0px 1px 3px 1px rgba(0, 0, 0, 0.15);\n",
              "      filter: drop-shadow(0px 1px 2px rgba(0, 0, 0, 0.3));\n",
              "      fill: #FFFFFF;\n",
              "    }\n",
              "  </style>\n",
              "\n",
              "      <script>\n",
              "        const buttonEl =\n",
              "          document.querySelector('#df-dde8ceb0-dee7-4e67-aa60-d9a460adfc04 button.colab-df-convert');\n",
              "        buttonEl.style.display =\n",
              "          google.colab.kernel.accessAllowed ? 'block' : 'none';\n",
              "\n",
              "        async function convertToInteractive(key) {\n",
              "          const element = document.querySelector('#df-dde8ceb0-dee7-4e67-aa60-d9a460adfc04');\n",
              "          const dataTable =\n",
              "            await google.colab.kernel.invokeFunction('convertToInteractive',\n",
              "                                                     [key], {});\n",
              "          if (!dataTable) return;\n",
              "\n",
              "          const docLinkHtml = 'Like what you see? Visit the ' +\n",
              "            '<a target=\"_blank\" href=https://colab.research.google.com/notebooks/data_table.ipynb>data table notebook</a>'\n",
              "            + ' to learn more about interactive tables.';\n",
              "          element.innerHTML = '';\n",
              "          dataTable['output_type'] = 'display_data';\n",
              "          await google.colab.output.renderOutput(dataTable, element);\n",
              "          const docLink = document.createElement('div');\n",
              "          docLink.innerHTML = docLinkHtml;\n",
              "          element.appendChild(docLink);\n",
              "        }\n",
              "      </script>\n",
              "    </div>\n",
              "  </div>\n",
              "  "
            ]
          },
          "metadata": {},
          "execution_count": 15
        }
      ]
    },
    {
      "cell_type": "code",
      "source": [
        "df1[\"y_test\"] = y_test.reset_index(drop =True)\n",
        "df1[\"y_pred\"] = y_pred\n",
        "df1.head()"
      ],
      "metadata": {
        "colab": {
          "base_uri": "https://localhost:8080/",
          "height": 206
        },
        "id": "NBSQzKFGKQPT",
        "outputId": "26263e81-d924-41d3-8946-db1679f3d9c4"
      },
      "execution_count": null,
      "outputs": [
        {
          "output_type": "execute_result",
          "data": {
            "text/plain": [
              "       y_test      y_pred\n",
              "0  125.888889  124.495961\n",
              "1   39.888889   40.624660\n",
              "2   77.888889   77.684072\n",
              "3  127.888889  126.446456\n",
              "4   20.555556   21.769871"
            ],
            "text/html": [
              "\n",
              "  <div id=\"df-00878c45-7b4b-4801-b345-78b9aaa3e46e\">\n",
              "    <div class=\"colab-df-container\">\n",
              "      <div>\n",
              "<style scoped>\n",
              "    .dataframe tbody tr th:only-of-type {\n",
              "        vertical-align: middle;\n",
              "    }\n",
              "\n",
              "    .dataframe tbody tr th {\n",
              "        vertical-align: top;\n",
              "    }\n",
              "\n",
              "    .dataframe thead th {\n",
              "        text-align: right;\n",
              "    }\n",
              "</style>\n",
              "<table border=\"1\" class=\"dataframe\">\n",
              "  <thead>\n",
              "    <tr style=\"text-align: right;\">\n",
              "      <th></th>\n",
              "      <th>y_test</th>\n",
              "      <th>y_pred</th>\n",
              "    </tr>\n",
              "  </thead>\n",
              "  <tbody>\n",
              "    <tr>\n",
              "      <th>0</th>\n",
              "      <td>125.888889</td>\n",
              "      <td>124.495961</td>\n",
              "    </tr>\n",
              "    <tr>\n",
              "      <th>1</th>\n",
              "      <td>39.888889</td>\n",
              "      <td>40.624660</td>\n",
              "    </tr>\n",
              "    <tr>\n",
              "      <th>2</th>\n",
              "      <td>77.888889</td>\n",
              "      <td>77.684072</td>\n",
              "    </tr>\n",
              "    <tr>\n",
              "      <th>3</th>\n",
              "      <td>127.888889</td>\n",
              "      <td>126.446456</td>\n",
              "    </tr>\n",
              "    <tr>\n",
              "      <th>4</th>\n",
              "      <td>20.555556</td>\n",
              "      <td>21.769871</td>\n",
              "    </tr>\n",
              "  </tbody>\n",
              "</table>\n",
              "</div>\n",
              "      <button class=\"colab-df-convert\" onclick=\"convertToInteractive('df-00878c45-7b4b-4801-b345-78b9aaa3e46e')\"\n",
              "              title=\"Convert this dataframe to an interactive table.\"\n",
              "              style=\"display:none;\">\n",
              "        \n",
              "  <svg xmlns=\"http://www.w3.org/2000/svg\" height=\"24px\"viewBox=\"0 0 24 24\"\n",
              "       width=\"24px\">\n",
              "    <path d=\"M0 0h24v24H0V0z\" fill=\"none\"/>\n",
              "    <path d=\"M18.56 5.44l.94 2.06.94-2.06 2.06-.94-2.06-.94-.94-2.06-.94 2.06-2.06.94zm-11 1L8.5 8.5l.94-2.06 2.06-.94-2.06-.94L8.5 2.5l-.94 2.06-2.06.94zm10 10l.94 2.06.94-2.06 2.06-.94-2.06-.94-.94-2.06-.94 2.06-2.06.94z\"/><path d=\"M17.41 7.96l-1.37-1.37c-.4-.4-.92-.59-1.43-.59-.52 0-1.04.2-1.43.59L10.3 9.45l-7.72 7.72c-.78.78-.78 2.05 0 2.83L4 21.41c.39.39.9.59 1.41.59.51 0 1.02-.2 1.41-.59l7.78-7.78 2.81-2.81c.8-.78.8-2.07 0-2.86zM5.41 20L4 18.59l7.72-7.72 1.47 1.35L5.41 20z\"/>\n",
              "  </svg>\n",
              "      </button>\n",
              "      \n",
              "  <style>\n",
              "    .colab-df-container {\n",
              "      display:flex;\n",
              "      flex-wrap:wrap;\n",
              "      gap: 12px;\n",
              "    }\n",
              "\n",
              "    .colab-df-convert {\n",
              "      background-color: #E8F0FE;\n",
              "      border: none;\n",
              "      border-radius: 50%;\n",
              "      cursor: pointer;\n",
              "      display: none;\n",
              "      fill: #1967D2;\n",
              "      height: 32px;\n",
              "      padding: 0 0 0 0;\n",
              "      width: 32px;\n",
              "    }\n",
              "\n",
              "    .colab-df-convert:hover {\n",
              "      background-color: #E2EBFA;\n",
              "      box-shadow: 0px 1px 2px rgba(60, 64, 67, 0.3), 0px 1px 3px 1px rgba(60, 64, 67, 0.15);\n",
              "      fill: #174EA6;\n",
              "    }\n",
              "\n",
              "    [theme=dark] .colab-df-convert {\n",
              "      background-color: #3B4455;\n",
              "      fill: #D2E3FC;\n",
              "    }\n",
              "\n",
              "    [theme=dark] .colab-df-convert:hover {\n",
              "      background-color: #434B5C;\n",
              "      box-shadow: 0px 1px 3px 1px rgba(0, 0, 0, 0.15);\n",
              "      filter: drop-shadow(0px 1px 2px rgba(0, 0, 0, 0.3));\n",
              "      fill: #FFFFFF;\n",
              "    }\n",
              "  </style>\n",
              "\n",
              "      <script>\n",
              "        const buttonEl =\n",
              "          document.querySelector('#df-00878c45-7b4b-4801-b345-78b9aaa3e46e button.colab-df-convert');\n",
              "        buttonEl.style.display =\n",
              "          google.colab.kernel.accessAllowed ? 'block' : 'none';\n",
              "\n",
              "        async function convertToInteractive(key) {\n",
              "          const element = document.querySelector('#df-00878c45-7b4b-4801-b345-78b9aaa3e46e');\n",
              "          const dataTable =\n",
              "            await google.colab.kernel.invokeFunction('convertToInteractive',\n",
              "                                                     [key], {});\n",
              "          if (!dataTable) return;\n",
              "\n",
              "          const docLinkHtml = 'Like what you see? Visit the ' +\n",
              "            '<a target=\"_blank\" href=https://colab.research.google.com/notebooks/data_table.ipynb>data table notebook</a>'\n",
              "            + ' to learn more about interactive tables.';\n",
              "          element.innerHTML = '';\n",
              "          dataTable['output_type'] = 'display_data';\n",
              "          await google.colab.output.renderOutput(dataTable, element);\n",
              "          const docLink = document.createElement('div');\n",
              "          docLink.innerHTML = docLinkHtml;\n",
              "          element.appendChild(docLink);\n",
              "        }\n",
              "      </script>\n",
              "    </div>\n",
              "  </div>\n",
              "  "
            ]
          },
          "metadata": {},
          "execution_count": 16
        }
      ]
    },
    {
      "cell_type": "code",
      "source": [
        "df1[\"y_test-y_pred\"] = df1[\"y_test\"] - df1[\"y_pred\"]\n",
        "df1.head()"
      ],
      "metadata": {
        "colab": {
          "base_uri": "https://localhost:8080/",
          "height": 206
        },
        "id": "qsnas19DKy3S",
        "outputId": "9950555a-d3d7-4276-e2e9-6c94f0855f56"
      },
      "execution_count": null,
      "outputs": [
        {
          "output_type": "execute_result",
          "data": {
            "text/plain": [
              "       y_test      y_pred  y_test-y_pred\n",
              "0  125.888889  124.495961       1.392928\n",
              "1   39.888889   40.624660      -0.735771\n",
              "2   77.888889   77.684072       0.204817\n",
              "3  127.888889  126.446456       1.442433\n",
              "4   20.555556   21.769871      -1.214315"
            ],
            "text/html": [
              "\n",
              "  <div id=\"df-cc378e58-db30-4035-b32b-199eec65801e\">\n",
              "    <div class=\"colab-df-container\">\n",
              "      <div>\n",
              "<style scoped>\n",
              "    .dataframe tbody tr th:only-of-type {\n",
              "        vertical-align: middle;\n",
              "    }\n",
              "\n",
              "    .dataframe tbody tr th {\n",
              "        vertical-align: top;\n",
              "    }\n",
              "\n",
              "    .dataframe thead th {\n",
              "        text-align: right;\n",
              "    }\n",
              "</style>\n",
              "<table border=\"1\" class=\"dataframe\">\n",
              "  <thead>\n",
              "    <tr style=\"text-align: right;\">\n",
              "      <th></th>\n",
              "      <th>y_test</th>\n",
              "      <th>y_pred</th>\n",
              "      <th>y_test-y_pred</th>\n",
              "    </tr>\n",
              "  </thead>\n",
              "  <tbody>\n",
              "    <tr>\n",
              "      <th>0</th>\n",
              "      <td>125.888889</td>\n",
              "      <td>124.495961</td>\n",
              "      <td>1.392928</td>\n",
              "    </tr>\n",
              "    <tr>\n",
              "      <th>1</th>\n",
              "      <td>39.888889</td>\n",
              "      <td>40.624660</td>\n",
              "      <td>-0.735771</td>\n",
              "    </tr>\n",
              "    <tr>\n",
              "      <th>2</th>\n",
              "      <td>77.888889</td>\n",
              "      <td>77.684072</td>\n",
              "      <td>0.204817</td>\n",
              "    </tr>\n",
              "    <tr>\n",
              "      <th>3</th>\n",
              "      <td>127.888889</td>\n",
              "      <td>126.446456</td>\n",
              "      <td>1.442433</td>\n",
              "    </tr>\n",
              "    <tr>\n",
              "      <th>4</th>\n",
              "      <td>20.555556</td>\n",
              "      <td>21.769871</td>\n",
              "      <td>-1.214315</td>\n",
              "    </tr>\n",
              "  </tbody>\n",
              "</table>\n",
              "</div>\n",
              "      <button class=\"colab-df-convert\" onclick=\"convertToInteractive('df-cc378e58-db30-4035-b32b-199eec65801e')\"\n",
              "              title=\"Convert this dataframe to an interactive table.\"\n",
              "              style=\"display:none;\">\n",
              "        \n",
              "  <svg xmlns=\"http://www.w3.org/2000/svg\" height=\"24px\"viewBox=\"0 0 24 24\"\n",
              "       width=\"24px\">\n",
              "    <path d=\"M0 0h24v24H0V0z\" fill=\"none\"/>\n",
              "    <path d=\"M18.56 5.44l.94 2.06.94-2.06 2.06-.94-2.06-.94-.94-2.06-.94 2.06-2.06.94zm-11 1L8.5 8.5l.94-2.06 2.06-.94-2.06-.94L8.5 2.5l-.94 2.06-2.06.94zm10 10l.94 2.06.94-2.06 2.06-.94-2.06-.94-.94-2.06-.94 2.06-2.06.94z\"/><path d=\"M17.41 7.96l-1.37-1.37c-.4-.4-.92-.59-1.43-.59-.52 0-1.04.2-1.43.59L10.3 9.45l-7.72 7.72c-.78.78-.78 2.05 0 2.83L4 21.41c.39.39.9.59 1.41.59.51 0 1.02-.2 1.41-.59l7.78-7.78 2.81-2.81c.8-.78.8-2.07 0-2.86zM5.41 20L4 18.59l7.72-7.72 1.47 1.35L5.41 20z\"/>\n",
              "  </svg>\n",
              "      </button>\n",
              "      \n",
              "  <style>\n",
              "    .colab-df-container {\n",
              "      display:flex;\n",
              "      flex-wrap:wrap;\n",
              "      gap: 12px;\n",
              "    }\n",
              "\n",
              "    .colab-df-convert {\n",
              "      background-color: #E8F0FE;\n",
              "      border: none;\n",
              "      border-radius: 50%;\n",
              "      cursor: pointer;\n",
              "      display: none;\n",
              "      fill: #1967D2;\n",
              "      height: 32px;\n",
              "      padding: 0 0 0 0;\n",
              "      width: 32px;\n",
              "    }\n",
              "\n",
              "    .colab-df-convert:hover {\n",
              "      background-color: #E2EBFA;\n",
              "      box-shadow: 0px 1px 2px rgba(60, 64, 67, 0.3), 0px 1px 3px 1px rgba(60, 64, 67, 0.15);\n",
              "      fill: #174EA6;\n",
              "    }\n",
              "\n",
              "    [theme=dark] .colab-df-convert {\n",
              "      background-color: #3B4455;\n",
              "      fill: #D2E3FC;\n",
              "    }\n",
              "\n",
              "    [theme=dark] .colab-df-convert:hover {\n",
              "      background-color: #434B5C;\n",
              "      box-shadow: 0px 1px 3px 1px rgba(0, 0, 0, 0.15);\n",
              "      filter: drop-shadow(0px 1px 2px rgba(0, 0, 0, 0.3));\n",
              "      fill: #FFFFFF;\n",
              "    }\n",
              "  </style>\n",
              "\n",
              "      <script>\n",
              "        const buttonEl =\n",
              "          document.querySelector('#df-cc378e58-db30-4035-b32b-199eec65801e button.colab-df-convert');\n",
              "        buttonEl.style.display =\n",
              "          google.colab.kernel.accessAllowed ? 'block' : 'none';\n",
              "\n",
              "        async function convertToInteractive(key) {\n",
              "          const element = document.querySelector('#df-cc378e58-db30-4035-b32b-199eec65801e');\n",
              "          const dataTable =\n",
              "            await google.colab.kernel.invokeFunction('convertToInteractive',\n",
              "                                                     [key], {});\n",
              "          if (!dataTable) return;\n",
              "\n",
              "          const docLinkHtml = 'Like what you see? Visit the ' +\n",
              "            '<a target=\"_blank\" href=https://colab.research.google.com/notebooks/data_table.ipynb>data table notebook</a>'\n",
              "            + ' to learn more about interactive tables.';\n",
              "          element.innerHTML = '';\n",
              "          dataTable['output_type'] = 'display_data';\n",
              "          await google.colab.output.renderOutput(dataTable, element);\n",
              "          const docLink = document.createElement('div');\n",
              "          docLink.innerHTML = docLinkHtml;\n",
              "          element.appendChild(docLink);\n",
              "        }\n",
              "      </script>\n",
              "    </div>\n",
              "  </div>\n",
              "  "
            ]
          },
          "metadata": {},
          "execution_count": 17
        }
      ]
    },
    {
      "cell_type": "code",
      "source": [
        "df1[\"abs_error\"] = abs(df1[\"y_test-y_pred\"])\n",
        "df1.head()"
      ],
      "metadata": {
        "colab": {
          "base_uri": "https://localhost:8080/",
          "height": 206
        },
        "id": "uBJrQE3-LOgo",
        "outputId": "a742b6d0-0c42-4694-d627-2ce994f2d475"
      },
      "execution_count": null,
      "outputs": [
        {
          "output_type": "execute_result",
          "data": {
            "text/plain": [
              "       y_test      y_pred  y_test-y_pred  abs_error\n",
              "0  125.888889  124.495961       1.392928   1.392928\n",
              "1   39.888889   40.624660      -0.735771   0.735771\n",
              "2   77.888889   77.684072       0.204817   0.204817\n",
              "3  127.888889  126.446456       1.442433   1.442433\n",
              "4   20.555556   21.769871      -1.214315   1.214315"
            ],
            "text/html": [
              "\n",
              "  <div id=\"df-f5d074da-0fe8-43c0-a586-63425f59694d\">\n",
              "    <div class=\"colab-df-container\">\n",
              "      <div>\n",
              "<style scoped>\n",
              "    .dataframe tbody tr th:only-of-type {\n",
              "        vertical-align: middle;\n",
              "    }\n",
              "\n",
              "    .dataframe tbody tr th {\n",
              "        vertical-align: top;\n",
              "    }\n",
              "\n",
              "    .dataframe thead th {\n",
              "        text-align: right;\n",
              "    }\n",
              "</style>\n",
              "<table border=\"1\" class=\"dataframe\">\n",
              "  <thead>\n",
              "    <tr style=\"text-align: right;\">\n",
              "      <th></th>\n",
              "      <th>y_test</th>\n",
              "      <th>y_pred</th>\n",
              "      <th>y_test-y_pred</th>\n",
              "      <th>abs_error</th>\n",
              "    </tr>\n",
              "  </thead>\n",
              "  <tbody>\n",
              "    <tr>\n",
              "      <th>0</th>\n",
              "      <td>125.888889</td>\n",
              "      <td>124.495961</td>\n",
              "      <td>1.392928</td>\n",
              "      <td>1.392928</td>\n",
              "    </tr>\n",
              "    <tr>\n",
              "      <th>1</th>\n",
              "      <td>39.888889</td>\n",
              "      <td>40.624660</td>\n",
              "      <td>-0.735771</td>\n",
              "      <td>0.735771</td>\n",
              "    </tr>\n",
              "    <tr>\n",
              "      <th>2</th>\n",
              "      <td>77.888889</td>\n",
              "      <td>77.684072</td>\n",
              "      <td>0.204817</td>\n",
              "      <td>0.204817</td>\n",
              "    </tr>\n",
              "    <tr>\n",
              "      <th>3</th>\n",
              "      <td>127.888889</td>\n",
              "      <td>126.446456</td>\n",
              "      <td>1.442433</td>\n",
              "      <td>1.442433</td>\n",
              "    </tr>\n",
              "    <tr>\n",
              "      <th>4</th>\n",
              "      <td>20.555556</td>\n",
              "      <td>21.769871</td>\n",
              "      <td>-1.214315</td>\n",
              "      <td>1.214315</td>\n",
              "    </tr>\n",
              "  </tbody>\n",
              "</table>\n",
              "</div>\n",
              "      <button class=\"colab-df-convert\" onclick=\"convertToInteractive('df-f5d074da-0fe8-43c0-a586-63425f59694d')\"\n",
              "              title=\"Convert this dataframe to an interactive table.\"\n",
              "              style=\"display:none;\">\n",
              "        \n",
              "  <svg xmlns=\"http://www.w3.org/2000/svg\" height=\"24px\"viewBox=\"0 0 24 24\"\n",
              "       width=\"24px\">\n",
              "    <path d=\"M0 0h24v24H0V0z\" fill=\"none\"/>\n",
              "    <path d=\"M18.56 5.44l.94 2.06.94-2.06 2.06-.94-2.06-.94-.94-2.06-.94 2.06-2.06.94zm-11 1L8.5 8.5l.94-2.06 2.06-.94-2.06-.94L8.5 2.5l-.94 2.06-2.06.94zm10 10l.94 2.06.94-2.06 2.06-.94-2.06-.94-.94-2.06-.94 2.06-2.06.94z\"/><path d=\"M17.41 7.96l-1.37-1.37c-.4-.4-.92-.59-1.43-.59-.52 0-1.04.2-1.43.59L10.3 9.45l-7.72 7.72c-.78.78-.78 2.05 0 2.83L4 21.41c.39.39.9.59 1.41.59.51 0 1.02-.2 1.41-.59l7.78-7.78 2.81-2.81c.8-.78.8-2.07 0-2.86zM5.41 20L4 18.59l7.72-7.72 1.47 1.35L5.41 20z\"/>\n",
              "  </svg>\n",
              "      </button>\n",
              "      \n",
              "  <style>\n",
              "    .colab-df-container {\n",
              "      display:flex;\n",
              "      flex-wrap:wrap;\n",
              "      gap: 12px;\n",
              "    }\n",
              "\n",
              "    .colab-df-convert {\n",
              "      background-color: #E8F0FE;\n",
              "      border: none;\n",
              "      border-radius: 50%;\n",
              "      cursor: pointer;\n",
              "      display: none;\n",
              "      fill: #1967D2;\n",
              "      height: 32px;\n",
              "      padding: 0 0 0 0;\n",
              "      width: 32px;\n",
              "    }\n",
              "\n",
              "    .colab-df-convert:hover {\n",
              "      background-color: #E2EBFA;\n",
              "      box-shadow: 0px 1px 2px rgba(60, 64, 67, 0.3), 0px 1px 3px 1px rgba(60, 64, 67, 0.15);\n",
              "      fill: #174EA6;\n",
              "    }\n",
              "\n",
              "    [theme=dark] .colab-df-convert {\n",
              "      background-color: #3B4455;\n",
              "      fill: #D2E3FC;\n",
              "    }\n",
              "\n",
              "    [theme=dark] .colab-df-convert:hover {\n",
              "      background-color: #434B5C;\n",
              "      box-shadow: 0px 1px 3px 1px rgba(0, 0, 0, 0.15);\n",
              "      filter: drop-shadow(0px 1px 2px rgba(0, 0, 0, 0.3));\n",
              "      fill: #FFFFFF;\n",
              "    }\n",
              "  </style>\n",
              "\n",
              "      <script>\n",
              "        const buttonEl =\n",
              "          document.querySelector('#df-f5d074da-0fe8-43c0-a586-63425f59694d button.colab-df-convert');\n",
              "        buttonEl.style.display =\n",
              "          google.colab.kernel.accessAllowed ? 'block' : 'none';\n",
              "\n",
              "        async function convertToInteractive(key) {\n",
              "          const element = document.querySelector('#df-f5d074da-0fe8-43c0-a586-63425f59694d');\n",
              "          const dataTable =\n",
              "            await google.colab.kernel.invokeFunction('convertToInteractive',\n",
              "                                                     [key], {});\n",
              "          if (!dataTable) return;\n",
              "\n",
              "          const docLinkHtml = 'Like what you see? Visit the ' +\n",
              "            '<a target=\"_blank\" href=https://colab.research.google.com/notebooks/data_table.ipynb>data table notebook</a>'\n",
              "            + ' to learn more about interactive tables.';\n",
              "          element.innerHTML = '';\n",
              "          dataTable['output_type'] = 'display_data';\n",
              "          await google.colab.output.renderOutput(dataTable, element);\n",
              "          const docLink = document.createElement('div');\n",
              "          docLink.innerHTML = docLinkHtml;\n",
              "          element.appendChild(docLink);\n",
              "        }\n",
              "      </script>\n",
              "    </div>\n",
              "  </div>\n",
              "  "
            ]
          },
          "metadata": {},
          "execution_count": 18
        }
      ]
    },
    {
      "cell_type": "code",
      "source": [
        "df1[\"abs_error\"].mean()"
      ],
      "metadata": {
        "colab": {
          "base_uri": "https://localhost:8080/"
        },
        "id": "tksEdGt7LjL2",
        "outputId": "7f7ce1f5-7806-4ae6-efc9-34989275545a"
      },
      "execution_count": null,
      "outputs": [
        {
          "output_type": "execute_result",
          "data": {
            "text/plain": [
              "4.581576030794952"
            ]
          },
          "metadata": {},
          "execution_count": 19
        }
      ]
    },
    {
      "cell_type": "code",
      "source": [
        "df1[\"sq_error\"] = (df1[\"y_test-y_pred\"])**2\n",
        "df1.head()"
      ],
      "metadata": {
        "colab": {
          "base_uri": "https://localhost:8080/",
          "height": 206
        },
        "id": "jMyn_o4UL2od",
        "outputId": "24825483-bd32-427a-acc4-1bb723095eed"
      },
      "execution_count": null,
      "outputs": [
        {
          "output_type": "execute_result",
          "data": {
            "text/plain": [
              "       y_test      y_pred  y_test-y_pred  abs_error  sq_error\n",
              "0  125.888889  124.495961       1.392928   1.392928  1.940249\n",
              "1   39.888889   40.624660      -0.735771   0.735771  0.541359\n",
              "2   77.888889   77.684072       0.204817   0.204817  0.041950\n",
              "3  127.888889  126.446456       1.442433   1.442433  2.080612\n",
              "4   20.555556   21.769871      -1.214315   1.214315  1.474562"
            ],
            "text/html": [
              "\n",
              "  <div id=\"df-ab12d3f6-01a9-4832-9e38-79640714a2f7\">\n",
              "    <div class=\"colab-df-container\">\n",
              "      <div>\n",
              "<style scoped>\n",
              "    .dataframe tbody tr th:only-of-type {\n",
              "        vertical-align: middle;\n",
              "    }\n",
              "\n",
              "    .dataframe tbody tr th {\n",
              "        vertical-align: top;\n",
              "    }\n",
              "\n",
              "    .dataframe thead th {\n",
              "        text-align: right;\n",
              "    }\n",
              "</style>\n",
              "<table border=\"1\" class=\"dataframe\">\n",
              "  <thead>\n",
              "    <tr style=\"text-align: right;\">\n",
              "      <th></th>\n",
              "      <th>y_test</th>\n",
              "      <th>y_pred</th>\n",
              "      <th>y_test-y_pred</th>\n",
              "      <th>abs_error</th>\n",
              "      <th>sq_error</th>\n",
              "    </tr>\n",
              "  </thead>\n",
              "  <tbody>\n",
              "    <tr>\n",
              "      <th>0</th>\n",
              "      <td>125.888889</td>\n",
              "      <td>124.495961</td>\n",
              "      <td>1.392928</td>\n",
              "      <td>1.392928</td>\n",
              "      <td>1.940249</td>\n",
              "    </tr>\n",
              "    <tr>\n",
              "      <th>1</th>\n",
              "      <td>39.888889</td>\n",
              "      <td>40.624660</td>\n",
              "      <td>-0.735771</td>\n",
              "      <td>0.735771</td>\n",
              "      <td>0.541359</td>\n",
              "    </tr>\n",
              "    <tr>\n",
              "      <th>2</th>\n",
              "      <td>77.888889</td>\n",
              "      <td>77.684072</td>\n",
              "      <td>0.204817</td>\n",
              "      <td>0.204817</td>\n",
              "      <td>0.041950</td>\n",
              "    </tr>\n",
              "    <tr>\n",
              "      <th>3</th>\n",
              "      <td>127.888889</td>\n",
              "      <td>126.446456</td>\n",
              "      <td>1.442433</td>\n",
              "      <td>1.442433</td>\n",
              "      <td>2.080612</td>\n",
              "    </tr>\n",
              "    <tr>\n",
              "      <th>4</th>\n",
              "      <td>20.555556</td>\n",
              "      <td>21.769871</td>\n",
              "      <td>-1.214315</td>\n",
              "      <td>1.214315</td>\n",
              "      <td>1.474562</td>\n",
              "    </tr>\n",
              "  </tbody>\n",
              "</table>\n",
              "</div>\n",
              "      <button class=\"colab-df-convert\" onclick=\"convertToInteractive('df-ab12d3f6-01a9-4832-9e38-79640714a2f7')\"\n",
              "              title=\"Convert this dataframe to an interactive table.\"\n",
              "              style=\"display:none;\">\n",
              "        \n",
              "  <svg xmlns=\"http://www.w3.org/2000/svg\" height=\"24px\"viewBox=\"0 0 24 24\"\n",
              "       width=\"24px\">\n",
              "    <path d=\"M0 0h24v24H0V0z\" fill=\"none\"/>\n",
              "    <path d=\"M18.56 5.44l.94 2.06.94-2.06 2.06-.94-2.06-.94-.94-2.06-.94 2.06-2.06.94zm-11 1L8.5 8.5l.94-2.06 2.06-.94-2.06-.94L8.5 2.5l-.94 2.06-2.06.94zm10 10l.94 2.06.94-2.06 2.06-.94-2.06-.94-.94-2.06-.94 2.06-2.06.94z\"/><path d=\"M17.41 7.96l-1.37-1.37c-.4-.4-.92-.59-1.43-.59-.52 0-1.04.2-1.43.59L10.3 9.45l-7.72 7.72c-.78.78-.78 2.05 0 2.83L4 21.41c.39.39.9.59 1.41.59.51 0 1.02-.2 1.41-.59l7.78-7.78 2.81-2.81c.8-.78.8-2.07 0-2.86zM5.41 20L4 18.59l7.72-7.72 1.47 1.35L5.41 20z\"/>\n",
              "  </svg>\n",
              "      </button>\n",
              "      \n",
              "  <style>\n",
              "    .colab-df-container {\n",
              "      display:flex;\n",
              "      flex-wrap:wrap;\n",
              "      gap: 12px;\n",
              "    }\n",
              "\n",
              "    .colab-df-convert {\n",
              "      background-color: #E8F0FE;\n",
              "      border: none;\n",
              "      border-radius: 50%;\n",
              "      cursor: pointer;\n",
              "      display: none;\n",
              "      fill: #1967D2;\n",
              "      height: 32px;\n",
              "      padding: 0 0 0 0;\n",
              "      width: 32px;\n",
              "    }\n",
              "\n",
              "    .colab-df-convert:hover {\n",
              "      background-color: #E2EBFA;\n",
              "      box-shadow: 0px 1px 2px rgba(60, 64, 67, 0.3), 0px 1px 3px 1px rgba(60, 64, 67, 0.15);\n",
              "      fill: #174EA6;\n",
              "    }\n",
              "\n",
              "    [theme=dark] .colab-df-convert {\n",
              "      background-color: #3B4455;\n",
              "      fill: #D2E3FC;\n",
              "    }\n",
              "\n",
              "    [theme=dark] .colab-df-convert:hover {\n",
              "      background-color: #434B5C;\n",
              "      box-shadow: 0px 1px 3px 1px rgba(0, 0, 0, 0.15);\n",
              "      filter: drop-shadow(0px 1px 2px rgba(0, 0, 0, 0.3));\n",
              "      fill: #FFFFFF;\n",
              "    }\n",
              "  </style>\n",
              "\n",
              "      <script>\n",
              "        const buttonEl =\n",
              "          document.querySelector('#df-ab12d3f6-01a9-4832-9e38-79640714a2f7 button.colab-df-convert');\n",
              "        buttonEl.style.display =\n",
              "          google.colab.kernel.accessAllowed ? 'block' : 'none';\n",
              "\n",
              "        async function convertToInteractive(key) {\n",
              "          const element = document.querySelector('#df-ab12d3f6-01a9-4832-9e38-79640714a2f7');\n",
              "          const dataTable =\n",
              "            await google.colab.kernel.invokeFunction('convertToInteractive',\n",
              "                                                     [key], {});\n",
              "          if (!dataTable) return;\n",
              "\n",
              "          const docLinkHtml = 'Like what you see? Visit the ' +\n",
              "            '<a target=\"_blank\" href=https://colab.research.google.com/notebooks/data_table.ipynb>data table notebook</a>'\n",
              "            + ' to learn more about interactive tables.';\n",
              "          element.innerHTML = '';\n",
              "          dataTable['output_type'] = 'display_data';\n",
              "          await google.colab.output.renderOutput(dataTable, element);\n",
              "          const docLink = document.createElement('div');\n",
              "          docLink.innerHTML = docLinkHtml;\n",
              "          element.appendChild(docLink);\n",
              "        }\n",
              "      </script>\n",
              "    </div>\n",
              "  </div>\n",
              "  "
            ]
          },
          "metadata": {},
          "execution_count": 21
        }
      ]
    },
    {
      "cell_type": "code",
      "source": [
        "np.sqrt(df1[\"sq_error\"].mean())"
      ],
      "metadata": {
        "colab": {
          "base_uri": "https://localhost:8080/"
        },
        "id": "CnywxvWvMIWG",
        "outputId": "f964e975-b2c2-40a1-81e5-64caf8994c5b"
      },
      "execution_count": null,
      "outputs": [
        {
          "output_type": "execute_result",
          "data": {
            "text/plain": [
              "25.529415883514865"
            ]
          },
          "metadata": {},
          "execution_count": 23
        }
      ]
    },
    {
      "cell_type": "markdown",
      "source": [
        "## 3. Root Mean Squared Error(RMSE)\n",
        "\n",
        "As RMSE is clear by the name itself, that it is a simple square root of mean squared error.\n",
        "\n",
        "\n",
        "<img width = 600 src = https://community.qlik.com/legacyfs/online/128958_2016-06-23%2013_45_36-Root%20Mean%20Squared%20Error%20_%20Kaggle.png />"
      ],
      "metadata": {
        "id": "kk2xKaC9qHJt"
      }
    },
    {
      "cell_type": "markdown",
      "source": [
        "**Advantages of RMSE**\n",
        " - The output value you get is in the same unit as the required output variable which makes interpretation of loss easy.\n",
        "\n",
        "**Disadvantages of RMSE**\n",
        "- It is not that robust to outliers as compared to MAE.\n",
        "- for performing RMSE we have to use NumPy square root function over MSE."
      ],
      "metadata": {
        "id": "ItkIfc89rKOz"
      }
    },
    {
      "cell_type": "markdown",
      "source": [
        "Most of the time people use RMSE as an evaluation metric and mostly when you are working with deep learning techniques the most preferred metric is RMSE."
      ],
      "metadata": {
        "id": "ZaaC0a1rrdWp"
      }
    },
    {
      "cell_type": "code",
      "source": [
        "d = {'metric': [\"RMSE\"],\n",
        "     'value': [np.sqrt(mean_squared_error(y_test,y_pred))]}\n",
        "temp_df = pd.DataFrame(data = d)\n",
        "error_df = pd.concat([error_df,temp_df],ignore_index = True)\n",
        "error_df"
      ],
      "metadata": {
        "colab": {
          "base_uri": "https://localhost:8080/",
          "height": 143
        },
        "id": "EeDvaynTowpA",
        "outputId": "71e55305-ff25-4a79-868d-46eb81268224"
      },
      "execution_count": null,
      "outputs": [
        {
          "output_type": "execute_result",
          "data": {
            "text/plain": [
              "  metric       value\n",
              "0    MAE    4.581576\n",
              "1    MSE  651.751075\n",
              "2   RMSE   25.529416"
            ],
            "text/html": [
              "\n",
              "  <div id=\"df-a84f91bd-873d-48cb-8fab-534c74f9d8f8\">\n",
              "    <div class=\"colab-df-container\">\n",
              "      <div>\n",
              "<style scoped>\n",
              "    .dataframe tbody tr th:only-of-type {\n",
              "        vertical-align: middle;\n",
              "    }\n",
              "\n",
              "    .dataframe tbody tr th {\n",
              "        vertical-align: top;\n",
              "    }\n",
              "\n",
              "    .dataframe thead th {\n",
              "        text-align: right;\n",
              "    }\n",
              "</style>\n",
              "<table border=\"1\" class=\"dataframe\">\n",
              "  <thead>\n",
              "    <tr style=\"text-align: right;\">\n",
              "      <th></th>\n",
              "      <th>metric</th>\n",
              "      <th>value</th>\n",
              "    </tr>\n",
              "  </thead>\n",
              "  <tbody>\n",
              "    <tr>\n",
              "      <th>0</th>\n",
              "      <td>MAE</td>\n",
              "      <td>4.581576</td>\n",
              "    </tr>\n",
              "    <tr>\n",
              "      <th>1</th>\n",
              "      <td>MSE</td>\n",
              "      <td>651.751075</td>\n",
              "    </tr>\n",
              "    <tr>\n",
              "      <th>2</th>\n",
              "      <td>RMSE</td>\n",
              "      <td>25.529416</td>\n",
              "    </tr>\n",
              "  </tbody>\n",
              "</table>\n",
              "</div>\n",
              "      <button class=\"colab-df-convert\" onclick=\"convertToInteractive('df-a84f91bd-873d-48cb-8fab-534c74f9d8f8')\"\n",
              "              title=\"Convert this dataframe to an interactive table.\"\n",
              "              style=\"display:none;\">\n",
              "        \n",
              "  <svg xmlns=\"http://www.w3.org/2000/svg\" height=\"24px\"viewBox=\"0 0 24 24\"\n",
              "       width=\"24px\">\n",
              "    <path d=\"M0 0h24v24H0V0z\" fill=\"none\"/>\n",
              "    <path d=\"M18.56 5.44l.94 2.06.94-2.06 2.06-.94-2.06-.94-.94-2.06-.94 2.06-2.06.94zm-11 1L8.5 8.5l.94-2.06 2.06-.94-2.06-.94L8.5 2.5l-.94 2.06-2.06.94zm10 10l.94 2.06.94-2.06 2.06-.94-2.06-.94-.94-2.06-.94 2.06-2.06.94z\"/><path d=\"M17.41 7.96l-1.37-1.37c-.4-.4-.92-.59-1.43-.59-.52 0-1.04.2-1.43.59L10.3 9.45l-7.72 7.72c-.78.78-.78 2.05 0 2.83L4 21.41c.39.39.9.59 1.41.59.51 0 1.02-.2 1.41-.59l7.78-7.78 2.81-2.81c.8-.78.8-2.07 0-2.86zM5.41 20L4 18.59l7.72-7.72 1.47 1.35L5.41 20z\"/>\n",
              "  </svg>\n",
              "      </button>\n",
              "      \n",
              "  <style>\n",
              "    .colab-df-container {\n",
              "      display:flex;\n",
              "      flex-wrap:wrap;\n",
              "      gap: 12px;\n",
              "    }\n",
              "\n",
              "    .colab-df-convert {\n",
              "      background-color: #E8F0FE;\n",
              "      border: none;\n",
              "      border-radius: 50%;\n",
              "      cursor: pointer;\n",
              "      display: none;\n",
              "      fill: #1967D2;\n",
              "      height: 32px;\n",
              "      padding: 0 0 0 0;\n",
              "      width: 32px;\n",
              "    }\n",
              "\n",
              "    .colab-df-convert:hover {\n",
              "      background-color: #E2EBFA;\n",
              "      box-shadow: 0px 1px 2px rgba(60, 64, 67, 0.3), 0px 1px 3px 1px rgba(60, 64, 67, 0.15);\n",
              "      fill: #174EA6;\n",
              "    }\n",
              "\n",
              "    [theme=dark] .colab-df-convert {\n",
              "      background-color: #3B4455;\n",
              "      fill: #D2E3FC;\n",
              "    }\n",
              "\n",
              "    [theme=dark] .colab-df-convert:hover {\n",
              "      background-color: #434B5C;\n",
              "      box-shadow: 0px 1px 3px 1px rgba(0, 0, 0, 0.15);\n",
              "      filter: drop-shadow(0px 1px 2px rgba(0, 0, 0, 0.3));\n",
              "      fill: #FFFFFF;\n",
              "    }\n",
              "  </style>\n",
              "\n",
              "      <script>\n",
              "        const buttonEl =\n",
              "          document.querySelector('#df-a84f91bd-873d-48cb-8fab-534c74f9d8f8 button.colab-df-convert');\n",
              "        buttonEl.style.display =\n",
              "          google.colab.kernel.accessAllowed ? 'block' : 'none';\n",
              "\n",
              "        async function convertToInteractive(key) {\n",
              "          const element = document.querySelector('#df-a84f91bd-873d-48cb-8fab-534c74f9d8f8');\n",
              "          const dataTable =\n",
              "            await google.colab.kernel.invokeFunction('convertToInteractive',\n",
              "                                                     [key], {});\n",
              "          if (!dataTable) return;\n",
              "\n",
              "          const docLinkHtml = 'Like what you see? Visit the ' +\n",
              "            '<a target=\"_blank\" href=https://colab.research.google.com/notebooks/data_table.ipynb>data table notebook</a>'\n",
              "            + ' to learn more about interactive tables.';\n",
              "          element.innerHTML = '';\n",
              "          dataTable['output_type'] = 'display_data';\n",
              "          await google.colab.output.renderOutput(dataTable, element);\n",
              "          const docLink = document.createElement('div');\n",
              "          docLink.innerHTML = docLinkHtml;\n",
              "          element.appendChild(docLink);\n",
              "        }\n",
              "      </script>\n",
              "    </div>\n",
              "  </div>\n",
              "  "
            ]
          },
          "metadata": {},
          "execution_count": 24
        }
      ]
    },
    {
      "cell_type": "markdown",
      "source": [
        "## 4. R Squared (R2)\n",
        "\n",
        "doc link - https://scikit-learn.org/stable/modules/generated/sklearn.metrics.r2_score.html?highlight=r2#sklearn.metrics.r2_score\n",
        "\n",
        "R2 score is a metric that tells the performance of your model, not the loss in an absolute sense that how many wells did your model perform.\n",
        "\n",
        "In contrast, MAE and MSE depend on the context as we have seen whereas the R2 score is independent of context.\n",
        "\n",
        "So, with help of R squared we have a baseline model to compare a model which none of the other metrics provides. The same we have in classification problems which we call a threshold which is fixed at 0.5. So basically R2 squared calculates how must regression line is better than a mean line.\n",
        "\n",
        "Hence, R2 squared is also known as Coefficient of Determination or sometimes also known as Goodness of fit.\n",
        "\n",
        "\n",
        "\n",
        "<img width = 500 src= https://miro.medium.com/max/720/1*Ug7uflGlIAjFe6lFMACnfA.png />\n",
        "\n",
        "<img width = 500 src= https://vitalflux.com/wp-content/uploads/2019/07/R-squared-formula-linear-regression-model.jpg />\n",
        "<img width = 400 src = https://vitalflux.com/wp-content/uploads/2019/07/R-squared-formula-function-of-SSE-and-SST.jpg />"
      ],
      "metadata": {
        "id": "YIyDyXwosYq4"
      }
    },
    {
      "cell_type": "markdown",
      "source": [
        "<img width = 400 src= https://i.ytimg.com/vi/deIQeQzPK08/maxresdefault.jpg />"
      ],
      "metadata": {
        "id": "H7Z0kByM0mRS"
      }
    },
    {
      "cell_type": "markdown",
      "source": [
        "**Total Sum of Squares**\n",
        "\n",
        "Total variation in target variable is the sum of squares of the difference between the actual values and their mean.\n",
        "\n",
        "![image.png](data:image/png;base64,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)\n",
        "\n",
        "TSS or Total sum of squares gives the total variation in Y. We can see that it is very similar to the variance of Y. While the variance is the average of the squared sums of difference between actual values and data points, TSS is the total of the squared sums.\n",
        "\n",
        "Now that we know the total variation in the target variable, how do we determine the proportion of this variation explained by our model? We go back to RSS.\n",
        "\n",
        "\n",
        "**Residual Sum of Squares**\n",
        "\n",
        "As we discussed before, RSS gives us the total square of the distance of actual points from the regression line. But if we focus on a single residual, we can say that it is the distance that is not captured by the regression line. Therefore, RSS as a whole gives us the variation in the target variable that is not explained by our model."
      ],
      "metadata": {
        "id": "cEicMYZg0-PB"
      }
    },
    {
      "cell_type": "markdown",
      "source": [
        "**Calculate R-Squared**\n",
        "\n",
        "Now, if TSS gives us the total variation in Y, and RSS gives us the variation in Y not explained by X, then TSS-RSS gives us the variation in Y that is explained by our model! We can simply divide this value by TSS to get the proportion of variation in Y that is explained by the model. And this our R-squared statistic!\n",
        "\n",
        "R-squared = (TSS-RSS)/TSS\n",
        "\n",
        "                    = Explained variation/ Total variation\n",
        "\n",
        "                    = 1 – Unexplained variation/ Total variation\n",
        "\n",
        "So R-squared gives the degree of variability in the target variable that is explained by the model or the independent variables. If this value is 0.7, then it means that the independent variables explain 70% of the variation in the target variable.\n",
        "\n",
        "R-squared value always lies between 0 and 1. A higher R-squared value indicates a higher amount of variability being explained by our model and vice-versa.\n",
        "\n",
        "If we had a really low RSS value, it would mean that the regression line was very close to the actual points. This means the independent variables explain the majority of variation in the target variable. In such a case, we would have a really high R-squared value.\n",
        "\n",
        "\n",
        "<img width = 400 src = https://cdn.analyticsvidhya.com/wp-content/uploads/2020/07/R2-decrease.png />\n",
        "\n",
        "\n",
        "On the contrary, if we had a really high RSS value, it would mean that the regression line was far away from the actual points. Thus, independent variables fail to explain the majority of variation in the target variable. This would give us a really low R-squared value.\n",
        "\n",
        "\n",
        "<img width  = 400 src = https://cdn.analyticsvidhya.com/wp-content/uploads/2020/07/R2-increase.png />\n",
        "\n",
        "So, this explains why the R-squared value gives us the variation in the target variable given by the variation in independent variables."
      ],
      "metadata": {
        "id": "BGcE2sjX2Kl-"
      }
    },
    {
      "cell_type": "markdown",
      "source": [
        "**Problems with R-squared statistic**\n",
        "\n",
        "The R-squared statistic isn’t perfect. In fact, it suffers from a major flaw. Its value never decreases no matter the number of variables we add to our regression model. That is, even if we are adding redundant variables to the data, the value of R-squared does not decrease. It either remains the same or increases with the addition of new independent variables. This clearly does not make sense because some of the independent variables might not be useful in determining the target variable. Adjusted R-squared deals with this issue."
      ],
      "metadata": {
        "id": "igngo1wp3G2V"
      }
    },
    {
      "cell_type": "code",
      "source": [
        "from sklearn.metrics import r2_score\n",
        "r2 = r2_score(y_test,y_pred)\n",
        "\n",
        "d = {'metric': [\"R2\"],\n",
        "     'value': [r2]}\n",
        "temp_df = pd.DataFrame(data = d)\n",
        "error_df = pd.concat([error_df,temp_df],ignore_index = True)\n",
        "error_df"
      ],
      "metadata": {
        "colab": {
          "base_uri": "https://localhost:8080/",
          "height": 175
        },
        "id": "SXhAElUYuwGt",
        "outputId": "2acbd28b-5949-4a9a-e11d-e02cbc5c5c9f"
      },
      "execution_count": null,
      "outputs": [
        {
          "output_type": "execute_result",
          "data": {
            "text/plain": [
              "  metric       value\n",
              "0    MAE    4.581576\n",
              "1    MSE  651.751075\n",
              "2   RMSE   25.529416\n",
              "3     R2    0.792923"
            ],
            "text/html": [
              "\n",
              "  <div id=\"df-c64c46d2-1f61-45cd-99a4-ada167a976a5\">\n",
              "    <div class=\"colab-df-container\">\n",
              "      <div>\n",
              "<style scoped>\n",
              "    .dataframe tbody tr th:only-of-type {\n",
              "        vertical-align: middle;\n",
              "    }\n",
              "\n",
              "    .dataframe tbody tr th {\n",
              "        vertical-align: top;\n",
              "    }\n",
              "\n",
              "    .dataframe thead th {\n",
              "        text-align: right;\n",
              "    }\n",
              "</style>\n",
              "<table border=\"1\" class=\"dataframe\">\n",
              "  <thead>\n",
              "    <tr style=\"text-align: right;\">\n",
              "      <th></th>\n",
              "      <th>metric</th>\n",
              "      <th>value</th>\n",
              "    </tr>\n",
              "  </thead>\n",
              "  <tbody>\n",
              "    <tr>\n",
              "      <th>0</th>\n",
              "      <td>MAE</td>\n",
              "      <td>4.581576</td>\n",
              "    </tr>\n",
              "    <tr>\n",
              "      <th>1</th>\n",
              "      <td>MSE</td>\n",
              "      <td>651.751075</td>\n",
              "    </tr>\n",
              "    <tr>\n",
              "      <th>2</th>\n",
              "      <td>RMSE</td>\n",
              "      <td>25.529416</td>\n",
              "    </tr>\n",
              "    <tr>\n",
              "      <th>3</th>\n",
              "      <td>R2</td>\n",
              "      <td>0.792923</td>\n",
              "    </tr>\n",
              "  </tbody>\n",
              "</table>\n",
              "</div>\n",
              "      <button class=\"colab-df-convert\" onclick=\"convertToInteractive('df-c64c46d2-1f61-45cd-99a4-ada167a976a5')\"\n",
              "              title=\"Convert this dataframe to an interactive table.\"\n",
              "              style=\"display:none;\">\n",
              "        \n",
              "  <svg xmlns=\"http://www.w3.org/2000/svg\" height=\"24px\"viewBox=\"0 0 24 24\"\n",
              "       width=\"24px\">\n",
              "    <path d=\"M0 0h24v24H0V0z\" fill=\"none\"/>\n",
              "    <path d=\"M18.56 5.44l.94 2.06.94-2.06 2.06-.94-2.06-.94-.94-2.06-.94 2.06-2.06.94zm-11 1L8.5 8.5l.94-2.06 2.06-.94-2.06-.94L8.5 2.5l-.94 2.06-2.06.94zm10 10l.94 2.06.94-2.06 2.06-.94-2.06-.94-.94-2.06-.94 2.06-2.06.94z\"/><path d=\"M17.41 7.96l-1.37-1.37c-.4-.4-.92-.59-1.43-.59-.52 0-1.04.2-1.43.59L10.3 9.45l-7.72 7.72c-.78.78-.78 2.05 0 2.83L4 21.41c.39.39.9.59 1.41.59.51 0 1.02-.2 1.41-.59l7.78-7.78 2.81-2.81c.8-.78.8-2.07 0-2.86zM5.41 20L4 18.59l7.72-7.72 1.47 1.35L5.41 20z\"/>\n",
              "  </svg>\n",
              "      </button>\n",
              "      \n",
              "  <style>\n",
              "    .colab-df-container {\n",
              "      display:flex;\n",
              "      flex-wrap:wrap;\n",
              "      gap: 12px;\n",
              "    }\n",
              "\n",
              "    .colab-df-convert {\n",
              "      background-color: #E8F0FE;\n",
              "      border: none;\n",
              "      border-radius: 50%;\n",
              "      cursor: pointer;\n",
              "      display: none;\n",
              "      fill: #1967D2;\n",
              "      height: 32px;\n",
              "      padding: 0 0 0 0;\n",
              "      width: 32px;\n",
              "    }\n",
              "\n",
              "    .colab-df-convert:hover {\n",
              "      background-color: #E2EBFA;\n",
              "      box-shadow: 0px 1px 2px rgba(60, 64, 67, 0.3), 0px 1px 3px 1px rgba(60, 64, 67, 0.15);\n",
              "      fill: #174EA6;\n",
              "    }\n",
              "\n",
              "    [theme=dark] .colab-df-convert {\n",
              "      background-color: #3B4455;\n",
              "      fill: #D2E3FC;\n",
              "    }\n",
              "\n",
              "    [theme=dark] .colab-df-convert:hover {\n",
              "      background-color: #434B5C;\n",
              "      box-shadow: 0px 1px 3px 1px rgba(0, 0, 0, 0.15);\n",
              "      filter: drop-shadow(0px 1px 2px rgba(0, 0, 0, 0.3));\n",
              "      fill: #FFFFFF;\n",
              "    }\n",
              "  </style>\n",
              "\n",
              "      <script>\n",
              "        const buttonEl =\n",
              "          document.querySelector('#df-c64c46d2-1f61-45cd-99a4-ada167a976a5 button.colab-df-convert');\n",
              "        buttonEl.style.display =\n",
              "          google.colab.kernel.accessAllowed ? 'block' : 'none';\n",
              "\n",
              "        async function convertToInteractive(key) {\n",
              "          const element = document.querySelector('#df-c64c46d2-1f61-45cd-99a4-ada167a976a5');\n",
              "          const dataTable =\n",
              "            await google.colab.kernel.invokeFunction('convertToInteractive',\n",
              "                                                     [key], {});\n",
              "          if (!dataTable) return;\n",
              "\n",
              "          const docLinkHtml = 'Like what you see? Visit the ' +\n",
              "            '<a target=\"_blank\" href=https://colab.research.google.com/notebooks/data_table.ipynb>data table notebook</a>'\n",
              "            + ' to learn more about interactive tables.';\n",
              "          element.innerHTML = '';\n",
              "          dataTable['output_type'] = 'display_data';\n",
              "          await google.colab.output.renderOutput(dataTable, element);\n",
              "          const docLink = document.createElement('div');\n",
              "          docLink.innerHTML = docLinkHtml;\n",
              "          element.appendChild(docLink);\n",
              "        }\n",
              "      </script>\n",
              "    </div>\n",
              "  </div>\n",
              "  "
            ]
          },
          "metadata": {},
          "execution_count": 25
        }
      ]
    },
    {
      "cell_type": "markdown",
      "source": [
        "## 5. Adjusted R Squared\n",
        "\n",
        "The Adjusted R-squared takes into account the number of independent variables used for predicting the target variable. In doing so, we can determine whether adding new variables to the model actually increases the model fit.\n",
        "\n",
        "Let’s have a look at the formula for adjusted R-squared to better understand its working.\n",
        "\n",
        "<img width = 500 src= https://cdn.analyticsvidhya.com/wp-content/uploads/2020/07/edit.png />\n",
        "\n",
        "\n",
        "Here,\n",
        "\n",
        "- n represents the number of data points in our dataset\n",
        "- k represents the number of independent variables, and\n",
        "- R represents the R-squared values determined by the model.\n",
        "\n",
        "So, if R-squared does not increase significantly on the addition of a new independent variable, then the value of Adjusted R-squared will actually decrease.\n",
        "\n",
        "<img width = 500 src= https://cdn.analyticsvidhya.com/wp-content/uploads/2020/07/edit1.png />\n",
        "\n",
        "\n",
        "On the other hand, if on adding the new independent variable we see a significant increase in R-squared value, then the Adjusted R-squared value will also increase.\n",
        "\n",
        "\n",
        "<img width = 500 src= https://cdn.analyticsvidhya.com/wp-content/uploads/2020/07/edit2.png />\n",
        "\n",
        "\n",
        "Clearly, it is better to use Adjusted R-squared when there are multiple variables in the regression model. This would allow us to compare models with differing numbers of independent variables.\n"
      ],
      "metadata": {
        "id": "b_aR_48YvPRT"
      }
    },
    {
      "cell_type": "code",
      "source": [
        "X_train.shape[1]"
      ],
      "metadata": {
        "colab": {
          "base_uri": "https://localhost:8080/"
        },
        "id": "m-OjYIB_bNfs",
        "outputId": "5d826d95-0112-4ebf-89e8-2fdbead465f2"
      },
      "execution_count": null,
      "outputs": [
        {
          "output_type": "execute_result",
          "data": {
            "text/plain": [
              "1"
            ]
          },
          "metadata": {},
          "execution_count": 28
        }
      ]
    },
    {
      "cell_type": "code",
      "source": [
        "n=X_train.shape[0]\n",
        "k=X_train.shape[1]\n",
        "adj_r2_score = 1 - ((1-r2)*(n-1)/(n-k-1))\n",
        "\n",
        "d = {'metric': [\"adj R2\"],\n",
        "     'value': [adj_r2_score]}\n",
        "temp_df = pd.DataFrame(data = d)\n",
        "error_df = pd.concat([error_df,temp_df],ignore_index = True)\n",
        "error_df"
      ],
      "metadata": {
        "colab": {
          "base_uri": "https://localhost:8080/",
          "height": 206
        },
        "id": "VGi6sDiSvO6T",
        "outputId": "3ed719aa-afbc-41aa-aeb2-ff9c2e236e6f"
      },
      "execution_count": null,
      "outputs": [
        {
          "output_type": "execute_result",
          "data": {
            "text/plain": [
              "   metric       value\n",
              "0     MAE    4.581576\n",
              "1     MSE  651.751075\n",
              "2    RMSE   25.529416\n",
              "3      R2    0.792923\n",
              "4  adj R2    0.792053"
            ],
            "text/html": [
              "\n",
              "  <div id=\"df-63d0aeab-a9e1-4a76-932c-e519d8611a6b\">\n",
              "    <div class=\"colab-df-container\">\n",
              "      <div>\n",
              "<style scoped>\n",
              "    .dataframe tbody tr th:only-of-type {\n",
              "        vertical-align: middle;\n",
              "    }\n",
              "\n",
              "    .dataframe tbody tr th {\n",
              "        vertical-align: top;\n",
              "    }\n",
              "\n",
              "    .dataframe thead th {\n",
              "        text-align: right;\n",
              "    }\n",
              "</style>\n",
              "<table border=\"1\" class=\"dataframe\">\n",
              "  <thead>\n",
              "    <tr style=\"text-align: right;\">\n",
              "      <th></th>\n",
              "      <th>metric</th>\n",
              "      <th>value</th>\n",
              "    </tr>\n",
              "  </thead>\n",
              "  <tbody>\n",
              "    <tr>\n",
              "      <th>0</th>\n",
              "      <td>MAE</td>\n",
              "      <td>4.581576</td>\n",
              "    </tr>\n",
              "    <tr>\n",
              "      <th>1</th>\n",
              "      <td>MSE</td>\n",
              "      <td>651.751075</td>\n",
              "    </tr>\n",
              "    <tr>\n",
              "      <th>2</th>\n",
              "      <td>RMSE</td>\n",
              "      <td>25.529416</td>\n",
              "    </tr>\n",
              "    <tr>\n",
              "      <th>3</th>\n",
              "      <td>R2</td>\n",
              "      <td>0.792923</td>\n",
              "    </tr>\n",
              "    <tr>\n",
              "      <th>4</th>\n",
              "      <td>adj R2</td>\n",
              "      <td>0.792053</td>\n",
              "    </tr>\n",
              "  </tbody>\n",
              "</table>\n",
              "</div>\n",
              "      <button class=\"colab-df-convert\" onclick=\"convertToInteractive('df-63d0aeab-a9e1-4a76-932c-e519d8611a6b')\"\n",
              "              title=\"Convert this dataframe to an interactive table.\"\n",
              "              style=\"display:none;\">\n",
              "        \n",
              "  <svg xmlns=\"http://www.w3.org/2000/svg\" height=\"24px\"viewBox=\"0 0 24 24\"\n",
              "       width=\"24px\">\n",
              "    <path d=\"M0 0h24v24H0V0z\" fill=\"none\"/>\n",
              "    <path d=\"M18.56 5.44l.94 2.06.94-2.06 2.06-.94-2.06-.94-.94-2.06-.94 2.06-2.06.94zm-11 1L8.5 8.5l.94-2.06 2.06-.94-2.06-.94L8.5 2.5l-.94 2.06-2.06.94zm10 10l.94 2.06.94-2.06 2.06-.94-2.06-.94-.94-2.06-.94 2.06-2.06.94z\"/><path d=\"M17.41 7.96l-1.37-1.37c-.4-.4-.92-.59-1.43-.59-.52 0-1.04.2-1.43.59L10.3 9.45l-7.72 7.72c-.78.78-.78 2.05 0 2.83L4 21.41c.39.39.9.59 1.41.59.51 0 1.02-.2 1.41-.59l7.78-7.78 2.81-2.81c.8-.78.8-2.07 0-2.86zM5.41 20L4 18.59l7.72-7.72 1.47 1.35L5.41 20z\"/>\n",
              "  </svg>\n",
              "      </button>\n",
              "      \n",
              "  <style>\n",
              "    .colab-df-container {\n",
              "      display:flex;\n",
              "      flex-wrap:wrap;\n",
              "      gap: 12px;\n",
              "    }\n",
              "\n",
              "    .colab-df-convert {\n",
              "      background-color: #E8F0FE;\n",
              "      border: none;\n",
              "      border-radius: 50%;\n",
              "      cursor: pointer;\n",
              "      display: none;\n",
              "      fill: #1967D2;\n",
              "      height: 32px;\n",
              "      padding: 0 0 0 0;\n",
              "      width: 32px;\n",
              "    }\n",
              "\n",
              "    .colab-df-convert:hover {\n",
              "      background-color: #E2EBFA;\n",
              "      box-shadow: 0px 1px 2px rgba(60, 64, 67, 0.3), 0px 1px 3px 1px rgba(60, 64, 67, 0.15);\n",
              "      fill: #174EA6;\n",
              "    }\n",
              "\n",
              "    [theme=dark] .colab-df-convert {\n",
              "      background-color: #3B4455;\n",
              "      fill: #D2E3FC;\n",
              "    }\n",
              "\n",
              "    [theme=dark] .colab-df-convert:hover {\n",
              "      background-color: #434B5C;\n",
              "      box-shadow: 0px 1px 3px 1px rgba(0, 0, 0, 0.15);\n",
              "      filter: drop-shadow(0px 1px 2px rgba(0, 0, 0, 0.3));\n",
              "      fill: #FFFFFF;\n",
              "    }\n",
              "  </style>\n",
              "\n",
              "      <script>\n",
              "        const buttonEl =\n",
              "          document.querySelector('#df-63d0aeab-a9e1-4a76-932c-e519d8611a6b button.colab-df-convert');\n",
              "        buttonEl.style.display =\n",
              "          google.colab.kernel.accessAllowed ? 'block' : 'none';\n",
              "\n",
              "        async function convertToInteractive(key) {\n",
              "          const element = document.querySelector('#df-63d0aeab-a9e1-4a76-932c-e519d8611a6b');\n",
              "          const dataTable =\n",
              "            await google.colab.kernel.invokeFunction('convertToInteractive',\n",
              "                                                     [key], {});\n",
              "          if (!dataTable) return;\n",
              "\n",
              "          const docLinkHtml = 'Like what you see? Visit the ' +\n",
              "            '<a target=\"_blank\" href=https://colab.research.google.com/notebooks/data_table.ipynb>data table notebook</a>'\n",
              "            + ' to learn more about interactive tables.';\n",
              "          element.innerHTML = '';\n",
              "          dataTable['output_type'] = 'display_data';\n",
              "          await google.colab.output.renderOutput(dataTable, element);\n",
              "          const docLink = document.createElement('div');\n",
              "          docLink.innerHTML = docLinkHtml;\n",
              "          element.appendChild(docLink);\n",
              "        }\n",
              "      </script>\n",
              "    </div>\n",
              "  </div>\n",
              "  "
            ]
          },
          "metadata": {},
          "execution_count": 29
        }
      ]
    },
    {
      "cell_type": "markdown",
      "source": [
        "<img width = 400 src = https://4.bp.blogspot.com/-wG7IbjTfE6k/XGUvqm7TCVI/AAAAAAAAAZU/vpH1kuKTIooKTcVlnm1EVRCXLVZM9cPNgCLcBGAs/s1600/formula-MAE-MSE-RMSE-RSquared.JPG />"
      ],
      "metadata": {
        "id": "3m5tj28TqyBb"
      }
    },
    {
      "cell_type": "code",
      "source": [],
      "metadata": {
        "id": "H1iVAn8o8_OL"
      },
      "execution_count": null,
      "outputs": []
    },
    {
      "cell_type": "markdown",
      "source": [
        "## Bias-Variance Tradeoff"
      ],
      "metadata": {
        "id": "swdh10tx4os6"
      }
    },
    {
      "cell_type": "markdown",
      "source": [
        "***Machine Learning is not a pursuit of perfection (i.e. zero error), but it is about seeking the best tradeoff.***"
      ],
      "metadata": {
        "id": "T4RDxO-FwetH"
      }
    },
    {
      "cell_type": "markdown",
      "source": [
        "First, when you receive your data, divide it into three parts.\n",
        "\n",
        "1. **Training set**: The training set is typically 60% of the data. As the name suggests, this is used for training a machine learning model.\n",
        "\n",
        "2. **Validation set**: The validation is also called the the development set. This is typically 20% of the data. This set is not used during training. It is used to test the quality of the trained model. Errors on the validation set are used to guide the choice of model (e.g. what value of n to use in our polynomial model). Even though this set is not used for training, the fact it was used for model selection makes it a bad choice for reporting the final accuracy of the model.\n",
        "\n",
        "3. **Test set**: This set is typically 20% of the data. Its only purpose is to report the accuracy of the final model."
      ],
      "metadata": {
        "id": "lIBQd6VSw3Ln"
      }
    },
    {
      "cell_type": "markdown",
      "source": [
        "In Machine Learning, the errors made by your model is the sum of three kinds of errors — error due to bias in your model, error due to model variance and finally error that is irreducible. The following equation summarizes the sources of errors.\n",
        "\n",
        "![image.png](data:image/png;base64,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)"
      ],
      "metadata": {
        "id": "VQptk364xTMt"
      }
    },
    {
      "cell_type": "markdown",
      "source": [
        "Even if you had a perfect model, you might not be able to remove the errors made by a learning algorithm completely. This is because the training data itself may contain noise. This error is called Irreducible error or Bayes’ error rate or the Optimum Error rate. While you cannot do anything about the Optimum Error Rate, you can reduce the errors due to bias and variance"
      ],
      "metadata": {
        "id": "_jTE9zNwxqXd"
      }
    },
    {
      "cell_type": "markdown",
      "source": [
        "## What is bias?\n",
        "\n",
        "Bias is the difference between the average prediction of our model and the correct value which we are trying to predict. Model with high bias pays very little attention to the training data and oversimplifies the model. It always leads to high error on training and test data."
      ],
      "metadata": {
        "id": "aH7m3o9irsMg"
      }
    },
    {
      "cell_type": "markdown",
      "source": [
        "## What is variance?\n",
        "\n",
        "Variance is the variability of model prediction for a given data point or a value which tells us spread of our data. Model with high variance pays a lot of attention to training data and does not generalize on the data which it hasn’t seen before. As a result, such models perform very well on training data but has high error rates on test data."
      ],
      "metadata": {
        "id": "fRy2MMJ9tHd4"
      }
    },
    {
      "cell_type": "markdown",
      "source": [
        "<img src = https://miro.medium.com/max/4800/1*JzqZ0OtLqKFzsAVWYP-DBg.png />"
      ],
      "metadata": {
        "id": "wC636v6A20Qt"
      }
    },
    {
      "cell_type": "markdown",
      "source": [
        "If your machine learning model is not performing well, it is usually a high bias or a high variance problem. The figure below graphically shows the effect of model complexity on error due to bias and variance.\n",
        "\n",
        "<img width = 400 src = http://www.luigifreda.com/wp-content/uploads/2017/03/Bias-Variance-Tradeoff-660x445.png />\n",
        "\n",
        "\n",
        "The region on the left, where both training and validation errors are high, is the region of high bias. On the other hand, the region on the right where validation error is high, but training error is low is the region of high variance. We want to be in the sweet spot in the middle."
      ],
      "metadata": {
        "id": "g94EY5qOr8nn"
      }
    },
    {
      "cell_type": "markdown",
      "source": [
        "## How to detect a high bias problem?\n",
        "A high bias problem has the following characteristics\n",
        "\n",
        "- High training error.\n",
        "- Validation error is similar in magnitude to the training error."
      ],
      "metadata": {
        "id": "srf52IQAyZul"
      }
    },
    {
      "cell_type": "markdown",
      "source": [
        "## How to detect a high variance problem?\n",
        "A high variance problem on the other hand has the following characteristics\n",
        "\n",
        "- Low training error\n",
        "- Very high Validation error"
      ],
      "metadata": {
        "id": "OX4KBg-dyiGT"
      }
    },
    {
      "cell_type": "markdown",
      "source": [
        "<img width = 400 src = https://learnopencv.com/wp-content/uploads/2017/02/Machine-Learning-Workflow.png />"
      ],
      "metadata": {
        "id": "lurMApWUy57G"
      }
    },
    {
      "cell_type": "markdown",
      "source": [
        "## How to fix a high bias problem?\n",
        "The following tricks are employed to fix a high bias problem.\n",
        "\n",
        "1. Train longer: Many machine learning algorithms are set up as iterative optimization problems where the training error ( or a function of the training error ) is minimized. Just letting the algorithm run for more hours or days can help reduce the bias. In Neural Networks, you can change a parameter called the “learning rate” which will help the training error go down faster.\n",
        "\n",
        "\n",
        "2. **Train a more complex model**: A more complex model will fit the training data better. In case of linear regression we could increase the degree of the polynomial to get a more complex model. In the case of Neural Networks, one can add more layers. Finally, in the case of an SVM, you can use a non-linear SVMs instead of a linear one.\n",
        "\n",
        "3. **Obtain more features**: Sometimes you just do not have enough information to train a model. For example, if you are trying to train a model that can predict the gender of a person based on the color of their hair, the problem might be impossible to solve. But if you add a new feature — the length of the hair — the problem becomes more tractable.\n",
        "\n",
        "4. **Decrease regularization**: If we try to fit a polynomial to data. In this naive implementation the parameters a_0, ..., a_n could take any values. This makes the model very flexible. However, we may want to constrain the flexibility of the model to prevent overfitting. So usually a regularization term ( \\lambda ( a^2_0 + ... + a^2_n) ) is added to the cost function we are trying to minimize. But in this case, we do not have an overfitting problem. We have an under-fitting problem, and we can reduce it by reducing the value of \\lambda.\n",
        "\n",
        "5. **New model architecture**: This is just another way of saying that if nothing works, start over."
      ],
      "metadata": {
        "id": "iui_RyTBzyYS"
      }
    },
    {
      "cell_type": "markdown",
      "source": [
        "## How to fix a high variance problem?\n",
        "After you have addressed the high bias problem, you need to check if you have a high variance issue.\n",
        "\n",
        "In this situation, your model is complex enough that it overfits your data. The following tricks should be employed to deal with overfitting.\n",
        "\n",
        "1. **Obtain more data**: Because the validation error is large, it means that the training set and the validation set that were randomly chosen from the same dataset, somehow have different characteristics. This usually means that you do not have enough data and you need to collect more.\n",
        "\n",
        "2. **Decrease number of features**: Sometimes collecting more data is not an option. In that case, you can reduce the number of features. You may have to remove features manually. For example, in our previous example of identifying the gender of a person based on hair color and hair length, you may decide to drop hair color and keep hair length.\n",
        "\n",
        "3. **Increase regularization**: When we have a high variance problem the model is fitting the training data. In fact, the model is probably fitting even the noise in training set and therefore not performing as well on the validation set. We can reduce the flexibility of the model by using regularization that puts constraints on the magnitude of the parameters. This is done by adding a regularization term to the cost function. When we are fitting a polynomial model, the regularization term is of the form \\lambda ( a^2_0 + ... + a^2_n). So we are not only trying to reduce the training set error, we are also trying to make sure the magnitudes of the parameters are small, thus limiting the flexibility of the model. Increasing \\lambda increases regularization.\n",
        "\n",
        "4. **New model architecture**: Try something else. Better luck next time!"
      ],
      "metadata": {
        "id": "OD2UTCm_1epY"
      }
    },
    {
      "cell_type": "markdown",
      "source": [
        "Example of polynomial function:\n",
        "\n",
        "f(x) = 15x2 - 20x + 19"
      ],
      "metadata": {
        "id": "bRWBALWEVRpY"
      }
    },
    {
      "cell_type": "code",
      "source": [
        "X = np.random.rand(200, 1) + 0.3"
      ],
      "metadata": {
        "id": "h7YZ4YqUsJuj"
      },
      "execution_count": null,
      "outputs": []
    },
    {
      "cell_type": "code",
      "source": [
        "X.shape"
      ],
      "metadata": {
        "colab": {
          "base_uri": "https://localhost:8080/"
        },
        "id": "WFY8h2knVoUg",
        "outputId": "137c23af-ca5c-4271-fce2-aed58c6ef3e1"
      },
      "execution_count": null,
      "outputs": [
        {
          "output_type": "execute_result",
          "data": {
            "text/plain": [
              "(200, 1)"
            ]
          },
          "metadata": {},
          "execution_count": 4
        }
      ]
    },
    {
      "cell_type": "code",
      "source": [
        "X.ndim"
      ],
      "metadata": {
        "colab": {
          "base_uri": "https://localhost:8080/"
        },
        "id": "xzltYxuQb_zP",
        "outputId": "963604b5-efdd-4899-a1e7-bcd519033ec8"
      },
      "execution_count": null,
      "outputs": [
        {
          "output_type": "execute_result",
          "data": {
            "text/plain": [
              "2"
            ]
          },
          "metadata": {},
          "execution_count": 164
        }
      ]
    },
    {
      "cell_type": "code",
      "source": [
        "y = 15*X**2 - 20*X + 19 + (np.random.randn(200, 1))*0.5\n",
        "y.shape"
      ],
      "metadata": {
        "colab": {
          "base_uri": "https://localhost:8080/"
        },
        "id": "jalge1jsVqSY",
        "outputId": "b23cda11-28b4-4380-977a-1968b09bbc04"
      },
      "execution_count": null,
      "outputs": [
        {
          "output_type": "execute_result",
          "data": {
            "text/plain": [
              "(200, 1)"
            ]
          },
          "metadata": {},
          "execution_count": 5
        }
      ]
    },
    {
      "cell_type": "code",
      "source": [
        "poly_df = pd.DataFrame()\n",
        "poly_df[\"X\"] = X.flatten()\n",
        "poly_df[\"y\"] = y.flatten()\n",
        "poly_df.head()"
      ],
      "metadata": {
        "colab": {
          "base_uri": "https://localhost:8080/",
          "height": 206
        },
        "id": "QYuXJ0FkawIv",
        "outputId": "683cf367-3280-475b-a162-6f64abe4f796"
      },
      "execution_count": null,
      "outputs": [
        {
          "output_type": "execute_result",
          "data": {
            "text/plain": [
              "          X          y\n",
              "0  0.617116  12.375714\n",
              "1  0.333336  13.992115\n",
              "2  1.008267  13.546728\n",
              "3  1.034152  13.994883\n",
              "4  0.487593  13.711171"
            ],
            "text/html": [
              "\n",
              "  <div id=\"df-860afd51-a2d5-4905-90a2-d9bc81d03e69\">\n",
              "    <div class=\"colab-df-container\">\n",
              "      <div>\n",
              "<style scoped>\n",
              "    .dataframe tbody tr th:only-of-type {\n",
              "        vertical-align: middle;\n",
              "    }\n",
              "\n",
              "    .dataframe tbody tr th {\n",
              "        vertical-align: top;\n",
              "    }\n",
              "\n",
              "    .dataframe thead th {\n",
              "        text-align: right;\n",
              "    }\n",
              "</style>\n",
              "<table border=\"1\" class=\"dataframe\">\n",
              "  <thead>\n",
              "    <tr style=\"text-align: right;\">\n",
              "      <th></th>\n",
              "      <th>X</th>\n",
              "      <th>y</th>\n",
              "    </tr>\n",
              "  </thead>\n",
              "  <tbody>\n",
              "    <tr>\n",
              "      <th>0</th>\n",
              "      <td>0.617116</td>\n",
              "      <td>12.375714</td>\n",
              "    </tr>\n",
              "    <tr>\n",
              "      <th>1</th>\n",
              "      <td>0.333336</td>\n",
              "      <td>13.992115</td>\n",
              "    </tr>\n",
              "    <tr>\n",
              "      <th>2</th>\n",
              "      <td>1.008267</td>\n",
              "      <td>13.546728</td>\n",
              "    </tr>\n",
              "    <tr>\n",
              "      <th>3</th>\n",
              "      <td>1.034152</td>\n",
              "      <td>13.994883</td>\n",
              "    </tr>\n",
              "    <tr>\n",
              "      <th>4</th>\n",
              "      <td>0.487593</td>\n",
              "      <td>13.711171</td>\n",
              "    </tr>\n",
              "  </tbody>\n",
              "</table>\n",
              "</div>\n",
              "      <button class=\"colab-df-convert\" onclick=\"convertToInteractive('df-860afd51-a2d5-4905-90a2-d9bc81d03e69')\"\n",
              "              title=\"Convert this dataframe to an interactive table.\"\n",
              "              style=\"display:none;\">\n",
              "        \n",
              "  <svg xmlns=\"http://www.w3.org/2000/svg\" height=\"24px\"viewBox=\"0 0 24 24\"\n",
              "       width=\"24px\">\n",
              "    <path d=\"M0 0h24v24H0V0z\" fill=\"none\"/>\n",
              "    <path d=\"M18.56 5.44l.94 2.06.94-2.06 2.06-.94-2.06-.94-.94-2.06-.94 2.06-2.06.94zm-11 1L8.5 8.5l.94-2.06 2.06-.94-2.06-.94L8.5 2.5l-.94 2.06-2.06.94zm10 10l.94 2.06.94-2.06 2.06-.94-2.06-.94-.94-2.06-.94 2.06-2.06.94z\"/><path d=\"M17.41 7.96l-1.37-1.37c-.4-.4-.92-.59-1.43-.59-.52 0-1.04.2-1.43.59L10.3 9.45l-7.72 7.72c-.78.78-.78 2.05 0 2.83L4 21.41c.39.39.9.59 1.41.59.51 0 1.02-.2 1.41-.59l7.78-7.78 2.81-2.81c.8-.78.8-2.07 0-2.86zM5.41 20L4 18.59l7.72-7.72 1.47 1.35L5.41 20z\"/>\n",
              "  </svg>\n",
              "      </button>\n",
              "      \n",
              "  <style>\n",
              "    .colab-df-container {\n",
              "      display:flex;\n",
              "      flex-wrap:wrap;\n",
              "      gap: 12px;\n",
              "    }\n",
              "\n",
              "    .colab-df-convert {\n",
              "      background-color: #E8F0FE;\n",
              "      border: none;\n",
              "      border-radius: 50%;\n",
              "      cursor: pointer;\n",
              "      display: none;\n",
              "      fill: #1967D2;\n",
              "      height: 32px;\n",
              "      padding: 0 0 0 0;\n",
              "      width: 32px;\n",
              "    }\n",
              "\n",
              "    .colab-df-convert:hover {\n",
              "      background-color: #E2EBFA;\n",
              "      box-shadow: 0px 1px 2px rgba(60, 64, 67, 0.3), 0px 1px 3px 1px rgba(60, 64, 67, 0.15);\n",
              "      fill: #174EA6;\n",
              "    }\n",
              "\n",
              "    [theme=dark] .colab-df-convert {\n",
              "      background-color: #3B4455;\n",
              "      fill: #D2E3FC;\n",
              "    }\n",
              "\n",
              "    [theme=dark] .colab-df-convert:hover {\n",
              "      background-color: #434B5C;\n",
              "      box-shadow: 0px 1px 3px 1px rgba(0, 0, 0, 0.15);\n",
              "      filter: drop-shadow(0px 1px 2px rgba(0, 0, 0, 0.3));\n",
              "      fill: #FFFFFF;\n",
              "    }\n",
              "  </style>\n",
              "\n",
              "      <script>\n",
              "        const buttonEl =\n",
              "          document.querySelector('#df-860afd51-a2d5-4905-90a2-d9bc81d03e69 button.colab-df-convert');\n",
              "        buttonEl.style.display =\n",
              "          google.colab.kernel.accessAllowed ? 'block' : 'none';\n",
              "\n",
              "        async function convertToInteractive(key) {\n",
              "          const element = document.querySelector('#df-860afd51-a2d5-4905-90a2-d9bc81d03e69');\n",
              "          const dataTable =\n",
              "            await google.colab.kernel.invokeFunction('convertToInteractive',\n",
              "                                                     [key], {});\n",
              "          if (!dataTable) return;\n",
              "\n",
              "          const docLinkHtml = 'Like what you see? Visit the ' +\n",
              "            '<a target=\"_blank\" href=https://colab.research.google.com/notebooks/data_table.ipynb>data table notebook</a>'\n",
              "            + ' to learn more about interactive tables.';\n",
              "          element.innerHTML = '';\n",
              "          dataTable['output_type'] = 'display_data';\n",
              "          await google.colab.output.renderOutput(dataTable, element);\n",
              "          const docLink = document.createElement('div');\n",
              "          docLink.innerHTML = docLinkHtml;\n",
              "          element.appendChild(docLink);\n",
              "        }\n",
              "      </script>\n",
              "    </div>\n",
              "  </div>\n",
              "  "
            ]
          },
          "metadata": {},
          "execution_count": 6
        }
      ]
    },
    {
      "cell_type": "code",
      "source": [
        "plt.scatter(poly_df[\"X\"], poly_df[\"y\"])\n",
        "plt.xlabel(\"X\")\n",
        "plt.ylabel(\"y\")\n",
        "plt.show()"
      ],
      "metadata": {
        "colab": {
          "base_uri": "https://localhost:8080/",
          "height": 281
        },
        "id": "RI371ohjV3tP",
        "outputId": "ee73da7a-46c6-4715-84ed-0484be144167"
      },
      "execution_count": null,
      "outputs": [
        {
          "output_type": "display_data",
          "data": {
            "text/plain": [
              "<Figure size 432x288 with 1 Axes>"
            ],
            "image/png": "[encoded data removed]"
          },
          "metadata": {
            "needs_background": "light"
          }
        }
      ]
    },
    {
      "cell_type": "code",
      "source": [
        "X = poly_df.drop(columns = [\"y\"])\n",
        "y = poly_df[\"y\"]\n",
        "X.shape, y.shape"
      ],
      "metadata": {
        "colab": {
          "base_uri": "https://localhost:8080/"
        },
        "id": "6i0GV1B4jZHZ",
        "outputId": "a2e314f8-778c-4046-cb85-00e5d7d96de6"
      },
      "execution_count": null,
      "outputs": [
        {
          "output_type": "execute_result",
          "data": {
            "text/plain": [
              "((200, 1), (200,))"
            ]
          },
          "metadata": {},
          "execution_count": 8
        }
      ]
    },
    {
      "cell_type": "code",
      "source": [
        "# Train test split\n",
        "X_train,X_test,y_train,y_test = train_test_split(X,y,test_size=0.2,random_state=24)\n",
        "\n",
        "print(f'Shape of X_train -: {X_train.shape}')\n",
        "print(f'Shape of X_valid -: {X_test.shape}')\n",
        "print(f'Shape of y_train -: {y_train.shape}')\n",
        "print(f'Shape of y_valid -: {y_test.shape}')"
      ],
      "metadata": {
        "colab": {
          "base_uri": "https://localhost:8080/"
        },
        "id": "5wAoRPrAWhBW",
        "outputId": "0b8e5aa7-238f-40b2-c294-7b45a6c67af7"
      },
      "execution_count": null,
      "outputs": [
        {
          "output_type": "stream",
          "name": "stdout",
          "text": [
            "Shape of X_train -: (160, 1)\n",
            "Shape of X_valid -: (40, 1)\n",
            "Shape of y_train -: (160,)\n",
            "Shape of y_valid -: (40,)\n"
          ]
        }
      ]
    },
    {
      "cell_type": "code",
      "source": [
        "# Defining the model\n",
        "lr = LinearRegression()\n",
        "\n",
        "# Fitting the model\n",
        "lr.fit(X_train,y_train)\n",
        "\n",
        "# Getting predictions on X_test\n",
        "y_pred = lr.predict(X_test)"
      ],
      "metadata": {
        "id": "UOxq3aSidR8e"
      },
      "execution_count": null,
      "outputs": []
    },
    {
      "cell_type": "code",
      "source": [
        "# Calculating the r2 score\n",
        "from sklearn.metrics import r2_score\n",
        "r2_score(y_test,y_pred)"
      ],
      "metadata": {
        "colab": {
          "base_uri": "https://localhost:8080/"
        },
        "id": "K2LOaJVYduB9",
        "outputId": "82953d23-7029-4bba-dd7d-3d3ecf248846"
      },
      "execution_count": null,
      "outputs": [
        {
          "output_type": "execute_result",
          "data": {
            "text/plain": [
              "0.46764492553654025"
            ]
          },
          "metadata": {},
          "execution_count": 11
        }
      ]
    },
    {
      "cell_type": "code",
      "source": [
        "plt.plot(X_train, lr.predict(X_train), c =\"red\")\n",
        "plt.scatter(X_train,y_train, c = \"blue\")\n",
        "plt.xlabel(\"X\")\n",
        "plt.ylabel(\"y\")\n",
        "plt.show()"
      ],
      "metadata": {
        "colab": {
          "base_uri": "https://localhost:8080/",
          "height": 281
        },
        "id": "Xqkphj22eMi1",
        "outputId": "d0cf4003-8c57-4da7-9726-434891d80878"
      },
      "execution_count": null,
      "outputs": [
        {
          "output_type": "display_data",
          "data": {
            "text/plain": [
              "<Figure size 432x288 with 1 Axes>"
            ],
            "image/png": "[encoded data removed]"
          },
          "metadata": {
            "needs_background": "light"
          }
        }
      ]
    },
    {
      "cell_type": "code",
      "source": [
        "# Polynomial Linear Regression of degree 2\n",
        "from sklearn.preprocessing import PolynomialFeatures\n",
        "poly = PolynomialFeatures(degree=2)\n",
        "\n",
        "X_train_poly = poly.fit_transform(X_train)\n",
        "X_test_poly = poly.transform(X_test)"
      ],
      "metadata": {
        "id": "ioXVruamenyl"
      },
      "execution_count": null,
      "outputs": []
    },
    {
      "cell_type": "code",
      "source": [
        "\n",
        "X_train.head()"
      ],
      "metadata": {
        "colab": {
          "base_uri": "https://localhost:8080/",
          "height": 206
        },
        "id": "qZ5RiRb5kaWD",
        "outputId": "b70a9ea7-e3ac-4512-d04c-928b98a62c41"
      },
      "execution_count": null,
      "outputs": [
        {
          "output_type": "execute_result",
          "data": {
            "text/plain": [
              "            X\n",
              "5    0.722848\n",
              "154  0.306375\n",
              "173  0.686889\n",
              "187  1.196729\n",
              "108  0.588473"
            ],
            "text/html": [
              "\n",
              "  <div id=\"df-6ad64005-5a95-4242-b329-b8964b952b60\">\n",
              "    <div class=\"colab-df-container\">\n",
              "      <div>\n",
              "<style scoped>\n",
              "    .dataframe tbody tr th:only-of-type {\n",
              "        vertical-align: middle;\n",
              "    }\n",
              "\n",
              "    .dataframe tbody tr th {\n",
              "        vertical-align: top;\n",
              "    }\n",
              "\n",
              "    .dataframe thead th {\n",
              "        text-align: right;\n",
              "    }\n",
              "</style>\n",
              "<table border=\"1\" class=\"dataframe\">\n",
              "  <thead>\n",
              "    <tr style=\"text-align: right;\">\n",
              "      <th></th>\n",
              "      <th>X</th>\n",
              "    </tr>\n",
              "  </thead>\n",
              "  <tbody>\n",
              "    <tr>\n",
              "      <th>5</th>\n",
              "      <td>0.722848</td>\n",
              "    </tr>\n",
              "    <tr>\n",
              "      <th>154</th>\n",
              "      <td>0.306375</td>\n",
              "    </tr>\n",
              "    <tr>\n",
              "      <th>173</th>\n",
              "      <td>0.686889</td>\n",
              "    </tr>\n",
              "    <tr>\n",
              "      <th>187</th>\n",
              "      <td>1.196729</td>\n",
              "    </tr>\n",
              "    <tr>\n",
              "      <th>108</th>\n",
              "      <td>0.588473</td>\n",
              "    </tr>\n",
              "  </tbody>\n",
              "</table>\n",
              "</div>\n",
              "      <button class=\"colab-df-convert\" onclick=\"convertToInteractive('df-6ad64005-5a95-4242-b329-b8964b952b60')\"\n",
              "              title=\"Convert this dataframe to an interactive table.\"\n",
              "              style=\"display:none;\">\n",
              "        \n",
              "  <svg xmlns=\"http://www.w3.org/2000/svg\" height=\"24px\"viewBox=\"0 0 24 24\"\n",
              "       width=\"24px\">\n",
              "    <path d=\"M0 0h24v24H0V0z\" fill=\"none\"/>\n",
              "    <path d=\"M18.56 5.44l.94 2.06.94-2.06 2.06-.94-2.06-.94-.94-2.06-.94 2.06-2.06.94zm-11 1L8.5 8.5l.94-2.06 2.06-.94-2.06-.94L8.5 2.5l-.94 2.06-2.06.94zm10 10l.94 2.06.94-2.06 2.06-.94-2.06-.94-.94-2.06-.94 2.06-2.06.94z\"/><path d=\"M17.41 7.96l-1.37-1.37c-.4-.4-.92-.59-1.43-.59-.52 0-1.04.2-1.43.59L10.3 9.45l-7.72 7.72c-.78.78-.78 2.05 0 2.83L4 21.41c.39.39.9.59 1.41.59.51 0 1.02-.2 1.41-.59l7.78-7.78 2.81-2.81c.8-.78.8-2.07 0-2.86zM5.41 20L4 18.59l7.72-7.72 1.47 1.35L5.41 20z\"/>\n",
              "  </svg>\n",
              "      </button>\n",
              "      \n",
              "  <style>\n",
              "    .colab-df-container {\n",
              "      display:flex;\n",
              "      flex-wrap:wrap;\n",
              "      gap: 12px;\n",
              "    }\n",
              "\n",
              "    .colab-df-convert {\n",
              "      background-color: #E8F0FE;\n",
              "      border: none;\n",
              "      border-radius: 50%;\n",
              "      cursor: pointer;\n",
              "      display: none;\n",
              "      fill: #1967D2;\n",
              "      height: 32px;\n",
              "      padding: 0 0 0 0;\n",
              "      width: 32px;\n",
              "    }\n",
              "\n",
              "    .colab-df-convert:hover {\n",
              "      background-color: #E2EBFA;\n",
              "      box-shadow: 0px 1px 2px rgba(60, 64, 67, 0.3), 0px 1px 3px 1px rgba(60, 64, 67, 0.15);\n",
              "      fill: #174EA6;\n",
              "    }\n",
              "\n",
              "    [theme=dark] .colab-df-convert {\n",
              "      background-color: #3B4455;\n",
              "      fill: #D2E3FC;\n",
              "    }\n",
              "\n",
              "    [theme=dark] .colab-df-convert:hover {\n",
              "      background-color: #434B5C;\n",
              "      box-shadow: 0px 1px 3px 1px rgba(0, 0, 0, 0.15);\n",
              "      filter: drop-shadow(0px 1px 2px rgba(0, 0, 0, 0.3));\n",
              "      fill: #FFFFFF;\n",
              "    }\n",
              "  </style>\n",
              "\n",
              "      <script>\n",
              "        const buttonEl =\n",
              "          document.querySelector('#df-6ad64005-5a95-4242-b329-b8964b952b60 button.colab-df-convert');\n",
              "        buttonEl.style.display =\n",
              "          google.colab.kernel.accessAllowed ? 'block' : 'none';\n",
              "\n",
              "        async function convertToInteractive(key) {\n",
              "          const element = document.querySelector('#df-6ad64005-5a95-4242-b329-b8964b952b60');\n",
              "          const dataTable =\n",
              "            await google.colab.kernel.invokeFunction('convertToInteractive',\n",
              "                                                     [key], {});\n",
              "          if (!dataTable) return;\n",
              "\n",
              "          const docLinkHtml = 'Like what you see? Visit the ' +\n",
              "            '<a target=\"_blank\" href=https://colab.research.google.com/notebooks/data_table.ipynb>data table notebook</a>'\n",
              "            + ' to learn more about interactive tables.';\n",
              "          element.innerHTML = '';\n",
              "          dataTable['output_type'] = 'display_data';\n",
              "          await google.colab.output.renderOutput(dataTable, element);\n",
              "          const docLink = document.createElement('div');\n",
              "          docLink.innerHTML = docLinkHtml;\n",
              "          element.appendChild(docLink);\n",
              "        }\n",
              "      </script>\n",
              "    </div>\n",
              "  </div>\n",
              "  "
            ]
          },
          "metadata": {},
          "execution_count": 14
        }
      ]
    },
    {
      "cell_type": "code",
      "source": [
        "pd.DataFrame(X_train_poly).head()"
      ],
      "metadata": {
        "colab": {
          "base_uri": "https://localhost:8080/",
          "height": 206
        },
        "id": "qUpAjOAxkhgv",
        "outputId": "61f51152-4ec0-4514-d03b-aa4e263c226a"
      },
      "execution_count": null,
      "outputs": [
        {
          "output_type": "execute_result",
          "data": {
            "text/plain": [
              "     0         1         2\n",
              "0  1.0  0.722848  0.522509\n",
              "1  1.0  0.306375  0.093865\n",
              "2  1.0  0.686889  0.471816\n",
              "3  1.0  1.196729  1.432160\n",
              "4  1.0  0.588473  0.346300"
            ],
            "text/html": [
              "\n",
              "  <div id=\"df-36798935-c4ff-4e51-b1e2-4115fa491a47\">\n",
              "    <div class=\"colab-df-container\">\n",
              "      <div>\n",
              "<style scoped>\n",
              "    .dataframe tbody tr th:only-of-type {\n",
              "        vertical-align: middle;\n",
              "    }\n",
              "\n",
              "    .dataframe tbody tr th {\n",
              "        vertical-align: top;\n",
              "    }\n",
              "\n",
              "    .dataframe thead th {\n",
              "        text-align: right;\n",
              "    }\n",
              "</style>\n",
              "<table border=\"1\" class=\"dataframe\">\n",
              "  <thead>\n",
              "    <tr style=\"text-align: right;\">\n",
              "      <th></th>\n",
              "      <th>0</th>\n",
              "      <th>1</th>\n",
              "      <th>2</th>\n",
              "    </tr>\n",
              "  </thead>\n",
              "  <tbody>\n",
              "    <tr>\n",
              "      <th>0</th>\n",
              "      <td>1.0</td>\n",
              "      <td>0.722848</td>\n",
              "      <td>0.522509</td>\n",
              "    </tr>\n",
              "    <tr>\n",
              "      <th>1</th>\n",
              "      <td>1.0</td>\n",
              "      <td>0.306375</td>\n",
              "      <td>0.093865</td>\n",
              "    </tr>\n",
              "    <tr>\n",
              "      <th>2</th>\n",
              "      <td>1.0</td>\n",
              "      <td>0.686889</td>\n",
              "      <td>0.471816</td>\n",
              "    </tr>\n",
              "    <tr>\n",
              "      <th>3</th>\n",
              "      <td>1.0</td>\n",
              "      <td>1.196729</td>\n",
              "      <td>1.432160</td>\n",
              "    </tr>\n",
              "    <tr>\n",
              "      <th>4</th>\n",
              "      <td>1.0</td>\n",
              "      <td>0.588473</td>\n",
              "      <td>0.346300</td>\n",
              "    </tr>\n",
              "  </tbody>\n",
              "</table>\n",
              "</div>\n",
              "      <button class=\"colab-df-convert\" onclick=\"convertToInteractive('df-36798935-c4ff-4e51-b1e2-4115fa491a47')\"\n",
              "              title=\"Convert this dataframe to an interactive table.\"\n",
              "              style=\"display:none;\">\n",
              "        \n",
              "  <svg xmlns=\"http://www.w3.org/2000/svg\" height=\"24px\"viewBox=\"0 0 24 24\"\n",
              "       width=\"24px\">\n",
              "    <path d=\"M0 0h24v24H0V0z\" fill=\"none\"/>\n",
              "    <path d=\"M18.56 5.44l.94 2.06.94-2.06 2.06-.94-2.06-.94-.94-2.06-.94 2.06-2.06.94zm-11 1L8.5 8.5l.94-2.06 2.06-.94-2.06-.94L8.5 2.5l-.94 2.06-2.06.94zm10 10l.94 2.06.94-2.06 2.06-.94-2.06-.94-.94-2.06-.94 2.06-2.06.94z\"/><path d=\"M17.41 7.96l-1.37-1.37c-.4-.4-.92-.59-1.43-.59-.52 0-1.04.2-1.43.59L10.3 9.45l-7.72 7.72c-.78.78-.78 2.05 0 2.83L4 21.41c.39.39.9.59 1.41.59.51 0 1.02-.2 1.41-.59l7.78-7.78 2.81-2.81c.8-.78.8-2.07 0-2.86zM5.41 20L4 18.59l7.72-7.72 1.47 1.35L5.41 20z\"/>\n",
              "  </svg>\n",
              "      </button>\n",
              "      \n",
              "  <style>\n",
              "    .colab-df-container {\n",
              "      display:flex;\n",
              "      flex-wrap:wrap;\n",
              "      gap: 12px;\n",
              "    }\n",
              "\n",
              "    .colab-df-convert {\n",
              "      background-color: #E8F0FE;\n",
              "      border: none;\n",
              "      border-radius: 50%;\n",
              "      cursor: pointer;\n",
              "      display: none;\n",
              "      fill: #1967D2;\n",
              "      height: 32px;\n",
              "      padding: 0 0 0 0;\n",
              "      width: 32px;\n",
              "    }\n",
              "\n",
              "    .colab-df-convert:hover {\n",
              "      background-color: #E2EBFA;\n",
              "      box-shadow: 0px 1px 2px rgba(60, 64, 67, 0.3), 0px 1px 3px 1px rgba(60, 64, 67, 0.15);\n",
              "      fill: #174EA6;\n",
              "    }\n",
              "\n",
              "    [theme=dark] .colab-df-convert {\n",
              "      background-color: #3B4455;\n",
              "      fill: #D2E3FC;\n",
              "    }\n",
              "\n",
              "    [theme=dark] .colab-df-convert:hover {\n",
              "      background-color: #434B5C;\n",
              "      box-shadow: 0px 1px 3px 1px rgba(0, 0, 0, 0.15);\n",
              "      filter: drop-shadow(0px 1px 2px rgba(0, 0, 0, 0.3));\n",
              "      fill: #FFFFFF;\n",
              "    }\n",
              "  </style>\n",
              "\n",
              "      <script>\n",
              "        const buttonEl =\n",
              "          document.querySelector('#df-36798935-c4ff-4e51-b1e2-4115fa491a47 button.colab-df-convert');\n",
              "        buttonEl.style.display =\n",
              "          google.colab.kernel.accessAllowed ? 'block' : 'none';\n",
              "\n",
              "        async function convertToInteractive(key) {\n",
              "          const element = document.querySelector('#df-36798935-c4ff-4e51-b1e2-4115fa491a47');\n",
              "          const dataTable =\n",
              "            await google.colab.kernel.invokeFunction('convertToInteractive',\n",
              "                                                     [key], {});\n",
              "          if (!dataTable) return;\n",
              "\n",
              "          const docLinkHtml = 'Like what you see? Visit the ' +\n",
              "            '<a target=\"_blank\" href=https://colab.research.google.com/notebooks/data_table.ipynb>data table notebook</a>'\n",
              "            + ' to learn more about interactive tables.';\n",
              "          element.innerHTML = '';\n",
              "          dataTable['output_type'] = 'display_data';\n",
              "          await google.colab.output.renderOutput(dataTable, element);\n",
              "          const docLink = document.createElement('div');\n",
              "          docLink.innerHTML = docLinkHtml;\n",
              "          element.appendChild(docLink);\n",
              "        }\n",
              "      </script>\n",
              "    </div>\n",
              "  </div>\n",
              "  "
            ]
          },
          "metadata": {},
          "execution_count": 15
        }
      ]
    },
    {
      "cell_type": "code",
      "source": [
        "# Defining the model\n",
        "poly_lr = LinearRegression()\n",
        "\n",
        "# Fitting the model\n",
        "poly_lr.fit(X_train_poly,y_train)\n",
        "\n",
        "# Getting predictions on X_test\n",
        "y_pred_poly = poly_lr.predict(X_test_poly)"
      ],
      "metadata": {
        "id": "gUpgZCLfkj6r"
      },
      "execution_count": null,
      "outputs": []
    },
    {
      "cell_type": "code",
      "source": [
        "# Calculating the r2 score\n",
        "from sklearn.metrics import r2_score\n",
        "r2_score(y_test,y_pred_poly)"
      ],
      "metadata": {
        "colab": {
          "base_uri": "https://localhost:8080/"
        },
        "id": "mNQ1oLYIlS0F",
        "outputId": "5a9746ee-c702-4c01-8c57-9240ca244356"
      },
      "execution_count": null,
      "outputs": [
        {
          "output_type": "execute_result",
          "data": {
            "text/plain": [
              "0.8678636038126873"
            ]
          },
          "metadata": {},
          "execution_count": 17
        }
      ]
    },
    {
      "cell_type": "code",
      "source": [
        "\n",
        "d = {\"X_train\":X_train[\"X\"].reset_index(drop=True), \"y_train_pred_poly\" : pd.Series(poly_lr.predict(X_train_poly))}\n",
        "temp_df = pd.DataFrame(data = d)\n",
        "\n",
        "sns.lineplot(data=temp_df, x=\"X_train\", y=\"y_train_pred_poly\", color = \"red\", label = \"Prediction\")\n",
        "plt.scatter(X_train,y_train, c = \"blue\", label=\"train_data\")\n",
        "plt.scatter(X_test,y_test, c = \"green\", label=\"test_data\")\n",
        "plt.xlabel(\"X\")\n",
        "plt.ylabel(\"y\")\n",
        "plt.legend()\n",
        "plt.show()"
      ],
      "metadata": {
        "colab": {
          "base_uri": "https://localhost:8080/",
          "height": 281
        },
        "id": "W-kkxw0DlYIU",
        "outputId": "17623b1f-5e9e-4055-8a2a-c3c98b787742"
      },
      "execution_count": null,
      "outputs": [
        {
          "output_type": "display_data",
          "data": {
            "text/plain": [
              "<Figure size 432x288 with 1 Axes>"
            ],
            "image/png": "[encoded data removed]"
          },
          "metadata": {
            "needs_background": "light"
          }
        }
      ]
    },
    {
      "cell_type": "code",
      "source": [
        "poly_lr.predict(X_train_poly).shape"
      ],
      "metadata": {
        "colab": {
          "base_uri": "https://localhost:8080/"
        },
        "id": "jt5wVLGYl9oM",
        "outputId": "0ae15e2b-92a9-4bca-e3c7-4d19d024217c"
      },
      "execution_count": null,
      "outputs": [
        {
          "output_type": "execute_result",
          "data": {
            "text/plain": [
              "(160,)"
            ]
          },
          "metadata": {},
          "execution_count": 366
        }
      ]
    },
    {
      "cell_type": "code",
      "source": [
        "y_train.shape"
      ],
      "metadata": {
        "colab": {
          "base_uri": "https://localhost:8080/"
        },
        "id": "3_39NGuvmDXK",
        "outputId": "3aca7e5f-436c-4e4f-b873-68951e668af8"
      },
      "execution_count": null,
      "outputs": [
        {
          "output_type": "execute_result",
          "data": {
            "text/plain": [
              "(160,)"
            ]
          },
          "metadata": {},
          "execution_count": 367
        }
      ]
    },
    {
      "cell_type": "code",
      "source": [
        "def poly(degree):\n",
        "\n",
        "  poly = PolynomialFeatures(degree=degree)\n",
        "\n",
        "  X_train_poly = poly.fit_transform(X_train)\n",
        "  X_test_poly = poly.transform(X_test)\n",
        "\n",
        "  # Defining the model\n",
        "  poly_lr = LinearRegression()\n",
        "\n",
        "  # Fitting the model\n",
        "  poly_lr.fit(X_train_poly,y_train)\n",
        "\n",
        "  # Getting predictions on X_test\n",
        "  y_pred_poly = poly_lr.predict(X_test_poly)\n",
        "\n",
        "  d = {\"X_train\":X_train[\"X\"].reset_index(drop=True), \"y_train_pred_poly\" : pd.Series(poly_lr.predict(X_train_poly))}\n",
        "  temp_df = pd.DataFrame(data = d)\n",
        "\n",
        "  # plotting results\n",
        "  sns.lineplot(data=temp_df, x=\"X_train\", y=\"y_train_pred_poly\", color = \"red\", label = \"Prediction\")\n",
        "  plt.scatter(X_train,y_train, c = \"blue\", label=\"train_data\")\n",
        "  plt.scatter(X_test,y_test, c = \"green\", label=\"test_data\")\n",
        "  plt.xlabel(\"X\")\n",
        "  plt.ylabel(\"y\")\n",
        "  plt.legend()\n",
        "  plt.show()  "
      ],
      "metadata": {
        "id": "JyypC7I-nT0x"
      },
      "execution_count": null,
      "outputs": []
    },
    {
      "cell_type": "code",
      "source": [
        "poly(50)"
      ],
      "metadata": {
        "colab": {
          "base_uri": "https://localhost:8080/",
          "height": 281
        },
        "id": "D4AechOBn7mc",
        "outputId": "2075797e-74a4-4a6e-cc5d-5bc4b7aae592"
      },
      "execution_count": null,
      "outputs": [
        {
          "output_type": "display_data",
          "data": {
            "text/plain": [
              "<Figure size 432x288 with 1 Axes>"
            ],
            "image/png": "[encoded data removed]"
          },
          "metadata": {
            "needs_background": "light"
          }
        }
      ]
    },
    {
      "cell_type": "code",
      "source": [
        "degree = np.arange(30)\n",
        "degree"
      ],
      "metadata": {
        "colab": {
          "base_uri": "https://localhost:8080/"
        },
        "id": "Od58oDURuB0k",
        "outputId": "acdb4b66-9723-4588-a504-fbcc0109ab42"
      },
      "execution_count": null,
      "outputs": [
        {
          "output_type": "execute_result",
          "data": {
            "text/plain": [
              "array([ 0,  1,  2,  3,  4,  5,  6,  7,  8,  9, 10, 11, 12, 13, 14, 15, 16,\n",
              "       17, 18, 19, 20, 21, 22, 23, 24, 25, 26, 27, 28, 29])"
            ]
          },
          "metadata": {},
          "execution_count": 377
        }
      ]
    },
    {
      "cell_type": "code",
      "source": [
        "from sklearn.metrics import mean_squared_error, mean_absolute_error"
      ],
      "metadata": {
        "id": "CxhamGbNufuL"
      },
      "execution_count": null,
      "outputs": []
    },
    {
      "cell_type": "code",
      "source": [
        "def rmse_plot(degree):\n",
        "\n",
        "  for i in np.arange(degree):\n",
        "\n",
        "    poly = PolynomialFeatures(degree=i)\n",
        "\n",
        "    X_train_poly = poly.fit_transform(X_train)\n",
        "    X_test_poly = poly.transform(X_test)\n",
        "\n",
        "    # Defining the model\n",
        "    poly_lr = LinearRegression()\n",
        "\n",
        "    # Fitting the model\n",
        "    poly_lr.fit(X_train_poly,y_train)\n",
        "\n",
        "    # Getting predictions on X_test\n",
        "    y_pred_train_poly = poly_lr.predict(X_train_poly)\n",
        "\n",
        "    # Getting predictions on X_test\n",
        "    y_pred_test_poly = poly_lr.predict(X_test_poly)\n",
        "\n",
        "    #train mse\n",
        "    train_rmse = np.sqrt(mean_squared_error(y_train, y_pred_train_poly))\n",
        "\n",
        "    #test mse\n",
        "    test_rmse = np.sqrt(mean_squared_error(y_test, y_pred_test_poly))\n",
        "\n",
        "    #appending train and test mse\n",
        "    train_rmse_list.append(train_rmse)\n",
        "    test_rmse_list.append(test_rmse)"
      ],
      "metadata": {
        "id": "x9X1UHuZsQPH"
      },
      "execution_count": null,
      "outputs": []
    },
    {
      "cell_type": "code",
      "source": [
        "train_rmse_list = []\n",
        "test_rmse_list = []\n",
        "rmse_plot(50)"
      ],
      "metadata": {
        "id": "g-OPD0lFv5n_"
      },
      "execution_count": null,
      "outputs": []
    },
    {
      "cell_type": "code",
      "source": [
        "d = {\"train_rmse\" :train_rmse_list, \"test_rmse\" : test_rmse_list}\n",
        "rmse_df = pd.DataFrame(data = d)\n",
        "rmse_df.shape"
      ],
      "metadata": {
        "colab": {
          "base_uri": "https://localhost:8080/"
        },
        "id": "ehwtsR_jv-uY",
        "outputId": "a5bd1340-7130-458c-ea8e-6ffae282d670"
      },
      "execution_count": null,
      "outputs": [
        {
          "output_type": "execute_result",
          "data": {
            "text/plain": [
              "(50, 2)"
            ]
          },
          "metadata": {},
          "execution_count": 30
        }
      ]
    },
    {
      "cell_type": "code",
      "source": [
        "sns.lineplot(data = rmse_df,x = rmse_df.index, y = \"train_rmse\", label = \"train_rmse\")\n",
        "sns.lineplot(data = rmse_df,x = rmse_df.index, y = \"test_rmse\", label = \"test_rmse\")\n",
        "plt.xlabel(\"model_complexity\")\n",
        "plt.ylabel(\"Rmse\")\n",
        "plt.legend()\n",
        "plt.show()"
      ],
      "metadata": {
        "colab": {
          "base_uri": "https://localhost:8080/",
          "height": 280
        },
        "id": "XM4U5BEDxxjV",
        "outputId": "92a799c6-eb63-4d8c-8748-f1bd5cdd3d8e"
      },
      "execution_count": null,
      "outputs": [
        {
          "output_type": "display_data",
          "data": {
            "text/plain": [
              "<Figure size 432x288 with 1 Axes>"
            ],
            "image/png": "[encoded data removed]"
          },
          "metadata": {
            "needs_background": "light"
          }
        }
      ]
    },
    {
      "cell_type": "code",
      "source": [],
      "metadata": {
        "id": "YodePr9Hw7tT"
      },
      "execution_count": null,
      "outputs": []
    }
  ]
}