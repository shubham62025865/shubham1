{
  "nbformat": 4,
  "nbformat_minor": 0,
  "metadata": {
    "colab": {
      "provenance": [],
      "include_colab_link": true
    },
    "kernelspec": {
      "name": "python3",
      "display_name": "Python 3"
    },
    "language_info": {
      "name": "python"
    }
  },
  "cells": [
    {
      "cell_type": "markdown",
      "metadata": {
        "id": "view-in-github",
        "colab_type": "text"
      },
      "source": [
        "<a href=\"https://colab.research.google.com/github/shubham62025865/shubham1/blob/main/Classification_Metrics.ipynb\" target=\"_parent\"><img src=\"https://colab.research.google.com/assets/colab-badge.svg\" alt=\"Open In Colab\"/></a>"
      ]
    },
    {
      "cell_type": "markdown",
      "source": [
        "# Classification Metrics\n",
        "\n",
        "<img width = 700 src = https://cdn-images-1.medium.com/max/800/0*cn1x03pxWzyKce-7.jpg />"
      ],
      "metadata": {
        "id": "tVHAnhK9vzRm"
      }
    },
    {
      "cell_type": "markdown",
      "source": [
        "Let's take a very simple example of cancer predicting model\n",
        "\n",
        "it outputs 1 if a person having cancer and outputs 0 if a person is not having cancer"
      ],
      "metadata": {
        "id": "qt9g2ZTfwaJL"
      }
    },
    {
      "cell_type": "code",
      "source": [
        "import pandas as pd\n",
        "import numpy as np\n",
        "import seaborn as sns\n",
        "import matplotlib.pyplot as plt\n",
        "from sklearn.metrics import confusion_matrix"
      ],
      "metadata": {
        "id": "msxAasL6xLSJ"
      },
      "execution_count": null,
      "outputs": []
    },
    {
      "cell_type": "code",
      "execution_count": null,
      "metadata": {
        "id": "gaDIfpcPvNsh"
      },
      "outputs": [],
      "source": [
        "y_test = [0,0,1,0,1,1,0,0,1,1]\n",
        "y_pred = [0,1,1,0,0,1,0,1,1,1]"
      ]
    },
    {
      "cell_type": "code",
      "source": [
        "def confusion(y_test, y_pred):\n",
        "\n",
        "    sns.set_theme(style=\"whitegrid\")\n",
        "    plt.rcParams[\"figure.figsize\"] = [7, 4]\n",
        "    plt.rcParams[\"figure.autolayout\"] = True\n",
        "    data = confusion_matrix(y_test,y_pred)\n",
        "    df_cm = pd.DataFrame(data)\n",
        "    df_cm.index.name = 'Actual'\n",
        "    df_cm.columns.name = 'Predicted'\n",
        "    cm = sns.heatmap(df_cm,annot=True)\n",
        "    cm.plot()"
      ],
      "metadata": {
        "id": "06O9zfGJxD7I"
      },
      "execution_count": null,
      "outputs": []
    },
    {
      "cell_type": "code",
      "source": [
        "data = confusion_matrix(y_test, y_pred)\n",
        "data"
      ],
      "metadata": {
        "colab": {
          "base_uri": "https://localhost:8080/"
        },
        "id": "pZi_-t2mOokt",
        "outputId": "6743b422-8a44-4742-ec36-2c222f357633"
      },
      "execution_count": null,
      "outputs": [
        {
          "output_type": "execute_result",
          "data": {
            "text/plain": [
              "array([[3, 2],\n",
              "       [1, 4]])"
            ]
          },
          "metadata": {},
          "execution_count": 4
        }
      ]
    },
    {
      "cell_type": "code",
      "source": [
        "temp_df = pd.DataFrame(data)\n",
        "temp_df.index.name = \"Actual\"\n",
        "temp_df.columns.name = \"Predicted\"\n",
        "temp_df"
      ],
      "metadata": {
        "colab": {
          "base_uri": "https://localhost:8080/",
          "height": 143
        },
        "id": "PFvQ1OKyO5M3",
        "outputId": "ce0b8495-3917-4b2e-9dbe-c1735756c1c1"
      },
      "execution_count": null,
      "outputs": [
        {
          "output_type": "execute_result",
          "data": {
            "text/plain": [
              "Predicted  0  1\n",
              "Actual         \n",
              "0          3  2\n",
              "1          1  4"
            ],
            "text/html": [
              "\n",
              "  <div id=\"df-fcbb06d2-dafd-43f1-898b-1475234166fc\">\n",
              "    <div class=\"colab-df-container\">\n",
              "      <div>\n",
              "<style scoped>\n",
              "    .dataframe tbody tr th:only-of-type {\n",
              "        vertical-align: middle;\n",
              "    }\n",
              "\n",
              "    .dataframe tbody tr th {\n",
              "        vertical-align: top;\n",
              "    }\n",
              "\n",
              "    .dataframe thead th {\n",
              "        text-align: right;\n",
              "    }\n",
              "</style>\n",
              "<table border=\"1\" class=\"dataframe\">\n",
              "  <thead>\n",
              "    <tr style=\"text-align: right;\">\n",
              "      <th>Predicted</th>\n",
              "      <th>0</th>\n",
              "      <th>1</th>\n",
              "    </tr>\n",
              "    <tr>\n",
              "      <th>Actual</th>\n",
              "      <th></th>\n",
              "      <th></th>\n",
              "    </tr>\n",
              "  </thead>\n",
              "  <tbody>\n",
              "    <tr>\n",
              "      <th>0</th>\n",
              "      <td>3</td>\n",
              "      <td>2</td>\n",
              "    </tr>\n",
              "    <tr>\n",
              "      <th>1</th>\n",
              "      <td>1</td>\n",
              "      <td>4</td>\n",
              "    </tr>\n",
              "  </tbody>\n",
              "</table>\n",
              "</div>\n",
              "      <button class=\"colab-df-convert\" onclick=\"convertToInteractive('df-fcbb06d2-dafd-43f1-898b-1475234166fc')\"\n",
              "              title=\"Convert this dataframe to an interactive table.\"\n",
              "              style=\"display:none;\">\n",
              "        \n",
              "  <svg xmlns=\"http://www.w3.org/2000/svg\" height=\"24px\"viewBox=\"0 0 24 24\"\n",
              "       width=\"24px\">\n",
              "    <path d=\"M0 0h24v24H0V0z\" fill=\"none\"/>\n",
              "    <path d=\"M18.56 5.44l.94 2.06.94-2.06 2.06-.94-2.06-.94-.94-2.06-.94 2.06-2.06.94zm-11 1L8.5 8.5l.94-2.06 2.06-.94-2.06-.94L8.5 2.5l-.94 2.06-2.06.94zm10 10l.94 2.06.94-2.06 2.06-.94-2.06-.94-.94-2.06-.94 2.06-2.06.94z\"/><path d=\"M17.41 7.96l-1.37-1.37c-.4-.4-.92-.59-1.43-.59-.52 0-1.04.2-1.43.59L10.3 9.45l-7.72 7.72c-.78.78-.78 2.05 0 2.83L4 21.41c.39.39.9.59 1.41.59.51 0 1.02-.2 1.41-.59l7.78-7.78 2.81-2.81c.8-.78.8-2.07 0-2.86zM5.41 20L4 18.59l7.72-7.72 1.47 1.35L5.41 20z\"/>\n",
              "  </svg>\n",
              "      </button>\n",
              "      \n",
              "  <style>\n",
              "    .colab-df-container {\n",
              "      display:flex;\n",
              "      flex-wrap:wrap;\n",
              "      gap: 12px;\n",
              "    }\n",
              "\n",
              "    .colab-df-convert {\n",
              "      background-color: #E8F0FE;\n",
              "      border: none;\n",
              "      border-radius: 50%;\n",
              "      cursor: pointer;\n",
              "      display: none;\n",
              "      fill: #1967D2;\n",
              "      height: 32px;\n",
              "      padding: 0 0 0 0;\n",
              "      width: 32px;\n",
              "    }\n",
              "\n",
              "    .colab-df-convert:hover {\n",
              "      background-color: #E2EBFA;\n",
              "      box-shadow: 0px 1px 2px rgba(60, 64, 67, 0.3), 0px 1px 3px 1px rgba(60, 64, 67, 0.15);\n",
              "      fill: #174EA6;\n",
              "    }\n",
              "\n",
              "    [theme=dark] .colab-df-convert {\n",
              "      background-color: #3B4455;\n",
              "      fill: #D2E3FC;\n",
              "    }\n",
              "\n",
              "    [theme=dark] .colab-df-convert:hover {\n",
              "      background-color: #434B5C;\n",
              "      box-shadow: 0px 1px 3px 1px rgba(0, 0, 0, 0.15);\n",
              "      filter: drop-shadow(0px 1px 2px rgba(0, 0, 0, 0.3));\n",
              "      fill: #FFFFFF;\n",
              "    }\n",
              "  </style>\n",
              "\n",
              "      <script>\n",
              "        const buttonEl =\n",
              "          document.querySelector('#df-fcbb06d2-dafd-43f1-898b-1475234166fc button.colab-df-convert');\n",
              "        buttonEl.style.display =\n",
              "          google.colab.kernel.accessAllowed ? 'block' : 'none';\n",
              "\n",
              "        async function convertToInteractive(key) {\n",
              "          const element = document.querySelector('#df-fcbb06d2-dafd-43f1-898b-1475234166fc');\n",
              "          const dataTable =\n",
              "            await google.colab.kernel.invokeFunction('convertToInteractive',\n",
              "                                                     [key], {});\n",
              "          if (!dataTable) return;\n",
              "\n",
              "          const docLinkHtml = 'Like what you see? Visit the ' +\n",
              "            '<a target=\"_blank\" href=https://colab.research.google.com/notebooks/data_table.ipynb>data table notebook</a>'\n",
              "            + ' to learn more about interactive tables.';\n",
              "          element.innerHTML = '';\n",
              "          dataTable['output_type'] = 'display_data';\n",
              "          await google.colab.output.renderOutput(dataTable, element);\n",
              "          const docLink = document.createElement('div');\n",
              "          docLink.innerHTML = docLinkHtml;\n",
              "          element.appendChild(docLink);\n",
              "        }\n",
              "      </script>\n",
              "    </div>\n",
              "  </div>\n",
              "  "
            ]
          },
          "metadata": {},
          "execution_count": 5
        }
      ]
    },
    {
      "cell_type": "code",
      "source": [
        "sns.heatmap(temp_df, annot=True)"
      ],
      "metadata": {
        "colab": {
          "base_uri": "https://localhost:8080/",
          "height": 472
        },
        "id": "I8nZ22ObQNsr",
        "outputId": "24b23997-a01e-45c2-eb93-3c256f2d918f"
      },
      "execution_count": null,
      "outputs": [
        {
          "output_type": "execute_result",
          "data": {
            "text/plain": [
              "<Axes: xlabel='Predicted', ylabel='Actual'>"
            ]
          },
          "metadata": {},
          "execution_count": 6
        },
        {
          "output_type": "display_data",
          "data": {
            "text/plain": [
              "<Figure size 640x480 with 2 Axes>"
            ],
            "image/png": "[encoded data removed]"
          },
          "metadata": {}
        }
      ]
    },
    {
      "cell_type": "code",
      "source": [
        "confusion(y_test, y_pred)"
      ],
      "metadata": {
        "colab": {
          "base_uri": "https://localhost:8080/",
          "height": 400
        },
        "id": "yiq2DFrAxh7x",
        "outputId": "fd45233f-0117-453f-97e8-c2698510f938"
      },
      "execution_count": null,
      "outputs": [
        {
          "output_type": "display_data",
          "data": {
            "text/plain": [
              "<Figure size 700x400 with 2 Axes>"
            ],
            "image/png": "[encoded data removed]"
          },
          "metadata": {}
        }
      ]
    },
    {
      "cell_type": "markdown",
      "source": [
        "<img width = 500 src = https://miro.medium.com/max/1218/1*jMs1RmSwnYgR9CsBw-z1dw.png />"
      ],
      "metadata": {
        "id": "uqv-whrly0VX"
      }
    },
    {
      "cell_type": "code",
      "source": [
        "df = pd.DataFrame({\"y_test\": y_test, \"y_pred\":y_pred})\n",
        "df"
      ],
      "metadata": {
        "colab": {
          "base_uri": "https://localhost:8080/",
          "height": 363
        },
        "id": "kMQYTvjZxq0v",
        "outputId": "b653d6f2-ea4f-4f27-ab20-1df58540413f"
      },
      "execution_count": null,
      "outputs": [
        {
          "output_type": "execute_result",
          "data": {
            "text/plain": [
              "   y_test  y_pred\n",
              "0       0       0\n",
              "1       0       1\n",
              "2       1       1\n",
              "3       0       0\n",
              "4       1       0\n",
              "5       1       1\n",
              "6       0       0\n",
              "7       0       1\n",
              "8       1       1\n",
              "9       1       1"
            ],
            "text/html": [
              "\n",
              "  <div id=\"df-4270a71e-8057-44cf-911a-1d38603d0199\">\n",
              "    <div class=\"colab-df-container\">\n",
              "      <div>\n",
              "<style scoped>\n",
              "    .dataframe tbody tr th:only-of-type {\n",
              "        vertical-align: middle;\n",
              "    }\n",
              "\n",
              "    .dataframe tbody tr th {\n",
              "        vertical-align: top;\n",
              "    }\n",
              "\n",
              "    .dataframe thead th {\n",
              "        text-align: right;\n",
              "    }\n",
              "</style>\n",
              "<table border=\"1\" class=\"dataframe\">\n",
              "  <thead>\n",
              "    <tr style=\"text-align: right;\">\n",
              "      <th></th>\n",
              "      <th>y_test</th>\n",
              "      <th>y_pred</th>\n",
              "    </tr>\n",
              "  </thead>\n",
              "  <tbody>\n",
              "    <tr>\n",
              "      <th>0</th>\n",
              "      <td>0</td>\n",
              "      <td>0</td>\n",
              "    </tr>\n",
              "    <tr>\n",
              "      <th>1</th>\n",
              "      <td>0</td>\n",
              "      <td>1</td>\n",
              "    </tr>\n",
              "    <tr>\n",
              "      <th>2</th>\n",
              "      <td>1</td>\n",
              "      <td>1</td>\n",
              "    </tr>\n",
              "    <tr>\n",
              "      <th>3</th>\n",
              "      <td>0</td>\n",
              "      <td>0</td>\n",
              "    </tr>\n",
              "    <tr>\n",
              "      <th>4</th>\n",
              "      <td>1</td>\n",
              "      <td>0</td>\n",
              "    </tr>\n",
              "    <tr>\n",
              "      <th>5</th>\n",
              "      <td>1</td>\n",
              "      <td>1</td>\n",
              "    </tr>\n",
              "    <tr>\n",
              "      <th>6</th>\n",
              "      <td>0</td>\n",
              "      <td>0</td>\n",
              "    </tr>\n",
              "    <tr>\n",
              "      <th>7</th>\n",
              "      <td>0</td>\n",
              "      <td>1</td>\n",
              "    </tr>\n",
              "    <tr>\n",
              "      <th>8</th>\n",
              "      <td>1</td>\n",
              "      <td>1</td>\n",
              "    </tr>\n",
              "    <tr>\n",
              "      <th>9</th>\n",
              "      <td>1</td>\n",
              "      <td>1</td>\n",
              "    </tr>\n",
              "  </tbody>\n",
              "</table>\n",
              "</div>\n",
              "      <button class=\"colab-df-convert\" onclick=\"convertToInteractive('df-4270a71e-8057-44cf-911a-1d38603d0199')\"\n",
              "              title=\"Convert this dataframe to an interactive table.\"\n",
              "              style=\"display:none;\">\n",
              "        \n",
              "  <svg xmlns=\"http://www.w3.org/2000/svg\" height=\"24px\"viewBox=\"0 0 24 24\"\n",
              "       width=\"24px\">\n",
              "    <path d=\"M0 0h24v24H0V0z\" fill=\"none\"/>\n",
              "    <path d=\"M18.56 5.44l.94 2.06.94-2.06 2.06-.94-2.06-.94-.94-2.06-.94 2.06-2.06.94zm-11 1L8.5 8.5l.94-2.06 2.06-.94-2.06-.94L8.5 2.5l-.94 2.06-2.06.94zm10 10l.94 2.06.94-2.06 2.06-.94-2.06-.94-.94-2.06-.94 2.06-2.06.94z\"/><path d=\"M17.41 7.96l-1.37-1.37c-.4-.4-.92-.59-1.43-.59-.52 0-1.04.2-1.43.59L10.3 9.45l-7.72 7.72c-.78.78-.78 2.05 0 2.83L4 21.41c.39.39.9.59 1.41.59.51 0 1.02-.2 1.41-.59l7.78-7.78 2.81-2.81c.8-.78.8-2.07 0-2.86zM5.41 20L4 18.59l7.72-7.72 1.47 1.35L5.41 20z\"/>\n",
              "  </svg>\n",
              "      </button>\n",
              "      \n",
              "  <style>\n",
              "    .colab-df-container {\n",
              "      display:flex;\n",
              "      flex-wrap:wrap;\n",
              "      gap: 12px;\n",
              "    }\n",
              "\n",
              "    .colab-df-convert {\n",
              "      background-color: #E8F0FE;\n",
              "      border: none;\n",
              "      border-radius: 50%;\n",
              "      cursor: pointer;\n",
              "      display: none;\n",
              "      fill: #1967D2;\n",
              "      height: 32px;\n",
              "      padding: 0 0 0 0;\n",
              "      width: 32px;\n",
              "    }\n",
              "\n",
              "    .colab-df-convert:hover {\n",
              "      background-color: #E2EBFA;\n",
              "      box-shadow: 0px 1px 2px rgba(60, 64, 67, 0.3), 0px 1px 3px 1px rgba(60, 64, 67, 0.15);\n",
              "      fill: #174EA6;\n",
              "    }\n",
              "\n",
              "    [theme=dark] .colab-df-convert {\n",
              "      background-color: #3B4455;\n",
              "      fill: #D2E3FC;\n",
              "    }\n",
              "\n",
              "    [theme=dark] .colab-df-convert:hover {\n",
              "      background-color: #434B5C;\n",
              "      box-shadow: 0px 1px 3px 1px rgba(0, 0, 0, 0.15);\n",
              "      filter: drop-shadow(0px 1px 2px rgba(0, 0, 0, 0.3));\n",
              "      fill: #FFFFFF;\n",
              "    }\n",
              "  </style>\n",
              "\n",
              "      <script>\n",
              "        const buttonEl =\n",
              "          document.querySelector('#df-4270a71e-8057-44cf-911a-1d38603d0199 button.colab-df-convert');\n",
              "        buttonEl.style.display =\n",
              "          google.colab.kernel.accessAllowed ? 'block' : 'none';\n",
              "\n",
              "        async function convertToInteractive(key) {\n",
              "          const element = document.querySelector('#df-4270a71e-8057-44cf-911a-1d38603d0199');\n",
              "          const dataTable =\n",
              "            await google.colab.kernel.invokeFunction('convertToInteractive',\n",
              "                                                     [key], {});\n",
              "          if (!dataTable) return;\n",
              "\n",
              "          const docLinkHtml = 'Like what you see? Visit the ' +\n",
              "            '<a target=\"_blank\" href=https://colab.research.google.com/notebooks/data_table.ipynb>data table notebook</a>'\n",
              "            + ' to learn more about interactive tables.';\n",
              "          element.innerHTML = '';\n",
              "          dataTable['output_type'] = 'display_data';\n",
              "          await google.colab.output.renderOutput(dataTable, element);\n",
              "          const docLink = document.createElement('div');\n",
              "          docLink.innerHTML = docLinkHtml;\n",
              "          element.appendChild(docLink);\n",
              "        }\n",
              "      </script>\n",
              "    </div>\n",
              "  </div>\n",
              "  "
            ]
          },
          "metadata": {},
          "execution_count": 15
        }
      ]
    },
    {
      "cell_type": "markdown",
      "source": [
        "classification metrics - https://scikit-learn.org/stable/modules/model_evaluation.html"
      ],
      "metadata": {
        "id": "RP76LeA5psmT"
      }
    },
    {
      "cell_type": "markdown",
      "source": [
        "## Accuracy - \n",
        "\n",
        "From all classes how many of them we predicted correctly\n",
        "\n",
        "***Formula = (Number of correct predictions)/ (Total predictions)***\n",
        "\n",
        "<img width = 400 src = https://miro.medium.com/max/1218/1*jMs1RmSwnYgR9CsBw-z1dw.png />\n",
        "\n",
        "\n",
        "**Accuracy = (TP + TN)/ (TP + TN + FP + FN)**"
      ],
      "metadata": {
        "id": "o0zDX-bszTeG"
      }
    },
    {
      "cell_type": "code",
      "source": [
        "confusion(y_test, y_pred)"
      ],
      "metadata": {
        "colab": {
          "base_uri": "https://localhost:8080/",
          "height": 293
        },
        "id": "3oTKfPrhqLnY",
        "outputId": "82640a9c-9081-4311-d8a3-91f298b2889b"
      },
      "execution_count": null,
      "outputs": [
        {
          "output_type": "display_data",
          "data": {
            "text/plain": [
              "<Figure size 504x288 with 2 Axes>"
            ],
            "image/png": "[encoded data removed]"
          },
          "metadata": {}
        }
      ]
    },
    {
      "cell_type": "code",
      "source": [
        "(3+4)/(3+4+2+1)"
      ],
      "metadata": {
        "colab": {
          "base_uri": "https://localhost:8080/"
        },
        "id": "Amu-Sm6fRJV6",
        "outputId": "e207634f-69a9-4990-d6d6-fdee8bfd104e"
      },
      "execution_count": null,
      "outputs": [
        {
          "output_type": "execute_result",
          "data": {
            "text/plain": [
              "0.7"
            ]
          },
          "metadata": {},
          "execution_count": 6
        }
      ]
    },
    {
      "cell_type": "code",
      "source": [
        "from sklearn.metrics import accuracy_score\n",
        "accuracy_score(y_test, y_pred)"
      ],
      "metadata": {
        "colab": {
          "base_uri": "https://localhost:8080/"
        },
        "id": "-a6GONw3p1Hp",
        "outputId": "d59dfaeb-edf2-45c6-9ada-6c59ed1df7de"
      },
      "execution_count": null,
      "outputs": [
        {
          "output_type": "execute_result",
          "data": {
            "text/plain": [
              "0.7"
            ]
          },
          "metadata": {},
          "execution_count": 16
        }
      ]
    },
    {
      "cell_type": "markdown",
      "source": [
        "## Recall - \n",
        "From all the actual positive classes, how many we predicted correctly\n",
        "\n",
        "**Recall = TP/(TP + FN)**\n",
        "\n",
        "***Recall is also known as Sensitivity and True Positive Rate***\n",
        "\n",
        "<img width = 400 src = https://miro.medium.com/max/1218/1*jMs1RmSwnYgR9CsBw-z1dw.png />"
      ],
      "metadata": {
        "id": "FckWZ2GD0X81"
      }
    },
    {
      "cell_type": "code",
      "source": [
        "confusion(y_test,y_pred)"
      ],
      "metadata": {
        "colab": {
          "base_uri": "https://localhost:8080/",
          "height": 293
        },
        "id": "mpIwiLjCTg5x",
        "outputId": "390955d2-f435-4fff-a57e-482c2e43613e"
      },
      "execution_count": null,
      "outputs": [
        {
          "output_type": "display_data",
          "data": {
            "text/plain": [
              "<Figure size 504x288 with 2 Axes>"
            ],
            "image/png": "[encoded data removed]"
          },
          "metadata": {}
        }
      ]
    },
    {
      "cell_type": "code",
      "source": [
        "from sklearn.metrics import recall_score\n",
        "recall_score(y_test, y_pred)"
      ],
      "metadata": {
        "colab": {
          "base_uri": "https://localhost:8080/"
        },
        "id": "yflw5H2MqoWS",
        "outputId": "4a760de4-61cc-4338-9983-d03f14fcc323"
      },
      "execution_count": null,
      "outputs": [
        {
          "output_type": "execute_result",
          "data": {
            "text/plain": [
              "0.8"
            ]
          },
          "metadata": {},
          "execution_count": 17
        }
      ]
    },
    {
      "cell_type": "markdown",
      "source": [
        "## Precision - \n",
        "From all the classes that we have predicted positive how many are actually positive.\n",
        "\n",
        "**Precision = TP/(TP + FP)**\n",
        "\n",
        "\n",
        "<img width = 400 src = https://miro.medium.com/max/1218/1*jMs1RmSwnYgR9CsBw-z1dw.png />"
      ],
      "metadata": {
        "id": "sfh6-OAx1J_s"
      }
    },
    {
      "cell_type": "code",
      "source": [
        "from sklearn.metrics import precision_score\n",
        "precision_score(y_test, y_pred)"
      ],
      "metadata": {
        "colab": {
          "base_uri": "https://localhost:8080/"
        },
        "id": "SVv43FcQrOEz",
        "outputId": "962ce77c-ba08-46ab-b60e-759cea2f8ddd"
      },
      "execution_count": null,
      "outputs": [
        {
          "output_type": "execute_result",
          "data": {
            "text/plain": [
              "0.6666666666666666"
            ]
          },
          "metadata": {},
          "execution_count": 10
        }
      ]
    },
    {
      "cell_type": "code",
      "source": [
        "confusion(y_test,y_pred)"
      ],
      "metadata": {
        "colab": {
          "base_uri": "https://localhost:8080/",
          "height": 293
        },
        "id": "lEZ4MNlKUwLc",
        "outputId": "f80b1aec-b37b-4bf5-b13a-aa1fe6da9f37"
      },
      "execution_count": null,
      "outputs": [
        {
          "output_type": "display_data",
          "data": {
            "text/plain": [
              "<Figure size 504x288 with 2 Axes>"
            ],
            "image/png": "[encoded data removed]"
          },
          "metadata": {}
        }
      ]
    },
    {
      "cell_type": "markdown",
      "source": [
        "## Misclassification Rate\n",
        "Overall how often model is wrong\n",
        "\n",
        "**Misclassification Rate = (FP + FN)/(TP + TN + FP + FN)**\n",
        "\n",
        "***Note - it is equivalent to (1 - Accuracy), also known as Error rate.*** "
      ],
      "metadata": {
        "id": "IojFmV7wjvEr"
      }
    },
    {
      "cell_type": "markdown",
      "source": [
        "## False Positive Rate\n",
        "\n",
        "When it is actually 0, how often our model predict it as 1\n",
        "\n",
        "**FPR = FP/(FP+TN)**\n",
        "\n",
        "<img width = 400 src = https://miro.medium.com/max/1218/1*jMs1RmSwnYgR9CsBw-z1dw.png />"
      ],
      "metadata": {
        "id": "HUlrsZwImDL5"
      }
    },
    {
      "cell_type": "code",
      "source": [
        "confusion_matrix(y_test,y_pred)"
      ],
      "metadata": {
        "colab": {
          "base_uri": "https://localhost:8080/"
        },
        "id": "WbcaaaacWQuu",
        "outputId": "b836dc73-1a94-401a-c8bc-4177aa4cdfad"
      },
      "execution_count": null,
      "outputs": [
        {
          "output_type": "execute_result",
          "data": {
            "text/plain": [
              "array([[3, 2],\n",
              "       [1, 4]])"
            ]
          },
          "metadata": {},
          "execution_count": 12
        }
      ]
    },
    {
      "cell_type": "code",
      "source": [
        "temp = pd.DataFrame(confusion_matrix(y_test,y_pred))"
      ],
      "metadata": {
        "id": "GvlJhTmztg9T"
      },
      "execution_count": null,
      "outputs": []
    },
    {
      "cell_type": "code",
      "source": [
        "temp"
      ],
      "metadata": {
        "colab": {
          "base_uri": "https://localhost:8080/",
          "height": 112
        },
        "id": "DHM-6Qt9WiMS",
        "outputId": "1797fddf-247e-4124-a436-d4045e3bde5b"
      },
      "execution_count": null,
      "outputs": [
        {
          "output_type": "execute_result",
          "data": {
            "text/plain": [
              "   0  1\n",
              "0  3  2\n",
              "1  1  4"
            ],
            "text/html": [
              "\n",
              "  <div id=\"df-1e7e5c91-ba0e-4109-8420-601ba4290dc6\">\n",
              "    <div class=\"colab-df-container\">\n",
              "      <div>\n",
              "<style scoped>\n",
              "    .dataframe tbody tr th:only-of-type {\n",
              "        vertical-align: middle;\n",
              "    }\n",
              "\n",
              "    .dataframe tbody tr th {\n",
              "        vertical-align: top;\n",
              "    }\n",
              "\n",
              "    .dataframe thead th {\n",
              "        text-align: right;\n",
              "    }\n",
              "</style>\n",
              "<table border=\"1\" class=\"dataframe\">\n",
              "  <thead>\n",
              "    <tr style=\"text-align: right;\">\n",
              "      <th></th>\n",
              "      <th>0</th>\n",
              "      <th>1</th>\n",
              "    </tr>\n",
              "  </thead>\n",
              "  <tbody>\n",
              "    <tr>\n",
              "      <th>0</th>\n",
              "      <td>3</td>\n",
              "      <td>2</td>\n",
              "    </tr>\n",
              "    <tr>\n",
              "      <th>1</th>\n",
              "      <td>1</td>\n",
              "      <td>4</td>\n",
              "    </tr>\n",
              "  </tbody>\n",
              "</table>\n",
              "</div>\n",
              "      <button class=\"colab-df-convert\" onclick=\"convertToInteractive('df-1e7e5c91-ba0e-4109-8420-601ba4290dc6')\"\n",
              "              title=\"Convert this dataframe to an interactive table.\"\n",
              "              style=\"display:none;\">\n",
              "        \n",
              "  <svg xmlns=\"http://www.w3.org/2000/svg\" height=\"24px\"viewBox=\"0 0 24 24\"\n",
              "       width=\"24px\">\n",
              "    <path d=\"M0 0h24v24H0V0z\" fill=\"none\"/>\n",
              "    <path d=\"M18.56 5.44l.94 2.06.94-2.06 2.06-.94-2.06-.94-.94-2.06-.94 2.06-2.06.94zm-11 1L8.5 8.5l.94-2.06 2.06-.94-2.06-.94L8.5 2.5l-.94 2.06-2.06.94zm10 10l.94 2.06.94-2.06 2.06-.94-2.06-.94-.94-2.06-.94 2.06-2.06.94z\"/><path d=\"M17.41 7.96l-1.37-1.37c-.4-.4-.92-.59-1.43-.59-.52 0-1.04.2-1.43.59L10.3 9.45l-7.72 7.72c-.78.78-.78 2.05 0 2.83L4 21.41c.39.39.9.59 1.41.59.51 0 1.02-.2 1.41-.59l7.78-7.78 2.81-2.81c.8-.78.8-2.07 0-2.86zM5.41 20L4 18.59l7.72-7.72 1.47 1.35L5.41 20z\"/>\n",
              "  </svg>\n",
              "      </button>\n",
              "      \n",
              "  <style>\n",
              "    .colab-df-container {\n",
              "      display:flex;\n",
              "      flex-wrap:wrap;\n",
              "      gap: 12px;\n",
              "    }\n",
              "\n",
              "    .colab-df-convert {\n",
              "      background-color: #E8F0FE;\n",
              "      border: none;\n",
              "      border-radius: 50%;\n",
              "      cursor: pointer;\n",
              "      display: none;\n",
              "      fill: #1967D2;\n",
              "      height: 32px;\n",
              "      padding: 0 0 0 0;\n",
              "      width: 32px;\n",
              "    }\n",
              "\n",
              "    .colab-df-convert:hover {\n",
              "      background-color: #E2EBFA;\n",
              "      box-shadow: 0px 1px 2px rgba(60, 64, 67, 0.3), 0px 1px 3px 1px rgba(60, 64, 67, 0.15);\n",
              "      fill: #174EA6;\n",
              "    }\n",
              "\n",
              "    [theme=dark] .colab-df-convert {\n",
              "      background-color: #3B4455;\n",
              "      fill: #D2E3FC;\n",
              "    }\n",
              "\n",
              "    [theme=dark] .colab-df-convert:hover {\n",
              "      background-color: #434B5C;\n",
              "      box-shadow: 0px 1px 3px 1px rgba(0, 0, 0, 0.15);\n",
              "      filter: drop-shadow(0px 1px 2px rgba(0, 0, 0, 0.3));\n",
              "      fill: #FFFFFF;\n",
              "    }\n",
              "  </style>\n",
              "\n",
              "      <script>\n",
              "        const buttonEl =\n",
              "          document.querySelector('#df-1e7e5c91-ba0e-4109-8420-601ba4290dc6 button.colab-df-convert');\n",
              "        buttonEl.style.display =\n",
              "          google.colab.kernel.accessAllowed ? 'block' : 'none';\n",
              "\n",
              "        async function convertToInteractive(key) {\n",
              "          const element = document.querySelector('#df-1e7e5c91-ba0e-4109-8420-601ba4290dc6');\n",
              "          const dataTable =\n",
              "            await google.colab.kernel.invokeFunction('convertToInteractive',\n",
              "                                                     [key], {});\n",
              "          if (!dataTable) return;\n",
              "\n",
              "          const docLinkHtml = 'Like what you see? Visit the ' +\n",
              "            '<a target=\"_blank\" href=https://colab.research.google.com/notebooks/data_table.ipynb>data table notebook</a>'\n",
              "            + ' to learn more about interactive tables.';\n",
              "          element.innerHTML = '';\n",
              "          dataTable['output_type'] = 'display_data';\n",
              "          await google.colab.output.renderOutput(dataTable, element);\n",
              "          const docLink = document.createElement('div');\n",
              "          docLink.innerHTML = docLinkHtml;\n",
              "          element.appendChild(docLink);\n",
              "        }\n",
              "      </script>\n",
              "    </div>\n",
              "  </div>\n",
              "  "
            ]
          },
          "metadata": {},
          "execution_count": 14
        }
      ]
    },
    {
      "cell_type": "code",
      "source": [
        "temp.iloc[0,1]"
      ],
      "metadata": {
        "colab": {
          "base_uri": "https://localhost:8080/"
        },
        "id": "mRgUgUChWnvh",
        "outputId": "7bf8b164-b8ce-49e3-b31d-2bf998b6f5db"
      },
      "execution_count": null,
      "outputs": [
        {
          "output_type": "execute_result",
          "data": {
            "text/plain": [
              "2"
            ]
          },
          "metadata": {},
          "execution_count": 15
        }
      ]
    },
    {
      "cell_type": "code",
      "source": [
        "temp.iloc[0].sum()"
      ],
      "metadata": {
        "colab": {
          "base_uri": "https://localhost:8080/"
        },
        "id": "y77q7LmvWw02",
        "outputId": "b2570f18-652e-4a10-917e-6b085cbee3d2"
      },
      "execution_count": null,
      "outputs": [
        {
          "output_type": "execute_result",
          "data": {
            "text/plain": [
              "5"
            ]
          },
          "metadata": {},
          "execution_count": 16
        }
      ]
    },
    {
      "cell_type": "code",
      "source": [
        "def FPR(y_test, y_pred):\n",
        "\n",
        "  \"\"\"\n",
        "  Takes input as y_test, y_pred\n",
        "  Returns False Positive Rate (FP/(FP+TN))\n",
        "  \"\"\"\n",
        "  data = confusion_matrix(y_test,y_pred)\n",
        "  cm_df = pd.DataFrame(data)\n",
        "  fp = cm_df.iloc[0,1]\n",
        "  fp_plus_tn = cm_df.iloc[0].sum()\n",
        "  \n",
        "  return (fp/fp_plus_tn)"
      ],
      "metadata": {
        "id": "hYvZ8bw7trvT"
      },
      "execution_count": null,
      "outputs": []
    },
    {
      "cell_type": "code",
      "source": [],
      "metadata": {
        "id": "i6TT8ROqXKnc"
      },
      "execution_count": null,
      "outputs": []
    },
    {
      "cell_type": "code",
      "source": [
        "FPR(y_test,y_pred)"
      ],
      "metadata": {
        "colab": {
          "base_uri": "https://localhost:8080/"
        },
        "id": "AZBHMolrwPl-",
        "outputId": "a0cf3146-22e7-44b0-fde1-aa89d88ca529"
      },
      "execution_count": null,
      "outputs": [
        {
          "output_type": "execute_result",
          "data": {
            "text/plain": [
              "0.4"
            ]
          },
          "metadata": {},
          "execution_count": 8
        }
      ]
    },
    {
      "cell_type": "markdown",
      "source": [
        "## True Negative Rate\n",
        "\n",
        "When it is actually 0, how often our model predict it as 0.\n",
        "\n",
        "**TNR = TN / (FP + TN)**\n",
        "\n",
        "***Note - TNR = (1-FPR) also known as specificity***"
      ],
      "metadata": {
        "id": "T5F7a7ElmZfG"
      }
    },
    {
      "cell_type": "code",
      "source": [
        "1 - FPR(y_test,y_pred)"
      ],
      "metadata": {
        "id": "yc0BlC6WwV4H",
        "colab": {
          "base_uri": "https://localhost:8080/"
        },
        "outputId": "cdabc0ed-555d-40bd-de3c-73192af327e7"
      },
      "execution_count": null,
      "outputs": [
        {
          "output_type": "execute_result",
          "data": {
            "text/plain": [
              "0.6"
            ]
          },
          "metadata": {},
          "execution_count": 20
        }
      ]
    },
    {
      "cell_type": "markdown",
      "source": [
        "## Null Error Rate\n",
        "\n",
        "If you only predict majority class how often you would be wrong. This can be a useful baseline metric to compare your classifier. "
      ],
      "metadata": {
        "id": "KLF8Szw3nVb1"
      }
    },
    {
      "cell_type": "markdown",
      "source": [
        "Exercise - https://developers.google.com/machine-learning/crash-course/classification/check-your-understanding-accuracy-precision-recall"
      ],
      "metadata": {
        "id": "sb-RReIBzrXj"
      }
    },
    {
      "cell_type": "markdown",
      "source": [
        "## F1 Score\n",
        "\n",
        "**F1 Score = 2 x ( (precision x recall) / (precision + recall) )**\n",
        "\n",
        "It is also called the F Score or the F Measure. Put another way, the F1 score conveys the balance between the precision and the recall."
      ],
      "metadata": {
        "id": "SsK-rr-3NJZT"
      }
    },
    {
      "cell_type": "code",
      "source": [
        "from sklearn.metrics import f1_score\n",
        "\n",
        "f1_score(y_test,y_pred)"
      ],
      "metadata": {
        "colab": {
          "base_uri": "https://localhost:8080/"
        },
        "id": "pRdgelOJNtPL",
        "outputId": "d8e153e5-bd9f-4324-c86b-4f6bc7b818a0"
      },
      "execution_count": null,
      "outputs": [
        {
          "output_type": "execute_result",
          "data": {
            "text/plain": [
              "0.7272727272727272"
            ]
          },
          "metadata": {},
          "execution_count": 9
        }
      ]
    },
    {
      "cell_type": "markdown",
      "source": [
        "## Classification report"
      ],
      "metadata": {
        "id": "2IRhyc-7OQ8J"
      }
    },
    {
      "cell_type": "code",
      "source": [
        "from sklearn.metrics import classification_report\n",
        "print(classification_report(y_test,y_pred))"
      ],
      "metadata": {
        "colab": {
          "base_uri": "https://localhost:8080/"
        },
        "id": "ZDA9qS93OPua",
        "outputId": "d3f59f2a-7337-4adb-e27a-5750fcc80437"
      },
      "execution_count": null,
      "outputs": [
        {
          "output_type": "stream",
          "name": "stdout",
          "text": [
            "              precision    recall  f1-score   support\n",
            "\n",
            "           0       0.75      0.60      0.67         5\n",
            "           1       0.67      0.80      0.73         5\n",
            "\n",
            "    accuracy                           0.70        10\n",
            "   macro avg       0.71      0.70      0.70        10\n",
            "weighted avg       0.71      0.70      0.70        10\n",
            "\n"
          ]
        }
      ]
    },
    {
      "cell_type": "markdown",
      "source": [
        "## ROC curve\n",
        "\n",
        "An ROC curve (receiver operating characteristic curve) is a graph showing the performance of a classification model at all classification thresholds. \n",
        "\n",
        "This curve plots two parameters:\n",
        "\n",
        "- True Positive Rate\n",
        "- False Positive Rate\n",
        "\n",
        "True Positive Rate (TPR) is a synonym for recall and is therefore defined as follows:\n",
        "\n",
        "![image.png](data:image/png;base64,iVBORw0KGgoAAAANSUhEUgAAALgAAAA5CAYAAACF3+G6AAAAAXNSR0IArs4c6QAAAARnQU1BAACxjwv8YQUAAAAJcEhZcwAADsMAAA7DAcdvqGQAAA/1SURBVHhe7Z0HeBVVFscPhPAtmgTh23UlCRGpKcCnQApFQrOw6NISSkgAkV4EFSKwoEtEmiA1FAtd6U3ETwSkCCR5gRWBkICiQAqsu5QkKDWZPf87M895k5fkkQTZ97i/fMO8uXPvzJ2Z/z33zJ0zQzmFIYnERSmvzSUSl0QKXOLSSIFLXBopcIlLI28ynRxHLx7yma0Z0jCVE0sFfwNnt4BS4E7MuYwM2rhxM7nx73w1SQBR6uIFmCPtCR9v6hEZYRXtN4cTaMeOHZR57jxnUkhxd4cgKLhRI7E9bDckJJiaN2tqFb6z4ewN9KEFol22dBmtXLGS0jMztRSFkiwWmjd/ASUdOcJL6l9uTjYt53ynU1NRVIDcT/lVp44dOlBO7nUul0ytwsNp2JDBFMqibhoaQtm5ORTT5xUaHfuWyO+UwIJLnI+7+flK8/DWyoFDh5U8LQ3z/gMHKzVq1VV2fLVTTWSQPnFSnDJz9hw1wUAetvNsK1EG2zRyg6fuvfuKdd+fOKEmOhnSgjspKSkp5B8QINwH60Vk9yIpySLmsMBGvLy8KCzENg2kp6dTJvcAIcFNCrghFXnKv31b/M7IQC/hfEiBOyHwj3fs3kOdOv7d5gJC9Lm5ucJvrly5spaquiPJ3x8nH18fNcFAYmKSmIegQZQr6GmnpZ0Wc187ZZ0BKXAnBDLsFtGV2r/4gpqgkZjI1psJZbGWM4gVFzl2zJtU3c9PTdCA8OF7Q9ihbN3NYtiwYYNoMH16R1OD+vW1VOdCCtwJgXRr+fqKUQ4diNWSrAmcxWq0xfjdODDQJj9gF5UsmsBDwkIpj9PYX6fzFy7QrDnzaMr0mdSbxT1q1MgC7ouzIIcJXQQI85lGwcLi/nAmlSqUL952nWMht27zHHmyf+4f4C+ETvnsAPE8sF5d6tKls7DczipuAQQucX6Onzih1KhZR+nWI0qMjDjC2nXrRZm3J8WJERSMtqDsXZ47toX/f6SL4iIkwP+GL23yvwvD6n8zGF1x4zIQQ3mew5VxaqttQArcBRCjJPC/2U0x+9+FwcbN6n+HNQ3TUl0PKXAXgN0JtsZH+GqWd1isFzD+nZVF/v7+YozcVZECd1IwFn4gIZEO87R202bK/fVX8vXxYVcliQ5y2tWcHDWjCaR/y+s3bdkmlqvXfIoOsSUvLL+z4/AoCk5ASsqpYluEvrFHvTypYVCQNf9lLr/r6110UX8iBj+Rd+3j403V+MLA9wsMDKAqhgcUANs7xBckMckifEMsowtGOW9fX+tvPz+/h6q1Hjt1iqbO/ICUGzeoHFtuJT9f9b0xVaxIPXr2oE7PP2fjrtzlac3GTbR96zY1ncsobm5Uzt2dhg7oTy3Z+hvzuwIOC3ztho00bsLb5FOtGnl7VxNpWZf+TZkXLpAPi8u72hPWE2xhKxLMNztrV68UosMO9nNaUmIibd+2nTK5e2z3t/ZUt1ZNEb2mcJm9e/eLbY0fF0vdIiOtJxpjs2t431mZmbQofpFIi4npRZ7cELDdH06fod27dlO7dm1p5vSpVNmFu1sjOHb9wuFcGX/rkYXmcW+A82kWsR45aE53CSDw4hBBPIOHKu/PnmMdTsJQ0juT4sQw06fr1lvT7iA97l1lFuc1DzWhbLeoaBG88+P581qqun0R2BPTR6lRu57dwJ7LV6+Kcu1f6ij2A8SwFk9r1q8X616PHSv2L5HoONSrZ2dnU2raaXpj1EjrcBJau7ix4eVmYaEiDVagAk+PeHrSE+x22LMIFnY1fHhdjerVtRT1RsCdJ89HHxXdZlKSOnxlRAQRMSHBja2uCOaYfH15W1yPLZu3uKYVkpQYXStFsoN956heUTaZs69do7TUVPLxZv/XIFZ0d9fZ3/ZjEZtJZF8afjeCgcxjtVjKSM8QvwPxVM0Aut+kJDUoKDQ0tICIMzPSxXbbtmktBS6xwSGBV2cBd+8WoS2pWKPQTGLFr0YswmbNmqoJGkKkFvVhBEIzzTvGsFVaWhr5BwYWGOrinka16jwPM4WBXubeZcHCJcInH/nacMcOSPLQUKJYFBSYFPcurVixiqZNfY/FH6muKAKM1faMiibLkaO0Z8/X9CTfmIpmwekYJZk2fQbl5+XTksXx5OfrK8roXOXeolHjEAoICqKtWzcJESOGGW7L8tWfkkelSjRxwnhqwOsLAzdXhw8nCBfLUTy8PMU2Za/gvJRI4HBDOrzUUVjcfXt305MGF6Uw+GaQatdRA3qsscfsb2dlXSQPDw/q0qkjvdqvrxguNPPlVztp2PDXyIeF7424ZN7W9d9uUOqJE/TelMnUgxtYcZYbQ2Sz5swV9whmcALsifgRTy8a9OorsldwYkok8KvsFsCiwv8+sP8bu6I0c4itZ3RMHzGct2hRvOrW8K4xRAgBYdneVoy9RXz8fHpRi4GGRR4yaAglc4+weuWyIq23DhpmYfsoLL04cV+6dInWrdugLUnKkvoNgvi+qo22VDJKJHDdonZmqztr5oxiu3DsYDZbz/nz42n8uLE0oH8/dYUDwLXRe4t/HbVQlcce09YQzZw7j+IXLqZxsWNoIFva4ihMyKXh55/P0fQZ72tLkrLk2RYtqFevntpSybhngSNzif3v5CO0jX3ohvfwdojuf+P9wy+2b7X60LDGY2LH0ubNW2gcN5riBA4X5ZNPltGvublqggM84uVFA9htsvfAROIc3LN7CYFbko9y03A8Ck0tc4Q82deu74ArYQSxFdhXaEiTAq6QPjauDyve4Qmuiz30kvqnFBz5q+zpIf1vZwcW3BHw9BDB8JfwRLGOv9LwmSbK7bw86xNMe+jrvvhqp3jS2H/ESOUmL5ufcNoDTyRv8/4QjF+jboCyYv0G5Q4v6+CpaIOnG4u6HDicIPK/MfEd5bsiPm/gyH4lroVDLsrZjAxq92IHolu3hDXVX2sSuLnR6+wDD8cIiJoigEuweOlymjV9BlqRWqZCBZF/zJtv0BDOb2uPfweWeNjoWNr1xQ42yWyTUd7dXZQ/feKY+jkDnuAqrVz9GUV0j6S//vkvdDEri96fPvWBWV2cSAdOp8gn4HNodH+QDnfOel5wjrXt4V/9ecODOD7Uy1HMPS2uFc4LUvN5nXkkS4+PQR79OLFcFsfpkMCRQT9AUXWugLXC2rK94TdjxQEqru+sOL8WDUTsy1Q94zg21uABUcqpVBEeEP6APzF2kN2pBfELRZ3F+UFdMaGRcsNGxB+WEf2HtHr+9ejtiRPEucB5XMQGYSZuWJEfeStyU8YcE5fx9fWltuEtadTIEfSYKeryfoIvo3SK6E6px4+rdQN8PNZro18T1JPTz6SlkLuWdiwlhTp3j+KN8Fa4rFfVqrR/905r/bGFeBjCqdPU7WG7fKyT4/5JUZERpb+eELik9MAde310rAgG+5JdsivXrgk3asbsOcI90997hJt17ORJpXnL1iJYzeg2iWA1Xq8HpB1hdwuuF8ph3T52xRqwa9j+5Y5i+/cC6lcaUAcEyKFezVu1VW5pafoxfcfH1H/IMPGVLOM7odjvbZ4WfvSJqDuC8z7k30aQ5zIfT/PwNsqSj5eKbZa2vjoPqjd3Ofhciqe0q1avoPYvPC/i2mHBk7Ub4a5dOovepwJPiJN/uXNH8vZR49l1YMmxnMo9kif3SE9zPvSMKId1zfmmPiAwgFJTTqlxPQ7CYqGBw0aovW0JQR2StfCMdq3DRXCcqJd2TKhrTHQv8vZTA990IDAcw9FkC40fGyvSVq5aZePyII8a5qxQf4xacfmyEqYUeBmxc+fX1IYvfFWj68AXMdmSXGD0CELDiQ8yBZWBU/g6VU6O3VEjcbHgBjC/y6N4sJWcK1dEfUoKSop3OBljwBtqozccpFX28rRptACNH1/IiojoKmKX8Bk4nC8jaLDBTZoIo1CWSIGXAfBK/5ubIy6g8fIkaFY2NNQ2IA1iuZ6bSwFBgWqCAfF1Ks4bHFzw5WGELUNk+I4J3n76IxE9FATOc2PA22cbNtIqnnBMHpW9qEXr1uoKA+I7iny/4ca+dZfOnUTa8pVsxcUvlUSLhRs1nydtuayQAi8D4D5ERUZSw0BbwSZZoydtxYoueyLfXNpYe0ZYSe3rVE2bhoq5DtyMyVP4Roy394/xY6mG6TNsRSHsdikto/6RTjxw8+B6Y6TrJk+fb91GjbgnwtbhpkTbuTHEJy30cxDJ6/E+AN4LSL9wQayH0PEJi6ZhtsdcFkiBlxHmUST9ooEwk1iBvVEn+KX6SyTXcnLpEPu8iLT8YM48ioruLR5srV6xjLqxSO4FITjedmnAO7GoV9bFixTTt5+Ynmv3AqXx/UKg5n5hP2jsRnAeLEePWhss3K4uXdiKc33mzlugNj7+jVcSEZZd1kiB3yf0Lh3+d5DJsheG7n/DwiUmsbgTEymB53ksgwnj3qID+/YU+b8tQCyw9Ggo5glDb/bSjW5CYWC7+meZe8f0ouGDBtLwgQOoXu1adu8VbOAyaadO2ZyDvn37iPrs+WYvZfPxwpULDi74EkxZUKJgK0nxHDycQDG9+1K7tq3pwyWLCxWlkY8+XkpTpk2n4cOHitcDcWH0co6Uv8UTLGs57ZveVlhMaT+eJX8WpH6TquNZpQp9GD+/SEuHhtAyvI1wUYwBb9PnzuMG7ElDi4gDOnHyJM2dv4A+MpwDHNebo2Npy5atIp4pIytLRKYi7LnMgcAlZQ9eusaYsXnMtzBYREr/gYNEmW8PHVYT7xFsQ4whm6Y7eXlKZFS0mJvXIX9xnMP4d806YoxfH5/GfG9CovJzerqaUAhL+PgxmTnIx4httmjVVtQN+7gfSBflPmDt0pnQsIL/q4I9YCWF/83zZg4GsZmBhRRjyHYmWG576chfHLr/jRe+9dwQTjjfFNYwvX1lRPe/w+ycAwTq4YY1g29e75f/DaTA7wPwg0X0pKcnBRnGv4vipOZ/B0PcDojuj8J4s9zEznfHCwON/Fp2tngOoN+EGkHDwof1Qch9GP/Wcfsno/2WlIIrLM65i5ZQUmISrVyzln46+xP9qVIl+u3GDTrEFvAGi/6p6rZPLsE+zr9242batXsPnT17VnxK7cy589w4PKja449ruUoHxLZx02aK6NrFYSFhbB+xMXv3H6DPP99Ot27eJHZx6PQPP9JdPpYn7RyLzk8ZGbSEy74bN5n+88svlMNCVypWLFAmgG88l63+VLzQ7sgbWSVBWvAyAqMBaiycQv4s0uFDB1Pv6Ci+oApb9HyqWtmrgCD02z13XlEXZYYNoeCGDagCl/kjg6kKA/V147rgOEbwja9/ndqcgroVPBYjOAvlOUPnji+LcviMn73H70ibMjnO+hri/UCOojwEwGXq2bcfrV2x7KGzaFLgDwkIP7b3cMnVkQKXuDTSB5e4NFLgEpdGClzi0kiBS1waKXCJSyMFLnFppMAlLgzR/wDjoBJ3K1uo0AAAAABJRU5ErkJggg==)\n",
        "\n",
        "\n",
        "False Positive Rate (FPR) is defined as follows:\n",
        "\n",
        "![image.png](data:image/png;base64,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)"
      ],
      "metadata": {
        "id": "2LhDweLu21Ke"
      }
    },
    {
      "cell_type": "markdown",
      "source": [
        "<img width = 400 src = https://miro.medium.com/max/1218/1*jMs1RmSwnYgR9CsBw-z1dw.png />"
      ],
      "metadata": {
        "id": "YpdvuqHN4YsC"
      }
    },
    {
      "cell_type": "markdown",
      "source": [
        "An ROC curve plots TPR vs. FPR at different classification thresholds. Lowering the classification threshold classifies more items as positive, thus increasing both False Positives and True Positives. The following figure shows a typical ROC curve.\n",
        "\n",
        "![image.png](data:image/png;base64,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)"
      ],
      "metadata": {
        "id": "3gSy2Maw3s-z"
      }
    },
    {
      "cell_type": "markdown",
      "source": [
        "## What is the AUC-ROC curve?\n",
        "\n",
        "The Receiver Operator Characteristic (ROC) curve is an evaluation metric for binary classification problems. It is a probability curve that plots the TPR against FPR at various threshold values and essentially separates the ‘signal’ from the ‘noise’. The Area Under the Curve (AUC) is the measure of the ability of a classifier to distinguish between classes and is used as a summary of the ROC curve.\n",
        "\n",
        "The higher the AUC, the better the performance of the model at distinguishing between the positive and negative classes.\n",
        "\n",
        "\n",
        "  <img width = 300 src = https://cdn.analyticsvidhya.com/wp-content/uploads/2020/06/AUC1.png />\n",
        "\n"
      ],
      "metadata": {
        "id": "-5o8B3eZ7bY-"
      }
    },
    {
      "cell_type": "markdown",
      "source": [
        "When AUC = 1, then the classifier is able to perfectly distinguish between all the Positive and the Negative class points correctly. If, however, the AUC had been 0, then the classifier would be predicting all Negatives as Positives, and all Positives as Negatives."
      ],
      "metadata": {
        "id": "-TinpOAs8SCG"
      }
    },
    {
      "cell_type": "markdown",
      "source": [
        "<img width = 300 src = https://cdn.analyticsvidhya.com/wp-content/uploads/2020/06/AUC3.png />\n",
        "\n",
        "\n",
        "When 0.5<AUC<1,\n",
        "\n",
        "there is a high chance that the classifier will be able to distinguish the positive class values from the negative class values. This is so because the classifier is able to detect more numbers of True positives and True negatives than False negatives and False positives."
      ],
      "metadata": {
        "id": "q2IgvOmJ8c4V"
      }
    },
    {
      "cell_type": "markdown",
      "source": [
        "<img width = 300 src = https://cdn.analyticsvidhya.com/wp-content/uploads/2020/06/AUC2.png />\n",
        "\n",
        "When AUC=0.5, then the classifier is not able to distinguish between Positive and Negative class points. Meaning either the classifier is predicting random class or constant class for all the data points.\n",
        "\n",
        "***So, the higher the AUC value for a classifier, the better its ability to distinguish between positive and negative classes.***"
      ],
      "metadata": {
        "id": "Lb_yKtO880tb"
      }
    },
    {
      "cell_type": "markdown",
      "source": [
        "## How Does the AUC-ROC Curve Work?\n",
        "\n",
        "In a ROC curve, a higher X-axis value indicates a higher number of False positives than True negatives. While a higher Y-axis value indicates a higher number of True positives than False negatives. So, the choice of the threshold depends on the ability to balance between False positives and False negatives.\n",
        "\n",
        "Let’s dig a bit deeper and understand how our ROC curve would look like for different threshold values and how the specificity and sensitivity would vary.\n",
        "\n",
        "\n",
        "<img width = 350 src = https://cdn.analyticsvidhya.com/wp-content/uploads/2020/06/AUC-ROC-curve.png />\n",
        "\n",
        "\n",
        "\n"
      ],
      "metadata": {
        "id": "eXUk1gCn9XDq"
      }
    },
    {
      "cell_type": "code",
      "source": [
        "import pandas as pd\n",
        "import numpy as np\n",
        "import seaborn as sns\n",
        "import matplotlib.pyplot as plt\n",
        "\n",
        "from sklearn.linear_model import LogisticRegression\n",
        "from sklearn.ensemble import RandomForestClassifier\n",
        "from sklearn.preprocessing import StandardScaler"
      ],
      "metadata": {
        "id": "tFOz9_HKxIms"
      },
      "execution_count": null,
      "outputs": []
    },
    {
      "cell_type": "markdown",
      "source": [
        "Dataset - https://www.kaggle.com/datasets/jahnveenarang/cvdcvd-vd"
      ],
      "metadata": {
        "id": "L8AYKGAxO72C"
      }
    },
    {
      "cell_type": "code",
      "source": [
        "df = pd.read_csv(\"/content/Social_Network_Ads.csv\")\n",
        "df.head()"
      ],
      "metadata": {
        "colab": {
          "base_uri": "https://localhost:8080/",
          "height": 206
        },
        "id": "boMWtznYyVCJ",
        "outputId": "3bd5f7de-08e5-4646-de97-6af086927b71"
      },
      "execution_count": null,
      "outputs": [
        {
          "output_type": "execute_result",
          "data": {
            "text/plain": [
              "    User ID  Gender  Age  EstimatedSalary  Purchased\n",
              "0  15624510    Male   19            19000          0\n",
              "1  15810944    Male   35            20000          0\n",
              "2  15668575  Female   26            43000          0\n",
              "3  15603246  Female   27            57000          0\n",
              "4  15804002    Male   19            76000          0"
            ],
            "text/html": [
              "\n",
              "  <div id=\"df-dcc60133-0170-43cf-9516-7a778ca71275\">\n",
              "    <div class=\"colab-df-container\">\n",
              "      <div>\n",
              "<style scoped>\n",
              "    .dataframe tbody tr th:only-of-type {\n",
              "        vertical-align: middle;\n",
              "    }\n",
              "\n",
              "    .dataframe tbody tr th {\n",
              "        vertical-align: top;\n",
              "    }\n",
              "\n",
              "    .dataframe thead th {\n",
              "        text-align: right;\n",
              "    }\n",
              "</style>\n",
              "<table border=\"1\" class=\"dataframe\">\n",
              "  <thead>\n",
              "    <tr style=\"text-align: right;\">\n",
              "      <th></th>\n",
              "      <th>User ID</th>\n",
              "      <th>Gender</th>\n",
              "      <th>Age</th>\n",
              "      <th>EstimatedSalary</th>\n",
              "      <th>Purchased</th>\n",
              "    </tr>\n",
              "  </thead>\n",
              "  <tbody>\n",
              "    <tr>\n",
              "      <th>0</th>\n",
              "      <td>15624510</td>\n",
              "      <td>Male</td>\n",
              "      <td>19</td>\n",
              "      <td>19000</td>\n",
              "      <td>0</td>\n",
              "    </tr>\n",
              "    <tr>\n",
              "      <th>1</th>\n",
              "      <td>15810944</td>\n",
              "      <td>Male</td>\n",
              "      <td>35</td>\n",
              "      <td>20000</td>\n",
              "      <td>0</td>\n",
              "    </tr>\n",
              "    <tr>\n",
              "      <th>2</th>\n",
              "      <td>15668575</td>\n",
              "      <td>Female</td>\n",
              "      <td>26</td>\n",
              "      <td>43000</td>\n",
              "      <td>0</td>\n",
              "    </tr>\n",
              "    <tr>\n",
              "      <th>3</th>\n",
              "      <td>15603246</td>\n",
              "      <td>Female</td>\n",
              "      <td>27</td>\n",
              "      <td>57000</td>\n",
              "      <td>0</td>\n",
              "    </tr>\n",
              "    <tr>\n",
              "      <th>4</th>\n",
              "      <td>15804002</td>\n",
              "      <td>Male</td>\n",
              "      <td>19</td>\n",
              "      <td>76000</td>\n",
              "      <td>0</td>\n",
              "    </tr>\n",
              "  </tbody>\n",
              "</table>\n",
              "</div>\n",
              "      <button class=\"colab-df-convert\" onclick=\"convertToInteractive('df-dcc60133-0170-43cf-9516-7a778ca71275')\"\n",
              "              title=\"Convert this dataframe to an interactive table.\"\n",
              "              style=\"display:none;\">\n",
              "        \n",
              "  <svg xmlns=\"http://www.w3.org/2000/svg\" height=\"24px\"viewBox=\"0 0 24 24\"\n",
              "       width=\"24px\">\n",
              "    <path d=\"M0 0h24v24H0V0z\" fill=\"none\"/>\n",
              "    <path d=\"M18.56 5.44l.94 2.06.94-2.06 2.06-.94-2.06-.94-.94-2.06-.94 2.06-2.06.94zm-11 1L8.5 8.5l.94-2.06 2.06-.94-2.06-.94L8.5 2.5l-.94 2.06-2.06.94zm10 10l.94 2.06.94-2.06 2.06-.94-2.06-.94-.94-2.06-.94 2.06-2.06.94z\"/><path d=\"M17.41 7.96l-1.37-1.37c-.4-.4-.92-.59-1.43-.59-.52 0-1.04.2-1.43.59L10.3 9.45l-7.72 7.72c-.78.78-.78 2.05 0 2.83L4 21.41c.39.39.9.59 1.41.59.51 0 1.02-.2 1.41-.59l7.78-7.78 2.81-2.81c.8-.78.8-2.07 0-2.86zM5.41 20L4 18.59l7.72-7.72 1.47 1.35L5.41 20z\"/>\n",
              "  </svg>\n",
              "      </button>\n",
              "      \n",
              "  <style>\n",
              "    .colab-df-container {\n",
              "      display:flex;\n",
              "      flex-wrap:wrap;\n",
              "      gap: 12px;\n",
              "    }\n",
              "\n",
              "    .colab-df-convert {\n",
              "      background-color: #E8F0FE;\n",
              "      border: none;\n",
              "      border-radius: 50%;\n",
              "      cursor: pointer;\n",
              "      display: none;\n",
              "      fill: #1967D2;\n",
              "      height: 32px;\n",
              "      padding: 0 0 0 0;\n",
              "      width: 32px;\n",
              "    }\n",
              "\n",
              "    .colab-df-convert:hover {\n",
              "      background-color: #E2EBFA;\n",
              "      box-shadow: 0px 1px 2px rgba(60, 64, 67, 0.3), 0px 1px 3px 1px rgba(60, 64, 67, 0.15);\n",
              "      fill: #174EA6;\n",
              "    }\n",
              "\n",
              "    [theme=dark] .colab-df-convert {\n",
              "      background-color: #3B4455;\n",
              "      fill: #D2E3FC;\n",
              "    }\n",
              "\n",
              "    [theme=dark] .colab-df-convert:hover {\n",
              "      background-color: #434B5C;\n",
              "      box-shadow: 0px 1px 3px 1px rgba(0, 0, 0, 0.15);\n",
              "      filter: drop-shadow(0px 1px 2px rgba(0, 0, 0, 0.3));\n",
              "      fill: #FFFFFF;\n",
              "    }\n",
              "  </style>\n",
              "\n",
              "      <script>\n",
              "        const buttonEl =\n",
              "          document.querySelector('#df-dcc60133-0170-43cf-9516-7a778ca71275 button.colab-df-convert');\n",
              "        buttonEl.style.display =\n",
              "          google.colab.kernel.accessAllowed ? 'block' : 'none';\n",
              "\n",
              "        async function convertToInteractive(key) {\n",
              "          const element = document.querySelector('#df-dcc60133-0170-43cf-9516-7a778ca71275');\n",
              "          const dataTable =\n",
              "            await google.colab.kernel.invokeFunction('convertToInteractive',\n",
              "                                                     [key], {});\n",
              "          if (!dataTable) return;\n",
              "\n",
              "          const docLinkHtml = 'Like what you see? Visit the ' +\n",
              "            '<a target=\"_blank\" href=https://colab.research.google.com/notebooks/data_table.ipynb>data table notebook</a>'\n",
              "            + ' to learn more about interactive tables.';\n",
              "          element.innerHTML = '';\n",
              "          dataTable['output_type'] = 'display_data';\n",
              "          await google.colab.output.renderOutput(dataTable, element);\n",
              "          const docLink = document.createElement('div');\n",
              "          docLink.innerHTML = docLinkHtml;\n",
              "          element.appendChild(docLink);\n",
              "        }\n",
              "      </script>\n",
              "    </div>\n",
              "  </div>\n",
              "  "
            ]
          },
          "metadata": {},
          "execution_count": 2
        }
      ]
    },
    {
      "cell_type": "code",
      "source": [
        "df.drop(columns = [\"User ID\"], inplace = True)\n",
        "df[\"Gender\"] = df.Gender.replace({\"Female\": 1, \"Male\" :0})\n",
        "df.info()"
      ],
      "metadata": {
        "colab": {
          "base_uri": "https://localhost:8080/"
        },
        "id": "_a9GIlcvAd3U",
        "outputId": "ff172b90-6d03-4dc3-f8b0-88a12edd2412"
      },
      "execution_count": null,
      "outputs": [
        {
          "output_type": "stream",
          "name": "stdout",
          "text": [
            "<class 'pandas.core.frame.DataFrame'>\n",
            "RangeIndex: 400 entries, 0 to 399\n",
            "Data columns (total 4 columns):\n",
            " #   Column           Non-Null Count  Dtype\n",
            "---  ------           --------------  -----\n",
            " 0   Gender           400 non-null    int64\n",
            " 1   Age              400 non-null    int64\n",
            " 2   EstimatedSalary  400 non-null    int64\n",
            " 3   Purchased        400 non-null    int64\n",
            "dtypes: int64(4)\n",
            "memory usage: 12.6 KB\n"
          ]
        }
      ]
    },
    {
      "cell_type": "code",
      "source": [
        "X = df.drop(columns = [\"Purchased\"])\n",
        "y = df[\"Purchased\"]"
      ],
      "metadata": {
        "id": "Byx6_PNvAxWz"
      },
      "execution_count": null,
      "outputs": []
    },
    {
      "cell_type": "code",
      "source": [
        "from sklearn.model_selection import train_test_split\n",
        "# Train test split\n",
        "X_train,X_test,y_train,y_test = train_test_split(X,y,test_size=0.2,random_state=24)\n",
        "\n",
        "print(f'Shape of X_train -: {X_train.shape}')\n",
        "print(f'Shape of X_test -: {X_test.shape}')\n",
        "print(f'Shape of y_train -: {y_train.shape}')\n",
        "print(f'Shape of y_test -: {y_test.shape}')"
      ],
      "metadata": {
        "colab": {
          "base_uri": "https://localhost:8080/"
        },
        "id": "GrrlY99LA75D",
        "outputId": "d498451b-2dbb-439f-f019-4d8e34263dd6"
      },
      "execution_count": null,
      "outputs": [
        {
          "output_type": "stream",
          "name": "stdout",
          "text": [
            "Shape of X_train -: (320, 3)\n",
            "Shape of X_test -: (80, 3)\n",
            "Shape of y_train -: (320,)\n",
            "Shape of y_test -: (80,)\n"
          ]
        }
      ]
    },
    {
      "cell_type": "code",
      "source": [
        "# Scalling data\n",
        "\n",
        "scaler = StandardScaler()\n",
        "\n",
        "X_train = scaler.fit_transform(X_train)\n",
        "X_test = scaler.transform(X_test)"
      ],
      "metadata": {
        "id": "fLtgSsY6A_lb"
      },
      "execution_count": null,
      "outputs": []
    },
    {
      "cell_type": "code",
      "source": [
        "# logistic regression\n",
        "model1 = LogisticRegression()\n",
        "\n",
        "# Random forest classifier\n",
        "model2 = RandomForestClassifier()"
      ],
      "metadata": {
        "id": "U48VAcunBnyJ"
      },
      "execution_count": null,
      "outputs": []
    },
    {
      "cell_type": "code",
      "source": [
        "# fit model\n",
        "model1.fit(X_train, y_train)\n",
        "model2.fit(X_train, y_train)"
      ],
      "metadata": {
        "colab": {
          "base_uri": "https://localhost:8080/",
          "height": 74
        },
        "id": "y9x4IQs5CoCH",
        "outputId": "16cdcaef-e7d1-4027-c20d-2ac93d0f3f70"
      },
      "execution_count": null,
      "outputs": [
        {
          "output_type": "execute_result",
          "data": {
            "text/plain": [
              "RandomForestClassifier()"
            ],
            "text/html": [
              "<style>#sk-container-id-1 {color: black;background-color: white;}#sk-container-id-1 pre{padding: 0;}#sk-container-id-1 div.sk-toggleable {background-color: white;}#sk-container-id-1 label.sk-toggleable__label {cursor: pointer;display: block;width: 100%;margin-bottom: 0;padding: 0.3em;box-sizing: border-box;text-align: center;}#sk-container-id-1 label.sk-toggleable__label-arrow:before {content: \"▸\";float: left;margin-right: 0.25em;color: #696969;}#sk-container-id-1 label.sk-toggleable__label-arrow:hover:before {color: black;}#sk-container-id-1 div.sk-estimator:hover label.sk-toggleable__label-arrow:before {color: black;}#sk-container-id-1 div.sk-toggleable__content {max-height: 0;max-width: 0;overflow: hidden;text-align: left;background-color: #f0f8ff;}#sk-container-id-1 div.sk-toggleable__content pre {margin: 0.2em;color: black;border-radius: 0.25em;background-color: #f0f8ff;}#sk-container-id-1 input.sk-toggleable__control:checked~div.sk-toggleable__content {max-height: 200px;max-width: 100%;overflow: auto;}#sk-container-id-1 input.sk-toggleable__control:checked~label.sk-toggleable__label-arrow:before {content: \"▾\";}#sk-container-id-1 div.sk-estimator input.sk-toggleable__control:checked~label.sk-toggleable__label {background-color: #d4ebff;}#sk-container-id-1 div.sk-label input.sk-toggleable__control:checked~label.sk-toggleable__label {background-color: #d4ebff;}#sk-container-id-1 input.sk-hidden--visually {border: 0;clip: rect(1px 1px 1px 1px);clip: rect(1px, 1px, 1px, 1px);height: 1px;margin: -1px;overflow: hidden;padding: 0;position: absolute;width: 1px;}#sk-container-id-1 div.sk-estimator {font-family: monospace;background-color: #f0f8ff;border: 1px dotted black;border-radius: 0.25em;box-sizing: border-box;margin-bottom: 0.5em;}#sk-container-id-1 div.sk-estimator:hover {background-color: #d4ebff;}#sk-container-id-1 div.sk-parallel-item::after {content: \"\";width: 100%;border-bottom: 1px solid gray;flex-grow: 1;}#sk-container-id-1 div.sk-label:hover label.sk-toggleable__label {background-color: #d4ebff;}#sk-container-id-1 div.sk-serial::before {content: \"\";position: absolute;border-left: 1px solid gray;box-sizing: border-box;top: 0;bottom: 0;left: 50%;z-index: 0;}#sk-container-id-1 div.sk-serial {display: flex;flex-direction: column;align-items: center;background-color: white;padding-right: 0.2em;padding-left: 0.2em;position: relative;}#sk-container-id-1 div.sk-item {position: relative;z-index: 1;}#sk-container-id-1 div.sk-parallel {display: flex;align-items: stretch;justify-content: center;background-color: white;position: relative;}#sk-container-id-1 div.sk-item::before, #sk-container-id-1 div.sk-parallel-item::before {content: \"\";position: absolute;border-left: 1px solid gray;box-sizing: border-box;top: 0;bottom: 0;left: 50%;z-index: -1;}#sk-container-id-1 div.sk-parallel-item {display: flex;flex-direction: column;z-index: 1;position: relative;background-color: white;}#sk-container-id-1 div.sk-parallel-item:first-child::after {align-self: flex-end;width: 50%;}#sk-container-id-1 div.sk-parallel-item:last-child::after {align-self: flex-start;width: 50%;}#sk-container-id-1 div.sk-parallel-item:only-child::after {width: 0;}#sk-container-id-1 div.sk-dashed-wrapped {border: 1px dashed gray;margin: 0 0.4em 0.5em 0.4em;box-sizing: border-box;padding-bottom: 0.4em;background-color: white;}#sk-container-id-1 div.sk-label label {font-family: monospace;font-weight: bold;display: inline-block;line-height: 1.2em;}#sk-container-id-1 div.sk-label-container {text-align: center;}#sk-container-id-1 div.sk-container {/* jupyter's `normalize.less` sets `[hidden] { display: none; }` but bootstrap.min.css set `[hidden] { display: none !important; }` so we also need the `!important` here to be able to override the default hidden behavior on the sphinx rendered scikit-learn.org. See: https://github.com/scikit-learn/scikit-learn/issues/21755 */display: inline-block !important;position: relative;}#sk-container-id-1 div.sk-text-repr-fallback {display: none;}</style><div id=\"sk-container-id-1\" class=\"sk-top-container\"><div class=\"sk-text-repr-fallback\"><pre>RandomForestClassifier()</pre><b>In a Jupyter environment, please rerun this cell to show the HTML representation or trust the notebook. <br />On GitHub, the HTML representation is unable to render, please try loading this page with nbviewer.org.</b></div><div class=\"sk-container\" hidden><div class=\"sk-item\"><div class=\"sk-estimator sk-toggleable\"><input class=\"sk-toggleable__control sk-hidden--visually\" id=\"sk-estimator-id-1\" type=\"checkbox\" checked><label for=\"sk-estimator-id-1\" class=\"sk-toggleable__label sk-toggleable__label-arrow\">RandomForestClassifier</label><div class=\"sk-toggleable__content\"><pre>RandomForestClassifier()</pre></div></div></div></div></div>"
            ]
          },
          "metadata": {},
          "execution_count": 8
        }
      ]
    },
    {
      "cell_type": "code",
      "source": [
        "y_pred = model1.predict_proba(X_test)[:5]"
      ],
      "metadata": {
        "id": "B6IdH-fyf-ja"
      },
      "execution_count": null,
      "outputs": []
    },
    {
      "cell_type": "code",
      "source": [
        "y_pred"
      ],
      "metadata": {
        "colab": {
          "base_uri": "https://localhost:8080/"
        },
        "id": "i968NBiH72MJ",
        "outputId": "b6b725ec-f0ca-4d5b-acbf-6685892f81a5"
      },
      "execution_count": null,
      "outputs": [
        {
          "output_type": "execute_result",
          "data": {
            "text/plain": [
              "array([[0.70626218, 0.29373782],\n",
              "       [0.98634623, 0.01365377],\n",
              "       [0.08841129, 0.91158871],\n",
              "       [0.82124487, 0.17875513],\n",
              "       [0.6323211 , 0.3676789 ]])"
            ]
          },
          "metadata": {},
          "execution_count": 13
        }
      ]
    },
    {
      "cell_type": "code",
      "source": [
        "temp = y_pred[:, 1]"
      ],
      "metadata": {
        "id": "HBjgNsNm7rPW"
      },
      "execution_count": null,
      "outputs": []
    },
    {
      "cell_type": "code",
      "source": [
        "threshold = 0.5\n",
        "for i in temp:\n",
        "  if i > threshold:\n",
        "    print(1)\n",
        "  else:\n",
        "    print(0)\n",
        "\n"
      ],
      "metadata": {
        "colab": {
          "base_uri": "https://localhost:8080/"
        },
        "id": "FvP0yUj-8F6P",
        "outputId": "0571656a-fa7b-42e7-8a65-7f0f275328a7"
      },
      "execution_count": null,
      "outputs": [
        {
          "output_type": "stream",
          "name": "stdout",
          "text": [
            "0\n",
            "0\n",
            "1\n",
            "0\n",
            "0\n"
          ]
        }
      ]
    },
    {
      "cell_type": "code",
      "source": [
        "temp"
      ],
      "metadata": {
        "colab": {
          "base_uri": "https://localhost:8080/"
        },
        "id": "J2RNt0eK8Fza",
        "outputId": "1543333e-4033-4c2f-b35a-f816f0383f5b"
      },
      "execution_count": null,
      "outputs": [
        {
          "output_type": "execute_result",
          "data": {
            "text/plain": [
              "array([0.29373782, 0.01365377, 0.91158871, 0.17875513, 0.3676789 ])"
            ]
          },
          "metadata": {},
          "execution_count": 16
        }
      ]
    },
    {
      "cell_type": "code",
      "source": [
        "y_test[:5]"
      ],
      "metadata": {
        "colab": {
          "base_uri": "https://localhost:8080/"
        },
        "id": "RxYyNim98FqD",
        "outputId": "8de50894-f215-4046-d419-2d3f3322c337"
      },
      "execution_count": null,
      "outputs": [
        {
          "output_type": "execute_result",
          "data": {
            "text/plain": [
              "115    0\n",
              "186    0\n",
              "366    1\n",
              "81     0\n",
              "314    0\n",
              "Name: Purchased, dtype: int64"
            ]
          },
          "metadata": {},
          "execution_count": 18
        }
      ]
    },
    {
      "cell_type": "code",
      "source": [],
      "metadata": {
        "id": "sVYdSA_Q8FmG"
      },
      "execution_count": null,
      "outputs": []
    },
    {
      "cell_type": "code",
      "source": [
        "# predict probabilities\n",
        "pred_prob1 = model1.predict_proba(X_test)\n",
        "pred_prob2 = model2.predict_proba(X_test)"
      ],
      "metadata": {
        "id": "Y5LQJgNcCpiQ"
      },
      "execution_count": null,
      "outputs": []
    },
    {
      "cell_type": "markdown",
      "source": [
        "## Computing ROC-AUC"
      ],
      "metadata": {
        "id": "IXTkORS1DPa6"
      }
    },
    {
      "cell_type": "markdown",
      "source": [],
      "metadata": {
        "id": "u5tQjLHhhK7r"
      }
    },
    {
      "cell_type": "code",
      "source": [
        "pred_prob1[:, 1]"
      ],
      "metadata": {
        "colab": {
          "base_uri": "https://localhost:8080/"
        },
        "id": "4Dk6bz_AFn8Q",
        "outputId": "4c02d0a7-5123-4de8-d2dc-bb50c1f5cf35"
      },
      "execution_count": null,
      "outputs": [
        {
          "output_type": "execute_result",
          "data": {
            "text/plain": [
              "array([0.29373782, 0.01365377, 0.91158871, 0.17875513, 0.3676789 ,\n",
              "       0.41398509, 0.00424702, 0.02954603, 0.53272434, 0.36080151,\n",
              "       0.9851859 , 0.09005033, 0.01365377, 0.22541267, 0.56420755,\n",
              "       0.05675626, 0.36269842, 0.1189793 , 0.19180466, 0.2539818 ,\n",
              "       0.0708384 , 0.04713468, 0.04190942, 0.98494702, 0.44612683,\n",
              "       0.06855271, 0.04817799, 0.32934875, 0.99595921, 0.02083808,\n",
              "       0.00628076, 0.36177169, 0.00195143, 0.52935257, 0.08982617,\n",
              "       0.16489121, 0.35122467, 0.01031405, 0.95352252, 0.86624612,\n",
              "       0.01700906, 0.36269842, 0.05311098, 0.97877029, 0.72819612,\n",
              "       0.70146981, 0.28785922, 0.58108343, 0.94815458, 0.93314874,\n",
              "       0.94358942, 0.56648219, 0.98741002, 0.00710735, 0.47262636,\n",
              "       0.96496842, 0.50034191, 0.08147684, 0.55219413, 0.06276135,\n",
              "       0.01165057, 0.03752952, 0.48578472, 0.10668493, 0.28591799,\n",
              "       0.23600868, 0.95369997, 0.00238877, 0.30622637, 0.39675887,\n",
              "       0.03861861, 0.08249289, 0.23452349, 0.00184122, 0.00401863,\n",
              "       0.66248066, 0.89240707, 0.00580246, 0.29373782, 0.27368534])"
            ]
          },
          "metadata": {},
          "execution_count": 23
        }
      ]
    },
    {
      "cell_type": "code",
      "source": [
        "from sklearn.metrics import roc_auc_score\n",
        "\n",
        "# for logistic regression\n",
        "roc_auc_score(y_test, pred_prob1[:, 1])"
      ],
      "metadata": {
        "colab": {
          "base_uri": "https://localhost:8080/"
        },
        "id": "O7RtSPgE-KQa",
        "outputId": "5afe5fc1-bfb7-4e8c-e4e1-56d83f108f9a"
      },
      "execution_count": null,
      "outputs": [
        {
          "output_type": "execute_result",
          "data": {
            "text/plain": [
              "0.9629120879120879"
            ]
          },
          "metadata": {},
          "execution_count": 22
        }
      ]
    },
    {
      "cell_type": "code",
      "source": [
        "# for random forest\n",
        "roc_auc_score(y_test, pred_prob2[:, 1])"
      ],
      "metadata": {
        "colab": {
          "base_uri": "https://localhost:8080/"
        },
        "id": "g68YgT7z-KCV",
        "outputId": "1e4b483d-ecf5-43ae-ef19-6b3440f4b2d0"
      },
      "execution_count": null,
      "outputs": [
        {
          "output_type": "execute_result",
          "data": {
            "text/plain": [
              "0.9842032967032966"
            ]
          },
          "metadata": {},
          "execution_count": 23
        }
      ]
    },
    {
      "cell_type": "code",
      "source": [],
      "metadata": {
        "id": "Y8edi9eP-J1k"
      },
      "execution_count": null,
      "outputs": []
    },
    {
      "cell_type": "code",
      "source": [],
      "metadata": {
        "id": "F5FQvmH0-Jr1"
      },
      "execution_count": null,
      "outputs": []
    },
    {
      "cell_type": "code",
      "source": [],
      "metadata": {
        "id": "m4ERmW10-JlL"
      },
      "execution_count": null,
      "outputs": []
    },
    {
      "cell_type": "code",
      "source": [],
      "metadata": {
        "id": "LFtdcGs--Jez"
      },
      "execution_count": null,
      "outputs": []
    },
    {
      "cell_type": "code",
      "source": [
        "from sklearn.metrics import roc_auc_score\n",
        "\n",
        "# auc scores\n",
        "auc_score1 = roc_auc_score(y_test, pred_prob1[:,1])\n",
        "auc_score2 = roc_auc_score(y_test, pred_prob2[:,1])\n",
        "\n",
        "print(auc_score1, auc_score2)"
      ],
      "metadata": {
        "colab": {
          "base_uri": "https://localhost:8080/"
        },
        "id": "E3z0frmyDStt",
        "outputId": "cfa12995-afd3-4891-c7b7-b94004555d2f"
      },
      "execution_count": null,
      "outputs": [
        {
          "output_type": "stream",
          "name": "stdout",
          "text": [
            "0.9629120879120879 0.9824862637362637\n"
          ]
        }
      ]
    },
    {
      "cell_type": "markdown",
      "source": [
        "Sklearn has a very potent method roc_curve() which computes the ROC for your classifier in a matter of seconds! It returns the FPR, TPR, and threshold values:"
      ],
      "metadata": {
        "id": "G4DAohDCC7m6"
      }
    },
    {
      "cell_type": "code",
      "source": [
        "from sklearn.metrics import roc_curve\n",
        "\n",
        "# roc curve for models\n",
        "fpr1, tpr1, thresh1 = roc_curve(y_test, pred_prob1[:,1], pos_label=1)\n",
        "fpr2, tpr2, thresh2 = roc_curve(y_test, pred_prob2[:,1], pos_label=1)\n",
        "\n",
        "# roc curve for tpr = fpr \n",
        "random_probs = [0 for i in range(len(y_test))]\n",
        "p_fpr, p_tpr, _ = roc_curve(y_test, random_probs, pos_label=1)"
      ],
      "metadata": {
        "id": "BnnGeyB1CxKx"
      },
      "execution_count": null,
      "outputs": []
    },
    {
      "cell_type": "code",
      "source": [
        "random = [0 for i in range(len(y_test))]"
      ],
      "metadata": {
        "id": "Ubep2QC8B4Q8"
      },
      "execution_count": null,
      "outputs": []
    },
    {
      "cell_type": "code",
      "source": [
        "thresh1"
      ],
      "metadata": {
        "colab": {
          "base_uri": "https://localhost:8080/"
        },
        "id": "aiAvb3o_EImP",
        "outputId": "a0cfa59c-b67c-43fa-df70-a3a1354d2d38"
      },
      "execution_count": null,
      "outputs": [
        {
          "output_type": "execute_result",
          "data": {
            "text/plain": [
              "array([1.99595921e+00, 9.95959212e-01, 5.64207555e-01, 5.52194133e-01,\n",
              "       5.32724341e-01, 5.29352570e-01, 5.00341910e-01, 4.72626364e-01,\n",
              "       4.46126833e-01, 4.13985094e-01, 3.96758867e-01, 3.67678897e-01,\n",
              "       3.62698424e-01, 3.51224668e-01, 3.06226367e-01, 2.93737821e-01,\n",
              "       2.34523489e-01, 2.25412668e-01, 1.70090630e-02, 1.36537711e-02,\n",
              "       1.84121601e-03])"
            ]
          },
          "metadata": {},
          "execution_count": 35
        }
      ]
    },
    {
      "cell_type": "code",
      "source": [
        "from sklearn.metrics import roc_curve\n",
        "\n",
        "roc_curve(y_test, pred_prob1[:,1], pos_label = 1)"
      ],
      "metadata": {
        "colab": {
          "base_uri": "https://localhost:8080/"
        },
        "id": "W044sLCNB4AK",
        "outputId": "6b4dad09-e5b0-4082-fcdb-dc783bc204f6"
      },
      "execution_count": null,
      "outputs": [
        {
          "output_type": "execute_result",
          "data": {
            "text/plain": [
              "(array([0.        , 0.        , 0.        , 0.01923077, 0.01923077,\n",
              "        0.03846154, 0.03846154, 0.07692308, 0.07692308, 0.09615385,\n",
              "        0.09615385, 0.11538462, 0.15384615, 0.15384615, 0.19230769,\n",
              "        0.23076923, 0.34615385, 0.34615385, 0.76923077, 0.80769231,\n",
              "        1.        ]),\n",
              " array([0.        , 0.03571429, 0.71428571, 0.71428571, 0.75      ,\n",
              "        0.75      , 0.78571429, 0.78571429, 0.82142857, 0.82142857,\n",
              "        0.85714286, 0.85714286, 0.85714286, 0.96428571, 0.96428571,\n",
              "        0.96428571, 0.96428571, 1.        , 1.        , 1.        ,\n",
              "        1.        ]),\n",
              " array([1.99595921e+00, 9.95959212e-01, 5.64207555e-01, 5.52194133e-01,\n",
              "        5.32724341e-01, 5.29352570e-01, 5.00341910e-01, 4.72626364e-01,\n",
              "        4.46126833e-01, 4.13985094e-01, 3.96758867e-01, 3.67678897e-01,\n",
              "        3.62698424e-01, 3.51224668e-01, 3.06226367e-01, 2.93737821e-01,\n",
              "        2.34523489e-01, 2.25412668e-01, 1.70090630e-02, 1.36537711e-02,\n",
              "        1.84121601e-03]))"
            ]
          },
          "metadata": {},
          "execution_count": 30
        }
      ]
    },
    {
      "cell_type": "code",
      "source": [
        "df"
      ],
      "metadata": {
        "colab": {
          "base_uri": "https://localhost:8080/",
          "height": 423
        },
        "id": "vexEX1q1_-2w",
        "outputId": "c569c9dd-cbfc-4ae6-be5e-29eb8def7c1a"
      },
      "execution_count": null,
      "outputs": [
        {
          "output_type": "execute_result",
          "data": {
            "text/plain": [
              "     Gender  Age  EstimatedSalary  Purchased\n",
              "0         0   19            19000          0\n",
              "1         0   35            20000          0\n",
              "2         1   26            43000          0\n",
              "3         1   27            57000          0\n",
              "4         0   19            76000          0\n",
              "..      ...  ...              ...        ...\n",
              "395       1   46            41000          1\n",
              "396       0   51            23000          1\n",
              "397       1   50            20000          1\n",
              "398       0   36            33000          0\n",
              "399       1   49            36000          1\n",
              "\n",
              "[400 rows x 4 columns]"
            ],
            "text/html": [
              "\n",
              "  <div id=\"df-a6392cca-8887-4f69-b5d3-06ea0cdeec70\">\n",
              "    <div class=\"colab-df-container\">\n",
              "      <div>\n",
              "<style scoped>\n",
              "    .dataframe tbody tr th:only-of-type {\n",
              "        vertical-align: middle;\n",
              "    }\n",
              "\n",
              "    .dataframe tbody tr th {\n",
              "        vertical-align: top;\n",
              "    }\n",
              "\n",
              "    .dataframe thead th {\n",
              "        text-align: right;\n",
              "    }\n",
              "</style>\n",
              "<table border=\"1\" class=\"dataframe\">\n",
              "  <thead>\n",
              "    <tr style=\"text-align: right;\">\n",
              "      <th></th>\n",
              "      <th>Gender</th>\n",
              "      <th>Age</th>\n",
              "      <th>EstimatedSalary</th>\n",
              "      <th>Purchased</th>\n",
              "    </tr>\n",
              "  </thead>\n",
              "  <tbody>\n",
              "    <tr>\n",
              "      <th>0</th>\n",
              "      <td>0</td>\n",
              "      <td>19</td>\n",
              "      <td>19000</td>\n",
              "      <td>0</td>\n",
              "    </tr>\n",
              "    <tr>\n",
              "      <th>1</th>\n",
              "      <td>0</td>\n",
              "      <td>35</td>\n",
              "      <td>20000</td>\n",
              "      <td>0</td>\n",
              "    </tr>\n",
              "    <tr>\n",
              "      <th>2</th>\n",
              "      <td>1</td>\n",
              "      <td>26</td>\n",
              "      <td>43000</td>\n",
              "      <td>0</td>\n",
              "    </tr>\n",
              "    <tr>\n",
              "      <th>3</th>\n",
              "      <td>1</td>\n",
              "      <td>27</td>\n",
              "      <td>57000</td>\n",
              "      <td>0</td>\n",
              "    </tr>\n",
              "    <tr>\n",
              "      <th>4</th>\n",
              "      <td>0</td>\n",
              "      <td>19</td>\n",
              "      <td>76000</td>\n",
              "      <td>0</td>\n",
              "    </tr>\n",
              "    <tr>\n",
              "      <th>...</th>\n",
              "      <td>...</td>\n",
              "      <td>...</td>\n",
              "      <td>...</td>\n",
              "      <td>...</td>\n",
              "    </tr>\n",
              "    <tr>\n",
              "      <th>395</th>\n",
              "      <td>1</td>\n",
              "      <td>46</td>\n",
              "      <td>41000</td>\n",
              "      <td>1</td>\n",
              "    </tr>\n",
              "    <tr>\n",
              "      <th>396</th>\n",
              "      <td>0</td>\n",
              "      <td>51</td>\n",
              "      <td>23000</td>\n",
              "      <td>1</td>\n",
              "    </tr>\n",
              "    <tr>\n",
              "      <th>397</th>\n",
              "      <td>1</td>\n",
              "      <td>50</td>\n",
              "      <td>20000</td>\n",
              "      <td>1</td>\n",
              "    </tr>\n",
              "    <tr>\n",
              "      <th>398</th>\n",
              "      <td>0</td>\n",
              "      <td>36</td>\n",
              "      <td>33000</td>\n",
              "      <td>0</td>\n",
              "    </tr>\n",
              "    <tr>\n",
              "      <th>399</th>\n",
              "      <td>1</td>\n",
              "      <td>49</td>\n",
              "      <td>36000</td>\n",
              "      <td>1</td>\n",
              "    </tr>\n",
              "  </tbody>\n",
              "</table>\n",
              "<p>400 rows × 4 columns</p>\n",
              "</div>\n",
              "      <button class=\"colab-df-convert\" onclick=\"convertToInteractive('df-a6392cca-8887-4f69-b5d3-06ea0cdeec70')\"\n",
              "              title=\"Convert this dataframe to an interactive table.\"\n",
              "              style=\"display:none;\">\n",
              "        \n",
              "  <svg xmlns=\"http://www.w3.org/2000/svg\" height=\"24px\"viewBox=\"0 0 24 24\"\n",
              "       width=\"24px\">\n",
              "    <path d=\"M0 0h24v24H0V0z\" fill=\"none\"/>\n",
              "    <path d=\"M18.56 5.44l.94 2.06.94-2.06 2.06-.94-2.06-.94-.94-2.06-.94 2.06-2.06.94zm-11 1L8.5 8.5l.94-2.06 2.06-.94-2.06-.94L8.5 2.5l-.94 2.06-2.06.94zm10 10l.94 2.06.94-2.06 2.06-.94-2.06-.94-.94-2.06-.94 2.06-2.06.94z\"/><path d=\"M17.41 7.96l-1.37-1.37c-.4-.4-.92-.59-1.43-.59-.52 0-1.04.2-1.43.59L10.3 9.45l-7.72 7.72c-.78.78-.78 2.05 0 2.83L4 21.41c.39.39.9.59 1.41.59.51 0 1.02-.2 1.41-.59l7.78-7.78 2.81-2.81c.8-.78.8-2.07 0-2.86zM5.41 20L4 18.59l7.72-7.72 1.47 1.35L5.41 20z\"/>\n",
              "  </svg>\n",
              "      </button>\n",
              "      \n",
              "  <style>\n",
              "    .colab-df-container {\n",
              "      display:flex;\n",
              "      flex-wrap:wrap;\n",
              "      gap: 12px;\n",
              "    }\n",
              "\n",
              "    .colab-df-convert {\n",
              "      background-color: #E8F0FE;\n",
              "      border: none;\n",
              "      border-radius: 50%;\n",
              "      cursor: pointer;\n",
              "      display: none;\n",
              "      fill: #1967D2;\n",
              "      height: 32px;\n",
              "      padding: 0 0 0 0;\n",
              "      width: 32px;\n",
              "    }\n",
              "\n",
              "    .colab-df-convert:hover {\n",
              "      background-color: #E2EBFA;\n",
              "      box-shadow: 0px 1px 2px rgba(60, 64, 67, 0.3), 0px 1px 3px 1px rgba(60, 64, 67, 0.15);\n",
              "      fill: #174EA6;\n",
              "    }\n",
              "\n",
              "    [theme=dark] .colab-df-convert {\n",
              "      background-color: #3B4455;\n",
              "      fill: #D2E3FC;\n",
              "    }\n",
              "\n",
              "    [theme=dark] .colab-df-convert:hover {\n",
              "      background-color: #434B5C;\n",
              "      box-shadow: 0px 1px 3px 1px rgba(0, 0, 0, 0.15);\n",
              "      filter: drop-shadow(0px 1px 2px rgba(0, 0, 0, 0.3));\n",
              "      fill: #FFFFFF;\n",
              "    }\n",
              "  </style>\n",
              "\n",
              "      <script>\n",
              "        const buttonEl =\n",
              "          document.querySelector('#df-a6392cca-8887-4f69-b5d3-06ea0cdeec70 button.colab-df-convert');\n",
              "        buttonEl.style.display =\n",
              "          google.colab.kernel.accessAllowed ? 'block' : 'none';\n",
              "\n",
              "        async function convertToInteractive(key) {\n",
              "          const element = document.querySelector('#df-a6392cca-8887-4f69-b5d3-06ea0cdeec70');\n",
              "          const dataTable =\n",
              "            await google.colab.kernel.invokeFunction('convertToInteractive',\n",
              "                                                     [key], {});\n",
              "          if (!dataTable) return;\n",
              "\n",
              "          const docLinkHtml = 'Like what you see? Visit the ' +\n",
              "            '<a target=\"_blank\" href=https://colab.research.google.com/notebooks/data_table.ipynb>data table notebook</a>'\n",
              "            + ' to learn more about interactive tables.';\n",
              "          element.innerHTML = '';\n",
              "          dataTable['output_type'] = 'display_data';\n",
              "          await google.colab.output.renderOutput(dataTable, element);\n",
              "          const docLink = document.createElement('div');\n",
              "          docLink.innerHTML = docLinkHtml;\n",
              "          element.appendChild(docLink);\n",
              "        }\n",
              "      </script>\n",
              "    </div>\n",
              "  </div>\n",
              "  "
            ]
          },
          "metadata": {},
          "execution_count": 24
        }
      ]
    },
    {
      "cell_type": "code",
      "source": [
        "df[\"Purchased\"].value_counts()"
      ],
      "metadata": {
        "colab": {
          "base_uri": "https://localhost:8080/"
        },
        "id": "L6D9pmcUBTFh",
        "outputId": "2fff10e6-e9c8-4b86-ed55-b69be5c4d671"
      },
      "execution_count": null,
      "outputs": [
        {
          "output_type": "execute_result",
          "data": {
            "text/plain": [
              "0    257\n",
              "1    143\n",
              "Name: Purchased, dtype: int64"
            ]
          },
          "metadata": {},
          "execution_count": 25
        }
      ]
    },
    {
      "cell_type": "code",
      "source": [
        "# plot roc curves\n",
        "plt.plot(fpr1, tpr1,marker = '*', linestyle='--',color='orange', label='Logistic Regression')\n",
        "plt.plot(fpr2, tpr2,marker = '*', linestyle='--',color='green', label='Random Forest')\n",
        "plt.plot(p_fpr, p_tpr, linestyle='--', color='blue')\n",
        "# title\n",
        "plt.title('ROC curve')\n",
        "# x label\n",
        "plt.xlabel('False Positive Rate')\n",
        "# y label\n",
        "plt.ylabel('True Positive rate')\n",
        "\n",
        "plt.legend(loc='best')\n",
        "# plt.savefig('ROC',dpi=300)\n",
        "plt.show()"
      ],
      "metadata": {
        "colab": {
          "base_uri": "https://localhost:8080/",
          "height": 472
        },
        "id": "xzIb5p5RFLA6",
        "outputId": "4b3820c1-e568-43fa-9f23-33900c45d37a"
      },
      "execution_count": null,
      "outputs": [
        {
          "output_type": "display_data",
          "data": {
            "text/plain": [
              "<Figure size 640x480 with 1 Axes>"
            ],
            "image/png": "[encoded data removed]"
          },
          "metadata": {}
        }
      ]
    },
    {
      "cell_type": "code",
      "source": [
        "tpr1"
      ],
      "metadata": {
        "colab": {
          "base_uri": "https://localhost:8080/"
        },
        "id": "kBZKtUPNG_NN",
        "outputId": "568d4c25-2433-4c36-d24b-9837d24057a1"
      },
      "execution_count": null,
      "outputs": [
        {
          "output_type": "execute_result",
          "data": {
            "text/plain": [
              "array([0.        , 0.03571429, 0.71428571, 0.71428571, 0.75      ,\n",
              "       0.75      , 0.78571429, 0.78571429, 0.82142857, 0.82142857,\n",
              "       0.85714286, 0.85714286, 0.85714286, 0.96428571, 0.96428571,\n",
              "       0.96428571, 0.96428571, 1.        , 1.        , 1.        ,\n",
              "       1.        ])"
            ]
          },
          "metadata": {},
          "execution_count": 38
        }
      ]
    },
    {
      "cell_type": "code",
      "source": [
        "fpr1"
      ],
      "metadata": {
        "colab": {
          "base_uri": "https://localhost:8080/"
        },
        "id": "5FHuNOGIHBGL",
        "outputId": "cf2ce036-c230-4b96-9479-df2c46db82f7"
      },
      "execution_count": null,
      "outputs": [
        {
          "output_type": "execute_result",
          "data": {
            "text/plain": [
              "array([0.        , 0.        , 0.        , 0.01923077, 0.01923077,\n",
              "       0.03846154, 0.03846154, 0.07692308, 0.07692308, 0.09615385,\n",
              "       0.09615385, 0.11538462, 0.15384615, 0.15384615, 0.19230769,\n",
              "       0.23076923, 0.34615385, 0.34615385, 0.76923077, 0.80769231,\n",
              "       1.        ])"
            ]
          },
          "metadata": {},
          "execution_count": 39
        }
      ]
    },
    {
      "cell_type": "code",
      "source": [
        "thresh1"
      ],
      "metadata": {
        "colab": {
          "base_uri": "https://localhost:8080/"
        },
        "id": "R0iDuoxqHEOT",
        "outputId": "99ff8bc5-9b6c-42be-8112-b906174de8e4"
      },
      "execution_count": null,
      "outputs": [
        {
          "output_type": "execute_result",
          "data": {
            "text/plain": [
              "array([1.99595921e+00, 9.95959212e-01, 5.64207555e-01, 5.52194133e-01,\n",
              "       5.32724341e-01, 5.29352570e-01, 5.00341910e-01, 4.72626364e-01,\n",
              "       4.46126833e-01, 4.13985094e-01, 3.96758867e-01, 3.67678897e-01,\n",
              "       3.62698424e-01, 3.51224668e-01, 3.06226367e-01, 2.93737821e-01,\n",
              "       2.34523489e-01, 2.25412668e-01, 1.70090630e-02, 1.36537711e-02,\n",
              "       1.84121601e-03])"
            ]
          },
          "metadata": {},
          "execution_count": 40
        }
      ]
    },
    {
      "cell_type": "code",
      "source": [
        "thresh1[14]"
      ],
      "metadata": {
        "colab": {
          "base_uri": "https://localhost:8080/"
        },
        "id": "AQoRIkK5F9OZ",
        "outputId": "bf2cfa95-3c1b-4503-fcf3-d99add78d1b6"
      },
      "execution_count": null,
      "outputs": [
        {
          "output_type": "execute_result",
          "data": {
            "text/plain": [
              "0.30622636702489064"
            ]
          },
          "metadata": {},
          "execution_count": 37
        }
      ]
    },
    {
      "cell_type": "markdown",
      "source": [
        "It is evident from the plot that the AUC for the Logistic Regression ROC curve is lower than that for the Random Forest classifier ROC curve. Therefore, we can say that Random Forest classifier did a better job of classifying the positive class in the dataset."
      ],
      "metadata": {
        "id": "fRp2afw0GZtQ"
      }
    },
    {
      "cell_type": "markdown",
      "source": [
        "## How to select optimal Threshold value for our model ?\n",
        "\n",
        "The Geometric Mean or G-Mean is a metric for imbalanced classification that, if optimized, will seek a balance between the sensitivity and the specificity.\n",
        "\n",
        "G-Mean = sqrt(Sensitivity * Specificity)"
      ],
      "metadata": {
        "id": "OGiPIch3MY7O"
      }
    },
    {
      "cell_type": "code",
      "source": [
        "gmeans1 = np.sqrt(tpr1 * (1-fpr1))\n",
        "gmeans2 = np.sqrt(tpr2 * (1-fpr2))"
      ],
      "metadata": {
        "id": "iaRaCzghE8p-"
      },
      "execution_count": null,
      "outputs": []
    },
    {
      "cell_type": "code",
      "source": [
        "tpr1"
      ],
      "metadata": {
        "colab": {
          "base_uri": "https://localhost:8080/"
        },
        "id": "ds5bgLtakn-p",
        "outputId": "0ab0b5c5-36b6-45ca-cd4f-95a05cec43e7"
      },
      "execution_count": null,
      "outputs": [
        {
          "output_type": "execute_result",
          "data": {
            "text/plain": [
              "array([0.        , 0.03571429, 0.71428571, 0.71428571, 0.75      ,\n",
              "       0.75      , 0.78571429, 0.78571429, 0.82142857, 0.82142857,\n",
              "       0.85714286, 0.85714286, 0.85714286, 0.96428571, 0.96428571,\n",
              "       0.96428571, 0.96428571, 1.        , 1.        , 1.        ,\n",
              "       1.        ])"
            ]
          },
          "metadata": {},
          "execution_count": 42
        }
      ]
    },
    {
      "cell_type": "code",
      "source": [
        "thresh1"
      ],
      "metadata": {
        "colab": {
          "base_uri": "https://localhost:8080/"
        },
        "id": "luh-Dm8yk_Jg",
        "outputId": "c1869b9a-c0dc-447e-baa2-22942c8606dd"
      },
      "execution_count": null,
      "outputs": [
        {
          "output_type": "execute_result",
          "data": {
            "text/plain": [
              "array([1.99595921e+00, 9.95959212e-01, 5.64207555e-01, 5.52194133e-01,\n",
              "       5.32724341e-01, 5.29352570e-01, 5.00341910e-01, 4.72626364e-01,\n",
              "       4.46126833e-01, 4.13985094e-01, 3.96758867e-01, 3.67678897e-01,\n",
              "       3.62698424e-01, 3.51224668e-01, 3.06226367e-01, 2.93737821e-01,\n",
              "       2.34523489e-01, 2.25412668e-01, 1.70090630e-02, 1.36537711e-02,\n",
              "       1.84121601e-03])"
            ]
          },
          "metadata": {},
          "execution_count": 43
        }
      ]
    },
    {
      "cell_type": "code",
      "source": [
        "gmeans1"
      ],
      "metadata": {
        "colab": {
          "base_uri": "https://localhost:8080/"
        },
        "id": "ss2q-rsLI7Mx",
        "outputId": "f8eee5f6-8a4d-457d-a76d-c98dd61cdc56"
      },
      "execution_count": null,
      "outputs": [
        {
          "output_type": "execute_result",
          "data": {
            "text/plain": [
              "array([0.        , 0.18898224, 0.84515425, 0.83698832, 0.85765781,\n",
              "       0.84920778, 0.86919187, 0.85163063, 0.87077078, 0.86165251,\n",
              "       0.8801848 , 0.87077078, 0.85163063, 0.90329069, 0.88252261,\n",
              "       0.86125388, 0.79403684, 0.80860754, 0.48038446, 0.43852901,\n",
              "       0.        ])"
            ]
          },
          "metadata": {},
          "execution_count": 44
        }
      ]
    },
    {
      "cell_type": "code",
      "source": [
        "np.argmax(gmeans1)"
      ],
      "metadata": {
        "colab": {
          "base_uri": "https://localhost:8080/"
        },
        "id": "4A6BdybAK61m",
        "outputId": "dd16b4ff-0944-4d02-c25b-bdddd582bdb3"
      },
      "execution_count": null,
      "outputs": [
        {
          "output_type": "execute_result",
          "data": {
            "text/plain": [
              "13"
            ]
          },
          "metadata": {},
          "execution_count": 45
        }
      ]
    },
    {
      "cell_type": "code",
      "source": [
        "thresh1[13]"
      ],
      "metadata": {
        "colab": {
          "base_uri": "https://localhost:8080/"
        },
        "id": "3eq5ISuSLHYe",
        "outputId": "f8b2f0a1-58da-4b1f-e42e-3c07b29b6dac"
      },
      "execution_count": null,
      "outputs": [
        {
          "output_type": "execute_result",
          "data": {
            "text/plain": [
              "0.35122466777570754"
            ]
          },
          "metadata": {},
          "execution_count": 46
        }
      ]
    },
    {
      "cell_type": "code",
      "source": [
        "np.argmax(gmeans1)"
      ],
      "metadata": {
        "colab": {
          "base_uri": "https://localhost:8080/"
        },
        "id": "TRYpJH3KlGPl",
        "outputId": "9b90e8d6-f343-4f53-c08c-f11e294b65a4"
      },
      "execution_count": null,
      "outputs": [
        {
          "output_type": "execute_result",
          "data": {
            "text/plain": [
              "13"
            ]
          },
          "metadata": {},
          "execution_count": 53
        }
      ]
    },
    {
      "cell_type": "code",
      "source": [
        "ix1 = np.argmax(gmeans1)\n",
        "ix2 = np.argmax(gmeans2)"
      ],
      "metadata": {
        "id": "ctf0pmwdJCUo"
      },
      "execution_count": null,
      "outputs": []
    },
    {
      "cell_type": "code",
      "source": [
        "thresh1[ix1]"
      ],
      "metadata": {
        "colab": {
          "base_uri": "https://localhost:8080/"
        },
        "id": "P5uO802ylZUf",
        "outputId": "1b59745f-8753-4ee1-a0c8-7aab12821a0a"
      },
      "execution_count": null,
      "outputs": [
        {
          "output_type": "execute_result",
          "data": {
            "text/plain": [
              "0.35122466777570754"
            ]
          },
          "metadata": {},
          "execution_count": 48
        }
      ]
    },
    {
      "cell_type": "code",
      "source": [
        "print(f'For model1 Best Threshold= {round(thresh1[ix1], 6)}, G-Mean= {round(gmeans1[ix1], 6)}')"
      ],
      "metadata": {
        "colab": {
          "base_uri": "https://localhost:8080/"
        },
        "id": "UuuGJfZoNVQz",
        "outputId": "bf5e3a37-ea87-4f78-c75d-00e512931707"
      },
      "execution_count": null,
      "outputs": [
        {
          "output_type": "stream",
          "name": "stdout",
          "text": [
            "For model1 Best Threshold= 0.351225, G-Mean= 0.903291\n"
          ]
        }
      ]
    },
    {
      "cell_type": "code",
      "source": [
        "print('For model1 Best Threshold=%f, G-Mean=%.3f' % (thresh1[ix1], gmeans1[ix1]))"
      ],
      "metadata": {
        "colab": {
          "base_uri": "https://localhost:8080/"
        },
        "id": "78MHwoKeJW8D",
        "outputId": "a191e66e-6ab5-4766-aece-b7790daff1d6"
      },
      "execution_count": null,
      "outputs": [
        {
          "output_type": "stream",
          "name": "stdout",
          "text": [
            "For model1 Best Threshold=0.351225, G-Mean=0.903\n"
          ]
        }
      ]
    },
    {
      "cell_type": "code",
      "source": [
        "print('For model2 Best Threshold=%f, G-Mean=%.3f' % (thresh2[ix2], gmeans2[ix2]))"
      ],
      "metadata": {
        "colab": {
          "base_uri": "https://localhost:8080/"
        },
        "id": "zbMe6jBvJmsv",
        "outputId": "bcf06725-fcfa-4a93-ec63-b398c11c08bb"
      },
      "execution_count": null,
      "outputs": [
        {
          "output_type": "stream",
          "name": "stdout",
          "text": [
            "For model2 Best Threshold=0.500000, G-Mean=0.954\n"
          ]
        }
      ]
    },
    {
      "cell_type": "code",
      "source": [
        "# plot roc curves\n",
        "plt.plot(fpr1, tpr1,marker = '*', linestyle='--',color='orange', label='Logistic Regression')\n",
        "plt.plot(fpr2, tpr2,marker = '*', linestyle='--',color='green', label='Random Forest')\n",
        "plt.plot(p_fpr, p_tpr, linestyle='--', color='blue')\n",
        "plt.scatter(fpr1[ix1], tpr1[ix1], marker='o', color='black', label='Best')\n",
        "plt.scatter(fpr2[ix2], tpr2[ix2], marker='o', color='black', label='Best')\n",
        "# title\n",
        "plt.title('ROC curve')\n",
        "# x label\n",
        "plt.xlabel('False Positive Rate')\n",
        "# y label\n",
        "plt.ylabel('True Positive rate')\n",
        "\n",
        "plt.legend(loc='best')\n",
        "\n",
        "plt.show()"
      ],
      "metadata": {
        "colab": {
          "base_uri": "https://localhost:8080/",
          "height": 472
        },
        "id": "1xeQDR1oJy6v",
        "outputId": "9949396a-7437-4d7f-e832-ae54f232b52b"
      },
      "execution_count": null,
      "outputs": [
        {
          "output_type": "display_data",
          "data": {
            "text/plain": [
              "<Figure size 640x480 with 1 Axes>"
            ],
            "image/png": "[encoded data removed]"
          },
          "metadata": {}
        }
      ]
    },
    {
      "cell_type": "markdown",
      "source": [
        "based on above threshold values let's create confusion metrics for both models"
      ],
      "metadata": {
        "id": "KPd1I_LfK-v-"
      }
    },
    {
      "cell_type": "code",
      "source": [
        "def custom_predict(model,X_test, threshold):\n",
        "    probs = model.predict_proba(X_test)\n",
        "    return (probs[:, 1] > threshold).astype(int)"
      ],
      "metadata": {
        "id": "E4YN70Z_K-ZV"
      },
      "execution_count": null,
      "outputs": []
    },
    {
      "cell_type": "code",
      "source": [
        "int(0.4 < 0.5)"
      ],
      "metadata": {
        "colab": {
          "base_uri": "https://localhost:8080/"
        },
        "id": "h5jkBXmxm4b-",
        "outputId": "c4e198d3-ac93-4659-9b46-20ba45dbcc2f"
      },
      "execution_count": null,
      "outputs": [
        {
          "output_type": "execute_result",
          "data": {
            "text/plain": [
              "1"
            ]
          },
          "metadata": {},
          "execution_count": 62
        }
      ]
    },
    {
      "cell_type": "code",
      "source": [
        "y_pred_1 = custom_predict(model1, X_test, 0.351225)\n",
        "y_pred_2 = custom_predict(model2, X_test, 0.5)"
      ],
      "metadata": {
        "id": "Qg9ejHTVLUyY"
      },
      "execution_count": null,
      "outputs": []
    },
    {
      "cell_type": "code",
      "source": [
        "confusion(y_test,y_pred_1)"
      ],
      "metadata": {
        "colab": {
          "base_uri": "https://localhost:8080/",
          "height": 400
        },
        "id": "vqz4XLSWL5QM",
        "outputId": "9fc637a1-4ce1-42a0-9446-0a09ec311699"
      },
      "execution_count": null,
      "outputs": [
        {
          "output_type": "display_data",
          "data": {
            "text/plain": [
              "<Figure size 700x400 with 2 Axes>"
            ],
            "image/png": "[encoded data removed]"
          },
          "metadata": {}
        }
      ]
    },
    {
      "cell_type": "code",
      "source": [
        "confusion(y_test,y_pred_2)"
      ],
      "metadata": {
        "colab": {
          "base_uri": "https://localhost:8080/",
          "height": 400
        },
        "id": "WcXHv3HOMFum",
        "outputId": "cad0457a-4af0-4963-e929-e6612cf5230e"
      },
      "execution_count": null,
      "outputs": [
        {
          "output_type": "display_data",
          "data": {
            "text/plain": [
              "<Figure size 700x400 with 2 Axes>"
            ],
            "image/png": "[encoded data removed]"
          },
          "metadata": {}
        }
      ]
    },
    {
      "cell_type": "code",
      "source": [
        "y_pred_1 = custom_predict(model1, X_test, 0.5)\n",
        "y_pred_2 = custom_predict(model2, X_test, 0.5)"
      ],
      "metadata": {
        "id": "LQQbqPXhPsyh"
      },
      "execution_count": null,
      "outputs": []
    },
    {
      "cell_type": "code",
      "source": [
        "confusion(y_test,y_pred_1)"
      ],
      "metadata": {
        "colab": {
          "base_uri": "https://localhost:8080/",
          "height": 293
        },
        "id": "G0jeQUV-Pxmg",
        "outputId": "483b429c-4e2b-4320-a700-e39a5d18cff6"
      },
      "execution_count": null,
      "outputs": [
        {
          "output_type": "display_data",
          "data": {
            "text/plain": [
              "<Figure size 504x288 with 2 Axes>"
            ],
            "image/png": "[encoded data removed]"
          },
          "metadata": {}
        }
      ]
    },
    {
      "cell_type": "code",
      "source": [
        "confusion(y_test,y_pred_2)"
      ],
      "metadata": {
        "colab": {
          "base_uri": "https://localhost:8080/",
          "height": 293
        },
        "id": "2-PB4qC-P3dN",
        "outputId": "6706aac1-a25a-42bd-a8e4-f8c305699491"
      },
      "execution_count": null,
      "outputs": [
        {
          "output_type": "display_data",
          "data": {
            "text/plain": [
              "<Figure size 504x288 with 2 Axes>"
            ],
            "image/png": "[encoded data removed]"
          },
          "metadata": {}
        }
      ]
    },
    {
      "cell_type": "markdown",
      "source": [],
      "metadata": {
        "id": "t7uMBCQSE8X_"
      }
    },
    {
      "cell_type": "markdown",
      "source": [
        "## Assignment\n",
        "\n",
        "dataset link - https://www.kaggle.com/datasets/uciml/iris\n",
        "\n",
        "Metrics to be used F1 score\n",
        "\n",
        "<img width = 700 src = https://www.embedded-robotics.com/wp-content/uploads/2022/01/Iris-Dataset-Classification.png />"
      ],
      "metadata": {
        "id": "HKiC9WzwG0CD"
      }
    },
    {
      "cell_type": "code",
      "source": [],
      "metadata": {
        "id": "Pj-fN_lhG_sJ"
      },
      "execution_count": null,
      "outputs": []
    }
  ]
}