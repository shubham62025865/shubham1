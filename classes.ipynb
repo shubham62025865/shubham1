{
  "nbformat": 4,
  "nbformat_minor": 0,
  "metadata": {
    "colab": {
      "provenance": [],
      "include_colab_link": true
    },
    "kernelspec": {
      "name": "python3",
      "display_name": "Python 3"
    },
    "language_info": {
      "name": "python"
    }
  },
  "cells": [
    {
      "cell_type": "markdown",
      "metadata": {
        "id": "view-in-github",
        "colab_type": "text"
      },
      "source": [
        "<a href=\"https://colab.research.google.com/github/shubham62025865/shubham1/blob/main/classes.ipynb\" target=\"_parent\"><img src=\"https://colab.research.google.com/assets/colab-badge.svg\" alt=\"Open In Colab\"/></a>"
      ]
    },
    {
      "cell_type": "code",
      "source": [
        "var_1\n",
        "varOne\n",
        "VarOne"
      ],
      "metadata": {
        "id": "ez10ZB6kPTjg"
      },
      "execution_count": null,
      "outputs": []
    },
    {
      "cell_type": "code",
      "execution_count": null,
      "metadata": {
        "id": "HId5wiAUPEiA"
      },
      "outputs": [],
      "source": [
        "class Employee():\n",
        "  def __init__(self):\n",
        "    self.name = None\n",
        "    self.age = None\n",
        "    self.salary = 800\n",
        "    self.department = \"software developer\"\n",
        "\n",
        "\n",
        "  def salary(slef):\n",
        "    \n",
        "  \n"
      ]
    },
    {
      "cell_type": "code",
      "source": [
        "adtiya.salary()"
      ],
      "metadata": {
        "id": "C9m49sVpWTnn"
      },
      "execution_count": null,
      "outputs": []
    },
    {
      "cell_type": "code",
      "source": [
        "aditya = Employee()"
      ],
      "metadata": {
        "id": "7lieJY5sT5B_"
      },
      "execution_count": null,
      "outputs": []
    },
    {
      "cell_type": "code",
      "source": [
        "aditya.name = \"aditya\"\n",
        "aditya.age = 23\n",
        "aditya.salary = 50000"
      ],
      "metadata": {
        "id": "Dn48IBW9UE3Z"
      },
      "execution_count": null,
      "outputs": []
    },
    {
      "cell_type": "code",
      "source": [
        "aditya.department = \"Data scientist\""
      ],
      "metadata": {
        "id": "Vp3CxgttU7Iu"
      },
      "execution_count": null,
      "outputs": []
    },
    {
      "cell_type": "code",
      "source": [
        "aditya.department"
      ],
      "metadata": {
        "colab": {
          "base_uri": "https://localhost:8080/",
          "height": 35
        },
        "id": "DMEKRYjxVPpr",
        "outputId": "004b827c-1fb6-435c-c5ff-01ae4c83d804"
      },
      "execution_count": null,
      "outputs": [
        {
          "output_type": "execute_result",
          "data": {
            "text/plain": [
              "'Data scientist'"
            ],
            "application/vnd.google.colaboratory.intrinsic+json": {
              "type": "string"
            }
          },
          "metadata": {},
          "execution_count": 22
        }
      ]
    },
    {
      "cell_type": "code",
      "source": [
        "aditya.salary"
      ],
      "metadata": {
        "colab": {
          "base_uri": "https://localhost:8080/"
        },
        "id": "qRLGyxGzUVrO",
        "outputId": "1516c9b1-301e-42d1-e70e-19cb347527e2"
      },
      "execution_count": null,
      "outputs": [
        {
          "output_type": "execute_result",
          "data": {
            "text/plain": [
              "50000"
            ]
          },
          "metadata": {},
          "execution_count": 18
        }
      ]
    },
    {
      "cell_type": "code",
      "source": [
        "himank = Employee()"
      ],
      "metadata": {
        "id": "SZCN_ebnU3X4"
      },
      "execution_count": null,
      "outputs": []
    },
    {
      "cell_type": "code",
      "source": [
        "himank.salary"
      ],
      "metadata": {
        "colab": {
          "base_uri": "https://localhost:8080/"
        },
        "id": "93pWn9gBVEGt",
        "outputId": "a43180a3-6e17-4059-f746-63e8dd3a45ea"
      },
      "execution_count": null,
      "outputs": [
        {
          "output_type": "execute_result",
          "data": {
            "text/plain": [
              "800"
            ]
          },
          "metadata": {},
          "execution_count": 20
        }
      ]
    },
    {
      "cell_type": "code",
      "source": [
        "kajal = Employee()"
      ],
      "metadata": {
        "id": "ZqQHe_IURv-K"
      },
      "execution_count": null,
      "outputs": []
    },
    {
      "cell_type": "code",
      "source": [
        "kajal.company"
      ],
      "metadata": {
        "colab": {
          "base_uri": "https://localhost:8080/",
          "height": 35
        },
        "id": "_sn_WBeDR5Jf",
        "outputId": "993acd94-67f4-482b-b9cd-f3e8ecc8ee18"
      },
      "execution_count": null,
      "outputs": [
        {
          "output_type": "execute_result",
          "data": {
            "text/plain": [
              "'Google'"
            ],
            "application/vnd.google.colaboratory.intrinsic+json": {
              "type": "string"
            }
          },
          "metadata": {},
          "execution_count": 3
        }
      ]
    },
    {
      "cell_type": "code",
      "source": [
        "Employee.company = \"Microsoft\""
      ],
      "metadata": {
        "id": "sGZLlnbMR__G"
      },
      "execution_count": null,
      "outputs": []
    },
    {
      "cell_type": "code",
      "source": [
        "Employee.company"
      ],
      "metadata": {
        "colab": {
          "base_uri": "https://localhost:8080/",
          "height": 35
        },
        "id": "tdtaMKZRSQYd",
        "outputId": "c3faa8a8-ff88-409e-de53-ba083dd24767"
      },
      "execution_count": null,
      "outputs": [
        {
          "output_type": "execute_result",
          "data": {
            "text/plain": [
              "'Microsoft'"
            ],
            "application/vnd.google.colaboratory.intrinsic+json": {
              "type": "string"
            }
          },
          "metadata": {},
          "execution_count": 5
        }
      ]
    },
    {
      "cell_type": "code",
      "source": [
        "kajal.company"
      ],
      "metadata": {
        "colab": {
          "base_uri": "https://localhost:8080/",
          "height": 35
        },
        "id": "t_2gyyixSTjc",
        "outputId": "56ce3571-3432-4a78-e587-2c88b855ac1d"
      },
      "execution_count": null,
      "outputs": [
        {
          "output_type": "execute_result",
          "data": {
            "text/plain": [
              "'Microsoft'"
            ],
            "application/vnd.google.colaboratory.intrinsic+json": {
              "type": "string"
            }
          },
          "metadata": {},
          "execution_count": 6
        }
      ]
    },
    {
      "cell_type": "code",
      "source": [],
      "metadata": {
        "id": "DELtMcv6SZtG"
      },
      "execution_count": null,
      "outputs": []
    },
    {
      "cell_type": "code",
      "source": [
        "l1= [1,2,3,4]"
      ],
      "metadata": {
        "id": "nZ2T16LiSjGM"
      },
      "execution_count": null,
      "outputs": []
    },
    {
      "cell_type": "code",
      "source": [
        "l1.pop()"
      ],
      "metadata": {
        "id": "Bl0kyT5zSlRb"
      },
      "execution_count": null,
      "outputs": []
    },
    {
      "cell_type": "markdown",
      "source": [
        "## question-->\n",
        "write a calculator class capable of doing square, cube and square root"
      ],
      "metadata": {
        "id": "nu7Yls1Hcgxg"
      }
    },
    {
      "cell_type": "code",
      "source": [
        "class Calculator():\n",
        "  def __init__(self,num):\n",
        "    self.number = num\n",
        "\n",
        "  def square(self):\n",
        "    result = self.number* self.number\n",
        "    return result\n",
        "\n",
        "  def cube(self):\n",
        "    result = self.square() * self.number\n",
        "    return result\n",
        "  \n",
        "  def sq_root(self):\n",
        "    result = (self.number)**0.5\n",
        "    return result\n",
        "    \n"
      ],
      "metadata": {
        "id": "Cw0rE2NUcqMq"
      },
      "execution_count": null,
      "outputs": []
    },
    {
      "cell_type": "code",
      "source": [
        "(9)**0.5"
      ],
      "metadata": {
        "colab": {
          "base_uri": "https://localhost:8080/"
        },
        "id": "uYsKi3pFgAR4",
        "outputId": "a54ba67d-fe86-446c-b0cb-856246da3fe7"
      },
      "execution_count": null,
      "outputs": [
        {
          "output_type": "execute_result",
          "data": {
            "text/plain": [
              "3.0"
            ]
          },
          "metadata": {},
          "execution_count": 29
        }
      ]
    },
    {
      "cell_type": "code",
      "source": [
        "num = Calculator(4)"
      ],
      "metadata": {
        "id": "L6y-ABvSeT6S"
      },
      "execution_count": null,
      "outputs": []
    },
    {
      "cell_type": "code",
      "source": [
        "num.number"
      ],
      "metadata": {
        "colab": {
          "base_uri": "https://localhost:8080/"
        },
        "id": "wMednhP3edp3",
        "outputId": "4e6ff4ca-8dfc-4a8f-af3a-f554d9cd0b45"
      },
      "execution_count": null,
      "outputs": [
        {
          "output_type": "execute_result",
          "data": {
            "text/plain": [
              "4"
            ]
          },
          "metadata": {},
          "execution_count": 25
        }
      ]
    },
    {
      "cell_type": "code",
      "source": [
        "num.square()"
      ],
      "metadata": {
        "colab": {
          "base_uri": "https://localhost:8080/"
        },
        "id": "ALdg5GGNefw3",
        "outputId": "c659f648-9927-4f6c-92dd-68dcc0762b35"
      },
      "execution_count": null,
      "outputs": [
        {
          "output_type": "execute_result",
          "data": {
            "text/plain": [
              "16"
            ]
          },
          "metadata": {},
          "execution_count": 26
        }
      ]
    },
    {
      "cell_type": "code",
      "source": [
        "num.cube()"
      ],
      "metadata": {
        "colab": {
          "base_uri": "https://localhost:8080/"
        },
        "id": "Biw4C1pYevWw",
        "outputId": "98241d2b-0b26-4028-a476-c03e963f9984"
      },
      "execution_count": null,
      "outputs": [
        {
          "output_type": "execute_result",
          "data": {
            "text/plain": [
              "64"
            ]
          },
          "metadata": {},
          "execution_count": 27
        }
      ]
    },
    {
      "cell_type": "code",
      "source": [
        "num.sq_root()"
      ],
      "metadata": {
        "colab": {
          "base_uri": "https://localhost:8080/"
        },
        "id": "cJajlimXeyzf",
        "outputId": "7cd2f330-b68e-466c-ad07-f08b0eb35ac3"
      },
      "execution_count": null,
      "outputs": [
        {
          "output_type": "execute_result",
          "data": {
            "text/plain": [
              "2.0"
            ]
          },
          "metadata": {},
          "execution_count": 28
        }
      ]
    },
    {
      "cell_type": "code",
      "source": [],
      "metadata": {
        "id": "JHp4HHMWe-O3"
      },
      "execution_count": null,
      "outputs": []
    }
  ]
}